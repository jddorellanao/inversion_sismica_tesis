{
 "cells": [
  {
   "attachments": {},
   "cell_type": "markdown",
   "metadata": {},
   "source": [
    "# FWI modelo personalizado"
   ]
  },
  {
   "cell_type": "code",
   "execution_count": 1,
   "metadata": {},
   "outputs": [],
   "source": [
    "using PyPlot, JLD, SegyIO, JUDI, SlimOptim, Statistics, Random, LinearAlgebra, ImageFiltering"
   ]
  },
  {
   "cell_type": "code",
   "execution_count": 2,
   "metadata": {},
   "outputs": [],
   "source": [
    "M = load(\"model_custom.jld\");"
   ]
  },
  {
   "cell_type": "code",
   "execution_count": 3,
   "metadata": {},
   "outputs": [],
   "source": [
    "#model = Model(M[\"n\"], M[\"d\"], M[\"o\"], M[\"m\"])\n",
    "model0 = Model(M[\"n\"], M[\"d\"], M[\"o\"], M[\"m0\"])\n",
    "dm = vec(M[\"dm\"]);"
   ]
  },
  {
   "cell_type": "code",
   "execution_count": 4,
   "metadata": {},
   "outputs": [],
   "source": [
    "vmin = ones(Float32,model0.n) .* 1.5f0\n",
    "vmax = ones(Float32,model0.n) .* 3.0f0;\n",
    "mmin = vec((1f0 ./ vmax).^2)\n",
    "mmax = vec((1f0 ./ vmin).^2);"
   ]
  },
  {
   "cell_type": "code",
   "execution_count": 5,
   "metadata": {},
   "outputs": [
    {
     "name": "stderr",
     "output_type": "stream",
     "text": [
      "┌ Warning: Fixed length trace flag set in stream: IOBuffer(data=UInt8[...], readable=true, writable=false, seekable=true, append=false, size=4763124, maxsize=Inf, ptr=3601, mark=-1)\n",
      "└ @ SegyIO /home/geouser/.julia/packages/SegyIO/aQwou/src/read/read_file.jl:36\n"
     ]
    }
   ],
   "source": [
    "block = segy_read(\"model_custom_low_f.segy\")\n",
    "d_obs = judiVector(block);"
   ]
  },
  {
   "cell_type": "code",
   "execution_count": 6,
   "metadata": {},
   "outputs": [
    {
     "name": "stdout",
     "output_type": "stream",
     "text": [
      "judiVector{Float32, Matrix{Float32}} with 21 sources\n"
     ]
    }
   ],
   "source": [
    "# Set up wavelet\n",
    "srcGeometry = Geometry(block; key=\"source\")\t# read source position geometry\n",
    "wavelet = ricker_wavelet(srcGeometry.t[1], srcGeometry.dt[1], 0.004f0)\t# 4 Hz wavelet\n",
    "q = judiVector(srcGeometry, wavelet)"
   ]
  },
  {
   "cell_type": "code",
   "execution_count": 7,
   "metadata": {},
   "outputs": [
    {
     "name": "stdout",
     "output_type": "stream",
     "text": [
      "JUDI forward{Float32} propagator (src * rec * time) -> (src * rec * time)\n"
     ]
    }
   ],
   "source": [
    "F0 = judiModeling(deepcopy(model0), srcGeometry, d_obs.geometry)"
   ]
  },
  {
   "cell_type": "code",
   "execution_count": 8,
   "metadata": {},
   "outputs": [],
   "source": [
    "# Optimization parameters\n",
    "niterations = parse(Int, get(ENV, \"NITER\", \"30\"))\n",
    "batchsize = 16\n",
    "fhistory_SGD = zeros(Float32, niterations);\n",
    "m0_values = zeros(length(model0.m), niterations);"
   ]
  },
  {
   "cell_type": "code",
   "execution_count": 9,
   "metadata": {},
   "outputs": [],
   "source": [
    "# Projection operator for bound constraints\n",
    "proj(x) = reshape(median([vec(mmin) vec(x) vec(mmax)]; dims=2),model0.n)\n",
    "ls = BackTracking(order=3, iterations=10, );"
   ]
  },
  {
   "cell_type": "code",
   "execution_count": 10,
   "metadata": {},
   "outputs": [
    {
     "name": "stdout",
     "output_type": "stream",
     "text": [
      "FWI iteration no: 1; function value: 62348.832\n",
      "(α, misfit) = "
     ]
    },
    {
     "name": "stderr",
     "output_type": "stream",
     "text": [
      "Building forward operator\n",
      "/home/geouser/.local/lib/python3.9/site-packages/numpy/core/getlimits.py:518: UserWarning: The value of the smallest subnormal for <class 'numpy.float32'> type is zero.\n",
      "  setattr(self, word, getattr(machar, word).flat[0])\n",
      "/home/geouser/.local/lib/python3.9/site-packages/numpy/core/getlimits.py:89: UserWarning: The value of the smallest subnormal for <class 'numpy.float32'> type is zero.\n",
      "  return self._float_to_str(self.smallest_subnormal)\n",
      "Operator `forward` ran in 0.02 s\n",
      "Building adjoint born operator\n",
      "Operator `gradient` ran in 0.02 s\n",
      "Operator `forward` ran in 0.02 s\n",
      "Operator `gradient` ran in 0.02 s\n",
      "Operator `forward` ran in 0.02 s\n",
      "Operator `gradient` ran in 0.02 s\n",
      "Operator `forward` ran in 0.02 s\n",
      "Operator `gradient` ran in 0.02 s\n",
      "Operator `forward` ran in 0.02 s\n",
      "Operator `gradient` ran in 0.02 s\n",
      "Operator `forward` ran in 0.02 s\n",
      "Operator `gradient` ran in 0.02 s\n",
      "Operator `forward` ran in 0.02 s\n",
      "Operator `gradient` ran in 0.02 s\n",
      "Operator `forward` ran in 0.02 s\n",
      "Operator `gradient` ran in 0.02 s\n",
      "Operator `forward` ran in 0.02 s\n",
      "Operator `gradient` ran in 0.02 s\n",
      "Operator `forward` ran in 0.02 s\n",
      "Operator `gradient` ran in 0.02 s\n",
      "Operator `forward` ran in 0.02 s\n",
      "Operator `gradient` ran in 0.02 s\n",
      "Operator `forward` ran in 0.02 s\n",
      "Operator `gradient` ran in 0.02 s\n",
      "Operator `forward` ran in 0.02 s\n",
      "Operator `gradient` ran in 0.02 s\n",
      "Operator `forward` ran in 0.02 s\n",
      "Operator `gradient` ran in 0.02 s\n",
      "Operator `forward` ran in 0.02 s\n",
      "Operator `gradient` ran in 0.02 s\n",
      "Operator `forward` ran in 0.02 s\n",
      "Operator `gradient` ran in 0.02 s\n"
     ]
    },
    {
     "name": "stdout",
     "output_type": "stream",
     "text": [
      "(0.1f0, 102431.6875)\n"
     ]
    },
    {
     "name": "stderr",
     "output_type": "stream",
     "text": [
      "Building forward operator\n",
      "Operator `forward` ran in 0.01 s\n",
      "Operator `forward` ran in 0.01 s\n",
      "Operator `forward` ran in 0.01 s\n",
      "Operator `forward` ran in 0.01 s\n",
      "Operator `forward` ran in 0.01 s\n",
      "Operator `forward` ran in 0.01 s\n",
      "Operator `forward` ran in 0.01 s\n",
      "Operator `forward` ran in 0.01 s\n",
      "Operator `forward` ran in 0.01 s\n",
      "Operator `forward` ran in 0.02 s\n",
      "Operator `forward` ran in 0.02 s\n",
      "Operator `forward` ran in 0.01 s\n",
      "Operator `forward` ran in 0.01 s\n",
      "Operator `forward` ran in 0.01 s\n",
      "Operator `forward` ran in 0.02 s\n",
      "Operator `forward` ran in 0.01 s\n"
     ]
    },
    {
     "name": "stdout",
     "output_type": "stream",
     "text": [
      "(α, misfit) = (0.04141757495969538, 24396.12890625)\n",
      "FWI iteration no: "
     ]
    },
    {
     "name": "stderr",
     "output_type": "stream",
     "text": [
      "Operator `forward` ran in 0.01 s\n",
      "Operator `forward` ran in 0.01 s\n",
      "Operator `forward` ran in 0.01 s\n",
      "Operator `forward` ran in 0.01 s\n",
      "Operator `forward` ran in 0.01 s\n",
      "Operator `forward` ran in 0.01 s\n",
      "Operator `forward` ran in 0.01 s\n",
      "Operator `forward` ran in 0.02 s\n",
      "Operator `forward` ran in 0.01 s\n",
      "Operator `forward` ran in 0.01 s\n",
      "Operator `forward` ran in 0.01 s\n",
      "Operator `forward` ran in 0.01 s\n",
      "Operator `forward` ran in 0.01 s\n",
      "Operator `forward` ran in 0.01 s\n",
      "Operator `forward` ran in 0.01 s\n",
      "Operator `forward` ran in 0.01 s\n"
     ]
    },
    {
     "name": "stdout",
     "output_type": "stream",
     "text": [
      "2; function value: 24921.719\n"
     ]
    },
    {
     "name": "stderr",
     "output_type": "stream",
     "text": [
      "Operator `forward` ran in 0.02 s\n",
      "Operator `gradient` ran in 0.02 s\n",
      "Operator `forward` ran in 0.02 s\n",
      "Operator `gradient` ran in 0.02 s\n",
      "Operator `forward` ran in 0.02 s\n",
      "Operator `gradient` ran in 0.02 s\n",
      "Operator `forward` ran in 0.02 s\n",
      "Operator `gradient` ran in 0.02 s\n",
      "Operator `forward` ran in 0.02 s\n",
      "Operator `gradient` ran in 0.02 s\n",
      "Operator `forward` ran in 0.02 s\n",
      "Operator `gradient` ran in 0.02 s\n",
      "Operator `forward` ran in 0.02 s\n",
      "Operator `gradient` ran in 0.02 s\n",
      "Operator `forward` ran in 0.02 s\n",
      "Operator `gradient` ran in 0.02 s\n",
      "Operator `forward` ran in 0.02 s\n",
      "Operator `gradient` ran in 0.02 s\n",
      "Operator `forward` ran in 0.02 s\n",
      "Operator `gradient` ran in 0.02 s\n",
      "Operator `forward` ran in 0.02 s\n",
      "Operator `gradient` ran in 0.02 s\n",
      "Operator `forward` ran in 0.02 s\n",
      "Operator `gradient` ran in 0.02 s\n",
      "Operator `forward` ran in 0.02 s\n",
      "Operator `gradient` ran in 0.02 s\n",
      "Operator `forward` ran in 0.02 s\n",
      "Operator `gradient` ran in 0.02 s\n",
      "Operator `forward` ran in 0.02 s\n",
      "Operator `gradient` ran in 0.02 s\n",
      "Operator `forward` ran in 0.02 s\n",
      "Operator `gradient` ran in 0.02 s\n"
     ]
    },
    {
     "name": "stdout",
     "output_type": "stream",
     "text": [
      "(α, misfit) = (0.1f0, 7481.96923828125)\n",
      "FWI iteration no: "
     ]
    },
    {
     "name": "stderr",
     "output_type": "stream",
     "text": [
      "Operator `forward` ran in 0.01 s\n",
      "Operator `forward` ran in 0.01 s\n",
      "Operator `forward` ran in 0.01 s\n",
      "Operator `forward` ran in 0.01 s\n",
      "Operator `forward` ran in 0.02 s\n",
      "Operator `forward` ran in 0.01 s\n",
      "Operator `forward` ran in 0.01 s\n",
      "Operator `forward` ran in 0.01 s\n",
      "Operator `forward` ran in 0.01 s\n",
      "Operator `forward` ran in 0.01 s\n",
      "Operator `forward` ran in 0.01 s\n",
      "Operator `forward` ran in 0.01 s\n",
      "Operator `forward` ran in 0.01 s\n",
      "Operator `forward` ran in 0.01 s\n",
      "Operator `forward` ran in 0.01 s\n",
      "Operator `forward` ran in 0.01 s\n"
     ]
    },
    {
     "name": "stdout",
     "output_type": "stream",
     "text": [
      "3; function value: 8087.0107\n"
     ]
    },
    {
     "name": "stderr",
     "output_type": "stream",
     "text": [
      "Operator `forward` ran in 0.02 s\n",
      "Operator `gradient` ran in 0.02 s\n",
      "Operator `forward` ran in 0.02 s\n",
      "Operator `gradient` ran in 0.02 s\n",
      "Operator `forward` ran in 0.02 s\n",
      "Operator `gradient` ran in 0.02 s\n",
      "Operator `forward` ran in 0.02 s\n",
      "Operator `gradient` ran in 0.02 s\n",
      "Operator `forward` ran in 0.02 s\n",
      "Operator `gradient` ran in 0.02 s\n",
      "Operator `forward` ran in 0.02 s\n",
      "Operator `gradient` ran in 0.02 s\n",
      "Operator `forward` ran in 0.02 s\n",
      "Operator `gradient` ran in 0.02 s\n",
      "Operator `forward` ran in 0.02 s\n",
      "Operator `gradient` ran in 0.02 s\n",
      "Operator `forward` ran in 0.02 s\n",
      "Operator `gradient` ran in 0.02 s\n",
      "Operator `forward` ran in 0.02 s\n",
      "Operator `gradient` ran in 0.02 s\n",
      "Operator `forward` ran in 0.02 s\n",
      "Operator `gradient` ran in 0.02 s\n",
      "Operator `forward` ran in 0.02 s\n",
      "Operator `gradient` ran in 0.02 s\n",
      "Operator `forward` ran in 0.02 s\n",
      "Operator `gradient` ran in 0.02 s\n",
      "Operator `forward` ran in 0.02 s\n",
      "Operator `gradient` ran in 0.02 s\n",
      "Operator `forward` ran in 0.02 s\n",
      "Operator `gradient` ran in 0.02 s\n",
      "Operator `forward` ran in 0.02 s\n",
      "Operator `gradient` ran in 0.02 s\n"
     ]
    },
    {
     "name": "stdout",
     "output_type": "stream",
     "text": [
      "(α, misfit) = (0.1f0, 1.058956e6)\n",
      "(α, misfit) = "
     ]
    },
    {
     "name": "stderr",
     "output_type": "stream",
     "text": [
      "Operator `forward` ran in 0.01 s\n",
      "Operator `forward` ran in 0.01 s\n",
      "Operator `forward` ran in 0.02 s\n",
      "Operator `forward` ran in 0.01 s\n",
      "Operator `forward` ran in 0.01 s\n",
      "Operator `forward` ran in 0.01 s\n",
      "Operator `forward` ran in 0.01 s\n",
      "Operator `forward` ran in 0.01 s\n",
      "Operator `forward` ran in 0.01 s\n",
      "Operator `forward` ran in 0.01 s\n",
      "Operator `forward` ran in 0.02 s\n",
      "Operator `forward` ran in 0.02 s\n",
      "Operator `forward` ran in 0.02 s\n",
      "Operator `forward` ran in 0.02 s\n",
      "Operator `forward` ran in 0.02 s\n",
      "Operator `forward` ran in 0.02 s\n"
     ]
    },
    {
     "name": "stdout",
     "output_type": "stream",
     "text": [
      "(0.010000000149011612, 10907.92578125)\n"
     ]
    },
    {
     "name": "stderr",
     "output_type": "stream",
     "text": [
      "Operator `forward` ran in 0.02 s\n",
      "Operator `forward` ran in 0.04 s\n",
      "Operator `forward` ran in 0.02 s\n",
      "Operator `forward` ran in 0.01 s\n",
      "Operator `forward` ran in 0.02 s\n",
      "Operator `forward` ran in 0.01 s\n",
      "Operator `forward` ran in 0.02 s\n",
      "Operator `forward` ran in 0.02 s\n",
      "Operator `forward` ran in 0.03 s\n",
      "Operator `forward` ran in 0.03 s\n",
      "Operator `forward` ran in 0.02 s\n",
      "Operator `forward` ran in 0.01 s\n",
      "Operator `forward` ran in 0.01 s\n",
      "Operator `forward` ran in 0.01 s\n",
      "Operator `forward` ran in 0.02 s\n",
      "Operator `forward` ran in 0.01 s\n"
     ]
    },
    {
     "name": "stdout",
     "output_type": "stream",
     "text": [
      "(α, misfit) = (0.0038599642858734547, 5624.64404296875)\n",
      "FWI iteration no: "
     ]
    },
    {
     "name": "stderr",
     "output_type": "stream",
     "text": [
      "Operator `forward` ran in 0.02 s\n",
      "Operator `forward` ran in 0.02 s\n",
      "Operator `forward` ran in 0.01 s\n",
      "Operator `forward` ran in 0.01 s\n",
      "Operator `forward` ran in 0.01 s\n",
      "Operator `forward` ran in 0.01 s\n",
      "Operator `forward` ran in 0.01 s\n",
      "Operator `forward` ran in 0.01 s\n",
      "Operator `forward` ran in 0.01 s\n",
      "Operator `forward` ran in 0.01 s\n",
      "Operator `forward` ran in 0.01 s\n",
      "Operator `forward` ran in 0.02 s\n",
      "Operator `forward` ran in 0.02 s\n",
      "Operator `forward` ran in 0.01 s\n",
      "Operator `forward` ran in 0.01 s\n",
      "Operator `forward` ran in 0.01 s\n"
     ]
    },
    {
     "name": "stdout",
     "output_type": "stream",
     "text": [
      "4; function value: 5877.56\n"
     ]
    },
    {
     "name": "stderr",
     "output_type": "stream",
     "text": [
      "Operator `forward` ran in 0.02 s\n",
      "Operator `gradient` ran in 0.02 s\n",
      "Operator `forward` ran in 0.02 s\n",
      "Operator `gradient` ran in 0.02 s\n",
      "Operator `forward` ran in 0.02 s\n",
      "Operator `gradient` ran in 0.02 s\n",
      "Operator `forward` ran in 0.02 s\n",
      "Operator `gradient` ran in 0.02 s\n",
      "Operator `forward` ran in 0.02 s\n",
      "Operator `gradient` ran in 0.02 s\n",
      "Operator `forward` ran in 0.02 s\n",
      "Operator `gradient` ran in 0.02 s\n",
      "Operator `forward` ran in 0.02 s\n",
      "Operator `gradient` ran in 0.02 s\n",
      "Operator `forward` ran in 0.02 s\n",
      "Operator `gradient` ran in 0.02 s\n",
      "Operator `forward` ran in 0.02 s\n",
      "Operator `gradient` ran in 0.02 s\n",
      "Operator `forward` ran in 0.02 s\n",
      "Operator `gradient` ran in 0.02 s\n",
      "Operator `forward` ran in 0.02 s\n",
      "Operator `gradient` ran in 0.02 s\n",
      "Operator `forward` ran in 0.02 s\n",
      "Operator `gradient` ran in 0.02 s\n",
      "Operator `forward` ran in 0.02 s\n",
      "Operator `gradient` ran in 0.02 s\n",
      "Operator `forward` ran in 0.02 s\n",
      "Operator `gradient` ran in 0.02 s\n",
      "Operator `forward` ran in 0.02 s\n",
      "Operator `gradient` ran in 0.03 s\n",
      "Operator `forward` ran in 0.02 s\n",
      "Operator `gradient` ran in 0.02 s\n"
     ]
    },
    {
     "name": "stdout",
     "output_type": "stream",
     "text": [
      "(α, misfit) = (0.1f0, 16598.388671875)\n",
      "(α, misfit) = "
     ]
    },
    {
     "name": "stderr",
     "output_type": "stream",
     "text": [
      "Operator `forward` ran in 0.01 s\n",
      "Operator `forward` ran in 0.01 s\n",
      "Operator `forward` ran in 0.03 s\n",
      "Operator `forward` ran in 0.02 s\n",
      "Operator `forward` ran in 0.02 s\n",
      "Operator `forward` ran in 0.02 s\n",
      "Operator `forward` ran in 0.02 s\n",
      "Operator `forward` ran in 0.01 s\n",
      "Operator `forward` ran in 0.02 s\n",
      "Operator `forward` ran in 0.02 s\n",
      "Operator `forward` ran in 0.01 s\n",
      "Operator `forward` ran in 0.01 s\n",
      "Operator `forward` ran in 0.01 s\n",
      "Operator `forward` ran in 0.01 s\n",
      "Operator `forward` ran in 0.01 s\n",
      "Operator `forward` ran in 0.01 s\n"
     ]
    },
    {
     "name": "stdout",
     "output_type": "stream",
     "text": [
      "(0.04258384695077963, 3236.53857421875)\n"
     ]
    },
    {
     "name": "stderr",
     "output_type": "stream",
     "text": [
      "Operator `forward` ran in 0.02 s\n",
      "Operator `forward` ran in 0.01 s\n",
      "Operator `forward` ran in 0.01 s\n",
      "Operator `forward` ran in 0.01 s\n",
      "Operator `forward` ran in 0.01 s\n",
      "Operator `forward` ran in 0.01 s\n",
      "Operator `forward` ran in 0.01 s\n",
      "Operator `forward` ran in 0.01 s\n",
      "Operator `forward` ran in 0.01 s\n",
      "Operator `forward` ran in 0.01 s\n",
      "Operator `forward` ran in 0.01 s\n",
      "Operator `forward` ran in 0.01 s\n",
      "Operator `forward` ran in 0.01 s\n",
      "Operator `forward` ran in 0.01 s\n",
      "Operator `forward` ran in 0.01 s\n",
      "Operator `forward` ran in 0.01 s\n"
     ]
    },
    {
     "name": "stdout",
     "output_type": "stream",
     "text": [
      "FWI iteration no: 5; function value: 3253.7754\n",
      "(α, misfit) = "
     ]
    },
    {
     "name": "stderr",
     "output_type": "stream",
     "text": [
      "Operator `forward` ran in 0.03 s\n",
      "Operator `gradient` ran in 0.02 s\n",
      "Operator `forward` ran in 0.02 s\n",
      "Operator `gradient` ran in 0.02 s\n",
      "Operator `forward` ran in 0.02 s\n",
      "Operator `gradient` ran in 0.02 s\n",
      "Operator `forward` ran in 0.02 s\n",
      "Operator `gradient` ran in 0.02 s\n",
      "Operator `forward` ran in 0.02 s\n",
      "Operator `gradient` ran in 0.02 s\n",
      "Operator `forward` ran in 0.02 s\n",
      "Operator `gradient` ran in 0.02 s\n",
      "Operator `forward` ran in 0.02 s\n",
      "Operator `gradient` ran in 0.02 s\n",
      "Operator `forward` ran in 0.02 s\n",
      "Operator `gradient` ran in 0.02 s\n",
      "Operator `forward` ran in 0.02 s\n",
      "Operator `gradient` ran in 0.02 s\n",
      "Operator `forward` ran in 0.02 s\n",
      "Operator `gradient` ran in 0.02 s\n",
      "Operator `forward` ran in 0.02 s\n",
      "Operator `gradient` ran in 0.02 s\n",
      "Operator `forward` ran in 0.02 s\n",
      "Operator `gradient` ran in 0.02 s\n",
      "Operator `forward` ran in 0.02 s\n",
      "Operator `gradient` ran in 0.02 s\n",
      "Operator `forward` ran in 0.02 s\n",
      "Operator `gradient` ran in 0.03 s\n",
      "Operator `forward` ran in 0.02 s\n",
      "Operator `gradient` ran in 0.02 s\n",
      "Operator `forward` ran in 0.02 s\n",
      "Operator `gradient` ran in 0.02 s\n"
     ]
    },
    {
     "name": "stdout",
     "output_type": "stream",
     "text": [
      "(0.1f0, 209019.515625)\n"
     ]
    },
    {
     "name": "stderr",
     "output_type": "stream",
     "text": [
      "Operator `forward` ran in 0.01 s\n",
      "Operator `forward` ran in 0.01 s\n",
      "Operator `forward` ran in 0.01 s\n",
      "Operator `forward` ran in 0.01 s\n",
      "Operator `forward` ran in 0.01 s\n",
      "Operator `forward` ran in 0.02 s\n",
      "Operator `forward` ran in 0.01 s\n",
      "Operator `forward` ran in 0.01 s\n",
      "Operator `forward` ran in 0.02 s\n",
      "Operator `forward` ran in 0.01 s\n",
      "Operator `forward` ran in 0.01 s\n",
      "Operator `forward` ran in 0.01 s\n",
      "Operator `forward` ran in 0.01 s\n",
      "Operator `forward` ran in 0.01 s\n",
      "Operator `forward` ran in 0.01 s\n",
      "Operator `forward` ran in 0.01 s\n"
     ]
    },
    {
     "name": "stdout",
     "output_type": "stream",
     "text": [
      "(α, misfit) = (0.010000000149011612, 1410.36669921875)\n",
      "FWI iteration no: "
     ]
    },
    {
     "name": "stderr",
     "output_type": "stream",
     "text": [
      "Operator `forward` ran in 0.02 s\n",
      "Operator `forward` ran in 0.01 s\n",
      "Operator `forward` ran in 0.01 s\n",
      "Operator `forward` ran in 0.02 s\n",
      "Operator `forward` ran in 0.02 s\n",
      "Operator `forward` ran in 0.01 s\n",
      "Operator `forward` ran in 0.02 s\n",
      "Operator `forward` ran in 0.01 s\n",
      "Operator `forward` ran in 0.01 s\n",
      "Operator `forward` ran in 0.02 s\n",
      "Operator `forward` ran in 0.02 s\n",
      "Operator `forward` ran in 0.02 s\n",
      "Operator `forward` ran in 0.02 s\n",
      "Operator `forward` ran in 0.02 s\n",
      "Operator `forward` ran in 0.02 s\n",
      "Operator `forward` ran in 0.01 s\n"
     ]
    },
    {
     "name": "stdout",
     "output_type": "stream",
     "text": [
      "6; function value: 1655.1279\n"
     ]
    },
    {
     "name": "stderr",
     "output_type": "stream",
     "text": [
      "Operator `forward` ran in 0.04 s\n",
      "Operator `gradient` ran in 0.02 s\n",
      "Operator `forward` ran in 0.05 s\n",
      "Operator `gradient` ran in 0.02 s\n",
      "Operator `forward` ran in 0.04 s\n",
      "Operator `gradient` ran in 0.02 s\n",
      "Operator `forward` ran in 0.04 s\n",
      "Operator `gradient` ran in 0.02 s\n",
      "Operator `forward` ran in 0.05 s\n",
      "Operator `gradient` ran in 0.02 s\n",
      "Operator `forward` ran in 0.04 s\n",
      "Operator `gradient` ran in 0.02 s\n",
      "Operator `forward` ran in 0.04 s\n",
      "Operator `gradient` ran in 0.02 s\n",
      "Operator `forward` ran in 0.05 s\n",
      "Operator `gradient` ran in 0.02 s\n",
      "Operator `forward` ran in 0.05 s\n",
      "Operator `gradient` ran in 0.02 s\n",
      "Operator `forward` ran in 0.05 s\n",
      "Operator `gradient` ran in 0.02 s\n",
      "Operator `forward` ran in 0.05 s\n",
      "Operator `gradient` ran in 0.02 s\n",
      "Operator `forward` ran in 0.05 s\n",
      "Operator `gradient` ran in 0.02 s\n",
      "Operator `forward` ran in 0.05 s\n",
      "Operator `gradient` ran in 0.02 s\n",
      "Operator `forward` ran in 0.05 s\n",
      "Operator `gradient` ran in 0.02 s\n",
      "Operator `forward` ran in 0.05 s\n",
      "Operator `gradient` ran in 0.02 s\n",
      "Operator `forward` ran in 0.05 s\n",
      "Operator `gradient` ran in 0.02 s\n"
     ]
    },
    {
     "name": "stdout",
     "output_type": "stream",
     "text": [
      "(α, misfit) = (0.1f0, 80525.9453125)\n",
      "(α, misfit) = "
     ]
    },
    {
     "name": "stderr",
     "output_type": "stream",
     "text": [
      "Operator `forward` ran in 0.01 s\n",
      "Operator `forward` ran in 0.01 s\n",
      "Operator `forward` ran in 0.01 s\n",
      "Operator `forward` ran in 0.01 s\n",
      "Operator `forward` ran in 0.01 s\n",
      "Operator `forward` ran in 0.01 s\n",
      "Operator `forward` ran in 0.02 s\n",
      "Operator `forward` ran in 0.01 s\n",
      "Operator `forward` ran in 0.01 s\n",
      "Operator `forward` ran in 0.01 s\n",
      "Operator `forward` ran in 0.01 s\n",
      "Operator `forward` ran in 0.01 s\n",
      "Operator `forward` ran in 0.01 s\n",
      "Operator `forward` ran in 0.01 s\n",
      "Operator `forward` ran in 0.01 s\n",
      "Operator `forward` ran in 0.01 s\n"
     ]
    },
    {
     "name": "stdout",
     "output_type": "stream",
     "text": [
      "(0.010000000149011612, 1572.51171875)\n"
     ]
    },
    {
     "name": "stderr",
     "output_type": "stream",
     "text": [
      "Operator `forward` ran in 0.02 s\n",
      "Operator `forward` ran in 0.01 s\n",
      "Operator `forward` ran in 0.01 s\n",
      "Operator `forward` ran in 0.01 s\n",
      "Operator `forward` ran in 0.02 s\n",
      "Operator `forward` ran in 0.01 s\n",
      "Operator `forward` ran in 0.01 s\n",
      "Operator `forward` ran in 0.01 s\n",
      "Operator `forward` ran in 0.01 s\n",
      "Operator `forward` ran in 0.01 s\n",
      "Operator `forward` ran in 0.01 s\n",
      "Operator `forward` ran in 0.02 s\n",
      "Operator `forward` ran in 0.02 s\n",
      "Operator `forward` ran in 0.02 s\n",
      "Operator `forward` ran in 0.02 s\n",
      "Operator `forward` ran in 0.01 s\n"
     ]
    },
    {
     "name": "stdout",
     "output_type": "stream",
     "text": [
      "FWI iteration no: 7; function value: 1685.2096\n",
      "(α, misfit) = "
     ]
    },
    {
     "name": "stderr",
     "output_type": "stream",
     "text": [
      "Operator `forward` ran in 0.02 s\n",
      "Operator `gradient` ran in 0.02 s\n",
      "Operator `forward` ran in 0.02 s\n",
      "Operator `gradient` ran in 0.02 s\n",
      "Operator `forward` ran in 0.02 s\n",
      "Operator `gradient` ran in 0.02 s\n",
      "Operator `forward` ran in 0.02 s\n",
      "Operator `gradient` ran in 0.02 s\n",
      "Operator `forward` ran in 0.02 s\n",
      "Operator `gradient` ran in 0.02 s\n",
      "Operator `forward` ran in 0.02 s\n",
      "Operator `gradient` ran in 0.02 s\n",
      "Operator `forward` ran in 0.02 s\n",
      "Operator `gradient` ran in 0.02 s\n",
      "Operator `forward` ran in 0.02 s\n",
      "Operator `gradient` ran in 0.02 s\n",
      "Operator `forward` ran in 0.02 s\n",
      "Operator `gradient` ran in 0.02 s\n",
      "Operator `forward` ran in 0.02 s\n",
      "Operator `gradient` ran in 0.02 s\n",
      "Operator `forward` ran in 0.02 s\n",
      "Operator `gradient` ran in 0.02 s\n",
      "Operator `forward` ran in 0.02 s\n",
      "Operator `gradient` ran in 0.02 s\n",
      "Operator `forward` ran in 0.02 s\n",
      "Operator `gradient` ran in 0.02 s\n",
      "Operator `forward` ran in 0.03 s\n",
      "Operator `gradient` ran in 0.02 s\n",
      "Operator `forward` ran in 0.02 s\n",
      "Operator `gradient` ran in 0.02 s\n",
      "Operator `forward` ran in 0.02 s\n",
      "Operator `gradient` ran in 0.02 s\n"
     ]
    },
    {
     "name": "stdout",
     "output_type": "stream",
     "text": [
      "(0.1f0, 217481.921875)\n"
     ]
    },
    {
     "name": "stderr",
     "output_type": "stream",
     "text": [
      "Operator `forward` ran in 0.01 s\n",
      "Operator `forward` ran in 0.02 s\n",
      "Operator `forward` ran in 0.01 s\n",
      "Operator `forward` ran in 0.02 s\n",
      "Operator `forward` ran in 0.02 s\n",
      "Operator `forward` ran in 0.02 s\n",
      "Operator `forward` ran in 0.01 s\n",
      "Operator `forward` ran in 0.02 s\n",
      "Operator `forward` ran in 0.02 s\n",
      "Operator `forward` ran in 0.01 s\n",
      "Operator `forward` ran in 0.01 s\n",
      "Operator `forward` ran in 0.01 s\n",
      "Operator `forward` ran in 0.01 s\n",
      "Operator `forward` ran in 0.01 s\n",
      "Operator `forward` ran in 0.02 s\n",
      "Operator `forward` ran in 0.01 s\n"
     ]
    },
    {
     "name": "stdout",
     "output_type": "stream",
     "text": [
      "(α, misfit) = (0.010000000149011612, 1968.974853515625)\n",
      "(α, misfit) = "
     ]
    },
    {
     "name": "stderr",
     "output_type": "stream",
     "text": [
      "Operator `forward` ran in 0.02 s\n",
      "Operator `forward` ran in 0.01 s\n",
      "Operator `forward` ran in 0.01 s\n",
      "Operator `forward` ran in 0.01 s\n",
      "Operator `forward` ran in 0.01 s\n",
      "Operator `forward` ran in 0.01 s\n",
      "Operator `forward` ran in 0.01 s\n",
      "Operator `forward` ran in 0.01 s\n",
      "Operator `forward` ran in 0.01 s\n",
      "Operator `forward` ran in 0.02 s\n",
      "Operator `forward` ran in 0.02 s\n",
      "Operator `forward` ran in 0.02 s\n",
      "Operator `forward` ran in 0.02 s\n",
      "Operator `forward` ran in 0.02 s\n",
      "Operator `forward` ran in 0.06 s\n",
      "Operator `forward` ran in 0.05 s\n"
     ]
    },
    {
     "name": "stdout",
     "output_type": "stream",
     "text": [
      "(0.004629957406421072, 986.7119750976562)\n"
     ]
    },
    {
     "name": "stderr",
     "output_type": "stream",
     "text": [
      "Operator `forward` ran in 0.04 s\n",
      "Operator `forward` ran in 0.03 s\n",
      "Operator `forward` ran in 0.05 s\n",
      "Operator `forward` ran in 0.05 s\n",
      "Operator `forward` ran in 0.05 s\n",
      "Operator `forward` ran in 0.04 s\n",
      "Operator `forward` ran in 0.05 s\n",
      "Operator `forward` ran in 0.01 s\n",
      "Operator `forward` ran in 0.05 s\n",
      "Operator `forward` ran in 0.05 s\n",
      "Operator `forward` ran in 0.05 s\n",
      "Operator `forward` ran in 0.05 s\n",
      "Operator `forward` ran in 0.05 s\n",
      "Operator `forward` ran in 0.04 s\n",
      "Operator `forward` ran in 0.03 s\n",
      "Operator `forward` ran in 0.02 s\n"
     ]
    },
    {
     "name": "stdout",
     "output_type": "stream",
     "text": [
      "FWI iteration no: 8; function value: 1171.1061\n",
      "(α, misfit) = "
     ]
    },
    {
     "name": "stderr",
     "output_type": "stream",
     "text": [
      "Operator `forward` ran in 0.02 s\n",
      "Operator `gradient` ran in 0.02 s\n",
      "Operator `forward` ran in 0.02 s\n",
      "Operator `gradient` ran in 0.02 s\n",
      "Operator `forward` ran in 0.02 s\n",
      "Operator `gradient` ran in 0.02 s\n",
      "Operator `forward` ran in 0.02 s\n",
      "Operator `gradient` ran in 0.02 s\n",
      "Operator `forward` ran in 0.02 s\n",
      "Operator `gradient` ran in 0.02 s\n",
      "Operator `forward` ran in 0.02 s\n",
      "Operator `gradient` ran in 0.02 s\n",
      "Operator `forward` ran in 0.02 s\n",
      "Operator `gradient` ran in 0.02 s\n",
      "Operator `forward` ran in 0.02 s\n",
      "Operator `gradient` ran in 0.02 s\n",
      "Operator `forward` ran in 0.02 s\n",
      "Operator `gradient` ran in 0.02 s\n",
      "Operator `forward` ran in 0.02 s\n",
      "Operator `gradient` ran in 0.02 s\n",
      "Operator `forward` ran in 0.02 s\n",
      "Operator `gradient` ran in 0.02 s\n",
      "Operator `forward` ran in 0.02 s\n",
      "Operator `gradient` ran in 0.02 s\n",
      "Operator `forward` ran in 0.02 s\n",
      "Operator `gradient` ran in 0.02 s\n",
      "Operator `forward` ran in 0.02 s\n",
      "Operator `gradient` ran in 0.02 s\n",
      "Operator `forward` ran in 0.03 s\n",
      "Operator `gradient` ran in 0.02 s\n",
      "Operator `forward` ran in 0.02 s\n",
      "Operator `gradient` ran in 0.02 s\n"
     ]
    },
    {
     "name": "stdout",
     "output_type": "stream",
     "text": [
      "(0.1f0, 999763.9375)\n"
     ]
    },
    {
     "name": "stderr",
     "output_type": "stream",
     "text": [
      "Operator `forward` ran in 0.01 s\n",
      "Operator `forward` ran in 0.02 s\n",
      "Operator `forward` ran in 0.01 s\n",
      "Operator `forward` ran in 0.01 s\n",
      "Operator `forward` ran in 0.01 s\n",
      "Operator `forward` ran in 0.02 s\n",
      "Operator `forward` ran in 0.01 s\n",
      "Operator `forward` ran in 0.01 s\n",
      "Operator `forward` ran in 0.02 s\n",
      "Operator `forward` ran in 0.02 s\n",
      "Operator `forward` ran in 0.01 s\n",
      "Operator `forward` ran in 0.01 s\n",
      "Operator `forward` ran in 0.01 s\n",
      "Operator `forward` ran in 0.01 s\n",
      "Operator `forward` ran in 0.02 s\n",
      "Operator `forward` ran in 0.01 s\n"
     ]
    },
    {
     "name": "stdout",
     "output_type": "stream",
     "text": [
      "(α, misfit) = (0.010000000149011612, 10937.9267578125)\n",
      "(α, misfit) = "
     ]
    },
    {
     "name": "stderr",
     "output_type": "stream",
     "text": [
      "Operator `forward` ran in 0.02 s\n",
      "Operator `forward` ran in 0.01 s\n",
      "Operator `forward` ran in 0.02 s\n",
      "Operator `forward` ran in 0.01 s\n",
      "Operator `forward` ran in 0.02 s\n",
      "Operator `forward` ran in 0.01 s\n",
      "Operator `forward` ran in 0.01 s\n",
      "Operator `forward` ran in 0.01 s\n",
      "Operator `forward` ran in 0.02 s\n",
      "Operator `forward` ran in 0.02 s\n",
      "Operator `forward` ran in 0.02 s\n",
      "Operator `forward` ran in 0.01 s\n",
      "Operator `forward` ran in 0.01 s\n",
      "Operator `forward` ran in 0.01 s\n",
      "Operator `forward` ran in 0.02 s\n",
      "Operator `forward` ran in 0.02 s\n"
     ]
    },
    {
     "name": "stdout",
     "output_type": "stream",
     "text": [
      "(0.0010000000149011613, 897.4951171875)\n"
     ]
    },
    {
     "name": "stderr",
     "output_type": "stream",
     "text": [
      "Operator `forward` ran in 0.02 s\n",
      "Operator `forward` ran in 0.02 s\n",
      "Operator `forward` ran in 0.01 s\n",
      "Operator `forward` ran in 0.01 s\n",
      "Operator `forward` ran in 0.01 s\n",
      "Operator `forward` ran in 0.02 s\n",
      "Operator `forward` ran in 0.01 s\n",
      "Operator `forward` ran in 0.01 s\n",
      "Operator `forward` ran in 0.02 s\n",
      "Operator `forward` ran in 0.01 s\n",
      "Operator `forward` ran in 0.02 s\n",
      "Operator `forward` ran in 0.01 s\n",
      "Operator `forward` ran in 0.02 s\n",
      "Operator `forward` ran in 0.02 s\n",
      "Operator `forward` ran in 0.02 s\n",
      "Operator `forward` ran in 0.01 s\n"
     ]
    },
    {
     "name": "stdout",
     "output_type": "stream",
     "text": [
      "FWI iteration no: 9; function value: 978.34344\n",
      "(α, misfit) = "
     ]
    },
    {
     "name": "stderr",
     "output_type": "stream",
     "text": [
      "Operator `forward` ran in 0.02 s\n",
      "Operator `gradient` ran in 0.02 s\n",
      "Operator `forward` ran in 0.02 s\n",
      "Operator `gradient` ran in 0.02 s\n",
      "Operator `forward` ran in 0.02 s\n",
      "Operator `gradient` ran in 0.02 s\n",
      "Operator `forward` ran in 0.02 s\n",
      "Operator `gradient` ran in 0.02 s\n",
      "Operator `forward` ran in 0.02 s\n",
      "Operator `gradient` ran in 0.02 s\n",
      "Operator `forward` ran in 0.02 s\n",
      "Operator `gradient` ran in 0.02 s\n",
      "Operator `forward` ran in 0.02 s\n",
      "Operator `gradient` ran in 0.02 s\n",
      "Operator `forward` ran in 0.02 s\n",
      "Operator `gradient` ran in 0.02 s\n",
      "Operator `forward` ran in 0.02 s\n",
      "Operator `gradient` ran in 0.02 s\n",
      "Operator `forward` ran in 0.02 s\n",
      "Operator `gradient` ran in 0.02 s\n",
      "Operator `forward` ran in 0.02 s\n",
      "Operator `gradient` ran in 0.03 s\n",
      "Operator `forward` ran in 0.05 s\n",
      "Operator `gradient` ran in 0.02 s\n",
      "Operator `forward` ran in 0.05 s\n",
      "Operator `gradient` ran in 0.02 s\n",
      "Operator `forward` ran in 0.05 s\n",
      "Operator `gradient` ran in 0.02 s\n",
      "Operator `forward` ran in 0.05 s\n",
      "Operator `gradient` ran in 0.02 s\n",
      "Operator `forward` ran in 0.04 s\n",
      "Operator `gradient` ran in 0.02 s\n"
     ]
    },
    {
     "name": "stdout",
     "output_type": "stream",
     "text": [
      "(0.1f0, 12125.7685546875)\n"
     ]
    },
    {
     "name": "stderr",
     "output_type": "stream",
     "text": [
      "Operator `forward` ran in 0.01 s\n",
      "Operator `forward` ran in 0.01 s\n",
      "Operator `forward` ran in 0.01 s\n",
      "Operator `forward` ran in 0.01 s\n",
      "Operator `forward` ran in 0.01 s\n",
      "Operator `forward` ran in 0.01 s\n",
      "Operator `forward` ran in 0.02 s\n",
      "Operator `forward` ran in 0.02 s\n",
      "Operator `forward` ran in 0.02 s\n",
      "Operator `forward` ran in 0.02 s\n",
      "Operator `forward` ran in 0.02 s\n",
      "Operator `forward` ran in 0.02 s\n",
      "Operator `forward` ran in 0.02 s\n",
      "Operator `forward` ran in 0.03 s\n",
      "Operator `forward` ran in 0.02 s\n",
      "Operator `forward` ran in 0.01 s\n"
     ]
    },
    {
     "name": "stdout",
     "output_type": "stream",
     "text": [
      "(α, misfit) = (0.02126790989656606, 729.0166015625)\n",
      "FWI iteration no: "
     ]
    },
    {
     "name": "stderr",
     "output_type": "stream",
     "text": [
      "Operator `forward` ran in 0.01 s\n",
      "Operator `forward` ran in 0.02 s\n",
      "Operator `forward` ran in 0.02 s\n",
      "Operator `forward` ran in 0.02 s\n",
      "Operator `forward` ran in 0.02 s\n",
      "Operator `forward` ran in 0.01 s\n",
      "Operator `forward` ran in 0.01 s\n",
      "Operator `forward` ran in 0.01 s\n",
      "Operator `forward` ran in 0.01 s\n",
      "Operator `forward` ran in 0.01 s\n",
      "Operator `forward` ran in 0.01 s\n",
      "Operator `forward` ran in 0.01 s\n",
      "Operator `forward` ran in 0.01 s\n",
      "Operator `forward` ran in 0.01 s\n",
      "Operator `forward` ran in 0.01 s\n",
      "Operator `forward` ran in 0.01 s\n"
     ]
    },
    {
     "name": "stdout",
     "output_type": "stream",
     "text": [
      "10; function value: 859.4307\n"
     ]
    },
    {
     "name": "stderr",
     "output_type": "stream",
     "text": [
      "Operator `forward` ran in 0.02 s\n",
      "Operator `gradient` ran in 0.02 s\n",
      "Operator `forward` ran in 0.02 s\n",
      "Operator `gradient` ran in 0.02 s\n",
      "Operator `forward` ran in 0.02 s\n",
      "Operator `gradient` ran in 0.02 s\n",
      "Operator `forward` ran in 0.02 s\n",
      "Operator `gradient` ran in 0.02 s\n",
      "Operator `forward` ran in 0.02 s\n",
      "Operator `gradient` ran in 0.02 s\n",
      "Operator `forward` ran in 0.02 s\n",
      "Operator `gradient` ran in 0.02 s\n",
      "Operator `forward` ran in 0.02 s\n",
      "Operator `gradient` ran in 0.02 s\n",
      "Operator `forward` ran in 0.02 s\n",
      "Operator `gradient` ran in 0.02 s\n",
      "Operator `forward` ran in 0.02 s\n",
      "Operator `gradient` ran in 0.02 s\n",
      "Operator `forward` ran in 0.02 s\n",
      "Operator `gradient` ran in 0.02 s\n",
      "Operator `forward` ran in 0.02 s\n",
      "Operator `gradient` ran in 0.02 s\n",
      "Operator `forward` ran in 0.02 s\n",
      "Operator `gradient` ran in 0.02 s\n",
      "Operator `forward` ran in 0.02 s\n",
      "Operator `gradient` ran in 0.02 s\n",
      "Operator `forward` ran in 0.02 s\n",
      "Operator `gradient` ran in 0.02 s\n",
      "Operator `forward` ran in 0.02 s\n",
      "Operator `gradient` ran in 0.02 s\n",
      "Operator `forward` ran in 0.02 s\n",
      "Operator `gradient` ran in 0.02 s\n"
     ]
    },
    {
     "name": "stdout",
     "output_type": "stream",
     "text": [
      "(α, misfit) = (0.1f0, 607230.0)\n",
      "(α, misfit) = "
     ]
    },
    {
     "name": "stderr",
     "output_type": "stream",
     "text": [
      "Operator `forward` ran in 0.01 s\n",
      "Operator `forward` ran in 0.01 s\n",
      "Operator `forward` ran in 0.02 s\n",
      "Operator `forward` ran in 0.02 s\n",
      "Operator `forward` ran in 0.02 s\n",
      "Operator `forward` ran in 0.01 s\n",
      "Operator `forward` ran in 0.02 s\n",
      "Operator `forward` ran in 0.02 s\n",
      "Operator `forward` ran in 0.02 s\n",
      "Operator `forward` ran in 0.01 s\n",
      "Operator `forward` ran in 0.02 s\n",
      "Operator `forward` ran in 0.01 s\n",
      "Operator `forward` ran in 0.01 s\n",
      "Operator `forward` ran in 0.01 s\n",
      "Operator `forward` ran in 0.02 s\n",
      "Operator `forward` ran in 0.01 s\n"
     ]
    },
    {
     "name": "stdout",
     "output_type": "stream",
     "text": [
      "(0.010000000149011612, 6141.8857421875)\n"
     ]
    },
    {
     "name": "stderr",
     "output_type": "stream",
     "text": [
      "Operator `forward` ran in 0.02 s\n",
      "Operator `forward` ran in 0.02 s\n",
      "Operator `forward` ran in 0.01 s\n",
      "Operator `forward` ran in 0.01 s\n",
      "Operator `forward` ran in 0.02 s\n",
      "Operator `forward` ran in 0.02 s\n",
      "Operator `forward` ran in 0.01 s\n",
      "Operator `forward` ran in 0.01 s\n",
      "Operator `forward` ran in 0.01 s\n",
      "Operator `forward` ran in 0.02 s\n",
      "Operator `forward` ran in 0.02 s\n",
      "Operator `forward` ran in 0.02 s\n",
      "Operator `forward` ran in 0.01 s\n",
      "Operator `forward` ran in 0.01 s\n",
      "Operator `forward` ran in 0.02 s\n",
      "Operator `forward` ran in 0.01 s\n"
     ]
    },
    {
     "name": "stdout",
     "output_type": "stream",
     "text": [
      "(α, misfit) = (0.0013039928910229843, 632.2465209960938)\n",
      "FWI iteration no: "
     ]
    },
    {
     "name": "stderr",
     "output_type": "stream",
     "text": [
      "Operator `forward` ran in 0.01 s\n",
      "Operator `forward` ran in 0.01 s\n",
      "Operator `forward` ran in 0.02 s\n",
      "Operator `forward` ran in 0.01 s\n",
      "Operator `forward` ran in 0.01 s\n",
      "Operator `forward` ran in 0.02 s\n",
      "Operator `forward` ran in 0.02 s\n",
      "Operator `forward` ran in 0.01 s\n",
      "Operator `forward` ran in 0.01 s\n",
      "Operator `forward` ran in 0.02 s\n",
      "Operator `forward` ran in 0.01 s\n",
      "Operator `forward` ran in 0.01 s\n",
      "Operator `forward` ran in 0.01 s\n",
      "Operator `forward` ran in 0.01 s\n",
      "Operator `forward` ran in 0.02 s\n",
      "Operator `forward` ran in 0.03 s\n"
     ]
    },
    {
     "name": "stdout",
     "output_type": "stream",
     "text": [
      "11; function value: 693.74023\n"
     ]
    },
    {
     "name": "stderr",
     "output_type": "stream",
     "text": [
      "Operator `forward` ran in 0.02 s\n",
      "Operator `gradient` ran in 0.02 s\n",
      "Operator `forward` ran in 0.02 s\n",
      "Operator `gradient` ran in 0.02 s\n",
      "Operator `forward` ran in 0.03 s\n",
      "Operator `gradient` ran in 0.02 s\n",
      "Operator `forward` ran in 0.05 s\n",
      "Operator `gradient` ran in 0.02 s\n",
      "Operator `forward` ran in 0.04 s\n",
      "Operator `gradient` ran in 0.02 s\n",
      "Operator `forward` ran in 0.05 s\n",
      "Operator `gradient` ran in 0.02 s\n",
      "Operator `forward` ran in 0.05 s\n",
      "Operator `gradient` ran in 0.02 s\n",
      "Operator `forward` ran in 0.02 s\n",
      "Operator `gradient` ran in 0.02 s\n",
      "Operator `forward` ran in 0.05 s\n",
      "Operator `gradient` ran in 0.02 s\n",
      "Operator `forward` ran in 0.05 s\n",
      "Operator `gradient` ran in 0.02 s\n",
      "Operator `forward` ran in 0.04 s\n",
      "Operator `gradient` ran in 0.02 s\n",
      "Operator `forward` ran in 0.05 s\n",
      "Operator `gradient` ran in 0.02 s\n",
      "Operator `forward` ran in 0.04 s\n",
      "Operator `gradient` ran in 0.02 s\n",
      "Operator `forward` ran in 0.04 s\n",
      "Operator `gradient` ran in 0.02 s\n",
      "Operator `forward` ran in 0.03 s\n",
      "Operator `gradient` ran in 0.02 s\n",
      "Operator `forward` ran in 0.02 s\n",
      "Operator `gradient` ran in 0.02 s\n"
     ]
    },
    {
     "name": "stdout",
     "output_type": "stream",
     "text": [
      "(α, misfit) = (0.1f0, 99201.2578125)\n",
      "(α, misfit) = "
     ]
    },
    {
     "name": "stderr",
     "output_type": "stream",
     "text": [
      "Operator `forward` ran in 0.01 s\n",
      "Operator `forward` ran in 0.02 s\n",
      "Operator `forward` ran in 0.02 s\n",
      "Operator `forward` ran in 0.02 s\n",
      "Operator `forward` ran in 0.02 s\n",
      "Operator `forward` ran in 0.02 s\n",
      "Operator `forward` ran in 0.02 s\n",
      "Operator `forward` ran in 0.01 s\n",
      "Operator `forward` ran in 0.02 s\n",
      "Operator `forward` ran in 0.02 s\n",
      "Operator `forward` ran in 0.01 s\n",
      "Operator `forward` ran in 0.01 s\n",
      "Operator `forward` ran in 0.01 s\n",
      "Operator `forward` ran in 0.01 s\n",
      "Operator `forward` ran in 0.01 s\n",
      "Operator `forward` ran in 0.01 s\n"
     ]
    },
    {
     "name": "stdout",
     "output_type": "stream",
     "text": [
      "(0.010000000149011612, 820.4246215820312)\n"
     ]
    },
    {
     "name": "stderr",
     "output_type": "stream",
     "text": [
      "Operator `forward` ran in 0.02 s\n",
      "Operator `forward` ran in 0.01 s\n",
      "Operator `forward` ran in 0.01 s\n",
      "Operator `forward` ran in 0.01 s\n",
      "Operator `forward` ran in 0.01 s\n",
      "Operator `forward` ran in 0.02 s\n",
      "Operator `forward` ran in 0.02 s\n",
      "Operator `forward` ran in 0.02 s\n",
      "Operator `forward` ran in 0.02 s\n",
      "Operator `forward` ran in 0.01 s\n",
      "Operator `forward` ran in 0.02 s\n",
      "Operator `forward` ran in 0.01 s\n",
      "Operator `forward` ran in 0.01 s\n",
      "Operator `forward` ran in 0.01 s\n",
      "Operator `forward` ran in 0.01 s\n",
      "Operator `forward` ran in 0.02 s\n"
     ]
    },
    {
     "name": "stdout",
     "output_type": "stream",
     "text": [
      "(α, misfit) = (0.004621510939743587, 415.1334533691406)\n",
      "FWI iteration no: "
     ]
    },
    {
     "name": "stderr",
     "output_type": "stream",
     "text": [
      "Operator `forward` ran in 0.02 s\n",
      "Operator `forward` ran in 0.01 s\n",
      "Operator `forward` ran in 0.02 s\n",
      "Operator `forward` ran in 0.01 s\n",
      "Operator `forward` ran in 0.02 s\n",
      "Operator `forward` ran in 0.01 s\n",
      "Operator `forward` ran in 0.01 s\n",
      "Operator `forward` ran in 0.01 s\n",
      "Operator `forward` ran in 0.02 s\n",
      "Operator `forward` ran in 0.01 s\n",
      "Operator `forward` ran in 0.01 s\n",
      "Operator `forward` ran in 0.02 s\n",
      "Operator `forward` ran in 0.04 s\n",
      "Operator `forward` ran in 0.05 s\n",
      "Operator `forward` ran in 0.05 s\n",
      "Operator `forward` ran in 0.01 s\n"
     ]
    },
    {
     "name": "stdout",
     "output_type": "stream",
     "text": [
      "12; function value: 585.31323\n"
     ]
    },
    {
     "name": "stderr",
     "output_type": "stream",
     "text": [
      "Operator `forward` ran in 0.04 s\n",
      "Operator `gradient` ran in 0.02 s\n",
      "Operator `forward` ran in 0.04 s\n",
      "Operator `gradient` ran in 0.02 s\n",
      "Operator `forward` ran in 0.05 s\n",
      "Operator `gradient` ran in 0.02 s\n",
      "Operator `forward` ran in 0.04 s\n",
      "Operator `gradient` ran in 0.02 s\n",
      "Operator `forward` ran in 0.02 s\n",
      "Operator `gradient` ran in 0.02 s\n",
      "Operator `forward` ran in 0.02 s\n",
      "Operator `gradient` ran in 0.02 s\n",
      "Operator `forward` ran in 0.02 s\n",
      "Operator `gradient` ran in 0.02 s\n",
      "Operator `forward` ran in 0.02 s\n",
      "Operator `gradient` ran in 0.02 s\n",
      "Operator `forward` ran in 0.05 s\n",
      "Operator `gradient` ran in 0.02 s\n",
      "Operator `forward` ran in 0.05 s\n",
      "Operator `gradient` ran in 0.02 s\n",
      "Operator `forward` ran in 0.05 s\n",
      "Operator `gradient` ran in 0.02 s\n",
      "Operator `forward` ran in 0.02 s\n",
      "Operator `gradient` ran in 0.02 s\n",
      "Operator `forward` ran in 0.02 s\n",
      "Operator `gradient` ran in 0.02 s\n",
      "Operator `forward` ran in 0.02 s\n",
      "Operator `gradient` ran in 0.02 s\n",
      "Operator `forward` ran in 0.02 s\n",
      "Operator `gradient` ran in 0.02 s\n",
      "Operator `forward` ran in 0.02 s\n",
      "Operator `gradient` ran in 0.02 s\n"
     ]
    },
    {
     "name": "stdout",
     "output_type": "stream",
     "text": [
      "(α, misfit) = (0.1f0, 956622.25)\n",
      "(α, misfit) = "
     ]
    },
    {
     "name": "stderr",
     "output_type": "stream",
     "text": [
      "Operator `forward` ran in 0.01 s\n",
      "Operator `forward` ran in 0.02 s\n",
      "Operator `forward` ran in 0.02 s\n",
      "Operator `forward` ran in 0.02 s\n",
      "Operator `forward` ran in 0.03 s\n",
      "Operator `forward` ran in 0.01 s\n",
      "Operator `forward` ran in 0.02 s\n",
      "Operator `forward` ran in 0.02 s\n",
      "Operator `forward` ran in 0.02 s\n",
      "Operator `forward` ran in 0.02 s\n",
      "Operator `forward` ran in 0.02 s\n",
      "Operator `forward` ran in 0.02 s\n",
      "Operator `forward` ran in 0.02 s\n",
      "Operator `forward` ran in 0.02 s\n",
      "Operator `forward` ran in 0.02 s\n",
      "Operator `forward` ran in 0.01 s\n"
     ]
    },
    {
     "name": "stdout",
     "output_type": "stream",
     "text": [
      "(0.010000000149011612, 9564.5703125)\n"
     ]
    },
    {
     "name": "stderr",
     "output_type": "stream",
     "text": [
      "Operator `forward` ran in 0.02 s\n",
      "Operator `forward` ran in 0.03 s\n",
      "Operator `forward` ran in 0.02 s\n",
      "Operator `forward` ran in 0.02 s\n",
      "Operator `forward` ran in 0.02 s\n",
      "Operator `forward` ran in 0.02 s\n",
      "Operator `forward` ran in 0.02 s\n",
      "Operator `forward` ran in 0.02 s\n",
      "Operator `forward` ran in 0.02 s\n",
      "Operator `forward` ran in 0.01 s\n",
      "Operator `forward` ran in 0.02 s\n",
      "Operator `forward` ran in 0.02 s\n",
      "Operator `forward` ran in 0.01 s\n",
      "Operator `forward` ran in 0.01 s\n",
      "Operator `forward` ran in 0.01 s\n",
      "Operator `forward` ran in 0.01 s\n"
     ]
    },
    {
     "name": "stdout",
     "output_type": "stream",
     "text": [
      "(α, misfit) = (0.0010000000149011613, 390.6310119628906)\n",
      "FWI iteration no: "
     ]
    },
    {
     "name": "stderr",
     "output_type": "stream",
     "text": [
      "Operator `forward` ran in 0.02 s\n",
      "Operator `forward` ran in 0.01 s\n",
      "Operator `forward` ran in 0.01 s\n",
      "Operator `forward` ran in 0.01 s\n",
      "Operator `forward` ran in 0.01 s\n",
      "Operator `forward` ran in 0.02 s\n",
      "Operator `forward` ran in 0.02 s\n",
      "Operator `forward` ran in 0.02 s\n",
      "Operator `forward` ran in 0.01 s\n",
      "Operator `forward` ran in 0.01 s\n",
      "Operator `forward` ran in 0.01 s\n",
      "Operator `forward` ran in 0.02 s\n",
      "Operator `forward` ran in 0.01 s\n",
      "Operator `forward` ran in 0.01 s\n",
      "Operator `forward` ran in 0.01 s\n",
      "Operator `forward` ran in 0.01 s\n"
     ]
    },
    {
     "name": "stdout",
     "output_type": "stream",
     "text": [
      "13; function value: 455.08813\n"
     ]
    },
    {
     "name": "stderr",
     "output_type": "stream",
     "text": [
      "Operator `forward` ran in 0.02 s\n",
      "Operator `gradient` ran in 0.02 s\n",
      "Operator `forward` ran in 0.02 s\n",
      "Operator `gradient` ran in 0.02 s\n",
      "Operator `forward` ran in 0.02 s\n",
      "Operator `gradient` ran in 0.02 s\n",
      "Operator `forward` ran in 0.02 s\n",
      "Operator `gradient` ran in 0.03 s\n",
      "Operator `forward` ran in 0.02 s\n",
      "Operator `gradient` ran in 0.02 s\n",
      "Operator `forward` ran in 0.02 s\n",
      "Operator `gradient` ran in 0.02 s\n",
      "Operator `forward` ran in 0.02 s\n",
      "Operator `gradient` ran in 0.02 s\n",
      "Operator `forward` ran in 0.03 s\n",
      "Operator `gradient` ran in 0.02 s\n",
      "Operator `forward` ran in 0.03 s\n",
      "Operator `gradient` ran in 0.04 s\n",
      "Operator `forward` ran in 0.02 s\n",
      "Operator `gradient` ran in 0.02 s\n",
      "Operator `forward` ran in 0.02 s\n",
      "Operator `gradient` ran in 0.02 s\n",
      "Operator `forward` ran in 0.02 s\n",
      "Operator `gradient` ran in 0.02 s\n",
      "Operator `forward` ran in 0.03 s\n",
      "Operator `gradient` ran in 0.02 s\n",
      "Operator `forward` ran in 0.03 s\n",
      "Operator `gradient` ran in 0.02 s\n",
      "Operator `forward` ran in 0.02 s\n",
      "Operator `gradient` ran in 0.02 s\n",
      "Operator `forward` ran in 0.02 s\n",
      "Operator `gradient` ran in 0.02 s\n"
     ]
    },
    {
     "name": "stdout",
     "output_type": "stream",
     "text": [
      "(α, misfit) = (0.1f0, 5693.2138671875)\n",
      "(α, misfit) = "
     ]
    },
    {
     "name": "stderr",
     "output_type": "stream",
     "text": [
      "Operator `forward` ran in 0.01 s\n",
      "Operator `forward` ran in 0.02 s\n",
      "Operator `forward` ran in 0.02 s\n",
      "Operator `forward` ran in 0.01 s\n",
      "Operator `forward` ran in 0.02 s\n",
      "Operator `forward` ran in 0.02 s\n",
      "Operator `forward` ran in 0.02 s\n",
      "Operator `forward` ran in 0.02 s\n",
      "Operator `forward` ran in 0.01 s\n",
      "Operator `forward` ran in 0.02 s\n",
      "Operator `forward` ran in 0.01 s\n",
      "Operator `forward` ran in 0.01 s\n",
      "Operator `forward` ran in 0.01 s\n",
      "Operator `forward` ran in 0.01 s\n",
      "Operator `forward` ran in 0.01 s\n",
      "Operator `forward` ran in 0.02 s\n"
     ]
    },
    {
     "name": "stdout",
     "output_type": "stream",
     "text": [
      "(0.02979104545935346, 645.3432006835938)\n"
     ]
    },
    {
     "name": "stderr",
     "output_type": "stream",
     "text": [
      "Operator `forward` ran in 0.02 s\n",
      "Operator `forward` ran in 0.02 s\n",
      "Operator `forward` ran in 0.02 s\n",
      "Operator `forward` ran in 0.02 s\n",
      "Operator `forward` ran in 0.02 s\n",
      "Operator `forward` ran in 0.01 s\n",
      "Operator `forward` ran in 0.01 s\n",
      "Operator `forward` ran in 0.01 s\n",
      "Operator `forward` ran in 0.01 s\n",
      "Operator `forward` ran in 0.01 s\n",
      "Operator `forward` ran in 0.01 s\n",
      "Operator `forward` ran in 0.02 s\n",
      "Operator `forward` ran in 0.02 s\n",
      "Operator `forward` ran in 0.02 s\n",
      "Operator `forward` ran in 0.02 s\n",
      "Operator `forward` ran in 0.02 s\n"
     ]
    },
    {
     "name": "stdout",
     "output_type": "stream",
     "text": [
      "(α, misfit) = (0.012712836218676495, 334.81036376953125)\n",
      "FWI iteration no: "
     ]
    },
    {
     "name": "stderr",
     "output_type": "stream",
     "text": [
      "Operator `forward` ran in 0.02 s\n",
      "Operator `forward` ran in 0.01 s\n",
      "Operator `forward` ran in 0.01 s\n",
      "Operator `forward` ran in 0.01 s\n",
      "Operator `forward` ran in 0.02 s\n",
      "Operator `forward` ran in 0.01 s\n",
      "Operator `forward` ran in 0.01 s\n",
      "Operator `forward` ran in 0.02 s\n",
      "Operator `forward` ran in 0.01 s\n",
      "Operator `forward` ran in 0.02 s\n",
      "Operator `forward` ran in 0.02 s\n",
      "Operator `forward` ran in 0.01 s\n",
      "Operator `forward` ran in 0.01 s\n",
      "Operator `forward` ran in 0.01 s\n",
      "Operator `forward` ran in 0.01 s\n",
      "Operator `forward` ran in 0.02 s\n"
     ]
    },
    {
     "name": "stdout",
     "output_type": "stream",
     "text": [
      "14; function value: 479.27252\n"
     ]
    },
    {
     "name": "stderr",
     "output_type": "stream",
     "text": [
      "Operator `forward` ran in 0.02 s\n",
      "Operator `gradient` ran in 0.02 s\n",
      "Operator `forward` ran in 0.02 s\n",
      "Operator `gradient` ran in 0.02 s\n",
      "Operator `forward` ran in 0.02 s\n",
      "Operator `gradient` ran in 0.02 s\n",
      "Operator `forward` ran in 0.02 s\n",
      "Operator `gradient` ran in 0.02 s\n",
      "Operator `forward` ran in 0.02 s\n",
      "Operator `gradient` ran in 0.02 s\n",
      "Operator `forward` ran in 0.04 s\n",
      "Operator `gradient` ran in 0.02 s\n",
      "Operator `forward` ran in 0.02 s\n",
      "Operator `gradient` ran in 0.02 s\n",
      "Operator `forward` ran in 0.02 s\n",
      "Operator `gradient` ran in 0.02 s\n",
      "Operator `forward` ran in 0.02 s\n",
      "Operator `gradient` ran in 0.02 s\n",
      "Operator `forward` ran in 0.02 s\n",
      "Operator `gradient` ran in 0.02 s\n",
      "Operator `forward` ran in 0.02 s\n",
      "Operator `gradient` ran in 0.02 s\n",
      "Operator `forward` ran in 0.02 s\n",
      "Operator `gradient` ran in 0.03 s\n",
      "Operator `forward` ran in 0.02 s\n",
      "Operator `gradient` ran in 0.02 s\n",
      "Operator `forward` ran in 0.02 s\n",
      "Operator `gradient` ran in 0.02 s\n",
      "Operator `forward` ran in 0.02 s\n",
      "Operator `gradient` ran in 0.02 s\n",
      "Operator `forward` ran in 0.02 s\n",
      "Operator `gradient` ran in 0.02 s\n"
     ]
    },
    {
     "name": "stdout",
     "output_type": "stream",
     "text": [
      "(α, misfit) = (0.1f0, 997807.8125)\n",
      "(α, misfit) = "
     ]
    },
    {
     "name": "stderr",
     "output_type": "stream",
     "text": [
      "Operator `forward` ran in 0.01 s\n",
      "Operator `forward` ran in 0.01 s\n",
      "Operator `forward` ran in 0.01 s\n",
      "Operator `forward` ran in 0.01 s\n",
      "Operator `forward` ran in 0.02 s\n",
      "Operator `forward` ran in 0.02 s\n",
      "Operator `forward` ran in 0.02 s\n",
      "Operator `forward` ran in 0.01 s\n",
      "Operator `forward` ran in 0.02 s\n",
      "Operator `forward` ran in 0.01 s\n",
      "Operator `forward` ran in 0.02 s\n",
      "Operator `forward` ran in 0.01 s\n",
      "Operator `forward` ran in 0.02 s\n",
      "Operator `forward` ran in 0.01 s\n",
      "Operator `forward` ran in 0.01 s\n",
      "Operator `forward` ran in 0.01 s\n"
     ]
    },
    {
     "name": "stdout",
     "output_type": "stream",
     "text": [
      "(0.010000000149011612, 9958.212890625)\n"
     ]
    },
    {
     "name": "stderr",
     "output_type": "stream",
     "text": [
      "Operator `forward` ran in 0.03 s\n",
      "Operator `forward` ran in 0.01 s\n",
      "Operator `forward` ran in 0.01 s\n",
      "Operator `forward` ran in 0.02 s\n",
      "Operator `forward` ran in 0.01 s\n",
      "Operator `forward` ran in 0.02 s\n",
      "Operator `forward` ran in 0.01 s\n",
      "Operator `forward` ran in 0.02 s\n",
      "Operator `forward` ran in 0.01 s\n",
      "Operator `forward` ran in 0.01 s\n",
      "Operator `forward` ran in 0.01 s\n",
      "Operator `forward` ran in 0.01 s\n",
      "Operator `forward` ran in 0.01 s\n",
      "Operator `forward` ran in 0.01 s\n",
      "Operator `forward` ran in 0.01 s\n",
      "Operator `forward` ran in 0.01 s\n"
     ]
    },
    {
     "name": "stdout",
     "output_type": "stream",
     "text": [
      "(α, misfit) = (0.0010000000149011613, 331.0960998535156)\n",
      "FWI iteration no: "
     ]
    },
    {
     "name": "stderr",
     "output_type": "stream",
     "text": [
      "Operator `forward` ran in 0.02 s\n",
      "Operator `forward` ran in 0.01 s\n",
      "Operator `forward` ran in 0.01 s\n",
      "Operator `forward` ran in 0.01 s\n",
      "Operator `forward` ran in 0.02 s\n",
      "Operator `forward` ran in 0.01 s\n",
      "Operator `forward` ran in 0.02 s\n",
      "Operator `forward` ran in 0.02 s\n",
      "Operator `forward` ran in 0.02 s\n",
      "Operator `forward` ran in 0.01 s\n",
      "Operator `forward` ran in 0.01 s\n",
      "Operator `forward` ran in 0.01 s\n",
      "Operator `forward` ran in 0.02 s\n",
      "Operator `forward` ran in 0.01 s\n",
      "Operator `forward` ran in 0.02 s\n",
      "Operator `forward` ran in 0.02 s\n"
     ]
    },
    {
     "name": "stdout",
     "output_type": "stream",
     "text": [
      "15; function value: 418.33844\n"
     ]
    },
    {
     "name": "stderr",
     "output_type": "stream",
     "text": [
      "Operator `forward` ran in 0.04 s\n",
      "Operator `gradient` ran in 0.02 s\n",
      "Operator `forward` ran in 0.02 s\n",
      "Operator `gradient` ran in 0.02 s\n",
      "Operator `forward` ran in 0.05 s\n",
      "Operator `gradient` ran in 0.02 s\n",
      "Operator `forward` ran in 0.05 s\n",
      "Operator `gradient` ran in 0.02 s\n",
      "Operator `forward` ran in 0.05 s\n",
      "Operator `gradient` ran in 0.02 s\n",
      "Operator `forward` ran in 0.05 s\n",
      "Operator `gradient` ran in 0.02 s\n",
      "Operator `forward` ran in 0.05 s\n",
      "Operator `gradient` ran in 0.02 s\n",
      "Operator `forward` ran in 0.05 s\n",
      "Operator `gradient` ran in 0.02 s\n",
      "Operator `forward` ran in 0.04 s\n",
      "Operator `gradient` ran in 0.02 s\n",
      "Operator `forward` ran in 0.05 s\n",
      "Operator `gradient` ran in 0.02 s\n",
      "Operator `forward` ran in 0.05 s\n",
      "Operator `gradient` ran in 0.02 s\n",
      "Operator `forward` ran in 0.04 s\n",
      "Operator `gradient` ran in 0.02 s\n",
      "Operator `forward` ran in 0.04 s\n",
      "Operator `gradient` ran in 0.02 s\n",
      "Operator `forward` ran in 0.04 s\n",
      "Operator `gradient` ran in 0.02 s\n",
      "Operator `forward` ran in 0.04 s\n",
      "Operator `gradient` ran in 0.02 s\n",
      "Operator `forward` ran in 0.02 s\n",
      "Operator `gradient` ran in 0.02 s\n"
     ]
    },
    {
     "name": "stdout",
     "output_type": "stream",
     "text": [
      "(α, misfit) = (0.1f0, 28385.1953125)\n",
      "(α, misfit) = "
     ]
    },
    {
     "name": "stderr",
     "output_type": "stream",
     "text": [
      "Operator `forward` ran in 0.01 s\n",
      "Operator `forward` ran in 0.02 s\n",
      "Operator `forward` ran in 0.01 s\n",
      "Operator `forward` ran in 0.01 s\n",
      "Operator `forward` ran in 0.01 s\n",
      "Operator `forward` ran in 0.01 s\n",
      "Operator `forward` ran in 0.01 s\n",
      "Operator `forward` ran in 0.01 s\n",
      "Operator `forward` ran in 0.01 s\n",
      "Operator `forward` ran in 0.01 s\n",
      "Operator `forward` ran in 0.01 s\n",
      "Operator `forward` ran in 0.01 s\n",
      "Operator `forward` ran in 0.01 s\n",
      "Operator `forward` ran in 0.01 s\n",
      "Operator `forward` ran in 0.01 s\n",
      "Operator `forward` ran in 0.02 s\n"
     ]
    },
    {
     "name": "stdout",
     "output_type": "stream",
     "text": [
      "(0.013397537597864596, 652.3231811523438)\n"
     ]
    },
    {
     "name": "stderr",
     "output_type": "stream",
     "text": [
      "Operator `forward` ran in 0.02 s\n",
      "Operator `forward` ran in 0.02 s\n",
      "Operator `forward` ran in 0.02 s\n",
      "Operator `forward` ran in 0.01 s\n",
      "Operator `forward` ran in 0.02 s\n",
      "Operator `forward` ran in 0.01 s\n",
      "Operator `forward` ran in 0.01 s\n",
      "Operator `forward` ran in 0.01 s\n",
      "Operator `forward` ran in 0.01 s\n",
      "Operator `forward` ran in 0.01 s\n",
      "Operator `forward` ran in 0.01 s\n",
      "Operator `forward` ran in 0.01 s\n",
      "Operator `forward` ran in 0.01 s\n",
      "Operator `forward` ran in 0.01 s\n",
      "Operator `forward` ran in 0.02 s\n",
      "Operator `forward` ran in 0.02 s\n"
     ]
    },
    {
     "name": "stdout",
     "output_type": "stream",
     "text": [
      "(α, misfit) = (0.005535931572301054, 324.16778564453125)\n",
      "FWI iteration no: "
     ]
    },
    {
     "name": "stderr",
     "output_type": "stream",
     "text": [
      "Operator `forward` ran in 0.02 s\n",
      "Operator `forward` ran in 0.01 s\n",
      "Operator `forward` ran in 0.01 s\n",
      "Operator `forward` ran in 0.02 s\n",
      "Operator `forward` ran in 0.01 s\n",
      "Operator `forward` ran in 0.01 s\n",
      "Operator `forward` ran in 0.02 s\n",
      "Operator `forward` ran in 0.01 s\n",
      "Operator `forward` ran in 0.01 s\n",
      "Operator `forward` ran in 0.01 s\n",
      "Operator `forward` ran in 0.01 s\n",
      "Operator `forward` ran in 0.01 s\n",
      "Operator `forward` ran in 0.01 s\n",
      "Operator `forward` ran in 0.01 s\n",
      "Operator `forward` ran in 0.01 s\n",
      "Operator `forward` ran in 0.01 s\n"
     ]
    },
    {
     "name": "stdout",
     "output_type": "stream",
     "text": [
      "16; function value: 475.31537\n"
     ]
    },
    {
     "name": "stderr",
     "output_type": "stream",
     "text": [
      "Operator `forward` ran in 0.02 s\n",
      "Operator `gradient` ran in 0.02 s\n",
      "Operator `forward` ran in 0.02 s\n",
      "Operator `gradient` ran in 0.02 s\n",
      "Operator `forward` ran in 0.02 s\n",
      "Operator `gradient` ran in 0.02 s\n",
      "Operator `forward` ran in 0.02 s\n",
      "Operator `gradient` ran in 0.02 s\n",
      "Operator `forward` ran in 0.02 s\n",
      "Operator `gradient` ran in 0.02 s\n",
      "Operator `forward` ran in 0.02 s\n",
      "Operator `gradient` ran in 0.02 s\n",
      "Operator `forward` ran in 0.02 s\n",
      "Operator `gradient` ran in 0.02 s\n",
      "Operator `forward` ran in 0.02 s\n",
      "Operator `gradient` ran in 0.02 s\n",
      "Operator `forward` ran in 0.02 s\n",
      "Operator `gradient` ran in 0.02 s\n",
      "Operator `forward` ran in 0.03 s\n",
      "Operator `gradient` ran in 0.02 s\n",
      "Operator `forward` ran in 0.02 s\n",
      "Operator `gradient` ran in 0.02 s\n",
      "Operator `forward` ran in 0.02 s\n",
      "Operator `gradient` ran in 0.02 s\n",
      "Operator `forward` ran in 0.02 s\n",
      "Operator `gradient` ran in 0.02 s\n",
      "Operator `forward` ran in 0.02 s\n",
      "Operator `gradient` ran in 0.02 s\n",
      "Operator `forward` ran in 0.02 s\n",
      "Operator `gradient` ran in 0.02 s\n",
      "Operator `forward` ran in 0.02 s\n",
      "Operator `gradient` ran in 0.02 s\n"
     ]
    },
    {
     "name": "stdout",
     "output_type": "stream",
     "text": [
      "(α, misfit) = (0.1f0, 1.0354850625e6)\n",
      "(α, misfit) = "
     ]
    },
    {
     "name": "stderr",
     "output_type": "stream",
     "text": [
      "Operator `forward` ran in 0.01 s\n",
      "Operator `forward` ran in 0.01 s\n",
      "Operator `forward` ran in 0.01 s\n",
      "Operator `forward` ran in 0.01 s\n",
      "Operator `forward` ran in 0.01 s\n",
      "Operator `forward` ran in 0.01 s\n",
      "Operator `forward` ran in 0.01 s\n",
      "Operator `forward` ran in 0.01 s\n",
      "Operator `forward` ran in 0.02 s\n",
      "Operator `forward` ran in 0.01 s\n",
      "Operator `forward` ran in 0.01 s\n",
      "Operator `forward` ran in 0.01 s\n",
      "Operator `forward` ran in 0.01 s\n",
      "Operator `forward` ran in 0.01 s\n",
      "Operator `forward` ran in 0.02 s\n",
      "Operator `forward` ran in 0.01 s\n"
     ]
    },
    {
     "name": "stdout",
     "output_type": "stream",
     "text": [
      "(0.010000000149011612, 10480.919921875)\n"
     ]
    },
    {
     "name": "stderr",
     "output_type": "stream",
     "text": [
      "Operator `forward` ran in 0.02 s\n",
      "Operator `forward` ran in 0.01 s\n",
      "Operator `forward` ran in 0.01 s\n",
      "Operator `forward` ran in 0.01 s\n",
      "Operator `forward` ran in 0.02 s\n",
      "Operator `forward` ran in 0.01 s\n",
      "Operator `forward` ran in 0.02 s\n",
      "Operator `forward` ran in 0.01 s\n",
      "Operator `forward` ran in 0.01 s\n",
      "Operator `forward` ran in 0.01 s\n",
      "Operator `forward` ran in 0.02 s\n",
      "Operator `forward` ran in 0.01 s\n",
      "Operator `forward` ran in 0.01 s\n",
      "Operator `forward` ran in 0.02 s\n",
      "Operator `forward` ran in 0.01 s\n",
      "Operator `forward` ran in 0.01 s\n"
     ]
    },
    {
     "name": "stdout",
     "output_type": "stream",
     "text": [
      "(α, misfit) = (0.0010000000149011613, 293.32232666015625)\n",
      "FWI iteration no: "
     ]
    },
    {
     "name": "stderr",
     "output_type": "stream",
     "text": [
      "Operator `forward` ran in 0.03 s\n",
      "Operator `forward` ran in 0.05 s\n",
      "Operator `forward` ran in 0.04 s\n",
      "Operator `forward` ran in 0.04 s\n",
      "Operator `forward` ran in 0.04 s\n",
      "Operator `forward` ran in 0.01 s\n",
      "Operator `forward` ran in 0.03 s\n",
      "Operator `forward` ran in 0.04 s\n",
      "Operator `forward` ran in 0.03 s\n",
      "Operator `forward` ran in 0.05 s\n",
      "Operator `forward` ran in 0.04 s\n",
      "Operator `forward` ran in 0.04 s\n",
      "Operator `forward` ran in 0.04 s\n",
      "Operator `forward` ran in 0.05 s\n",
      "Operator `forward` ran in 0.04 s\n",
      "Operator `forward` ran in 0.01 s\n"
     ]
    },
    {
     "name": "stdout",
     "output_type": "stream",
     "text": [
      "17; function value: 367.74915\n"
     ]
    },
    {
     "name": "stderr",
     "output_type": "stream",
     "text": [
      "Operator `forward` ran in 0.04 s\n",
      "Operator `gradient` ran in 0.02 s\n",
      "Operator `forward` ran in 0.05 s\n",
      "Operator `gradient` ran in 0.02 s\n",
      "Operator `forward` ran in 0.02 s\n",
      "Operator `gradient` ran in 0.02 s\n",
      "Operator `forward` ran in 0.02 s\n",
      "Operator `gradient` ran in 0.02 s\n",
      "Operator `forward` ran in 0.02 s\n",
      "Operator `gradient` ran in 0.02 s\n",
      "Operator `forward` ran in 0.02 s\n",
      "Operator `gradient` ran in 0.02 s\n",
      "Operator `forward` ran in 0.02 s\n",
      "Operator `gradient` ran in 0.02 s\n",
      "Operator `forward` ran in 0.02 s\n",
      "Operator `gradient` ran in 0.02 s\n",
      "Operator `forward` ran in 0.02 s\n",
      "Operator `gradient` ran in 0.02 s\n",
      "Operator `forward` ran in 0.02 s\n",
      "Operator `gradient` ran in 0.02 s\n",
      "Operator `forward` ran in 0.02 s\n",
      "Operator `gradient` ran in 0.02 s\n",
      "Operator `forward` ran in 0.02 s\n",
      "Operator `gradient` ran in 0.02 s\n",
      "Operator `forward` ran in 0.02 s\n",
      "Operator `gradient` ran in 0.02 s\n",
      "Operator `forward` ran in 0.02 s\n",
      "Operator `gradient` ran in 0.02 s\n",
      "Operator `forward` ran in 0.02 s\n",
      "Operator `gradient` ran in 0.02 s\n",
      "Operator `forward` ran in 0.02 s\n",
      "Operator `gradient` ran in 0.02 s\n"
     ]
    },
    {
     "name": "stdout",
     "output_type": "stream",
     "text": [
      "(α, misfit) = (0.1f0, 8896.6923828125)\n",
      "(α, misfit) = "
     ]
    },
    {
     "name": "stderr",
     "output_type": "stream",
     "text": [
      "Operator `forward` ran in 0.01 s\n",
      "Operator `forward` ran in 0.01 s\n",
      "Operator `forward` ran in 0.01 s\n",
      "Operator `forward` ran in 0.01 s\n",
      "Operator `forward` ran in 0.01 s\n",
      "Operator `forward` ran in 0.01 s\n",
      "Operator `forward` ran in 0.02 s\n",
      "Operator `forward` ran in 0.02 s\n",
      "Operator `forward` ran in 0.01 s\n",
      "Operator `forward` ran in 0.01 s\n",
      "Operator `forward` ran in 0.02 s\n",
      "Operator `forward` ran in 0.01 s\n",
      "Operator `forward` ran in 0.02 s\n",
      "Operator `forward` ran in 0.01 s\n",
      "Operator `forward` ran in 0.01 s\n",
      "Operator `forward` ran in 0.01 s\n"
     ]
    },
    {
     "name": "stdout",
     "output_type": "stream",
     "text": [
      "(0.02389125315533329, 636.4507446289062)\n"
     ]
    },
    {
     "name": "stderr",
     "output_type": "stream",
     "text": [
      "Operator `forward` ran in 0.02 s\n",
      "Operator `forward` ran in 0.01 s\n",
      "Operator `forward` ran in 0.01 s\n",
      "Operator `forward` ran in 0.01 s\n",
      "Operator `forward` ran in 0.01 s\n",
      "Operator `forward` ran in 0.01 s\n",
      "Operator `forward` ran in 0.01 s\n",
      "Operator `forward` ran in 0.01 s\n",
      "Operator `forward` ran in 0.02 s\n",
      "Operator `forward` ran in 0.01 s\n",
      "Operator `forward` ran in 0.01 s\n",
      "Operator `forward` ran in 0.02 s\n",
      "Operator `forward` ran in 0.01 s\n",
      "Operator `forward` ran in 0.01 s\n",
      "Operator `forward` ran in 0.01 s\n",
      "Operator `forward` ran in 0.01 s\n"
     ]
    },
    {
     "name": "stdout",
     "output_type": "stream",
     "text": [
      "(α, misfit) = (0.009773664351582036, 293.42242431640625)\n",
      "FWI iteration no: "
     ]
    },
    {
     "name": "stderr",
     "output_type": "stream",
     "text": [
      "Operator `forward` ran in 0.02 s\n",
      "Operator `forward` ran in 0.01 s\n",
      "Operator `forward` ran in 0.01 s\n",
      "Operator `forward` ran in 0.01 s\n",
      "Operator `forward` ran in 0.02 s\n",
      "Operator `forward` ran in 0.01 s\n",
      "Operator `forward` ran in 0.01 s\n",
      "Operator `forward` ran in 0.01 s\n",
      "Operator `forward` ran in 0.01 s\n",
      "Operator `forward` ran in 0.01 s\n",
      "Operator `forward` ran in 0.01 s\n",
      "Operator `forward` ran in 0.02 s\n",
      "Operator `forward` ran in 0.01 s\n",
      "Operator `forward` ran in 0.01 s\n",
      "Operator `forward` ran in 0.02 s\n",
      "Operator `forward` ran in 0.02 s\n"
     ]
    },
    {
     "name": "stdout",
     "output_type": "stream",
     "text": [
      "18; function value: 402.24234\n"
     ]
    },
    {
     "name": "stderr",
     "output_type": "stream",
     "text": [
      "Operator `forward` ran in 0.02 s\n",
      "Operator `gradient` ran in 0.02 s\n",
      "Operator `forward` ran in 0.02 s\n",
      "Operator `gradient` ran in 0.02 s\n",
      "Operator `forward` ran in 0.02 s\n",
      "Operator `gradient` ran in 0.02 s\n",
      "Operator `forward` ran in 0.02 s\n",
      "Operator `gradient` ran in 0.02 s\n",
      "Operator `forward` ran in 0.02 s\n",
      "Operator `gradient` ran in 0.02 s\n",
      "Operator `forward` ran in 0.02 s\n",
      "Operator `gradient` ran in 0.02 s\n",
      "Operator `forward` ran in 0.02 s\n",
      "Operator `gradient` ran in 0.02 s\n",
      "Operator `forward` ran in 0.02 s\n",
      "Operator `gradient` ran in 0.02 s\n",
      "Operator `forward` ran in 0.02 s\n",
      "Operator `gradient` ran in 0.02 s\n",
      "Operator `forward` ran in 0.02 s\n",
      "Operator `gradient` ran in 0.02 s\n",
      "Operator `forward` ran in 0.02 s\n",
      "Operator `gradient` ran in 0.02 s\n",
      "Operator `forward` ran in 0.02 s\n",
      "Operator `gradient` ran in 0.02 s\n",
      "Operator `forward` ran in 0.02 s\n",
      "Operator `gradient` ran in 0.02 s\n",
      "Operator `forward` ran in 0.02 s\n",
      "Operator `gradient` ran in 0.02 s\n",
      "Operator `forward` ran in 0.02 s\n",
      "Operator `gradient` ran in 0.02 s\n",
      "Operator `forward` ran in 0.02 s\n",
      "Operator `gradient` ran in 0.02 s\n"
     ]
    },
    {
     "name": "stdout",
     "output_type": "stream",
     "text": [
      "(α, misfit) = (0.1f0, 1.134456e6)\n",
      "(α, misfit) = "
     ]
    },
    {
     "name": "stderr",
     "output_type": "stream",
     "text": [
      "Operator `forward` ran in 0.01 s\n",
      "Operator `forward` ran in 0.02 s\n",
      "Operator `forward` ran in 0.01 s\n",
      "Operator `forward` ran in 0.01 s\n",
      "Operator `forward` ran in 0.01 s\n",
      "Operator `forward` ran in 0.02 s\n",
      "Operator `forward` ran in 0.01 s\n",
      "Operator `forward` ran in 0.02 s\n",
      "Operator `forward` ran in 0.02 s\n",
      "Operator `forward` ran in 0.02 s\n",
      "Operator `forward` ran in 0.02 s\n",
      "Operator `forward` ran in 0.02 s\n",
      "Operator `forward` ran in 0.01 s\n",
      "Operator `forward` ran in 0.01 s\n",
      "Operator `forward` ran in 0.02 s\n",
      "Operator `forward` ran in 0.01 s\n"
     ]
    },
    {
     "name": "stdout",
     "output_type": "stream",
     "text": [
      "(0.010000000149011612, 11526.90234375)\n"
     ]
    },
    {
     "name": "stderr",
     "output_type": "stream",
     "text": [
      "Operator `forward` ran in 0.02 s\n",
      "Operator `forward` ran in 0.01 s\n",
      "Operator `forward` ran in 0.01 s\n",
      "Operator `forward` ran in 0.01 s\n",
      "Operator `forward` ran in 0.01 s\n",
      "Operator `forward` ran in 0.01 s\n",
      "Operator `forward` ran in 0.01 s\n",
      "Operator `forward` ran in 0.02 s\n",
      "Operator `forward` ran in 0.02 s\n",
      "Operator `forward` ran in 0.01 s\n",
      "Operator `forward` ran in 0.02 s\n",
      "Operator `forward` ran in 0.02 s\n",
      "Operator `forward` ran in 0.01 s\n",
      "Operator `forward` ran in 0.01 s\n",
      "Operator `forward` ran in 0.02 s\n",
      "Operator `forward` ran in 0.02 s\n"
     ]
    },
    {
     "name": "stdout",
     "output_type": "stream",
     "text": [
      "(α, misfit) = (0.0010000000149011613, 258.2828369140625)\n",
      "FWI iteration no: "
     ]
    },
    {
     "name": "stderr",
     "output_type": "stream",
     "text": [
      "Operator `forward` ran in 0.03 s\n",
      "Operator `forward` ran in 0.01 s\n",
      "Operator `forward` ran in 0.01 s\n",
      "Operator `forward` ran in 0.01 s\n",
      "Operator `forward` ran in 0.01 s\n",
      "Operator `forward` ran in 0.01 s\n",
      "Operator `forward` ran in 0.01 s\n",
      "Operator `forward` ran in 0.02 s\n",
      "Operator `forward` ran in 0.02 s\n",
      "Operator `forward` ran in 0.04 s\n",
      "Operator `forward` ran in 0.05 s\n",
      "Operator `forward` ran in 0.01 s\n",
      "Operator `forward` ran in 0.04 s\n",
      "Operator `forward` ran in 0.05 s\n",
      "Operator `forward` ran in 0.05 s\n",
      "Operator `forward` ran in 0.04 s\n"
     ]
    },
    {
     "name": "stdout",
     "output_type": "stream",
     "text": [
      "19; function value: 378.18774\n"
     ]
    },
    {
     "name": "stderr",
     "output_type": "stream",
     "text": [
      "Operator `forward` ran in 0.03 s\n",
      "Operator `gradient` ran in 0.02 s\n",
      "Operator `forward` ran in 0.05 s\n",
      "Operator `gradient` ran in 0.02 s\n",
      "Operator `forward` ran in 0.04 s\n",
      "Operator `gradient` ran in 0.02 s\n",
      "Operator `forward` ran in 0.02 s\n",
      "Operator `gradient` ran in 0.02 s\n",
      "Operator `forward` ran in 0.02 s\n",
      "Operator `gradient` ran in 0.02 s\n",
      "Operator `forward` ran in 0.02 s\n",
      "Operator `gradient` ran in 0.02 s\n",
      "Operator `forward` ran in 0.02 s\n",
      "Operator `gradient` ran in 0.02 s\n",
      "Operator `forward` ran in 0.02 s\n",
      "Operator `gradient` ran in 0.02 s\n",
      "Operator `forward` ran in 0.02 s\n",
      "Operator `gradient` ran in 0.02 s\n",
      "Operator `forward` ran in 0.02 s\n",
      "Operator `gradient` ran in 0.02 s\n",
      "Operator `forward` ran in 0.02 s\n",
      "Operator `gradient` ran in 0.02 s\n",
      "Operator `forward` ran in 0.02 s\n",
      "Operator `gradient` ran in 0.02 s\n",
      "Operator `forward` ran in 0.02 s\n",
      "Operator `gradient` ran in 0.02 s\n",
      "Operator `forward` ran in 0.02 s\n",
      "Operator `gradient` ran in 0.02 s\n",
      "Operator `forward` ran in 0.02 s\n",
      "Operator `gradient` ran in 0.02 s\n",
      "Operator `forward` ran in 0.02 s\n",
      "Operator `gradient` ran in 0.02 s\n"
     ]
    },
    {
     "name": "stdout",
     "output_type": "stream",
     "text": [
      "(α, misfit) = (0.1f0, 28735.740234375)\n",
      "(α, misfit) = "
     ]
    },
    {
     "name": "stderr",
     "output_type": "stream",
     "text": [
      "Operator `forward` ran in 0.01 s\n",
      "Operator `forward` ran in 0.01 s\n",
      "Operator `forward` ran in 0.01 s\n",
      "Operator `forward` ran in 0.01 s\n",
      "Operator `forward` ran in 0.01 s\n",
      "Operator `forward` ran in 0.02 s\n",
      "Operator `forward` ran in 0.01 s\n",
      "Operator `forward` ran in 0.01 s\n",
      "Operator `forward` ran in 0.02 s\n",
      "Operator `forward` ran in 0.02 s\n",
      "Operator `forward` ran in 0.04 s\n",
      "Operator `forward` ran in 0.01 s\n",
      "Operator `forward` ran in 0.02 s\n",
      "Operator `forward` ran in 0.02 s\n",
      "Operator `forward` ran in 0.02 s\n",
      "Operator `forward` ran in 0.01 s\n"
     ]
    },
    {
     "name": "stdout",
     "output_type": "stream",
     "text": [
      "(0.01366810038631212, 640.002197265625)\n"
     ]
    },
    {
     "name": "stderr",
     "output_type": "stream",
     "text": [
      "Operator `forward` ran in 0.02 s\n",
      "Operator `forward` ran in 0.02 s\n",
      "Operator `forward` ran in 0.02 s\n",
      "Operator `forward` ran in 0.01 s\n",
      "Operator `forward` ran in 0.01 s\n",
      "Operator `forward` ran in 0.01 s\n",
      "Operator `forward` ran in 0.01 s\n",
      "Operator `forward` ran in 0.02 s\n",
      "Operator `forward` ran in 0.05 s\n",
      "Operator `forward` ran in 0.04 s\n",
      "Operator `forward` ran in 0.05 s\n",
      "Operator `forward` ran in 0.06 s\n",
      "Operator `forward` ran in 0.05 s\n",
      "Operator `forward` ran in 0.05 s\n",
      "Operator `forward` ran in 0.05 s\n",
      "Operator `forward` ran in 0.01 s\n"
     ]
    },
    {
     "name": "stdout",
     "output_type": "stream",
     "text": [
      "(α, misfit) = (0.00559681952327972, 287.60101318359375)\n",
      "FWI iteration no: "
     ]
    },
    {
     "name": "stderr",
     "output_type": "stream",
     "text": [
      "Operator `forward` ran in 0.04 s\n",
      "Operator `forward` ran in 0.04 s\n",
      "Operator `forward` ran in 0.02 s\n",
      "Operator `forward` ran in 0.01 s\n",
      "Operator `forward` ran in 0.01 s\n",
      "Operator `forward` ran in 0.01 s\n",
      "Operator `forward` ran in 0.01 s\n",
      "Operator `forward` ran in 0.01 s\n",
      "Operator `forward` ran in 0.01 s\n",
      "Operator `forward` ran in 0.01 s\n",
      "Operator `forward` ran in 0.01 s\n",
      "Operator `forward` ran in 0.01 s\n",
      "Operator `forward` ran in 0.01 s\n",
      "Operator `forward` ran in 0.01 s\n",
      "Operator `forward` ran in 0.01 s\n",
      "Operator `forward` ran in 0.01 s\n"
     ]
    },
    {
     "name": "stdout",
     "output_type": "stream",
     "text": [
      "20; function value: 376.03314\n"
     ]
    },
    {
     "name": "stderr",
     "output_type": "stream",
     "text": [
      "Operator `forward` ran in 0.02 s\n",
      "Operator `gradient` ran in 0.02 s\n",
      "Operator `forward` ran in 0.02 s\n",
      "Operator `gradient` ran in 0.02 s\n",
      "Operator `forward` ran in 0.02 s\n",
      "Operator `gradient` ran in 0.02 s\n",
      "Operator `forward` ran in 0.02 s\n",
      "Operator `gradient` ran in 0.02 s\n",
      "Operator `forward` ran in 0.02 s\n",
      "Operator `gradient` ran in 0.02 s\n",
      "Operator `forward` ran in 0.02 s\n",
      "Operator `gradient` ran in 0.02 s\n",
      "Operator `forward` ran in 0.02 s\n",
      "Operator `gradient` ran in 0.02 s\n",
      "Operator `forward` ran in 0.02 s\n",
      "Operator `gradient` ran in 0.02 s\n",
      "Operator `forward` ran in 0.02 s\n",
      "Operator `gradient` ran in 0.02 s\n",
      "Operator `forward` ran in 0.02 s\n",
      "Operator `gradient` ran in 0.02 s\n",
      "Operator `forward` ran in 0.02 s\n",
      "Operator `gradient` ran in 0.02 s\n",
      "Operator `forward` ran in 0.02 s\n",
      "Operator `gradient` ran in 0.02 s\n",
      "Operator `forward` ran in 0.02 s\n",
      "Operator `gradient` ran in 0.02 s\n",
      "Operator `forward` ran in 0.02 s\n",
      "Operator `gradient` ran in 0.02 s\n",
      "Operator `forward` ran in 0.02 s\n",
      "Operator `gradient` ran in 0.02 s\n",
      "Operator `forward` ran in 0.02 s\n",
      "Operator `gradient` ran in 0.02 s\n"
     ]
    },
    {
     "name": "stdout",
     "output_type": "stream",
     "text": [
      "(α, misfit) = (0.1f0, 1.156121375e6)\n",
      "(α, misfit) = "
     ]
    },
    {
     "name": "stderr",
     "output_type": "stream",
     "text": [
      "Operator `forward` ran in 0.01 s\n",
      "Operator `forward` ran in 0.02 s\n",
      "Operator `forward` ran in 0.01 s\n",
      "Operator `forward` ran in 0.01 s\n",
      "Operator `forward` ran in 0.01 s\n",
      "Operator `forward` ran in 0.02 s\n",
      "Operator `forward` ran in 0.02 s\n",
      "Operator `forward` ran in 0.02 s\n",
      "Operator `forward` ran in 0.01 s\n",
      "Operator `forward` ran in 0.01 s\n",
      "Operator `forward` ran in 0.01 s\n",
      "Operator `forward` ran in 0.01 s\n",
      "Operator `forward` ran in 0.01 s\n",
      "Operator `forward` ran in 0.01 s\n",
      "Operator `forward` ran in 0.02 s\n",
      "Operator `forward` ran in 0.01 s\n"
     ]
    },
    {
     "name": "stdout",
     "output_type": "stream",
     "text": [
      "(0.010000000149011612, 10660.3388671875)\n"
     ]
    },
    {
     "name": "stderr",
     "output_type": "stream",
     "text": [
      "Operator `forward` ran in 0.02 s\n",
      "Operator `forward` ran in 0.01 s\n",
      "Operator `forward` ran in 0.01 s\n",
      "Operator `forward` ran in 0.01 s\n",
      "Operator `forward` ran in 0.01 s\n",
      "Operator `forward` ran in 0.01 s\n",
      "Operator `forward` ran in 0.01 s\n",
      "Operator `forward` ran in 0.02 s\n",
      "Operator `forward` ran in 0.01 s\n",
      "Operator `forward` ran in 0.02 s\n",
      "Operator `forward` ran in 0.02 s\n",
      "Operator `forward` ran in 0.01 s\n",
      "Operator `forward` ran in 0.02 s\n",
      "Operator `forward` ran in 0.01 s\n",
      "Operator `forward` ran in 0.01 s\n",
      "Operator `forward` ran in 0.01 s\n"
     ]
    },
    {
     "name": "stdout",
     "output_type": "stream",
     "text": [
      "(α, misfit) = (0.0010000000149011613, 235.64688110351562)\n",
      "FWI iteration no: "
     ]
    },
    {
     "name": "stderr",
     "output_type": "stream",
     "text": [
      "Operator `forward` ran in 0.02 s\n",
      "Operator `forward` ran in 0.02 s\n",
      "Operator `forward` ran in 0.02 s\n",
      "Operator `forward` ran in 0.01 s\n",
      "Operator `forward` ran in 0.01 s\n",
      "Operator `forward` ran in 0.02 s\n",
      "Operator `forward` ran in 0.01 s\n",
      "Operator `forward` ran in 0.01 s\n",
      "Operator `forward` ran in 0.05 s\n",
      "Operator `forward` ran in 0.05 s\n",
      "Operator `forward` ran in 0.05 s\n",
      "Operator `forward` ran in 0.05 s\n",
      "Operator `forward` ran in 0.05 s\n",
      "Operator `forward` ran in 0.04 s\n",
      "Operator `forward` ran in 0.01 s\n",
      "Operator `forward` ran in 0.02 s\n"
     ]
    },
    {
     "name": "stdout",
     "output_type": "stream",
     "text": [
      "21; function value: 381.60114\n"
     ]
    },
    {
     "name": "stderr",
     "output_type": "stream",
     "text": [
      "Operator `forward` ran in 0.03 s\n",
      "Operator `gradient` ran in 0.02 s\n",
      "Operator `forward` ran in 0.02 s\n",
      "Operator `gradient` ran in 0.02 s\n",
      "Operator `forward` ran in 0.02 s\n",
      "Operator `gradient` ran in 0.02 s\n",
      "Operator `forward` ran in 0.03 s\n",
      "Operator `gradient` ran in 0.02 s\n",
      "Operator `forward` ran in 0.02 s\n",
      "Operator `gradient` ran in 0.02 s\n",
      "Operator `forward` ran in 0.02 s\n",
      "Operator `gradient` ran in 0.02 s\n",
      "Operator `forward` ran in 0.02 s\n",
      "Operator `gradient` ran in 0.02 s\n",
      "Operator `forward` ran in 0.02 s\n",
      "Operator `gradient` ran in 0.02 s\n",
      "Operator `forward` ran in 0.05 s\n",
      "Operator `gradient` ran in 0.02 s\n",
      "Operator `forward` ran in 0.04 s\n",
      "Operator `gradient` ran in 0.02 s\n",
      "Operator `forward` ran in 0.02 s\n",
      "Operator `gradient` ran in 0.02 s\n",
      "Operator `forward` ran in 0.05 s\n",
      "Operator `gradient` ran in 0.02 s\n",
      "Operator `forward` ran in 0.05 s\n",
      "Operator `gradient` ran in 0.02 s\n",
      "Operator `forward` ran in 0.05 s\n",
      "Operator `gradient` ran in 0.02 s\n",
      "Operator `forward` ran in 0.04 s\n",
      "Operator `gradient` ran in 0.02 s\n",
      "Operator `forward` ran in 0.02 s\n",
      "Operator `gradient` ran in 0.02 s\n"
     ]
    },
    {
     "name": "stdout",
     "output_type": "stream",
     "text": [
      "(α, misfit) = (0.1f0, 29036.591796875)\n",
      "(α, misfit) = "
     ]
    },
    {
     "name": "stderr",
     "output_type": "stream",
     "text": [
      "Operator `forward` ran in 0.01 s\n",
      "Operator `forward` ran in 0.02 s\n",
      "Operator `forward` ran in 0.02 s\n",
      "Operator `forward` ran in 0.02 s\n",
      "Operator `forward` ran in 0.02 s\n",
      "Operator `forward` ran in 0.02 s\n",
      "Operator `forward` ran in 0.02 s\n",
      "Operator `forward` ran in 0.01 s\n",
      "Operator `forward` ran in 0.03 s\n",
      "Operator `forward` ran in 0.04 s\n",
      "Operator `forward` ran in 0.03 s\n",
      "Operator `forward` ran in 0.02 s\n",
      "Operator `forward` ran in 0.02 s\n",
      "Operator `forward` ran in 0.02 s\n",
      "Operator `forward` ran in 0.06 s\n",
      "Operator `forward` ran in 0.03 s\n"
     ]
    },
    {
     "name": "stdout",
     "output_type": "stream",
     "text": [
      "(0.01072926279468277, 537.047607421875)\n"
     ]
    },
    {
     "name": "stderr",
     "output_type": "stream",
     "text": [
      "Operator `forward` ran in 0.02 s\n",
      "Operator `forward` ran in 0.01 s\n",
      "Operator `forward` ran in 0.02 s\n",
      "Operator `forward` ran in 0.01 s\n",
      "Operator `forward` ran in 0.02 s\n",
      "Operator `forward` ran in 0.02 s\n",
      "Operator `forward` ran in 0.02 s\n",
      "Operator `forward` ran in 0.02 s\n",
      "Operator `forward` ran in 0.02 s\n",
      "Operator `forward` ran in 0.02 s\n",
      "Operator `forward` ran in 0.01 s\n",
      "Operator `forward` ran in 0.01 s\n",
      "Operator `forward` ran in 0.05 s\n",
      "Operator `forward` ran in 0.02 s\n",
      "Operator `forward` ran in 0.02 s\n",
      "Operator `forward` ran in 0.02 s\n"
     ]
    },
    {
     "name": "stdout",
     "output_type": "stream",
     "text": [
      "(α, misfit) = (0.004409388128670165, 303.2913818359375)\n",
      "FWI iteration no: "
     ]
    },
    {
     "name": "stderr",
     "output_type": "stream",
     "text": [
      "Operator `forward` ran in 0.02 s\n",
      "Operator `forward` ran in 0.05 s\n",
      "Operator `forward` ran in 0.02 s\n",
      "Operator `forward` ran in 0.02 s\n",
      "Operator `forward` ran in 0.01 s\n",
      "Operator `forward` ran in 0.01 s\n",
      "Operator `forward` ran in 0.02 s\n",
      "Operator `forward` ran in 0.02 s\n",
      "Operator `forward` ran in 0.01 s\n",
      "Operator `forward` ran in 0.01 s\n",
      "Operator `forward` ran in 0.01 s\n",
      "Operator `forward` ran in 0.01 s\n",
      "Operator `forward` ran in 0.01 s\n",
      "Operator `forward` ran in 0.01 s\n",
      "Operator `forward` ran in 0.01 s\n",
      "Operator `forward` ran in 0.01 s\n"
     ]
    },
    {
     "name": "stdout",
     "output_type": "stream",
     "text": [
      "22; function value: 365.95477\n"
     ]
    },
    {
     "name": "stderr",
     "output_type": "stream",
     "text": [
      "Operator `forward` ran in 0.02 s\n",
      "Operator `gradient` ran in 0.02 s\n",
      "Operator `forward` ran in 0.02 s\n",
      "Operator `gradient` ran in 0.02 s\n",
      "Operator `forward` ran in 0.02 s\n",
      "Operator `gradient` ran in 0.02 s\n",
      "Operator `forward` ran in 0.02 s\n",
      "Operator `gradient` ran in 0.02 s\n",
      "Operator `forward` ran in 0.02 s\n",
      "Operator `gradient` ran in 0.02 s\n",
      "Operator `forward` ran in 0.02 s\n",
      "Operator `gradient` ran in 0.02 s\n",
      "Operator `forward` ran in 0.02 s\n",
      "Operator `gradient` ran in 0.02 s\n",
      "Operator `forward` ran in 0.04 s\n",
      "Operator `gradient` ran in 0.02 s\n",
      "Operator `forward` ran in 0.02 s\n",
      "Operator `gradient` ran in 0.02 s\n",
      "Operator `forward` ran in 0.02 s\n",
      "Operator `gradient` ran in 0.02 s\n",
      "Operator `forward` ran in 0.02 s\n",
      "Operator `gradient` ran in 0.02 s\n",
      "Operator `forward` ran in 0.02 s\n",
      "Operator `gradient` ran in 0.02 s\n",
      "Operator `forward` ran in 0.02 s\n",
      "Operator `gradient` ran in 0.02 s\n",
      "Operator `forward` ran in 0.02 s\n",
      "Operator `gradient` ran in 0.02 s\n",
      "Operator `forward` ran in 0.02 s\n",
      "Operator `gradient` ran in 0.02 s\n",
      "Operator `forward` ran in 0.02 s\n",
      "Operator `gradient` ran in 0.02 s\n"
     ]
    },
    {
     "name": "stdout",
     "output_type": "stream",
     "text": [
      "(α, misfit) = (0.1f0, 1.064681375e6)\n",
      "(α, misfit) = "
     ]
    },
    {
     "name": "stderr",
     "output_type": "stream",
     "text": [
      "Operator `forward` ran in 0.01 s\n",
      "Operator `forward` ran in 0.01 s\n",
      "Operator `forward` ran in 0.01 s\n",
      "Operator `forward` ran in 0.02 s\n",
      "Operator `forward` ran in 0.02 s\n",
      "Operator `forward` ran in 0.01 s\n",
      "Operator `forward` ran in 0.02 s\n",
      "Operator `forward` ran in 0.02 s\n",
      "Operator `forward` ran in 0.02 s\n",
      "Operator `forward` ran in 0.02 s\n",
      "Operator `forward` ran in 0.01 s\n",
      "Operator `forward` ran in 0.01 s\n",
      "Operator `forward` ran in 0.01 s\n",
      "Operator `forward` ran in 0.01 s\n",
      "Operator `forward` ran in 0.01 s\n",
      "Operator `forward` ran in 0.01 s\n"
     ]
    },
    {
     "name": "stdout",
     "output_type": "stream",
     "text": [
      "(0.010000000149011612, 10798.52734375)\n"
     ]
    },
    {
     "name": "stderr",
     "output_type": "stream",
     "text": [
      "Operator `forward` ran in 0.03 s\n",
      "Operator `forward` ran in 0.02 s\n",
      "Operator `forward` ran in 0.02 s\n",
      "Operator `forward` ran in 0.01 s\n",
      "Operator `forward` ran in 0.01 s\n",
      "Operator `forward` ran in 0.01 s\n",
      "Operator `forward` ran in 0.02 s\n",
      "Operator `forward` ran in 0.01 s\n",
      "Operator `forward` ran in 0.01 s\n",
      "Operator `forward` ran in 0.01 s\n",
      "Operator `forward` ran in 0.01 s\n",
      "Operator `forward` ran in 0.01 s\n",
      "Operator `forward` ran in 0.01 s\n",
      "Operator `forward` ran in 0.01 s\n",
      "Operator `forward` ran in 0.01 s\n",
      "Operator `forward` ran in 0.01 s\n"
     ]
    },
    {
     "name": "stdout",
     "output_type": "stream",
     "text": [
      "(α, misfit) = (0.0010000000149011613, 224.20806884765625)\n",
      "FWI iteration no: "
     ]
    },
    {
     "name": "stderr",
     "output_type": "stream",
     "text": [
      "Operator `forward` ran in 0.02 s\n",
      "Operator `forward` ran in 0.01 s\n",
      "Operator `forward` ran in 0.01 s\n",
      "Operator `forward` ran in 0.01 s\n",
      "Operator `forward` ran in 0.01 s\n",
      "Operator `forward` ran in 0.01 s\n",
      "Operator `forward` ran in 0.02 s\n",
      "Operator `forward` ran in 0.02 s\n",
      "Operator `forward` ran in 0.02 s\n",
      "Operator `forward` ran in 0.02 s\n",
      "Operator `forward` ran in 0.02 s\n",
      "Operator `forward` ran in 0.02 s\n",
      "Operator `forward` ran in 0.02 s\n",
      "Operator `forward` ran in 0.01 s\n",
      "Operator `forward` ran in 0.02 s\n",
      "Operator `forward` ran in 0.02 s\n"
     ]
    },
    {
     "name": "stdout",
     "output_type": "stream",
     "text": [
      "23; function value: 346.55884\n"
     ]
    },
    {
     "name": "stderr",
     "output_type": "stream",
     "text": [
      "Operator `forward` ran in 0.02 s\n",
      "Operator `gradient` ran in 0.02 s\n",
      "Operator `forward` ran in 0.02 s\n",
      "Operator `gradient` ran in 0.02 s\n",
      "Operator `forward` ran in 0.02 s\n",
      "Operator `gradient` ran in 0.02 s\n",
      "Operator `forward` ran in 0.02 s\n",
      "Operator `gradient` ran in 0.02 s\n",
      "Operator `forward` ran in 0.02 s\n",
      "Operator `gradient` ran in 0.02 s\n",
      "Operator `forward` ran in 0.02 s\n",
      "Operator `gradient` ran in 0.02 s\n",
      "Operator `forward` ran in 0.02 s\n",
      "Operator `gradient` ran in 0.02 s\n",
      "Operator `forward` ran in 0.02 s\n",
      "Operator `gradient` ran in 0.02 s\n",
      "Operator `forward` ran in 0.02 s\n",
      "Operator `gradient` ran in 0.02 s\n",
      "Operator `forward` ran in 0.02 s\n",
      "Operator `gradient` ran in 0.02 s\n",
      "Operator `forward` ran in 0.02 s\n",
      "Operator `gradient` ran in 0.02 s\n",
      "Operator `forward` ran in 0.02 s\n",
      "Operator `gradient` ran in 0.02 s\n",
      "Operator `forward` ran in 0.02 s\n",
      "Operator `gradient` ran in 0.02 s\n",
      "Operator `forward` ran in 0.02 s\n",
      "Operator `gradient` ran in 0.02 s\n",
      "Operator `forward` ran in 0.02 s\n",
      "Operator `gradient` ran in 0.02 s\n",
      "Operator `forward` ran in 0.02 s\n",
      "Operator `gradient` ran in 0.02 s\n"
     ]
    },
    {
     "name": "stdout",
     "output_type": "stream",
     "text": [
      "(α, misfit) = (0.1f0, 6949.64306640625)\n",
      "(α, misfit) = "
     ]
    },
    {
     "name": "stderr",
     "output_type": "stream",
     "text": [
      "Operator `forward` ran in 0.02 s\n",
      "Operator `forward` ran in 0.02 s\n",
      "Operator `forward` ran in 0.02 s\n",
      "Operator `forward` ran in 0.01 s\n",
      "Operator `forward` ran in 0.04 s\n",
      "Operator `forward` ran in 0.02 s\n",
      "Operator `forward` ran in 0.01 s\n",
      "Operator `forward` ran in 0.01 s\n",
      "Operator `forward` ran in 0.02 s\n",
      "Operator `forward` ran in 0.02 s\n",
      "Operator `forward` ran in 0.02 s\n",
      "Operator `forward` ran in 0.02 s\n",
      "Operator `forward` ran in 0.02 s\n",
      "Operator `forward` ran in 0.01 s\n",
      "Operator `forward` ran in 0.02 s\n",
      "Operator `forward` ran in 0.02 s\n"
     ]
    },
    {
     "name": "stdout",
     "output_type": "stream",
     "text": [
      "(0.027649269105278117, 694.0092163085938)\n"
     ]
    },
    {
     "name": "stderr",
     "output_type": "stream",
     "text": [
      "Operator `forward` ran in 0.03 s\n",
      "Operator `forward` ran in 0.02 s\n",
      "Operator `forward` ran in 0.02 s\n",
      "Operator `forward` ran in 0.02 s\n",
      "Operator `forward` ran in 0.02 s\n",
      "Operator `forward` ran in 0.03 s\n",
      "Operator `forward` ran in 0.02 s\n",
      "Operator `forward` ran in 0.01 s\n",
      "Operator `forward` ran in 0.01 s\n",
      "Operator `forward` ran in 0.02 s\n",
      "Operator `forward` ran in 0.02 s\n",
      "Operator `forward` ran in 0.01 s\n",
      "Operator `forward` ran in 0.01 s\n",
      "Operator `forward` ran in 0.01 s\n",
      "Operator `forward` ran in 0.01 s\n",
      "Operator `forward` ran in 0.01 s\n"
     ]
    },
    {
     "name": "stdout",
     "output_type": "stream",
     "text": [
      "(α, misfit) = (0.011021773356468843, 292.46710205078125)\n",
      "FWI iteration no: "
     ]
    },
    {
     "name": "stderr",
     "output_type": "stream",
     "text": [
      "Operator `forward` ran in 0.03 s\n",
      "Operator `forward` ran in 0.01 s\n",
      "Operator `forward` ran in 0.01 s\n",
      "Operator `forward` ran in 0.04 s\n",
      "Operator `forward` ran in 0.05 s\n",
      "Operator `forward` ran in 0.04 s\n",
      "Operator `forward` ran in 0.04 s\n",
      "Operator `forward` ran in 0.04 s\n",
      "Operator `forward` ran in 0.02 s\n",
      "Operator `forward` ran in 0.04 s\n",
      "Operator `forward` ran in 0.04 s\n",
      "Operator `forward` ran in 0.01 s\n",
      "Operator `forward` ran in 0.04 s\n",
      "Operator `forward` ran in 0.04 s\n",
      "Operator `forward` ran in 0.05 s\n",
      "Operator `forward` ran in 0.05 s\n"
     ]
    },
    {
     "name": "stdout",
     "output_type": "stream",
     "text": [
      "24; function value: 387.35193\n"
     ]
    },
    {
     "name": "stderr",
     "output_type": "stream",
     "text": [
      "Operator `forward` ran in 0.04 s\n",
      "Operator `gradient` ran in 0.02 s\n",
      "Operator `forward` ran in 0.05 s\n",
      "Operator `gradient` ran in 0.02 s\n",
      "Operator `forward` ran in 0.04 s\n",
      "Operator `gradient` ran in 0.02 s\n",
      "Operator `forward` ran in 0.02 s\n",
      "Operator `gradient` ran in 0.02 s\n",
      "Operator `forward` ran in 0.02 s\n",
      "Operator `gradient` ran in 0.02 s\n",
      "Operator `forward` ran in 0.02 s\n",
      "Operator `gradient` ran in 0.02 s\n",
      "Operator `forward` ran in 0.02 s\n",
      "Operator `gradient` ran in 0.02 s\n",
      "Operator `forward` ran in 0.02 s\n",
      "Operator `gradient` ran in 0.02 s\n",
      "Operator `forward` ran in 0.02 s\n",
      "Operator `gradient` ran in 0.02 s\n",
      "Operator `forward` ran in 0.03 s\n",
      "Operator `gradient` ran in 0.02 s\n",
      "Operator `forward` ran in 0.02 s\n",
      "Operator `gradient` ran in 0.02 s\n",
      "Operator `forward` ran in 0.02 s\n",
      "Operator `gradient` ran in 0.02 s\n",
      "Operator `forward` ran in 0.02 s\n",
      "Operator `gradient` ran in 0.02 s\n",
      "Operator `forward` ran in 0.02 s\n",
      "Operator `gradient` ran in 0.02 s\n",
      "Operator `forward` ran in 0.02 s\n",
      "Operator `gradient` ran in 0.02 s\n",
      "Operator `forward` ran in 0.02 s\n",
      "Operator `gradient` ran in 0.02 s\n"
     ]
    },
    {
     "name": "stdout",
     "output_type": "stream",
     "text": [
      "(α, misfit) = (0.1f0, 1.202890375e6)\n",
      "(α, misfit) = "
     ]
    },
    {
     "name": "stderr",
     "output_type": "stream",
     "text": [
      "Operator `forward` ran in 0.01 s\n",
      "Operator `forward` ran in 0.01 s\n",
      "Operator `forward` ran in 0.01 s\n",
      "Operator `forward` ran in 0.01 s\n",
      "Operator `forward` ran in 0.02 s\n",
      "Operator `forward` ran in 0.02 s\n",
      "Operator `forward` ran in 0.01 s\n",
      "Operator `forward` ran in 0.02 s\n",
      "Operator `forward` ran in 0.01 s\n",
      "Operator `forward` ran in 0.01 s\n",
      "Operator `forward` ran in 0.01 s\n",
      "Operator `forward` ran in 0.01 s\n",
      "Operator `forward` ran in 0.01 s\n",
      "Operator `forward` ran in 0.01 s\n",
      "Operator `forward` ran in 0.01 s\n",
      "Operator `forward` ran in 0.01 s\n"
     ]
    },
    {
     "name": "stdout",
     "output_type": "stream",
     "text": [
      "(0.010000000149011612, 10821.275390625)\n"
     ]
    },
    {
     "name": "stderr",
     "output_type": "stream",
     "text": [
      "Operator `forward` ran in 0.02 s\n",
      "Operator `forward` ran in 0.01 s\n",
      "Operator `forward` ran in 0.02 s\n",
      "Operator `forward` ran in 0.02 s\n",
      "Operator `forward` ran in 0.01 s\n",
      "Operator `forward` ran in 0.01 s\n",
      "Operator `forward` ran in 0.02 s\n",
      "Operator `forward` ran in 0.02 s\n",
      "Operator `forward` ran in 0.02 s\n",
      "Operator `forward` ran in 0.02 s\n",
      "Operator `forward` ran in 0.01 s\n",
      "Operator `forward` ran in 0.01 s\n",
      "Operator `forward` ran in 0.01 s\n",
      "Operator `forward` ran in 0.02 s\n",
      "Operator `forward` ran in 0.01 s\n",
      "Operator `forward` ran in 0.01 s\n"
     ]
    },
    {
     "name": "stdout",
     "output_type": "stream",
     "text": [
      "(α, misfit) = (0.0010000000149011613, 222.86732482910156)\n",
      "FWI iteration no: "
     ]
    },
    {
     "name": "stderr",
     "output_type": "stream",
     "text": [
      "Operator `forward` ran in 0.02 s\n",
      "Operator `forward` ran in 0.02 s\n",
      "Operator `forward` ran in 0.02 s\n",
      "Operator `forward` ran in 0.01 s\n",
      "Operator `forward` ran in 0.01 s\n",
      "Operator `forward` ran in 0.01 s\n",
      "Operator `forward` ran in 0.02 s\n",
      "Operator `forward` ran in 0.02 s\n",
      "Operator `forward` ran in 0.01 s\n",
      "Operator `forward` ran in 0.01 s\n",
      "Operator `forward` ran in 0.01 s\n",
      "Operator `forward` ran in 0.02 s\n",
      "Operator `forward` ran in 0.01 s\n",
      "Operator `forward` ran in 0.01 s\n",
      "Operator `forward` ran in 0.02 s\n",
      "Operator `forward` ran in 0.01 s\n"
     ]
    },
    {
     "name": "stdout",
     "output_type": "stream",
     "text": [
      "25; function value: 303.3132\n"
     ]
    },
    {
     "name": "stderr",
     "output_type": "stream",
     "text": [
      "Operator `forward` ran in 0.02 s\n",
      "Operator `gradient` ran in 0.02 s\n",
      "Operator `forward` ran in 0.02 s\n",
      "Operator `gradient` ran in 0.02 s\n",
      "Operator `forward` ran in 0.02 s\n",
      "Operator `gradient` ran in 0.02 s\n",
      "Operator `forward` ran in 0.02 s\n",
      "Operator `gradient` ran in 0.02 s\n",
      "Operator `forward` ran in 0.02 s\n",
      "Operator `gradient` ran in 0.02 s\n",
      "Operator `forward` ran in 0.02 s\n",
      "Operator `gradient` ran in 0.02 s\n",
      "Operator `forward` ran in 0.02 s\n",
      "Operator `gradient` ran in 0.02 s\n",
      "Operator `forward` ran in 0.02 s\n",
      "Operator `gradient` ran in 0.02 s\n",
      "Operator `forward` ran in 0.02 s\n",
      "Operator `gradient` ran in 0.02 s\n",
      "Operator `forward` ran in 0.02 s\n",
      "Operator `gradient` ran in 0.02 s\n",
      "Operator `forward` ran in 0.02 s\n",
      "Operator `gradient` ran in 0.02 s\n",
      "Operator `forward` ran in 0.02 s\n",
      "Operator `gradient` ran in 0.02 s\n",
      "Operator `forward` ran in 0.02 s\n",
      "Operator `gradient` ran in 0.02 s\n",
      "Operator `forward` ran in 0.02 s\n",
      "Operator `gradient` ran in 0.02 s\n",
      "Operator `forward` ran in 0.02 s\n",
      "Operator `gradient` ran in 0.02 s\n",
      "Operator `forward` ran in 0.02 s\n",
      "Operator `gradient` ran in 0.02 s\n"
     ]
    },
    {
     "name": "stdout",
     "output_type": "stream",
     "text": [
      "(α, misfit) = (0.1f0, 73340.5234375)\n",
      "(α, misfit) = "
     ]
    },
    {
     "name": "stderr",
     "output_type": "stream",
     "text": [
      "Operator `forward` ran in 0.01 s\n",
      "Operator `forward` ran in 0.02 s\n",
      "Operator `forward` ran in 0.01 s\n",
      "Operator `forward` ran in 0.01 s\n",
      "Operator `forward` ran in 0.02 s\n",
      "Operator `forward` ran in 0.02 s\n",
      "Operator `forward` ran in 0.01 s\n",
      "Operator `forward` ran in 0.02 s\n",
      "Operator `forward` ran in 0.01 s\n",
      "Operator `forward` ran in 0.01 s\n",
      "Operator `forward` ran in 0.01 s\n",
      "Operator `forward` ran in 0.01 s\n",
      "Operator `forward` ran in 0.02 s\n",
      "Operator `forward` ran in 0.01 s\n",
      "Operator `forward` ran in 0.02 s\n",
      "Operator `forward` ran in 0.02 s\n"
     ]
    },
    {
     "name": "stdout",
     "output_type": "stream",
     "text": [
      "(0.010000000149011612, 713.0753784179688)\n"
     ]
    },
    {
     "name": "stderr",
     "output_type": "stream",
     "text": [
      "Operator `forward` ran in 0.04 s\n",
      "Operator `forward` ran in 0.02 s\n",
      "Operator `forward` ran in 0.01 s\n",
      "Operator `forward` ran in 0.01 s\n",
      "Operator `forward` ran in 0.02 s\n",
      "Operator `forward` ran in 0.02 s\n",
      "Operator `forward` ran in 0.02 s\n",
      "Operator `forward` ran in 0.02 s\n",
      "Operator `forward` ran in 0.04 s\n",
      "Operator `forward` ran in 0.04 s\n",
      "Operator `forward` ran in 0.02 s\n",
      "Operator `forward` ran in 0.02 s\n",
      "Operator `forward` ran in 0.02 s\n",
      "Operator `forward` ran in 0.01 s\n",
      "Operator `forward` ran in 0.05 s\n",
      "Operator `forward` ran in 0.05 s\n"
     ]
    },
    {
     "name": "stdout",
     "output_type": "stream",
     "text": [
      "(α, misfit) = (0.003433564759244321, 219.37330627441406)\n",
      "FWI iteration no: "
     ]
    },
    {
     "name": "stderr",
     "output_type": "stream",
     "text": [
      "Operator `forward` ran in 0.05 s\n",
      "Operator `forward` ran in 0.05 s\n",
      "Operator `forward` ran in 0.04 s\n",
      "Operator `forward` ran in 0.05 s\n",
      "Operator `forward` ran in 0.05 s\n",
      "Operator `forward` ran in 0.05 s\n",
      "Operator `forward` ran in 0.05 s\n",
      "Operator `forward` ran in 0.01 s\n",
      "Operator `forward` ran in 0.04 s\n",
      "Operator `forward` ran in 0.04 s\n",
      "Operator `forward` ran in 0.04 s\n",
      "Operator `forward` ran in 0.05 s\n",
      "Operator `forward` ran in 0.05 s\n",
      "Operator `forward` ran in 0.04 s\n",
      "Operator `forward` ran in 0.05 s\n",
      "Operator `forward` ran in 0.03 s\n"
     ]
    },
    {
     "name": "stdout",
     "output_type": "stream",
     "text": [
      "26; function value: 372.3431\n"
     ]
    },
    {
     "name": "stderr",
     "output_type": "stream",
     "text": [
      "Operator `forward` ran in 0.03 s\n",
      "Operator `gradient` ran in 0.02 s\n",
      "Operator `forward` ran in 0.02 s\n",
      "Operator `gradient` ran in 0.02 s\n",
      "Operator `forward` ran in 0.04 s\n",
      "Operator `gradient` ran in 0.02 s\n",
      "Operator `forward` ran in 0.02 s\n",
      "Operator `gradient` ran in 0.02 s\n",
      "Operator `forward` ran in 0.02 s\n",
      "Operator `gradient` ran in 0.02 s\n",
      "Operator `forward` ran in 0.02 s\n",
      "Operator `gradient` ran in 0.02 s\n",
      "Operator `forward` ran in 0.02 s\n",
      "Operator `gradient` ran in 0.02 s\n",
      "Operator `forward` ran in 0.02 s\n",
      "Operator `gradient` ran in 0.02 s\n",
      "Operator `forward` ran in 0.03 s\n",
      "Operator `gradient` ran in 0.03 s\n",
      "Operator `forward` ran in 0.02 s\n",
      "Operator `gradient` ran in 0.02 s\n",
      "Operator `forward` ran in 0.02 s\n",
      "Operator `gradient` ran in 0.02 s\n",
      "Operator `forward` ran in 0.02 s\n",
      "Operator `gradient` ran in 0.02 s\n",
      "Operator `forward` ran in 0.02 s\n",
      "Operator `gradient` ran in 0.02 s\n",
      "Operator `forward` ran in 0.02 s\n",
      "Operator `gradient` ran in 0.02 s\n",
      "Operator `forward` ran in 0.02 s\n",
      "Operator `gradient` ran in 0.02 s\n",
      "Operator `forward` ran in 0.02 s\n",
      "Operator `gradient` ran in 0.02 s\n"
     ]
    },
    {
     "name": "stdout",
     "output_type": "stream",
     "text": [
      "(α, misfit) = (0.1f0, 1.131625375e6)\n",
      "(α, misfit) = "
     ]
    },
    {
     "name": "stderr",
     "output_type": "stream",
     "text": [
      "Operator `forward` ran in 0.01 s\n",
      "Operator `forward` ran in 0.01 s\n",
      "Operator `forward` ran in 0.02 s\n",
      "Operator `forward` ran in 0.02 s\n",
      "Operator `forward` ran in 0.02 s\n",
      "Operator `forward` ran in 0.02 s\n",
      "Operator `forward` ran in 0.02 s\n",
      "Operator `forward` ran in 0.01 s\n",
      "Operator `forward` ran in 0.01 s\n",
      "Operator `forward` ran in 0.01 s\n",
      "Operator `forward` ran in 0.03 s\n",
      "Operator `forward` ran in 0.03 s\n",
      "Operator `forward` ran in 0.03 s\n",
      "Operator `forward` ran in 0.02 s\n",
      "Operator `forward` ran in 0.02 s\n",
      "Operator `forward` ran in 0.02 s\n"
     ]
    },
    {
     "name": "stdout",
     "output_type": "stream",
     "text": [
      "(0.010000000149011612, 11690.505859375)\n"
     ]
    },
    {
     "name": "stderr",
     "output_type": "stream",
     "text": [
      "Operator `forward` ran in 0.02 s\n",
      "Operator `forward` ran in 0.01 s\n",
      "Operator `forward` ran in 0.02 s\n",
      "Operator `forward` ran in 0.02 s\n",
      "Operator `forward` ran in 0.01 s\n",
      "Operator `forward` ran in 0.02 s\n",
      "Operator `forward` ran in 0.02 s\n",
      "Operator `forward` ran in 0.02 s\n",
      "Operator `forward` ran in 0.02 s\n",
      "Operator `forward` ran in 0.02 s\n",
      "Operator `forward` ran in 0.02 s\n",
      "Operator `forward` ran in 0.01 s\n",
      "Operator `forward` ran in 0.02 s\n",
      "Operator `forward` ran in 0.02 s\n",
      "Operator `forward` ran in 0.02 s\n",
      "Operator `forward` ran in 0.02 s\n"
     ]
    },
    {
     "name": "stdout",
     "output_type": "stream",
     "text": [
      "(α, misfit) = (0.0010000000149011613, 207.446044921875)\n",
      "FWI iteration no: "
     ]
    },
    {
     "name": "stderr",
     "output_type": "stream",
     "text": [
      "Operator `forward` ran in 0.02 s\n",
      "Operator `forward` ran in 0.02 s\n",
      "Operator `forward` ran in 0.02 s\n",
      "Operator `forward` ran in 0.02 s\n",
      "Operator `forward` ran in 0.02 s\n",
      "Operator `forward` ran in 0.01 s\n",
      "Operator `forward` ran in 0.02 s\n",
      "Operator `forward` ran in 0.01 s\n",
      "Operator `forward` ran in 0.02 s\n",
      "Operator `forward` ran in 0.01 s\n",
      "Operator `forward` ran in 0.01 s\n",
      "Operator `forward` ran in 0.01 s\n",
      "Operator `forward` ran in 0.01 s\n",
      "Operator `forward` ran in 0.01 s\n",
      "Operator `forward` ran in 0.01 s\n",
      "Operator `forward` ran in 0.01 s\n"
     ]
    },
    {
     "name": "stdout",
     "output_type": "stream",
     "text": [
      "27; function value: 304.72833\n"
     ]
    },
    {
     "name": "stderr",
     "output_type": "stream",
     "text": [
      "Operator `forward` ran in 0.02 s\n",
      "Operator `gradient` ran in 0.02 s\n",
      "Operator `forward` ran in 0.02 s\n",
      "Operator `gradient` ran in 0.02 s\n",
      "Operator `forward` ran in 0.02 s\n",
      "Operator `gradient` ran in 0.02 s\n",
      "Operator `forward` ran in 0.02 s\n",
      "Operator `gradient` ran in 0.02 s\n",
      "Operator `forward` ran in 0.02 s\n",
      "Operator `gradient` ran in 0.02 s\n",
      "Operator `forward` ran in 0.02 s\n",
      "Operator `gradient` ran in 0.02 s\n",
      "Operator `forward` ran in 0.02 s\n",
      "Operator `gradient` ran in 0.02 s\n",
      "Operator `forward` ran in 0.02 s\n",
      "Operator `gradient` ran in 0.02 s\n",
      "Operator `forward` ran in 0.04 s\n",
      "Operator `gradient` ran in 0.02 s\n",
      "Operator `forward` ran in 0.02 s\n",
      "Operator `gradient` ran in 0.02 s\n",
      "Operator `forward` ran in 0.02 s\n",
      "Operator `gradient` ran in 0.03 s\n",
      "Operator `forward` ran in 0.02 s\n",
      "Operator `gradient` ran in 0.02 s\n",
      "Operator `forward` ran in 0.02 s\n",
      "Operator `gradient` ran in 0.02 s\n",
      "Operator `forward` ran in 0.03 s\n",
      "Operator `gradient` ran in 0.02 s\n",
      "Operator `forward` ran in 0.02 s\n",
      "Operator `gradient` ran in 0.02 s\n",
      "Operator `forward` ran in 0.02 s\n",
      "Operator `gradient` ran in 0.02 s\n"
     ]
    },
    {
     "name": "stdout",
     "output_type": "stream",
     "text": [
      "(α, misfit) = (0.1f0, 4879.6064453125)\n",
      "(α, misfit) = "
     ]
    },
    {
     "name": "stderr",
     "output_type": "stream",
     "text": [
      "Operator `forward` ran in 0.01 s\n",
      "Operator `forward` ran in 0.01 s\n",
      "Operator `forward` ran in 0.01 s\n",
      "Operator `forward` ran in 0.01 s\n",
      "Operator `forward` ran in 0.01 s\n",
      "Operator `forward` ran in 0.01 s\n",
      "Operator `forward` ran in 0.01 s\n",
      "Operator `forward` ran in 0.02 s\n",
      "Operator `forward` ran in 0.02 s\n",
      "Operator `forward` ran in 0.02 s\n",
      "Operator `forward` ran in 0.02 s\n",
      "Operator `forward` ran in 0.02 s\n",
      "Operator `forward` ran in 0.02 s\n",
      "Operator `forward` ran in 0.01 s\n",
      "Operator `forward` ran in 0.01 s\n",
      "Operator `forward` ran in 0.02 s\n"
     ]
    },
    {
     "name": "stdout",
     "output_type": "stream",
     "text": [
      "(0.03286041163244971, 667.0842895507812)\n"
     ]
    },
    {
     "name": "stderr",
     "output_type": "stream",
     "text": [
      "Operator `forward` ran in 0.02 s\n",
      "Operator `forward` ran in 0.02 s\n",
      "Operator `forward` ran in 0.01 s\n",
      "Operator `forward` ran in 0.02 s\n",
      "Operator `forward` ran in 0.02 s\n",
      "Operator `forward` ran in 0.01 s\n",
      "Operator `forward` ran in 0.02 s\n",
      "Operator `forward` ran in 0.02 s\n",
      "Operator `forward` ran in 0.01 s\n",
      "Operator `forward` ran in 0.01 s\n",
      "Operator `forward` ran in 0.01 s\n",
      "Operator `forward` ran in 0.01 s\n",
      "Operator `forward` ran in 0.01 s\n",
      "Operator `forward` ran in 0.01 s\n",
      "Operator `forward` ran in 0.02 s\n",
      "Operator `forward` ran in 0.02 s\n"
     ]
    },
    {
     "name": "stdout",
     "output_type": "stream",
     "text": [
      "(α, misfit) = (0.013166132149946264, 263.09454345703125)\n",
      "FWI iteration no: "
     ]
    },
    {
     "name": "stderr",
     "output_type": "stream",
     "text": [
      "Operator `forward` ran in 0.01 s\n",
      "Operator `forward` ran in 0.02 s\n",
      "Operator `forward` ran in 0.02 s\n",
      "Operator `forward` ran in 0.01 s\n",
      "Operator `forward` ran in 0.05 s\n",
      "Operator `forward` ran in 0.04 s\n",
      "Operator `forward` ran in 0.03 s\n",
      "Operator `forward` ran in 0.04 s\n",
      "Operator `forward` ran in 0.04 s\n",
      "Operator `forward` ran in 0.05 s\n",
      "Operator `forward` ran in 0.05 s\n",
      "Operator `forward` ran in 0.05 s\n",
      "Operator `forward` ran in 0.04 s\n",
      "Operator `forward` ran in 0.01 s\n",
      "Operator `forward` ran in 0.05 s\n",
      "Operator `forward` ran in 0.05 s\n"
     ]
    },
    {
     "name": "stdout",
     "output_type": "stream",
     "text": [
      "28; function value: 381.8644\n"
     ]
    },
    {
     "name": "stderr",
     "output_type": "stream",
     "text": [
      "Operator `forward` ran in 0.02 s\n",
      "Operator `gradient` ran in 0.02 s\n",
      "Operator `forward` ran in 0.04 s\n",
      "Operator `gradient` ran in 0.02 s\n",
      "Operator `forward` ran in 0.04 s\n",
      "Operator `gradient` ran in 0.02 s\n",
      "Operator `forward` ran in 0.02 s\n",
      "Operator `gradient` ran in 0.02 s\n",
      "Operator `forward` ran in 0.02 s\n",
      "Operator `gradient` ran in 0.02 s\n",
      "Operator `forward` ran in 0.02 s\n",
      "Operator `gradient` ran in 0.02 s\n",
      "Operator `forward` ran in 0.02 s\n",
      "Operator `gradient` ran in 0.02 s\n",
      "Operator `forward` ran in 0.02 s\n",
      "Operator `gradient` ran in 0.02 s\n",
      "Operator `forward` ran in 0.02 s\n",
      "Operator `gradient` ran in 0.02 s\n",
      "Operator `forward` ran in 0.02 s\n",
      "Operator `gradient` ran in 0.02 s\n",
      "Operator `forward` ran in 0.02 s\n",
      "Operator `gradient` ran in 0.02 s\n",
      "Operator `forward` ran in 0.02 s\n",
      "Operator `gradient` ran in 0.02 s\n",
      "Operator `forward` ran in 0.02 s\n",
      "Operator `gradient` ran in 0.02 s\n",
      "Operator `forward` ran in 0.03 s\n",
      "Operator `gradient` ran in 0.02 s\n",
      "Operator `forward` ran in 0.02 s\n",
      "Operator `gradient` ran in 0.02 s\n",
      "Operator `forward` ran in 0.02 s\n",
      "Operator `gradient` ran in 0.02 s\n"
     ]
    },
    {
     "name": "stdout",
     "output_type": "stream",
     "text": [
      "(α, misfit) = (0.1f0, 1.16030225e6)\n",
      "(α, misfit) = "
     ]
    },
    {
     "name": "stderr",
     "output_type": "stream",
     "text": [
      "Operator `forward` ran in 0.01 s\n",
      "Operator `forward` ran in 0.01 s\n",
      "Operator `forward` ran in 0.02 s\n",
      "Operator `forward` ran in 0.01 s\n",
      "Operator `forward` ran in 0.02 s\n",
      "Operator `forward` ran in 0.04 s\n",
      "Operator `forward` ran in 0.02 s\n",
      "Operator `forward` ran in 0.03 s\n",
      "Operator `forward` ran in 0.02 s\n",
      "Operator `forward` ran in 0.02 s\n",
      "Operator `forward` ran in 0.02 s\n",
      "Operator `forward` ran in 0.02 s\n",
      "Operator `forward` ran in 0.02 s\n",
      "Operator `forward` ran in 0.01 s\n",
      "Operator `forward` ran in 0.04 s\n",
      "Operator `forward` ran in 0.05 s\n"
     ]
    },
    {
     "name": "stdout",
     "output_type": "stream",
     "text": [
      "(0.010000000149011612, 10767.185546875)\n"
     ]
    },
    {
     "name": "stderr",
     "output_type": "stream",
     "text": [
      "Operator `forward` ran in 0.04 s\n",
      "Operator `forward` ran in 0.05 s\n",
      "Operator `forward` ran in 0.05 s\n",
      "Operator `forward` ran in 0.05 s\n",
      "Operator `forward` ran in 0.05 s\n",
      "Operator `forward` ran in 0.05 s\n",
      "Operator `forward` ran in 0.04 s\n",
      "Operator `forward` ran in 0.01 s\n",
      "Operator `forward` ran in 0.01 s\n",
      "Operator `forward` ran in 0.01 s\n",
      "Operator `forward` ran in 0.01 s\n",
      "Operator `forward` ran in 0.02 s\n",
      "Operator `forward` ran in 0.01 s\n",
      "Operator `forward` ran in 0.02 s\n",
      "Operator `forward` ran in 0.02 s\n",
      "Operator `forward` ran in 0.01 s\n"
     ]
    },
    {
     "name": "stdout",
     "output_type": "stream",
     "text": [
      "(α, misfit) = (0.0010000000149011613, 213.00930786132812)\n",
      "FWI iteration no: "
     ]
    },
    {
     "name": "stderr",
     "output_type": "stream",
     "text": [
      "Operator `forward` ran in 0.02 s\n",
      "Operator `forward` ran in 0.01 s\n",
      "Operator `forward` ran in 0.02 s\n",
      "Operator `forward` ran in 0.01 s\n",
      "Operator `forward` ran in 0.01 s\n",
      "Operator `forward` ran in 0.01 s\n",
      "Operator `forward` ran in 0.01 s\n",
      "Operator `forward` ran in 0.01 s\n",
      "Operator `forward` ran in 0.01 s\n",
      "Operator `forward` ran in 0.04 s\n",
      "Operator `forward` ran in 0.02 s\n",
      "Operator `forward` ran in 0.01 s\n",
      "Operator `forward` ran in 0.04 s\n",
      "Operator `forward` ran in 0.02 s\n",
      "Operator `forward` ran in 0.02 s\n",
      "Operator `forward` ran in 0.02 s\n"
     ]
    },
    {
     "name": "stdout",
     "output_type": "stream",
     "text": [
      "29; function value: 323.1408\n"
     ]
    },
    {
     "name": "stderr",
     "output_type": "stream",
     "text": [
      "Operator `forward` ran in 0.02 s\n",
      "Operator `gradient` ran in 0.02 s\n",
      "Operator `forward` ran in 0.02 s\n",
      "Operator `gradient` ran in 0.02 s\n",
      "Operator `forward` ran in 0.02 s\n",
      "Operator `gradient` ran in 0.02 s\n",
      "Operator `forward` ran in 0.02 s\n",
      "Operator `gradient` ran in 0.02 s\n",
      "Operator `forward` ran in 0.02 s\n",
      "Operator `gradient` ran in 0.02 s\n",
      "Operator `forward` ran in 0.02 s\n",
      "Operator `gradient` ran in 0.02 s\n",
      "Operator `forward` ran in 0.02 s\n",
      "Operator `gradient` ran in 0.02 s\n",
      "Operator `forward` ran in 0.02 s\n",
      "Operator `gradient` ran in 0.02 s\n",
      "Operator `forward` ran in 0.05 s\n",
      "Operator `gradient` ran in 0.02 s\n",
      "Operator `forward` ran in 0.02 s\n",
      "Operator `gradient` ran in 0.02 s\n",
      "Operator `forward` ran in 0.03 s\n",
      "Operator `gradient` ran in 0.02 s\n",
      "Operator `forward` ran in 0.05 s\n",
      "Operator `gradient` ran in 0.02 s\n",
      "Operator `forward` ran in 0.04 s\n",
      "Operator `gradient` ran in 0.03 s\n",
      "Operator `forward` ran in 0.06 s\n",
      "Operator `gradient` ran in 0.02 s\n",
      "Operator `forward` ran in 0.04 s\n",
      "Operator `gradient` ran in 0.02 s\n",
      "Operator `forward` ran in 0.04 s\n",
      "Operator `gradient` ran in 0.02 s\n"
     ]
    },
    {
     "name": "stdout",
     "output_type": "stream",
     "text": [
      "(α, misfit) = (0.1f0, 57444.40234375)\n",
      "(α, misfit) = "
     ]
    },
    {
     "name": "stderr",
     "output_type": "stream",
     "text": [
      "Operator `forward` ran in 0.01 s\n",
      "Operator `forward` ran in 0.01 s\n",
      "Operator `forward` ran in 0.03 s\n",
      "Operator `forward` ran in 0.02 s\n",
      "Operator `forward` ran in 0.03 s\n",
      "Operator `forward` ran in 0.03 s\n",
      "Operator `forward` ran in 0.03 s\n",
      "Operator `forward` ran in 0.03 s\n",
      "Operator `forward` ran in 0.03 s\n",
      "Operator `forward` ran in 0.04 s\n",
      "Operator `forward` ran in 0.03 s\n",
      "Operator `forward` ran in 0.01 s\n",
      "Operator `forward` ran in 0.02 s\n",
      "Operator `forward` ran in 0.02 s\n",
      "Operator `forward` ran in 0.02 s\n",
      "Operator `forward` ran in 0.02 s\n"
     ]
    },
    {
     "name": "stdout",
     "output_type": "stream",
     "text": [
      "(0.010000000149011612, 625.3087768554688)\n"
     ]
    },
    {
     "name": "stderr",
     "output_type": "stream",
     "text": [
      "Operator `forward` ran in 0.03 s\n",
      "Operator `forward` ran in 0.02 s\n",
      "Operator `forward` ran in 0.02 s\n",
      "Operator `forward` ran in 0.02 s\n",
      "Operator `forward` ran in 0.02 s\n",
      "Operator `forward` ran in 0.01 s\n",
      "Operator `forward` ran in 0.02 s\n",
      "Operator `forward` ran in 0.04 s\n",
      "Operator `forward` ran in 0.04 s\n",
      "Operator `forward` ran in 0.01 s\n",
      "Operator `forward` ran in 0.02 s\n",
      "Operator `forward` ran in 0.02 s\n",
      "Operator `forward` ran in 0.02 s\n",
      "Operator `forward` ran in 0.02 s\n",
      "Operator `forward` ran in 0.02 s\n",
      "Operator `forward` ran in 0.01 s\n"
     ]
    },
    {
     "name": "stdout",
     "output_type": "stream",
     "text": [
      "(α, misfit) = (0.0036199502686911898, 231.54354858398438)\n",
      "FWI iteration no: "
     ]
    },
    {
     "name": "stderr",
     "output_type": "stream",
     "text": [
      "Operator `forward` ran in 0.02 s\n",
      "Operator `forward` ran in 0.02 s\n",
      "Operator `forward` ran in 0.02 s\n",
      "Operator `forward` ran in 0.02 s\n",
      "Operator `forward` ran in 0.02 s\n",
      "Operator `forward` ran in 0.02 s\n",
      "Operator `forward` ran in 0.02 s\n",
      "Operator `forward` ran in 0.02 s\n",
      "Operator `forward` ran in 0.02 s\n",
      "Operator `forward` ran in 0.01 s\n",
      "Operator `forward` ran in 0.02 s\n",
      "Operator `forward` ran in 0.02 s\n",
      "Operator `forward` ran in 0.02 s\n",
      "Operator `forward` ran in 0.02 s\n",
      "Operator `forward` ran in 0.02 s\n",
      "Operator `forward` ran in 0.02 s\n"
     ]
    },
    {
     "name": "stdout",
     "output_type": "stream",
     "text": [
      "30; function value: 320.9327\n"
     ]
    },
    {
     "name": "stderr",
     "output_type": "stream",
     "text": [
      "Operator `forward` ran in 0.02 s\n",
      "Operator `gradient` ran in 0.02 s\n",
      "Operator `forward` ran in 0.02 s\n",
      "Operator `gradient` ran in 0.02 s\n",
      "Operator `forward` ran in 0.02 s\n",
      "Operator `gradient` ran in 0.02 s\n",
      "Operator `forward` ran in 0.02 s\n",
      "Operator `gradient` ran in 0.02 s\n",
      "Operator `forward` ran in 0.02 s\n",
      "Operator `gradient` ran in 0.02 s\n",
      "Operator `forward` ran in 0.02 s\n",
      "Operator `gradient` ran in 0.02 s\n",
      "Operator `forward` ran in 0.02 s\n",
      "Operator `gradient` ran in 0.02 s\n",
      "Operator `forward` ran in 0.02 s\n",
      "Operator `gradient` ran in 0.02 s\n",
      "Operator `forward` ran in 0.02 s\n",
      "Operator `gradient` ran in 0.02 s\n",
      "Operator `forward` ran in 0.02 s\n",
      "Operator `gradient` ran in 0.02 s\n",
      "Operator `forward` ran in 0.02 s\n",
      "Operator `gradient` ran in 0.02 s\n",
      "Operator `forward` ran in 0.02 s\n",
      "Operator `gradient` ran in 0.02 s\n",
      "Operator `forward` ran in 0.02 s\n",
      "Operator `gradient` ran in 0.02 s\n",
      "Operator `forward` ran in 0.02 s\n",
      "Operator `gradient` ran in 0.02 s\n",
      "Operator `forward` ran in 0.02 s\n",
      "Operator `gradient` ran in 0.02 s\n",
      "Operator `forward` ran in 0.02 s\n",
      "Operator `gradient` ran in 0.02 s\n"
     ]
    },
    {
     "name": "stdout",
     "output_type": "stream",
     "text": [
      "(α, misfit) = (0.1f0, 1.191347e6)\n",
      "(α, misfit) = "
     ]
    },
    {
     "name": "stderr",
     "output_type": "stream",
     "text": [
      "Operator `forward` ran in 0.02 s\n",
      "Operator `forward` ran in 0.02 s\n",
      "Operator `forward` ran in 0.02 s\n",
      "Operator `forward` ran in 0.03 s\n",
      "Operator `forward` ran in 0.03 s\n",
      "Operator `forward` ran in 0.02 s\n",
      "Operator `forward` ran in 0.02 s\n",
      "Operator `forward` ran in 0.02 s\n",
      "Operator `forward` ran in 0.02 s\n",
      "Operator `forward` ran in 0.01 s\n",
      "Operator `forward` ran in 0.02 s\n",
      "Operator `forward` ran in 0.02 s\n",
      "Operator `forward` ran in 0.02 s\n",
      "Operator `forward` ran in 0.02 s\n",
      "Operator `forward` ran in 0.01 s\n",
      "Operator `forward` ran in 0.02 s\n"
     ]
    },
    {
     "name": "stdout",
     "output_type": "stream",
     "text": [
      "(0.010000000149011612, 12039.1123046875)\n"
     ]
    },
    {
     "name": "stderr",
     "output_type": "stream",
     "text": [
      "Operator `forward` ran in 0.02 s\n",
      "Operator `forward` ran in 0.02 s\n",
      "Operator `forward` ran in 0.02 s\n",
      "Operator `forward` ran in 0.01 s\n",
      "Operator `forward` ran in 0.01 s\n",
      "Operator `forward` ran in 0.02 s\n",
      "Operator `forward` ran in 0.02 s\n",
      "Operator `forward` ran in 0.02 s\n",
      "Operator `forward` ran in 0.02 s\n",
      "Operator `forward` ran in 0.01 s\n",
      "Operator `forward` ran in 0.02 s\n",
      "Operator `forward` ran in 0.02 s\n",
      "Operator `forward` ran in 0.02 s\n",
      "Operator `forward` ran in 0.01 s\n",
      "Operator `forward` ran in 0.01 s\n",
      "Operator `forward` ran in 0.01 s\n"
     ]
    },
    {
     "name": "stdout",
     "output_type": "stream",
     "text": [
      "(α, misfit) = (0.0010000000149011613, 184.21327209472656)\n"
     ]
    },
    {
     "name": "stderr",
     "output_type": "stream",
     "text": [
      "Operator `forward` ran in 0.02 s\n",
      "Operator `forward` ran in 0.01 s\n",
      "Operator `forward` ran in 0.02 s\n",
      "Operator `forward` ran in 0.02 s\n",
      "Operator `forward` ran in 0.02 s\n",
      "Operator `forward` ran in 0.02 s\n",
      "Operator `forward` ran in 0.02 s\n",
      "Operator `forward` ran in 0.01 s\n",
      "Operator `forward` ran in 0.01 s\n",
      "Operator `forward` ran in 0.01 s\n",
      "Operator `forward` ran in 0.02 s\n",
      "Operator `forward` ran in 0.02 s\n",
      "Operator `forward` ran in 0.02 s\n",
      "Operator `forward` ran in 0.05 s\n",
      "Operator `forward` ran in 0.03 s\n",
      "Operator `forward` ran in 0.02 s\n"
     ]
    }
   ],
   "source": [
    "# Main loop\n",
    "for j=1:niterations\n",
    "\n",
    "    # get fwi objective function value and gradient\n",
    "    i = randperm(d_obs.nsrc)[1:batchsize]\n",
    "    fval, gradient = fwi_objective(model0, q[i], d_obs[i])\n",
    "    p = -gradient/norm(gradient, Inf)\n",
    "    \n",
    "    println(\"FWI iteration no: \",j,\"; function value: \",fval)\n",
    "    fhistory_SGD[j] = fval\n",
    "\n",
    "    # linesearch\n",
    "    function ϕ(α)\n",
    "        F0.model.m .= proj(model0.m .+ α * p)\n",
    "        misfit = .5*norm(F0[i]*q[i] - d_obs[i])^2\n",
    "        @show α, misfit\n",
    "        return misfit\n",
    "    end\n",
    "    step, fval = ls(ϕ, 1f-1, fval, dot(gradient, p))\n",
    "\n",
    "    # Update model and bound projection\n",
    "    model0.m .= proj(model0.m .+ step .* p)\n",
    "    m0_values[:, j] = model0.m\n",
    "end"
   ]
  },
  {
   "cell_type": "code",
   "execution_count": 11,
   "metadata": {},
   "outputs": [
    {
     "data": {
      "text/plain": [
       "101×101 Matrix{Float64}:\n",
       " 0.444444  0.444444  0.444444  0.444444  …  0.111397  0.111318  0.111259\n",
       " 0.444444  0.444444  0.444444  0.444444     0.111435  0.111347  0.111279\n",
       " 0.444444  0.444444  0.444444  0.444444     0.111475  0.111376  0.1113\n",
       " 0.444444  0.444444  0.444444  0.444444     0.111515  0.111406  0.111322\n",
       " 0.444444  0.444444  0.444444  0.444444     0.111556  0.111436  0.111345\n",
       " 0.444444  0.444444  0.444444  0.444444  …  0.111597  0.111467  0.111367\n",
       " 0.444444  0.444444  0.444444  0.444444     0.11164   0.111498  0.11139\n",
       " 0.444444  0.444444  0.444444  0.444444     0.111682  0.111529  0.111413\n",
       " 0.444444  0.444444  0.444444  0.444444     0.111725  0.111561  0.111435\n",
       " 0.444444  0.444444  0.444444  0.444444     0.111767  0.111592  0.111458\n",
       " ⋮                                       ⋱                      ⋮\n",
       " 0.444444  0.444444  0.444444  0.444444     0.11172   0.111557  0.111433\n",
       " 0.444444  0.444444  0.444444  0.444444     0.111678  0.111526  0.11141\n",
       " 0.444444  0.444444  0.444444  0.444444     0.111636  0.111495  0.111387\n",
       " 0.444444  0.444444  0.444444  0.444444  …  0.111594  0.111464  0.111365\n",
       " 0.444444  0.444444  0.444444  0.444444     0.111552  0.111433  0.111342\n",
       " 0.444444  0.444444  0.444444  0.444444     0.111512  0.111403  0.11132\n",
       " 0.444444  0.444444  0.444444  0.444444     0.111472  0.111373  0.111299\n",
       " 0.444444  0.444444  0.444444  0.444444     0.111432  0.111344  0.111278\n",
       " 0.444193  0.444444  0.444444  0.444444  …  0.111395  0.111317  0.111258"
      ]
     },
     "metadata": {},
     "output_type": "display_data"
    }
   ],
   "source": [
    "reshape(m0_values[:, 29], (101,101))"
   ]
  },
  {
   "cell_type": "code",
   "execution_count": 12,
   "metadata": {},
   "outputs": [],
   "source": [
    "fwi = sqrt.(1f0./adjoint(reshape(m0_values[:, 29], (101,101))));\n",
    "v0 = sqrt.(1f0./M[\"m0\"])';\n",
    "v = sqrt.(1f0./M[\"m\"])';"
   ]
  },
  {
   "cell_type": "code",
   "execution_count": 13,
   "metadata": {},
   "outputs": [
    {
     "data": {
      "image/png": "[encoded data removed]",
      "text/plain": [
       "Figure(PyObject <Figure size 5400x1200 with 6 Axes>)"
      ]
     },
     "metadata": {},
     "output_type": "display_data"
    },
    {
     "name": "stderr",
     "output_type": "stream",
     "text": [
      "/home/geouser/.local/lib/python3.9/site-packages/numpy/core/getlimits.py:518: UserWarning: The value of the smallest subnormal for <class 'numpy.float64'> type is zero.\n",
      "  setattr(self, word, getattr(machar, word).flat[0])\n",
      "/home/geouser/.local/lib/python3.9/site-packages/numpy/core/getlimits.py:89: UserWarning: The value of the smallest subnormal for <class 'numpy.float64'> type is zero.\n",
      "  return self._float_to_str(self.smallest_subnormal)\n"
     ]
    }
   ],
   "source": [
    "fig=figure(figsize=(18,4), dpi=300);\n",
    "subplot(131)\n",
    "im = imshow(v, cmap=\"viridis\", extent=[0, (model0.n[1]-1)*model0.d[1], (model0.n[2]-1)*model0.d[2], 0], vmin=1.5, vmax=3.0)\n",
    "cb = colorbar(im, ticks=unique(v), pad=0.01)\n",
    "cb[:set_label](label = L\"$V_p [km/s]$\")\n",
    "xlabel(L\"Posición horizontal $[m]$\")\n",
    "ylabel(L\"Profundidad $[m]$\")\n",
    "title(L\"Modelo real $\\mathbf{m}$\")\n",
    "subplot(132)\n",
    "im = imshow(v0, cmap=\"viridis\", extent=[0, (model0.n[1]-1)*model0.d[1], (model0.n[2]-1)*model0.d[2], 0], vmin=1.5, vmax=3.0)\n",
    "cb = colorbar(im, ticks=unique(v), pad=0.01)\n",
    "cb[:set_label](label = L\"$V_p [km/s]$\")\n",
    "xlabel(L\"Posición horizontal $[m]$\")\n",
    "ylabel(L\"Profundidad $[m]$\")\n",
    "title(L\"Modelo inicial $\\mathbf{m_0}$\")\n",
    "subplot(133)\n",
    "im = imshow(fwi, cmap=\"viridis\", extent=[0, (model0.n[1]-1)*model0.d[1], (model0.n[2]-1)*model0.d[2], 0], vmin=1.5, vmax=3.0)\n",
    "cb = colorbar(im, ticks=unique(v), pad=0.01)\n",
    "cb[:set_label](label = L\"$V_p [km/s]$\")\n",
    "xlabel(L\"Posición horizontal $[m]$\")\n",
    "ylabel(L\"Profundidad $[m]$\")\n",
    "title(\"FWI con SGD\")\n",
    "display(fig)"
   ]
  },
  {
   "cell_type": "code",
   "execution_count": 14,
   "metadata": {},
   "outputs": [
    {
     "name": "stdout",
     "output_type": "stream",
     "text": [
      "El error cuadrático medio del modelo inicial es: 0.01610154849900713\n",
      "El error cuadrático medio de FWI es: 0.010701690306282003\n"
     ]
    }
   ],
   "source": [
    "mse = sum((v .- v0).^2) / length(v)\n",
    "println(\"El error cuadrático medio del modelo inicial es: \", mse)\n",
    "mse = sum((v .- fwi).^2) / length(v)\n",
    "println(\"El error cuadrático medio de FWI es: \", mse)"
   ]
  },
  {
   "cell_type": "code",
   "execution_count": 15,
   "metadata": {},
   "outputs": [
    {
     "name": "stdout",
     "output_type": "stream",
     "text": [
      "Porcentaje de error (v0): 2.9251756195527445\n",
      "Porcentaje de error (FWI): 2.2059062210811717\n"
     ]
    }
   ],
   "source": [
    "error_porcentaje_v0 = 100 * sum(abs.(v - v0)) / sum(abs.(v))\n",
    "error_porcentaje_fwi = 100 * sum(abs.(v - fwi)) / sum(abs.(v))\n",
    "\n",
    "println(\"Porcentaje de error (v0): \", error_porcentaje_v0)\n",
    "println(\"Porcentaje de error (FWI): \", error_porcentaje_fwi)"
   ]
  },
  {
   "cell_type": "code",
   "execution_count": 16,
   "metadata": {},
   "outputs": [
    {
     "data": {
      "image/png": "[encoded data removed]",
      "text/plain": [
       "Figure(PyObject <Figure size 640x480 with 2 Axes>)"
      ]
     },
     "metadata": {},
     "output_type": "display_data"
    }
   ],
   "source": [
    "difs = v-fwi\n",
    "fig=figure() #figsize=(20, 5)\n",
    "im = imshow(difs, cmap=\"viridis\", extent=[0, (model0.n[1]-1)*model0.d[1], (model0.n[2]-1)*model0.d[2], 0], vmin=-1, vmax=1)\n",
    "cb = colorbar(im)\n",
    "cb[:set_label](label = \"Error\")\n",
    "xlabel(L\"Posición horizontal $[m]$\")\n",
    "ylabel(L\"Profundidad $[m]$\")\n",
    "title(\"Error relativa\")\n",
    "display(fig)"
   ]
  },
  {
   "cell_type": "code",
   "execution_count": 17,
   "metadata": {},
   "outputs": [
    {
     "data": {
      "image/png": "[encoded data removed]",
      "text/plain": [
       "Figure(PyObject <Figure size 1920x1440 with 1 Axes>)"
      ]
     },
     "metadata": {},
     "output_type": "display_data"
    }
   ],
   "source": [
    "fig=figure(dpi=300) #figsize=(20, 5)\n",
    "xax = 1:1:30\n",
    "plot(xax, fhistory_SGD)\n",
    "xlabel(\"Número de iteraciones\")\n",
    "ylabel(\"Valor de desajuste\")\n",
    "title(\"Convergencia\")\n",
    "display(fig)"
   ]
  },
  {
   "cell_type": "code",
   "execution_count": 18,
   "metadata": {},
   "outputs": [],
   "source": [
    "save(\"model_custom_fwi_result_low_f.jld\", \"n\", M[\"n\"], \"d\", M[\"d\"], \"o\", M[\"o\"], \"m\", M[\"m\"], \"m0\", model0.m.data, \"dm\", dm)"
   ]
  }
 ],
 "metadata": {
  "kernelspec": {
   "display_name": "Julia 1.9.0",
   "language": "julia",
   "name": "julia-1.9"
  },
  "language_info": {
   "file_extension": ".jl",
   "mimetype": "application/julia",
   "name": "julia",
   "version": "1.9.0"
  },
  "orig_nbformat": 4
 },
 "nbformat": 4,
 "nbformat_minor": 2
}
