{
 "cells": [
  {
   "attachments": {},
   "cell_type": "markdown",
   "metadata": {},
   "source": [
    "# FWI modelo personalizado"
   ]
  },
  {
   "cell_type": "code",
   "execution_count": 1,
   "metadata": {},
   "outputs": [],
   "source": [
    "using PyPlot, JLD, SegyIO, JUDI, SlimOptim, Statistics, Random, LinearAlgebra, ImageFiltering"
   ]
  },
  {
   "cell_type": "code",
   "execution_count": 2,
   "metadata": {},
   "outputs": [],
   "source": [
    "M = load(\"model_custom_fwi_result_low_f.jld\");"
   ]
  },
  {
   "cell_type": "code",
   "execution_count": 3,
   "metadata": {},
   "outputs": [],
   "source": [
    "model = Model(M[\"n\"], M[\"d\"], M[\"o\"], M[\"m\"])\n",
    "model0 = Model(M[\"n\"], M[\"d\"], M[\"o\"], M[\"m0\"])\n",
    "dm = vec(M[\"dm\"]);"
   ]
  },
  {
   "cell_type": "code",
   "execution_count": 4,
   "metadata": {},
   "outputs": [],
   "source": [
    "vmin = ones(Float32,model0.n) .* 1.5f0\n",
    "vmax = ones(Float32,model0.n) .* 3.0f0;\n",
    "mmin = vec((1f0 ./ vmax).^2)\n",
    "mmax = vec((1f0 ./ vmin).^2);"
   ]
  },
  {
   "cell_type": "code",
   "execution_count": 5,
   "metadata": {},
   "outputs": [
    {
     "name": "stderr",
     "output_type": "stream",
     "text": [
      "┌ Warning: Fixed length trace flag set in stream: IOBuffer(data=UInt8[...], readable=true, writable=false, seekable=true, append=false, size=4763124, maxsize=Inf, ptr=3601, mark=-1)\n",
      "└ @ SegyIO /home/geouser/.julia/packages/SegyIO/aQwou/src/read/read_file.jl:36\n"
     ]
    }
   ],
   "source": [
    "block = segy_read(\"model_custom_high_f.segy\")\n",
    "d_obs = judiVector(block);"
   ]
  },
  {
   "cell_type": "code",
   "execution_count": 6,
   "metadata": {},
   "outputs": [
    {
     "name": "stdout",
     "output_type": "stream",
     "text": [
      "judiVector{Float32, Matrix{Float32}} with 21 sources\n"
     ]
    }
   ],
   "source": [
    "# Set up wavelet\n",
    "srcGeometry = Geometry(block; key=\"source\")\t# read source position geometry\n",
    "wavelet = ricker_wavelet(srcGeometry.t[1], srcGeometry.dt[1], 0.015f0)\t# 4 Hz wavelet\n",
    "q = judiVector(srcGeometry, wavelet)"
   ]
  },
  {
   "cell_type": "code",
   "execution_count": 7,
   "metadata": {},
   "outputs": [
    {
     "name": "stdout",
     "output_type": "stream",
     "text": [
      "JUDI forward{Float32} propagator (src * rec * time) -> (src * rec * time)\n"
     ]
    }
   ],
   "source": [
    "F0 = judiModeling(deepcopy(model0), srcGeometry, d_obs.geometry)"
   ]
  },
  {
   "cell_type": "code",
   "execution_count": 8,
   "metadata": {},
   "outputs": [],
   "source": [
    "# Optimization parameters\n",
    "niterations = parse(Int, get(ENV, \"NITER\", \"30\"))\n",
    "batchsize = 16\n",
    "fhistory_SGD = zeros(Float32, niterations);\n",
    "m0_values = zeros(length(model0.m), niterations);"
   ]
  },
  {
   "cell_type": "code",
   "execution_count": 9,
   "metadata": {},
   "outputs": [],
   "source": [
    "# Projection operator for bound constraints\n",
    "proj(x) = reshape(median([vec(mmin) vec(x) vec(mmax)]; dims=2),model0.n)\n",
    "ls = BackTracking(order=3, iterations=10, );"
   ]
  },
  {
   "cell_type": "code",
   "execution_count": 10,
   "metadata": {},
   "outputs": [
    {
     "name": "stdout",
     "output_type": "stream",
     "text": [
      "FWI iteration no: 1; function value: 6385.401\n",
      "(α, misfit) = "
     ]
    },
    {
     "name": "stderr",
     "output_type": "stream",
     "text": [
      "Building forward operator\n",
      "/home/geouser/.local/lib/python3.9/site-packages/numpy/core/getlimits.py:518: UserWarning: The value of the smallest subnormal for <class 'numpy.float32'> type is zero.\n",
      "  setattr(self, word, getattr(machar, word).flat[0])\n",
      "/home/geouser/.local/lib/python3.9/site-packages/numpy/core/getlimits.py:89: UserWarning: The value of the smallest subnormal for <class 'numpy.float32'> type is zero.\n",
      "  return self._float_to_str(self.smallest_subnormal)\n",
      "Operator `forward` ran in 0.02 s\n",
      "Building adjoint born operator\n",
      "Operator `gradient` ran in 0.02 s\n",
      "Operator `forward` ran in 0.02 s\n",
      "Operator `gradient` ran in 0.02 s\n",
      "Operator `forward` ran in 0.02 s\n",
      "Operator `gradient` ran in 0.02 s\n",
      "Operator `forward` ran in 0.02 s\n",
      "Operator `gradient` ran in 0.02 s\n",
      "Operator `forward` ran in 0.02 s\n",
      "Operator `gradient` ran in 0.02 s\n",
      "Operator `forward` ran in 0.02 s\n",
      "Operator `gradient` ran in 0.02 s\n",
      "Operator `forward` ran in 0.02 s\n",
      "Operator `gradient` ran in 0.02 s\n",
      "Operator `forward` ran in 0.02 s\n",
      "Operator `gradient` ran in 0.02 s\n",
      "Operator `forward` ran in 0.02 s\n",
      "Operator `gradient` ran in 0.02 s\n",
      "Operator `forward` ran in 0.02 s\n",
      "Operator `gradient` ran in 0.02 s\n",
      "Operator `forward` ran in 0.02 s\n",
      "Operator `gradient` ran in 0.02 s\n",
      "Operator `forward` ran in 0.02 s\n",
      "Operator `gradient` ran in 0.02 s\n",
      "Operator `forward` ran in 0.02 s\n",
      "Operator `gradient` ran in 0.02 s\n",
      "Operator `forward` ran in 0.02 s\n",
      "Operator `gradient` ran in 0.02 s\n",
      "Operator `forward` ran in 0.02 s\n",
      "Operator `gradient` ran in 0.02 s\n",
      "Operator `forward` ran in 0.02 s\n",
      "Operator `gradient` ran in 0.02 s\n"
     ]
    },
    {
     "name": "stdout",
     "output_type": "stream",
     "text": [
      "(0.1f0, 6488.54296875)\n"
     ]
    },
    {
     "name": "stderr",
     "output_type": "stream",
     "text": [
      "Building forward operator\n",
      "Operator `forward` ran in 0.01 s\n",
      "Operator `forward` ran in 0.01 s\n",
      "Operator `forward` ran in 0.01 s\n",
      "Operator `forward` ran in 0.01 s\n",
      "Operator `forward` ran in 0.01 s\n",
      "Operator `forward` ran in 0.01 s\n",
      "Operator `forward` ran in 0.01 s\n",
      "Operator `forward` ran in 0.01 s\n",
      "Operator `forward` ran in 0.01 s\n",
      "Operator `forward` ran in 0.01 s\n",
      "Operator `forward` ran in 0.01 s\n",
      "Operator `forward` ran in 0.01 s\n",
      "Operator `forward` ran in 0.01 s\n",
      "Operator `forward` ran in 0.01 s\n",
      "Operator `forward` ran in 0.02 s\n",
      "Operator `forward` ran in 0.01 s\n"
     ]
    },
    {
     "name": "stdout",
     "output_type": "stream",
     "text": [
      "(α, misfit) = (0.04981918829643327, 2304.5751953125)\n",
      "FWI iteration no: "
     ]
    },
    {
     "name": "stderr",
     "output_type": "stream",
     "text": [
      "Operator `forward` ran in 0.01 s\n",
      "Operator `forward` ran in 0.01 s\n",
      "Operator `forward` ran in 0.02 s\n",
      "Operator `forward` ran in 0.02 s\n",
      "Operator `forward` ran in 0.01 s\n",
      "Operator `forward` ran in 0.01 s\n",
      "Operator `forward` ran in 0.02 s\n",
      "Operator `forward` ran in 0.01 s\n",
      "Operator `forward` ran in 0.01 s\n",
      "Operator `forward` ran in 0.01 s\n",
      "Operator `forward` ran in 0.01 s\n",
      "Operator `forward` ran in 0.02 s\n",
      "Operator `forward` ran in 0.01 s\n",
      "Operator `forward` ran in 0.02 s\n",
      "Operator `forward` ran in 0.02 s\n",
      "Operator `forward` ran in 0.01 s\n"
     ]
    },
    {
     "name": "stdout",
     "output_type": "stream",
     "text": [
      "2; function value: 2531.9175\n"
     ]
    },
    {
     "name": "stderr",
     "output_type": "stream",
     "text": [
      "Operator `forward` ran in 0.02 s\n",
      "Operator `gradient` ran in 0.02 s\n",
      "Operator `forward` ran in 0.02 s\n",
      "Operator `gradient` ran in 0.02 s\n",
      "Operator `forward` ran in 0.02 s\n",
      "Operator `gradient` ran in 0.02 s\n",
      "Operator `forward` ran in 0.02 s\n",
      "Operator `gradient` ran in 0.02 s\n",
      "Operator `forward` ran in 0.02 s\n",
      "Operator `gradient` ran in 0.02 s\n",
      "Operator `forward` ran in 0.02 s\n",
      "Operator `gradient` ran in 0.02 s\n",
      "Operator `forward` ran in 0.02 s\n",
      "Operator `gradient` ran in 0.02 s\n",
      "Operator `forward` ran in 0.02 s\n",
      "Operator `gradient` ran in 0.02 s\n",
      "Operator `forward` ran in 0.02 s\n",
      "Operator `gradient` ran in 0.02 s\n",
      "Operator `forward` ran in 0.02 s\n",
      "Operator `gradient` ran in 0.02 s\n",
      "Operator `forward` ran in 0.02 s\n",
      "Operator `gradient` ran in 0.02 s\n",
      "Operator `forward` ran in 0.02 s\n",
      "Operator `gradient` ran in 0.02 s\n",
      "Operator `forward` ran in 0.02 s\n",
      "Operator `gradient` ran in 0.02 s\n",
      "Operator `forward` ran in 0.02 s\n",
      "Operator `gradient` ran in 0.02 s\n",
      "Operator `forward` ran in 0.02 s\n",
      "Operator `gradient` ran in 0.02 s\n",
      "Operator `forward` ran in 0.02 s\n",
      "Operator `gradient` ran in 0.02 s\n"
     ]
    },
    {
     "name": "stdout",
     "output_type": "stream",
     "text": [
      "(α, misfit) = (0.1f0, 232464.734375)\n",
      "(α, misfit) = "
     ]
    },
    {
     "name": "stderr",
     "output_type": "stream",
     "text": [
      "Operator `forward` ran in 0.01 s\n",
      "Operator `forward` ran in 0.01 s\n",
      "Operator `forward` ran in 0.02 s\n",
      "Operator `forward` ran in 0.01 s\n",
      "Operator `forward` ran in 0.02 s\n",
      "Operator `forward` ran in 0.01 s\n",
      "Operator `forward` ran in 0.01 s\n",
      "Operator `forward` ran in 0.02 s\n",
      "Operator `forward` ran in 0.01 s\n",
      "Operator `forward` ran in 0.01 s\n",
      "Operator `forward` ran in 0.02 s\n",
      "Operator `forward` ran in 0.01 s\n",
      "Operator `forward` ran in 0.02 s\n",
      "Operator `forward` ran in 0.02 s\n",
      "Operator `forward` ran in 0.01 s\n",
      "Operator `forward` ran in 0.02 s\n"
     ]
    },
    {
     "name": "stdout",
     "output_type": "stream",
     "text": [
      "(0.010000000149011612, 4859.037109375)\n"
     ]
    },
    {
     "name": "stderr",
     "output_type": "stream",
     "text": [
      "Operator `forward` ran in 0.02 s\n",
      "Operator `forward` ran in 0.01 s\n",
      "Operator `forward` ran in 0.01 s\n",
      "Operator `forward` ran in 0.01 s\n",
      "Operator `forward` ran in 0.01 s\n",
      "Operator `forward` ran in 0.01 s\n",
      "Operator `forward` ran in 0.01 s\n",
      "Operator `forward` ran in 0.01 s\n",
      "Operator `forward` ran in 0.01 s\n",
      "Operator `forward` ran in 0.01 s\n",
      "Operator `forward` ran in 0.02 s\n",
      "Operator `forward` ran in 0.02 s\n",
      "Operator `forward` ran in 0.01 s\n",
      "Operator `forward` ran in 0.01 s\n",
      "Operator `forward` ran in 0.01 s\n",
      "Operator `forward` ran in 0.02 s\n"
     ]
    },
    {
     "name": "stdout",
     "output_type": "stream",
     "text": [
      "(α, misfit) = (0.002561465091673757, 2272.0830078125)\n",
      "FWI iteration no: "
     ]
    },
    {
     "name": "stderr",
     "output_type": "stream",
     "text": [
      "Operator `forward` ran in 0.01 s\n",
      "Operator `forward` ran in 0.01 s\n",
      "Operator `forward` ran in 0.02 s\n",
      "Operator `forward` ran in 0.01 s\n",
      "Operator `forward` ran in 0.01 s\n",
      "Operator `forward` ran in 0.01 s\n",
      "Operator `forward` ran in 0.02 s\n",
      "Operator `forward` ran in 0.01 s\n",
      "Operator `forward` ran in 0.01 s\n",
      "Operator `forward` ran in 0.01 s\n",
      "Operator `forward` ran in 0.01 s\n",
      "Operator `forward` ran in 0.01 s\n",
      "Operator `forward` ran in 0.02 s\n",
      "Operator `forward` ran in 0.01 s\n",
      "Operator `forward` ran in 0.02 s\n",
      "Operator `forward` ran in 0.01 s\n"
     ]
    },
    {
     "name": "stdout",
     "output_type": "stream",
     "text": [
      "3; function value: 2255.114\n"
     ]
    },
    {
     "name": "stderr",
     "output_type": "stream",
     "text": [
      "Operator `forward` ran in 0.02 s\n",
      "Operator `gradient` ran in 0.02 s\n",
      "Operator `forward` ran in 0.02 s\n",
      "Operator `gradient` ran in 0.02 s\n",
      "Operator `forward` ran in 0.02 s\n",
      "Operator `gradient` ran in 0.02 s\n",
      "Operator `forward` ran in 0.02 s\n",
      "Operator `gradient` ran in 0.02 s\n",
      "Operator `forward` ran in 0.02 s\n",
      "Operator `gradient` ran in 0.02 s\n",
      "Operator `forward` ran in 0.02 s\n",
      "Operator `gradient` ran in 0.02 s\n",
      "Operator `forward` ran in 0.03 s\n",
      "Operator `gradient` ran in 0.02 s\n",
      "Operator `forward` ran in 0.02 s\n",
      "Operator `gradient` ran in 0.02 s\n",
      "Operator `forward` ran in 0.04 s\n",
      "Operator `gradient` ran in 0.02 s\n",
      "Operator `forward` ran in 0.05 s\n",
      "Operator `gradient` ran in 0.02 s\n",
      "Operator `forward` ran in 0.05 s\n",
      "Operator `gradient` ran in 0.02 s\n",
      "Operator `forward` ran in 0.05 s\n",
      "Operator `gradient` ran in 0.02 s\n",
      "Operator `forward` ran in 0.04 s\n",
      "Operator `gradient` ran in 0.02 s\n",
      "Operator `forward` ran in 0.04 s\n",
      "Operator `gradient` ran in 0.02 s\n",
      "Operator `forward` ran in 0.04 s\n",
      "Operator `gradient` ran in 0.02 s\n",
      "Operator `forward` ran in 0.04 s\n",
      "Operator `gradient` ran in 0.02 s\n"
     ]
    },
    {
     "name": "stdout",
     "output_type": "stream",
     "text": [
      "(α, misfit) = (0.1f0, 3706.8623046875)\n",
      "(α, misfit) = "
     ]
    },
    {
     "name": "stderr",
     "output_type": "stream",
     "text": [
      "Operator `forward` ran in 0.02 s\n",
      "Operator `forward` ran in 0.01 s\n",
      "Operator `forward` ran in 0.01 s\n",
      "Operator `forward` ran in 0.01 s\n",
      "Operator `forward` ran in 0.01 s\n",
      "Operator `forward` ran in 0.01 s\n",
      "Operator `forward` ran in 0.01 s\n",
      "Operator `forward` ran in 0.01 s\n",
      "Operator `forward` ran in 0.01 s\n",
      "Operator `forward` ran in 0.01 s\n",
      "Operator `forward` ran in 0.02 s\n",
      "Operator `forward` ran in 0.01 s\n",
      "Operator `forward` ran in 0.01 s\n",
      "Operator `forward` ran in 0.02 s\n",
      "Operator `forward` ran in 0.01 s\n",
      "Operator `forward` ran in 0.01 s\n"
     ]
    },
    {
     "name": "stdout",
     "output_type": "stream",
     "text": [
      "(0.04667153506135858, 1725.8978271484375)\n"
     ]
    },
    {
     "name": "stderr",
     "output_type": "stream",
     "text": [
      "Operator `forward` ran in 0.02 s\n",
      "Operator `forward` ran in 0.01 s\n",
      "Operator `forward` ran in 0.01 s\n",
      "Operator `forward` ran in 0.01 s\n",
      "Operator `forward` ran in 0.01 s\n",
      "Operator `forward` ran in 0.01 s\n",
      "Operator `forward` ran in 0.01 s\n",
      "Operator `forward` ran in 0.01 s\n",
      "Operator `forward` ran in 0.01 s\n",
      "Operator `forward` ran in 0.02 s\n",
      "Operator `forward` ran in 0.02 s\n",
      "Operator `forward` ran in 0.01 s\n",
      "Operator `forward` ran in 0.01 s\n",
      "Operator `forward` ran in 0.02 s\n",
      "Operator `forward` ran in 0.03 s\n",
      "Operator `forward` ran in 0.04 s\n"
     ]
    },
    {
     "name": "stdout",
     "output_type": "stream",
     "text": [
      "FWI iteration no: 4; function value: 1746.3527\n",
      "(α, misfit) = "
     ]
    },
    {
     "name": "stderr",
     "output_type": "stream",
     "text": [
      "Operator `forward` ran in 0.04 s\n",
      "Operator `gradient` ran in 0.02 s\n",
      "Operator `forward` ran in 0.04 s\n",
      "Operator `gradient` ran in 0.02 s\n",
      "Operator `forward` ran in 0.04 s\n",
      "Operator `gradient` ran in 0.02 s\n",
      "Operator `forward` ran in 0.02 s\n",
      "Operator `gradient` ran in 0.02 s\n",
      "Operator `forward` ran in 0.05 s\n",
      "Operator `gradient` ran in 0.02 s\n",
      "Operator `forward` ran in 0.03 s\n",
      "Operator `gradient` ran in 0.02 s\n",
      "Operator `forward` ran in 0.02 s\n",
      "Operator `gradient` ran in 0.02 s\n",
      "Operator `forward` ran in 0.02 s\n",
      "Operator `gradient` ran in 0.02 s\n",
      "Operator `forward` ran in 0.02 s\n",
      "Operator `gradient` ran in 0.02 s\n",
      "Operator `forward` ran in 0.02 s\n",
      "Operator `gradient` ran in 0.02 s\n",
      "Operator `forward` ran in 0.02 s\n",
      "Operator `gradient` ran in 0.02 s\n",
      "Operator `forward` ran in 0.02 s\n",
      "Operator `gradient` ran in 0.02 s\n",
      "Operator `forward` ran in 0.05 s\n",
      "Operator `gradient` ran in 0.02 s\n",
      "Operator `forward` ran in 0.02 s\n",
      "Operator `gradient` ran in 0.02 s\n",
      "Operator `forward` ran in 0.02 s\n",
      "Operator `gradient` ran in 0.02 s\n",
      "Operator `forward` ran in 0.02 s\n",
      "Operator `gradient` ran in 0.02 s\n"
     ]
    },
    {
     "name": "stdout",
     "output_type": "stream",
     "text": [
      "(0.1f0, 69683.1875)\n"
     ]
    },
    {
     "name": "stderr",
     "output_type": "stream",
     "text": [
      "Operator `forward` ran in 0.02 s\n",
      "Operator `forward` ran in 0.01 s\n",
      "Operator `forward` ran in 0.03 s\n",
      "Operator `forward` ran in 0.01 s\n",
      "Operator `forward` ran in 0.01 s\n",
      "Operator `forward` ran in 0.02 s\n",
      "Operator `forward` ran in 0.01 s\n",
      "Operator `forward` ran in 0.01 s\n",
      "Operator `forward` ran in 0.02 s\n",
      "Operator `forward` ran in 0.01 s\n",
      "Operator `forward` ran in 0.02 s\n",
      "Operator `forward` ran in 0.01 s\n",
      "Operator `forward` ran in 0.02 s\n",
      "Operator `forward` ran in 0.02 s\n",
      "Operator `forward` ran in 0.02 s\n",
      "Operator `forward` ran in 0.02 s\n"
     ]
    },
    {
     "name": "stdout",
     "output_type": "stream",
     "text": [
      "(α, misfit) = (0.010454013911000442, 1392.236083984375)\n",
      "FWI iteration no: "
     ]
    },
    {
     "name": "stderr",
     "output_type": "stream",
     "text": [
      "Operator `forward` ran in 0.02 s\n",
      "Operator `forward` ran in 0.01 s\n",
      "Operator `forward` ran in 0.02 s\n",
      "Operator `forward` ran in 0.02 s\n",
      "Operator `forward` ran in 0.01 s\n",
      "Operator `forward` ran in 0.01 s\n",
      "Operator `forward` ran in 0.02 s\n",
      "Operator `forward` ran in 0.02 s\n",
      "Operator `forward` ran in 0.01 s\n",
      "Operator `forward` ran in 0.02 s\n",
      "Operator `forward` ran in 0.01 s\n",
      "Operator `forward` ran in 0.02 s\n",
      "Operator `forward` ran in 0.02 s\n",
      "Operator `forward` ran in 0.01 s\n",
      "Operator `forward` ran in 0.01 s\n",
      "Operator `forward` ran in 0.01 s\n"
     ]
    },
    {
     "name": "stdout",
     "output_type": "stream",
     "text": [
      "5; function value: 1341.3313\n"
     ]
    },
    {
     "name": "stderr",
     "output_type": "stream",
     "text": [
      "Operator `forward` ran in 0.02 s\n",
      "Operator `gradient` ran in 0.02 s\n",
      "Operator `forward` ran in 0.02 s\n",
      "Operator `gradient` ran in 0.02 s\n",
      "Operator `forward` ran in 0.02 s\n",
      "Operator `gradient` ran in 0.02 s\n",
      "Operator `forward` ran in 0.02 s\n",
      "Operator `gradient` ran in 0.02 s\n",
      "Operator `forward` ran in 0.02 s\n",
      "Operator `gradient` ran in 0.02 s\n",
      "Operator `forward` ran in 0.02 s\n",
      "Operator `gradient` ran in 0.02 s\n",
      "Operator `forward` ran in 0.02 s\n",
      "Operator `gradient` ran in 0.02 s\n",
      "Operator `forward` ran in 0.02 s\n",
      "Operator `gradient` ran in 0.02 s\n",
      "Operator `forward` ran in 0.02 s\n",
      "Operator `gradient` ran in 0.02 s\n",
      "Operator `forward` ran in 0.02 s\n",
      "Operator `gradient` ran in 0.02 s\n",
      "Operator `forward` ran in 0.02 s\n",
      "Operator `gradient` ran in 0.02 s\n",
      "Operator `forward` ran in 0.02 s\n",
      "Operator `gradient` ran in 0.02 s\n",
      "Operator `forward` ran in 0.02 s\n",
      "Operator `gradient` ran in 0.02 s\n",
      "Operator `forward` ran in 0.02 s\n",
      "Operator `gradient` ran in 0.02 s\n",
      "Operator `forward` ran in 0.02 s\n",
      "Operator `gradient` ran in 0.02 s\n",
      "Operator `forward` ran in 0.02 s\n",
      "Operator `gradient` ran in 0.02 s\n"
     ]
    },
    {
     "name": "stdout",
     "output_type": "stream",
     "text": [
      "(α, misfit) = (0.1f0, 4643.17529296875)\n",
      "(α, misfit) = "
     ]
    },
    {
     "name": "stderr",
     "output_type": "stream",
     "text": [
      "Operator `forward` ran in 0.02 s\n",
      "Operator `forward` ran in 0.01 s\n",
      "Operator `forward` ran in 0.01 s\n",
      "Operator `forward` ran in 0.02 s\n",
      "Operator `forward` ran in 0.01 s\n",
      "Operator `forward` ran in 0.01 s\n",
      "Operator `forward` ran in 0.02 s\n",
      "Operator `forward` ran in 0.01 s\n",
      "Operator `forward` ran in 0.01 s\n",
      "Operator `forward` ran in 0.02 s\n",
      "Operator `forward` ran in 0.02 s\n",
      "Operator `forward` ran in 0.01 s\n",
      "Operator `forward` ran in 0.01 s\n",
      "Operator `forward` ran in 0.02 s\n",
      "Operator `forward` ran in 0.01 s\n",
      "Operator `forward` ran in 0.01 s\n"
     ]
    },
    {
     "name": "stdout",
     "output_type": "stream",
     "text": [
      "(0.04165212172820053, 1758.514404296875)\n"
     ]
    },
    {
     "name": "stderr",
     "output_type": "stream",
     "text": [
      "Operator `forward` ran in 0.02 s\n",
      "Operator `forward` ran in 0.02 s\n",
      "Operator `forward` ran in 0.01 s\n",
      "Operator `forward` ran in 0.01 s\n",
      "Operator `forward` ran in 0.02 s\n",
      "Operator `forward` ran in 0.02 s\n",
      "Operator `forward` ran in 0.02 s\n",
      "Operator `forward` ran in 0.02 s\n",
      "Operator `forward` ran in 0.01 s\n",
      "Operator `forward` ran in 0.01 s\n",
      "Operator `forward` ran in 0.01 s\n",
      "Operator `forward` ran in 0.01 s\n",
      "Operator `forward` ran in 0.01 s\n",
      "Operator `forward` ran in 0.02 s\n",
      "Operator `forward` ran in 0.02 s\n",
      "Operator `forward` ran in 0.02 s\n"
     ]
    },
    {
     "name": "stdout",
     "output_type": "stream",
     "text": [
      "(α, misfit) = (0.017158386024335025, 1078.9659423828125)\n",
      "FWI iteration no: "
     ]
    },
    {
     "name": "stderr",
     "output_type": "stream",
     "text": [
      "Operator `forward` ran in 0.02 s\n",
      "Operator `forward` ran in 0.02 s\n",
      "Operator `forward` ran in 0.04 s\n",
      "Operator `forward` ran in 0.01 s\n",
      "Operator `forward` ran in 0.04 s\n",
      "Operator `forward` ran in 0.04 s\n",
      "Operator `forward` ran in 0.03 s\n",
      "Operator `forward` ran in 0.04 s\n",
      "Operator `forward` ran in 0.03 s\n",
      "Operator `forward` ran in 0.04 s\n",
      "Operator `forward` ran in 0.04 s\n",
      "Operator `forward` ran in 0.04 s\n",
      "Operator `forward` ran in 0.03 s\n",
      "Operator `forward` ran in 0.01 s\n",
      "Operator `forward` ran in 0.04 s\n",
      "Operator `forward` ran in 0.03 s\n"
     ]
    },
    {
     "name": "stdout",
     "output_type": "stream",
     "text": [
      "6; function value: 1141.4407\n"
     ]
    },
    {
     "name": "stderr",
     "output_type": "stream",
     "text": [
      "Operator `forward` ran in 0.03 s\n",
      "Operator `gradient` ran in 0.02 s\n",
      "Operator `forward` ran in 0.03 s\n",
      "Operator `gradient` ran in 0.02 s\n",
      "Operator `forward` ran in 0.02 s\n",
      "Operator `gradient` ran in 0.02 s\n",
      "Operator `forward` ran in 0.02 s\n",
      "Operator `gradient` ran in 0.02 s\n",
      "Operator `forward` ran in 0.02 s\n",
      "Operator `gradient` ran in 0.02 s\n",
      "Operator `forward` ran in 0.02 s\n",
      "Operator `gradient` ran in 0.02 s\n",
      "Operator `forward` ran in 0.02 s\n",
      "Operator `gradient` ran in 0.02 s\n",
      "Operator `forward` ran in 0.02 s\n",
      "Operator `gradient` ran in 0.02 s\n",
      "Operator `forward` ran in 0.02 s\n",
      "Operator `gradient` ran in 0.02 s\n",
      "Operator `forward` ran in 0.02 s\n",
      "Operator `gradient` ran in 0.02 s\n",
      "Operator `forward` ran in 0.02 s\n",
      "Operator `gradient` ran in 0.02 s\n",
      "Operator `forward` ran in 0.02 s\n",
      "Operator `gradient` ran in 0.02 s\n",
      "Operator `forward` ran in 0.02 s\n",
      "Operator `gradient` ran in 0.02 s\n",
      "Operator `forward` ran in 0.04 s\n",
      "Operator `gradient` ran in 0.02 s\n",
      "Operator `forward` ran in 0.02 s\n",
      "Operator `gradient` ran in 0.02 s\n",
      "Operator `forward` ran in 0.02 s\n",
      "Operator `gradient` ran in 0.02 s\n"
     ]
    },
    {
     "name": "stdout",
     "output_type": "stream",
     "text": [
      "(α, misfit) = (0.1f0, 155015.53125)\n",
      "(α, misfit) = "
     ]
    },
    {
     "name": "stderr",
     "output_type": "stream",
     "text": [
      "Operator `forward` ran in 0.01 s\n",
      "Operator `forward` ran in 0.01 s\n",
      "Operator `forward` ran in 0.01 s\n",
      "Operator `forward` ran in 0.01 s\n",
      "Operator `forward` ran in 0.01 s\n",
      "Operator `forward` ran in 0.01 s\n",
      "Operator `forward` ran in 0.02 s\n",
      "Operator `forward` ran in 0.01 s\n",
      "Operator `forward` ran in 0.02 s\n",
      "Operator `forward` ran in 0.02 s\n",
      "Operator `forward` ran in 0.02 s\n",
      "Operator `forward` ran in 0.01 s\n",
      "Operator `forward` ran in 0.01 s\n",
      "Operator `forward` ran in 0.01 s\n",
      "Operator `forward` ran in 0.01 s\n",
      "Operator `forward` ran in 0.01 s\n"
     ]
    },
    {
     "name": "stdout",
     "output_type": "stream",
     "text": [
      "(0.010000000149011612, 2676.875244140625)\n"
     ]
    },
    {
     "name": "stderr",
     "output_type": "stream",
     "text": [
      "Operator `forward` ran in 0.02 s\n",
      "Operator `forward` ran in 0.01 s\n",
      "Operator `forward` ran in 0.02 s\n",
      "Operator `forward` ran in 0.01 s\n",
      "Operator `forward` ran in 0.02 s\n",
      "Operator `forward` ran in 0.02 s\n",
      "Operator `forward` ran in 0.01 s\n",
      "Operator `forward` ran in 0.01 s\n",
      "Operator `forward` ran in 0.01 s\n",
      "Operator `forward` ran in 0.02 s\n",
      "Operator `forward` ran in 0.01 s\n",
      "Operator `forward` ran in 0.02 s\n",
      "Operator `forward` ran in 0.01 s\n",
      "Operator `forward` ran in 0.01 s\n",
      "Operator `forward` ran in 0.02 s\n",
      "Operator `forward` ran in 0.02 s\n"
     ]
    },
    {
     "name": "stdout",
     "output_type": "stream",
     "text": [
      "(α, misfit) = (0.0022884828568948525, 982.1470947265625)\n",
      "FWI iteration no: "
     ]
    },
    {
     "name": "stderr",
     "output_type": "stream",
     "text": [
      "Operator `forward` ran in 0.02 s\n",
      "Operator `forward` ran in 0.01 s\n",
      "Operator `forward` ran in 0.01 s\n",
      "Operator `forward` ran in 0.01 s\n",
      "Operator `forward` ran in 0.01 s\n",
      "Operator `forward` ran in 0.02 s\n",
      "Operator `forward` ran in 0.02 s\n",
      "Operator `forward` ran in 0.02 s\n",
      "Operator `forward` ran in 0.02 s\n",
      "Operator `forward` ran in 0.02 s\n",
      "Operator `forward` ran in 0.01 s\n",
      "Operator `forward` ran in 0.01 s\n",
      "Operator `forward` ran in 0.01 s\n",
      "Operator `forward` ran in 0.02 s\n",
      "Operator `forward` ran in 0.02 s\n",
      "Operator `forward` ran in 0.01 s\n"
     ]
    },
    {
     "name": "stdout",
     "output_type": "stream",
     "text": [
      "7; function value: 944.8672\n"
     ]
    },
    {
     "name": "stderr",
     "output_type": "stream",
     "text": [
      "Operator `forward` ran in 0.02 s\n",
      "Operator `gradient` ran in 0.02 s\n",
      "Operator `forward` ran in 0.02 s\n",
      "Operator `gradient` ran in 0.02 s\n",
      "Operator `forward` ran in 0.02 s\n",
      "Operator `gradient` ran in 0.02 s\n",
      "Operator `forward` ran in 0.02 s\n",
      "Operator `gradient` ran in 0.02 s\n",
      "Operator `forward` ran in 0.02 s\n",
      "Operator `gradient` ran in 0.02 s\n",
      "Operator `forward` ran in 0.02 s\n",
      "Operator `gradient` ran in 0.02 s\n",
      "Operator `forward` ran in 0.02 s\n",
      "Operator `gradient` ran in 0.02 s\n",
      "Operator `forward` ran in 0.02 s\n",
      "Operator `gradient` ran in 0.02 s\n",
      "Operator `forward` ran in 0.02 s\n",
      "Operator `gradient` ran in 0.02 s\n",
      "Operator `forward` ran in 0.02 s\n",
      "Operator `gradient` ran in 0.02 s\n",
      "Operator `forward` ran in 0.02 s\n",
      "Operator `gradient` ran in 0.02 s\n",
      "Operator `forward` ran in 0.02 s\n",
      "Operator `gradient` ran in 0.02 s\n",
      "Operator `forward` ran in 0.02 s\n",
      "Operator `gradient` ran in 0.02 s\n",
      "Operator `forward` ran in 0.02 s\n",
      "Operator `gradient` ran in 0.02 s\n",
      "Operator `forward` ran in 0.02 s\n",
      "Operator `gradient` ran in 0.02 s\n",
      "Operator `forward` ran in 0.02 s\n",
      "Operator `gradient` ran in 0.02 s\n"
     ]
    },
    {
     "name": "stdout",
     "output_type": "stream",
     "text": [
      "(α, misfit) = (0.1f0, 19733.70703125)\n",
      "(α, misfit) = "
     ]
    },
    {
     "name": "stderr",
     "output_type": "stream",
     "text": [
      "Operator `forward` ran in 0.01 s\n",
      "Operator `forward` ran in 0.01 s\n",
      "Operator `forward` ran in 0.01 s\n",
      "Operator `forward` ran in 0.01 s\n",
      "Operator `forward` ran in 0.01 s\n",
      "Operator `forward` ran in 0.01 s\n",
      "Operator `forward` ran in 0.02 s\n",
      "Operator `forward` ran in 0.01 s\n",
      "Operator `forward` ran in 0.01 s\n",
      "Operator `forward` ran in 0.02 s\n",
      "Operator `forward` ran in 0.02 s\n",
      "Operator `forward` ran in 0.01 s\n",
      "Operator `forward` ran in 0.01 s\n",
      "Operator `forward` ran in 0.01 s\n",
      "Operator `forward` ran in 0.01 s\n",
      "Operator `forward` ran in 0.02 s\n"
     ]
    },
    {
     "name": "stdout",
     "output_type": "stream",
     "text": [
      "(0.01679219840916861, 1075.5667724609375)\n"
     ]
    },
    {
     "name": "stderr",
     "output_type": "stream",
     "text": [
      "Operator `forward` ran in 0.02 s\n",
      "Operator `forward` ran in 0.01 s\n",
      "Operator `forward` ran in 0.01 s\n",
      "Operator `forward` ran in 0.01 s\n",
      "Operator `forward` ran in 0.01 s\n",
      "Operator `forward` ran in 0.01 s\n",
      "Operator `forward` ran in 0.02 s\n",
      "Operator `forward` ran in 0.01 s\n",
      "Operator `forward` ran in 0.01 s\n",
      "Operator `forward` ran in 0.02 s\n",
      "Operator `forward` ran in 0.02 s\n",
      "Operator `forward` ran in 0.02 s\n",
      "Operator `forward` ran in 0.02 s\n",
      "Operator `forward` ran in 0.01 s\n",
      "Operator `forward` ran in 0.01 s\n",
      "Operator `forward` ran in 0.01 s\n"
     ]
    },
    {
     "name": "stdout",
     "output_type": "stream",
     "text": [
      "(α, misfit) = (0.007491351181434281, 820.3939819335938)\n",
      "FWI iteration no: "
     ]
    },
    {
     "name": "stderr",
     "output_type": "stream",
     "text": [
      "Operator `forward` ran in 0.02 s\n",
      "Operator `forward` ran in 0.01 s\n",
      "Operator `forward` ran in 0.02 s\n",
      "Operator `forward` ran in 0.02 s\n",
      "Operator `forward` ran in 0.03 s\n",
      "Operator `forward` ran in 0.04 s\n",
      "Operator `forward` ran in 0.04 s\n",
      "Operator `forward` ran in 0.04 s\n",
      "Operator `forward` ran in 0.05 s\n",
      "Operator `forward` ran in 0.01 s\n",
      "Operator `forward` ran in 0.02 s\n",
      "Operator `forward` ran in 0.03 s\n",
      "Operator `forward` ran in 0.03 s\n",
      "Operator `forward` ran in 0.04 s\n",
      "Operator `forward` ran in 0.05 s\n",
      "Operator `forward` ran in 0.05 s\n"
     ]
    },
    {
     "name": "stdout",
     "output_type": "stream",
     "text": [
      "8; function value: 764.9812\n"
     ]
    },
    {
     "name": "stderr",
     "output_type": "stream",
     "text": [
      "Operator `forward` ran in 0.04 s\n",
      "Operator `gradient` ran in 0.02 s\n",
      "Operator `forward` ran in 0.04 s\n",
      "Operator `gradient` ran in 0.02 s\n",
      "Operator `forward` ran in 0.05 s\n",
      "Operator `gradient` ran in 0.02 s\n",
      "Operator `forward` ran in 0.05 s\n",
      "Operator `gradient` ran in 0.02 s\n",
      "Operator `forward` ran in 0.04 s\n",
      "Operator `gradient` ran in 0.02 s\n",
      "Operator `forward` ran in 0.02 s\n",
      "Operator `gradient` ran in 0.02 s\n",
      "Operator `forward` ran in 0.02 s\n",
      "Operator `gradient` ran in 0.02 s\n",
      "Operator `forward` ran in 0.02 s\n",
      "Operator `gradient` ran in 0.02 s\n",
      "Operator `forward` ran in 0.02 s\n",
      "Operator `gradient` ran in 0.02 s\n",
      "Operator `forward` ran in 0.02 s\n",
      "Operator `gradient` ran in 0.02 s\n",
      "Operator `forward` ran in 0.02 s\n",
      "Operator `gradient` ran in 0.02 s\n",
      "Operator `forward` ran in 0.02 s\n",
      "Operator `gradient` ran in 0.02 s\n",
      "Operator `forward` ran in 0.02 s\n",
      "Operator `gradient` ran in 0.02 s\n",
      "Operator `forward` ran in 0.02 s\n",
      "Operator `gradient` ran in 0.02 s\n",
      "Operator `forward` ran in 0.02 s\n",
      "Operator `gradient` ran in 0.02 s\n",
      "Operator `forward` ran in 0.02 s\n",
      "Operator `gradient` ran in 0.02 s\n"
     ]
    },
    {
     "name": "stdout",
     "output_type": "stream",
     "text": [
      "(α, misfit) = (0.1f0, 319973.5)\n",
      "(α, misfit) = "
     ]
    },
    {
     "name": "stderr",
     "output_type": "stream",
     "text": [
      "Operator `forward` ran in 0.01 s\n",
      "Operator `forward` ran in 0.01 s\n",
      "Operator `forward` ran in 0.01 s\n",
      "Operator `forward` ran in 0.01 s\n",
      "Operator `forward` ran in 0.01 s\n",
      "Operator `forward` ran in 0.01 s\n",
      "Operator `forward` ran in 0.01 s\n",
      "Operator `forward` ran in 0.01 s\n",
      "Operator `forward` ran in 0.02 s\n",
      "Operator `forward` ran in 0.01 s\n",
      "Operator `forward` ran in 0.01 s\n",
      "Operator `forward` ran in 0.01 s\n",
      "Operator `forward` ran in 0.01 s\n",
      "Operator `forward` ran in 0.02 s\n",
      "Operator `forward` ran in 0.01 s\n",
      "Operator `forward` ran in 0.01 s\n"
     ]
    },
    {
     "name": "stdout",
     "output_type": "stream",
     "text": [
      "(0.010000000149011612, 6506.12451171875)\n"
     ]
    },
    {
     "name": "stderr",
     "output_type": "stream",
     "text": [
      "Operator `forward` ran in 0.02 s\n",
      "Operator `forward` ran in 0.01 s\n",
      "Operator `forward` ran in 0.01 s\n",
      "Operator `forward` ran in 0.01 s\n",
      "Operator `forward` ran in 0.01 s\n",
      "Operator `forward` ran in 0.01 s\n",
      "Operator `forward` ran in 0.01 s\n",
      "Operator `forward` ran in 0.02 s\n",
      "Operator `forward` ran in 0.01 s\n",
      "Operator `forward` ran in 0.01 s\n",
      "Operator `forward` ran in 0.01 s\n",
      "Operator `forward` ran in 0.01 s\n",
      "Operator `forward` ran in 0.01 s\n",
      "Operator `forward` ran in 0.01 s\n",
      "Operator `forward` ran in 0.01 s\n",
      "Operator `forward` ran in 0.01 s\n"
     ]
    },
    {
     "name": "stdout",
     "output_type": "stream",
     "text": [
      "(α, misfit) = (0.0010000000149011613, 739.02294921875)\n",
      "FWI iteration no: "
     ]
    },
    {
     "name": "stderr",
     "output_type": "stream",
     "text": [
      "Operator `forward` ran in 0.02 s\n",
      "Operator `forward` ran in 0.01 s\n",
      "Operator `forward` ran in 0.01 s\n",
      "Operator `forward` ran in 0.01 s\n",
      "Operator `forward` ran in 0.01 s\n",
      "Operator `forward` ran in 0.01 s\n",
      "Operator `forward` ran in 0.01 s\n",
      "Operator `forward` ran in 0.01 s\n",
      "Operator `forward` ran in 0.01 s\n",
      "Operator `forward` ran in 0.01 s\n",
      "Operator `forward` ran in 0.01 s\n",
      "Operator `forward` ran in 0.01 s\n",
      "Operator `forward` ran in 0.01 s\n",
      "Operator `forward` ran in 0.01 s\n",
      "Operator `forward` ran in 0.01 s\n",
      "Operator `forward` ran in 0.01 s\n"
     ]
    },
    {
     "name": "stdout",
     "output_type": "stream",
     "text": [
      "9; function value: 755.4334\n"
     ]
    },
    {
     "name": "stderr",
     "output_type": "stream",
     "text": [
      "Operator `forward` ran in 0.02 s\n",
      "Operator `gradient` ran in 0.02 s\n",
      "Operator `forward` ran in 0.02 s\n",
      "Operator `gradient` ran in 0.02 s\n",
      "Operator `forward` ran in 0.02 s\n",
      "Operator `gradient` ran in 0.02 s\n",
      "Operator `forward` ran in 0.02 s\n",
      "Operator `gradient` ran in 0.02 s\n",
      "Operator `forward` ran in 0.02 s\n",
      "Operator `gradient` ran in 0.02 s\n",
      "Operator `forward` ran in 0.02 s\n",
      "Operator `gradient` ran in 0.02 s\n",
      "Operator `forward` ran in 0.02 s\n",
      "Operator `gradient` ran in 0.02 s\n",
      "Operator `forward` ran in 0.02 s\n",
      "Operator `gradient` ran in 0.02 s\n",
      "Operator `forward` ran in 0.02 s\n",
      "Operator `gradient` ran in 0.02 s\n",
      "Operator `forward` ran in 0.02 s\n",
      "Operator `gradient` ran in 0.02 s\n",
      "Operator `forward` ran in 0.02 s\n",
      "Operator `gradient` ran in 0.02 s\n",
      "Operator `forward` ran in 0.02 s\n",
      "Operator `gradient` ran in 0.02 s\n",
      "Operator `forward` ran in 0.02 s\n",
      "Operator `gradient` ran in 0.02 s\n",
      "Operator `forward` ran in 0.02 s\n",
      "Operator `gradient` ran in 0.02 s\n",
      "Operator `forward` ran in 0.02 s\n",
      "Operator `gradient` ran in 0.02 s\n",
      "Operator `forward` ran in 0.02 s\n",
      "Operator `gradient` ran in 0.02 s\n"
     ]
    },
    {
     "name": "stdout",
     "output_type": "stream",
     "text": [
      "(α, misfit) = (0.1f0, 998.462646484375)\n",
      "(α, misfit) = "
     ]
    },
    {
     "name": "stderr",
     "output_type": "stream",
     "text": [
      "Operator `forward` ran in 0.01 s\n",
      "Operator `forward` ran in 0.02 s\n",
      "Operator `forward` ran in 0.01 s\n",
      "Operator `forward` ran in 0.01 s\n",
      "Operator `forward` ran in 0.01 s\n",
      "Operator `forward` ran in 0.01 s\n",
      "Operator `forward` ran in 0.01 s\n",
      "Operator `forward` ran in 0.01 s\n",
      "Operator `forward` ran in 0.01 s\n",
      "Operator `forward` ran in 0.01 s\n",
      "Operator `forward` ran in 0.01 s\n",
      "Operator `forward` ran in 0.01 s\n",
      "Operator `forward` ran in 0.01 s\n",
      "Operator `forward` ran in 0.01 s\n",
      "Operator `forward` ran in 0.01 s\n",
      "Operator `forward` ran in 0.01 s\n"
     ]
    },
    {
     "name": "stdout",
     "output_type": "stream",
     "text": [
      "(0.048563716127597224, 614.172607421875)\n"
     ]
    },
    {
     "name": "stderr",
     "output_type": "stream",
     "text": [
      "Operator `forward` ran in 0.02 s\n",
      "Operator `forward` ran in 0.01 s\n",
      "Operator `forward` ran in 0.01 s\n",
      "Operator `forward` ran in 0.01 s\n",
      "Operator `forward` ran in 0.01 s\n",
      "Operator `forward` ran in 0.02 s\n",
      "Operator `forward` ran in 0.01 s\n",
      "Operator `forward` ran in 0.01 s\n",
      "Operator `forward` ran in 0.01 s\n",
      "Operator `forward` ran in 0.01 s\n",
      "Operator `forward` ran in 0.01 s\n",
      "Operator `forward` ran in 0.01 s\n",
      "Operator `forward` ran in 0.01 s\n",
      "Operator `forward` ran in 0.01 s\n",
      "Operator `forward` ran in 0.02 s\n",
      "Operator `forward` ran in 0.02 s\n"
     ]
    },
    {
     "name": "stdout",
     "output_type": "stream",
     "text": [
      "FWI iteration no: 10; function value: 681.5921\n",
      "(α, misfit) = "
     ]
    },
    {
     "name": "stderr",
     "output_type": "stream",
     "text": [
      "Operator `forward` ran in 0.04 s\n",
      "Operator `gradient` ran in 0.02 s\n",
      "Operator `forward` ran in 0.05 s\n",
      "Operator `gradient` ran in 0.02 s\n",
      "Operator `forward` ran in 0.04 s\n",
      "Operator `gradient` ran in 0.02 s\n",
      "Operator `forward` ran in 0.02 s\n",
      "Operator `gradient` ran in 0.02 s\n",
      "Operator `forward` ran in 0.05 s\n",
      "Operator `gradient` ran in 0.02 s\n",
      "Operator `forward` ran in 0.04 s\n",
      "Operator `gradient` ran in 0.02 s\n",
      "Operator `forward` ran in 0.04 s\n",
      "Operator `gradient` ran in 0.02 s\n",
      "Operator `forward` ran in 0.04 s\n",
      "Operator `gradient` ran in 0.02 s\n",
      "Operator `forward` ran in 0.05 s\n",
      "Operator `gradient` ran in 0.02 s\n",
      "Operator `forward` ran in 0.04 s\n",
      "Operator `gradient` ran in 0.02 s\n",
      "Operator `forward` ran in 0.02 s\n",
      "Operator `gradient` ran in 0.02 s\n",
      "Operator `forward` ran in 0.02 s\n",
      "Operator `gradient` ran in 0.02 s\n",
      "Operator `forward` ran in 0.02 s\n",
      "Operator `gradient` ran in 0.02 s\n",
      "Operator `forward` ran in 0.02 s\n",
      "Operator `gradient` ran in 0.02 s\n",
      "Operator `forward` ran in 0.02 s\n",
      "Operator `gradient` ran in 0.02 s\n",
      "Operator `forward` ran in 0.02 s\n",
      "Operator `gradient` ran in 0.02 s\n"
     ]
    },
    {
     "name": "stdout",
     "output_type": "stream",
     "text": [
      "(0.1f0, 137471.484375)\n"
     ]
    },
    {
     "name": "stderr",
     "output_type": "stream",
     "text": [
      "Operator `forward` ran in 0.01 s\n",
      "Operator `forward` ran in 0.01 s\n",
      "Operator `forward` ran in 0.02 s\n",
      "Operator `forward` ran in 0.01 s\n",
      "Operator `forward` ran in 0.02 s\n",
      "Operator `forward` ran in 0.02 s\n",
      "Operator `forward` ran in 0.01 s\n",
      "Operator `forward` ran in 0.01 s\n",
      "Operator `forward` ran in 0.01 s\n",
      "Operator `forward` ran in 0.02 s\n",
      "Operator `forward` ran in 0.01 s\n",
      "Operator `forward` ran in 0.01 s\n",
      "Operator `forward` ran in 0.01 s\n",
      "Operator `forward` ran in 0.01 s\n",
      "Operator `forward` ran in 0.02 s\n",
      "Operator `forward` ran in 0.02 s\n"
     ]
    },
    {
     "name": "stdout",
     "output_type": "stream",
     "text": [
      "(α, misfit) = (0.010000000149011612, 2156.072021484375)\n",
      "(α, misfit) = "
     ]
    },
    {
     "name": "stderr",
     "output_type": "stream",
     "text": [
      "Operator `forward` ran in 0.02 s\n",
      "Operator `forward` ran in 0.02 s\n",
      "Operator `forward` ran in 0.02 s\n",
      "Operator `forward` ran in 0.02 s\n",
      "Operator `forward` ran in 0.02 s\n",
      "Operator `forward` ran in 0.01 s\n",
      "Operator `forward` ran in 0.02 s\n",
      "Operator `forward` ran in 0.02 s\n",
      "Operator `forward` ran in 0.01 s\n",
      "Operator `forward` ran in 0.01 s\n",
      "Operator `forward` ran in 0.01 s\n",
      "Operator `forward` ran in 0.02 s\n",
      "Operator `forward` ran in 0.02 s\n",
      "Operator `forward` ran in 0.01 s\n",
      "Operator `forward` ran in 0.01 s\n",
      "Operator `forward` ran in 0.01 s\n"
     ]
    },
    {
     "name": "stdout",
     "output_type": "stream",
     "text": [
      "(0.0024511649312423693, 493.9772033691406)\n"
     ]
    },
    {
     "name": "stderr",
     "output_type": "stream",
     "text": [
      "Operator `forward` ran in 0.02 s\n",
      "Operator `forward` ran in 0.02 s\n",
      "Operator `forward` ran in 0.02 s\n",
      "Operator `forward` ran in 0.02 s\n",
      "Operator `forward` ran in 0.02 s\n",
      "Operator `forward` ran in 0.02 s\n",
      "Operator `forward` ran in 0.02 s\n",
      "Operator `forward` ran in 0.01 s\n",
      "Operator `forward` ran in 0.01 s\n",
      "Operator `forward` ran in 0.01 s\n",
      "Operator `forward` ran in 0.05 s\n",
      "Operator `forward` ran in 0.04 s\n",
      "Operator `forward` ran in 0.05 s\n",
      "Operator `forward` ran in 0.04 s\n",
      "Operator `forward` ran in 0.04 s\n",
      "Operator `forward` ran in 0.04 s\n"
     ]
    },
    {
     "name": "stdout",
     "output_type": "stream",
     "text": [
      "FWI iteration no: 11; function value: 447.93845\n",
      "(α, misfit) = "
     ]
    },
    {
     "name": "stderr",
     "output_type": "stream",
     "text": [
      "Operator `forward` ran in 0.04 s\n",
      "Operator `gradient` ran in 0.02 s\n",
      "Operator `forward` ran in 0.05 s\n",
      "Operator `gradient` ran in 0.02 s\n",
      "Operator `forward` ran in 0.02 s\n",
      "Operator `gradient` ran in 0.02 s\n",
      "Operator `forward` ran in 0.02 s\n",
      "Operator `gradient` ran in 0.02 s\n",
      "Operator `forward` ran in 0.02 s\n",
      "Operator `gradient` ran in 0.02 s\n",
      "Operator `forward` ran in 0.02 s\n",
      "Operator `gradient` ran in 0.02 s\n",
      "Operator `forward` ran in 0.02 s\n",
      "Operator `gradient` ran in 0.02 s\n",
      "Operator `forward` ran in 0.02 s\n",
      "Operator `gradient` ran in 0.02 s\n",
      "Operator `forward` ran in 0.02 s\n",
      "Operator `gradient` ran in 0.02 s\n",
      "Operator `forward` ran in 0.02 s\n",
      "Operator `gradient` ran in 0.02 s\n",
      "Operator `forward` ran in 0.02 s\n",
      "Operator `gradient` ran in 0.02 s\n",
      "Operator `forward` ran in 0.02 s\n",
      "Operator `gradient` ran in 0.02 s\n",
      "Operator `forward` ran in 0.02 s\n",
      "Operator `gradient` ran in 0.02 s\n",
      "Operator `forward` ran in 0.02 s\n",
      "Operator `gradient` ran in 0.02 s\n",
      "Operator `forward` ran in 0.02 s\n",
      "Operator `gradient` ran in 0.02 s\n",
      "Operator `forward` ran in 0.02 s\n",
      "Operator `gradient` ran in 0.02 s\n"
     ]
    },
    {
     "name": "stdout",
     "output_type": "stream",
     "text": [
      "(0.1f0, 21561.724609375)\n"
     ]
    },
    {
     "name": "stderr",
     "output_type": "stream",
     "text": [
      "Operator `forward` ran in 0.03 s\n",
      "Operator `forward` ran in 0.01 s\n",
      "Operator `forward` ran in 0.01 s\n",
      "Operator `forward` ran in 0.01 s\n",
      "Operator `forward` ran in 0.01 s\n",
      "Operator `forward` ran in 0.01 s\n",
      "Operator `forward` ran in 0.01 s\n",
      "Operator `forward` ran in 0.02 s\n",
      "Operator `forward` ran in 0.01 s\n",
      "Operator `forward` ran in 0.01 s\n",
      "Operator `forward` ran in 0.01 s\n",
      "Operator `forward` ran in 0.02 s\n",
      "Operator `forward` ran in 0.01 s\n",
      "Operator `forward` ran in 0.01 s\n",
      "Operator `forward` ran in 0.02 s\n",
      "Operator `forward` ran in 0.01 s\n"
     ]
    },
    {
     "name": "stdout",
     "output_type": "stream",
     "text": [
      "(α, misfit) = (0.01618729960727368, 768.8126831054688)\n",
      "(α, misfit) = "
     ]
    },
    {
     "name": "stderr",
     "output_type": "stream",
     "text": [
      "Operator `forward` ran in 0.02 s\n",
      "Operator `forward` ran in 0.01 s\n",
      "Operator `forward` ran in 0.01 s\n",
      "Operator `forward` ran in 0.01 s\n",
      "Operator `forward` ran in 0.01 s\n",
      "Operator `forward` ran in 0.02 s\n",
      "Operator `forward` ran in 0.01 s\n",
      "Operator `forward` ran in 0.02 s\n",
      "Operator `forward` ran in 0.02 s\n",
      "Operator `forward` ran in 0.02 s\n",
      "Operator `forward` ran in 0.02 s\n",
      "Operator `forward` ran in 0.01 s\n",
      "Operator `forward` ran in 0.01 s\n",
      "Operator `forward` ran in 0.01 s\n",
      "Operator `forward` ran in 0.01 s\n",
      "Operator `forward` ran in 0.01 s\n"
     ]
    },
    {
     "name": "stdout",
     "output_type": "stream",
     "text": [
      "(0.00647554171673607, 375.7176818847656)\n"
     ]
    },
    {
     "name": "stderr",
     "output_type": "stream",
     "text": [
      "Operator `forward` ran in 0.02 s\n",
      "Operator `forward` ran in 0.01 s\n",
      "Operator `forward` ran in 0.02 s\n",
      "Operator `forward` ran in 0.02 s\n",
      "Operator `forward` ran in 0.05 s\n",
      "Operator `forward` ran in 0.05 s\n",
      "Operator `forward` ran in 0.03 s\n",
      "Operator `forward` ran in 0.01 s\n",
      "Operator `forward` ran in 0.05 s\n",
      "Operator `forward` ran in 0.04 s\n",
      "Operator `forward` ran in 0.03 s\n",
      "Operator `forward` ran in 0.04 s\n",
      "Operator `forward` ran in 0.05 s\n",
      "Operator `forward` ran in 0.02 s\n",
      "Operator `forward` ran in 0.01 s\n",
      "Operator `forward` ran in 0.01 s\n"
     ]
    },
    {
     "name": "stdout",
     "output_type": "stream",
     "text": [
      "FWI iteration no: 12; function value: 434.90283\n",
      "(α, misfit) = "
     ]
    },
    {
     "name": "stderr",
     "output_type": "stream",
     "text": [
      "Operator `forward` ran in 0.02 s\n",
      "Operator `gradient` ran in 0.02 s\n",
      "Operator `forward` ran in 0.02 s\n",
      "Operator `gradient` ran in 0.02 s\n",
      "Operator `forward` ran in 0.02 s\n",
      "Operator `gradient` ran in 0.02 s\n",
      "Operator `forward` ran in 0.02 s\n",
      "Operator `gradient` ran in 0.02 s\n",
      "Operator `forward` ran in 0.02 s\n",
      "Operator `gradient` ran in 0.02 s\n",
      "Operator `forward` ran in 0.02 s\n",
      "Operator `gradient` ran in 0.02 s\n",
      "Operator `forward` ran in 0.02 s\n",
      "Operator `gradient` ran in 0.02 s\n",
      "Operator `forward` ran in 0.02 s\n",
      "Operator `gradient` ran in 0.02 s\n",
      "Operator `forward` ran in 0.02 s\n",
      "Operator `gradient` ran in 0.02 s\n",
      "Operator `forward` ran in 0.02 s\n",
      "Operator `gradient` ran in 0.02 s\n",
      "Operator `forward` ran in 0.02 s\n",
      "Operator `gradient` ran in 0.02 s\n",
      "Operator `forward` ran in 0.02 s\n",
      "Operator `gradient` ran in 0.02 s\n",
      "Operator `forward` ran in 0.02 s\n",
      "Operator `gradient` ran in 0.02 s\n",
      "Operator `forward` ran in 0.02 s\n",
      "Operator `gradient` ran in 0.02 s\n",
      "Operator `forward` ran in 0.02 s\n",
      "Operator `gradient` ran in 0.02 s\n",
      "Operator `forward` ran in 0.02 s\n",
      "Operator `gradient` ran in 0.02 s\n"
     ]
    },
    {
     "name": "stdout",
     "output_type": "stream",
     "text": [
      "(0.1f0, 313319.0625)\n"
     ]
    },
    {
     "name": "stderr",
     "output_type": "stream",
     "text": [
      "Operator `forward` ran in 0.02 s\n",
      "Operator `forward` ran in 0.02 s\n",
      "Operator `forward` ran in 0.01 s\n",
      "Operator `forward` ran in 0.01 s\n",
      "Operator `forward` ran in 0.02 s\n",
      "Operator `forward` ran in 0.02 s\n",
      "Operator `forward` ran in 0.01 s\n",
      "Operator `forward` ran in 0.01 s\n",
      "Operator `forward` ran in 0.01 s\n",
      "Operator `forward` ran in 0.01 s\n",
      "Operator `forward` ran in 0.01 s\n",
      "Operator `forward` ran in 0.02 s\n",
      "Operator `forward` ran in 0.01 s\n",
      "Operator `forward` ran in 0.01 s\n",
      "Operator `forward` ran in 0.02 s\n",
      "Operator `forward` ran in 0.02 s\n"
     ]
    },
    {
     "name": "stdout",
     "output_type": "stream",
     "text": [
      "(α, misfit) = (0.010000000149011612, 5811.0634765625)\n",
      "(α, misfit) = "
     ]
    },
    {
     "name": "stderr",
     "output_type": "stream",
     "text": [
      "Operator `forward` ran in 0.02 s\n",
      "Operator `forward` ran in 0.01 s\n",
      "Operator `forward` ran in 0.01 s\n",
      "Operator `forward` ran in 0.01 s\n",
      "Operator `forward` ran in 0.01 s\n",
      "Operator `forward` ran in 0.02 s\n",
      "Operator `forward` ran in 0.02 s\n",
      "Operator `forward` ran in 0.02 s\n",
      "Operator `forward` ran in 0.01 s\n",
      "Operator `forward` ran in 0.05 s\n",
      "Operator `forward` ran in 0.01 s\n",
      "Operator `forward` ran in 0.02 s\n",
      "Operator `forward` ran in 0.05 s\n",
      "Operator `forward` ran in 0.05 s\n",
      "Operator `forward` ran in 0.04 s\n",
      "Operator `forward` ran in 0.05 s\n"
     ]
    },
    {
     "name": "stdout",
     "output_type": "stream",
     "text": [
      "(0.0010000000149011613, 418.42010498046875)\n"
     ]
    },
    {
     "name": "stderr",
     "output_type": "stream",
     "text": [
      "Operator `forward` ran in 0.04 s\n",
      "Operator `forward` ran in 0.04 s\n",
      "Operator `forward` ran in 0.05 s\n",
      "Operator `forward` ran in 0.05 s\n",
      "Operator `forward` ran in 0.05 s\n",
      "Operator `forward` ran in 0.01 s\n",
      "Operator `forward` ran in 0.01 s\n",
      "Operator `forward` ran in 0.01 s\n",
      "Operator `forward` ran in 0.01 s\n",
      "Operator `forward` ran in 0.01 s\n",
      "Operator `forward` ran in 0.01 s\n",
      "Operator `forward` ran in 0.01 s\n",
      "Operator `forward` ran in 0.01 s\n",
      "Operator `forward` ran in 0.01 s\n",
      "Operator `forward` ran in 0.02 s\n",
      "Operator `forward` ran in 0.01 s\n"
     ]
    },
    {
     "name": "stdout",
     "output_type": "stream",
     "text": [
      "FWI iteration no: 13; function value: 349.27942\n",
      "(α, misfit) = "
     ]
    },
    {
     "name": "stderr",
     "output_type": "stream",
     "text": [
      "Operator `forward` ran in 0.02 s\n",
      "Operator `gradient` ran in 0.02 s\n",
      "Operator `forward` ran in 0.02 s\n",
      "Operator `gradient` ran in 0.02 s\n",
      "Operator `forward` ran in 0.02 s\n",
      "Operator `gradient` ran in 0.02 s\n",
      "Operator `forward` ran in 0.02 s\n",
      "Operator `gradient` ran in 0.02 s\n",
      "Operator `forward` ran in 0.02 s\n",
      "Operator `gradient` ran in 0.02 s\n",
      "Operator `forward` ran in 0.02 s\n",
      "Operator `gradient` ran in 0.02 s\n",
      "Operator `forward` ran in 0.02 s\n",
      "Operator `gradient` ran in 0.02 s\n",
      "Operator `forward` ran in 0.02 s\n",
      "Operator `gradient` ran in 0.02 s\n",
      "Operator `forward` ran in 0.02 s\n",
      "Operator `gradient` ran in 0.02 s\n",
      "Operator `forward` ran in 0.02 s\n",
      "Operator `gradient` ran in 0.02 s\n",
      "Operator `forward` ran in 0.02 s\n",
      "Operator `gradient` ran in 0.02 s\n",
      "Operator `forward` ran in 0.02 s\n",
      "Operator `gradient` ran in 0.02 s\n",
      "Operator `forward` ran in 0.02 s\n",
      "Operator `gradient` ran in 0.02 s\n",
      "Operator `forward` ran in 0.02 s\n",
      "Operator `gradient` ran in 0.02 s\n",
      "Operator `forward` ran in 0.02 s\n",
      "Operator `gradient` ran in 0.02 s\n",
      "Operator `forward` ran in 0.02 s\n",
      "Operator `gradient` ran in 0.02 s\n"
     ]
    },
    {
     "name": "stdout",
     "output_type": "stream",
     "text": [
      "(0.1f0, 534.736572265625)\n"
     ]
    },
    {
     "name": "stderr",
     "output_type": "stream",
     "text": [
      "Operator `forward` ran in 0.01 s\n",
      "Operator `forward` ran in 0.02 s\n",
      "Operator `forward` ran in 0.02 s\n",
      "Operator `forward` ran in 0.01 s\n",
      "Operator `forward` ran in 0.01 s\n",
      "Operator `forward` ran in 0.01 s\n",
      "Operator `forward` ran in 0.01 s\n",
      "Operator `forward` ran in 0.01 s\n",
      "Operator `forward` ran in 0.01 s\n",
      "Operator `forward` ran in 0.01 s\n",
      "Operator `forward` ran in 0.01 s\n",
      "Operator `forward` ran in 0.01 s\n",
      "Operator `forward` ran in 0.01 s\n",
      "Operator `forward` ran in 0.01 s\n",
      "Operator `forward` ran in 0.01 s\n",
      "Operator `forward` ran in 0.01 s\n"
     ]
    },
    {
     "name": "stdout",
     "output_type": "stream",
     "text": [
      "(α, misfit) = (0.04884022138438295, 342.9653015136719)\n",
      "FWI iteration no: "
     ]
    },
    {
     "name": "stderr",
     "output_type": "stream",
     "text": [
      "Operator `forward` ran in 0.02 s\n",
      "Operator `forward` ran in 0.01 s\n",
      "Operator `forward` ran in 0.01 s\n",
      "Operator `forward` ran in 0.01 s\n",
      "Operator `forward` ran in 0.01 s\n",
      "Operator `forward` ran in 0.01 s\n",
      "Operator `forward` ran in 0.01 s\n",
      "Operator `forward` ran in 0.02 s\n",
      "Operator `forward` ran in 0.01 s\n",
      "Operator `forward` ran in 0.01 s\n",
      "Operator `forward` ran in 0.01 s\n",
      "Operator `forward` ran in 0.01 s\n",
      "Operator `forward` ran in 0.01 s\n",
      "Operator `forward` ran in 0.01 s\n",
      "Operator `forward` ran in 0.01 s\n",
      "Operator `forward` ran in 0.01 s\n"
     ]
    },
    {
     "name": "stdout",
     "output_type": "stream",
     "text": [
      "14; function value: 396.56125\n"
     ]
    },
    {
     "name": "stderr",
     "output_type": "stream",
     "text": [
      "Operator `forward` ran in 0.02 s\n",
      "Operator `gradient` ran in 0.02 s\n",
      "Operator `forward` ran in 0.02 s\n",
      "Operator `gradient` ran in 0.02 s\n",
      "Operator `forward` ran in 0.02 s\n",
      "Operator `gradient` ran in 0.02 s\n",
      "Operator `forward` ran in 0.02 s\n",
      "Operator `gradient` ran in 0.02 s\n",
      "Operator `forward` ran in 0.02 s\n",
      "Operator `gradient` ran in 0.02 s\n",
      "Operator `forward` ran in 0.02 s\n",
      "Operator `gradient` ran in 0.02 s\n",
      "Operator `forward` ran in 0.02 s\n",
      "Operator `gradient` ran in 0.02 s\n",
      "Operator `forward` ran in 0.02 s\n",
      "Operator `gradient` ran in 0.02 s\n",
      "Operator `forward` ran in 0.04 s\n",
      "Operator `gradient` ran in 0.02 s\n",
      "Operator `forward` ran in 0.05 s\n",
      "Operator `gradient` ran in 0.02 s\n",
      "Operator `forward` ran in 0.05 s\n",
      "Operator `gradient` ran in 0.02 s\n",
      "Operator `forward` ran in 0.05 s\n",
      "Operator `gradient` ran in 0.02 s\n",
      "Operator `forward` ran in 0.02 s\n",
      "Operator `gradient` ran in 0.02 s\n",
      "Operator `forward` ran in 0.02 s\n",
      "Operator `gradient` ran in 0.02 s\n",
      "Operator `forward` ran in 0.02 s\n",
      "Operator `gradient` ran in 0.02 s\n",
      "Operator `forward` ran in 0.02 s\n",
      "Operator `gradient` ran in 0.02 s\n"
     ]
    },
    {
     "name": "stdout",
     "output_type": "stream",
     "text": [
      "(α, misfit) = (0.1f0, 130008.1953125)\n",
      "(α, misfit) = "
     ]
    },
    {
     "name": "stderr",
     "output_type": "stream",
     "text": [
      "Operator `forward` ran in 0.01 s\n",
      "Operator `forward` ran in 0.01 s\n",
      "Operator `forward` ran in 0.02 s\n",
      "Operator `forward` ran in 0.01 s\n",
      "Operator `forward` ran in 0.01 s\n",
      "Operator `forward` ran in 0.01 s\n",
      "Operator `forward` ran in 0.01 s\n",
      "Operator `forward` ran in 0.01 s\n",
      "Operator `forward` ran in 0.01 s\n",
      "Operator `forward` ran in 0.01 s\n",
      "Operator `forward` ran in 0.01 s\n",
      "Operator `forward` ran in 0.01 s\n",
      "Operator `forward` ran in 0.06 s\n",
      "Operator `forward` ran in 0.05 s\n",
      "Operator `forward` ran in 0.05 s\n",
      "Operator `forward` ran in 0.03 s\n"
     ]
    },
    {
     "name": "stdout",
     "output_type": "stream",
     "text": [
      "(0.010000000149011612, 1946.8096923828125)\n"
     ]
    },
    {
     "name": "stderr",
     "output_type": "stream",
     "text": [
      "Operator `forward` ran in 0.03 s\n",
      "Operator `forward` ran in 0.03 s\n",
      "Operator `forward` ran in 0.02 s\n",
      "Operator `forward` ran in 0.01 s\n",
      "Operator `forward` ran in 0.02 s\n",
      "Operator `forward` ran in 0.02 s\n",
      "Operator `forward` ran in 0.02 s\n",
      "Operator `forward` ran in 0.02 s\n",
      "Operator `forward` ran in 0.02 s\n",
      "Operator `forward` ran in 0.02 s\n",
      "Operator `forward` ran in 0.02 s\n",
      "Operator `forward` ran in 0.02 s\n",
      "Operator `forward` ran in 0.02 s\n",
      "Operator `forward` ran in 0.01 s\n",
      "Operator `forward` ran in 0.02 s\n",
      "Operator `forward` ran in 0.02 s\n"
     ]
    },
    {
     "name": "stdout",
     "output_type": "stream",
     "text": [
      "(α, misfit) = (0.0017847915073566298, 315.14739990234375)\n",
      "FWI iteration no: "
     ]
    },
    {
     "name": "stderr",
     "output_type": "stream",
     "text": [
      "Operator `forward` ran in 0.02 s\n",
      "Operator `forward` ran in 0.02 s\n",
      "Operator `forward` ran in 0.02 s\n",
      "Operator `forward` ran in 0.02 s\n",
      "Operator `forward` ran in 0.02 s\n",
      "Operator `forward` ran in 0.02 s\n",
      "Operator `forward` ran in 0.02 s\n",
      "Operator `forward` ran in 0.01 s\n",
      "Operator `forward` ran in 0.02 s\n",
      "Operator `forward` ran in 0.05 s\n",
      "Operator `forward` ran in 0.02 s\n",
      "Operator `forward` ran in 0.02 s\n",
      "Operator `forward` ran in 0.02 s\n",
      "Operator `forward` ran in 0.02 s\n",
      "Operator `forward` ran in 0.02 s\n",
      "Operator `forward` ran in 0.01 s\n"
     ]
    },
    {
     "name": "stdout",
     "output_type": "stream",
     "text": [
      "15; function value: 356.90765\n"
     ]
    },
    {
     "name": "stderr",
     "output_type": "stream",
     "text": [
      "Operator `forward` ran in 0.02 s\n",
      "Operator `gradient` ran in 0.02 s\n",
      "Operator `forward` ran in 0.02 s\n",
      "Operator `gradient` ran in 0.02 s\n",
      "Operator `forward` ran in 0.02 s\n",
      "Operator `gradient` ran in 0.02 s\n",
      "Operator `forward` ran in 0.02 s\n",
      "Operator `gradient` ran in 0.02 s\n",
      "Operator `forward` ran in 0.02 s\n",
      "Operator `gradient` ran in 0.02 s\n",
      "Operator `forward` ran in 0.02 s\n",
      "Operator `gradient` ran in 0.02 s\n",
      "Operator `forward` ran in 0.02 s\n",
      "Operator `gradient` ran in 0.02 s\n",
      "Operator `forward` ran in 0.02 s\n",
      "Operator `gradient` ran in 0.02 s\n",
      "Operator `forward` ran in 0.02 s\n",
      "Operator `gradient` ran in 0.02 s\n",
      "Operator `forward` ran in 0.02 s\n",
      "Operator `gradient` ran in 0.02 s\n",
      "Operator `forward` ran in 0.02 s\n",
      "Operator `gradient` ran in 0.02 s\n",
      "Operator `forward` ran in 0.02 s\n",
      "Operator `gradient` ran in 0.02 s\n",
      "Operator `forward` ran in 0.03 s\n",
      "Operator `gradient` ran in 0.02 s\n",
      "Operator `forward` ran in 0.02 s\n",
      "Operator `gradient` ran in 0.02 s\n",
      "Operator `forward` ran in 0.02 s\n",
      "Operator `gradient` ran in 0.02 s\n",
      "Operator `forward` ran in 0.02 s\n",
      "Operator `gradient` ran in 0.02 s\n"
     ]
    },
    {
     "name": "stdout",
     "output_type": "stream",
     "text": [
      "(α, misfit) = (0.1f0, 24569.6875)\n",
      "(α, misfit) = "
     ]
    },
    {
     "name": "stderr",
     "output_type": "stream",
     "text": [
      "Operator `forward` ran in 0.01 s\n",
      "Operator `forward` ran in 0.01 s\n",
      "Operator `forward` ran in 0.01 s\n",
      "Operator `forward` ran in 0.01 s\n",
      "Operator `forward` ran in 0.01 s\n",
      "Operator `forward` ran in 0.01 s\n",
      "Operator `forward` ran in 0.02 s\n",
      "Operator `forward` ran in 0.01 s\n",
      "Operator `forward` ran in 0.02 s\n",
      "Operator `forward` ran in 0.02 s\n",
      "Operator `forward` ran in 0.01 s\n",
      "Operator `forward` ran in 0.01 s\n",
      "Operator `forward` ran in 0.02 s\n",
      "Operator `forward` ran in 0.01 s\n",
      "Operator `forward` ran in 0.02 s\n",
      "Operator `forward` ran in 0.01 s\n"
     ]
    },
    {
     "name": "stdout",
     "output_type": "stream",
     "text": [
      "(0.01206061689702504, 625.2355346679688)\n"
     ]
    },
    {
     "name": "stderr",
     "output_type": "stream",
     "text": [
      "Operator `forward` ran in 0.02 s\n",
      "Operator `forward` ran in 0.01 s\n",
      "Operator `forward` ran in 0.02 s\n",
      "Operator `forward` ran in 0.01 s\n",
      "Operator `forward` ran in 0.01 s\n",
      "Operator `forward` ran in 0.01 s\n",
      "Operator `forward` ran in 0.01 s\n",
      "Operator `forward` ran in 0.01 s\n",
      "Operator `forward` ran in 0.01 s\n",
      "Operator `forward` ran in 0.01 s\n",
      "Operator `forward` ran in 0.01 s\n",
      "Operator `forward` ran in 0.01 s\n",
      "Operator `forward` ran in 0.01 s\n",
      "Operator `forward` ran in 0.01 s\n",
      "Operator `forward` ran in 0.01 s\n",
      "Operator `forward` ran in 0.01 s\n"
     ]
    },
    {
     "name": "stdout",
     "output_type": "stream",
     "text": [
      "(α, misfit) = (0.004511880270239557, 320.7953796386719)\n",
      "FWI iteration no: "
     ]
    },
    {
     "name": "stderr",
     "output_type": "stream",
     "text": [
      "Operator `forward` ran in 0.02 s\n",
      "Operator `forward` ran in 0.01 s\n",
      "Operator `forward` ran in 0.01 s\n",
      "Operator `forward` ran in 0.01 s\n",
      "Operator `forward` ran in 0.02 s\n",
      "Operator `forward` ran in 0.01 s\n",
      "Operator `forward` ran in 0.02 s\n",
      "Operator `forward` ran in 0.01 s\n",
      "Operator `forward` ran in 0.01 s\n",
      "Operator `forward` ran in 0.02 s\n",
      "Operator `forward` ran in 0.01 s\n",
      "Operator `forward` ran in 0.01 s\n",
      "Operator `forward` ran in 0.01 s\n",
      "Operator `forward` ran in 0.01 s\n",
      "Operator `forward` ran in 0.02 s\n",
      "Operator `forward` ran in 0.01 s\n"
     ]
    },
    {
     "name": "stdout",
     "output_type": "stream",
     "text": [
      "16; function value: 262.41568\n"
     ]
    },
    {
     "name": "stderr",
     "output_type": "stream",
     "text": [
      "Operator `forward` ran in 0.02 s\n",
      "Operator `gradient` ran in 0.02 s\n",
      "Operator `forward` ran in 0.02 s\n",
      "Operator `gradient` ran in 0.02 s\n",
      "Operator `forward` ran in 0.02 s\n",
      "Operator `gradient` ran in 0.02 s\n",
      "Operator `forward` ran in 0.02 s\n",
      "Operator `gradient` ran in 0.02 s\n",
      "Operator `forward` ran in 0.02 s\n",
      "Operator `gradient` ran in 0.02 s\n",
      "Operator `forward` ran in 0.02 s\n",
      "Operator `gradient` ran in 0.02 s\n",
      "Operator `forward` ran in 0.02 s\n",
      "Operator `gradient` ran in 0.02 s\n",
      "Operator `forward` ran in 0.02 s\n",
      "Operator `gradient` ran in 0.02 s\n",
      "Operator `forward` ran in 0.02 s\n",
      "Operator `gradient` ran in 0.02 s\n",
      "Operator `forward` ran in 0.02 s\n",
      "Operator `gradient` ran in 0.02 s\n",
      "Operator `forward` ran in 0.02 s\n",
      "Operator `gradient` ran in 0.02 s\n",
      "Operator `forward` ran in 0.02 s\n",
      "Operator `gradient` ran in 0.02 s\n",
      "Operator `forward` ran in 0.02 s\n",
      "Operator `gradient` ran in 0.02 s\n",
      "Operator `forward` ran in 0.02 s\n",
      "Operator `gradient` ran in 0.02 s\n",
      "Operator `forward` ran in 0.02 s\n",
      "Operator `gradient` ran in 0.02 s\n",
      "Operator `forward` ran in 0.02 s\n",
      "Operator `gradient` ran in 0.02 s\n"
     ]
    },
    {
     "name": "stdout",
     "output_type": "stream",
     "text": [
      "(α, misfit) = (0.1f0, 412435.09375)\n",
      "(α, misfit) = "
     ]
    },
    {
     "name": "stderr",
     "output_type": "stream",
     "text": [
      "Operator `forward` ran in 0.01 s\n",
      "Operator `forward` ran in 0.01 s\n",
      "Operator `forward` ran in 0.01 s\n",
      "Operator `forward` ran in 0.01 s\n",
      "Operator `forward` ran in 0.01 s\n",
      "Operator `forward` ran in 0.01 s\n",
      "Operator `forward` ran in 0.01 s\n",
      "Operator `forward` ran in 0.01 s\n",
      "Operator `forward` ran in 0.01 s\n",
      "Operator `forward` ran in 0.01 s\n",
      "Operator `forward` ran in 0.02 s\n",
      "Operator `forward` ran in 0.02 s\n",
      "Operator `forward` ran in 0.02 s\n",
      "Operator `forward` ran in 0.02 s\n",
      "Operator `forward` ran in 0.01 s\n",
      "Operator `forward` ran in 0.01 s\n"
     ]
    },
    {
     "name": "stdout",
     "output_type": "stream",
     "text": [
      "(0.010000000149011612, 8756.470703125)\n"
     ]
    },
    {
     "name": "stderr",
     "output_type": "stream",
     "text": [
      "Operator `forward` ran in 0.02 s\n",
      "Operator `forward` ran in 0.02 s\n",
      "Operator `forward` ran in 0.01 s\n",
      "Operator `forward` ran in 0.01 s\n",
      "Operator `forward` ran in 0.02 s\n",
      "Operator `forward` ran in 0.01 s\n",
      "Operator `forward` ran in 0.01 s\n",
      "Operator `forward` ran in 0.02 s\n",
      "Operator `forward` ran in 0.02 s\n",
      "Operator `forward` ran in 0.01 s\n",
      "Operator `forward` ran in 0.01 s\n",
      "Operator `forward` ran in 0.02 s\n",
      "Operator `forward` ran in 0.02 s\n",
      "Operator `forward` ran in 0.02 s\n",
      "Operator `forward` ran in 0.01 s\n",
      "Operator `forward` ran in 0.01 s\n"
     ]
    },
    {
     "name": "stdout",
     "output_type": "stream",
     "text": [
      "(α, misfit) = (0.0010000000149011613, 289.22222900390625)\n",
      "(α, misfit) = "
     ]
    },
    {
     "name": "stderr",
     "output_type": "stream",
     "text": [
      "Operator `forward` ran in 0.02 s\n",
      "Operator `forward` ran in 0.01 s\n",
      "Operator `forward` ran in 0.01 s\n",
      "Operator `forward` ran in 0.01 s\n",
      "Operator `forward` ran in 0.01 s\n",
      "Operator `forward` ran in 0.01 s\n",
      "Operator `forward` ran in 0.01 s\n",
      "Operator `forward` ran in 0.02 s\n",
      "Operator `forward` ran in 0.02 s\n",
      "Operator `forward` ran in 0.01 s\n",
      "Operator `forward` ran in 0.01 s\n",
      "Operator `forward` ran in 0.01 s\n",
      "Operator `forward` ran in 0.01 s\n",
      "Operator `forward` ran in 0.01 s\n",
      "Operator `forward` ran in 0.04 s\n",
      "Operator `forward` ran in 0.04 s\n"
     ]
    },
    {
     "name": "stdout",
     "output_type": "stream",
     "text": [
      "(0.00037200797011640164, 247.5891876220703)\n"
     ]
    },
    {
     "name": "stderr",
     "output_type": "stream",
     "text": [
      "Operator `forward` ran in 0.04 s\n",
      "Operator `forward` ran in 0.05 s\n",
      "Operator `forward` ran in 0.03 s\n",
      "Operator `forward` ran in 0.04 s\n",
      "Operator `forward` ran in 0.05 s\n",
      "Operator `forward` ran in 0.04 s\n",
      "Operator `forward` ran in 0.04 s\n",
      "Operator `forward` ran in 0.01 s\n",
      "Operator `forward` ran in 0.03 s\n",
      "Operator `forward` ran in 0.03 s\n",
      "Operator `forward` ran in 0.04 s\n",
      "Operator `forward` ran in 0.04 s\n",
      "Operator `forward` ran in 0.03 s\n",
      "Operator `forward` ran in 0.03 s\n",
      "Operator `forward` ran in 0.01 s\n",
      "Operator `forward` ran in 0.01 s\n"
     ]
    },
    {
     "name": "stdout",
     "output_type": "stream",
     "text": [
      "FWI iteration no: 17; function value: 292.30408\n",
      "(α, misfit) = "
     ]
    },
    {
     "name": "stderr",
     "output_type": "stream",
     "text": [
      "Operator `forward` ran in 0.02 s\n",
      "Operator `gradient` ran in 0.02 s\n",
      "Operator `forward` ran in 0.02 s\n",
      "Operator `gradient` ran in 0.02 s\n",
      "Operator `forward` ran in 0.02 s\n",
      "Operator `gradient` ran in 0.02 s\n",
      "Operator `forward` ran in 0.02 s\n",
      "Operator `gradient` ran in 0.02 s\n",
      "Operator `forward` ran in 0.02 s\n",
      "Operator `gradient` ran in 0.02 s\n",
      "Operator `forward` ran in 0.02 s\n",
      "Operator `gradient` ran in 0.02 s\n",
      "Operator `forward` ran in 0.02 s\n",
      "Operator `gradient` ran in 0.02 s\n",
      "Operator `forward` ran in 0.02 s\n",
      "Operator `gradient` ran in 0.02 s\n",
      "Operator `forward` ran in 0.02 s\n",
      "Operator `gradient` ran in 0.02 s\n",
      "Operator `forward` ran in 0.02 s\n",
      "Operator `gradient` ran in 0.02 s\n",
      "Operator `forward` ran in 0.02 s\n",
      "Operator `gradient` ran in 0.02 s\n",
      "Operator `forward` ran in 0.02 s\n",
      "Operator `gradient` ran in 0.02 s\n",
      "Operator `forward` ran in 0.03 s\n",
      "Operator `gradient` ran in 0.02 s\n",
      "Operator `forward` ran in 0.02 s\n",
      "Operator `gradient` ran in 0.02 s\n",
      "Operator `forward` ran in 0.02 s\n",
      "Operator `gradient` ran in 0.02 s\n",
      "Operator `forward` ran in 0.02 s\n",
      "Operator `gradient` ran in 0.02 s\n"
     ]
    },
    {
     "name": "stdout",
     "output_type": "stream",
     "text": [
      "(0.1f0, 14105.1767578125)\n"
     ]
    },
    {
     "name": "stderr",
     "output_type": "stream",
     "text": [
      "Operator `forward` ran in 0.01 s\n",
      "Operator `forward` ran in 0.02 s\n",
      "Operator `forward` ran in 0.01 s\n",
      "Operator `forward` ran in 0.01 s\n",
      "Operator `forward` ran in 0.02 s\n",
      "Operator `forward` ran in 0.01 s\n",
      "Operator `forward` ran in 0.01 s\n",
      "Operator `forward` ran in 0.01 s\n",
      "Operator `forward` ran in 0.01 s\n",
      "Operator `forward` ran in 0.01 s\n",
      "Operator `forward` ran in 0.02 s\n",
      "Operator `forward` ran in 0.01 s\n",
      "Operator `forward` ran in 0.01 s\n",
      "Operator `forward` ran in 0.01 s\n",
      "Operator `forward` ran in 0.01 s\n",
      "Operator `forward` ran in 0.01 s\n"
     ]
    },
    {
     "name": "stdout",
     "output_type": "stream",
     "text": [
      "(α, misfit) = (0.01321629222349617, 774.27978515625)\n",
      "(α, misfit) = "
     ]
    },
    {
     "name": "stderr",
     "output_type": "stream",
     "text": [
      "Operator `forward` ran in 0.02 s\n",
      "Operator `forward` ran in 0.01 s\n",
      "Operator `forward` ran in 0.01 s\n",
      "Operator `forward` ran in 0.01 s\n",
      "Operator `forward` ran in 0.01 s\n",
      "Operator `forward` ran in 0.01 s\n",
      "Operator `forward` ran in 0.02 s\n",
      "Operator `forward` ran in 0.01 s\n",
      "Operator `forward` ran in 0.02 s\n",
      "Operator `forward` ran in 0.01 s\n",
      "Operator `forward` ran in 0.01 s\n",
      "Operator `forward` ran in 0.01 s\n",
      "Operator `forward` ran in 0.02 s\n",
      "Operator `forward` ran in 0.01 s\n",
      "Operator `forward` ran in 0.01 s\n",
      "Operator `forward` ran in 0.01 s\n"
     ]
    },
    {
     "name": "stdout",
     "output_type": "stream",
     "text": [
      "(0.0035787761358924666, 310.82415771484375)\n"
     ]
    },
    {
     "name": "stderr",
     "output_type": "stream",
     "text": [
      "Operator `forward` ran in 0.02 s\n",
      "Operator `forward` ran in 0.02 s\n",
      "Operator `forward` ran in 0.02 s\n",
      "Operator `forward` ran in 0.02 s\n",
      "Operator `forward` ran in 0.02 s\n",
      "Operator `forward` ran in 0.01 s\n",
      "Operator `forward` ran in 0.01 s\n",
      "Operator `forward` ran in 0.04 s\n",
      "Operator `forward` ran in 0.04 s\n",
      "Operator `forward` ran in 0.03 s\n",
      "Operator `forward` ran in 0.04 s\n",
      "Operator `forward` ran in 0.04 s\n",
      "Operator `forward` ran in 0.05 s\n",
      "Operator `forward` ran in 0.03 s\n",
      "Operator `forward` ran in 0.05 s\n",
      "Operator `forward` ran in 0.01 s\n"
     ]
    },
    {
     "name": "stdout",
     "output_type": "stream",
     "text": [
      "(α, misfit) = (0.0015016810060451875, 275.0895690917969)\n",
      "FWI iteration no: "
     ]
    },
    {
     "name": "stderr",
     "output_type": "stream",
     "text": [
      "Operator `forward` ran in 0.04 s\n",
      "Operator `forward` ran in 0.04 s\n",
      "Operator `forward` ran in 0.02 s\n",
      "Operator `forward` ran in 0.02 s\n",
      "Operator `forward` ran in 0.02 s\n",
      "Operator `forward` ran in 0.02 s\n",
      "Operator `forward` ran in 0.02 s\n",
      "Operator `forward` ran in 0.01 s\n",
      "Operator `forward` ran in 0.01 s\n",
      "Operator `forward` ran in 0.01 s\n",
      "Operator `forward` ran in 0.02 s\n",
      "Operator `forward` ran in 0.01 s\n",
      "Operator `forward` ran in 0.01 s\n",
      "Operator `forward` ran in 0.02 s\n",
      "Operator `forward` ran in 0.01 s\n",
      "Operator `forward` ran in 0.01 s\n"
     ]
    },
    {
     "name": "stdout",
     "output_type": "stream",
     "text": [
      "18; function value: 256.8232\n"
     ]
    },
    {
     "name": "stderr",
     "output_type": "stream",
     "text": [
      "Operator `forward` ran in 0.02 s\n",
      "Operator `gradient` ran in 0.02 s\n",
      "Operator `forward` ran in 0.02 s\n",
      "Operator `gradient` ran in 0.02 s\n",
      "Operator `forward` ran in 0.02 s\n",
      "Operator `gradient` ran in 0.02 s\n",
      "Operator `forward` ran in 0.02 s\n",
      "Operator `gradient` ran in 0.02 s\n",
      "Operator `forward` ran in 0.02 s\n",
      "Operator `gradient` ran in 0.02 s\n",
      "Operator `forward` ran in 0.02 s\n",
      "Operator `gradient` ran in 0.02 s\n",
      "Operator `forward` ran in 0.02 s\n",
      "Operator `gradient` ran in 0.02 s\n",
      "Operator `forward` ran in 0.02 s\n",
      "Operator `gradient` ran in 0.02 s\n",
      "Operator `forward` ran in 0.02 s\n",
      "Operator `gradient` ran in 0.02 s\n",
      "Operator `forward` ran in 0.02 s\n",
      "Operator `gradient` ran in 0.02 s\n",
      "Operator `forward` ran in 0.02 s\n",
      "Operator `gradient` ran in 0.02 s\n",
      "Operator `forward` ran in 0.02 s\n",
      "Operator `gradient` ran in 0.02 s\n",
      "Operator `forward` ran in 0.02 s\n",
      "Operator `gradient` ran in 0.02 s\n",
      "Operator `forward` ran in 0.02 s\n",
      "Operator `gradient` ran in 0.02 s\n",
      "Operator `forward` ran in 0.02 s\n",
      "Operator `gradient` ran in 0.02 s\n",
      "Operator `forward` ran in 0.02 s\n",
      "Operator `gradient` ran in 0.02 s\n"
     ]
    },
    {
     "name": "stdout",
     "output_type": "stream",
     "text": [
      "(α, misfit) = (0.1f0, 281859.4375)\n",
      "(α, misfit) = "
     ]
    },
    {
     "name": "stderr",
     "output_type": "stream",
     "text": [
      "Operator `forward` ran in 0.02 s\n",
      "Operator `forward` ran in 0.01 s\n",
      "Operator `forward` ran in 0.02 s\n",
      "Operator `forward` ran in 0.01 s\n",
      "Operator `forward` ran in 0.02 s\n",
      "Operator `forward` ran in 0.01 s\n",
      "Operator `forward` ran in 0.01 s\n",
      "Operator `forward` ran in 0.02 s\n",
      "Operator `forward` ran in 0.01 s\n",
      "Operator `forward` ran in 0.01 s\n",
      "Operator `forward` ran in 0.01 s\n",
      "Operator `forward` ran in 0.02 s\n",
      "Operator `forward` ran in 0.02 s\n",
      "Operator `forward` ran in 0.01 s\n",
      "Operator `forward` ran in 0.01 s\n",
      "Operator `forward` ran in 0.02 s\n"
     ]
    },
    {
     "name": "stdout",
     "output_type": "stream",
     "text": [
      "(0.010000000149011612, 4723.71484375)\n"
     ]
    },
    {
     "name": "stderr",
     "output_type": "stream",
     "text": [
      "Operator `forward` ran in 0.02 s\n",
      "Operator `forward` ran in 0.02 s\n",
      "Operator `forward` ran in 0.02 s\n",
      "Operator `forward` ran in 0.01 s\n",
      "Operator `forward` ran in 0.01 s\n",
      "Operator `forward` ran in 0.01 s\n",
      "Operator `forward` ran in 0.01 s\n",
      "Operator `forward` ran in 0.02 s\n",
      "Operator `forward` ran in 0.01 s\n",
      "Operator `forward` ran in 0.01 s\n",
      "Operator `forward` ran in 0.01 s\n",
      "Operator `forward` ran in 0.01 s\n",
      "Operator `forward` ran in 0.01 s\n",
      "Operator `forward` ran in 0.01 s\n",
      "Operator `forward` ran in 0.01 s\n",
      "Operator `forward` ran in 0.02 s\n"
     ]
    },
    {
     "name": "stdout",
     "output_type": "stream",
     "text": [
      "(α, misfit) = (0.0010000000149011613, 267.9501037597656)\n",
      "(α, misfit) = "
     ]
    },
    {
     "name": "stderr",
     "output_type": "stream",
     "text": [
      "Operator `forward` ran in 0.02 s\n",
      "Operator `forward` ran in 0.01 s\n",
      "Operator `forward` ran in 0.02 s\n",
      "Operator `forward` ran in 0.01 s\n",
      "Operator `forward` ran in 0.01 s\n",
      "Operator `forward` ran in 0.01 s\n",
      "Operator `forward` ran in 0.01 s\n",
      "Operator `forward` ran in 0.01 s\n",
      "Operator `forward` ran in 0.02 s\n",
      "Operator `forward` ran in 0.01 s\n",
      "Operator `forward` ran in 0.01 s\n",
      "Operator `forward` ran in 0.02 s\n",
      "Operator `forward` ran in 0.02 s\n",
      "Operator `forward` ran in 0.01 s\n",
      "Operator `forward` ran in 0.01 s\n",
      "Operator `forward` ran in 0.02 s\n"
     ]
    },
    {
     "name": "stdout",
     "output_type": "stream",
     "text": [
      "(0.0003887280449250656, 249.2525634765625)\n"
     ]
    },
    {
     "name": "stderr",
     "output_type": "stream",
     "text": [
      "Operator `forward` ran in 0.02 s\n",
      "Operator `forward` ran in 0.01 s\n",
      "Operator `forward` ran in 0.02 s\n",
      "Operator `forward` ran in 0.02 s\n",
      "Operator `forward` ran in 0.01 s\n",
      "Operator `forward` ran in 0.01 s\n",
      "Operator `forward` ran in 0.01 s\n",
      "Operator `forward` ran in 0.02 s\n",
      "Operator `forward` ran in 0.01 s\n",
      "Operator `forward` ran in 0.01 s\n",
      "Operator `forward` ran in 0.02 s\n",
      "Operator `forward` ran in 0.01 s\n",
      "Operator `forward` ran in 0.01 s\n",
      "Operator `forward` ran in 0.02 s\n",
      "Operator `forward` ran in 0.01 s\n",
      "Operator `forward` ran in 0.02 s\n"
     ]
    },
    {
     "name": "stdout",
     "output_type": "stream",
     "text": [
      "FWI iteration no: 19; function value: 247.87445\n",
      "(α, misfit) = "
     ]
    },
    {
     "name": "stderr",
     "output_type": "stream",
     "text": [
      "Operator `forward` ran in 0.04 s\n",
      "Operator `gradient` ran in 0.02 s\n",
      "Operator `forward` ran in 0.04 s\n",
      "Operator `gradient` ran in 0.02 s\n",
      "Operator `forward` ran in 0.04 s\n",
      "Operator `gradient` ran in 0.02 s\n",
      "Operator `forward` ran in 0.02 s\n",
      "Operator `gradient` ran in 0.02 s\n",
      "Operator `forward` ran in 0.02 s\n",
      "Operator `gradient` ran in 0.02 s\n",
      "Operator `forward` ran in 0.02 s\n",
      "Operator `gradient` ran in 0.02 s\n",
      "Operator `forward` ran in 0.02 s\n",
      "Operator `gradient` ran in 0.02 s\n",
      "Operator `forward` ran in 0.02 s\n",
      "Operator `gradient` ran in 0.02 s\n",
      "Operator `forward` ran in 0.02 s\n",
      "Operator `gradient` ran in 0.02 s\n",
      "Operator `forward` ran in 0.02 s\n",
      "Operator `gradient` ran in 0.02 s\n",
      "Operator `forward` ran in 0.02 s\n",
      "Operator `gradient` ran in 0.02 s\n",
      "Operator `forward` ran in 0.02 s\n",
      "Operator `gradient` ran in 0.02 s\n",
      "Operator `forward` ran in 0.02 s\n",
      "Operator `gradient` ran in 0.02 s\n",
      "Operator `forward` ran in 0.02 s\n",
      "Operator `gradient` ran in 0.02 s\n",
      "Operator `forward` ran in 0.02 s\n",
      "Operator `gradient` ran in 0.02 s\n",
      "Operator `forward` ran in 0.02 s\n",
      "Operator `gradient` ran in 0.02 s\n"
     ]
    },
    {
     "name": "stdout",
     "output_type": "stream",
     "text": [
      "(0.1f0, 15818.25390625)\n"
     ]
    },
    {
     "name": "stderr",
     "output_type": "stream",
     "text": [
      "Operator `forward` ran in 0.01 s\n",
      "Operator `forward` ran in 0.01 s\n",
      "Operator `forward` ran in 0.01 s\n",
      "Operator `forward` ran in 0.01 s\n",
      "Operator `forward` ran in 0.01 s\n",
      "Operator `forward` ran in 0.01 s\n",
      "Operator `forward` ran in 0.01 s\n",
      "Operator `forward` ran in 0.01 s\n",
      "Operator `forward` ran in 0.01 s\n",
      "Operator `forward` ran in 0.01 s\n",
      "Operator `forward` ran in 0.01 s\n",
      "Operator `forward` ran in 0.01 s\n",
      "Operator `forward` ran in 0.01 s\n",
      "Operator `forward` ran in 0.01 s\n",
      "Operator `forward` ran in 0.02 s\n",
      "Operator `forward` ran in 0.02 s\n"
     ]
    },
    {
     "name": "stdout",
     "output_type": "stream",
     "text": [
      "(α, misfit) = (0.010000000149011612, 338.79974365234375)\n",
      "(α, misfit) = "
     ]
    },
    {
     "name": "stderr",
     "output_type": "stream",
     "text": [
      "Operator `forward` ran in 0.02 s\n",
      "Operator `forward` ran in 0.01 s\n",
      "Operator `forward` ran in 0.01 s\n",
      "Operator `forward` ran in 0.02 s\n",
      "Operator `forward` ran in 0.02 s\n",
      "Operator `forward` ran in 0.01 s\n",
      "Operator `forward` ran in 0.01 s\n",
      "Operator `forward` ran in 0.01 s\n",
      "Operator `forward` ran in 0.01 s\n",
      "Operator `forward` ran in 0.02 s\n",
      "Operator `forward` ran in 0.01 s\n",
      "Operator `forward` ran in 0.01 s\n",
      "Operator `forward` ran in 0.02 s\n",
      "Operator `forward` ran in 0.01 s\n",
      "Operator `forward` ran in 0.02 s\n",
      "Operator `forward` ran in 0.01 s\n"
     ]
    },
    {
     "name": "stdout",
     "output_type": "stream",
     "text": [
      "(0.003575260795725848, 234.0951385498047)\n"
     ]
    },
    {
     "name": "stderr",
     "output_type": "stream",
     "text": [
      "Operator `forward` ran in 0.02 s\n",
      "Operator `forward` ran in 0.02 s\n",
      "Operator `forward` ran in 0.01 s\n",
      "Operator `forward` ran in 0.01 s\n",
      "Operator `forward` ran in 0.01 s\n",
      "Operator `forward` ran in 0.01 s\n",
      "Operator `forward` ran in 0.01 s\n",
      "Operator `forward` ran in 0.02 s\n",
      "Operator `forward` ran in 0.01 s\n",
      "Operator `forward` ran in 0.01 s\n",
      "Operator `forward` ran in 0.05 s\n",
      "Operator `forward` ran in 0.05 s\n",
      "Operator `forward` ran in 0.04 s\n",
      "Operator `forward` ran in 0.05 s\n",
      "Operator `forward` ran in 0.04 s\n",
      "Operator `forward` ran in 0.04 s\n"
     ]
    },
    {
     "name": "stdout",
     "output_type": "stream",
     "text": [
      "FWI iteration no: 20; function value: 232.20276\n",
      "(α, misfit) = "
     ]
    },
    {
     "name": "stderr",
     "output_type": "stream",
     "text": [
      "Operator `forward` ran in 0.04 s\n",
      "Operator `gradient` ran in 0.02 s\n",
      "Operator `forward` ran in 0.04 s\n",
      "Operator `gradient` ran in 0.02 s\n",
      "Operator `forward` ran in 0.02 s\n",
      "Operator `gradient` ran in 0.02 s\n",
      "Operator `forward` ran in 0.02 s\n",
      "Operator `gradient` ran in 0.02 s\n",
      "Operator `forward` ran in 0.02 s\n",
      "Operator `gradient` ran in 0.02 s\n",
      "Operator `forward` ran in 0.02 s\n",
      "Operator `gradient` ran in 0.02 s\n",
      "Operator `forward` ran in 0.02 s\n",
      "Operator `gradient` ran in 0.02 s\n",
      "Operator `forward` ran in 0.02 s\n",
      "Operator `gradient` ran in 0.02 s\n",
      "Operator `forward` ran in 0.02 s\n",
      "Operator `gradient` ran in 0.02 s\n",
      "Operator `forward` ran in 0.02 s\n",
      "Operator `gradient` ran in 0.02 s\n",
      "Operator `forward` ran in 0.02 s\n",
      "Operator `gradient` ran in 0.02 s\n",
      "Operator `forward` ran in 0.04 s\n",
      "Operator `gradient` ran in 0.02 s\n",
      "Operator `forward` ran in 0.02 s\n",
      "Operator `gradient` ran in 0.02 s\n",
      "Operator `forward` ran in 0.02 s\n",
      "Operator `gradient` ran in 0.02 s\n",
      "Operator `forward` ran in 0.02 s\n",
      "Operator `gradient` ran in 0.02 s\n",
      "Operator `forward` ran in 0.02 s\n",
      "Operator `gradient` ran in 0.02 s\n"
     ]
    },
    {
     "name": "stdout",
     "output_type": "stream",
     "text": [
      "(0.1f0, 209713.578125)\n"
     ]
    },
    {
     "name": "stderr",
     "output_type": "stream",
     "text": [
      "Operator `forward` ran in 0.01 s\n",
      "Operator `forward` ran in 0.01 s\n",
      "Operator `forward` ran in 0.01 s\n",
      "Operator `forward` ran in 0.02 s\n",
      "Operator `forward` ran in 0.01 s\n",
      "Operator `forward` ran in 0.01 s\n",
      "Operator `forward` ran in 0.01 s\n",
      "Operator `forward` ran in 0.01 s\n",
      "Operator `forward` ran in 0.01 s\n",
      "Operator `forward` ran in 0.01 s\n",
      "Operator `forward` ran in 0.01 s\n",
      "Operator `forward` ran in 0.02 s\n",
      "Operator `forward` ran in 0.02 s\n",
      "Operator `forward` ran in 0.02 s\n",
      "Operator `forward` ran in 0.01 s\n",
      "Operator `forward` ran in 0.01 s\n"
     ]
    },
    {
     "name": "stdout",
     "output_type": "stream",
     "text": [
      "(α, misfit) = (0.010000000149011612, 3375.594970703125)\n",
      "(α, misfit) = "
     ]
    },
    {
     "name": "stderr",
     "output_type": "stream",
     "text": [
      "Operator `forward` ran in 0.02 s\n",
      "Operator `forward` ran in 0.01 s\n",
      "Operator `forward` ran in 0.01 s\n",
      "Operator `forward` ran in 0.01 s\n",
      "Operator `forward` ran in 0.01 s\n",
      "Operator `forward` ran in 0.02 s\n",
      "Operator `forward` ran in 0.02 s\n",
      "Operator `forward` ran in 0.02 s\n",
      "Operator `forward` ran in 0.02 s\n",
      "Operator `forward` ran in 0.02 s\n",
      "Operator `forward` ran in 0.02 s\n",
      "Operator `forward` ran in 0.01 s\n",
      "Operator `forward` ran in 0.01 s\n",
      "Operator `forward` ran in 0.01 s\n",
      "Operator `forward` ran in 0.04 s\n",
      "Operator `forward` ran in 0.05 s\n"
     ]
    },
    {
     "name": "stdout",
     "output_type": "stream",
     "text": [
      "(0.0010000000149011613, 230.7359161376953)\n"
     ]
    },
    {
     "name": "stderr",
     "output_type": "stream",
     "text": [
      "Operator `forward` ran in 0.04 s\n",
      "Operator `forward` ran in 0.03 s\n",
      "Operator `forward` ran in 0.03 s\n",
      "Operator `forward` ran in 0.04 s\n",
      "Operator `forward` ran in 0.04 s\n",
      "Operator `forward` ran in 0.04 s\n",
      "Operator `forward` ran in 0.02 s\n",
      "Operator `forward` ran in 0.01 s\n",
      "Operator `forward` ran in 0.01 s\n",
      "Operator `forward` ran in 0.01 s\n",
      "Operator `forward` ran in 0.02 s\n",
      "Operator `forward` ran in 0.01 s\n",
      "Operator `forward` ran in 0.01 s\n",
      "Operator `forward` ran in 0.02 s\n",
      "Operator `forward` ran in 0.02 s\n",
      "Operator `forward` ran in 0.02 s\n"
     ]
    },
    {
     "name": "stdout",
     "output_type": "stream",
     "text": [
      "FWI iteration no: 21; function value: 231.27856\n",
      "(α, misfit) = "
     ]
    },
    {
     "name": "stderr",
     "output_type": "stream",
     "text": [
      "Operator `forward` ran in 0.02 s\n",
      "Operator `gradient` ran in 0.02 s\n",
      "Operator `forward` ran in 0.02 s\n",
      "Operator `gradient` ran in 0.02 s\n",
      "Operator `forward` ran in 0.02 s\n",
      "Operator `gradient` ran in 0.02 s\n",
      "Operator `forward` ran in 0.02 s\n",
      "Operator `gradient` ran in 0.02 s\n",
      "Operator `forward` ran in 0.02 s\n",
      "Operator `gradient` ran in 0.02 s\n",
      "Operator `forward` ran in 0.02 s\n",
      "Operator `gradient` ran in 0.02 s\n",
      "Operator `forward` ran in 0.02 s\n",
      "Operator `gradient` ran in 0.02 s\n",
      "Operator `forward` ran in 0.02 s\n",
      "Operator `gradient` ran in 0.02 s\n",
      "Operator `forward` ran in 0.02 s\n",
      "Operator `gradient` ran in 0.02 s\n",
      "Operator `forward` ran in 0.02 s\n",
      "Operator `gradient` ran in 0.02 s\n",
      "Operator `forward` ran in 0.02 s\n",
      "Operator `gradient` ran in 0.02 s\n",
      "Operator `forward` ran in 0.02 s\n",
      "Operator `gradient` ran in 0.02 s\n",
      "Operator `forward` ran in 0.02 s\n",
      "Operator `gradient` ran in 0.02 s\n",
      "Operator `forward` ran in 0.02 s\n",
      "Operator `gradient` ran in 0.02 s\n",
      "Operator `forward` ran in 0.02 s\n",
      "Operator `gradient` ran in 0.02 s\n",
      "Operator `forward` ran in 0.02 s\n",
      "Operator `gradient` ran in 0.02 s\n"
     ]
    },
    {
     "name": "stdout",
     "output_type": "stream",
     "text": [
      "(0.1f0, 367.00567626953125)\n"
     ]
    },
    {
     "name": "stderr",
     "output_type": "stream",
     "text": [
      "Operator `forward` ran in 0.01 s\n",
      "Operator `forward` ran in 0.02 s\n",
      "Operator `forward` ran in 0.01 s\n",
      "Operator `forward` ran in 0.01 s\n",
      "Operator `forward` ran in 0.01 s\n",
      "Operator `forward` ran in 0.01 s\n",
      "Operator `forward` ran in 0.01 s\n",
      "Operator `forward` ran in 0.01 s\n",
      "Operator `forward` ran in 0.02 s\n",
      "Operator `forward` ran in 0.02 s\n",
      "Operator `forward` ran in 0.02 s\n",
      "Operator `forward` ran in 0.01 s\n",
      "Operator `forward` ran in 0.01 s\n",
      "Operator `forward` ran in 0.01 s\n",
      "Operator `forward` ran in 0.01 s\n",
      "Operator `forward` ran in 0.02 s\n"
     ]
    },
    {
     "name": "stdout",
     "output_type": "stream",
     "text": [
      "(α, misfit) = (0.048874526540922156, 216.9389190673828)\n",
      "FWI iteration no: "
     ]
    },
    {
     "name": "stderr",
     "output_type": "stream",
     "text": [
      "Operator `forward` ran in 0.02 s\n",
      "Operator `forward` ran in 0.01 s\n",
      "Operator `forward` ran in 0.01 s\n",
      "Operator `forward` ran in 0.02 s\n",
      "Operator `forward` ran in 0.01 s\n",
      "Operator `forward` ran in 0.01 s\n",
      "Operator `forward` ran in 0.02 s\n",
      "Operator `forward` ran in 0.02 s\n",
      "Operator `forward` ran in 0.01 s\n",
      "Operator `forward` ran in 0.02 s\n",
      "Operator `forward` ran in 0.02 s\n",
      "Operator `forward` ran in 0.01 s\n",
      "Operator `forward` ran in 0.01 s\n",
      "Operator `forward` ran in 0.01 s\n",
      "Operator `forward` ran in 0.02 s\n",
      "Operator `forward` ran in 0.02 s\n"
     ]
    },
    {
     "name": "stdout",
     "output_type": "stream",
     "text": [
      "22; function value: 238.00436\n"
     ]
    },
    {
     "name": "stderr",
     "output_type": "stream",
     "text": [
      "Operator `forward` ran in 0.02 s\n",
      "Operator `gradient` ran in 0.02 s\n",
      "Operator `forward` ran in 0.02 s\n",
      "Operator `gradient` ran in 0.02 s\n",
      "Operator `forward` ran in 0.02 s\n",
      "Operator `gradient` ran in 0.02 s\n",
      "Operator `forward` ran in 0.02 s\n",
      "Operator `gradient` ran in 0.02 s\n",
      "Operator `forward` ran in 0.05 s\n",
      "Operator `gradient` ran in 0.02 s\n",
      "Operator `forward` ran in 0.05 s\n",
      "Operator `gradient` ran in 0.02 s\n",
      "Operator `forward` ran in 0.04 s\n",
      "Operator `gradient` ran in 0.02 s\n",
      "Operator `forward` ran in 0.04 s\n",
      "Operator `gradient` ran in 0.02 s\n",
      "Operator `forward` ran in 0.05 s\n",
      "Operator `gradient` ran in 0.02 s\n",
      "Operator `forward` ran in 0.04 s\n",
      "Operator `gradient` ran in 0.02 s\n",
      "Operator `forward` ran in 0.02 s\n",
      "Operator `gradient` ran in 0.02 s\n",
      "Operator `forward` ran in 0.02 s\n",
      "Operator `gradient` ran in 0.02 s\n",
      "Operator `forward` ran in 0.02 s\n",
      "Operator `gradient` ran in 0.02 s\n",
      "Operator `forward` ran in 0.02 s\n",
      "Operator `gradient` ran in 0.02 s\n",
      "Operator `forward` ran in 0.02 s\n",
      "Operator `gradient` ran in 0.02 s\n",
      "Operator `forward` ran in 0.02 s\n",
      "Operator `gradient` ran in 0.02 s\n"
     ]
    },
    {
     "name": "stdout",
     "output_type": "stream",
     "text": [
      "(α, misfit) = (0.1f0, 447211.03125)\n",
      "(α, misfit) = "
     ]
    },
    {
     "name": "stderr",
     "output_type": "stream",
     "text": [
      "Operator `forward` ran in 0.01 s\n",
      "Operator `forward` ran in 0.01 s\n",
      "Operator `forward` ran in 0.01 s\n",
      "Operator `forward` ran in 0.01 s\n",
      "Operator `forward` ran in 0.01 s\n",
      "Operator `forward` ran in 0.01 s\n",
      "Operator `forward` ran in 0.02 s\n",
      "Operator `forward` ran in 0.02 s\n",
      "Operator `forward` ran in 0.01 s\n",
      "Operator `forward` ran in 0.01 s\n",
      "Operator `forward` ran in 0.01 s\n",
      "Operator `forward` ran in 0.01 s\n",
      "Operator `forward` ran in 0.02 s\n",
      "Operator `forward` ran in 0.01 s\n",
      "Operator `forward` ran in 0.02 s\n",
      "Operator `forward` ran in 0.02 s\n"
     ]
    },
    {
     "name": "stdout",
     "output_type": "stream",
     "text": [
      "(0.010000000149011612, 10610.958984375)\n"
     ]
    },
    {
     "name": "stderr",
     "output_type": "stream",
     "text": [
      "Operator `forward` ran in 0.02 s\n",
      "Operator `forward` ran in 0.01 s\n",
      "Operator `forward` ran in 0.01 s\n",
      "Operator `forward` ran in 0.01 s\n",
      "Operator `forward` ran in 0.02 s\n",
      "Operator `forward` ran in 0.01 s\n",
      "Operator `forward` ran in 0.05 s\n",
      "Operator `forward` ran in 0.05 s\n",
      "Operator `forward` ran in 0.04 s\n",
      "Operator `forward` ran in 0.05 s\n",
      "Operator `forward` ran in 0.04 s\n",
      "Operator `forward` ran in 0.04 s\n",
      "Operator `forward` ran in 0.04 s\n",
      "Operator `forward` ran in 0.05 s\n",
      "Operator `forward` ran in 0.05 s\n",
      "Operator `forward` ran in 0.01 s\n"
     ]
    },
    {
     "name": "stdout",
     "output_type": "stream",
     "text": [
      "(α, misfit) = (0.0010000000149011613, 252.45420837402344)\n",
      "(α, misfit) = "
     ]
    },
    {
     "name": "stderr",
     "output_type": "stream",
     "text": [
      "Operator `forward` ran in 0.02 s\n",
      "Operator `forward` ran in 0.02 s\n",
      "Operator `forward` ran in 0.01 s\n",
      "Operator `forward` ran in 0.02 s\n",
      "Operator `forward` ran in 0.02 s\n",
      "Operator `forward` ran in 0.01 s\n",
      "Operator `forward` ran in 0.01 s\n",
      "Operator `forward` ran in 0.01 s\n",
      "Operator `forward` ran in 0.01 s\n",
      "Operator `forward` ran in 0.01 s\n",
      "Operator `forward` ran in 0.02 s\n",
      "Operator `forward` ran in 0.02 s\n",
      "Operator `forward` ran in 0.01 s\n",
      "Operator `forward` ran in 0.02 s\n",
      "Operator `forward` ran in 0.02 s\n",
      "Operator `forward` ran in 0.02 s\n"
     ]
    },
    {
     "name": "stdout",
     "output_type": "stream",
     "text": [
      "(0.00044213152704589506, 213.8040313720703)\n"
     ]
    },
    {
     "name": "stderr",
     "output_type": "stream",
     "text": [
      "Operator `forward` ran in 0.03 s\n",
      "Operator `forward` ran in 0.02 s\n",
      "Operator `forward` ran in 0.01 s\n",
      "Operator `forward` ran in 0.02 s\n",
      "Operator `forward` ran in 0.02 s\n",
      "Operator `forward` ran in 0.02 s\n",
      "Operator `forward` ran in 0.02 s\n",
      "Operator `forward` ran in 0.02 s\n",
      "Operator `forward` ran in 0.02 s\n",
      "Operator `forward` ran in 0.02 s\n",
      "Operator `forward` ran in 0.02 s\n",
      "Operator `forward` ran in 0.02 s\n",
      "Operator `forward` ran in 0.02 s\n",
      "Operator `forward` ran in 0.01 s\n",
      "Operator `forward` ran in 0.02 s\n",
      "Operator `forward` ran in 0.02 s\n"
     ]
    },
    {
     "name": "stdout",
     "output_type": "stream",
     "text": [
      "FWI iteration no: 23; function value: 214.58525\n",
      "(α, misfit) = "
     ]
    },
    {
     "name": "stderr",
     "output_type": "stream",
     "text": [
      "Operator `forward` ran in 0.02 s\n",
      "Operator `gradient` ran in 0.02 s\n",
      "Operator `forward` ran in 0.02 s\n",
      "Operator `gradient` ran in 0.02 s\n",
      "Operator `forward` ran in 0.02 s\n",
      "Operator `gradient` ran in 0.02 s\n",
      "Operator `forward` ran in 0.02 s\n",
      "Operator `gradient` ran in 0.02 s\n",
      "Operator `forward` ran in 0.02 s\n",
      "Operator `gradient` ran in 0.02 s\n",
      "Operator `forward` ran in 0.03 s\n",
      "Operator `gradient` ran in 0.02 s\n",
      "Operator `forward` ran in 0.04 s\n",
      "Operator `gradient` ran in 0.02 s\n",
      "Operator `forward` ran in 0.02 s\n",
      "Operator `gradient` ran in 0.02 s\n",
      "Operator `forward` ran in 0.02 s\n",
      "Operator `gradient` ran in 0.02 s\n",
      "Operator `forward` ran in 0.02 s\n",
      "Operator `gradient` ran in 0.02 s\n",
      "Operator `forward` ran in 0.02 s\n",
      "Operator `gradient` ran in 0.02 s\n",
      "Operator `forward` ran in 0.02 s\n",
      "Operator `gradient` ran in 0.02 s\n",
      "Operator `forward` ran in 0.02 s\n",
      "Operator `gradient` ran in 0.02 s\n",
      "Operator `forward` ran in 0.02 s\n",
      "Operator `gradient` ran in 0.02 s\n",
      "Operator `forward` ran in 0.02 s\n",
      "Operator `gradient` ran in 0.02 s\n",
      "Operator `forward` ran in 0.02 s\n",
      "Operator `gradient` ran in 0.02 s\n"
     ]
    },
    {
     "name": "stdout",
     "output_type": "stream",
     "text": [
      "(0.1f0, 3602.804443359375)\n"
     ]
    },
    {
     "name": "stderr",
     "output_type": "stream",
     "text": [
      "Operator `forward` ran in 0.01 s\n",
      "Operator `forward` ran in 0.01 s\n",
      "Operator `forward` ran in 0.01 s\n",
      "Operator `forward` ran in 0.03 s\n",
      "Operator `forward` ran in 0.02 s\n",
      "Operator `forward` ran in 0.01 s\n",
      "Operator `forward` ran in 0.02 s\n",
      "Operator `forward` ran in 0.02 s\n",
      "Operator `forward` ran in 0.01 s\n",
      "Operator `forward` ran in 0.01 s\n",
      "Operator `forward` ran in 0.02 s\n",
      "Operator `forward` ran in 0.02 s\n",
      "Operator `forward` ran in 0.01 s\n",
      "Operator `forward` ran in 0.01 s\n",
      "Operator `forward` ran in 0.02 s\n",
      "Operator `forward` ran in 0.01 s\n"
     ]
    },
    {
     "name": "stdout",
     "output_type": "stream",
     "text": [
      "(α, misfit) = (0.02706093268943045, 566.132568359375)\n",
      "(α, misfit) = "
     ]
    },
    {
     "name": "stderr",
     "output_type": "stream",
     "text": [
      "Operator `forward` ran in 0.02 s\n",
      "Operator `forward` ran in 0.02 s\n",
      "Operator `forward` ran in 0.02 s\n",
      "Operator `forward` ran in 0.01 s\n",
      "Operator `forward` ran in 0.01 s\n",
      "Operator `forward` ran in 0.02 s\n",
      "Operator `forward` ran in 0.02 s\n",
      "Operator `forward` ran in 0.01 s\n",
      "Operator `forward` ran in 0.02 s\n",
      "Operator `forward` ran in 0.02 s\n",
      "Operator `forward` ran in 0.02 s\n",
      "Operator `forward` ran in 0.02 s\n",
      "Operator `forward` ran in 0.01 s\n",
      "Operator `forward` ran in 0.02 s\n",
      "Operator `forward` ran in 0.01 s\n",
      "Operator `forward` ran in 0.02 s\n"
     ]
    },
    {
     "name": "stdout",
     "output_type": "stream",
     "text": [
      "(0.009169975620421981, 238.326171875)\n"
     ]
    },
    {
     "name": "stderr",
     "output_type": "stream",
     "text": [
      "Operator `forward` ran in 0.02 s\n",
      "Operator `forward` ran in 0.01 s\n",
      "Operator `forward` ran in 0.01 s\n",
      "Operator `forward` ran in 0.01 s\n",
      "Operator `forward` ran in 0.02 s\n",
      "Operator `forward` ran in 0.01 s\n",
      "Operator `forward` ran in 0.01 s\n",
      "Operator `forward` ran in 0.01 s\n",
      "Operator `forward` ran in 0.01 s\n",
      "Operator `forward` ran in 0.01 s\n",
      "Operator `forward` ran in 0.02 s\n",
      "Operator `forward` ran in 0.01 s\n",
      "Operator `forward` ran in 0.01 s\n",
      "Operator `forward` ran in 0.01 s\n",
      "Operator `forward` ran in 0.02 s\n",
      "Operator `forward` ran in 0.01 s\n"
     ]
    },
    {
     "name": "stdout",
     "output_type": "stream",
     "text": [
      "(α, misfit) = (0.0038864395247620465, 173.60826110839844)\n",
      "FWI iteration no: "
     ]
    },
    {
     "name": "stderr",
     "output_type": "stream",
     "text": [
      "Operator `forward` ran in 0.02 s\n",
      "Operator `forward` ran in 0.01 s\n",
      "Operator `forward` ran in 0.02 s\n",
      "Operator `forward` ran in 0.02 s\n",
      "Operator `forward` ran in 0.01 s\n",
      "Operator `forward` ran in 0.01 s\n",
      "Operator `forward` ran in 0.02 s\n",
      "Operator `forward` ran in 0.01 s\n",
      "Operator `forward` ran in 0.01 s\n",
      "Operator `forward` ran in 0.02 s\n",
      "Operator `forward` ran in 0.01 s\n",
      "Operator `forward` ran in 0.01 s\n",
      "Operator `forward` ran in 0.01 s\n",
      "Operator `forward` ran in 0.01 s\n",
      "Operator `forward` ran in 0.02 s\n",
      "Operator `forward` ran in 0.01 s\n"
     ]
    },
    {
     "name": "stdout",
     "output_type": "stream",
     "text": [
      "24; function value: 182.33334\n"
     ]
    },
    {
     "name": "stderr",
     "output_type": "stream",
     "text": [
      "Operator `forward` ran in 0.02 s\n",
      "Operator `gradient` ran in 0.02 s\n",
      "Operator `forward` ran in 0.02 s\n",
      "Operator `gradient` ran in 0.02 s\n",
      "Operator `forward` ran in 0.02 s\n",
      "Operator `gradient` ran in 0.02 s\n",
      "Operator `forward` ran in 0.02 s\n",
      "Operator `gradient` ran in 0.02 s\n",
      "Operator `forward` ran in 0.02 s\n",
      "Operator `gradient` ran in 0.02 s\n",
      "Operator `forward` ran in 0.02 s\n",
      "Operator `gradient` ran in 0.02 s\n",
      "Operator `forward` ran in 0.02 s\n",
      "Operator `gradient` ran in 0.02 s\n",
      "Operator `forward` ran in 0.02 s\n",
      "Operator `gradient` ran in 0.02 s\n",
      "Operator `forward` ran in 0.02 s\n",
      "Operator `gradient` ran in 0.02 s\n",
      "Operator `forward` ran in 0.02 s\n",
      "Operator `gradient` ran in 0.02 s\n",
      "Operator `forward` ran in 0.02 s\n",
      "Operator `gradient` ran in 0.02 s\n",
      "Operator `forward` ran in 0.02 s\n",
      "Operator `gradient` ran in 0.02 s\n",
      "Operator `forward` ran in 0.02 s\n",
      "Operator `gradient` ran in 0.02 s\n",
      "Operator `forward` ran in 0.02 s\n",
      "Operator `gradient` ran in 0.02 s\n",
      "Operator `forward` ran in 0.02 s\n",
      "Operator `gradient` ran in 0.02 s\n",
      "Operator `forward` ran in 0.02 s\n",
      "Operator `gradient` ran in 0.02 s\n"
     ]
    },
    {
     "name": "stdout",
     "output_type": "stream",
     "text": [
      "(α, misfit) = (0.1f0, 89644.1953125)\n",
      "(α, misfit) = "
     ]
    },
    {
     "name": "stderr",
     "output_type": "stream",
     "text": [
      "Operator `forward` ran in 0.01 s\n",
      "Operator `forward` ran in 0.02 s\n",
      "Operator `forward` ran in 0.02 s\n",
      "Operator `forward` ran in 0.01 s\n",
      "Operator `forward` ran in 0.01 s\n",
      "Operator `forward` ran in 0.01 s\n",
      "Operator `forward` ran in 0.01 s\n",
      "Operator `forward` ran in 0.01 s\n",
      "Operator `forward` ran in 0.01 s\n",
      "Operator `forward` ran in 0.01 s\n",
      "Operator `forward` ran in 0.02 s\n",
      "Operator `forward` ran in 0.01 s\n",
      "Operator `forward` ran in 0.01 s\n",
      "Operator `forward` ran in 0.01 s\n",
      "Operator `forward` ran in 0.01 s\n",
      "Operator `forward` ran in 0.01 s\n"
     ]
    },
    {
     "name": "stdout",
     "output_type": "stream",
     "text": [
      "(0.010000000149011612, 1663.582275390625)\n"
     ]
    },
    {
     "name": "stderr",
     "output_type": "stream",
     "text": [
      "Operator `forward` ran in 0.02 s\n",
      "Operator `forward` ran in 0.02 s\n",
      "Operator `forward` ran in 0.02 s\n",
      "Operator `forward` ran in 0.01 s\n",
      "Operator `forward` ran in 0.04 s\n",
      "Operator `forward` ran in 0.02 s\n",
      "Operator `forward` ran in 0.01 s\n",
      "Operator `forward` ran in 0.01 s\n",
      "Operator `forward` ran in 0.01 s\n",
      "Operator `forward` ran in 0.01 s\n",
      "Operator `forward` ran in 0.01 s\n",
      "Operator `forward` ran in 0.01 s\n",
      "Operator `forward` ran in 0.01 s\n",
      "Operator `forward` ran in 0.02 s\n",
      "Operator `forward` ran in 0.01 s\n",
      "Operator `forward` ran in 0.01 s\n"
     ]
    },
    {
     "name": "stdout",
     "output_type": "stream",
     "text": [
      "(α, misfit) = (0.0010000000149011613, 168.6049041748047)\n",
      "FWI iteration no: "
     ]
    },
    {
     "name": "stderr",
     "output_type": "stream",
     "text": [
      "Operator `forward` ran in 0.02 s\n",
      "Operator `forward` ran in 0.01 s\n",
      "Operator `forward` ran in 0.01 s\n",
      "Operator `forward` ran in 0.01 s\n",
      "Operator `forward` ran in 0.01 s\n",
      "Operator `forward` ran in 0.01 s\n",
      "Operator `forward` ran in 0.01 s\n",
      "Operator `forward` ran in 0.01 s\n",
      "Operator `forward` ran in 0.01 s\n",
      "Operator `forward` ran in 0.01 s\n",
      "Operator `forward` ran in 0.02 s\n",
      "Operator `forward` ran in 0.01 s\n",
      "Operator `forward` ran in 0.01 s\n",
      "Operator `forward` ran in 0.01 s\n",
      "Operator `forward` ran in 0.01 s\n",
      "Operator `forward` ran in 0.01 s\n"
     ]
    },
    {
     "name": "stdout",
     "output_type": "stream",
     "text": [
      "25; function value: 143.45088\n"
     ]
    },
    {
     "name": "stderr",
     "output_type": "stream",
     "text": [
      "Operator `forward` ran in 0.02 s\n",
      "Operator `gradient` ran in 0.02 s\n",
      "Operator `forward` ran in 0.02 s\n",
      "Operator `gradient` ran in 0.02 s\n",
      "Operator `forward` ran in 0.02 s\n",
      "Operator `gradient` ran in 0.02 s\n",
      "Operator `forward` ran in 0.02 s\n",
      "Operator `gradient` ran in 0.02 s\n",
      "Operator `forward` ran in 0.02 s\n",
      "Operator `gradient` ran in 0.02 s\n",
      "Operator `forward` ran in 0.05 s\n",
      "Operator `gradient` ran in 0.02 s\n",
      "Operator `forward` ran in 0.04 s\n",
      "Operator `gradient` ran in 0.02 s\n",
      "Operator `forward` ran in 0.04 s\n",
      "Operator `gradient` ran in 0.02 s\n",
      "Operator `forward` ran in 0.04 s\n",
      "Operator `gradient` ran in 0.02 s\n",
      "Operator `forward` ran in 0.05 s\n",
      "Operator `gradient` ran in 0.02 s\n",
      "Operator `forward` ran in 0.04 s\n",
      "Operator `gradient` ran in 0.02 s\n",
      "Operator `forward` ran in 0.02 s\n",
      "Operator `gradient` ran in 0.02 s\n",
      "Operator `forward` ran in 0.02 s\n",
      "Operator `gradient` ran in 0.02 s\n",
      "Operator `forward` ran in 0.02 s\n",
      "Operator `gradient` ran in 0.02 s\n",
      "Operator `forward` ran in 0.02 s\n",
      "Operator `gradient` ran in 0.02 s\n",
      "Operator `forward` ran in 0.02 s\n",
      "Operator `gradient` ran in 0.02 s\n"
     ]
    },
    {
     "name": "stdout",
     "output_type": "stream",
     "text": [
      "(α, misfit) = (0.1f0, 920.5765991210938)\n",
      "(α, misfit) = "
     ]
    },
    {
     "name": "stderr",
     "output_type": "stream",
     "text": [
      "Operator `forward` ran in 0.01 s\n",
      "Operator `forward` ran in 0.01 s\n",
      "Operator `forward` ran in 0.02 s\n",
      "Operator `forward` ran in 0.01 s\n",
      "Operator `forward` ran in 0.01 s\n",
      "Operator `forward` ran in 0.01 s\n",
      "Operator `forward` ran in 0.01 s\n",
      "Operator `forward` ran in 0.02 s\n",
      "Operator `forward` ran in 0.01 s\n",
      "Operator `forward` ran in 0.01 s\n",
      "Operator `forward` ran in 0.02 s\n",
      "Operator `forward` ran in 0.01 s\n",
      "Operator `forward` ran in 0.01 s\n",
      "Operator `forward` ran in 0.01 s\n",
      "Operator `forward` ran in 0.01 s\n",
      "Operator `forward` ran in 0.01 s\n"
     ]
    },
    {
     "name": "stdout",
     "output_type": "stream",
     "text": [
      "(0.03435548254124096, 202.81954956054688)\n"
     ]
    },
    {
     "name": "stderr",
     "output_type": "stream",
     "text": [
      "Operator `forward` ran in 0.02 s\n",
      "Operator `forward` ran in 0.02 s\n",
      "Operator `forward` ran in 0.02 s\n",
      "Operator `forward` ran in 0.01 s\n",
      "Operator `forward` ran in 0.01 s\n",
      "Operator `forward` ran in 0.01 s\n",
      "Operator `forward` ran in 0.01 s\n",
      "Operator `forward` ran in 0.01 s\n",
      "Operator `forward` ran in 0.01 s\n",
      "Operator `forward` ran in 0.01 s\n",
      "Operator `forward` ran in 0.01 s\n",
      "Operator `forward` ran in 0.01 s\n",
      "Operator `forward` ran in 0.01 s\n",
      "Operator `forward` ran in 0.01 s\n",
      "Operator `forward` ran in 0.02 s\n",
      "Operator `forward` ran in 0.01 s\n"
     ]
    },
    {
     "name": "stdout",
     "output_type": "stream",
     "text": [
      "(α, misfit) = (0.014046115249330858, 136.49034118652344)\n",
      "FWI iteration no: "
     ]
    },
    {
     "name": "stderr",
     "output_type": "stream",
     "text": [
      "Operator `forward` ran in 0.02 s\n",
      "Operator `forward` ran in 0.01 s\n",
      "Operator `forward` ran in 0.01 s\n",
      "Operator `forward` ran in 0.01 s\n",
      "Operator `forward` ran in 0.01 s\n",
      "Operator `forward` ran in 0.01 s\n",
      "Operator `forward` ran in 0.01 s\n",
      "Operator `forward` ran in 0.02 s\n",
      "Operator `forward` ran in 0.01 s\n",
      "Operator `forward` ran in 0.01 s\n",
      "Operator `forward` ran in 0.01 s\n",
      "Operator `forward` ran in 0.01 s\n",
      "Operator `forward` ran in 0.01 s\n",
      "Operator `forward` ran in 0.02 s\n",
      "Operator `forward` ran in 0.02 s\n",
      "Operator `forward` ran in 0.01 s\n"
     ]
    },
    {
     "name": "stdout",
     "output_type": "stream",
     "text": [
      "26; function value: 143.73833\n"
     ]
    },
    {
     "name": "stderr",
     "output_type": "stream",
     "text": [
      "Operator `forward` ran in 0.02 s\n",
      "Operator `gradient` ran in 0.02 s\n",
      "Operator `forward` ran in 0.02 s\n",
      "Operator `gradient` ran in 0.02 s\n",
      "Operator `forward` ran in 0.02 s\n",
      "Operator `gradient` ran in 0.02 s\n",
      "Operator `forward` ran in 0.02 s\n",
      "Operator `gradient` ran in 0.02 s\n",
      "Operator `forward` ran in 0.02 s\n",
      "Operator `gradient` ran in 0.02 s\n",
      "Operator `forward` ran in 0.02 s\n",
      "Operator `gradient` ran in 0.02 s\n",
      "Operator `forward` ran in 0.02 s\n",
      "Operator `gradient` ran in 0.02 s\n",
      "Operator `forward` ran in 0.02 s\n",
      "Operator `gradient` ran in 0.02 s\n",
      "Operator `forward` ran in 0.02 s\n",
      "Operator `gradient` ran in 0.02 s\n",
      "Operator `forward` ran in 0.02 s\n",
      "Operator `gradient` ran in 0.02 s\n",
      "Operator `forward` ran in 0.02 s\n",
      "Operator `gradient` ran in 0.02 s\n",
      "Operator `forward` ran in 0.02 s\n",
      "Operator `gradient` ran in 0.03 s\n",
      "Operator `forward` ran in 0.02 s\n",
      "Operator `gradient` ran in 0.02 s\n",
      "Operator `forward` ran in 0.02 s\n",
      "Operator `gradient` ran in 0.02 s\n",
      "Operator `forward` ran in 0.02 s\n",
      "Operator `gradient` ran in 0.02 s\n",
      "Operator `forward` ran in 0.02 s\n",
      "Operator `gradient` ran in 0.02 s\n"
     ]
    },
    {
     "name": "stdout",
     "output_type": "stream",
     "text": [
      "(α, misfit) = (0.1f0, 335987.6875)\n",
      "(α, misfit) = "
     ]
    },
    {
     "name": "stderr",
     "output_type": "stream",
     "text": [
      "Operator `forward` ran in 0.03 s\n",
      "Operator `forward` ran in 0.01 s\n",
      "Operator `forward` ran in 0.01 s\n",
      "Operator `forward` ran in 0.01 s\n",
      "Operator `forward` ran in 0.01 s\n",
      "Operator `forward` ran in 0.01 s\n",
      "Operator `forward` ran in 0.02 s\n",
      "Operator `forward` ran in 0.01 s\n",
      "Operator `forward` ran in 0.01 s\n",
      "Operator `forward` ran in 0.01 s\n",
      "Operator `forward` ran in 0.02 s\n",
      "Operator `forward` ran in 0.01 s\n",
      "Operator `forward` ran in 0.02 s\n",
      "Operator `forward` ran in 0.03 s\n",
      "Operator `forward` ran in 0.05 s\n",
      "Operator `forward` ran in 0.03 s\n"
     ]
    },
    {
     "name": "stdout",
     "output_type": "stream",
     "text": [
      "(0.010000000149011612, 6642.8017578125)\n"
     ]
    },
    {
     "name": "stderr",
     "output_type": "stream",
     "text": [
      "Operator `forward` ran in 0.04 s\n",
      "Operator `forward` ran in 0.04 s\n",
      "Operator `forward` ran in 0.04 s\n",
      "Operator `forward` ran in 0.03 s\n",
      "Operator `forward` ran in 0.04 s\n",
      "Operator `forward` ran in 0.01 s\n",
      "Operator `forward` ran in 0.04 s\n",
      "Operator `forward` ran in 0.04 s\n",
      "Operator `forward` ran in 0.05 s\n",
      "Operator `forward` ran in 0.04 s\n",
      "Operator `forward` ran in 0.05 s\n",
      "Operator `forward` ran in 0.05 s\n",
      "Operator `forward` ran in 0.05 s\n",
      "Operator `forward` ran in 0.04 s\n",
      "Operator `forward` ran in 0.04 s\n",
      "Operator `forward` ran in 0.01 s\n"
     ]
    },
    {
     "name": "stdout",
     "output_type": "stream",
     "text": [
      "(α, misfit) = (0.0010000000149011613, 176.78952026367188)\n",
      "(α, misfit) = "
     ]
    },
    {
     "name": "stderr",
     "output_type": "stream",
     "text": [
      "Operator `forward` ran in 0.02 s\n",
      "Operator `forward` ran in 0.02 s\n",
      "Operator `forward` ran in 0.02 s\n",
      "Operator `forward` ran in 0.01 s\n",
      "Operator `forward` ran in 0.01 s\n",
      "Operator `forward` ran in 0.01 s\n",
      "Operator `forward` ran in 0.01 s\n",
      "Operator `forward` ran in 0.02 s\n",
      "Operator `forward` ran in 0.01 s\n",
      "Operator `forward` ran in 0.01 s\n",
      "Operator `forward` ran in 0.02 s\n",
      "Operator `forward` ran in 0.01 s\n",
      "Operator `forward` ran in 0.01 s\n",
      "Operator `forward` ran in 0.01 s\n",
      "Operator `forward` ran in 0.01 s\n",
      "Operator `forward` ran in 0.02 s\n"
     ]
    },
    {
     "name": "stdout",
     "output_type": "stream",
     "text": [
      "(0.00028946764345474593, 137.865478515625)\n"
     ]
    },
    {
     "name": "stderr",
     "output_type": "stream",
     "text": [
      "Operator `forward` ran in 0.02 s\n",
      "Operator `forward` ran in 0.01 s\n",
      "Operator `forward` ran in 0.02 s\n",
      "Operator `forward` ran in 0.01 s\n",
      "Operator `forward` ran in 0.02 s\n",
      "Operator `forward` ran in 0.01 s\n",
      "Operator `forward` ran in 0.02 s\n",
      "Operator `forward` ran in 0.02 s\n",
      "Operator `forward` ran in 0.01 s\n",
      "Operator `forward` ran in 0.02 s\n",
      "Operator `forward` ran in 0.02 s\n",
      "Operator `forward` ran in 0.01 s\n",
      "Operator `forward` ran in 0.01 s\n",
      "Operator `forward` ran in 0.01 s\n",
      "Operator `forward` ran in 0.01 s\n",
      "Operator `forward` ran in 0.01 s\n"
     ]
    },
    {
     "name": "stdout",
     "output_type": "stream",
     "text": [
      "FWI iteration no: 27; function value: 149.08926\n",
      "(α, misfit) = "
     ]
    },
    {
     "name": "stderr",
     "output_type": "stream",
     "text": [
      "Operator `forward` ran in 0.02 s\n",
      "Operator `gradient` ran in 0.02 s\n",
      "Operator `forward` ran in 0.02 s\n",
      "Operator `gradient` ran in 0.02 s\n",
      "Operator `forward` ran in 0.02 s\n",
      "Operator `gradient` ran in 0.02 s\n",
      "Operator `forward` ran in 0.02 s\n",
      "Operator `gradient` ran in 0.02 s\n",
      "Operator `forward` ran in 0.02 s\n",
      "Operator `gradient` ran in 0.02 s\n",
      "Operator `forward` ran in 0.02 s\n",
      "Operator `gradient` ran in 0.02 s\n",
      "Operator `forward` ran in 0.02 s\n",
      "Operator `gradient` ran in 0.02 s\n",
      "Operator `forward` ran in 0.02 s\n",
      "Operator `gradient` ran in 0.02 s\n",
      "Operator `forward` ran in 0.02 s\n",
      "Operator `gradient` ran in 0.02 s\n",
      "Operator `forward` ran in 0.02 s\n",
      "Operator `gradient` ran in 0.02 s\n",
      "Operator `forward` ran in 0.02 s\n",
      "Operator `gradient` ran in 0.02 s\n",
      "Operator `forward` ran in 0.02 s\n",
      "Operator `gradient` ran in 0.02 s\n",
      "Operator `forward` ran in 0.02 s\n",
      "Operator `gradient` ran in 0.02 s\n",
      "Operator `forward` ran in 0.02 s\n",
      "Operator `gradient` ran in 0.02 s\n",
      "Operator `forward` ran in 0.02 s\n",
      "Operator `gradient` ran in 0.02 s\n",
      "Operator `forward` ran in 0.02 s\n",
      "Operator `gradient` ran in 0.02 s\n"
     ]
    },
    {
     "name": "stdout",
     "output_type": "stream",
     "text": [
      "(0.1f0, 18256.869140625)\n"
     ]
    },
    {
     "name": "stderr",
     "output_type": "stream",
     "text": [
      "Operator `forward` ran in 0.01 s\n",
      "Operator `forward` ran in 0.01 s\n",
      "Operator `forward` ran in 0.02 s\n",
      "Operator `forward` ran in 0.01 s\n",
      "Operator `forward` ran in 0.01 s\n",
      "Operator `forward` ran in 0.01 s\n",
      "Operator `forward` ran in 0.01 s\n",
      "Operator `forward` ran in 0.02 s\n",
      "Operator `forward` ran in 0.02 s\n",
      "Operator `forward` ran in 0.01 s\n",
      "Operator `forward` ran in 0.02 s\n",
      "Operator `forward` ran in 0.01 s\n",
      "Operator `forward` ran in 0.01 s\n",
      "Operator `forward` ran in 0.01 s\n",
      "Operator `forward` ran in 0.02 s\n",
      "Operator `forward` ran in 0.02 s\n"
     ]
    },
    {
     "name": "stdout",
     "output_type": "stream",
     "text": [
      "(α, misfit) = (0.010000000149011612, 279.40936279296875)\n",
      "(α, misfit) = "
     ]
    },
    {
     "name": "stderr",
     "output_type": "stream",
     "text": [
      "Operator `forward` ran in 0.02 s\n",
      "Operator `forward` ran in 0.01 s\n",
      "Operator `forward` ran in 0.01 s\n",
      "Operator `forward` ran in 0.01 s\n",
      "Operator `forward` ran in 0.01 s\n",
      "Operator `forward` ran in 0.03 s\n",
      "Operator `forward` ran in 0.02 s\n",
      "Operator `forward` ran in 0.01 s\n",
      "Operator `forward` ran in 0.03 s\n",
      "Operator `forward` ran in 0.04 s\n",
      "Operator `forward` ran in 0.03 s\n",
      "Operator `forward` ran in 0.03 s\n",
      "Operator `forward` ran in 0.05 s\n",
      "Operator `forward` ran in 0.05 s\n",
      "Operator `forward` ran in 0.05 s\n",
      "Operator `forward` ran in 0.03 s\n"
     ]
    },
    {
     "name": "stdout",
     "output_type": "stream",
     "text": [
      "(0.0031752627442505187, 138.84519958496094)\n"
     ]
    },
    {
     "name": "stderr",
     "output_type": "stream",
     "text": [
      "Operator `forward` ran in 0.03 s\n",
      "Operator `forward` ran in 0.01 s\n",
      "Operator `forward` ran in 0.02 s\n",
      "Operator `forward` ran in 0.01 s\n",
      "Operator `forward` ran in 0.01 s\n",
      "Operator `forward` ran in 0.01 s\n",
      "Operator `forward` ran in 0.02 s\n",
      "Operator `forward` ran in 0.02 s\n",
      "Operator `forward` ran in 0.02 s\n",
      "Operator `forward` ran in 0.01 s\n",
      "Operator `forward` ran in 0.01 s\n",
      "Operator `forward` ran in 0.01 s\n",
      "Operator `forward` ran in 0.02 s\n",
      "Operator `forward` ran in 0.01 s\n",
      "Operator `forward` ran in 0.01 s\n",
      "Operator `forward` ran in 0.01 s\n"
     ]
    },
    {
     "name": "stdout",
     "output_type": "stream",
     "text": [
      "FWI iteration no: 28; function value: 113.488106\n",
      "(α, misfit) = "
     ]
    },
    {
     "name": "stderr",
     "output_type": "stream",
     "text": [
      "Operator `forward` ran in 0.02 s\n",
      "Operator `gradient` ran in 0.02 s\n",
      "Operator `forward` ran in 0.02 s\n",
      "Operator `gradient` ran in 0.02 s\n",
      "Operator `forward` ran in 0.02 s\n",
      "Operator `gradient` ran in 0.02 s\n",
      "Operator `forward` ran in 0.02 s\n",
      "Operator `gradient` ran in 0.02 s\n",
      "Operator `forward` ran in 0.02 s\n",
      "Operator `gradient` ran in 0.02 s\n",
      "Operator `forward` ran in 0.02 s\n",
      "Operator `gradient` ran in 0.02 s\n",
      "Operator `forward` ran in 0.02 s\n",
      "Operator `gradient` ran in 0.02 s\n",
      "Operator `forward` ran in 0.02 s\n",
      "Operator `gradient` ran in 0.02 s\n",
      "Operator `forward` ran in 0.02 s\n",
      "Operator `gradient` ran in 0.02 s\n",
      "Operator `forward` ran in 0.02 s\n",
      "Operator `gradient` ran in 0.02 s\n",
      "Operator `forward` ran in 0.02 s\n",
      "Operator `gradient` ran in 0.03 s\n",
      "Operator `forward` ran in 0.02 s\n",
      "Operator `gradient` ran in 0.02 s\n",
      "Operator `forward` ran in 0.02 s\n",
      "Operator `gradient` ran in 0.02 s\n",
      "Operator `forward` ran in 0.02 s\n",
      "Operator `gradient` ran in 0.02 s\n",
      "Operator `forward` ran in 0.02 s\n",
      "Operator `gradient` ran in 0.02 s\n",
      "Operator `forward` ran in 0.02 s\n",
      "Operator `gradient` ran in 0.02 s\n"
     ]
    },
    {
     "name": "stdout",
     "output_type": "stream",
     "text": [
      "(0.1f0, 62088.953125)\n"
     ]
    },
    {
     "name": "stderr",
     "output_type": "stream",
     "text": [
      "Operator `forward` ran in 0.01 s\n",
      "Operator `forward` ran in 0.01 s\n",
      "Operator `forward` ran in 0.02 s\n",
      "Operator `forward` ran in 0.01 s\n",
      "Operator `forward` ran in 0.01 s\n",
      "Operator `forward` ran in 0.02 s\n",
      "Operator `forward` ran in 0.02 s\n",
      "Operator `forward` ran in 0.01 s\n",
      "Operator `forward` ran in 0.01 s\n",
      "Operator `forward` ran in 0.02 s\n",
      "Operator `forward` ran in 0.02 s\n",
      "Operator `forward` ran in 0.01 s\n",
      "Operator `forward` ran in 0.02 s\n",
      "Operator `forward` ran in 0.02 s\n",
      "Operator `forward` ran in 0.01 s\n",
      "Operator `forward` ran in 0.02 s\n"
     ]
    },
    {
     "name": "stdout",
     "output_type": "stream",
     "text": [
      "(α, misfit) = (0.010000000149011612, 707.4517822265625)\n",
      "(α, misfit) = "
     ]
    },
    {
     "name": "stderr",
     "output_type": "stream",
     "text": [
      "Operator `forward` ran in 0.03 s\n",
      "Operator `forward` ran in 0.01 s\n",
      "Operator `forward` ran in 0.02 s\n",
      "Operator `forward` ran in 0.02 s\n",
      "Operator `forward` ran in 0.02 s\n",
      "Operator `forward` ran in 0.01 s\n",
      "Operator `forward` ran in 0.01 s\n",
      "Operator `forward` ran in 0.01 s\n",
      "Operator `forward` ran in 0.01 s\n",
      "Operator `forward` ran in 0.01 s\n",
      "Operator `forward` ran in 0.01 s\n",
      "Operator `forward` ran in 0.01 s\n",
      "Operator `forward` ran in 0.01 s\n",
      "Operator `forward` ran in 0.02 s\n",
      "Operator `forward` ran in 0.01 s\n",
      "Operator `forward` ran in 0.01 s\n"
     ]
    },
    {
     "name": "stdout",
     "output_type": "stream",
     "text": [
      "(0.001435160534540985, 104.32677459716797)\n"
     ]
    },
    {
     "name": "stderr",
     "output_type": "stream",
     "text": [
      "Operator `forward` ran in 0.04 s\n",
      "Operator `forward` ran in 0.05 s\n",
      "Operator `forward` ran in 0.04 s\n",
      "Operator `forward` ran in 0.03 s\n",
      "Operator `forward` ran in 0.05 s\n",
      "Operator `forward` ran in 0.04 s\n",
      "Operator `forward` ran in 0.04 s\n",
      "Operator `forward` ran in 0.05 s\n",
      "Operator `forward` ran in 0.04 s\n",
      "Operator `forward` ran in 0.01 s\n",
      "Operator `forward` ran in 0.02 s\n",
      "Operator `forward` ran in 0.01 s\n",
      "Operator `forward` ran in 0.01 s\n",
      "Operator `forward` ran in 0.02 s\n",
      "Operator `forward` ran in 0.02 s\n",
      "Operator `forward` ran in 0.01 s\n"
     ]
    },
    {
     "name": "stdout",
     "output_type": "stream",
     "text": [
      "FWI iteration no: 29; function value: 105.22219\n",
      "(α, misfit) = "
     ]
    },
    {
     "name": "stderr",
     "output_type": "stream",
     "text": [
      "Operator `forward` ran in 0.02 s\n",
      "Operator `gradient` ran in 0.02 s\n",
      "Operator `forward` ran in 0.02 s\n",
      "Operator `gradient` ran in 0.02 s\n",
      "Operator `forward` ran in 0.02 s\n",
      "Operator `gradient` ran in 0.02 s\n",
      "Operator `forward` ran in 0.02 s\n",
      "Operator `gradient` ran in 0.02 s\n",
      "Operator `forward` ran in 0.02 s\n",
      "Operator `gradient` ran in 0.02 s\n",
      "Operator `forward` ran in 0.02 s\n",
      "Operator `gradient` ran in 0.02 s\n",
      "Operator `forward` ran in 0.02 s\n",
      "Operator `gradient` ran in 0.02 s\n",
      "Operator `forward` ran in 0.02 s\n",
      "Operator `gradient` ran in 0.02 s\n",
      "Operator `forward` ran in 0.02 s\n",
      "Operator `gradient` ran in 0.02 s\n",
      "Operator `forward` ran in 0.02 s\n",
      "Operator `gradient` ran in 0.02 s\n",
      "Operator `forward` ran in 0.02 s\n",
      "Operator `gradient` ran in 0.03 s\n",
      "Operator `forward` ran in 0.02 s\n",
      "Operator `gradient` ran in 0.02 s\n",
      "Operator `forward` ran in 0.02 s\n",
      "Operator `gradient` ran in 0.02 s\n",
      "Operator `forward` ran in 0.02 s\n",
      "Operator `gradient` ran in 0.02 s\n",
      "Operator `forward` ran in 0.02 s\n",
      "Operator `gradient` ran in 0.02 s\n",
      "Operator `forward` ran in 0.02 s\n",
      "Operator `gradient` ran in 0.02 s\n"
     ]
    },
    {
     "name": "stdout",
     "output_type": "stream",
     "text": [
      "(0.1f0, 31323.361328125)\n"
     ]
    },
    {
     "name": "stderr",
     "output_type": "stream",
     "text": [
      "Operator `forward` ran in 0.03 s\n",
      "Operator `forward` ran in 0.01 s\n",
      "Operator `forward` ran in 0.01 s\n",
      "Operator `forward` ran in 0.02 s\n",
      "Operator `forward` ran in 0.01 s\n",
      "Operator `forward` ran in 0.01 s\n",
      "Operator `forward` ran in 0.01 s\n",
      "Operator `forward` ran in 0.02 s\n",
      "Operator `forward` ran in 0.01 s\n",
      "Operator `forward` ran in 0.01 s\n",
      "Operator `forward` ran in 0.02 s\n",
      "Operator `forward` ran in 0.01 s\n",
      "Operator `forward` ran in 0.01 s\n",
      "Operator `forward` ran in 0.01 s\n",
      "Operator `forward` ran in 0.01 s\n",
      "Operator `forward` ran in 0.01 s\n"
     ]
    },
    {
     "name": "stdout",
     "output_type": "stream",
     "text": [
      "(α, misfit) = (0.010000000149011612, 441.6319885253906)\n",
      "(α, misfit) = "
     ]
    },
    {
     "name": "stderr",
     "output_type": "stream",
     "text": [
      "Operator `forward` ran in 0.02 s\n",
      "Operator `forward` ran in 0.02 s\n",
      "Operator `forward` ran in 0.01 s\n",
      "Operator `forward` ran in 0.01 s\n",
      "Operator `forward` ran in 0.01 s\n",
      "Operator `forward` ran in 0.01 s\n",
      "Operator `forward` ran in 0.02 s\n",
      "Operator `forward` ran in 0.01 s\n",
      "Operator `forward` ran in 0.01 s\n",
      "Operator `forward` ran in 0.02 s\n",
      "Operator `forward` ran in 0.01 s\n",
      "Operator `forward` ran in 0.01 s\n",
      "Operator `forward` ran in 0.01 s\n",
      "Operator `forward` ran in 0.01 s\n",
      "Operator `forward` ran in 0.01 s\n",
      "Operator `forward` ran in 0.01 s\n"
     ]
    },
    {
     "name": "stdout",
     "output_type": "stream",
     "text": [
      "(0.0019280395713673524, 106.41980743408203)\n"
     ]
    },
    {
     "name": "stderr",
     "output_type": "stream",
     "text": [
      "Operator `forward` ran in 0.02 s\n",
      "Operator `forward` ran in 0.01 s\n",
      "Operator `forward` ran in 0.02 s\n",
      "Operator `forward` ran in 0.01 s\n",
      "Operator `forward` ran in 0.02 s\n",
      "Operator `forward` ran in 0.02 s\n",
      "Operator `forward` ran in 0.01 s\n",
      "Operator `forward` ran in 0.01 s\n",
      "Operator `forward` ran in 0.02 s\n",
      "Operator `forward` ran in 0.02 s\n",
      "Operator `forward` ran in 0.01 s\n",
      "Operator `forward` ran in 0.02 s\n",
      "Operator `forward` ran in 0.01 s\n",
      "Operator `forward` ran in 0.01 s\n",
      "Operator `forward` ran in 0.01 s\n",
      "Operator `forward` ran in 0.01 s\n"
     ]
    },
    {
     "name": "stdout",
     "output_type": "stream",
     "text": [
      "(α, misfit) = (0.0009039466538832689, 100.16426086425781)\n",
      "FWI iteration no: "
     ]
    },
    {
     "name": "stderr",
     "output_type": "stream",
     "text": [
      "Operator `forward` ran in 0.02 s\n",
      "Operator `forward` ran in 0.01 s\n",
      "Operator `forward` ran in 0.02 s\n",
      "Operator `forward` ran in 0.01 s\n",
      "Operator `forward` ran in 0.01 s\n",
      "Operator `forward` ran in 0.01 s\n",
      "Operator `forward` ran in 0.01 s\n",
      "Operator `forward` ran in 0.01 s\n",
      "Operator `forward` ran in 0.01 s\n",
      "Operator `forward` ran in 0.02 s\n",
      "Operator `forward` ran in 0.01 s\n",
      "Operator `forward` ran in 0.01 s\n",
      "Operator `forward` ran in 0.04 s\n",
      "Operator `forward` ran in 0.06 s\n",
      "Operator `forward` ran in 0.05 s\n",
      "Operator `forward` ran in 0.03 s\n"
     ]
    },
    {
     "name": "stdout",
     "output_type": "stream",
     "text": [
      "30; function value: 130.6749\n"
     ]
    },
    {
     "name": "stderr",
     "output_type": "stream",
     "text": [
      "Operator `forward` ran in 0.02 s\n",
      "Operator `gradient` ran in 0.02 s\n",
      "Operator `forward` ran in 0.02 s\n",
      "Operator `gradient` ran in 0.02 s\n",
      "Operator `forward` ran in 0.02 s\n",
      "Operator `gradient` ran in 0.02 s\n",
      "Operator `forward` ran in 0.02 s\n",
      "Operator `gradient` ran in 0.02 s\n",
      "Operator `forward` ran in 0.02 s\n",
      "Operator `gradient` ran in 0.02 s\n",
      "Operator `forward` ran in 0.02 s\n",
      "Operator `gradient` ran in 0.02 s\n",
      "Operator `forward` ran in 0.02 s\n",
      "Operator `gradient` ran in 0.02 s\n",
      "Operator `forward` ran in 0.02 s\n",
      "Operator `gradient` ran in 0.02 s\n",
      "Operator `forward` ran in 0.02 s\n",
      "Operator `gradient` ran in 0.02 s\n",
      "Operator `forward` ran in 0.02 s\n",
      "Operator `gradient` ran in 0.02 s\n",
      "Operator `forward` ran in 0.02 s\n",
      "Operator `gradient` ran in 0.02 s\n",
      "Operator `forward` ran in 0.02 s\n",
      "Operator `gradient` ran in 0.02 s\n",
      "Operator `forward` ran in 0.02 s\n",
      "Operator `gradient` ran in 0.02 s\n",
      "Operator `forward` ran in 0.02 s\n",
      "Operator `gradient` ran in 0.02 s\n",
      "Operator `forward` ran in 0.02 s\n",
      "Operator `gradient` ran in 0.02 s\n",
      "Operator `forward` ran in 0.02 s\n",
      "Operator `gradient` ran in 0.02 s\n"
     ]
    },
    {
     "name": "stdout",
     "output_type": "stream",
     "text": [
      "(α, misfit) = (0.1f0, 320648.4375)\n",
      "(α, misfit) = "
     ]
    },
    {
     "name": "stderr",
     "output_type": "stream",
     "text": [
      "Operator `forward` ran in 0.01 s\n",
      "Operator `forward` ran in 0.01 s\n",
      "Operator `forward` ran in 0.01 s\n",
      "Operator `forward` ran in 0.01 s\n",
      "Operator `forward` ran in 0.01 s\n",
      "Operator `forward` ran in 0.01 s\n",
      "Operator `forward` ran in 0.01 s\n",
      "Operator `forward` ran in 0.01 s\n",
      "Operator `forward` ran in 0.01 s\n",
      "Operator `forward` ran in 0.01 s\n",
      "Operator `forward` ran in 0.01 s\n",
      "Operator `forward` ran in 0.01 s\n",
      "Operator `forward` ran in 0.01 s\n",
      "Operator `forward` ran in 0.01 s\n",
      "Operator `forward` ran in 0.01 s\n",
      "Operator `forward` ran in 0.01 s\n"
     ]
    },
    {
     "name": "stdout",
     "output_type": "stream",
     "text": [
      "(0.010000000149011612, 4196.6103515625)\n"
     ]
    },
    {
     "name": "stderr",
     "output_type": "stream",
     "text": [
      "Operator `forward` ran in 0.02 s\n",
      "Operator `forward` ran in 0.01 s\n",
      "Operator `forward` ran in 0.02 s\n",
      "Operator `forward` ran in 0.02 s\n",
      "Operator `forward` ran in 0.02 s\n",
      "Operator `forward` ran in 0.01 s\n",
      "Operator `forward` ran in 0.02 s\n",
      "Operator `forward` ran in 0.02 s\n",
      "Operator `forward` ran in 0.02 s\n",
      "Operator `forward` ran in 0.02 s\n",
      "Operator `forward` ran in 0.02 s\n",
      "Operator `forward` ran in 0.02 s\n",
      "Operator `forward` ran in 0.02 s\n",
      "Operator `forward` ran in 0.02 s\n",
      "Operator `forward` ran in 0.02 s\n",
      "Operator `forward` ran in 0.01 s\n"
     ]
    },
    {
     "name": "stdout",
     "output_type": "stream",
     "text": [
      "(α, misfit) = (0.0010000000149011613, 157.65904235839844)\n",
      "(α, misfit) = "
     ]
    },
    {
     "name": "stderr",
     "output_type": "stream",
     "text": [
      "Operator `forward` ran in 0.03 s\n",
      "Operator `forward` ran in 0.02 s\n",
      "Operator `forward` ran in 0.02 s\n",
      "Operator `forward` ran in 0.02 s\n",
      "Operator `forward` ran in 0.02 s\n",
      "Operator `forward` ran in 0.02 s\n",
      "Operator `forward` ran in 0.02 s\n",
      "Operator `forward` ran in 0.02 s\n",
      "Operator `forward` ran in 0.02 s\n",
      "Operator `forward` ran in 0.01 s\n",
      "Operator `forward` ran in 0.01 s\n",
      "Operator `forward` ran in 0.01 s\n",
      "Operator `forward` ran in 0.01 s\n",
      "Operator `forward` ran in 0.01 s\n",
      "Operator `forward` ran in 0.01 s\n",
      "Operator `forward` ran in 0.01 s\n"
     ]
    },
    {
     "name": "stdout",
     "output_type": "stream",
     "text": [
      "(0.00024293031123929462, 128.11456298828125)\n"
     ]
    },
    {
     "name": "stderr",
     "output_type": "stream",
     "text": [
      "Operator `forward` ran in 0.02 s\n",
      "Operator `forward` ran in 0.02 s\n",
      "Operator `forward` ran in 0.01 s\n",
      "Operator `forward` ran in 0.01 s\n",
      "Operator `forward` ran in 0.01 s\n",
      "Operator `forward` ran in 0.01 s\n",
      "Operator `forward` ran in 0.01 s\n",
      "Operator `forward` ran in 0.01 s\n",
      "Operator `forward` ran in 0.01 s\n",
      "Operator `forward` ran in 0.02 s\n",
      "Operator `forward` ran in 0.02 s\n",
      "Operator `forward` ran in 0.01 s\n",
      "Operator `forward` ran in 0.01 s\n",
      "Operator `forward` ran in 0.01 s\n",
      "Operator `forward` ran in 0.01 s\n",
      "Operator `forward` ran in 0.01 s\n"
     ]
    }
   ],
   "source": [
    "# Main loop\n",
    "for j=1:niterations\n",
    "\n",
    "    # get fwi objective function value and gradient\n",
    "    i = randperm(d_obs.nsrc)[1:batchsize]\n",
    "    fval, gradient = fwi_objective(model0, q[i], d_obs[i])\n",
    "    p = -gradient/norm(gradient, Inf)\n",
    "    \n",
    "    println(\"FWI iteration no: \",j,\"; function value: \",fval)\n",
    "    fhistory_SGD[j] = fval\n",
    "\n",
    "    # linesearch\n",
    "    function ϕ(α)\n",
    "        F0.model.m .= proj(model0.m .+ α * p)\n",
    "        misfit = .5*norm(F0[i]*q[i] - d_obs[i])^2\n",
    "        @show α, misfit\n",
    "        return misfit\n",
    "    end\n",
    "    step, fval = ls(ϕ, 1f-1, fval, dot(gradient, p))\n",
    "\n",
    "    # Update model and bound projection\n",
    "    model0.m .= proj(model0.m .+ step .* p)\n",
    "    m0_values[:, j] = model0.m\n",
    "end"
   ]
  },
  {
   "cell_type": "code",
   "execution_count": 11,
   "metadata": {},
   "outputs": [],
   "source": [
    "fwi = sqrt.(1f0./adjoint(model0.m)).data;\n",
    "v0 = sqrt.(1f0./M[\"m0\"])';\n",
    "v = sqrt.(1f0./model.m)'.data;"
   ]
  },
  {
   "cell_type": "code",
   "execution_count": 23,
   "metadata": {},
   "outputs": [
    {
     "data": {
      "image/png": "[encoded data removed]",
      "text/plain": [
       "Figure(PyObject <Figure size 5400x1200 with 6 Axes>)"
      ]
     },
     "metadata": {},
     "output_type": "display_data"
    }
   ],
   "source": [
    "fig=figure(figsize=(18,4), dpi=300);\n",
    "subplot(131)\n",
    "im = imshow(v, cmap=\"viridis\", extent=[0, (model.n[1]-1)*model.d[1], (model.n[2]-1)*model.d[2], 0], vmin=1.5, vmax=3.0)\n",
    "cb = colorbar(im, ticks=unique(v), pad=0.01)\n",
    "cb[:set_label](label = L\"$V_p [km/s]$\")\n",
    "xlabel(L\"Posición horizontal $[m]$\")\n",
    "ylabel(L\"Profundidad $[m]$\")\n",
    "title(L\"Modelo real $\\mathbf{m}$\")\n",
    "subplot(132)\n",
    "im = imshow(v0, cmap=\"viridis\", extent=[0, (model.n[1]-1)*model.d[1], (model.n[2]-1)*model.d[2], 0], vmin=1.5, vmax=3.0)\n",
    "cb = colorbar(im, ticks=unique(v), pad=0.01)\n",
    "cb[:set_label](label = L\"$V_p [km/s]$\")\n",
    "xlabel(L\"Posición horizontal $[m]$\")\n",
    "ylabel(L\"Profundidad $[m]$\")\n",
    "title(\"FWI bajas frecuencias\")\n",
    "subplot(133)\n",
    "im = imshow(fwi, cmap=\"viridis\", extent=[0, (model.n[1]-1)*model.d[1], (model.n[2]-1)*model.d[2], 0], vmin=1.5, vmax=3.0)\n",
    "cb = colorbar(im, ticks=unique(v), pad=0.01)\n",
    "cb[:set_label](label = L\"$V_p [km/s]$\")\n",
    "xlabel(L\"Posición horizontal $[m]$\")\n",
    "ylabel(L\"Profundidad $[m]$\")\n",
    "title(\"FWI altas frecuencias\")\n",
    "display(fig)"
   ]
  },
  {
   "cell_type": "code",
   "execution_count": 18,
   "metadata": {},
   "outputs": [
    {
     "name": "stdout",
     "output_type": "stream",
     "text": [
      "El error cuadrático medio del modelo inicial es: 0.010867073\n",
      "El error cuadrático medio de FWI es: 0.0050896695\n"
     ]
    }
   ],
   "source": [
    "mse = sum((v .- v0).^2) / length(v)\n",
    "println(\"El error cuadrático medio del modelo inicial es: \", mse)\n",
    "mse = sum((v .- fwi).^2) / length(v)\n",
    "println(\"El error cuadrático medio de FWI es: \", mse)"
   ]
  },
  {
   "cell_type": "code",
   "execution_count": 19,
   "metadata": {},
   "outputs": [
    {
     "name": "stdout",
     "output_type": "stream",
     "text": [
      "Porcentaje de error (v0): 2.2057493\n",
      "Porcentaje de error (FWI): 1.5428457\n"
     ]
    }
   ],
   "source": [
    "error_porcentaje_v0 = 100 * sum(abs.(v - v0)) / sum(abs.(v))\n",
    "error_porcentaje_fwi = 100 * sum(abs.(v - fwi)) / sum(abs.(v))\n",
    "\n",
    "println(\"Porcentaje de error (v0): \", error_porcentaje_v0)\n",
    "println(\"Porcentaje de error (FWI): \", error_porcentaje_fwi)"
   ]
  },
  {
   "cell_type": "code",
   "execution_count": 20,
   "metadata": {},
   "outputs": [
    {
     "data": {
      "image/png": "[encoded data removed]",
      "text/plain": [
       "Figure(PyObject <Figure size 640x480 with 2 Axes>)"
      ]
     },
     "metadata": {},
     "output_type": "display_data"
    }
   ],
   "source": [
    "difs = v-fwi\n",
    "fig=figure() #figsize=(20, 5)\n",
    "im = imshow(difs, cmap=\"viridis\", extent=[0, (model.n[1]-1)*model.d[1], (model.n[2]-1)*model.d[2], 0], vmin=-0.5, vmax=0.5)\n",
    "cb = colorbar(im)\n",
    "cb[:set_label](label = \"Error\")\n",
    "xlabel(L\"Posición horizontal $[m]$\")\n",
    "ylabel(L\"Profundidad $[m]$\")\n",
    "title(\"Error relativa\")\n",
    "display(fig)"
   ]
  },
  {
   "cell_type": "code",
   "execution_count": 21,
   "metadata": {},
   "outputs": [
    {
     "data": {
      "image/png": "[encoded data removed]",
      "text/plain": [
       "Figure(PyObject <Figure size 1920x1440 with 1 Axes>)"
      ]
     },
     "metadata": {},
     "output_type": "display_data"
    }
   ],
   "source": [
    "fig=figure(dpi=300) #figsize=(20, 5)\n",
    "xax = 1:1:30\n",
    "plot(xax, fhistory_SGD)\n",
    "xlabel(\"Número de iteraciones\")\n",
    "ylabel(\"Valor de desajuste\")\n",
    "title(\"Convergencia\")\n",
    "display(fig)"
   ]
  },
  {
   "cell_type": "code",
   "execution_count": 24,
   "metadata": {},
   "outputs": [],
   "source": [
    "save(\"model_custom_fwi_result_high_f.jld\", \"n\", M[\"n\"], \"d\", M[\"d\"], \"o\", M[\"o\"], \"m\", M[\"m\"], \"m0\", model0.m.data, \"dm\", dm)"
   ]
  }
 ],
 "metadata": {
  "kernelspec": {
   "display_name": "Julia 1.9.0",
   "language": "julia",
   "name": "julia-1.9"
  },
  "language_info": {
   "file_extension": ".jl",
   "mimetype": "application/julia",
   "name": "julia",
   "version": "1.9.0"
  },
  "orig_nbformat": 4
 },
 "nbformat": 4,
 "nbformat_minor": 2
}
