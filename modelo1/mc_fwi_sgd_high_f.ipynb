{
 "cells": [
  {
   "attachments": {},
   "cell_type": "markdown",
   "metadata": {},
   "source": [
    "# FWI modelo personalizado"
   ]
  },
  {
   "cell_type": "code",
   "execution_count": 1,
   "metadata": {},
   "outputs": [
    {
     "name": "stderr",
     "output_type": "stream",
     "text": [
      "┌ Info: Initializing openacc/openmp offloading\n",
      "└ @ JUDI /home/geopc3/.julia/packages/JUDI/DUfUj/src/JUDI.jl:123\n"
     ]
    }
   ],
   "source": [
    "using PyPlot, JLD, SegyIO, JUDI, SlimOptim, Statistics, Random, LinearAlgebra, ImageFiltering, Dates, DelimitedFiles"
   ]
  },
  {
   "cell_type": "code",
   "execution_count": 2,
   "metadata": {},
   "outputs": [],
   "source": [
    "M = load(\"model_custom_fwi_result_low_f.jld\");"
   ]
  },
  {
   "cell_type": "code",
   "execution_count": 3,
   "metadata": {},
   "outputs": [],
   "source": [
    "model = Model(M[\"n\"], M[\"d\"], M[\"o\"], M[\"m\"])\n",
    "model0 = Model(M[\"n\"], M[\"d\"], M[\"o\"], M[\"m0\"])\n",
    "dm = vec(M[\"dm\"]);"
   ]
  },
  {
   "cell_type": "code",
   "execution_count": 4,
   "metadata": {},
   "outputs": [],
   "source": [
    "vmin = ones(Float32,model0.n) .* 1.5f0\n",
    "vmax = ones(Float32,model0.n) .* 3.0f0;\n",
    "mmin = vec((1f0 ./ vmax).^2)\n",
    "mmax = vec((1f0 ./ vmin).^2);"
   ]
  },
  {
   "cell_type": "code",
   "execution_count": 5,
   "metadata": {},
   "outputs": [
    {
     "name": "stderr",
     "output_type": "stream",
     "text": [
      "┌ Warning: Fixed length trace flag set in stream: IOBuffer(data=UInt8[...], readable=true, writable=false, seekable=true, append=false, size=4763124, maxsize=Inf, ptr=3601, mark=-1)\n",
      "└ @ SegyIO /home/geopc3/.julia/packages/SegyIO/aQwou/src/read/read_file.jl:36\n"
     ]
    }
   ],
   "source": [
    "block = segy_read(\"model_custom_high_f.segy\")\n",
    "d_obs = judiVector(block);"
   ]
  },
  {
   "cell_type": "code",
   "execution_count": 6,
   "metadata": {},
   "outputs": [
    {
     "name": "stdout",
     "output_type": "stream",
     "text": [
      "judiVector{Float32, Matrix{Float32}} with 21 sources\n"
     ]
    }
   ],
   "source": [
    "# Set up wavelet\n",
    "srcGeometry = Geometry(block; key=\"source\")\t# read source position geometry\n",
    "wavelet = ricker_wavelet(srcGeometry.t[1], srcGeometry.dt[1], 0.015f0)\t# 4 Hz wavelet\n",
    "q = judiVector(srcGeometry, wavelet)"
   ]
  },
  {
   "cell_type": "code",
   "execution_count": 7,
   "metadata": {},
   "outputs": [
    {
     "name": "stdout",
     "output_type": "stream",
     "text": [
      "JUDI forward{Float32} propagator (src * rec * time) -> (src * rec * time)\n"
     ]
    }
   ],
   "source": [
    "F0 = judiModeling(deepcopy(model0), srcGeometry, d_obs.geometry)"
   ]
  },
  {
   "cell_type": "code",
   "execution_count": 8,
   "metadata": {},
   "outputs": [],
   "source": [
    "# Optimization parameters\n",
    "niterations = parse(Int, get(ENV, \"NITER\", \"30\"))\n",
    "batchsize = 16\n",
    "fhistory_SGD = zeros(Float32, niterations);\n",
    "m0_values = zeros(length(model0.m), niterations);"
   ]
  },
  {
   "cell_type": "code",
   "execution_count": 9,
   "metadata": {},
   "outputs": [],
   "source": [
    "# Projection operator for bound constraints\n",
    "proj(x) = reshape(median([vec(mmin) vec(x) vec(mmax)]; dims=2),model0.n)\n",
    "ls = BackTracking(order=3, iterations=10, );"
   ]
  },
  {
   "cell_type": "code",
   "execution_count": 10,
   "metadata": {},
   "outputs": [
    {
     "name": "stderr",
     "output_type": "stream",
     "text": [
      "Building forward operator\n",
      "TimeFunction [u(time, x, y)] assumed to fit the GPU memory\n",
      "TimeFunction [u(time, x, y)] assumed to fit the GPU memory\n",
      "TimeFunction [u(time, x, y)] assumed to fit the GPU memory\n",
      "TimeFunction [u(time, x, y)] assumed to fit the GPU memory\n",
      "TimeFunction [u(time, x, y)] assumed to fit the GPU memory\n",
      "TimeFunction [u(time, x, y)] assumed to fit the GPU memory\n",
      "TimeFunction [u(time, x, y)] assumed to fit the GPU memory\n",
      "TimeFunction [u(time, x, y)] assumed to fit the GPU memory\n",
      "TimeFunction [u(time, x, y)] assumed to fit the GPU memory\n",
      "TimeFunction [u(time, x, y)] assumed to fit the GPU memory\n",
      "TimeFunction [u(time, x, y)] assumed to fit the GPU memory\n",
      "TimeFunction [u(time, x, y)] assumed to fit the GPU memory\n",
      "TimeFunction [u(time, x, y)] assumed to fit the GPU memory\n",
      "TimeFunction [u(time, x, y)] assumed to fit the GPU memory\n",
      "TimeFunction [u(time, x, y)] assumed to fit the GPU memory\n",
      "TimeFunction [u(time, x, y)] assumed to fit the GPU memory\n",
      "TimeFunction [u(time, x, y)] assumed to fit the GPU memory\n",
      "TimeFunction [u(time, x, y)] assumed to fit the GPU memory\n",
      "TimeFunction [u(time, x, y)] assumed to fit the GPU memory\n",
      "TimeFunction [u(time, x, y)] assumed to fit the GPU memory\n",
      "TimeFunction [u(time, x, y)] assumed to fit the GPU memory\n",
      "TimeFunction [u(time, x, y)] assumed to fit the GPU memory\n",
      "TimeFunction [u(time, x, y)] assumed to fit the GPU memory\n",
      "TimeFunction [u(time, x, y)] assumed to fit the GPU memory\n",
      "TimeFunction [u(time, x, y)] assumed to fit the GPU memory\n",
      "TimeFunction [u(time, x, y)] assumed to fit the GPU memory\n",
      "TimeFunction [u(time, x, y)] assumed to fit the GPU memory\n",
      "TimeFunction [u(time, x, y)] assumed to fit the GPU memory\n",
      "TimeFunction [u(time, x, y)] assumed to fit the GPU memory\n",
      "TimeFunction [u(time, x, y)] assumed to fit the GPU memory\n",
      "TimeFunction [u(time, x, y)] assumed to fit the GPU memory\n",
      "TimeFunction [u(time, x, y)] assumed to fit the GPU memory\n",
      "TimeFunction [u(time, x, y)] assumed to fit the GPU memory\n",
      "TimeFunction [u(time, x, y)] assumed to fit the GPU memory\n",
      "TimeFunction [u(time, x, y)] assumed to fit the GPU memory\n",
      "TimeFunction [u(time, x, y)] assumed to fit the GPU memory\n",
      "TimeFunction [u(time, x, y)] assumed to fit the GPU memory\n",
      "TimeFunction [u(time, x, y)] assumed to fit the GPU memory\n",
      "TimeFunction [u(time, x, y)] assumed to fit the GPU memory\n",
      "TimeFunction [u(time, x, y)] assumed to fit the GPU memory\n",
      "TimeFunction [u(time, x, y)] assumed to fit the GPU memory\n",
      "TimeFunction [u(time, x, y)] assumed to fit the GPU memory\n",
      "TimeFunction [u(time, x, y)] assumed to fit the GPU memory\n",
      "TimeFunction [u(time, x, y)] assumed to fit the GPU memory\n",
      "TimeFunction [u(time, x, y)] assumed to fit the GPU memory\n",
      "TimeFunction [u(time, x, y)] assumed to fit the GPU memory\n",
      "TimeFunction [u(time, x, y)] assumed to fit the GPU memory\n",
      "TimeFunction [u(time, x, y)] assumed to fit the GPU memory\n",
      "TimeFunction [u(time, x, y)] assumed to fit the GPU memory\n",
      "TimeFunction [u(time, x, y)] assumed to fit the GPU memory\n",
      "TimeFunction [u(time, x, y)] assumed to fit the GPU memory\n",
      "TimeFunction [u(time, x, y)] assumed to fit the GPU memory\n",
      "TimeFunction [u(time, x, y)] assumed to fit the GPU memory\n",
      "TimeFunction [u(time, x, y)] assumed to fit the GPU memory\n",
      "TimeFunction [u(time, x, y)] assumed to fit the GPU memory\n",
      "TimeFunction [u(time, x, y)] assumed to fit the GPU memory\n",
      "TimeFunction [u(time, x, y)] assumed to fit the GPU memory\n",
      "TimeFunction [u(time, x, y)] assumed to fit the GPU memory\n",
      "TimeFunction [u(time, x, y)] assumed to fit the GPU memory\n",
      "TimeFunction [u(time, x, y)] assumed to fit the GPU memory\n",
      "TimeFunction [u(time, x, y)] assumed to fit the GPU memory\n",
      "TimeFunction [u(time, x, y)] assumed to fit the GPU memory\n",
      "TimeFunction [u(time, x, y)] assumed to fit the GPU memory\n",
      "TimeFunction [u(time, x, y)] assumed to fit the GPU memory\n",
      "TimeFunction [u(time, x, y)] assumed to fit the GPU memory\n",
      "TimeFunction [u(time, x, y)] assumed to fit the GPU memory\n",
      "TimeFunction [u(time, x, y)] assumed to fit the GPU memory\n",
      "TimeFunction [u(time, x, y)] assumed to fit the GPU memory\n",
      "TimeFunction [u(time, x, y)] assumed to fit the GPU memory\n",
      "TimeFunction [u(time, x, y)] assumed to fit the GPU memory\n",
      "TimeFunction [u(time, x, y)] assumed to fit the GPU memory\n",
      "TimeFunction [u(time, x, y)] assumed to fit the GPU memory\n",
      "TimeFunction [u(time, x, y)] assumed to fit the GPU memory\n",
      "TimeFunction [u(time, x, y)] assumed to fit the GPU memory\n",
      "TimeFunction [u(time, x, y)] assumed to fit the GPU memory\n",
      "TimeFunction [u(time, x, y)] assumed to fit the GPU memory\n",
      "TimeFunction [u(time, x, y)] assumed to fit the GPU memory\n",
      "TimeFunction [u(time, x, y)] assumed to fit the GPU memory\n",
      "TimeFunction [u(time, x, y)] assumed to fit the GPU memory\n",
      "TimeFunction [u(time, x, y)] assumed to fit the GPU memory\n",
      "TimeFunction [u(time, x, y)] assumed to fit the GPU memory\n",
      "TimeFunction [u(time, x, y)] assumed to fit the GPU memory\n",
      "TimeFunction [u(time, x, y)] assumed to fit the GPU memory\n",
      "TimeFunction [u(time, x, y)] assumed to fit the GPU memory\n",
      "TimeFunction [u(time, x, y)] assumed to fit the GPU memory\n",
      "TimeFunction [u(time, x, y)] assumed to fit the GPU memory\n",
      "TimeFunction [u(time, x, y)] assumed to fit the GPU memory\n",
      "TimeFunction [u(time, x, y)] assumed to fit the GPU memory\n",
      "TimeFunction [u(time, x, y)] assumed to fit the GPU memory\n",
      "TimeFunction [u(time, x, y)] assumed to fit the GPU memory\n",
      "TimeFunction [u(time, x, y)] assumed to fit the GPU memory\n",
      "TimeFunction [u(time, x, y)] assumed to fit the GPU memory\n",
      "TimeFunction [u(time, x, y)] assumed to fit the GPU memory\n",
      "TimeFunction [u(time, x, y)] assumed to fit the GPU memory\n",
      "TimeFunction [u(time, x, y)] assumed to fit the GPU memory\n",
      "TimeFunction [u(time, x, y)] assumed to fit the GPU memory\n",
      "TimeFunction [u(time, x, y)] assumed to fit the GPU memory\n",
      "TimeFunction [u(time, x, y)] assumed to fit the GPU memory\n",
      "TimeFunction [u(time, x, y)] assumed to fit the GPU memory\n",
      "TimeFunction [u(time, x, y)] assumed to fit the GPU memory\n",
      "TimeFunction [u(time, x, y)] assumed to fit the GPU memory\n",
      "TimeFunction [u(time, x, y)] assumed to fit the GPU memory\n",
      "TimeFunction [u(time, x, y)] assumed to fit the GPU memory\n",
      "TimeFunction [u(time, x, y)] assumed to fit the GPU memory\n",
      "TimeFunction [u(time, x, y)] assumed to fit the GPU memory\n",
      "TimeFunction [u(time, x, y)] assumed to fit the GPU memory\n",
      "TimeFunction [u(time, x, y)] assumed to fit the GPU memory\n",
      "TimeFunction [u(time, x, y)] assumed to fit the GPU memory\n",
      "TimeFunction [u(time, x, y)] assumed to fit the GPU memory\n",
      "TimeFunction [u(time, x, y)] assumed to fit the GPU memory\n",
      "TimeFunction [u(time, x, y)] assumed to fit the GPU memory\n",
      "TimeFunction [u(time, x, y)] assumed to fit the GPU memory\n",
      "TimeFunction [u(time, x, y)] assumed to fit the GPU memory\n",
      "TimeFunction [u(time, x, y)] assumed to fit the GPU memory\n",
      "TimeFunction [u(time, x, y)] assumed to fit the GPU memory\n",
      "TimeFunction [u(time, x, y)] assumed to fit the GPU memory\n",
      "TimeFunction [u(time, x, y)] assumed to fit the GPU memory\n",
      "TimeFunction [u(time, x, y)] assumed to fit the GPU memory\n",
      "TimeFunction [u(time, x, y)] assumed to fit the GPU memory\n",
      "TimeFunction [u(time, x, y)] assumed to fit the GPU memory\n",
      "TimeFunction [u(time, x, y)] assumed to fit the GPU memory\n",
      "TimeFunction [u(time, x, y)] assumed to fit the GPU memory\n",
      "TimeFunction [u(time, x, y)] assumed to fit the GPU memory\n",
      "TimeFunction [u(time, x, y)] assumed to fit the GPU memory\n",
      "TimeFunction [u(time, x, y)] assumed to fit the GPU memory\n",
      "TimeFunction [u(time, x, y)] assumed to fit the GPU memory\n",
      "TimeFunction [u(time, x, y)] assumed to fit the GPU memory\n",
      "TimeFunction [u(time, x, y)] assumed to fit the GPU memory\n",
      "TimeFunction [u(time, x, y)] assumed to fit the GPU memory\n",
      "TimeFunction [u(time, x, y)] assumed to fit the GPU memory\n",
      "TimeFunction [u(time, x, y)] assumed to fit the GPU memory\n",
      "TimeFunction [u(time, x, y)] assumed to fit the GPU memory\n",
      "TimeFunction [u(time, x, y)] assumed to fit the GPU memory\n",
      "TimeFunction [u(time, x, y)] assumed to fit the GPU memory\n",
      "TimeFunction [u(time, x, y)] assumed to fit the GPU memory\n",
      "TimeFunction [u(time, x, y)] assumed to fit the GPU memory\n",
      "TimeFunction [u(time, x, y)] assumed to fit the GPU memory\n",
      "TimeFunction [u(time, x, y)] assumed to fit the GPU memory\n",
      "TimeFunction [u(time, x, y)] assumed to fit the GPU memory\n",
      "TimeFunction [u(time, x, y)] assumed to fit the GPU memory\n",
      "TimeFunction [u(time, x, y)] assumed to fit the GPU memory\n",
      "TimeFunction [u(time, x, y)] assumed to fit the GPU memory\n",
      "TimeFunction [u(time, x, y)] assumed to fit the GPU memory\n",
      "TimeFunction [u(time, x, y)] assumed to fit the GPU memory\n",
      "TimeFunction [u(time, x, y)] assumed to fit the GPU memory\n",
      "TimeFunction [u(time, x, y)] assumed to fit the GPU memory\n",
      "TimeFunction [u(time, x, y)] assumed to fit the GPU memory\n",
      "TimeFunction [u(time, x, y)] assumed to fit the GPU memory\n",
      "TimeFunction [u(time, x, y)] assumed to fit the GPU memory\n",
      "TimeFunction [u(time, x, y)] assumed to fit the GPU memory\n",
      "TimeFunction [u(time, x, y)] assumed to fit the GPU memory\n",
      "TimeFunction [u(time, x, y)] assumed to fit the GPU memory\n",
      "TimeFunction [u(time, x, y)] assumed to fit the GPU memory\n",
      "TimeFunction [u(time, x, y)] assumed to fit the GPU memory\n",
      "TimeFunction [u(time, x, y)] assumed to fit the GPU memory\n",
      "TimeFunction [u(time, x, y)] assumed to fit the GPU memory\n",
      "TimeFunction [u(time, x, y)] assumed to fit the GPU memory\n",
      "TimeFunction [u(time, x, y)] assumed to fit the GPU memory\n",
      "TimeFunction [u(time, x, y)] assumed to fit the GPU memory\n",
      "TimeFunction [u(time, x, y)] assumed to fit the GPU memory\n",
      "TimeFunction [u(time, x, y)] assumed to fit the GPU memory\n",
      "TimeFunction [u(time, x, y)] assumed to fit the GPU memory\n",
      "TimeFunction [u(time, x, y)] assumed to fit the GPU memory\n",
      "TimeFunction [u(time, x, y)] assumed to fit the GPU memory\n",
      "TimeFunction [u(time, x, y)] assumed to fit the GPU memory\n",
      "TimeFunction [u(time, x, y)] assumed to fit the GPU memory\n",
      "TimeFunction [u(time, x, y)] assumed to fit the GPU memory\n",
      "TimeFunction [u(time, x, y)] assumed to fit the GPU memory\n",
      "TimeFunction [u(time, x, y)] assumed to fit the GPU memory\n",
      "TimeFunction [u(time, x, y)] assumed to fit the GPU memory\n",
      "TimeFunction [u(time, x, y)] assumed to fit the GPU memory\n",
      "TimeFunction [u(time, x, y)] assumed to fit the GPU memory\n",
      "TimeFunction [u(time, x, y)] assumed to fit the GPU memory\n",
      "TimeFunction [u(time, x, y)] assumed to fit the GPU memory\n",
      "TimeFunction [u(time, x, y)] assumed to fit the GPU memory\n",
      "TimeFunction [u(time, x, y)] assumed to fit the GPU memory\n",
      "TimeFunction [u(time, x, y)] assumed to fit the GPU memory\n",
      "TimeFunction [u(time, x, y)] assumed to fit the GPU memory\n",
      "TimeFunction [u(time, x, y)] assumed to fit the GPU memory\n",
      "TimeFunction [u(time, x, y)] assumed to fit the GPU memory\n",
      "TimeFunction [u(time, x, y)] assumed to fit the GPU memory\n",
      "TimeFunction [u(time, x, y)] assumed to fit the GPU memory\n",
      "TimeFunction [u(time, x, y)] assumed to fit the GPU memory\n",
      "TimeFunction [u(time, x, y)] assumed to fit the GPU memory\n",
      "TimeFunction [u(time, x, y)] assumed to fit the GPU memory\n",
      "TimeFunction [u(time, x, y)] assumed to fit the GPU memory\n",
      "TimeFunction [u(time, x, y)] assumed to fit the GPU memory\n",
      "TimeFunction [u(time, x, y)] assumed to fit the GPU memory\n",
      "TimeFunction [u(time, x, y)] assumed to fit the GPU memory\n",
      "TimeFunction [u(time, x, y)] assumed to fit the GPU memory\n",
      "TimeFunction [u(time, x, y)] assumed to fit the GPU memory\n",
      "TimeFunction [u(time, x, y)] assumed to fit the GPU memory\n",
      "TimeFunction [u(time, x, y)] assumed to fit the GPU memory\n",
      "TimeFunction [u(time, x, y)] assumed to fit the GPU memory\n",
      "TimeFunction [u(time, x, y)] assumed to fit the GPU memory\n",
      "TimeFunction [u(time, x, y)] assumed to fit the GPU memory\n",
      "TimeFunction [u(time, x, y)] assumed to fit the GPU memory\n",
      "TimeFunction [u(time, x, y)] assumed to fit the GPU memory\n",
      "TimeFunction [u(time, x, y)] assumed to fit the GPU memory\n",
      "TimeFunction [u(time, x, y)] assumed to fit the GPU memory\n",
      "TimeFunction [u(time, x, y)] assumed to fit the GPU memory\n",
      "TimeFunction [u(time, x, y)] assumed to fit the GPU memory\n",
      "TimeFunction [u(time, x, y)] assumed to fit the GPU memory\n",
      "TimeFunction [u(time, x, y)] assumed to fit the GPU memory\n",
      "TimeFunction [u(time, x, y)] assumed to fit the GPU memory\n",
      "TimeFunction [u(time, x, y)] assumed to fit the GPU memory\n",
      "TimeFunction [u(time, x, y)] assumed to fit the GPU memory\n",
      "TimeFunction [u(time, x, y)] assumed to fit the GPU memory\n",
      "TimeFunction [u(time, x, y)] assumed to fit the GPU memory\n",
      "TimeFunction [u(time, x, y)] assumed to fit the GPU memory\n",
      "TimeFunction [u(time, x, y)] assumed to fit the GPU memory\n",
      "TimeFunction [u(time, x, y)] assumed to fit the GPU memory\n",
      "TimeFunction [u(time, x, y)] assumed to fit the GPU memory\n",
      "TimeFunction [u(time, x, y)] assumed to fit the GPU memory\n",
      "TimeFunction [u(time, x, y)] assumed to fit the GPU memory\n",
      "TimeFunction [u(time, x, y)] assumed to fit the GPU memory\n",
      "TimeFunction [u(time, x, y)] assumed to fit the GPU memory\n",
      "TimeFunction [u(time, x, y)] assumed to fit the GPU memory\n",
      "TimeFunction [u(time, x, y)] assumed to fit the GPU memory\n",
      "TimeFunction [u(time, x, y)] assumed to fit the GPU memory\n",
      "TimeFunction [u(time, x, y)] assumed to fit the GPU memory\n",
      "TimeFunction [u(time, x, y)] assumed to fit the GPU memory\n",
      "TimeFunction [u(time, x, y)] assumed to fit the GPU memory\n",
      "Operator `forward` ran in 0.14 s\n",
      "Building adjoint born operator\n",
      "TimeFunction [u(time, x, y)] assumed to fit the GPU memory\n",
      "TimeFunction [u(time, x, y)] assumed to fit the GPU memory\n",
      "TimeFunction [u(time, x, y)] assumed to fit the GPU memory\n",
      "TimeFunction [u(time, x, y)] assumed to fit the GPU memory\n",
      "TimeFunction [u(time, x, y)] assumed to fit the GPU memory\n",
      "TimeFunction [u(time, x, y)] assumed to fit the GPU memory\n",
      "TimeFunction [u(time, x, y)] assumed to fit the GPU memory\n",
      "TimeFunction [u(time, x, y)] assumed to fit the GPU memory\n",
      "TimeFunction [u(time, x, y)] assumed to fit the GPU memory\n",
      "TimeFunction [u(time, x, y)] assumed to fit the GPU memory\n",
      "Operator `gradient` ran in 0.13 s\n",
      "Operator `forward` ran in 0.15 s\n",
      "Operator `gradient` ran in 0.14 s\n",
      "Operator `forward` ran in 0.17 s\n",
      "Operator `gradient` ran in 0.16 s\n",
      "Operator `forward` ran in 0.17 s\n",
      "Operator `gradient` ran in 0.16 s\n",
      "Operator `forward` ran in 0.17 s\n",
      "Operator `gradient` ran in 0.19 s\n",
      "Operator `forward` ran in 0.18 s\n",
      "Operator `gradient` ran in 0.17 s\n",
      "Operator `forward` ran in 0.17 s\n",
      "Operator `gradient` ran in 0.17 s\n",
      "Operator `forward` ran in 0.17 s\n",
      "Operator `gradient` ran in 0.16 s\n",
      "Operator `forward` ran in 0.16 s\n",
      "Operator `gradient` ran in 0.16 s\n",
      "Operator `forward` ran in 0.16 s\n",
      "Operator `gradient` ran in 0.15 s\n",
      "Operator `forward` ran in 0.16 s\n",
      "Operator `gradient` ran in 0.15 s\n",
      "Operator `forward` ran in 0.16 s\n",
      "Operator `gradient` ran in 0.16 s\n",
      "Operator `forward` ran in 0.17 s\n",
      "Operator `gradient` ran in 0.16 s\n",
      "Operator `forward` ran in 0.16 s\n",
      "Operator `gradient` ran in 0.16 s\n",
      "Operator `forward` ran in 0.18 s\n",
      "Operator `gradient` ran in 0.17 s\n",
      "Operator `forward` ran in 0.15 s\n",
      "Operator `gradient` ran in 0.13 s\n"
     ]
    },
    {
     "name": "stdout",
     "output_type": "stream",
     "text": [
      "FWI iteration no: 1; function value: 6344.089\n",
      "(α, misfit) = "
     ]
    },
    {
     "name": "stdout",
     "output_type": "stream",
     "text": [
      "(0.1f0, 5889.142578125)\n"
     ]
    },
    {
     "name": "stderr",
     "output_type": "stream",
     "text": [
      "Building forward operator\n",
      "Operator `forward` ran in 0.21 s\n",
      "Operator `forward` ran in 0.13 s\n",
      "Operator `forward` ran in 0.11 s\n",
      "Operator `forward` ran in 0.11 s\n",
      "Operator `forward` ran in 0.13 s\n",
      "Operator `forward` ran in 0.11 s\n",
      "Operator `forward` ran in 0.11 s\n",
      "Operator `forward` ran in 0.13 s\n",
      "Operator `forward` ran in 0.12 s\n",
      "Operator `forward` ran in 0.12 s\n",
      "Operator `forward` ran in 0.11 s\n",
      "Operator `forward` ran in 0.11 s\n",
      "Operator `forward` ran in 0.11 s\n",
      "Operator `forward` ran in 0.11 s\n",
      "Operator `forward` ran in 0.11 s\n",
      "Operator `forward` ran in 0.12 s\n"
     ]
    },
    {
     "name": "stdout",
     "output_type": "stream",
     "text": [
      "FWI iteration no: 2; function value: 5454.4053\n",
      "(α, misfit) = "
     ]
    },
    {
     "name": "stderr",
     "output_type": "stream",
     "text": [
      "Operator `forward` ran in 0.13 s\n",
      "Operator `gradient` ran in 0.12 s\n",
      "Operator `forward` ran in 0.13 s\n",
      "Operator `gradient` ran in 0.12 s\n",
      "Operator `forward` ran in 0.14 s\n",
      "Operator `gradient` ran in 0.14 s\n",
      "Operator `forward` ran in 0.15 s\n",
      "Operator `gradient` ran in 0.16 s\n",
      "Operator `forward` ran in 0.16 s\n",
      "Operator `gradient` ran in 0.15 s\n",
      "Operator `forward` ran in 0.14 s\n",
      "Operator `gradient` ran in 0.13 s\n",
      "Operator `forward` ran in 0.15 s\n",
      "Operator `gradient` ran in 0.14 s\n",
      "Operator `forward` ran in 0.15 s\n",
      "Operator `gradient` ran in 0.14 s\n",
      "Operator `forward` ran in 0.15 s\n",
      "Operator `gradient` ran in 0.14 s\n",
      "Operator `forward` ran in 0.16 s\n",
      "Operator `gradient` ran in 0.19 s\n",
      "Operator `forward` ran in 0.17 s\n",
      "Operator `gradient` ran in 0.15 s\n",
      "Operator `forward` ran in 0.16 s\n",
      "Operator `gradient` ran in 0.15 s\n",
      "Operator `forward` ran in 0.17 s\n",
      "Operator `gradient` ran in 0.19 s\n",
      "Operator `forward` ran in 0.22 s\n",
      "Operator `gradient` ran in 0.22 s\n",
      "Operator `forward` ran in 0.17 s\n",
      "Operator `gradient` ran in 0.16 s\n",
      "Operator `forward` ran in 0.19 s\n",
      "Operator `gradient` ran in 0.13 s\n"
     ]
    },
    {
     "name": "stdout",
     "output_type": "stream",
     "text": [
      "(0.1f0, 5994.33740234375)\n"
     ]
    },
    {
     "name": "stderr",
     "output_type": "stream",
     "text": [
      "Operator `forward` ran in 0.14 s\n",
      "Operator `forward` ran in 0.14 s\n",
      "Operator `forward` ran in 0.14 s\n",
      "Operator `forward` ran in 0.16 s\n",
      "Operator `forward` ran in 0.15 s\n",
      "Operator `forward` ran in 0.12 s\n",
      "Operator `forward` ran in 0.18 s\n",
      "Operator `forward` ran in 0.17 s\n",
      "Operator `forward` ran in 0.17 s\n",
      "Operator `forward` ran in 0.16 s\n",
      "Operator `forward` ran in 0.13 s\n",
      "Operator `forward` ran in 0.19 s\n",
      "Operator `forward` ran in 0.18 s\n",
      "Operator `forward` ran in 0.18 s\n",
      "Operator `forward` ran in 0.19 s\n",
      "Operator `forward` ran in 0.17 s\n"
     ]
    },
    {
     "name": "stdout",
     "output_type": "stream",
     "text": [
      "(α, misfit) = (0.04919037275322525, 1527.7108154296875)\n",
      "FWI iteration no: "
     ]
    },
    {
     "name": "stderr",
     "output_type": "stream",
     "text": [
      "Operator `forward` ran in 0.17 s\n",
      "Operator `forward` ran in 0.18 s\n",
      "Operator `forward` ran in 0.17 s\n",
      "Operator `forward` ran in 0.18 s\n",
      "Operator `forward` ran in 0.17 s\n",
      "Operator `forward` ran in 0.18 s\n",
      "Operator `forward` ran in 0.17 s\n",
      "Operator `forward` ran in 0.17 s\n",
      "Operator `forward` ran in 0.17 s\n",
      "Operator `forward` ran in 0.17 s\n",
      "Operator `forward` ran in 0.17 s\n",
      "Operator `forward` ran in 0.17 s\n",
      "Operator `forward` ran in 0.17 s\n",
      "Operator `forward` ran in 0.17 s\n",
      "Operator `forward` ran in 0.17 s\n",
      "Operator `forward` ran in 0.17 s\n"
     ]
    },
    {
     "name": "stdout",
     "output_type": "stream",
     "text": [
      "3; function value: 1561.801\n"
     ]
    },
    {
     "name": "stderr",
     "output_type": "stream",
     "text": [
      "Operator `forward` ran in 0.18 s\n",
      "Operator `gradient` ran in 0.17 s\n",
      "Operator `forward` ran in 0.18 s\n",
      "Operator `gradient` ran in 0.17 s\n",
      "Operator `forward` ran in 0.18 s\n",
      "Operator `gradient` ran in 0.16 s\n",
      "Operator `forward` ran in 0.17 s\n",
      "Operator `gradient` ran in 0.16 s\n",
      "Operator `forward` ran in 0.17 s\n",
      "Operator `gradient` ran in 0.16 s\n",
      "Operator `forward` ran in 0.17 s\n",
      "Operator `gradient` ran in 0.16 s\n",
      "Operator `forward` ran in 0.17 s\n",
      "Operator `gradient` ran in 0.16 s\n",
      "Operator `forward` ran in 0.17 s\n",
      "Operator `gradient` ran in 0.16 s\n",
      "Operator `forward` ran in 0.17 s\n",
      "Operator `gradient` ran in 0.16 s\n",
      "Operator `forward` ran in 0.17 s\n",
      "Operator `gradient` ran in 0.16 s\n",
      "Operator `forward` ran in 0.17 s\n",
      "Operator `gradient` ran in 0.16 s\n",
      "Operator `forward` ran in 0.17 s\n",
      "Operator `gradient` ran in 0.16 s\n",
      "Operator `forward` ran in 0.17 s\n",
      "Operator `gradient` ran in 0.16 s\n",
      "Operator `forward` ran in 0.17 s\n",
      "Operator `gradient` ran in 0.16 s\n",
      "Operator `forward` ran in 0.17 s\n",
      "Operator `gradient` ran in 0.16 s\n",
      "Operator `forward` ran in 0.17 s\n",
      "Operator `gradient` ran in 0.17 s\n"
     ]
    },
    {
     "name": "stdout",
     "output_type": "stream",
     "text": [
      "(α, misfit) = (0.1f0, 36057.1484375)\n",
      "(α, misfit) = "
     ]
    },
    {
     "name": "stderr",
     "output_type": "stream",
     "text": [
      "Operator `forward` ran in 0.16 s\n",
      "Operator `forward` ran in 0.16 s\n",
      "Operator `forward` ran in 0.16 s\n",
      "Operator `forward` ran in 0.16 s\n",
      "Operator `forward` ran in 0.16 s\n",
      "Operator `forward` ran in 0.16 s\n",
      "Operator `forward` ran in 0.16 s\n",
      "Operator `forward` ran in 0.16 s\n",
      "Operator `forward` ran in 0.16 s\n",
      "Operator `forward` ran in 0.17 s\n",
      "Operator `forward` ran in 0.18 s\n",
      "Operator `forward` ran in 0.17 s\n",
      "Operator `forward` ran in 0.15 s\n",
      "Operator `forward` ran in 0.14 s\n",
      "Operator `forward` ran in 0.14 s\n",
      "Operator `forward` ran in 0.14 s\n"
     ]
    },
    {
     "name": "stdout",
     "output_type": "stream",
     "text": [
      "(0.01668320940919579, 1678.0418701171875)\n"
     ]
    },
    {
     "name": "stderr",
     "output_type": "stream",
     "text": [
      "Operator `forward` ran in 0.14 s\n",
      "Operator `forward` ran in 0.14 s\n",
      "Operator `forward` ran in 0.15 s\n",
      "Operator `forward` ran in 0.15 s\n",
      "Operator `forward` ran in 0.16 s\n",
      "Operator `forward` ran in 0.16 s\n",
      "Operator `forward` ran in 0.17 s\n",
      "Operator `forward` ran in 0.17 s\n",
      "Operator `forward` ran in 0.17 s\n",
      "Operator `forward` ran in 0.17 s\n",
      "Operator `forward` ran in 0.17 s\n",
      "Operator `forward` ran in 0.18 s\n",
      "Operator `forward` ran in 0.18 s\n",
      "Operator `forward` ran in 0.18 s\n",
      "Operator `forward` ran in 0.18 s\n",
      "Operator `forward` ran in 0.18 s\n"
     ]
    },
    {
     "name": "stdout",
     "output_type": "stream",
     "text": [
      "(α, misfit) = (0.0077748239724358915, 977.2906494140625)\n",
      "FWI iteration no: "
     ]
    },
    {
     "name": "stderr",
     "output_type": "stream",
     "text": [
      "Operator `forward` ran in 0.19 s\n",
      "Operator `forward` ran in 0.19 s\n",
      "Operator `forward` ran in 0.19 s\n",
      "Operator `forward` ran in 0.19 s\n",
      "Operator `forward` ran in 0.20 s\n",
      "Operator `forward` ran in 0.20 s\n",
      "Operator `forward` ran in 0.20 s\n",
      "Operator `forward` ran in 0.20 s\n",
      "Operator `forward` ran in 0.20 s\n",
      "Operator `forward` ran in 0.20 s\n",
      "Operator `forward` ran in 0.20 s\n",
      "Operator `forward` ran in 0.20 s\n",
      "Operator `forward` ran in 0.20 s\n",
      "Operator `forward` ran in 0.20 s\n",
      "Operator `forward` ran in 0.20 s\n",
      "Operator `forward` ran in 0.20 s\n"
     ]
    },
    {
     "name": "stdout",
     "output_type": "stream",
     "text": [
      "4; function value: 1072.0917\n"
     ]
    },
    {
     "name": "stderr",
     "output_type": "stream",
     "text": [
      "Operator `forward` ran in 0.25 s\n",
      "Operator `gradient` ran in 0.23 s\n",
      "Operator `forward` ran in 0.24 s\n",
      "Operator `gradient` ran in 0.21 s\n",
      "Operator `forward` ran in 0.22 s\n",
      "Operator `gradient` ran in 0.18 s\n",
      "Operator `forward` ran in 0.16 s\n",
      "Operator `gradient` ran in 0.16 s\n",
      "Operator `forward` ran in 0.16 s\n",
      "Operator `gradient` ran in 0.15 s\n",
      "Operator `forward` ran in 0.17 s\n",
      "Operator `gradient` ran in 0.15 s\n",
      "Operator `forward` ran in 0.16 s\n",
      "Operator `gradient` ran in 0.15 s\n",
      "Operator `forward` ran in 0.16 s\n",
      "Operator `gradient` ran in 0.16 s\n",
      "Operator `forward` ran in 0.22 s\n",
      "Operator `gradient` ran in 0.18 s\n",
      "Operator `forward` ran in 0.16 s\n",
      "Operator `gradient` ran in 0.15 s\n",
      "Operator `forward` ran in 0.16 s\n",
      "Operator `gradient` ran in 0.15 s\n",
      "Operator `forward` ran in 0.16 s\n",
      "Operator `gradient` ran in 0.15 s\n",
      "Operator `forward` ran in 0.16 s\n",
      "Operator `gradient` ran in 0.15 s\n",
      "Operator `forward` ran in 0.16 s\n",
      "Operator `gradient` ran in 0.17 s\n",
      "Operator `forward` ran in 0.22 s\n",
      "Operator `gradient` ran in 0.19 s\n",
      "Operator `forward` ran in 0.22 s\n",
      "Operator `gradient` ran in 0.19 s\n"
     ]
    },
    {
     "name": "stdout",
     "output_type": "stream",
     "text": [
      "(α, misfit) = (0.1f0, 16123.310546875)\n",
      "(α, misfit) = "
     ]
    },
    {
     "name": "stderr",
     "output_type": "stream",
     "text": [
      "Operator `forward` ran in 0.14 s\n",
      "Operator `forward` ran in 0.14 s\n",
      "Operator `forward` ran in 0.15 s\n",
      "Operator `forward` ran in 0.14 s\n",
      "Operator `forward` ran in 0.14 s\n",
      "Operator `forward` ran in 0.15 s\n",
      "Operator `forward` ran in 0.14 s\n",
      "Operator `forward` ran in 0.14 s\n",
      "Operator `forward` ran in 0.15 s\n",
      "Operator `forward` ran in 0.14 s\n",
      "Operator `forward` ran in 0.15 s\n",
      "Operator `forward` ran in 0.17 s\n",
      "Operator `forward` ran in 0.17 s\n",
      "Operator `forward` ran in 0.18 s\n",
      "Operator `forward` ran in 0.18 s\n",
      "Operator `forward` ran in 0.18 s\n"
     ]
    },
    {
     "name": "stdout",
     "output_type": "stream",
     "text": [
      "(0.018627940807842778, 923.4393310546875)\n"
     ]
    },
    {
     "name": "stderr",
     "output_type": "stream",
     "text": [
      "Operator `forward` ran in 0.17 s\n",
      "Operator `forward` ran in 0.17 s\n",
      "Operator `forward` ran in 0.20 s\n",
      "Operator `forward` ran in 0.20 s\n",
      "Operator `forward` ran in 0.20 s\n",
      "Operator `forward` ran in 0.20 s\n",
      "Operator `forward` ran in 0.20 s\n",
      "Operator `forward` ran in 0.20 s\n",
      "Operator `forward` ran in 0.20 s\n",
      "Operator `forward` ran in 0.20 s\n",
      "Operator `forward` ran in 0.20 s\n",
      "Operator `forward` ran in 0.20 s\n",
      "Operator `forward` ran in 0.20 s\n",
      "Operator `forward` ran in 0.21 s\n",
      "Operator `forward` ran in 0.21 s\n",
      "Operator `forward` ran in 0.20 s\n"
     ]
    },
    {
     "name": "stdout",
     "output_type": "stream",
     "text": [
      "FWI iteration no: 5; function value: 887.21344\n",
      "(α, misfit) = "
     ]
    },
    {
     "name": "stderr",
     "output_type": "stream",
     "text": [
      "Operator `forward` ran in 0.25 s\n",
      "Operator `gradient` ran in 0.21 s\n",
      "Operator `forward` ran in 0.23 s\n",
      "Operator `gradient` ran in 0.20 s\n",
      "Operator `forward` ran in 0.21 s\n",
      "Operator `gradient` ran in 0.18 s\n",
      "Operator `forward` ran in 0.16 s\n",
      "Operator `gradient` ran in 0.15 s\n",
      "Operator `forward` ran in 0.16 s\n",
      "Operator `gradient` ran in 0.15 s\n",
      "Operator `forward` ran in 0.16 s\n",
      "Operator `gradient` ran in 0.15 s\n",
      "Operator `forward` ran in 0.16 s\n",
      "Operator `gradient` ran in 0.15 s\n",
      "Operator `forward` ran in 0.16 s\n",
      "Operator `gradient` ran in 0.15 s\n",
      "Operator `forward` ran in 0.21 s\n",
      "Operator `gradient` ran in 0.19 s\n",
      "Operator `forward` ran in 0.16 s\n",
      "Operator `gradient` ran in 0.15 s\n",
      "Operator `forward` ran in 0.16 s\n",
      "Operator `gradient` ran in 0.15 s\n",
      "Operator `forward` ran in 0.17 s\n",
      "Operator `gradient` ran in 0.20 s\n",
      "Operator `forward` ran in 0.17 s\n",
      "Operator `gradient` ran in 0.20 s\n",
      "Operator `forward` ran in 0.20 s\n",
      "Operator `gradient` ran in 0.17 s\n",
      "Operator `forward` ran in 0.18 s\n",
      "Operator `gradient` ran in 0.17 s\n",
      "Operator `forward` ran in 0.19 s\n",
      "Operator `gradient` ran in 0.17 s\n"
     ]
    },
    {
     "name": "stdout",
     "output_type": "stream",
     "text": [
      "(0.1f0, 37551.5546875)\n"
     ]
    },
    {
     "name": "stderr",
     "output_type": "stream",
     "text": [
      "Operator `forward` ran in 0.17 s\n",
      "Operator `forward` ran in 0.16 s\n",
      "Operator `forward` ran in 0.16 s\n",
      "Operator `forward` ran in 0.16 s\n",
      "Operator `forward` ran in 0.16 s\n",
      "Operator `forward` ran in 0.16 s\n",
      "Operator `forward` ran in 0.17 s\n",
      "Operator `forward` ran in 0.17 s\n",
      "Operator `forward` ran in 0.17 s\n",
      "Operator `forward` ran in 0.18 s\n",
      "Operator `forward` ran in 0.17 s\n",
      "Operator `forward` ran in 0.17 s\n",
      "Operator `forward` ran in 0.17 s\n",
      "Operator `forward` ran in 0.17 s\n",
      "Operator `forward` ran in 0.17 s\n",
      "Operator `forward` ran in 0.17 s\n"
     ]
    },
    {
     "name": "stdout",
     "output_type": "stream",
     "text": [
      "(α, misfit) = (0.013346033645187334, 1197.401611328125)\n",
      "(α, misfit) = "
     ]
    },
    {
     "name": "stderr",
     "output_type": "stream",
     "text": [
      "Operator `forward` ran in 0.18 s\n",
      "Operator `forward` ran in 0.17 s\n",
      "Operator `forward` ran in 0.17 s\n",
      "Operator `forward` ran in 0.17 s\n",
      "Operator `forward` ran in 0.17 s\n",
      "Operator `forward` ran in 0.18 s\n",
      "Operator `forward` ran in 0.17 s\n",
      "Operator `forward` ran in 0.17 s\n",
      "Operator `forward` ran in 0.17 s\n",
      "Operator `forward` ran in 0.17 s\n",
      "Operator `forward` ran in 0.17 s\n",
      "Operator `forward` ran in 0.17 s\n",
      "Operator `forward` ran in 0.17 s\n",
      "Operator `forward` ran in 0.18 s\n",
      "Operator `forward` ran in 0.19 s\n",
      "Operator `forward` ran in 0.18 s\n"
     ]
    },
    {
     "name": "stdout",
     "output_type": "stream",
     "text": [
      "(0.005497765896222432, 598.3018798828125)\n"
     ]
    },
    {
     "name": "stderr",
     "output_type": "stream",
     "text": [
      "Operator `forward` ran in 0.17 s\n",
      "Operator `forward` ran in 0.17 s\n",
      "Operator `forward` ran in 0.16 s\n",
      "Operator `forward` ran in 0.18 s\n",
      "Operator `forward` ran in 0.19 s\n",
      "Operator `forward` ran in 0.17 s\n",
      "Operator `forward` ran in 0.16 s\n",
      "Operator `forward` ran in 0.16 s\n",
      "Operator `forward` ran in 0.15 s\n",
      "Operator `forward` ran in 0.14 s\n",
      "Operator `forward` ran in 0.14 s\n",
      "Operator `forward` ran in 0.16 s\n",
      "Operator `forward` ran in 0.16 s\n",
      "Operator `forward` ran in 0.16 s\n",
      "Operator `forward` ran in 0.16 s\n",
      "Operator `forward` ran in 0.16 s\n"
     ]
    },
    {
     "name": "stdout",
     "output_type": "stream",
     "text": [
      "FWI iteration no: 6; function value: 531.9867\n",
      "(α, misfit) = "
     ]
    },
    {
     "name": "stderr",
     "output_type": "stream",
     "text": [
      "Operator `forward` ran in 0.18 s\n",
      "Operator `gradient` ran in 0.17 s\n",
      "Operator `forward` ran in 0.16 s\n",
      "Operator `gradient` ran in 0.14 s\n",
      "Operator `forward` ran in 0.15 s\n",
      "Operator `gradient` ran in 0.15 s\n",
      "Operator `forward` ran in 0.15 s\n",
      "Operator `gradient` ran in 0.14 s\n",
      "Operator `forward` ran in 0.15 s\n",
      "Operator `gradient` ran in 0.15 s\n",
      "Operator `forward` ran in 0.15 s\n",
      "Operator `gradient` ran in 0.14 s\n",
      "Operator `forward` ran in 0.17 s\n",
      "Operator `gradient` ran in 0.15 s\n",
      "Operator `forward` ran in 0.16 s\n",
      "Operator `gradient` ran in 0.15 s\n",
      "Operator `forward` ran in 0.16 s\n",
      "Operator `gradient` ran in 0.15 s\n",
      "Operator `forward` ran in 0.16 s\n",
      "Operator `gradient` ran in 0.16 s\n",
      "Operator `forward` ran in 0.17 s\n",
      "Operator `gradient` ran in 0.16 s\n",
      "Operator `forward` ran in 0.17 s\n",
      "Operator `gradient` ran in 0.16 s\n",
      "Operator `forward` ran in 0.17 s\n",
      "Operator `gradient` ran in 0.16 s\n",
      "Operator `forward` ran in 0.17 s\n",
      "Operator `gradient` ran in 0.16 s\n",
      "Operator `forward` ran in 0.17 s\n",
      "Operator `gradient` ran in 0.16 s\n",
      "Operator `forward` ran in 0.17 s\n",
      "Operator `gradient` ran in 0.16 s\n"
     ]
    },
    {
     "name": "stdout",
     "output_type": "stream",
     "text": [
      "(0.1f0, 2422.0146484375)\n"
     ]
    },
    {
     "name": "stderr",
     "output_type": "stream",
     "text": [
      "Operator `forward` ran in 0.16 s\n",
      "Operator `forward` ran in 0.15 s\n",
      "Operator `forward` ran in 0.15 s\n",
      "Operator `forward` ran in 0.16 s\n",
      "Operator `forward` ran in 0.15 s\n",
      "Operator `forward` ran in 0.17 s\n",
      "Operator `forward` ran in 0.16 s\n",
      "Operator `forward` ran in 0.16 s\n",
      "Operator `forward` ran in 0.16 s\n",
      "Operator `forward` ran in 0.18 s\n",
      "Operator `forward` ran in 0.18 s\n",
      "Operator `forward` ran in 0.17 s\n",
      "Operator `forward` ran in 0.17 s\n",
      "Operator `forward` ran in 0.17 s\n",
      "Operator `forward` ran in 0.17 s\n",
      "Operator `forward` ran in 0.17 s\n"
     ]
    },
    {
     "name": "stdout",
     "output_type": "stream",
     "text": [
      "(α, misfit) = (0.04237186602854784, 574.9049682617188)\n",
      "(α, misfit) = "
     ]
    },
    {
     "name": "stderr",
     "output_type": "stream",
     "text": [
      "Operator `forward` ran in 0.17 s\n",
      "Operator `forward` ran in 0.17 s\n",
      "Operator `forward` ran in 0.17 s\n",
      "Operator `forward` ran in 0.17 s\n",
      "Operator `forward` ran in 0.17 s\n",
      "Operator `forward` ran in 0.17 s\n",
      "Operator `forward` ran in 0.17 s\n",
      "Operator `forward` ran in 0.17 s\n",
      "Operator `forward` ran in 0.17 s\n",
      "Operator `forward` ran in 0.17 s\n",
      "Operator `forward` ran in 0.17 s\n",
      "Operator `forward` ran in 0.17 s\n",
      "Operator `forward` ran in 0.17 s\n",
      "Operator `forward` ran in 0.16 s\n",
      "Operator `forward` ran in 0.16 s\n",
      "Operator `forward` ran in 0.16 s\n"
     ]
    },
    {
     "name": "stdout",
     "output_type": "stream",
     "text": [
      "(0.018629144876712748, 389.7643127441406)\n"
     ]
    },
    {
     "name": "stderr",
     "output_type": "stream",
     "text": [
      "Operator `forward` ran in 0.17 s\n",
      "Operator `forward` ran in 0.16 s\n",
      "Operator `forward` ran in 0.17 s\n",
      "Operator `forward` ran in 0.17 s\n",
      "Operator `forward` ran in 0.16 s\n",
      "Operator `forward` ran in 0.17 s\n",
      "Operator `forward` ran in 0.17 s\n",
      "Operator `forward` ran in 0.17 s\n",
      "Operator `forward` ran in 0.17 s\n",
      "Operator `forward` ran in 0.17 s\n",
      "Operator `forward` ran in 0.17 s\n",
      "Operator `forward` ran in 0.17 s\n",
      "Operator `forward` ran in 0.17 s\n",
      "Operator `forward` ran in 0.17 s\n",
      "Operator `forward` ran in 0.17 s\n",
      "Operator `forward` ran in 0.17 s\n"
     ]
    },
    {
     "name": "stdout",
     "output_type": "stream",
     "text": [
      "FWI iteration no: 7; function value: 433.48676\n",
      "(α, misfit) = "
     ]
    },
    {
     "name": "stderr",
     "output_type": "stream",
     "text": [
      "Operator `forward` ran in 0.19 s\n",
      "Operator `gradient` ran in 0.18 s\n",
      "Operator `forward` ran in 0.19 s\n",
      "Operator `gradient` ran in 0.16 s\n",
      "Operator `forward` ran in 0.17 s\n",
      "Operator `gradient` ran in 0.16 s\n",
      "Operator `forward` ran in 0.17 s\n",
      "Operator `gradient` ran in 0.16 s\n",
      "Operator `forward` ran in 0.17 s\n",
      "Operator `gradient` ran in 0.16 s\n",
      "Operator `forward` ran in 0.17 s\n",
      "Operator `gradient` ran in 0.16 s\n",
      "Operator `forward` ran in 0.17 s\n",
      "Operator `gradient` ran in 0.16 s\n",
      "Operator `forward` ran in 0.17 s\n",
      "Operator `gradient` ran in 0.16 s\n",
      "Operator `forward` ran in 0.17 s\n",
      "Operator `gradient` ran in 0.16 s\n",
      "Operator `forward` ran in 0.17 s\n",
      "Operator `gradient` ran in 0.16 s\n",
      "Operator `forward` ran in 0.17 s\n",
      "Operator `gradient` ran in 0.16 s\n",
      "Operator `forward` ran in 0.18 s\n",
      "Operator `gradient` ran in 0.16 s\n",
      "Operator `forward` ran in 0.17 s\n",
      "Operator `gradient` ran in 0.16 s\n",
      "Operator `forward` ran in 0.17 s\n",
      "Operator `gradient` ran in 0.16 s\n",
      "Operator `forward` ran in 0.17 s\n",
      "Operator `gradient` ran in 0.17 s\n",
      "Operator `forward` ran in 0.18 s\n",
      "Operator `gradient` ran in 0.18 s\n"
     ]
    },
    {
     "name": "stdout",
     "output_type": "stream",
     "text": [
      "(0.1f0, 335343.8125)\n"
     ]
    },
    {
     "name": "stderr",
     "output_type": "stream",
     "text": [
      "Operator `forward` ran in 0.17 s\n",
      "Operator `forward` ran in 0.16 s\n",
      "Operator `forward` ran in 0.15 s\n",
      "Operator `forward` ran in 0.16 s\n",
      "Operator `forward` ran in 0.16 s\n",
      "Operator `forward` ran in 0.16 s\n",
      "Operator `forward` ran in 0.16 s\n",
      "Operator `forward` ran in 0.16 s\n",
      "Operator `forward` ran in 0.16 s\n",
      "Operator `forward` ran in 0.16 s\n",
      "Operator `forward` ran in 0.16 s\n",
      "Operator `forward` ran in 0.17 s\n",
      "Operator `forward` ran in 0.17 s\n",
      "Operator `forward` ran in 0.17 s\n",
      "Operator `forward` ran in 0.17 s\n",
      "Operator `forward` ran in 0.17 s\n"
     ]
    },
    {
     "name": "stdout",
     "output_type": "stream",
     "text": [
      "(α, misfit) = (0.010000000149011612, 4539.4169921875)\n",
      "(α, misfit) = "
     ]
    },
    {
     "name": "stderr",
     "output_type": "stream",
     "text": [
      "Operator `forward` ran in 0.17 s\n",
      "Operator `forward` ran in 0.17 s\n",
      "Operator `forward` ran in 0.17 s\n",
      "Operator `forward` ran in 0.17 s\n",
      "Operator `forward` ran in 0.17 s\n",
      "Operator `forward` ran in 0.17 s\n",
      "Operator `forward` ran in 0.17 s\n",
      "Operator `forward` ran in 0.17 s\n",
      "Operator `forward` ran in 0.17 s\n",
      "Operator `forward` ran in 0.17 s\n",
      "Operator `forward` ran in 0.17 s\n",
      "Operator `forward` ran in 0.17 s\n",
      "Operator `forward` ran in 0.17 s\n",
      "Operator `forward` ran in 0.17 s\n",
      "Operator `forward` ran in 0.17 s\n",
      "Operator `forward` ran in 0.17 s\n"
     ]
    },
    {
     "name": "stdout",
     "output_type": "stream",
     "text": [
      "(0.0010000000149011613, 416.37054443359375)\n"
     ]
    },
    {
     "name": "stderr",
     "output_type": "stream",
     "text": [
      "Operator `forward` ran in 0.18 s\n",
      "Operator `forward` ran in 0.17 s\n",
      "Operator `forward` ran in 0.17 s\n",
      "Operator `forward` ran in 0.18 s\n",
      "Operator `forward` ran in 0.17 s\n",
      "Operator `forward` ran in 0.18 s\n",
      "Operator `forward` ran in 0.18 s\n",
      "Operator `forward` ran in 0.17 s\n",
      "Operator `forward` ran in 0.17 s\n",
      "Operator `forward` ran in 0.17 s\n",
      "Operator `forward` ran in 0.17 s\n",
      "Operator `forward` ran in 0.17 s\n",
      "Operator `forward` ran in 0.17 s\n",
      "Operator `forward` ran in 0.17 s\n",
      "Operator `forward` ran in 0.17 s\n",
      "Operator `forward` ran in 0.17 s\n"
     ]
    },
    {
     "name": "stdout",
     "output_type": "stream",
     "text": [
      "FWI iteration no: 8; function value: 457.14362\n",
      "(α, misfit) = "
     ]
    },
    {
     "name": "stderr",
     "output_type": "stream",
     "text": [
      "Operator `forward` ran in 0.19 s\n",
      "Operator `gradient` ran in 0.17 s\n",
      "Operator `forward` ran in 0.18 s\n",
      "Operator `gradient` ran in 0.17 s\n",
      "Operator `forward` ran in 0.17 s\n",
      "Operator `gradient` ran in 0.16 s\n",
      "Operator `forward` ran in 0.17 s\n",
      "Operator `gradient` ran in 0.16 s\n",
      "Operator `forward` ran in 0.18 s\n",
      "Operator `gradient` ran in 0.16 s\n",
      "Operator `forward` ran in 0.17 s\n",
      "Operator `gradient` ran in 0.16 s\n",
      "Operator `forward` ran in 0.17 s\n",
      "Operator `gradient` ran in 0.17 s\n",
      "Operator `forward` ran in 0.19 s\n",
      "Operator `gradient` ran in 0.18 s\n",
      "Operator `forward` ran in 0.18 s\n",
      "Operator `gradient` ran in 0.16 s\n",
      "Operator `forward` ran in 0.18 s\n",
      "Operator `gradient` ran in 0.17 s\n",
      "Operator `forward` ran in 0.17 s\n",
      "Operator `gradient` ran in 0.16 s\n",
      "Operator `forward` ran in 0.17 s\n",
      "Operator `gradient` ran in 0.16 s\n",
      "Operator `forward` ran in 0.17 s\n",
      "Operator `gradient` ran in 0.16 s\n",
      "Operator `forward` ran in 0.18 s\n",
      "Operator `gradient` ran in 0.16 s\n",
      "Operator `forward` ran in 0.17 s\n",
      "Operator `gradient` ran in 0.16 s\n",
      "Operator `forward` ran in 0.18 s\n",
      "Operator `gradient` ran in 0.16 s\n"
     ]
    },
    {
     "name": "stdout",
     "output_type": "stream",
     "text": [
      "(0.1f0, 2611.06591796875)\n"
     ]
    },
    {
     "name": "stderr",
     "output_type": "stream",
     "text": [
      "Operator `forward` ran in 0.16 s\n",
      "Operator `forward` ran in 0.16 s\n",
      "Operator `forward` ran in 0.16 s\n",
      "Operator `forward` ran in 0.16 s\n",
      "Operator `forward` ran in 0.17 s\n",
      "Operator `forward` ran in 0.16 s\n",
      "Operator `forward` ran in 0.17 s\n",
      "Operator `forward` ran in 0.17 s\n",
      "Operator `forward` ran in 0.19 s\n",
      "Operator `forward` ran in 0.18 s\n",
      "Operator `forward` ran in 0.17 s\n",
      "Operator `forward` ran in 0.17 s\n",
      "Operator `forward` ran in 0.17 s\n",
      "Operator `forward` ran in 0.17 s\n",
      "Operator `forward` ran in 0.17 s\n",
      "Operator `forward` ran in 0.16 s\n"
     ]
    },
    {
     "name": "stdout",
     "output_type": "stream",
     "text": [
      "(α, misfit) = (0.039657109345084825, 689.2083129882812)\n",
      "(α, misfit) = "
     ]
    },
    {
     "name": "stderr",
     "output_type": "stream",
     "text": [
      "Operator `forward` ran in 0.17 s\n",
      "Operator `forward` ran in 0.17 s\n",
      "Operator `forward` ran in 0.17 s\n",
      "Operator `forward` ran in 0.17 s\n",
      "Operator `forward` ran in 0.17 s\n",
      "Operator `forward` ran in 0.17 s\n",
      "Operator `forward` ran in 0.17 s\n",
      "Operator `forward` ran in 0.16 s\n",
      "Operator `forward` ran in 0.16 s\n",
      "Operator `forward` ran in 0.17 s\n",
      "Operator `forward` ran in 0.16 s\n",
      "Operator `forward` ran in 0.17 s\n",
      "Operator `forward` ran in 0.16 s\n",
      "Operator `forward` ran in 0.17 s\n",
      "Operator `forward` ran in 0.17 s\n",
      "Operator `forward` ran in 0.16 s\n"
     ]
    },
    {
     "name": "stdout",
     "output_type": "stream",
     "text": [
      "(0.01632913416327203, 408.3385314941406)\n"
     ]
    },
    {
     "name": "stderr",
     "output_type": "stream",
     "text": [
      "Operator `forward` ran in 0.17 s\n",
      "Operator `forward` ran in 0.17 s\n",
      "Operator `forward` ran in 0.17 s\n",
      "Operator `forward` ran in 0.17 s\n",
      "Operator `forward` ran in 0.18 s\n",
      "Operator `forward` ran in 0.17 s\n",
      "Operator `forward` ran in 0.16 s\n",
      "Operator `forward` ran in 0.17 s\n",
      "Operator `forward` ran in 0.16 s\n",
      "Operator `forward` ran in 0.16 s\n",
      "Operator `forward` ran in 0.17 s\n",
      "Operator `forward` ran in 0.16 s\n",
      "Operator `forward` ran in 0.16 s\n",
      "Operator `forward` ran in 0.16 s\n",
      "Operator `forward` ran in 0.16 s\n",
      "Operator `forward` ran in 0.17 s\n"
     ]
    },
    {
     "name": "stdout",
     "output_type": "stream",
     "text": [
      "FWI iteration no: 9; function value: 406.6757\n",
      "(α, misfit) = "
     ]
    },
    {
     "name": "stderr",
     "output_type": "stream",
     "text": [
      "Operator `forward` ran in 0.20 s\n",
      "Operator `gradient` ran in 0.17 s\n",
      "Operator `forward` ran in 0.18 s\n",
      "Operator `gradient` ran in 0.17 s\n",
      "Operator `forward` ran in 0.18 s\n",
      "Operator `gradient` ran in 0.18 s\n",
      "Operator `forward` ran in 0.18 s\n",
      "Operator `gradient` ran in 0.16 s\n",
      "Operator `forward` ran in 0.16 s\n",
      "Operator `gradient` ran in 0.16 s\n",
      "Operator `forward` ran in 0.17 s\n",
      "Operator `gradient` ran in 0.16 s\n",
      "Operator `forward` ran in 0.17 s\n",
      "Operator `gradient` ran in 0.16 s\n",
      "Operator `forward` ran in 0.16 s\n",
      "Operator `gradient` ran in 0.15 s\n",
      "Operator `forward` ran in 0.16 s\n",
      "Operator `gradient` ran in 0.16 s\n",
      "Operator `forward` ran in 0.16 s\n",
      "Operator `gradient` ran in 0.16 s\n",
      "Operator `forward` ran in 0.17 s\n",
      "Operator `gradient` ran in 0.16 s\n",
      "Operator `forward` ran in 0.17 s\n",
      "Operator `gradient` ran in 0.17 s\n",
      "Operator `forward` ran in 0.17 s\n",
      "Operator `gradient` ran in 0.16 s\n",
      "Operator `forward` ran in 0.18 s\n",
      "Operator `gradient` ran in 0.17 s\n",
      "Operator `forward` ran in 0.17 s\n",
      "Operator `gradient` ran in 0.16 s\n",
      "Operator `forward` ran in 0.17 s\n",
      "Operator `gradient` ran in 0.16 s\n"
     ]
    },
    {
     "name": "stdout",
     "output_type": "stream",
     "text": [
      "(0.1f0, 339946.53125)\n"
     ]
    },
    {
     "name": "stderr",
     "output_type": "stream",
     "text": [
      "Operator `forward` ran in 0.16 s\n",
      "Operator `forward` ran in 0.15 s\n",
      "Operator `forward` ran in 0.15 s\n",
      "Operator `forward` ran in 0.15 s\n",
      "Operator `forward` ran in 0.15 s\n",
      "Operator `forward` ran in 0.15 s\n",
      "Operator `forward` ran in 0.16 s\n",
      "Operator `forward` ran in 0.16 s\n",
      "Operator `forward` ran in 0.16 s\n",
      "Operator `forward` ran in 0.16 s\n",
      "Operator `forward` ran in 0.16 s\n",
      "Operator `forward` ran in 0.16 s\n",
      "Operator `forward` ran in 0.16 s\n",
      "Operator `forward` ran in 0.18 s\n",
      "Operator `forward` ran in 0.18 s\n",
      "Operator `forward` ran in 0.17 s\n"
     ]
    },
    {
     "name": "stdout",
     "output_type": "stream",
     "text": [
      "(α, misfit) = (0.010000000149011612, 6968.14208984375)\n",
      "(α, misfit) = "
     ]
    },
    {
     "name": "stderr",
     "output_type": "stream",
     "text": [
      "Operator `forward` ran in 0.17 s\n",
      "Operator `forward` ran in 0.17 s\n",
      "Operator `forward` ran in 0.17 s\n",
      "Operator `forward` ran in 0.17 s\n",
      "Operator `forward` ran in 0.17 s\n",
      "Operator `forward` ran in 0.17 s\n",
      "Operator `forward` ran in 0.17 s\n",
      "Operator `forward` ran in 0.17 s\n",
      "Operator `forward` ran in 0.17 s\n",
      "Operator `forward` ran in 0.17 s\n",
      "Operator `forward` ran in 0.17 s\n",
      "Operator `forward` ran in 0.17 s\n",
      "Operator `forward` ran in 0.17 s\n",
      "Operator `forward` ran in 0.17 s\n",
      "Operator `forward` ran in 0.17 s\n",
      "Operator `forward` ran in 0.17 s\n"
     ]
    },
    {
     "name": "stdout",
     "output_type": "stream",
     "text": [
      "(0.0010000000149011613, 380.6492004394531)\n"
     ]
    },
    {
     "name": "stderr",
     "output_type": "stream",
     "text": [
      "Operator `forward` ran in 0.17 s\n",
      "Operator `forward` ran in 0.17 s\n",
      "Operator `forward` ran in 0.17 s\n",
      "Operator `forward` ran in 0.17 s\n",
      "Operator `forward` ran in 0.17 s\n",
      "Operator `forward` ran in 0.17 s\n",
      "Operator `forward` ran in 0.17 s\n",
      "Operator `forward` ran in 0.17 s\n",
      "Operator `forward` ran in 0.17 s\n",
      "Operator `forward` ran in 0.16 s\n",
      "Operator `forward` ran in 0.17 s\n",
      "Operator `forward` ran in 0.16 s\n",
      "Operator `forward` ran in 0.17 s\n",
      "Operator `forward` ran in 0.16 s\n",
      "Operator `forward` ran in 0.13 s\n",
      "Operator `forward` ran in 0.12 s\n"
     ]
    },
    {
     "name": "stdout",
     "output_type": "stream",
     "text": [
      "FWI iteration no: 10; function value: 362.72394\n",
      "(α, misfit) = "
     ]
    },
    {
     "name": "stderr",
     "output_type": "stream",
     "text": [
      "Operator `forward` ran in 0.14 s\n",
      "Operator `gradient` ran in 0.13 s\n",
      "Operator `forward` ran in 0.14 s\n",
      "Operator `gradient` ran in 0.13 s\n",
      "Operator `forward` ran in 0.14 s\n",
      "Operator `gradient` ran in 0.13 s\n",
      "Operator `forward` ran in 0.14 s\n",
      "Operator `gradient` ran in 0.13 s\n",
      "Operator `forward` ran in 0.14 s\n",
      "Operator `gradient` ran in 0.13 s\n",
      "Operator `forward` ran in 0.14 s\n",
      "Operator `gradient` ran in 0.13 s\n",
      "Operator `forward` ran in 0.14 s\n",
      "Operator `gradient` ran in 0.13 s\n",
      "Operator `forward` ran in 0.14 s\n",
      "Operator `gradient` ran in 0.13 s\n",
      "Operator `forward` ran in 0.14 s\n",
      "Operator `gradient` ran in 0.13 s\n",
      "Operator `forward` ran in 0.14 s\n",
      "Operator `gradient` ran in 0.15 s\n",
      "Operator `forward` ran in 0.16 s\n",
      "Operator `gradient` ran in 0.15 s\n",
      "Operator `forward` ran in 0.17 s\n",
      "Operator `gradient` ran in 0.15 s\n",
      "Operator `forward` ran in 0.16 s\n",
      "Operator `gradient` ran in 0.15 s\n",
      "Operator `forward` ran in 0.17 s\n",
      "Operator `gradient` ran in 0.17 s\n",
      "Operator `forward` ran in 0.18 s\n",
      "Operator `gradient` ran in 0.16 s\n",
      "Operator `forward` ran in 0.17 s\n",
      "Operator `gradient` ran in 0.16 s\n"
     ]
    },
    {
     "name": "stdout",
     "output_type": "stream",
     "text": [
      "(0.1f0, 5728.78271484375)\n"
     ]
    },
    {
     "name": "stderr",
     "output_type": "stream",
     "text": [
      "Operator `forward` ran in 0.15 s\n",
      "Operator `forward` ran in 0.15 s\n",
      "Operator `forward` ran in 0.15 s\n",
      "Operator `forward` ran in 0.15 s\n",
      "Operator `forward` ran in 0.16 s\n",
      "Operator `forward` ran in 0.16 s\n",
      "Operator `forward` ran in 0.16 s\n",
      "Operator `forward` ran in 0.16 s\n",
      "Operator `forward` ran in 0.16 s\n",
      "Operator `forward` ran in 0.16 s\n",
      "Operator `forward` ran in 0.16 s\n",
      "Operator `forward` ran in 0.16 s\n",
      "Operator `forward` ran in 0.17 s\n",
      "Operator `forward` ran in 0.17 s\n",
      "Operator `forward` ran in 0.17 s\n",
      "Operator `forward` ran in 0.16 s\n"
     ]
    },
    {
     "name": "stdout",
     "output_type": "stream",
     "text": [
      "(α, misfit) = (0.029224930262235018, 651.8572387695312)\n",
      "(α, misfit) = "
     ]
    },
    {
     "name": "stderr",
     "output_type": "stream",
     "text": [
      "Operator `forward` ran in 0.17 s\n",
      "Operator `forward` ran in 0.17 s\n",
      "Operator `forward` ran in 0.17 s\n",
      "Operator `forward` ran in 0.17 s\n",
      "Operator `forward` ran in 0.16 s\n",
      "Operator `forward` ran in 0.17 s\n",
      "Operator `forward` ran in 0.17 s\n",
      "Operator `forward` ran in 0.17 s\n",
      "Operator `forward` ran in 0.17 s\n",
      "Operator `forward` ran in 0.17 s\n",
      "Operator `forward` ran in 0.17 s\n",
      "Operator `forward` ran in 0.16 s\n",
      "Operator `forward` ran in 0.17 s\n",
      "Operator `forward` ran in 0.17 s\n",
      "Operator `forward` ran in 0.17 s\n",
      "Operator `forward` ran in 0.17 s\n"
     ]
    },
    {
     "name": "stdout",
     "output_type": "stream",
     "text": [
      "(0.011849606171235335, 330.5725402832031)\n"
     ]
    },
    {
     "name": "stderr",
     "output_type": "stream",
     "text": [
      "Operator `forward` ran in 0.17 s\n",
      "Operator `forward` ran in 0.17 s\n",
      "Operator `forward` ran in 0.17 s\n",
      "Operator `forward` ran in 0.16 s\n",
      "Operator `forward` ran in 0.17 s\n",
      "Operator `forward` ran in 0.17 s\n",
      "Operator `forward` ran in 0.17 s\n",
      "Operator `forward` ran in 0.17 s\n",
      "Operator `forward` ran in 0.17 s\n",
      "Operator `forward` ran in 0.17 s\n",
      "Operator `forward` ran in 0.17 s\n",
      "Operator `forward` ran in 0.17 s\n",
      "Operator `forward` ran in 0.17 s\n",
      "Operator `forward` ran in 0.17 s\n",
      "Operator `forward` ran in 0.17 s\n",
      "Operator `forward` ran in 0.17 s\n"
     ]
    },
    {
     "name": "stdout",
     "output_type": "stream",
     "text": [
      "FWI iteration no: 11; function value: 301.0925\n",
      "(α, misfit) = "
     ]
    },
    {
     "name": "stderr",
     "output_type": "stream",
     "text": [
      "Operator `forward` ran in 0.19 s\n",
      "Operator `gradient` ran in 0.17 s\n",
      "Operator `forward` ran in 0.18 s\n",
      "Operator `gradient` ran in 0.17 s\n",
      "Operator `forward` ran in 0.18 s\n",
      "Operator `gradient` ran in 0.16 s\n",
      "Operator `forward` ran in 0.17 s\n",
      "Operator `gradient` ran in 0.16 s\n",
      "Operator `forward` ran in 0.17 s\n",
      "Operator `gradient` ran in 0.16 s\n",
      "Operator `forward` ran in 0.17 s\n",
      "Operator `gradient` ran in 0.16 s\n",
      "Operator `forward` ran in 0.17 s\n",
      "Operator `gradient` ran in 0.16 s\n",
      "Operator `forward` ran in 0.17 s\n",
      "Operator `gradient` ran in 0.16 s\n",
      "Operator `forward` ran in 0.18 s\n",
      "Operator `gradient` ran in 0.17 s\n",
      "Operator `forward` ran in 0.18 s\n",
      "Operator `gradient` ran in 0.17 s\n",
      "Operator `forward` ran in 0.18 s\n",
      "Operator `gradient` ran in 0.16 s\n",
      "Operator `forward` ran in 0.17 s\n",
      "Operator `gradient` ran in 0.16 s\n",
      "Operator `forward` ran in 0.17 s\n",
      "Operator `gradient` ran in 0.16 s\n",
      "Operator `forward` ran in 0.17 s\n",
      "Operator `gradient` ran in 0.16 s\n",
      "Operator `forward` ran in 0.17 s\n",
      "Operator `gradient` ran in 0.16 s\n",
      "Operator `forward` ran in 0.17 s\n",
      "Operator `gradient` ran in 0.16 s\n"
     ]
    },
    {
     "name": "stdout",
     "output_type": "stream",
     "text": [
      "(0.1f0, 331799.875)\n"
     ]
    },
    {
     "name": "stderr",
     "output_type": "stream",
     "text": [
      "Operator `forward` ran in 0.15 s\n",
      "Operator `forward` ran in 0.16 s\n",
      "Operator `forward` ran in 0.16 s\n",
      "Operator `forward` ran in 0.16 s\n",
      "Operator `forward` ran in 0.16 s\n",
      "Operator `forward` ran in 0.16 s\n",
      "Operator `forward` ran in 0.16 s\n",
      "Operator `forward` ran in 0.16 s\n",
      "Operator `forward` ran in 0.16 s\n",
      "Operator `forward` ran in 0.18 s\n",
      "Operator `forward` ran in 0.17 s\n",
      "Operator `forward` ran in 0.17 s\n",
      "Operator `forward` ran in 0.17 s\n",
      "Operator `forward` ran in 0.17 s\n",
      "Operator `forward` ran in 0.17 s\n",
      "Operator `forward` ran in 0.17 s\n"
     ]
    },
    {
     "name": "stdout",
     "output_type": "stream",
     "text": [
      "(α, misfit) = (0.010000000149011612, 4988.5)\n",
      "(α, misfit) = "
     ]
    },
    {
     "name": "stderr",
     "output_type": "stream",
     "text": [
      "Operator `forward` ran in 0.16 s\n",
      "Operator `forward` ran in 0.17 s\n",
      "Operator `forward` ran in 0.16 s\n",
      "Operator `forward` ran in 0.17 s\n",
      "Operator `forward` ran in 0.17 s\n",
      "Operator `forward` ran in 0.17 s\n",
      "Operator `forward` ran in 0.17 s\n",
      "Operator `forward` ran in 0.17 s\n",
      "Operator `forward` ran in 0.17 s\n",
      "Operator `forward` ran in 0.17 s\n",
      "Operator `forward` ran in 0.17 s\n",
      "Operator `forward` ran in 0.17 s\n",
      "Operator `forward` ran in 0.17 s\n",
      "Operator `forward` ran in 0.17 s\n",
      "Operator `forward` ran in 0.17 s\n",
      "Operator `forward` ran in 0.17 s\n"
     ]
    },
    {
     "name": "stdout",
     "output_type": "stream",
     "text": [
      "(0.0010000000149011613, 282.6294860839844)\n"
     ]
    },
    {
     "name": "stderr",
     "output_type": "stream",
     "text": [
      "Operator `forward` ran in 0.17 s\n",
      "Operator `forward` ran in 0.17 s\n",
      "Operator `forward` ran in 0.17 s\n",
      "Operator `forward` ran in 0.17 s\n",
      "Operator `forward` ran in 0.17 s\n",
      "Operator `forward` ran in 0.17 s\n",
      "Operator `forward` ran in 0.17 s\n",
      "Operator `forward` ran in 0.17 s\n",
      "Operator `forward` ran in 0.17 s\n",
      "Operator `forward` ran in 0.17 s\n",
      "Operator `forward` ran in 0.17 s\n",
      "Operator `forward` ran in 0.17 s\n",
      "Operator `forward` ran in 0.17 s\n",
      "Operator `forward` ran in 0.17 s\n",
      "Operator `forward` ran in 0.17 s\n",
      "Operator `forward` ran in 0.17 s\n"
     ]
    },
    {
     "name": "stdout",
     "output_type": "stream",
     "text": [
      "FWI iteration no: 12; function value: 311.31003\n",
      "(α, misfit) = "
     ]
    },
    {
     "name": "stderr",
     "output_type": "stream",
     "text": [
      "Operator `forward` ran in 0.19 s\n",
      "Operator `gradient` ran in 0.18 s\n",
      "Operator `forward` ran in 0.19 s\n",
      "Operator `gradient` ran in 0.17 s\n",
      "Operator `forward` ran in 0.18 s\n",
      "Operator `gradient` ran in 0.17 s\n",
      "Operator `forward` ran in 0.18 s\n",
      "Operator `gradient` ran in 0.16 s\n",
      "Operator `forward` ran in 0.17 s\n",
      "Operator `gradient` ran in 0.16 s\n",
      "Operator `forward` ran in 0.18 s\n",
      "Operator `gradient` ran in 0.16 s\n",
      "Operator `forward` ran in 0.17 s\n",
      "Operator `gradient` ran in 0.17 s\n",
      "Operator `forward` ran in 0.17 s\n",
      "Operator `gradient` ran in 0.16 s\n",
      "Operator `forward` ran in 0.17 s\n",
      "Operator `gradient` ran in 0.16 s\n",
      "Operator `forward` ran in 0.17 s\n",
      "Operator `gradient` ran in 0.16 s\n",
      "Operator `forward` ran in 0.18 s\n",
      "Operator `gradient` ran in 0.18 s\n",
      "Operator `forward` ran in 0.19 s\n",
      "Operator `gradient` ran in 0.16 s\n",
      "Operator `forward` ran in 0.17 s\n",
      "Operator `gradient` ran in 0.16 s\n",
      "Operator `forward` ran in 0.17 s\n",
      "Operator `gradient` ran in 0.16 s\n",
      "Operator `forward` ran in 0.18 s\n",
      "Operator `gradient` ran in 0.16 s\n",
      "Operator `forward` ran in 0.17 s\n",
      "Operator `gradient` ran in 0.17 s\n"
     ]
    },
    {
     "name": "stdout",
     "output_type": "stream",
     "text": [
      "(0.1f0, 1937.5732421875)\n"
     ]
    },
    {
     "name": "stderr",
     "output_type": "stream",
     "text": [
      "Operator `forward` ran in 0.17 s\n",
      "Operator `forward` ran in 0.16 s\n",
      "Operator `forward` ran in 0.16 s\n",
      "Operator `forward` ran in 0.16 s\n",
      "Operator `forward` ran in 0.16 s\n",
      "Operator `forward` ran in 0.16 s\n",
      "Operator `forward` ran in 0.16 s\n",
      "Operator `forward` ran in 0.16 s\n",
      "Operator `forward` ran in 0.17 s\n",
      "Operator `forward` ran in 0.17 s\n",
      "Operator `forward` ran in 0.17 s\n",
      "Operator `forward` ran in 0.17 s\n",
      "Operator `forward` ran in 0.17 s\n",
      "Operator `forward` ran in 0.17 s\n",
      "Operator `forward` ran in 0.16 s\n",
      "Operator `forward` ran in 0.17 s\n"
     ]
    },
    {
     "name": "stdout",
     "output_type": "stream",
     "text": [
      "(α, misfit) = (0.04108440157650479, 631.7017822265625)\n",
      "(α, misfit) = "
     ]
    },
    {
     "name": "stderr",
     "output_type": "stream",
     "text": [
      "Operator `forward` ran in 0.17 s\n",
      "Operator `forward` ran in 0.17 s\n",
      "Operator `forward` ran in 0.17 s\n",
      "Operator `forward` ran in 0.17 s\n",
      "Operator `forward` ran in 0.17 s\n",
      "Operator `forward` ran in 0.17 s\n",
      "Operator `forward` ran in 0.17 s\n",
      "Operator `forward` ran in 0.17 s\n",
      "Operator `forward` ran in 0.17 s\n",
      "Operator `forward` ran in 0.17 s\n",
      "Operator `forward` ran in 0.17 s\n",
      "Operator `forward` ran in 0.17 s\n",
      "Operator `forward` ran in 0.17 s\n",
      "Operator `forward` ran in 0.17 s\n",
      "Operator `forward` ran in 0.16 s\n",
      "Operator `forward` ran in 0.17 s\n"
     ]
    },
    {
     "name": "stdout",
     "output_type": "stream",
     "text": [
      "(0.01607225580784327, 320.9542236328125)\n"
     ]
    },
    {
     "name": "stderr",
     "output_type": "stream",
     "text": [
      "Operator `forward` ran in 0.17 s\n",
      "Operator `forward` ran in 0.17 s\n",
      "Operator `forward` ran in 0.17 s\n",
      "Operator `forward` ran in 0.17 s\n",
      "Operator `forward` ran in 0.17 s\n",
      "Operator `forward` ran in 0.17 s\n",
      "Operator `forward` ran in 0.17 s\n",
      "Operator `forward` ran in 0.17 s\n",
      "Operator `forward` ran in 0.17 s\n",
      "Operator `forward` ran in 0.17 s\n",
      "Operator `forward` ran in 0.17 s\n",
      "Operator `forward` ran in 0.17 s\n",
      "Operator `forward` ran in 0.17 s\n",
      "Operator `forward` ran in 0.17 s\n",
      "Operator `forward` ran in 0.17 s\n",
      "Operator `forward` ran in 0.17 s\n"
     ]
    },
    {
     "name": "stdout",
     "output_type": "stream",
     "text": [
      "(α, misfit) = (0.007091625490386382, 281.22247314453125)\n",
      "FWI iteration no: "
     ]
    },
    {
     "name": "stderr",
     "output_type": "stream",
     "text": [
      "Operator `forward` ran in 0.17 s\n",
      "Operator `forward` ran in 0.17 s\n",
      "Operator `forward` ran in 0.17 s\n",
      "Operator `forward` ran in 0.17 s\n",
      "Operator `forward` ran in 0.17 s\n",
      "Operator `forward` ran in 0.17 s\n",
      "Operator `forward` ran in 0.16 s\n",
      "Operator `forward` ran in 0.16 s\n",
      "Operator `forward` ran in 0.17 s\n",
      "Operator `forward` ran in 0.16 s\n",
      "Operator `forward` ran in 0.17 s\n",
      "Operator `forward` ran in 0.17 s\n",
      "Operator `forward` ran in 0.17 s\n",
      "Operator `forward` ran in 0.17 s\n",
      "Operator `forward` ran in 0.17 s\n",
      "Operator `forward` ran in 0.16 s\n"
     ]
    },
    {
     "name": "stdout",
     "output_type": "stream",
     "text": [
      "13; function value: 254.30368\n"
     ]
    },
    {
     "name": "stderr",
     "output_type": "stream",
     "text": [
      "Operator `forward` ran in 0.19 s\n",
      "Operator `gradient` ran in 0.18 s\n",
      "Operator `forward` ran in 0.18 s\n",
      "Operator `gradient` ran in 0.18 s\n",
      "Operator `forward` ran in 0.19 s\n",
      "Operator `gradient` ran in 0.17 s\n",
      "Operator `forward` ran in 0.18 s\n",
      "Operator `gradient` ran in 0.17 s\n",
      "Operator `forward` ran in 0.17 s\n",
      "Operator `gradient` ran in 0.16 s\n",
      "Operator `forward` ran in 0.17 s\n",
      "Operator `gradient` ran in 0.16 s\n",
      "Operator `forward` ran in 0.17 s\n",
      "Operator `gradient` ran in 0.16 s\n",
      "Operator `forward` ran in 0.17 s\n",
      "Operator `gradient` ran in 0.16 s\n",
      "Operator `forward` ran in 0.18 s\n",
      "Operator `gradient` ran in 0.18 s\n",
      "Operator `forward` ran in 0.18 s\n",
      "Operator `gradient` ran in 0.16 s\n",
      "Operator `forward` ran in 0.17 s\n",
      "Operator `gradient` ran in 0.17 s\n",
      "Operator `forward` ran in 0.20 s\n",
      "Operator `gradient` ran in 0.16 s\n",
      "Operator `forward` ran in 0.18 s\n",
      "Operator `gradient` ran in 0.16 s\n",
      "Operator `forward` ran in 0.18 s\n",
      "Operator `gradient` ran in 0.17 s\n",
      "Operator `forward` ran in 0.17 s\n",
      "Operator `gradient` ran in 0.17 s\n",
      "Operator `forward` ran in 0.17 s\n",
      "Operator `gradient` ran in 0.17 s\n"
     ]
    },
    {
     "name": "stdout",
     "output_type": "stream",
     "text": [
      "(α, misfit) = (0.1f0, 391837.1875)\n",
      "(α, misfit) = "
     ]
    },
    {
     "name": "stderr",
     "output_type": "stream",
     "text": [
      "Operator `forward` ran in 0.16 s\n",
      "Operator `forward` ran in 0.17 s\n",
      "Operator `forward` ran in 0.16 s\n",
      "Operator `forward` ran in 0.16 s\n",
      "Operator `forward` ran in 0.16 s\n",
      "Operator `forward` ran in 0.16 s\n",
      "Operator `forward` ran in 0.16 s\n",
      "Operator `forward` ran in 0.16 s\n",
      "Operator `forward` ran in 0.16 s\n",
      "Operator `forward` ran in 0.17 s\n",
      "Operator `forward` ran in 0.17 s\n",
      "Operator `forward` ran in 0.16 s\n",
      "Operator `forward` ran in 0.16 s\n",
      "Operator `forward` ran in 0.16 s\n",
      "Operator `forward` ran in 0.16 s\n",
      "Operator `forward` ran in 0.17 s\n"
     ]
    },
    {
     "name": "stdout",
     "output_type": "stream",
     "text": [
      "(0.010000000149011612, 7117.50048828125)\n"
     ]
    },
    {
     "name": "stderr",
     "output_type": "stream",
     "text": [
      "Operator `forward` ran in 0.16 s\n",
      "Operator `forward` ran in 0.16 s\n",
      "Operator `forward` ran in 0.16 s\n",
      "Operator `forward` ran in 0.18 s\n",
      "Operator `forward` ran in 0.17 s\n",
      "Operator `forward` ran in 0.17 s\n",
      "Operator `forward` ran in 0.17 s\n",
      "Operator `forward` ran in 0.17 s\n",
      "Operator `forward` ran in 0.18 s\n",
      "Operator `forward` ran in 0.17 s\n",
      "Operator `forward` ran in 0.17 s\n",
      "Operator `forward` ran in 0.17 s\n",
      "Operator `forward` ran in 0.17 s\n",
      "Operator `forward` ran in 0.17 s\n",
      "Operator `forward` ran in 0.18 s\n",
      "Operator `forward` ran in 0.17 s\n"
     ]
    },
    {
     "name": "stdout",
     "output_type": "stream",
     "text": [
      "(α, misfit) = (0.0010000000149011613, 273.4191589355469)\n",
      "(α, misfit) = "
     ]
    },
    {
     "name": "stderr",
     "output_type": "stream",
     "text": [
      "Operator `forward` ran in 0.17 s\n",
      "Operator `forward` ran in 0.17 s\n",
      "Operator `forward` ran in 0.17 s\n",
      "Operator `forward` ran in 0.17 s\n",
      "Operator `forward` ran in 0.17 s\n",
      "Operator `forward` ran in 0.17 s\n",
      "Operator `forward` ran in 0.17 s\n",
      "Operator `forward` ran in 0.17 s\n",
      "Operator `forward` ran in 0.17 s\n",
      "Operator `forward` ran in 0.17 s\n",
      "Operator `forward` ran in 0.17 s\n",
      "Operator `forward` ran in 0.17 s\n",
      "Operator `forward` ran in 0.17 s\n",
      "Operator `forward` ran in 0.17 s\n",
      "Operator `forward` ran in 0.17 s\n",
      "Operator `forward` ran in 0.17 s\n"
     ]
    },
    {
     "name": "stdout",
     "output_type": "stream",
     "text": [
      "(0.00037207416924358374, 243.52256774902344)\n"
     ]
    },
    {
     "name": "stderr",
     "output_type": "stream",
     "text": [
      "Operator `forward` ran in 0.17 s\n",
      "Operator `forward` ran in 0.16 s\n",
      "Operator `forward` ran in 0.17 s\n",
      "Operator `forward` ran in 0.17 s\n",
      "Operator `forward` ran in 0.17 s\n",
      "Operator `forward` ran in 0.17 s\n",
      "Operator `forward` ran in 0.16 s\n",
      "Operator `forward` ran in 0.17 s\n",
      "Operator `forward` ran in 0.17 s\n",
      "Operator `forward` ran in 0.17 s\n",
      "Operator `forward` ran in 0.17 s\n",
      "Operator `forward` ran in 0.17 s\n",
      "Operator `forward` ran in 0.17 s\n",
      "Operator `forward` ran in 0.17 s\n",
      "Operator `forward` ran in 0.17 s\n",
      "Operator `forward` ran in 0.17 s\n"
     ]
    },
    {
     "name": "stdout",
     "output_type": "stream",
     "text": [
      "FWI iteration no: 14; function value: 258.47433\n",
      "(α, misfit) = "
     ]
    },
    {
     "name": "stderr",
     "output_type": "stream",
     "text": [
      "Operator `forward` ran in 0.19 s\n",
      "Operator `gradient` ran in 0.18 s\n",
      "Operator `forward` ran in 0.18 s\n",
      "Operator `gradient` ran in 0.17 s\n",
      "Operator `forward` ran in 0.18 s\n",
      "Operator `gradient` ran in 0.16 s\n",
      "Operator `forward` ran in 0.18 s\n",
      "Operator `gradient` ran in 0.17 s\n",
      "Operator `forward` ran in 0.18 s\n",
      "Operator `gradient` ran in 0.17 s\n",
      "Operator `forward` ran in 0.17 s\n",
      "Operator `gradient` ran in 0.17 s\n",
      "Operator `forward` ran in 0.18 s\n",
      "Operator `gradient` ran in 0.16 s\n",
      "Operator `forward` ran in 0.17 s\n",
      "Operator `gradient` ran in 0.17 s\n",
      "Operator `forward` ran in 0.18 s\n",
      "Operator `gradient` ran in 0.16 s\n",
      "Operator `forward` ran in 0.17 s\n",
      "Operator `gradient` ran in 0.17 s\n",
      "Operator `forward` ran in 0.18 s\n",
      "Operator `gradient` ran in 0.17 s\n",
      "Operator `forward` ran in 0.18 s\n",
      "Operator `gradient` ran in 0.17 s\n",
      "Operator `forward` ran in 0.18 s\n",
      "Operator `gradient` ran in 0.17 s\n",
      "Operator `forward` ran in 0.18 s\n",
      "Operator `gradient` ran in 0.16 s\n",
      "Operator `forward` ran in 0.17 s\n",
      "Operator `gradient` ran in 0.17 s\n",
      "Operator `forward` ran in 0.17 s\n",
      "Operator `gradient` ran in 0.18 s\n"
     ]
    },
    {
     "name": "stdout",
     "output_type": "stream",
     "text": [
      "(0.1f0, 41324.6875)\n"
     ]
    },
    {
     "name": "stderr",
     "output_type": "stream",
     "text": [
      "Operator `forward` ran in 0.16 s\n",
      "Operator `forward` ran in 0.15 s\n",
      "Operator `forward` ran in 0.15 s\n",
      "Operator `forward` ran in 0.15 s\n",
      "Operator `forward` ran in 0.15 s\n",
      "Operator `forward` ran in 0.15 s\n",
      "Operator `forward` ran in 0.15 s\n",
      "Operator `forward` ran in 0.15 s\n",
      "Operator `forward` ran in 0.15 s\n",
      "Operator `forward` ran in 0.15 s\n",
      "Operator `forward` ran in 0.16 s\n",
      "Operator `forward` ran in 0.17 s\n",
      "Operator `forward` ran in 0.17 s\n",
      "Operator `forward` ran in 0.17 s\n",
      "Operator `forward` ran in 0.17 s\n",
      "Operator `forward` ran in 0.17 s\n"
     ]
    },
    {
     "name": "stdout",
     "output_type": "stream",
     "text": [
      "(α, misfit) = (0.010000000149011612, 678.7847900390625)\n",
      "(α, misfit) = "
     ]
    },
    {
     "name": "stderr",
     "output_type": "stream",
     "text": [
      "Operator `forward` ran in 0.17 s\n",
      "Operator `forward` ran in 0.17 s\n",
      "Operator `forward` ran in 0.17 s\n",
      "Operator `forward` ran in 0.17 s\n",
      "Operator `forward` ran in 0.17 s\n",
      "Operator `forward` ran in 0.18 s\n",
      "Operator `forward` ran in 0.18 s\n",
      "Operator `forward` ran in 0.18 s\n",
      "Operator `forward` ran in 0.17 s\n",
      "Operator `forward` ran in 0.16 s\n",
      "Operator `forward` ran in 0.17 s\n",
      "Operator `forward` ran in 0.17 s\n",
      "Operator `forward` ran in 0.17 s\n",
      "Operator `forward` ran in 0.17 s\n",
      "Operator `forward` ran in 0.17 s\n",
      "Operator `forward` ran in 0.17 s\n"
     ]
    },
    {
     "name": "stdout",
     "output_type": "stream",
     "text": [
      "(0.0019615129865124367, 248.2328338623047)\n"
     ]
    },
    {
     "name": "stderr",
     "output_type": "stream",
     "text": [
      "Operator `forward` ran in 0.17 s\n",
      "Operator `forward` ran in 0.18 s\n",
      "Operator `forward` ran in 0.18 s\n",
      "Operator `forward` ran in 0.17 s\n",
      "Operator `forward` ran in 0.17 s\n",
      "Operator `forward` ran in 0.17 s\n",
      "Operator `forward` ran in 0.17 s\n",
      "Operator `forward` ran in 0.17 s\n",
      "Operator `forward` ran in 0.17 s\n",
      "Operator `forward` ran in 0.17 s\n",
      "Operator `forward` ran in 0.17 s\n",
      "Operator `forward` ran in 0.17 s\n",
      "Operator `forward` ran in 0.18 s\n",
      "Operator `forward` ran in 0.18 s\n",
      "Operator `forward` ran in 0.17 s\n",
      "Operator `forward` ran in 0.17 s\n"
     ]
    },
    {
     "name": "stdout",
     "output_type": "stream",
     "text": [
      "FWI iteration no: 15; function value: 231.68063\n",
      "(α, misfit) = "
     ]
    },
    {
     "name": "stderr",
     "output_type": "stream",
     "text": [
      "Operator `forward` ran in 0.19 s\n",
      "Operator `gradient` ran in 0.17 s\n",
      "Operator `forward` ran in 0.18 s\n",
      "Operator `gradient` ran in 0.16 s\n",
      "Operator `forward` ran in 0.18 s\n",
      "Operator `gradient` ran in 0.17 s\n",
      "Operator `forward` ran in 0.18 s\n",
      "Operator `gradient` ran in 0.16 s\n",
      "Operator `forward` ran in 0.17 s\n",
      "Operator `gradient` ran in 0.17 s\n",
      "Operator `forward` ran in 0.17 s\n",
      "Operator `gradient` ran in 0.17 s\n",
      "Operator `forward` ran in 0.18 s\n",
      "Operator `gradient` ran in 0.17 s\n",
      "Operator `forward` ran in 0.18 s\n",
      "Operator `gradient` ran in 0.17 s\n",
      "Operator `forward` ran in 0.18 s\n",
      "Operator `gradient` ran in 0.17 s\n",
      "Operator `forward` ran in 0.18 s\n",
      "Operator `gradient` ran in 0.17 s\n",
      "Operator `forward` ran in 0.18 s\n",
      "Operator `gradient` ran in 0.17 s\n",
      "Operator `forward` ran in 0.18 s\n",
      "Operator `gradient` ran in 0.16 s\n",
      "Operator `forward` ran in 0.18 s\n",
      "Operator `gradient` ran in 0.17 s\n",
      "Operator `forward` ran in 0.18 s\n",
      "Operator `gradient` ran in 0.17 s\n",
      "Operator `forward` ran in 0.18 s\n",
      "Operator `gradient` ran in 0.17 s\n",
      "Operator `forward` ran in 0.18 s\n",
      "Operator `gradient` ran in 0.17 s\n"
     ]
    },
    {
     "name": "stdout",
     "output_type": "stream",
     "text": [
      "(0.1f0, 309495.21875)\n"
     ]
    },
    {
     "name": "stderr",
     "output_type": "stream",
     "text": [
      "Operator `forward` ran in 0.16 s\n",
      "Operator `forward` ran in 0.16 s\n",
      "Operator `forward` ran in 0.16 s\n",
      "Operator `forward` ran in 0.17 s\n",
      "Operator `forward` ran in 0.17 s\n",
      "Operator `forward` ran in 0.17 s\n",
      "Operator `forward` ran in 0.17 s\n",
      "Operator `forward` ran in 0.17 s\n",
      "Operator `forward` ran in 0.17 s\n",
      "Operator `forward` ran in 0.17 s\n",
      "Operator `forward` ran in 0.17 s\n",
      "Operator `forward` ran in 0.17 s\n",
      "Operator `forward` ran in 0.18 s\n",
      "Operator `forward` ran in 0.19 s\n",
      "Operator `forward` ran in 0.18 s\n",
      "Operator `forward` ran in 0.17 s\n"
     ]
    },
    {
     "name": "stdout",
     "output_type": "stream",
     "text": [
      "(α, misfit) = (0.010000000149011612, 6606.2177734375)\n",
      "(α, misfit) = "
     ]
    },
    {
     "name": "stderr",
     "output_type": "stream",
     "text": [
      "Operator `forward` ran in 0.17 s\n",
      "Operator `forward` ran in 0.17 s\n",
      "Operator `forward` ran in 0.17 s\n",
      "Operator `forward` ran in 0.18 s\n",
      "Operator `forward` ran in 0.18 s\n",
      "Operator `forward` ran in 0.18 s\n",
      "Operator `forward` ran in 0.18 s\n",
      "Operator `forward` ran in 0.17 s\n",
      "Operator `forward` ran in 0.17 s\n",
      "Operator `forward` ran in 0.17 s\n",
      "Operator `forward` ran in 0.17 s\n",
      "Operator `forward` ran in 0.17 s\n",
      "Operator `forward` ran in 0.17 s\n",
      "Operator `forward` ran in 0.17 s\n",
      "Operator `forward` ran in 0.17 s\n",
      "Operator `forward` ran in 0.17 s\n"
     ]
    },
    {
     "name": "stdout",
     "output_type": "stream",
     "text": [
      "(0.0010000000149011613, 265.1451416015625)\n"
     ]
    },
    {
     "name": "stderr",
     "output_type": "stream",
     "text": [
      "Operator `forward` ran in 0.17 s\n",
      "Operator `forward` ran in 0.17 s\n",
      "Operator `forward` ran in 0.17 s\n",
      "Operator `forward` ran in 0.17 s\n",
      "Operator `forward` ran in 0.17 s\n",
      "Operator `forward` ran in 0.17 s\n",
      "Operator `forward` ran in 0.17 s\n",
      "Operator `forward` ran in 0.18 s\n",
      "Operator `forward` ran in 0.18 s\n",
      "Operator `forward` ran in 0.17 s\n",
      "Operator `forward` ran in 0.17 s\n",
      "Operator `forward` ran in 0.17 s\n",
      "Operator `forward` ran in 0.17 s\n",
      "Operator `forward` ran in 0.17 s\n",
      "Operator `forward` ran in 0.17 s\n",
      "Operator `forward` ran in 0.17 s\n"
     ]
    },
    {
     "name": "stdout",
     "output_type": "stream",
     "text": [
      "(α, misfit) = (0.0003013255491820962, 225.16587829589844)\n",
      "FWI iteration no: "
     ]
    },
    {
     "name": "stderr",
     "output_type": "stream",
     "text": [
      "Operator `forward` ran in 0.18 s\n",
      "Operator `forward` ran in 0.18 s\n",
      "Operator `forward` ran in 0.18 s\n",
      "Operator `forward` ran in 0.18 s\n",
      "Operator `forward` ran in 0.17 s\n",
      "Operator `forward` ran in 0.18 s\n",
      "Operator `forward` ran in 0.17 s\n",
      "Operator `forward` ran in 0.17 s\n",
      "Operator `forward` ran in 0.17 s\n",
      "Operator `forward` ran in 0.17 s\n",
      "Operator `forward` ran in 0.17 s\n",
      "Operator `forward` ran in 0.17 s\n",
      "Operator `forward` ran in 0.18 s\n",
      "Operator `forward` ran in 0.17 s\n",
      "Operator `forward` ran in 0.17 s\n",
      "Operator `forward` ran in 0.17 s\n"
     ]
    },
    {
     "name": "stdout",
     "output_type": "stream",
     "text": [
      "16; function value: 236.60822\n"
     ]
    },
    {
     "name": "stderr",
     "output_type": "stream",
     "text": [
      "Operator `forward` ran in 0.19 s\n",
      "Operator `gradient` ran in 0.18 s\n",
      "Operator `forward` ran in 0.18 s\n",
      "Operator `gradient` ran in 0.17 s\n",
      "Operator `forward` ran in 0.18 s\n",
      "Operator `gradient` ran in 0.17 s\n",
      "Operator `forward` ran in 0.18 s\n",
      "Operator `gradient` ran in 0.17 s\n",
      "Operator `forward` ran in 0.18 s\n",
      "Operator `gradient` ran in 0.17 s\n",
      "Operator `forward` ran in 0.18 s\n",
      "Operator `gradient` ran in 0.17 s\n",
      "Operator `forward` ran in 0.18 s\n",
      "Operator `gradient` ran in 0.17 s\n",
      "Operator `forward` ran in 0.18 s\n",
      "Operator `gradient` ran in 0.17 s\n",
      "Operator `forward` ran in 0.18 s\n",
      "Operator `gradient` ran in 0.17 s\n",
      "Operator `forward` ran in 0.18 s\n",
      "Operator `gradient` ran in 0.17 s\n",
      "Operator `forward` ran in 0.18 s\n",
      "Operator `gradient` ran in 0.18 s\n",
      "Operator `forward` ran in 0.18 s\n",
      "Operator `gradient` ran in 0.17 s\n",
      "Operator `forward` ran in 0.18 s\n",
      "Operator `gradient` ran in 0.17 s\n",
      "Operator `forward` ran in 0.18 s\n",
      "Operator `gradient` ran in 0.17 s\n",
      "Operator `forward` ran in 0.18 s\n",
      "Operator `gradient` ran in 0.17 s\n",
      "Operator `forward` ran in 0.18 s\n",
      "Operator `gradient` ran in 0.17 s\n"
     ]
    },
    {
     "name": "stdout",
     "output_type": "stream",
     "text": [
      "(α, misfit) = (0.1f0, 8849.576171875)\n",
      "(α, misfit) = "
     ]
    },
    {
     "name": "stderr",
     "output_type": "stream",
     "text": [
      "Operator `forward` ran in 0.16 s\n",
      "Operator `forward` ran in 0.17 s\n",
      "Operator `forward` ran in 0.16 s\n",
      "Operator `forward` ran in 0.17 s\n",
      "Operator `forward` ran in 0.17 s\n",
      "Operator `forward` ran in 0.17 s\n",
      "Operator `forward` ran in 0.17 s\n",
      "Operator `forward` ran in 0.18 s\n",
      "Operator `forward` ran in 0.18 s\n",
      "Operator `forward` ran in 0.18 s\n",
      "Operator `forward` ran in 0.17 s\n",
      "Operator `forward` ran in 0.18 s\n",
      "Operator `forward` ran in 0.18 s\n",
      "Operator `forward` ran in 0.17 s\n",
      "Operator `forward` ran in 0.18 s\n",
      "Operator `forward` ran in 0.18 s\n"
     ]
    },
    {
     "name": "stdout",
     "output_type": "stream",
     "text": [
      "(0.014991500429740507, 634.4618530273438)\n"
     ]
    },
    {
     "name": "stderr",
     "output_type": "stream",
     "text": [
      "Operator `forward` ran in 0.18 s\n",
      "Operator `forward` ran in 0.17 s\n",
      "Operator `forward` ran in 0.17 s\n",
      "Operator `forward` ran in 0.17 s\n",
      "Operator `forward` ran in 0.17 s\n",
      "Operator `forward` ran in 0.18 s\n",
      "Operator `forward` ran in 0.18 s\n",
      "Operator `forward` ran in 0.18 s\n",
      "Operator `forward` ran in 0.18 s\n",
      "Operator `forward` ran in 0.17 s\n",
      "Operator `forward` ran in 0.17 s\n",
      "Operator `forward` ran in 0.17 s\n",
      "Operator `forward` ran in 0.17 s\n",
      "Operator `forward` ran in 0.18 s\n",
      "Operator `forward` ran in 0.17 s\n",
      "Operator `forward` ran in 0.18 s\n"
     ]
    },
    {
     "name": "stdout",
     "output_type": "stream",
     "text": [
      "(α, misfit) = (0.004057702846776451, 249.42779541015625)\n",
      "(α, misfit) = "
     ]
    },
    {
     "name": "stderr",
     "output_type": "stream",
     "text": [
      "Operator `forward` ran in 0.18 s\n",
      "Operator `forward` ran in 0.17 s\n",
      "Operator `forward` ran in 0.17 s\n",
      "Operator `forward` ran in 0.17 s\n",
      "Operator `forward` ran in 0.17 s\n",
      "Operator `forward` ran in 0.17 s\n",
      "Operator `forward` ran in 0.17 s\n",
      "Operator `forward` ran in 0.17 s\n",
      "Operator `forward` ran in 0.17 s\n",
      "Operator `forward` ran in 0.17 s\n",
      "Operator `forward` ran in 0.18 s\n",
      "Operator `forward` ran in 0.17 s\n",
      "Operator `forward` ran in 0.17 s\n",
      "Operator `forward` ran in 0.17 s\n",
      "Operator `forward` ran in 0.17 s\n",
      "Operator `forward` ran in 0.17 s\n"
     ]
    },
    {
     "name": "stdout",
     "output_type": "stream",
     "text": [
      "(0.0017369723330436038, 227.6676025390625)\n"
     ]
    },
    {
     "name": "stderr",
     "output_type": "stream",
     "text": [
      "Operator `forward` ran in 0.17 s\n",
      "Operator `forward` ran in 0.18 s\n",
      "Operator `forward` ran in 0.17 s\n",
      "Operator `forward` ran in 0.18 s\n",
      "Operator `forward` ran in 0.18 s\n",
      "Operator `forward` ran in 0.17 s\n",
      "Operator `forward` ran in 0.17 s\n",
      "Operator `forward` ran in 0.17 s\n",
      "Operator `forward` ran in 0.18 s\n",
      "Operator `forward` ran in 0.17 s\n",
      "Operator `forward` ran in 0.18 s\n",
      "Operator `forward` ran in 0.17 s\n",
      "Operator `forward` ran in 0.17 s\n",
      "Operator `forward` ran in 0.17 s\n",
      "Operator `forward` ran in 0.17 s\n",
      "Operator `forward` ran in 0.16 s\n"
     ]
    },
    {
     "name": "stdout",
     "output_type": "stream",
     "text": [
      "FWI iteration no: 17; function value: 209.26048\n",
      "(α, misfit) = "
     ]
    },
    {
     "name": "stderr",
     "output_type": "stream",
     "text": [
      "Operator `forward` ran in 0.19 s\n",
      "Operator `gradient` ran in 0.18 s\n",
      "Operator `forward` ran in 0.18 s\n",
      "Operator `gradient` ran in 0.17 s\n",
      "Operator `forward` ran in 0.18 s\n",
      "Operator `gradient` ran in 0.17 s\n",
      "Operator `forward` ran in 0.18 s\n",
      "Operator `gradient` ran in 0.17 s\n",
      "Operator `forward` ran in 0.18 s\n",
      "Operator `gradient` ran in 0.17 s\n",
      "Operator `forward` ran in 0.18 s\n",
      "Operator `gradient` ran in 0.16 s\n",
      "Operator `forward` ran in 0.18 s\n",
      "Operator `gradient` ran in 0.17 s\n",
      "Operator `forward` ran in 0.18 s\n",
      "Operator `gradient` ran in 0.17 s\n",
      "Operator `forward` ran in 0.18 s\n",
      "Operator `gradient` ran in 0.17 s\n",
      "Operator `forward` ran in 0.18 s\n",
      "Operator `gradient` ran in 0.17 s\n",
      "Operator `forward` ran in 0.18 s\n",
      "Operator `gradient` ran in 0.17 s\n",
      "Operator `forward` ran in 0.19 s\n",
      "Operator `gradient` ran in 0.18 s\n",
      "Operator `forward` ran in 0.18 s\n",
      "Operator `gradient` ran in 0.17 s\n",
      "Operator `forward` ran in 0.18 s\n",
      "Operator `gradient` ran in 0.17 s\n",
      "Operator `forward` ran in 0.18 s\n",
      "Operator `gradient` ran in 0.17 s\n",
      "Operator `forward` ran in 0.18 s\n",
      "Operator `gradient` ran in 0.16 s\n"
     ]
    },
    {
     "name": "stdout",
     "output_type": "stream",
     "text": [
      "(0.1f0, 345627.375)\n"
     ]
    },
    {
     "name": "stderr",
     "output_type": "stream",
     "text": [
      "Operator `forward` ran in 0.16 s\n",
      "Operator `forward` ran in 0.16 s\n",
      "Operator `forward` ran in 0.16 s\n",
      "Operator `forward` ran in 0.17 s\n",
      "Operator `forward` ran in 0.17 s\n",
      "Operator `forward` ran in 0.17 s\n",
      "Operator `forward` ran in 0.17 s\n",
      "Operator `forward` ran in 0.17 s\n",
      "Operator `forward` ran in 0.17 s\n",
      "Operator `forward` ran in 0.18 s\n",
      "Operator `forward` ran in 0.18 s\n",
      "Operator `forward` ran in 0.17 s\n",
      "Operator `forward` ran in 0.18 s\n",
      "Operator `forward` ran in 0.18 s\n",
      "Operator `forward` ran in 0.18 s\n",
      "Operator `forward` ran in 0.18 s\n"
     ]
    },
    {
     "name": "stdout",
     "output_type": "stream",
     "text": [
      "(α, misfit) = (0.010000000149011612, 6329.10498046875)\n",
      "(α, misfit) = "
     ]
    },
    {
     "name": "stderr",
     "output_type": "stream",
     "text": [
      "Operator `forward` ran in 0.18 s\n",
      "Operator `forward` ran in 0.18 s\n",
      "Operator `forward` ran in 0.18 s\n",
      "Operator `forward` ran in 0.18 s\n",
      "Operator `forward` ran in 0.18 s\n",
      "Operator `forward` ran in 0.18 s\n",
      "Operator `forward` ran in 0.17 s\n",
      "Operator `forward` ran in 0.17 s\n",
      "Operator `forward` ran in 0.17 s\n",
      "Operator `forward` ran in 0.17 s\n",
      "Operator `forward` ran in 0.18 s\n",
      "Operator `forward` ran in 0.18 s\n",
      "Operator `forward` ran in 0.18 s\n",
      "Operator `forward` ran in 0.18 s\n",
      "Operator `forward` ran in 0.18 s\n",
      "Operator `forward` ran in 0.19 s\n"
     ]
    },
    {
     "name": "stdout",
     "output_type": "stream",
     "text": [
      "(0.0010000000149011613, 236.3076934814453)\n"
     ]
    },
    {
     "name": "stderr",
     "output_type": "stream",
     "text": [
      "Operator `forward` ran in 0.17 s\n",
      "Operator `forward` ran in 0.17 s\n",
      "Operator `forward` ran in 0.17 s\n",
      "Operator `forward` ran in 0.17 s\n",
      "Operator `forward` ran in 0.17 s\n",
      "Operator `forward` ran in 0.17 s\n",
      "Operator `forward` ran in 0.17 s\n",
      "Operator `forward` ran in 0.17 s\n",
      "Operator `forward` ran in 0.17 s\n",
      "Operator `forward` ran in 0.17 s\n",
      "Operator `forward` ran in 0.17 s\n",
      "Operator `forward` ran in 0.17 s\n",
      "Operator `forward` ran in 0.17 s\n",
      "Operator `forward` ran in 0.17 s\n",
      "Operator `forward` ran in 0.18 s\n",
      "Operator `forward` ran in 0.18 s\n"
     ]
    },
    {
     "name": "stdout",
     "output_type": "stream",
     "text": [
      "(α, misfit) = (0.0002989955215525389, 203.2026824951172)\n",
      "FWI iteration no: "
     ]
    },
    {
     "name": "stderr",
     "output_type": "stream",
     "text": [
      "Operator `forward` ran in 0.18 s\n",
      "Operator `forward` ran in 0.18 s\n",
      "Operator `forward` ran in 0.18 s\n",
      "Operator `forward` ran in 0.18 s\n",
      "Operator `forward` ran in 0.18 s\n",
      "Operator `forward` ran in 0.18 s\n",
      "Operator `forward` ran in 0.18 s\n",
      "Operator `forward` ran in 0.18 s\n",
      "Operator `forward` ran in 0.18 s\n",
      "Operator `forward` ran in 0.18 s\n",
      "Operator `forward` ran in 0.17 s\n",
      "Operator `forward` ran in 0.17 s\n",
      "Operator `forward` ran in 0.17 s\n",
      "Operator `forward` ran in 0.17 s\n",
      "Operator `forward` ran in 0.17 s\n",
      "Operator `forward` ran in 0.17 s\n"
     ]
    },
    {
     "name": "stdout",
     "output_type": "stream",
     "text": [
      "18; function value: 223.27698\n"
     ]
    },
    {
     "name": "stderr",
     "output_type": "stream",
     "text": [
      "Operator `forward` ran in 0.19 s\n",
      "Operator `gradient` ran in 0.18 s\n",
      "Operator `forward` ran in 0.18 s\n",
      "Operator `gradient` ran in 0.17 s\n",
      "Operator `forward` ran in 0.17 s\n",
      "Operator `gradient` ran in 0.17 s\n",
      "Operator `forward` ran in 0.14 s\n",
      "Operator `gradient` ran in 0.13 s\n",
      "Operator `forward` ran in 0.14 s\n",
      "Operator `gradient` ran in 0.13 s\n",
      "Operator `forward` ran in 0.14 s\n",
      "Operator `gradient` ran in 0.13 s\n",
      "Operator `forward` ran in 0.14 s\n",
      "Operator `gradient` ran in 0.13 s\n",
      "Operator `forward` ran in 0.14 s\n",
      "Operator `gradient` ran in 0.13 s\n",
      "Operator `forward` ran in 0.14 s\n",
      "Operator `gradient` ran in 0.13 s\n",
      "Operator `forward` ran in 0.14 s\n",
      "Operator `gradient` ran in 0.13 s\n",
      "Operator `forward` ran in 0.14 s\n",
      "Operator `gradient` ran in 0.13 s\n",
      "Operator `forward` ran in 0.14 s\n",
      "Operator `gradient` ran in 0.13 s\n",
      "Operator `forward` ran in 0.14 s\n",
      "Operator `gradient` ran in 0.15 s\n",
      "Operator `forward` ran in 0.16 s\n",
      "Operator `gradient` ran in 0.15 s\n",
      "Operator `forward` ran in 0.16 s\n",
      "Operator `gradient` ran in 0.15 s\n",
      "Operator `forward` ran in 0.17 s\n",
      "Operator `gradient` ran in 0.16 s\n"
     ]
    },
    {
     "name": "stdout",
     "output_type": "stream",
     "text": [
      "(α, misfit) = (0.1f0, 26948.966796875)\n",
      "(α, misfit) = "
     ]
    },
    {
     "name": "stderr",
     "output_type": "stream",
     "text": [
      "Operator `forward` ran in 0.15 s\n",
      "Operator `forward` ran in 0.15 s\n",
      "Operator `forward` ran in 0.15 s\n",
      "Operator `forward` ran in 0.15 s\n",
      "Operator `forward` ran in 0.15 s\n",
      "Operator `forward` ran in 0.16 s\n",
      "Operator `forward` ran in 0.17 s\n",
      "Operator `forward` ran in 0.16 s\n",
      "Operator `forward` ran in 0.16 s\n",
      "Operator `forward` ran in 0.17 s\n",
      "Operator `forward` ran in 0.16 s\n",
      "Operator `forward` ran in 0.16 s\n",
      "Operator `forward` ran in 0.18 s\n",
      "Operator `forward` ran in 0.17 s\n",
      "Operator `forward` ran in 0.16 s\n",
      "Operator `forward` ran in 0.17 s\n"
     ]
    },
    {
     "name": "stdout",
     "output_type": "stream",
     "text": [
      "(0.010000000149011612, 471.0252380371094)\n"
     ]
    },
    {
     "name": "stderr",
     "output_type": "stream",
     "text": [
      "Operator `forward` ran in 0.18 s\n",
      "Operator `forward` ran in 0.17 s\n",
      "Operator `forward` ran in 0.17 s\n",
      "Operator `forward` ran in 0.17 s\n",
      "Operator `forward` ran in 0.17 s\n",
      "Operator `forward` ran in 0.17 s\n",
      "Operator `forward` ran in 0.17 s\n",
      "Operator `forward` ran in 0.17 s\n",
      "Operator `forward` ran in 0.16 s\n",
      "Operator `forward` ran in 0.17 s\n",
      "Operator `forward` ran in 0.17 s\n",
      "Operator `forward` ran in 0.17 s\n",
      "Operator `forward` ran in 0.17 s\n",
      "Operator `forward` ran in 0.17 s\n",
      "Operator `forward` ran in 0.17 s\n",
      "Operator `forward` ran in 0.17 s\n"
     ]
    },
    {
     "name": "stdout",
     "output_type": "stream",
     "text": [
      "(α, misfit) = (0.0023421389258834516, 216.55690002441406)\n",
      "FWI iteration no: "
     ]
    },
    {
     "name": "stderr",
     "output_type": "stream",
     "text": [
      "Operator `forward` ran in 0.17 s\n",
      "Operator `forward` ran in 0.17 s\n",
      "Operator `forward` ran in 0.17 s\n",
      "Operator `forward` ran in 0.17 s\n",
      "Operator `forward` ran in 0.17 s\n",
      "Operator `forward` ran in 0.18 s\n",
      "Operator `forward` ran in 0.18 s\n",
      "Operator `forward` ran in 0.18 s\n",
      "Operator `forward` ran in 0.17 s\n",
      "Operator `forward` ran in 0.17 s\n",
      "Operator `forward` ran in 0.17 s\n",
      "Operator `forward` ran in 0.17 s\n",
      "Operator `forward` ran in 0.17 s\n",
      "Operator `forward` ran in 0.17 s\n",
      "Operator `forward` ran in 0.17 s\n",
      "Operator `forward` ran in 0.17 s\n"
     ]
    },
    {
     "name": "stdout",
     "output_type": "stream",
     "text": [
      "19; function value: 218.94371\n"
     ]
    },
    {
     "name": "stderr",
     "output_type": "stream",
     "text": [
      "Operator `forward` ran in 0.19 s\n",
      "Operator `gradient` ran in 0.18 s\n",
      "Operator `forward` ran in 0.17 s\n",
      "Operator `gradient` ran in 0.17 s\n",
      "Operator `forward` ran in 0.18 s\n",
      "Operator `gradient` ran in 0.17 s\n",
      "Operator `forward` ran in 0.17 s\n",
      "Operator `gradient` ran in 0.16 s\n",
      "Operator `forward` ran in 0.17 s\n",
      "Operator `gradient` ran in 0.16 s\n",
      "Operator `forward` ran in 0.17 s\n",
      "Operator `gradient` ran in 0.16 s\n",
      "Operator `forward` ran in 0.17 s\n",
      "Operator `gradient` ran in 0.16 s\n",
      "Operator `forward` ran in 0.17 s\n",
      "Operator `gradient` ran in 0.16 s\n",
      "Operator `forward` ran in 0.17 s\n",
      "Operator `gradient` ran in 0.16 s\n",
      "Operator `forward` ran in 0.17 s\n",
      "Operator `gradient` ran in 0.16 s\n",
      "Operator `forward` ran in 0.17 s\n",
      "Operator `gradient` ran in 0.16 s\n",
      "Operator `forward` ran in 0.17 s\n",
      "Operator `gradient` ran in 0.16 s\n",
      "Operator `forward` ran in 0.17 s\n",
      "Operator `gradient` ran in 0.17 s\n",
      "Operator `forward` ran in 0.17 s\n",
      "Operator `gradient` ran in 0.16 s\n",
      "Operator `forward` ran in 0.17 s\n",
      "Operator `gradient` ran in 0.16 s\n",
      "Operator `forward` ran in 0.17 s\n",
      "Operator `gradient` ran in 0.16 s\n"
     ]
    },
    {
     "name": "stdout",
     "output_type": "stream",
     "text": [
      "(α, misfit) = (0.1f0, 283988.84375)\n",
      "(α, misfit) = "
     ]
    },
    {
     "name": "stderr",
     "output_type": "stream",
     "text": [
      "Operator `forward` ran in 0.15 s\n",
      "Operator `forward` ran in 0.15 s\n",
      "Operator `forward` ran in 0.15 s\n",
      "Operator `forward` ran in 0.16 s\n",
      "Operator `forward` ran in 0.16 s\n",
      "Operator `forward` ran in 0.16 s\n",
      "Operator `forward` ran in 0.16 s\n",
      "Operator `forward` ran in 0.17 s\n",
      "Operator `forward` ran in 0.16 s\n",
      "Operator `forward` ran in 0.18 s\n",
      "Operator `forward` ran in 0.17 s\n",
      "Operator `forward` ran in 0.17 s\n",
      "Operator `forward` ran in 0.16 s\n",
      "Operator `forward` ran in 0.17 s\n",
      "Operator `forward` ran in 0.19 s\n",
      "Operator `forward` ran in 0.18 s\n"
     ]
    },
    {
     "name": "stdout",
     "output_type": "stream",
     "text": [
      "(0.010000000149011612, 5039.7529296875)\n"
     ]
    },
    {
     "name": "stderr",
     "output_type": "stream",
     "text": [
      "Operator `forward` ran in 0.17 s\n",
      "Operator `forward` ran in 0.17 s\n",
      "Operator `forward` ran in 0.17 s\n",
      "Operator `forward` ran in 0.17 s\n",
      "Operator `forward` ran in 0.17 s\n",
      "Operator `forward` ran in 0.17 s\n",
      "Operator `forward` ran in 0.17 s\n",
      "Operator `forward` ran in 0.16 s\n",
      "Operator `forward` ran in 0.17 s\n",
      "Operator `forward` ran in 0.17 s\n",
      "Operator `forward` ran in 0.17 s\n",
      "Operator `forward` ran in 0.17 s\n",
      "Operator `forward` ran in 0.17 s\n",
      "Operator `forward` ran in 0.17 s\n",
      "Operator `forward` ran in 0.17 s\n",
      "Operator `forward` ran in 0.17 s\n"
     ]
    },
    {
     "name": "stdout",
     "output_type": "stream",
     "text": [
      "(α, misfit) = (0.0010000000149011613, 237.17669677734375)\n",
      "(α, misfit) = "
     ]
    },
    {
     "name": "stderr",
     "output_type": "stream",
     "text": [
      "Operator `forward` ran in 0.17 s\n",
      "Operator `forward` ran in 0.17 s\n",
      "Operator `forward` ran in 0.17 s\n",
      "Operator `forward` ran in 0.16 s\n",
      "Operator `forward` ran in 0.18 s\n",
      "Operator `forward` ran in 0.17 s\n",
      "Operator `forward` ran in 0.17 s\n",
      "Operator `forward` ran in 0.17 s\n",
      "Operator `forward` ran in 0.17 s\n",
      "Operator `forward` ran in 0.17 s\n",
      "Operator `forward` ran in 0.17 s\n",
      "Operator `forward` ran in 0.17 s\n",
      "Operator `forward` ran in 0.18 s\n",
      "Operator `forward` ran in 0.17 s\n",
      "Operator `forward` ran in 0.18 s\n",
      "Operator `forward` ran in 0.16 s\n"
     ]
    },
    {
     "name": "stdout",
     "output_type": "stream",
     "text": [
      "(0.0003632393315468059, 211.55035400390625)\n"
     ]
    },
    {
     "name": "stderr",
     "output_type": "stream",
     "text": [
      "Operator `forward` ran in 0.16 s\n",
      "Operator `forward` ran in 0.16 s\n",
      "Operator `forward` ran in 0.16 s\n",
      "Operator `forward` ran in 0.16 s\n",
      "Operator `forward` ran in 0.16 s\n",
      "Operator `forward` ran in 0.16 s\n",
      "Operator `forward` ran in 0.16 s\n",
      "Operator `forward` ran in 0.16 s\n",
      "Operator `forward` ran in 0.16 s\n",
      "Operator `forward` ran in 0.17 s\n",
      "Operator `forward` ran in 0.17 s\n",
      "Operator `forward` ran in 0.17 s\n",
      "Operator `forward` ran in 0.17 s\n",
      "Operator `forward` ran in 0.17 s\n",
      "Operator `forward` ran in 0.17 s\n",
      "Operator `forward` ran in 0.16 s\n"
     ]
    },
    {
     "name": "stdout",
     "output_type": "stream",
     "text": [
      "FWI iteration no: 20; function value: 215.77525\n",
      "(α, misfit) = "
     ]
    },
    {
     "name": "stderr",
     "output_type": "stream",
     "text": [
      "Operator `forward` ran in 0.19 s\n",
      "Operator `gradient` ran in 0.18 s\n",
      "Operator `forward` ran in 0.18 s\n",
      "Operator `gradient` ran in 0.16 s\n",
      "Operator `forward` ran in 0.17 s\n",
      "Operator `gradient` ran in 0.16 s\n",
      "Operator `forward` ran in 0.18 s\n",
      "Operator `gradient` ran in 0.17 s\n",
      "Operator `forward` ran in 0.18 s\n",
      "Operator `gradient` ran in 0.16 s\n",
      "Operator `forward` ran in 0.17 s\n",
      "Operator `gradient` ran in 0.16 s\n",
      "Operator `forward` ran in 0.17 s\n",
      "Operator `gradient` ran in 0.16 s\n",
      "Operator `forward` ran in 0.17 s\n",
      "Operator `gradient` ran in 0.16 s\n",
      "Operator `forward` ran in 0.18 s\n",
      "Operator `gradient` ran in 0.17 s\n",
      "Operator `forward` ran in 0.18 s\n",
      "Operator `gradient` ran in 0.16 s\n",
      "Operator `forward` ran in 0.17 s\n",
      "Operator `gradient` ran in 0.16 s\n",
      "Operator `forward` ran in 0.17 s\n",
      "Operator `gradient` ran in 0.16 s\n",
      "Operator `forward` ran in 0.17 s\n",
      "Operator `gradient` ran in 0.16 s\n",
      "Operator `forward` ran in 0.17 s\n",
      "Operator `gradient` ran in 0.16 s\n",
      "Operator `forward` ran in 0.17 s\n",
      "Operator `gradient` ran in 0.16 s\n",
      "Operator `forward` ran in 0.17 s\n",
      "Operator `gradient` ran in 0.16 s\n"
     ]
    },
    {
     "name": "stdout",
     "output_type": "stream",
     "text": [
      "(0.1f0, 10195.275390625)\n"
     ]
    },
    {
     "name": "stderr",
     "output_type": "stream",
     "text": [
      "Operator `forward` ran in 0.16 s\n",
      "Operator `forward` ran in 0.16 s\n",
      "Operator `forward` ran in 0.15 s\n",
      "Operator `forward` ran in 0.15 s\n",
      "Operator `forward` ran in 0.15 s\n",
      "Operator `forward` ran in 0.15 s\n",
      "Operator `forward` ran in 0.15 s\n",
      "Operator `forward` ran in 0.15 s\n",
      "Operator `forward` ran in 0.15 s\n",
      "Operator `forward` ran in 0.15 s\n",
      "Operator `forward` ran in 0.16 s\n",
      "Operator `forward` ran in 0.17 s\n",
      "Operator `forward` ran in 0.17 s\n",
      "Operator `forward` ran in 0.17 s\n",
      "Operator `forward` ran in 0.17 s\n",
      "Operator `forward` ran in 0.17 s\n"
     ]
    },
    {
     "name": "stdout",
     "output_type": "stream",
     "text": [
      "(α, misfit) = (0.01370947269020811, 576.248046875)\n",
      "(α, misfit) = "
     ]
    },
    {
     "name": "stderr",
     "output_type": "stream",
     "text": [
      "Operator `forward` ran in 0.17 s\n",
      "Operator `forward` ran in 0.17 s\n",
      "Operator `forward` ran in 0.17 s\n",
      "Operator `forward` ran in 0.17 s\n",
      "Operator `forward` ran in 0.17 s\n",
      "Operator `forward` ran in 0.17 s\n",
      "Operator `forward` ran in 0.17 s\n",
      "Operator `forward` ran in 0.18 s\n",
      "Operator `forward` ran in 0.17 s\n",
      "Operator `forward` ran in 0.17 s\n",
      "Operator `forward` ran in 0.18 s\n",
      "Operator `forward` ran in 0.17 s\n",
      "Operator `forward` ran in 0.17 s\n",
      "Operator `forward` ran in 0.17 s\n",
      "Operator `forward` ran in 0.17 s\n",
      "Operator `forward` ran in 0.17 s\n"
     ]
    },
    {
     "name": "stdout",
     "output_type": "stream",
     "text": [
      "(0.003789623349034247, 222.8804168701172)\n"
     ]
    },
    {
     "name": "stderr",
     "output_type": "stream",
     "text": [
      "Operator `forward` ran in 0.17 s\n",
      "Operator `forward` ran in 0.17 s\n",
      "Operator `forward` ran in 0.17 s\n",
      "Operator `forward` ran in 0.17 s\n",
      "Operator `forward` ran in 0.17 s\n",
      "Operator `forward` ran in 0.17 s\n",
      "Operator `forward` ran in 0.17 s\n",
      "Operator `forward` ran in 0.17 s\n",
      "Operator `forward` ran in 0.17 s\n",
      "Operator `forward` ran in 0.17 s\n",
      "Operator `forward` ran in 0.17 s\n",
      "Operator `forward` ran in 0.17 s\n",
      "Operator `forward` ran in 0.17 s\n",
      "Operator `forward` ran in 0.17 s\n",
      "Operator `forward` ran in 0.17 s\n",
      "Operator `forward` ran in 0.17 s\n"
     ]
    },
    {
     "name": "stdout",
     "output_type": "stream",
     "text": [
      "(α, misfit) = (0.001686596570798411, 206.17962646484375)\n",
      "FWI iteration no: "
     ]
    },
    {
     "name": "stderr",
     "output_type": "stream",
     "text": [
      "Operator `forward` ran in 0.16 s\n",
      "Operator `forward` ran in 0.17 s\n",
      "Operator `forward` ran in 0.17 s\n",
      "Operator `forward` ran in 0.16 s\n",
      "Operator `forward` ran in 0.18 s\n",
      "Operator `forward` ran in 0.17 s\n",
      "Operator `forward` ran in 0.17 s\n",
      "Operator `forward` ran in 0.17 s\n",
      "Operator `forward` ran in 0.18 s\n",
      "Operator `forward` ran in 0.17 s\n",
      "Operator `forward` ran in 0.17 s\n",
      "Operator `forward` ran in 0.17 s\n",
      "Operator `forward` ran in 0.17 s\n",
      "Operator `forward` ran in 0.17 s\n",
      "Operator `forward` ran in 0.17 s\n",
      "Operator `forward` ran in 0.17 s\n"
     ]
    },
    {
     "name": "stdout",
     "output_type": "stream",
     "text": [
      "21; function value: 221.88715\n"
     ]
    },
    {
     "name": "stderr",
     "output_type": "stream",
     "text": [
      "Operator `forward` ran in 0.19 s\n",
      "Operator `gradient` ran in 0.18 s\n",
      "Operator `forward` ran in 0.19 s\n",
      "Operator `gradient` ran in 0.17 s\n",
      "Operator `forward` ran in 0.17 s\n",
      "Operator `gradient` ran in 0.16 s\n",
      "Operator `forward` ran in 0.18 s\n",
      "Operator `gradient` ran in 0.17 s\n",
      "Operator `forward` ran in 0.18 s\n",
      "Operator `gradient` ran in 0.17 s\n",
      "Operator `forward` ran in 0.17 s\n",
      "Operator `gradient` ran in 0.16 s\n",
      "Operator `forward` ran in 0.17 s\n",
      "Operator `gradient` ran in 0.16 s\n",
      "Operator `forward` ran in 0.17 s\n",
      "Operator `gradient` ran in 0.16 s\n",
      "Operator `forward` ran in 0.17 s\n",
      "Operator `gradient` ran in 0.16 s\n",
      "Operator `forward` ran in 0.17 s\n",
      "Operator `gradient` ran in 0.16 s\n",
      "Operator `forward` ran in 0.17 s\n",
      "Operator `gradient` ran in 0.16 s\n",
      "Operator `forward` ran in 0.17 s\n",
      "Operator `gradient` ran in 0.16 s\n",
      "Operator `forward` ran in 0.17 s\n",
      "Operator `gradient` ran in 0.16 s\n",
      "Operator `forward` ran in 0.17 s\n",
      "Operator `gradient` ran in 0.16 s\n",
      "Operator `forward` ran in 0.18 s\n",
      "Operator `gradient` ran in 0.16 s\n",
      "Operator `forward` ran in 0.17 s\n",
      "Operator `gradient` ran in 0.16 s\n"
     ]
    },
    {
     "name": "stdout",
     "output_type": "stream",
     "text": [
      "(α, misfit) = (0.1f0, 326107.4375)\n",
      "(α, misfit) = "
     ]
    },
    {
     "name": "stderr",
     "output_type": "stream",
     "text": [
      "Operator `forward` ran in 0.15 s\n",
      "Operator `forward` ran in 0.15 s\n",
      "Operator `forward` ran in 0.15 s\n",
      "Operator `forward` ran in 0.15 s\n",
      "Operator `forward` ran in 0.15 s\n",
      "Operator `forward` ran in 0.15 s\n",
      "Operator `forward` ran in 0.15 s\n",
      "Operator `forward` ran in 0.16 s\n",
      "Operator `forward` ran in 0.17 s\n",
      "Operator `forward` ran in 0.16 s\n",
      "Operator `forward` ran in 0.17 s\n",
      "Operator `forward` ran in 0.17 s\n",
      "Operator `forward` ran in 0.18 s\n",
      "Operator `forward` ran in 0.18 s\n",
      "Operator `forward` ran in 0.18 s\n",
      "Operator `forward` ran in 0.18 s\n"
     ]
    },
    {
     "name": "stdout",
     "output_type": "stream",
     "text": [
      "(0.010000000149011612, 5998.548828125)\n"
     ]
    },
    {
     "name": "stderr",
     "output_type": "stream",
     "text": [
      "Operator `forward` ran in 0.17 s\n",
      "Operator `forward` ran in 0.18 s\n",
      "Operator `forward` ran in 0.18 s\n",
      "Operator `forward` ran in 0.17 s\n",
      "Operator `forward` ran in 0.17 s\n",
      "Operator `forward` ran in 0.17 s\n",
      "Operator `forward` ran in 0.17 s\n",
      "Operator `forward` ran in 0.17 s\n",
      "Operator `forward` ran in 0.17 s\n",
      "Operator `forward` ran in 0.17 s\n",
      "Operator `forward` ran in 0.17 s\n",
      "Operator `forward` ran in 0.16 s\n",
      "Operator `forward` ran in 0.17 s\n",
      "Operator `forward` ran in 0.17 s\n",
      "Operator `forward` ran in 0.17 s\n",
      "Operator `forward` ran in 0.17 s\n"
     ]
    },
    {
     "name": "stdout",
     "output_type": "stream",
     "text": [
      "(α, misfit) = (0.0010000000149011613, 254.77804565429688)\n",
      "(α, misfit) = "
     ]
    },
    {
     "name": "stderr",
     "output_type": "stream",
     "text": [
      "Operator `forward` ran in 0.17 s\n",
      "Operator `forward` ran in 0.17 s\n",
      "Operator `forward` ran in 0.17 s\n",
      "Operator `forward` ran in 0.17 s\n",
      "Operator `forward` ran in 0.17 s\n",
      "Operator `forward` ran in 0.17 s\n",
      "Operator `forward` ran in 0.17 s\n",
      "Operator `forward` ran in 0.17 s\n",
      "Operator `forward` ran in 0.17 s\n",
      "Operator `forward` ran in 0.17 s\n",
      "Operator `forward` ran in 0.17 s\n",
      "Operator `forward` ran in 0.17 s\n",
      "Operator `forward` ran in 0.17 s\n",
      "Operator `forward` ran in 0.17 s\n",
      "Operator `forward` ran in 0.17 s\n",
      "Operator `forward` ran in 0.18 s\n"
     ]
    },
    {
     "name": "stdout",
     "output_type": "stream",
     "text": [
      "(0.00024119298841275075, 218.243896484375)\n"
     ]
    },
    {
     "name": "stderr",
     "output_type": "stream",
     "text": [
      "Operator `forward` ran in 0.18 s\n",
      "Operator `forward` ran in 0.18 s\n",
      "Operator `forward` ran in 0.18 s\n",
      "Operator `forward` ran in 0.18 s\n",
      "Operator `forward` ran in 0.17 s\n",
      "Operator `forward` ran in 0.17 s\n",
      "Operator `forward` ran in 0.17 s\n",
      "Operator `forward` ran in 0.18 s\n",
      "Operator `forward` ran in 0.18 s\n",
      "Operator `forward` ran in 0.17 s\n",
      "Operator `forward` ran in 0.17 s\n",
      "Operator `forward` ran in 0.17 s\n",
      "Operator `forward` ran in 0.17 s\n",
      "Operator `forward` ran in 0.17 s\n",
      "Operator `forward` ran in 0.17 s\n",
      "Operator `forward` ran in 0.17 s\n"
     ]
    },
    {
     "name": "stdout",
     "output_type": "stream",
     "text": [
      "FWI iteration no: 22; function value: 191.39272\n",
      "(α, misfit) = "
     ]
    },
    {
     "name": "stderr",
     "output_type": "stream",
     "text": [
      "Operator `forward` ran in 0.19 s\n",
      "Operator `gradient` ran in 0.17 s\n",
      "Operator `forward` ran in 0.18 s\n",
      "Operator `gradient` ran in 0.17 s\n",
      "Operator `forward` ran in 0.18 s\n",
      "Operator `gradient` ran in 0.16 s\n",
      "Operator `forward` ran in 0.17 s\n",
      "Operator `gradient` ran in 0.17 s\n",
      "Operator `forward` ran in 0.17 s\n",
      "Operator `gradient` ran in 0.17 s\n",
      "Operator `forward` ran in 0.18 s\n",
      "Operator `gradient` ran in 0.16 s\n",
      "Operator `forward` ran in 0.18 s\n",
      "Operator `gradient` ran in 0.16 s\n",
      "Operator `forward` ran in 0.17 s\n",
      "Operator `gradient` ran in 0.16 s\n",
      "Operator `forward` ran in 0.17 s\n",
      "Operator `gradient` ran in 0.16 s\n",
      "Operator `forward` ran in 0.18 s\n",
      "Operator `gradient` ran in 0.16 s\n",
      "Operator `forward` ran in 0.18 s\n",
      "Operator `gradient` ran in 0.16 s\n",
      "Operator `forward` ran in 0.18 s\n",
      "Operator `gradient` ran in 0.16 s\n",
      "Operator `forward` ran in 0.18 s\n",
      "Operator `gradient` ran in 0.17 s\n",
      "Operator `forward` ran in 0.18 s\n",
      "Operator `gradient` ran in 0.17 s\n",
      "Operator `forward` ran in 0.17 s\n",
      "Operator `gradient` ran in 0.18 s\n",
      "Operator `forward` ran in 0.17 s\n",
      "Operator `gradient` ran in 0.17 s\n"
     ]
    },
    {
     "name": "stdout",
     "output_type": "stream",
     "text": [
      "(0.1f0, 29754.193359375)\n"
     ]
    },
    {
     "name": "stderr",
     "output_type": "stream",
     "text": [
      "Operator `forward` ran in 0.16 s\n",
      "Operator `forward` ran in 0.16 s\n",
      "Operator `forward` ran in 0.16 s\n",
      "Operator `forward` ran in 0.16 s\n",
      "Operator `forward` ran in 0.16 s\n",
      "Operator `forward` ran in 0.16 s\n",
      "Operator `forward` ran in 0.16 s\n",
      "Operator `forward` ran in 0.16 s\n",
      "Operator `forward` ran in 0.16 s\n",
      "Operator `forward` ran in 0.16 s\n",
      "Operator `forward` ran in 0.17 s\n",
      "Operator `forward` ran in 0.17 s\n",
      "Operator `forward` ran in 0.18 s\n",
      "Operator `forward` ran in 0.18 s\n",
      "Operator `forward` ran in 0.17 s\n",
      "Operator `forward` ran in 0.17 s\n"
     ]
    },
    {
     "name": "stdout",
     "output_type": "stream",
     "text": [
      "(α, misfit) = (0.010000000149011612, 490.8410949707031)\n",
      "(α, misfit) = "
     ]
    },
    {
     "name": "stderr",
     "output_type": "stream",
     "text": [
      "Operator `forward` ran in 0.17 s\n",
      "Operator `forward` ran in 0.18 s\n",
      "Operator `forward` ran in 0.18 s\n",
      "Operator `forward` ran in 0.17 s\n",
      "Operator `forward` ran in 0.17 s\n",
      "Operator `forward` ran in 0.18 s\n",
      "Operator `forward` ran in 0.17 s\n",
      "Operator `forward` ran in 0.17 s\n",
      "Operator `forward` ran in 0.16 s\n",
      "Operator `forward` ran in 0.16 s\n",
      "Operator `forward` ran in 0.17 s\n",
      "Operator `forward` ran in 0.16 s\n",
      "Operator `forward` ran in 0.16 s\n",
      "Operator `forward` ran in 0.16 s\n",
      "Operator `forward` ran in 0.17 s\n",
      "Operator `forward` ran in 0.16 s\n"
     ]
    },
    {
     "name": "stdout",
     "output_type": "stream",
     "text": [
      "(0.0018978633553508341, 185.51954650878906)\n"
     ]
    },
    {
     "name": "stderr",
     "output_type": "stream",
     "text": [
      "Operator `forward` ran in 0.19 s\n",
      "Operator `forward` ran in 0.17 s\n",
      "Operator `forward` ran in 0.17 s\n",
      "Operator `forward` ran in 0.17 s\n",
      "Operator `forward` ran in 0.17 s\n",
      "Operator `forward` ran in 0.17 s\n",
      "Operator `forward` ran in 0.17 s\n",
      "Operator `forward` ran in 0.16 s\n",
      "Operator `forward` ran in 0.17 s\n",
      "Operator `forward` ran in 0.17 s\n",
      "Operator `forward` ran in 0.17 s\n",
      "Operator `forward` ran in 0.17 s\n",
      "Operator `forward` ran in 0.17 s\n",
      "Operator `forward` ran in 0.18 s\n",
      "Operator `forward` ran in 0.17 s\n",
      "Operator `forward` ran in 0.17 s\n"
     ]
    },
    {
     "name": "stdout",
     "output_type": "stream",
     "text": [
      "FWI iteration no: 23; function value: 219.12384\n",
      "(α, misfit) = "
     ]
    },
    {
     "name": "stderr",
     "output_type": "stream",
     "text": [
      "Operator `forward` ran in 0.19 s\n",
      "Operator `gradient` ran in 0.19 s\n",
      "Operator `forward` ran in 0.20 s\n",
      "Operator `gradient` ran in 0.18 s\n",
      "Operator `forward` ran in 0.18 s\n",
      "Operator `gradient` ran in 0.17 s\n",
      "Operator `forward` ran in 0.18 s\n",
      "Operator `gradient` ran in 0.16 s\n",
      "Operator `forward` ran in 0.18 s\n",
      "Operator `gradient` ran in 0.17 s\n",
      "Operator `forward` ran in 0.17 s\n",
      "Operator `gradient` ran in 0.16 s\n",
      "Operator `forward` ran in 0.17 s\n",
      "Operator `gradient` ran in 0.17 s\n",
      "Operator `forward` ran in 0.17 s\n",
      "Operator `gradient` ran in 0.17 s\n",
      "Operator `forward` ran in 0.18 s\n",
      "Operator `gradient` ran in 0.17 s\n",
      "Operator `forward` ran in 0.17 s\n",
      "Operator `gradient` ran in 0.16 s\n",
      "Operator `forward` ran in 0.18 s\n",
      "Operator `gradient` ran in 0.16 s\n",
      "Operator `forward` ran in 0.17 s\n",
      "Operator `gradient` ran in 0.16 s\n",
      "Operator `forward` ran in 0.18 s\n",
      "Operator `gradient` ran in 0.17 s\n",
      "Operator `forward` ran in 0.18 s\n",
      "Operator `gradient` ran in 0.17 s\n",
      "Operator `forward` ran in 0.18 s\n",
      "Operator `gradient` ran in 0.16 s\n",
      "Operator `forward` ran in 0.19 s\n",
      "Operator `gradient` ran in 0.18 s\n"
     ]
    },
    {
     "name": "stdout",
     "output_type": "stream",
     "text": [
      "(0.1f0, 191803.25)\n"
     ]
    },
    {
     "name": "stderr",
     "output_type": "stream",
     "text": [
      "Operator `forward` ran in 0.17 s\n",
      "Operator `forward` ran in 0.16 s\n",
      "Operator `forward` ran in 0.16 s\n",
      "Operator `forward` ran in 0.16 s\n",
      "Operator `forward` ran in 0.16 s\n",
      "Operator `forward` ran in 0.16 s\n",
      "Operator `forward` ran in 0.16 s\n",
      "Operator `forward` ran in 0.17 s\n",
      "Operator `forward` ran in 0.17 s\n",
      "Operator `forward` ran in 0.17 s\n",
      "Operator `forward` ran in 0.17 s\n",
      "Operator `forward` ran in 0.17 s\n",
      "Operator `forward` ran in 0.17 s\n",
      "Operator `forward` ran in 0.17 s\n",
      "Operator `forward` ran in 0.17 s\n",
      "Operator `forward` ran in 0.17 s\n"
     ]
    },
    {
     "name": "stdout",
     "output_type": "stream",
     "text": [
      "(α, misfit) = (0.010000000149011612, 3037.78466796875)\n",
      "(α, misfit) = "
     ]
    },
    {
     "name": "stderr",
     "output_type": "stream",
     "text": [
      "Operator `forward` ran in 0.18 s\n",
      "Operator `forward` ran in 0.18 s\n",
      "Operator `forward` ran in 0.18 s\n",
      "Operator `forward` ran in 0.17 s\n",
      "Operator `forward` ran in 0.17 s\n",
      "Operator `forward` ran in 0.18 s\n",
      "Operator `forward` ran in 0.17 s\n",
      "Operator `forward` ran in 0.17 s\n",
      "Operator `forward` ran in 0.17 s\n",
      "Operator `forward` ran in 0.17 s\n",
      "Operator `forward` ran in 0.17 s\n",
      "Operator `forward` ran in 0.17 s\n",
      "Operator `forward` ran in 0.17 s\n",
      "Operator `forward` ran in 0.17 s\n",
      "Operator `forward` ran in 0.17 s\n",
      "Operator `forward` ran in 0.17 s\n"
     ]
    },
    {
     "name": "stdout",
     "output_type": "stream",
     "text": [
      "(0.0010000000149011613, 220.68328857421875)\n"
     ]
    },
    {
     "name": "stderr",
     "output_type": "stream",
     "text": [
      "Operator `forward` ran in 0.17 s\n",
      "Operator `forward` ran in 0.17 s\n",
      "Operator `forward` ran in 0.17 s\n",
      "Operator `forward` ran in 0.18 s\n",
      "Operator `forward` ran in 0.17 s\n",
      "Operator `forward` ran in 0.17 s\n",
      "Operator `forward` ran in 0.17 s\n",
      "Operator `forward` ran in 0.16 s\n",
      "Operator `forward` ran in 0.17 s\n",
      "Operator `forward` ran in 0.16 s\n",
      "Operator `forward` ran in 0.17 s\n",
      "Operator `forward` ran in 0.17 s\n",
      "Operator `forward` ran in 0.17 s\n",
      "Operator `forward` ran in 0.17 s\n",
      "Operator `forward` ran in 0.17 s\n",
      "Operator `forward` ran in 0.17 s\n"
     ]
    },
    {
     "name": "stdout",
     "output_type": "stream",
     "text": [
      "(α, misfit) = (0.00047888067322064215, 210.2223358154297)\n",
      "FWI iteration no: "
     ]
    },
    {
     "name": "stderr",
     "output_type": "stream",
     "text": [
      "Operator `forward` ran in 0.18 s\n",
      "Operator `forward` ran in 0.17 s\n",
      "Operator `forward` ran in 0.17 s\n",
      "Operator `forward` ran in 0.17 s\n",
      "Operator `forward` ran in 0.17 s\n",
      "Operator `forward` ran in 0.17 s\n",
      "Operator `forward` ran in 0.16 s\n",
      "Operator `forward` ran in 0.17 s\n",
      "Operator `forward` ran in 0.17 s\n",
      "Operator `forward` ran in 0.17 s\n",
      "Operator `forward` ran in 0.17 s\n",
      "Operator `forward` ran in 0.17 s\n",
      "Operator `forward` ran in 0.17 s\n",
      "Operator `forward` ran in 0.17 s\n",
      "Operator `forward` ran in 0.18 s\n",
      "Operator `forward` ran in 0.17 s\n"
     ]
    },
    {
     "name": "stdout",
     "output_type": "stream",
     "text": [
      "24; function value: 188.58293\n"
     ]
    },
    {
     "name": "stderr",
     "output_type": "stream",
     "text": [
      "Operator `forward` ran in 0.19 s\n",
      "Operator `gradient` ran in 0.18 s\n",
      "Operator `forward` ran in 0.18 s\n",
      "Operator `gradient` ran in 0.17 s\n",
      "Operator `forward` ran in 0.18 s\n",
      "Operator `gradient` ran in 0.17 s\n",
      "Operator `forward` ran in 0.18 s\n",
      "Operator `gradient` ran in 0.17 s\n",
      "Operator `forward` ran in 0.18 s\n",
      "Operator `gradient` ran in 0.16 s\n",
      "Operator `forward` ran in 0.17 s\n",
      "Operator `gradient` ran in 0.16 s\n",
      "Operator `forward` ran in 0.17 s\n",
      "Operator `gradient` ran in 0.16 s\n",
      "Operator `forward` ran in 0.17 s\n",
      "Operator `gradient` ran in 0.16 s\n",
      "Operator `forward` ran in 0.17 s\n",
      "Operator `gradient` ran in 0.16 s\n",
      "Operator `forward` ran in 0.17 s\n",
      "Operator `gradient` ran in 0.16 s\n",
      "Operator `forward` ran in 0.17 s\n",
      "Operator `gradient` ran in 0.16 s\n",
      "Operator `forward` ran in 0.18 s\n",
      "Operator `gradient` ran in 0.16 s\n",
      "Operator `forward` ran in 0.18 s\n",
      "Operator `gradient` ran in 0.17 s\n",
      "Operator `forward` ran in 0.17 s\n",
      "Operator `gradient` ran in 0.17 s\n",
      "Operator `forward` ran in 0.17 s\n",
      "Operator `gradient` ran in 0.17 s\n",
      "Operator `forward` ran in 0.17 s\n",
      "Operator `gradient` ran in 0.16 s\n"
     ]
    },
    {
     "name": "stdout",
     "output_type": "stream",
     "text": [
      "(α, misfit) = (0.1f0, 3063.413330078125)\n",
      "(α, misfit) = "
     ]
    },
    {
     "name": "stderr",
     "output_type": "stream",
     "text": [
      "Operator `forward` ran in 0.16 s\n",
      "Operator `forward` ran in 0.16 s\n",
      "Operator `forward` ran in 0.15 s\n",
      "Operator `forward` ran in 0.15 s\n",
      "Operator `forward` ran in 0.15 s\n",
      "Operator `forward` ran in 0.15 s\n",
      "Operator `forward` ran in 0.15 s\n",
      "Operator `forward` ran in 0.16 s\n",
      "Operator `forward` ran in 0.16 s\n",
      "Operator `forward` ran in 0.18 s\n",
      "Operator `forward` ran in 0.17 s\n",
      "Operator `forward` ran in 0.17 s\n",
      "Operator `forward` ran in 0.17 s\n",
      "Operator `forward` ran in 0.17 s\n",
      "Operator `forward` ran in 0.17 s\n",
      "Operator `forward` ran in 0.17 s\n"
     ]
    },
    {
     "name": "stdout",
     "output_type": "stream",
     "text": [
      "(0.024956427107486634, 439.7421569824219)\n"
     ]
    },
    {
     "name": "stderr",
     "output_type": "stream",
     "text": [
      "Operator `forward` ran in 0.17 s\n",
      "Operator `forward` ran in 0.17 s\n",
      "Operator `forward` ran in 0.17 s\n",
      "Operator `forward` ran in 0.17 s\n",
      "Operator `forward` ran in 0.17 s\n",
      "Operator `forward` ran in 0.17 s\n",
      "Operator `forward` ran in 0.17 s\n",
      "Operator `forward` ran in 0.17 s\n",
      "Operator `forward` ran in 0.17 s\n",
      "Operator `forward` ran in 0.18 s\n",
      "Operator `forward` ran in 0.17 s\n",
      "Operator `forward` ran in 0.17 s\n",
      "Operator `forward` ran in 0.17 s\n",
      "Operator `forward` ran in 0.18 s\n",
      "Operator `forward` ran in 0.17 s\n",
      "Operator `forward` ran in 0.17 s\n"
     ]
    },
    {
     "name": "stdout",
     "output_type": "stream",
     "text": [
      "(α, misfit) = (0.008362883930493947, 196.0151824951172)\n",
      "(α, misfit) = "
     ]
    },
    {
     "name": "stderr",
     "output_type": "stream",
     "text": [
      "Operator `forward` ran in 0.17 s\n",
      "Operator `forward` ran in 0.17 s\n",
      "Operator `forward` ran in 0.17 s\n",
      "Operator `forward` ran in 0.17 s\n",
      "Operator `forward` ran in 0.17 s\n",
      "Operator `forward` ran in 0.17 s\n",
      "Operator `forward` ran in 0.17 s\n",
      "Operator `forward` ran in 0.17 s\n",
      "Operator `forward` ran in 0.17 s\n",
      "Operator `forward` ran in 0.17 s\n",
      "Operator `forward` ran in 0.17 s\n",
      "Operator `forward` ran in 0.16 s\n",
      "Operator `forward` ran in 0.17 s\n",
      "Operator `forward` ran in 0.17 s\n",
      "Operator `forward` ran in 0.17 s\n",
      "Operator `forward` ran in 0.17 s\n"
     ]
    },
    {
     "name": "stdout",
     "output_type": "stream",
     "text": [
      "(0.0037042811770906315, 178.4792022705078)\n"
     ]
    },
    {
     "name": "stderr",
     "output_type": "stream",
     "text": [
      "Operator `forward` ran in 0.18 s\n",
      "Operator `forward` ran in 0.17 s\n",
      "Operator `forward` ran in 0.17 s\n",
      "Operator `forward` ran in 0.17 s\n",
      "Operator `forward` ran in 0.18 s\n",
      "Operator `forward` ran in 0.16 s\n",
      "Operator `forward` ran in 0.17 s\n",
      "Operator `forward` ran in 0.17 s\n",
      "Operator `forward` ran in 0.16 s\n",
      "Operator `forward` ran in 0.16 s\n",
      "Operator `forward` ran in 0.16 s\n",
      "Operator `forward` ran in 0.16 s\n",
      "Operator `forward` ran in 0.17 s\n",
      "Operator `forward` ran in 0.16 s\n",
      "Operator `forward` ran in 0.17 s\n",
      "Operator `forward` ran in 0.16 s\n"
     ]
    },
    {
     "name": "stdout",
     "output_type": "stream",
     "text": [
      "FWI iteration no: 25; function value: 194.87894\n",
      "(α, misfit) = "
     ]
    },
    {
     "name": "stderr",
     "output_type": "stream",
     "text": [
      "Operator `forward` ran in 0.18 s\n",
      "Operator `gradient` ran in 0.18 s\n",
      "Operator `forward` ran in 0.17 s\n",
      "Operator `gradient` ran in 0.16 s\n",
      "Operator `forward` ran in 0.18 s\n",
      "Operator `gradient` ran in 0.16 s\n",
      "Operator `forward` ran in 0.18 s\n",
      "Operator `gradient` ran in 0.17 s\n",
      "Operator `forward` ran in 0.16 s\n",
      "Operator `gradient` ran in 0.15 s\n",
      "Operator `forward` ran in 0.17 s\n",
      "Operator `gradient` ran in 0.16 s\n",
      "Operator `forward` ran in 0.16 s\n",
      "Operator `gradient` ran in 0.15 s\n",
      "Operator `forward` ran in 0.16 s\n",
      "Operator `gradient` ran in 0.15 s\n",
      "Operator `forward` ran in 0.17 s\n",
      "Operator `gradient` ran in 0.15 s\n",
      "Operator `forward` ran in 0.17 s\n",
      "Operator `gradient` ran in 0.16 s\n",
      "Operator `forward` ran in 0.18 s\n",
      "Operator `gradient` ran in 0.16 s\n",
      "Operator `forward` ran in 0.17 s\n",
      "Operator `gradient` ran in 0.16 s\n",
      "Operator `forward` ran in 0.18 s\n",
      "Operator `gradient` ran in 0.17 s\n",
      "Operator `forward` ran in 0.17 s\n",
      "Operator `gradient` ran in 0.16 s\n",
      "Operator `forward` ran in 0.18 s\n",
      "Operator `gradient` ran in 0.15 s\n",
      "Operator `forward` ran in 0.17 s\n",
      "Operator `gradient` ran in 0.15 s\n"
     ]
    },
    {
     "name": "stdout",
     "output_type": "stream",
     "text": [
      "(0.1f0, 361201.125)\n"
     ]
    },
    {
     "name": "stderr",
     "output_type": "stream",
     "text": [
      "Operator `forward` ran in 0.15 s\n",
      "Operator `forward` ran in 0.15 s\n",
      "Operator `forward` ran in 0.15 s\n",
      "Operator `forward` ran in 0.15 s\n",
      "Operator `forward` ran in 0.16 s\n",
      "Operator `forward` ran in 0.16 s\n",
      "Operator `forward` ran in 0.16 s\n",
      "Operator `forward` ran in 0.16 s\n",
      "Operator `forward` ran in 0.17 s\n",
      "Operator `forward` ran in 0.16 s\n",
      "Operator `forward` ran in 0.16 s\n",
      "Operator `forward` ran in 0.17 s\n",
      "Operator `forward` ran in 0.17 s\n",
      "Operator `forward` ran in 0.17 s\n",
      "Operator `forward` ran in 0.17 s\n",
      "Operator `forward` ran in 0.17 s\n"
     ]
    },
    {
     "name": "stdout",
     "output_type": "stream",
     "text": [
      "(α, misfit) = (0.010000000149011612, 6948.39013671875)\n",
      "(α, misfit) = "
     ]
    },
    {
     "name": "stderr",
     "output_type": "stream",
     "text": [
      "Operator `forward` ran in 0.17 s\n",
      "Operator `forward` ran in 0.17 s\n",
      "Operator `forward` ran in 0.18 s\n",
      "Operator `forward` ran in 0.17 s\n",
      "Operator `forward` ran in 0.16 s\n",
      "Operator `forward` ran in 0.16 s\n",
      "Operator `forward` ran in 0.16 s\n",
      "Operator `forward` ran in 0.17 s\n",
      "Operator `forward` ran in 0.16 s\n",
      "Operator `forward` ran in 0.16 s\n",
      "Operator `forward` ran in 0.17 s\n",
      "Operator `forward` ran in 0.16 s\n",
      "Operator `forward` ran in 0.16 s\n",
      "Operator `forward` ran in 0.16 s\n",
      "Operator `forward` ran in 0.16 s\n",
      "Operator `forward` ran in 0.16 s\n"
     ]
    },
    {
     "name": "stdout",
     "output_type": "stream",
     "text": [
      "(0.0010000000149011613, 233.6119384765625)\n"
     ]
    },
    {
     "name": "stderr",
     "output_type": "stream",
     "text": [
      "Operator `forward` ran in 0.17 s\n",
      "Operator `forward` ran in 0.16 s\n",
      "Operator `forward` ran in 0.17 s\n",
      "Operator `forward` ran in 0.17 s\n",
      "Operator `forward` ran in 0.17 s\n",
      "Operator `forward` ran in 0.17 s\n",
      "Operator `forward` ran in 0.17 s\n",
      "Operator `forward` ran in 0.17 s\n",
      "Operator `forward` ran in 0.17 s\n",
      "Operator `forward` ran in 0.18 s\n",
      "Operator `forward` ran in 0.17 s\n",
      "Operator `forward` ran in 0.17 s\n",
      "Operator `forward` ran in 0.17 s\n",
      "Operator `forward` ran in 0.17 s\n",
      "Operator `forward` ran in 0.17 s\n",
      "Operator `forward` ran in 0.17 s\n"
     ]
    },
    {
     "name": "stdout",
     "output_type": "stream",
     "text": [
      "(α, misfit) = (0.0002369939348289698, 190.72357177734375)\n",
      "FWI iteration no: "
     ]
    },
    {
     "name": "stderr",
     "output_type": "stream",
     "text": [
      "Operator `forward` ran in 0.18 s\n",
      "Operator `forward` ran in 0.17 s\n",
      "Operator `forward` ran in 0.17 s\n",
      "Operator `forward` ran in 0.17 s\n",
      "Operator `forward` ran in 0.17 s\n",
      "Operator `forward` ran in 0.17 s\n",
      "Operator `forward` ran in 0.17 s\n",
      "Operator `forward` ran in 0.17 s\n",
      "Operator `forward` ran in 0.17 s\n",
      "Operator `forward` ran in 0.17 s\n",
      "Operator `forward` ran in 0.17 s\n",
      "Operator `forward` ran in 0.17 s\n",
      "Operator `forward` ran in 0.17 s\n",
      "Operator `forward` ran in 0.16 s\n",
      "Operator `forward` ran in 0.17 s\n",
      "Operator `forward` ran in 0.17 s\n"
     ]
    },
    {
     "name": "stdout",
     "output_type": "stream",
     "text": [
      "26; function value: 198.50739\n"
     ]
    },
    {
     "name": "stderr",
     "output_type": "stream",
     "text": [
      "Operator `forward` ran in 0.19 s\n",
      "Operator `gradient` ran in 0.17 s\n",
      "Operator `forward` ran in 0.17 s\n",
      "Operator `gradient` ran in 0.16 s\n",
      "Operator `forward` ran in 0.18 s\n",
      "Operator `gradient` ran in 0.17 s\n",
      "Operator `forward` ran in 0.17 s\n",
      "Operator `gradient` ran in 0.16 s\n",
      "Operator `forward` ran in 0.17 s\n",
      "Operator `gradient` ran in 0.16 s\n",
      "Operator `forward` ran in 0.17 s\n",
      "Operator `gradient` ran in 0.16 s\n",
      "Operator `forward` ran in 0.17 s\n",
      "Operator `gradient` ran in 0.16 s\n",
      "Operator `forward` ran in 0.17 s\n",
      "Operator `gradient` ran in 0.16 s\n",
      "Operator `forward` ran in 0.17 s\n",
      "Operator `gradient` ran in 0.16 s\n",
      "Operator `forward` ran in 0.17 s\n",
      "Operator `gradient` ran in 0.16 s\n",
      "Operator `forward` ran in 0.15 s\n",
      "Operator `gradient` ran in 0.13 s\n",
      "Operator `forward` ran in 0.14 s\n",
      "Operator `gradient` ran in 0.13 s\n",
      "Operator `forward` ran in 0.14 s\n",
      "Operator `gradient` ran in 0.13 s\n",
      "Operator `forward` ran in 0.14 s\n",
      "Operator `gradient` ran in 0.13 s\n",
      "Operator `forward` ran in 0.14 s\n",
      "Operator `gradient` ran in 0.13 s\n",
      "Operator `forward` ran in 0.14 s\n",
      "Operator `gradient` ran in 0.13 s\n"
     ]
    },
    {
     "name": "stdout",
     "output_type": "stream",
     "text": [
      "(α, misfit) = (0.1f0, 37538.32421875)\n",
      "(α, misfit) = "
     ]
    },
    {
     "name": "stderr",
     "output_type": "stream",
     "text": [
      "Operator `forward` ran in 0.13 s\n",
      "Operator `forward` ran in 0.13 s\n",
      "Operator `forward` ran in 0.12 s\n",
      "Operator `forward` ran in 0.12 s\n",
      "Operator `forward` ran in 0.12 s\n",
      "Operator `forward` ran in 0.12 s\n",
      "Operator `forward` ran in 0.13 s\n",
      "Operator `forward` ran in 0.13 s\n",
      "Operator `forward` ran in 0.12 s\n",
      "Operator `forward` ran in 0.14 s\n",
      "Operator `forward` ran in 0.15 s\n",
      "Operator `forward` ran in 0.14 s\n",
      "Operator `forward` ran in 0.14 s\n",
      "Operator `forward` ran in 0.15 s\n",
      "Operator `forward` ran in 0.16 s\n",
      "Operator `forward` ran in 0.16 s\n"
     ]
    },
    {
     "name": "stdout",
     "output_type": "stream",
     "text": [
      "(0.010000000149011612, 718.557861328125)\n"
     ]
    },
    {
     "name": "stderr",
     "output_type": "stream",
     "text": [
      "Operator `forward` ran in 0.16 s\n",
      "Operator `forward` ran in 0.16 s\n",
      "Operator `forward` ran in 0.16 s\n",
      "Operator `forward` ran in 0.16 s\n",
      "Operator `forward` ran in 0.16 s\n",
      "Operator `forward` ran in 0.16 s\n",
      "Operator `forward` ran in 0.16 s\n",
      "Operator `forward` ran in 0.16 s\n",
      "Operator `forward` ran in 0.17 s\n",
      "Operator `forward` ran in 0.17 s\n",
      "Operator `forward` ran in 0.17 s\n",
      "Operator `forward` ran in 0.18 s\n",
      "Operator `forward` ran in 0.18 s\n",
      "Operator `forward` ran in 0.17 s\n",
      "Operator `forward` ran in 0.17 s\n",
      "Operator `forward` ran in 0.17 s\n"
     ]
    },
    {
     "name": "stdout",
     "output_type": "stream",
     "text": [
      "(α, misfit) = (0.0014564154979746359, 192.47293090820312)\n",
      "FWI iteration no: "
     ]
    },
    {
     "name": "stderr",
     "output_type": "stream",
     "text": [
      "Operator `forward` ran in 0.17 s\n",
      "Operator `forward` ran in 0.17 s\n",
      "Operator `forward` ran in 0.18 s\n",
      "Operator `forward` ran in 0.18 s\n",
      "Operator `forward` ran in 0.17 s\n",
      "Operator `forward` ran in 0.18 s\n",
      "Operator `forward` ran in 0.17 s\n",
      "Operator `forward` ran in 0.17 s\n",
      "Operator `forward` ran in 0.17 s\n",
      "Operator `forward` ran in 0.17 s\n",
      "Operator `forward` ran in 0.17 s\n",
      "Operator `forward` ran in 0.17 s\n",
      "Operator `forward` ran in 0.17 s\n",
      "Operator `forward` ran in 0.17 s\n",
      "Operator `forward` ran in 0.17 s\n",
      "Operator `forward` ran in 0.17 s\n"
     ]
    },
    {
     "name": "stdout",
     "output_type": "stream",
     "text": [
      "27; function value: 192.82176\n"
     ]
    },
    {
     "name": "stderr",
     "output_type": "stream",
     "text": [
      "Operator `forward` ran in 0.19 s\n",
      "Operator `gradient` ran in 0.18 s\n",
      "Operator `forward` ran in 0.18 s\n",
      "Operator `gradient` ran in 0.17 s\n",
      "Operator `forward` ran in 0.17 s\n",
      "Operator `gradient` ran in 0.17 s\n",
      "Operator `forward` ran in 0.17 s\n",
      "Operator `gradient` ran in 0.16 s\n",
      "Operator `forward` ran in 0.17 s\n",
      "Operator `gradient` ran in 0.16 s\n",
      "Operator `forward` ran in 0.17 s\n",
      "Operator `gradient` ran in 0.16 s\n",
      "Operator `forward` ran in 0.17 s\n",
      "Operator `gradient` ran in 0.16 s\n",
      "Operator `forward` ran in 0.17 s\n",
      "Operator `gradient` ran in 0.16 s\n",
      "Operator `forward` ran in 0.17 s\n",
      "Operator `gradient` ran in 0.16 s\n",
      "Operator `forward` ran in 0.17 s\n",
      "Operator `gradient` ran in 0.16 s\n",
      "Operator `forward` ran in 0.18 s\n",
      "Operator `gradient` ran in 0.18 s\n",
      "Operator `forward` ran in 0.17 s\n",
      "Operator `gradient` ran in 0.17 s\n",
      "Operator `forward` ran in 0.18 s\n",
      "Operator `gradient` ran in 0.17 s\n",
      "Operator `forward` ran in 0.17 s\n",
      "Operator `gradient` ran in 0.16 s\n",
      "Operator `forward` ran in 0.17 s\n",
      "Operator `gradient` ran in 0.16 s\n",
      "Operator `forward` ran in 0.17 s\n",
      "Operator `gradient` ran in 0.16 s\n"
     ]
    },
    {
     "name": "stdout",
     "output_type": "stream",
     "text": [
      "(α, misfit) = (0.1f0, 224426.15625)\n",
      "(α, misfit) = "
     ]
    },
    {
     "name": "stderr",
     "output_type": "stream",
     "text": [
      "Operator `forward` ran in 0.15 s\n",
      "Operator `forward` ran in 0.16 s\n",
      "Operator `forward` ran in 0.16 s\n",
      "Operator `forward` ran in 0.16 s\n",
      "Operator `forward` ran in 0.16 s\n",
      "Operator `forward` ran in 0.16 s\n",
      "Operator `forward` ran in 0.16 s\n",
      "Operator `forward` ran in 0.16 s\n",
      "Operator `forward` ran in 0.16 s\n",
      "Operator `forward` ran in 0.17 s\n",
      "Operator `forward` ran in 0.16 s\n",
      "Operator `forward` ran in 0.17 s\n",
      "Operator `forward` ran in 0.17 s\n",
      "Operator `forward` ran in 0.17 s\n",
      "Operator `forward` ran in 0.17 s\n",
      "Operator `forward` ran in 0.18 s\n"
     ]
    },
    {
     "name": "stdout",
     "output_type": "stream",
     "text": [
      "(0.010000000149011612, 3655.595947265625)\n"
     ]
    },
    {
     "name": "stderr",
     "output_type": "stream",
     "text": [
      "Operator `forward` ran in 0.17 s\n",
      "Operator `forward` ran in 0.17 s\n",
      "Operator `forward` ran in 0.17 s\n",
      "Operator `forward` ran in 0.17 s\n",
      "Operator `forward` ran in 0.17 s\n",
      "Operator `forward` ran in 0.17 s\n",
      "Operator `forward` ran in 0.17 s\n",
      "Operator `forward` ran in 0.17 s\n",
      "Operator `forward` ran in 0.17 s\n",
      "Operator `forward` ran in 0.17 s\n",
      "Operator `forward` ran in 0.17 s\n",
      "Operator `forward` ran in 0.17 s\n",
      "Operator `forward` ran in 0.17 s\n",
      "Operator `forward` ran in 0.17 s\n",
      "Operator `forward` ran in 0.17 s\n",
      "Operator `forward` ran in 0.17 s\n"
     ]
    },
    {
     "name": "stdout",
     "output_type": "stream",
     "text": [
      "(α, misfit) = (0.0010000000149011613, 205.24002075195312)\n",
      "(α, misfit) = "
     ]
    },
    {
     "name": "stderr",
     "output_type": "stream",
     "text": [
      "Operator `forward` ran in 0.18 s\n",
      "Operator `forward` ran in 0.18 s\n",
      "Operator `forward` ran in 0.17 s\n",
      "Operator `forward` ran in 0.17 s\n",
      "Operator `forward` ran in 0.17 s\n",
      "Operator `forward` ran in 0.17 s\n",
      "Operator `forward` ran in 0.17 s\n",
      "Operator `forward` ran in 0.17 s\n",
      "Operator `forward` ran in 0.17 s\n",
      "Operator `forward` ran in 0.18 s\n",
      "Operator `forward` ran in 0.18 s\n",
      "Operator `forward` ran in 0.17 s\n",
      "Operator `forward` ran in 0.17 s\n",
      "Operator `forward` ran in 0.17 s\n",
      "Operator `forward` ran in 0.17 s\n",
      "Operator `forward` ran in 0.17 s\n"
     ]
    },
    {
     "name": "stdout",
     "output_type": "stream",
     "text": [
      "(0.0003774286323008136, 186.7032470703125)\n"
     ]
    },
    {
     "name": "stderr",
     "output_type": "stream",
     "text": [
      "Operator `forward` ran in 0.17 s\n",
      "Operator `forward` ran in 0.17 s\n",
      "Operator `forward` ran in 0.19 s\n",
      "Operator `forward` ran in 0.17 s\n",
      "Operator `forward` ran in 0.18 s\n",
      "Operator `forward` ran in 0.17 s\n",
      "Operator `forward` ran in 0.17 s\n",
      "Operator `forward` ran in 0.17 s\n",
      "Operator `forward` ran in 0.17 s\n",
      "Operator `forward` ran in 0.17 s\n",
      "Operator `forward` ran in 0.17 s\n",
      "Operator `forward` ran in 0.17 s\n",
      "Operator `forward` ran in 0.17 s\n",
      "Operator `forward` ran in 0.17 s\n",
      "Operator `forward` ran in 0.17 s\n",
      "Operator `forward` ran in 0.17 s\n"
     ]
    },
    {
     "name": "stdout",
     "output_type": "stream",
     "text": [
      "FWI iteration no: 28; function value: 158.03131\n",
      "(α, misfit) = "
     ]
    },
    {
     "name": "stderr",
     "output_type": "stream",
     "text": [
      "Operator `forward` ran in 0.19 s\n",
      "Operator `gradient` ran in 0.17 s\n",
      "Operator `forward` ran in 0.18 s\n",
      "Operator `gradient` ran in 0.17 s\n",
      "Operator `forward` ran in 0.18 s\n",
      "Operator `gradient` ran in 0.16 s\n",
      "Operator `forward` ran in 0.17 s\n",
      "Operator `gradient` ran in 0.16 s\n",
      "Operator `forward` ran in 0.17 s\n",
      "Operator `gradient` ran in 0.16 s\n",
      "Operator `forward` ran in 0.17 s\n",
      "Operator `gradient` ran in 0.16 s\n",
      "Operator `forward` ran in 0.17 s\n",
      "Operator `gradient` ran in 0.16 s\n",
      "Operator `forward` ran in 0.18 s\n",
      "Operator `gradient` ran in 0.17 s\n",
      "Operator `forward` ran in 0.18 s\n",
      "Operator `gradient` ran in 0.17 s\n",
      "Operator `forward` ran in 0.18 s\n",
      "Operator `gradient` ran in 0.16 s\n",
      "Operator `forward` ran in 0.17 s\n",
      "Operator `gradient` ran in 0.16 s\n",
      "Operator `forward` ran in 0.17 s\n",
      "Operator `gradient` ran in 0.17 s\n",
      "Operator `forward` ran in 0.18 s\n",
      "Operator `gradient` ran in 0.17 s\n",
      "Operator `forward` ran in 0.18 s\n",
      "Operator `gradient` ran in 0.17 s\n",
      "Operator `forward` ran in 0.18 s\n",
      "Operator `gradient` ran in 0.17 s\n",
      "Operator `forward` ran in 0.17 s\n",
      "Operator `gradient` ran in 0.16 s\n"
     ]
    },
    {
     "name": "stdout",
     "output_type": "stream",
     "text": [
      "(0.1f0, 1837.3255615234375)\n"
     ]
    },
    {
     "name": "stderr",
     "output_type": "stream",
     "text": [
      "Operator `forward` ran in 0.15 s\n",
      "Operator `forward` ran in 0.16 s\n",
      "Operator `forward` ran in 0.15 s\n",
      "Operator `forward` ran in 0.15 s\n",
      "Operator `forward` ran in 0.16 s\n",
      "Operator `forward` ran in 0.16 s\n",
      "Operator `forward` ran in 0.17 s\n",
      "Operator `forward` ran in 0.17 s\n",
      "Operator `forward` ran in 0.17 s\n",
      "Operator `forward` ran in 0.18 s\n",
      "Operator `forward` ran in 0.17 s\n",
      "Operator `forward` ran in 0.17 s\n",
      "Operator `forward` ran in 0.17 s\n",
      "Operator `forward` ran in 0.18 s\n",
      "Operator `forward` ran in 0.18 s\n",
      "Operator `forward` ran in 0.17 s\n"
     ]
    },
    {
     "name": "stdout",
     "output_type": "stream",
     "text": [
      "(α, misfit) = (0.028773149572932522, 308.9466247558594)\n",
      "(α, misfit) = "
     ]
    },
    {
     "name": "stderr",
     "output_type": "stream",
     "text": [
      "Operator `forward` ran in 0.17 s\n",
      "Operator `forward` ran in 0.17 s\n",
      "Operator `forward` ran in 0.17 s\n",
      "Operator `forward` ran in 0.17 s\n",
      "Operator `forward` ran in 0.17 s\n",
      "Operator `forward` ran in 0.17 s\n",
      "Operator `forward` ran in 0.17 s\n",
      "Operator `forward` ran in 0.17 s\n",
      "Operator `forward` ran in 0.18 s\n",
      "Operator `forward` ran in 0.17 s\n",
      "Operator `forward` ran in 0.17 s\n",
      "Operator `forward` ran in 0.17 s\n",
      "Operator `forward` ran in 0.17 s\n",
      "Operator `forward` ran in 0.17 s\n",
      "Operator `forward` ran in 0.17 s\n",
      "Operator `forward` ran in 0.17 s\n"
     ]
    },
    {
     "name": "stdout",
     "output_type": "stream",
     "text": [
      "(0.010554015047118285, 161.56759643554688)\n"
     ]
    },
    {
     "name": "stderr",
     "output_type": "stream",
     "text": [
      "Operator `forward` ran in 0.17 s\n",
      "Operator `forward` ran in 0.17 s\n",
      "Operator `forward` ran in 0.17 s\n",
      "Operator `forward` ran in 0.17 s\n",
      "Operator `forward` ran in 0.17 s\n",
      "Operator `forward` ran in 0.17 s\n",
      "Operator `forward` ran in 0.17 s\n",
      "Operator `forward` ran in 0.17 s\n",
      "Operator `forward` ran in 0.17 s\n",
      "Operator `forward` ran in 0.17 s\n",
      "Operator `forward` ran in 0.17 s\n",
      "Operator `forward` ran in 0.17 s\n",
      "Operator `forward` ran in 0.17 s\n",
      "Operator `forward` ran in 0.17 s\n",
      "Operator `forward` ran in 0.17 s\n",
      "Operator `forward` ran in 0.17 s\n"
     ]
    },
    {
     "name": "stdout",
     "output_type": "stream",
     "text": [
      "(α, misfit) = (0.0046983956227673465, 149.41554260253906)\n",
      "FWI iteration no: "
     ]
    },
    {
     "name": "stderr",
     "output_type": "stream",
     "text": [
      "Operator `forward` ran in 0.17 s\n",
      "Operator `forward` ran in 0.17 s\n",
      "Operator `forward` ran in 0.17 s\n",
      "Operator `forward` ran in 0.17 s\n",
      "Operator `forward` ran in 0.17 s\n",
      "Operator `forward` ran in 0.16 s\n",
      "Operator `forward` ran in 0.16 s\n",
      "Operator `forward` ran in 0.16 s\n",
      "Operator `forward` ran in 0.16 s\n",
      "Operator `forward` ran in 0.17 s\n",
      "Operator `forward` ran in 0.16 s\n",
      "Operator `forward` ran in 0.16 s\n",
      "Operator `forward` ran in 0.16 s\n",
      "Operator `forward` ran in 0.17 s\n",
      "Operator `forward` ran in 0.14 s\n",
      "Operator `forward` ran in 0.12 s\n"
     ]
    },
    {
     "name": "stdout",
     "output_type": "stream",
     "text": [
      "29; function value: 177.49098\n"
     ]
    },
    {
     "name": "stderr",
     "output_type": "stream",
     "text": [
      "Operator `forward` ran in 0.14 s\n",
      "Operator `gradient` ran in 0.13 s\n",
      "Operator `forward` ran in 0.15 s\n",
      "Operator `gradient` ran in 0.13 s\n",
      "Operator `forward` ran in 0.15 s\n",
      "Operator `gradient` ran in 0.13 s\n",
      "Operator `forward` ran in 0.14 s\n",
      "Operator `gradient` ran in 0.13 s\n",
      "Operator `forward` ran in 0.14 s\n",
      "Operator `gradient` ran in 0.13 s\n",
      "Operator `forward` ran in 0.14 s\n",
      "Operator `gradient` ran in 0.13 s\n",
      "Operator `forward` ran in 0.14 s\n",
      "Operator `gradient` ran in 0.13 s\n",
      "Operator `forward` ran in 0.14 s\n",
      "Operator `gradient` ran in 0.13 s\n",
      "Operator `forward` ran in 0.15 s\n",
      "Operator `gradient` ran in 0.14 s\n",
      "Operator `forward` ran in 0.14 s\n",
      "Operator `gradient` ran in 0.13 s\n",
      "Operator `forward` ran in 0.15 s\n",
      "Operator `gradient` ran in 0.15 s\n",
      "Operator `forward` ran in 0.16 s\n",
      "Operator `gradient` ran in 0.15 s\n",
      "Operator `forward` ran in 0.16 s\n",
      "Operator `gradient` ran in 0.15 s\n",
      "Operator `forward` ran in 0.17 s\n",
      "Operator `gradient` ran in 0.16 s\n",
      "Operator `forward` ran in 0.17 s\n",
      "Operator `gradient` ran in 0.16 s\n",
      "Operator `forward` ran in 0.16 s\n",
      "Operator `gradient` ran in 0.16 s\n"
     ]
    },
    {
     "name": "stdout",
     "output_type": "stream",
     "text": [
      "(α, misfit) = (0.1f0, 363829.1875)\n",
      "(α, misfit) = "
     ]
    },
    {
     "name": "stderr",
     "output_type": "stream",
     "text": [
      "Operator `forward` ran in 0.15 s\n",
      "Operator `forward` ran in 0.15 s\n",
      "Operator `forward` ran in 0.15 s\n",
      "Operator `forward` ran in 0.16 s\n",
      "Operator `forward` ran in 0.16 s\n",
      "Operator `forward` ran in 0.16 s\n",
      "Operator `forward` ran in 0.16 s\n",
      "Operator `forward` ran in 0.16 s\n",
      "Operator `forward` ran in 0.16 s\n",
      "Operator `forward` ran in 0.16 s\n",
      "Operator `forward` ran in 0.16 s\n",
      "Operator `forward` ran in 0.17 s\n",
      "Operator `forward` ran in 0.17 s\n",
      "Operator `forward` ran in 0.17 s\n",
      "Operator `forward` ran in 0.17 s\n",
      "Operator `forward` ran in 0.18 s\n"
     ]
    },
    {
     "name": "stdout",
     "output_type": "stream",
     "text": [
      "(0.010000000149011612, 7714.97265625)\n"
     ]
    },
    {
     "name": "stderr",
     "output_type": "stream",
     "text": [
      "Operator `forward` ran in 0.18 s\n",
      "Operator `forward` ran in 0.17 s\n",
      "Operator `forward` ran in 0.17 s\n",
      "Operator `forward` ran in 0.17 s\n",
      "Operator `forward` ran in 0.16 s\n",
      "Operator `forward` ran in 0.17 s\n",
      "Operator `forward` ran in 0.16 s\n",
      "Operator `forward` ran in 0.16 s\n",
      "Operator `forward` ran in 0.16 s\n",
      "Operator `forward` ran in 0.16 s\n",
      "Operator `forward` ran in 0.16 s\n",
      "Operator `forward` ran in 0.16 s\n",
      "Operator `forward` ran in 0.16 s\n",
      "Operator `forward` ran in 0.16 s\n",
      "Operator `forward` ran in 0.17 s\n",
      "Operator `forward` ran in 0.17 s\n"
     ]
    },
    {
     "name": "stdout",
     "output_type": "stream",
     "text": [
      "(α, misfit) = (0.0010000000149011613, 221.39306640625)\n",
      "(α, misfit) = "
     ]
    },
    {
     "name": "stderr",
     "output_type": "stream",
     "text": [
      "Operator `forward` ran in 0.17 s\n",
      "Operator `forward` ran in 0.17 s\n",
      "Operator `forward` ran in 0.17 s\n",
      "Operator `forward` ran in 0.17 s\n",
      "Operator `forward` ran in 0.17 s\n",
      "Operator `forward` ran in 0.17 s\n",
      "Operator `forward` ran in 0.17 s\n",
      "Operator `forward` ran in 0.17 s\n",
      "Operator `forward` ran in 0.17 s\n",
      "Operator `forward` ran in 0.17 s\n",
      "Operator `forward` ran in 0.17 s\n",
      "Operator `forward` ran in 0.17 s\n",
      "Operator `forward` ran in 0.17 s\n",
      "Operator `forward` ran in 0.17 s\n",
      "Operator `forward` ran in 0.17 s\n",
      "Operator `forward` ran in 0.17 s\n"
     ]
    },
    {
     "name": "stdout",
     "output_type": "stream",
     "text": [
      "(0.00023628062988283668, 172.8582305908203)\n"
     ]
    },
    {
     "name": "stderr",
     "output_type": "stream",
     "text": [
      "Operator `forward` ran in 0.17 s\n",
      "Operator `forward` ran in 0.17 s\n",
      "Operator `forward` ran in 0.17 s\n",
      "Operator `forward` ran in 0.17 s\n",
      "Operator `forward` ran in 0.17 s\n",
      "Operator `forward` ran in 0.17 s\n",
      "Operator `forward` ran in 0.17 s\n",
      "Operator `forward` ran in 0.17 s\n",
      "Operator `forward` ran in 0.17 s\n",
      "Operator `forward` ran in 0.17 s\n",
      "Operator `forward` ran in 0.17 s\n",
      "Operator `forward` ran in 0.17 s\n",
      "Operator `forward` ran in 0.17 s\n",
      "Operator `forward` ran in 0.17 s\n",
      "Operator `forward` ran in 0.17 s\n",
      "Operator `forward` ran in 0.17 s\n"
     ]
    },
    {
     "name": "stdout",
     "output_type": "stream",
     "text": [
      "FWI iteration no: 30; function value: 161.64655\n",
      "(α, misfit) = "
     ]
    },
    {
     "name": "stderr",
     "output_type": "stream",
     "text": [
      "Operator `forward` ran in 0.18 s\n",
      "Operator `gradient` ran in 0.18 s\n",
      "Operator `forward` ran in 0.19 s\n",
      "Operator `gradient` ran in 0.18 s\n",
      "Operator `forward` ran in 0.18 s\n",
      "Operator `gradient` ran in 0.17 s\n",
      "Operator `forward` ran in 0.18 s\n",
      "Operator `gradient` ran in 0.16 s\n",
      "Operator `forward` ran in 0.17 s\n",
      "Operator `gradient` ran in 0.17 s\n",
      "Operator `forward` ran in 0.18 s\n",
      "Operator `gradient` ran in 0.16 s\n",
      "Operator `forward` ran in 0.17 s\n",
      "Operator `gradient` ran in 0.16 s\n",
      "Operator `forward` ran in 0.17 s\n",
      "Operator `gradient` ran in 0.17 s\n",
      "Operator `forward` ran in 0.17 s\n",
      "Operator `gradient` ran in 0.17 s\n",
      "Operator `forward` ran in 0.18 s\n",
      "Operator `gradient` ran in 0.17 s\n",
      "Operator `forward` ran in 0.17 s\n",
      "Operator `gradient` ran in 0.16 s\n",
      "Operator `forward` ran in 0.18 s\n",
      "Operator `gradient` ran in 0.17 s\n",
      "Operator `forward` ran in 0.18 s\n",
      "Operator `gradient` ran in 0.16 s\n",
      "Operator `forward` ran in 0.18 s\n",
      "Operator `gradient` ran in 0.17 s\n",
      "Operator `forward` ran in 0.18 s\n",
      "Operator `gradient` ran in 0.16 s\n",
      "Operator `forward` ran in 0.18 s\n",
      "Operator `gradient` ran in 0.16 s\n"
     ]
    },
    {
     "name": "stdout",
     "output_type": "stream",
     "text": [
      "(0.1f0, 25829.740234375)\n"
     ]
    },
    {
     "name": "stderr",
     "output_type": "stream",
     "text": [
      "Operator `forward` ran in 0.16 s\n",
      "Operator `forward` ran in 0.17 s\n",
      "Operator `forward` ran in 0.16 s\n",
      "Operator `forward` ran in 0.16 s\n",
      "Operator `forward` ran in 0.16 s\n",
      "Operator `forward` ran in 0.16 s\n",
      "Operator `forward` ran in 0.17 s\n",
      "Operator `forward` ran in 0.17 s\n",
      "Operator `forward` ran in 0.17 s\n",
      "Operator `forward` ran in 0.17 s\n",
      "Operator `forward` ran in 0.17 s\n",
      "Operator `forward` ran in 0.17 s\n",
      "Operator `forward` ran in 0.17 s\n",
      "Operator `forward` ran in 0.17 s\n",
      "Operator `forward` ran in 0.17 s\n",
      "Operator `forward` ran in 0.17 s\n"
     ]
    },
    {
     "name": "stdout",
     "output_type": "stream",
     "text": [
      "(α, misfit) = (0.010000000149011612, 440.0798034667969)\n",
      "(α, misfit) = "
     ]
    },
    {
     "name": "stderr",
     "output_type": "stream",
     "text": [
      "Operator `forward` ran in 0.18 s\n",
      "Operator `forward` ran in 0.17 s\n",
      "Operator `forward` ran in 0.17 s\n",
      "Operator `forward` ran in 0.17 s\n",
      "Operator `forward` ran in 0.17 s\n",
      "Operator `forward` ran in 0.17 s\n",
      "Operator `forward` ran in 0.17 s\n",
      "Operator `forward` ran in 0.17 s\n",
      "Operator `forward` ran in 0.17 s\n",
      "Operator `forward` ran in 0.17 s\n",
      "Operator `forward` ran in 0.17 s\n",
      "Operator `forward` ran in 0.17 s\n",
      "Operator `forward` ran in 0.17 s\n",
      "Operator `forward` ran in 0.17 s\n",
      "Operator `forward` ran in 0.17 s\n",
      "Operator `forward` ran in 0.17 s\n"
     ]
    },
    {
     "name": "stdout",
     "output_type": "stream",
     "text": [
      "(0.001973742329598996, 156.408203125)\n"
     ]
    },
    {
     "name": "stderr",
     "output_type": "stream",
     "text": [
      "Operator `forward` ran in 0.17 s\n",
      "Operator `forward` ran in 0.17 s\n",
      "Operator `forward` ran in 0.17 s\n",
      "Operator `forward` ran in 0.17 s\n",
      "Operator `forward` ran in 0.18 s\n",
      "Operator `forward` ran in 0.18 s\n",
      "Operator `forward` ran in 0.18 s\n",
      "Operator `forward` ran in 0.17 s\n",
      "Operator `forward` ran in 0.17 s\n",
      "Operator `forward` ran in 0.17 s\n",
      "Operator `forward` ran in 0.17 s\n",
      "Operator `forward` ran in 0.17 s\n",
      "Operator `forward` ran in 0.17 s\n",
      "Operator `forward` ran in 0.17 s\n",
      "Operator `forward` ran in 0.17 s\n",
      "Operator `forward` ran in 0.18 s\n"
     ]
    }
   ],
   "source": [
    "# Main loop\n",
    "t1 = now();\n",
    "for j=1:niterations\n",
    "\n",
    "    # get fwi objective function value and gradient\n",
    "    i = randperm(d_obs.nsrc)[1:batchsize]\n",
    "    fval, gradient = fwi_objective(model0, q[i], d_obs[i])\n",
    "    p = -gradient/norm(gradient, Inf)\n",
    "    \n",
    "    println(\"FWI iteration no: \",j,\"; function value: \",fval)\n",
    "    fhistory_SGD[j] = fval\n",
    "\n",
    "    # linesearch\n",
    "    function ϕ(α)\n",
    "        F0.model.m .= proj(model0.m .+ α * p)\n",
    "        misfit = .5*norm(F0[i]*q[i] - d_obs[i])^2\n",
    "        @show α, misfit\n",
    "        return misfit\n",
    "    end\n",
    "    step, fval = ls(ϕ, 1f-1, fval, dot(gradient, p))\n",
    "\n",
    "    # Update model and bound projection\n",
    "    model0.m .= proj(model0.m .+ step .* p)\n",
    "    m0_values[:, j] = model0.m\n",
    "end\n",
    "t2 = now();"
   ]
  },
  {
   "cell_type": "code",
   "execution_count": 11,
   "metadata": {},
   "outputs": [],
   "source": [
    "fwi = sqrt.(1f0./adjoint(model0.m)).data;\n",
    "v0 = sqrt.(1f0./M[\"m0\"])';\n",
    "v = sqrt.(1f0./model.m)'.data;"
   ]
  },
  {
   "cell_type": "code",
   "execution_count": 12,
   "metadata": {},
   "outputs": [
    {
     "data": {
      "image/png": "[encoded data removed]",
      "text/plain": [
       "Figure(PyObject <Figure size 5400x1200 with 6 Axes>)"
      ]
     },
     "metadata": {},
     "output_type": "display_data"
    }
   ],
   "source": [
    "fig=figure(figsize=(18,4), dpi=300);\n",
    "subplot(131)\n",
    "im = imshow(v, cmap=\"viridis\", extent=[0, (model.n[1]-1)*model.d[1], (model.n[2]-1)*model.d[2], 0], vmin=1.5, vmax=3.0)\n",
    "cb = colorbar(im, ticks=unique(v), pad=0.01)\n",
    "cb[:set_label](label = L\"$V_p [km/s]$\")\n",
    "xlabel(L\"Posición horizontal $[m]$\")\n",
    "ylabel(L\"Profundidad $[m]$\")\n",
    "title(L\"Modelo real $\\mathbf{m}$\")\n",
    "subplot(132)\n",
    "im = imshow(v0, cmap=\"viridis\", extent=[0, (model.n[1]-1)*model.d[1], (model.n[2]-1)*model.d[2], 0], vmin=1.5, vmax=3.0)\n",
    "cb = colorbar(im, ticks=unique(v), pad=0.01)\n",
    "cb[:set_label](label = L\"$V_p [km/s]$\")\n",
    "xlabel(L\"Posición horizontal $[m]$\")\n",
    "ylabel(L\"Profundidad $[m]$\")\n",
    "title(\"FWI bajas frecuencias\")\n",
    "subplot(133)\n",
    "im = imshow(fwi, cmap=\"viridis\", extent=[0, (model.n[1]-1)*model.d[1], (model.n[2]-1)*model.d[2], 0], vmin=1.5, vmax=3.0)\n",
    "cb = colorbar(im, ticks=unique(v), pad=0.01)\n",
    "cb[:set_label](label = L\"$V_p [km/s]$\")\n",
    "xlabel(L\"Posición horizontal $[m]$\")\n",
    "ylabel(L\"Profundidad $[m]$\")\n",
    "title(\"FWI altas frecuencias\")\n",
    "display(fig)"
   ]
  },
  {
   "cell_type": "code",
   "execution_count": 13,
   "metadata": {},
   "outputs": [
    {
     "name": "stdout",
     "output_type": "stream",
     "text": [
      "El error cuadrático medio del modelo inicial es: 0.010780065\n",
      "El error cuadrático medio de FWI es: 0.0052191466\n"
     ]
    }
   ],
   "source": [
    "mse = sum((v .- v0).^2) / length(v)\n",
    "println(\"El error cuadrático medio del modelo inicial es: \", mse)\n",
    "mse = sum((v .- fwi).^2) / length(v)\n",
    "println(\"El error cuadrático medio de FWI es: \", mse)"
   ]
  },
  {
   "cell_type": "code",
   "execution_count": 14,
   "metadata": {},
   "outputs": [
    {
     "name": "stdout",
     "output_type": "stream",
     "text": [
      "Porcentaje de error (v0): 2.1862326\n",
      "Porcentaje de error (FWI): 1.5721104\n"
     ]
    }
   ],
   "source": [
    "error_porcentaje_v0 = 100 * sum(abs.(v - v0)) / sum(abs.(v))\n",
    "error_porcentaje_fwi = 100 * sum(abs.(v - fwi)) / sum(abs.(v))\n",
    "\n",
    "println(\"Porcentaje de error (v0): \", error_porcentaje_v0)\n",
    "println(\"Porcentaje de error (FWI): \", error_porcentaje_fwi)"
   ]
  },
  {
   "cell_type": "code",
   "execution_count": 15,
   "metadata": {},
   "outputs": [
    {
     "data": {
      "image/png": "[encoded data removed]",
      "text/plain": [
       "Figure(PyObject <Figure size 640x480 with 2 Axes>)"
      ]
     },
     "metadata": {},
     "output_type": "display_data"
    }
   ],
   "source": [
    "difs = v-fwi\n",
    "fig=figure() #figsize=(20, 5)\n",
    "im = imshow(difs, cmap=\"viridis\", extent=[0, (model.n[1]-1)*model.d[1], (model.n[2]-1)*model.d[2], 0], vmin=-0.5, vmax=0.5)\n",
    "cb = colorbar(im)\n",
    "cb[:set_label](label = \"Error\")\n",
    "xlabel(L\"Posición horizontal $[m]$\")\n",
    "ylabel(L\"Profundidad $[m]$\")\n",
    "title(\"Error relativa\")\n",
    "display(fig)"
   ]
  },
  {
   "cell_type": "code",
   "execution_count": 16,
   "metadata": {},
   "outputs": [
    {
     "data": {
      "image/png": "[encoded data removed]",
      "text/plain": [
       "Figure(PyObject <Figure size 1920x1440 with 1 Axes>)"
      ]
     },
     "metadata": {},
     "output_type": "display_data"
    }
   ],
   "source": [
    "fig=figure(dpi=300) #figsize=(20, 5)\n",
    "xax = 1:1:30\n",
    "plot(xax, fhistory_SGD)\n",
    "xlabel(\"Número de iteraciones\")\n",
    "ylabel(\"Valor de desajuste\")\n",
    "title(\"Convergencia\")\n",
    "display(fig)"
   ]
  },
  {
   "cell_type": "code",
   "execution_count": 17,
   "metadata": {},
   "outputs": [],
   "source": [
    "save(\"model_custom_fwi_result_high_f.jld\", \"n\", M[\"n\"], \"d\", M[\"d\"], \"o\", M[\"o\"], \"m\", M[\"m\"], \"m0\", model0.m.data, \"dm\", dm)"
   ]
  },
  {
   "cell_type": "code",
   "execution_count": 18,
   "metadata": {},
   "outputs": [],
   "source": [
    "m_real = imfilter(v, Kernel.gaussian((7,7)));"
   ]
  },
  {
   "cell_type": "code",
   "execution_count": 19,
   "metadata": {},
   "outputs": [
    {
     "data": {
      "image/png": "[encoded data removed]",
      "text/plain": [
       "Figure(PyObject <Figure size 2400x2700 with 1 Axes>)"
      ]
     },
     "metadata": {},
     "output_type": "display_data"
    }
   ],
   "source": [
    "fig = figure(figsize=(8,9), dpi=300)\n",
    "xax = range(0, stop=1000, step=10)\n",
    "plot(m_real[:,50], xax, linewidth=3, label=\"Velocidad inicial\", \"b\")\n",
    "plot(v0[:,50], xax, linewidth=3, label=\"Velocidad FWI - bajas frecuencias\", \"r\")\n",
    "plot(fwi[:,50], xax, linewidth=3, label=\"Velocidad FWI - final\", \"g\")\n",
    "plot(v[:,50], xax, linewidth=3, label=\"Velocidad real\", \"k--\")\n",
    "legend()\n",
    "gca().invert_yaxis()\n",
    "ylabel(\"Profundidad (m)\")\n",
    "xlabel(\"Velocidad (km/s)\")\n",
    "title(L\"Perfiles de velocidades en $x=500m$\")\n",
    "display(fig)"
   ]
  },
  {
   "cell_type": "code",
   "execution_count": 20,
   "metadata": {},
   "outputs": [],
   "source": [
    "writedlm(\"fwi_h_results/m0.txt\", v0)\n",
    "writedlm(\"fwi_h_results/fwi.txt\", m0_values)\n",
    "writedlm(\"fwi_h_results/mtrue.txt\", v)\n",
    "writedlm(\"fwi_h_results/fval.txt\", fhistory_SGD)"
   ]
  },
  {
   "cell_type": "code",
   "execution_count": 21,
   "metadata": {},
   "outputs": [
    {
     "data": {
      "text/plain": [
       "8 minutes, 20 seconds, 96 milliseconds"
      ]
     },
     "metadata": {},
     "output_type": "display_data"
    }
   ],
   "source": [
    "canonicalize(t2 - t1)"
   ]
  },
  {
   "cell_type": "code",
   "execution_count": 23,
   "metadata": {},
   "outputs": [
    {
     "data": {
      "text/plain": [
       "500096 milliseconds"
      ]
     },
     "metadata": {},
     "output_type": "display_data"
    }
   ],
   "source": [
    "t2-t1"
   ]
  }
 ],
 "metadata": {
  "kernelspec": {
   "display_name": "Julia 1.9.2",
   "language": "julia",
   "name": "julia-1.9"
  },
  "language_info": {
   "file_extension": ".jl",
   "mimetype": "application/julia",
   "name": "julia",
   "version": "1.9.2"
  },
  "orig_nbformat": 4
 },
 "nbformat": 4,
 "nbformat_minor": 2
}
