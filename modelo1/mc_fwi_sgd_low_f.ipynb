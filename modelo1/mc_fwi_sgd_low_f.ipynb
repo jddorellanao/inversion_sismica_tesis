{
 "cells": [
  {
   "attachments": {},
   "cell_type": "markdown",
   "metadata": {},
   "source": [
    "# FWI modelo personalizado"
   ]
  },
  {
   "cell_type": "code",
   "execution_count": 1,
   "metadata": {},
   "outputs": [
    {
     "name": "stderr",
     "output_type": "stream",
     "text": [
      "┌ Info: Initializing openacc/openmp offloading\n",
      "└ @ JUDI /home/geopc3/.julia/packages/JUDI/DUfUj/src/JUDI.jl:123\n"
     ]
    }
   ],
   "source": [
    "using PyPlot, JLD, SegyIO, JUDI, SlimOptim, Statistics, Random, LinearAlgebra, ImageFiltering, DelimitedFiles, Dates"
   ]
  },
  {
   "cell_type": "code",
   "execution_count": 2,
   "metadata": {},
   "outputs": [],
   "source": [
    "M = load(\"model_custom.jld\");"
   ]
  },
  {
   "cell_type": "code",
   "execution_count": 3,
   "metadata": {},
   "outputs": [],
   "source": [
    "#model = Model(M[\"n\"], M[\"d\"], M[\"o\"], M[\"m\"])\n",
    "model0 = Model(M[\"n\"], M[\"d\"], M[\"o\"], M[\"m0\"])\n",
    "dm = vec(M[\"dm\"]);"
   ]
  },
  {
   "cell_type": "code",
   "execution_count": 4,
   "metadata": {},
   "outputs": [],
   "source": [
    "vmin = ones(Float32,model0.n) .* 1.5f0\n",
    "vmax = ones(Float32,model0.n) .* 3.0f0;\n",
    "mmin = vec((1f0 ./ vmax).^2)\n",
    "mmax = vec((1f0 ./ vmin).^2);"
   ]
  },
  {
   "cell_type": "code",
   "execution_count": 5,
   "metadata": {},
   "outputs": [
    {
     "name": "stderr",
     "output_type": "stream",
     "text": [
      "┌ Warning: Fixed length trace flag set in stream: IOBuffer(data=UInt8[...], readable=true, writable=false, seekable=true, append=false, size=4763124, maxsize=Inf, ptr=3601, mark=-1)\n",
      "└ @ SegyIO /home/geopc3/.julia/packages/SegyIO/aQwou/src/read/read_file.jl:36\n"
     ]
    }
   ],
   "source": [
    "block = segy_read(\"model_custom_low_f.segy\")\n",
    "d_obs = judiVector(block);"
   ]
  },
  {
   "cell_type": "code",
   "execution_count": 6,
   "metadata": {},
   "outputs": [
    {
     "name": "stdout",
     "output_type": "stream",
     "text": [
      "judiVector{Float32, Matrix{Float32}} with 21 sources\n"
     ]
    }
   ],
   "source": [
    "# Set up wavelet\n",
    "srcGeometry = Geometry(block; key=\"source\")\t# read source position geometry\n",
    "wavelet = ricker_wavelet(srcGeometry.t[1], srcGeometry.dt[1], 0.004f0)\t# 4 Hz wavelet\n",
    "q = judiVector(srcGeometry, wavelet)"
   ]
  },
  {
   "cell_type": "code",
   "execution_count": 7,
   "metadata": {},
   "outputs": [
    {
     "name": "stdout",
     "output_type": "stream",
     "text": [
      "JUDI forward{Float32} propagator (src * rec * time) -> (src * rec * time)\n"
     ]
    }
   ],
   "source": [
    "F0 = judiModeling(deepcopy(model0), srcGeometry, d_obs.geometry)"
   ]
  },
  {
   "cell_type": "code",
   "execution_count": 8,
   "metadata": {},
   "outputs": [],
   "source": [
    "# Optimization parameters\n",
    "niterations = parse(Int, get(ENV, \"NITER\", \"30\"))\n",
    "batchsize = 16\n",
    "fhistory_SGD = zeros(Float32, niterations);\n",
    "m0_values = zeros(length(model0.m), niterations);"
   ]
  },
  {
   "cell_type": "code",
   "execution_count": 9,
   "metadata": {},
   "outputs": [],
   "source": [
    "# Projection operator for bound constraints\n",
    "proj(x) = reshape(median([vec(mmin) vec(x) vec(mmax)]; dims=2),model0.n)\n",
    "ls = BackTracking(order=3, iterations=10, );"
   ]
  },
  {
   "cell_type": "code",
   "execution_count": 10,
   "metadata": {},
   "outputs": [
    {
     "name": "stderr",
     "output_type": "stream",
     "text": [
      "Building forward operator\n",
      "TimeFunction [u(time, x, y)] assumed to fit the GPU memory\n",
      "TimeFunction [u(time, x, y)] assumed to fit the GPU memory\n",
      "TimeFunction [u(time, x, y)] assumed to fit the GPU memory\n",
      "TimeFunction [u(time, x, y)] assumed to fit the GPU memory\n",
      "TimeFunction [u(time, x, y)] assumed to fit the GPU memory\n",
      "TimeFunction [u(time, x, y)] assumed to fit the GPU memory\n",
      "TimeFunction [u(time, x, y)] assumed to fit the GPU memory\n",
      "TimeFunction [u(time, x, y)] assumed to fit the GPU memory\n",
      "TimeFunction [u(time, x, y)] assumed to fit the GPU memory\n",
      "TimeFunction [u(time, x, y)] assumed to fit the GPU memory\n",
      "TimeFunction [u(time, x, y)] assumed to fit the GPU memory\n",
      "TimeFunction [u(time, x, y)] assumed to fit the GPU memory\n",
      "TimeFunction [u(time, x, y)] assumed to fit the GPU memory\n",
      "TimeFunction [u(time, x, y)] assumed to fit the GPU memory\n",
      "TimeFunction [u(time, x, y)] assumed to fit the GPU memory\n",
      "TimeFunction [u(time, x, y)] assumed to fit the GPU memory\n",
      "TimeFunction [u(time, x, y)] assumed to fit the GPU memory\n",
      "TimeFunction [u(time, x, y)] assumed to fit the GPU memory\n",
      "TimeFunction [u(time, x, y)] assumed to fit the GPU memory\n",
      "TimeFunction [u(time, x, y)] assumed to fit the GPU memory\n",
      "TimeFunction [u(time, x, y)] assumed to fit the GPU memory\n",
      "TimeFunction [u(time, x, y)] assumed to fit the GPU memory\n",
      "TimeFunction [u(time, x, y)] assumed to fit the GPU memory\n",
      "TimeFunction [u(time, x, y)] assumed to fit the GPU memory\n",
      "TimeFunction [u(time, x, y)] assumed to fit the GPU memory\n",
      "TimeFunction [u(time, x, y)] assumed to fit the GPU memory\n",
      "TimeFunction [u(time, x, y)] assumed to fit the GPU memory\n",
      "TimeFunction [u(time, x, y)] assumed to fit the GPU memory\n",
      "TimeFunction [u(time, x, y)] assumed to fit the GPU memory\n",
      "TimeFunction [u(time, x, y)] assumed to fit the GPU memory\n",
      "TimeFunction [u(time, x, y)] assumed to fit the GPU memory\n",
      "TimeFunction [u(time, x, y)] assumed to fit the GPU memory\n",
      "TimeFunction [u(time, x, y)] assumed to fit the GPU memory\n",
      "TimeFunction [u(time, x, y)] assumed to fit the GPU memory\n",
      "TimeFunction [u(time, x, y)] assumed to fit the GPU memory\n",
      "TimeFunction [u(time, x, y)] assumed to fit the GPU memory\n",
      "TimeFunction [u(time, x, y)] assumed to fit the GPU memory\n",
      "TimeFunction [u(time, x, y)] assumed to fit the GPU memory\n",
      "TimeFunction [u(time, x, y)] assumed to fit the GPU memory\n",
      "TimeFunction [u(time, x, y)] assumed to fit the GPU memory\n",
      "TimeFunction [u(time, x, y)] assumed to fit the GPU memory\n",
      "TimeFunction [u(time, x, y)] assumed to fit the GPU memory\n",
      "TimeFunction [u(time, x, y)] assumed to fit the GPU memory\n",
      "TimeFunction [u(time, x, y)] assumed to fit the GPU memory\n",
      "TimeFunction [u(time, x, y)] assumed to fit the GPU memory\n",
      "TimeFunction [u(time, x, y)] assumed to fit the GPU memory\n",
      "TimeFunction [u(time, x, y)] assumed to fit the GPU memory\n",
      "TimeFunction [u(time, x, y)] assumed to fit the GPU memory\n",
      "TimeFunction [u(time, x, y)] assumed to fit the GPU memory\n",
      "TimeFunction [u(time, x, y)] assumed to fit the GPU memory\n",
      "TimeFunction [u(time, x, y)] assumed to fit the GPU memory\n",
      "TimeFunction [u(time, x, y)] assumed to fit the GPU memory\n",
      "TimeFunction [u(time, x, y)] assumed to fit the GPU memory\n",
      "TimeFunction [u(time, x, y)] assumed to fit the GPU memory\n",
      "TimeFunction [u(time, x, y)] assumed to fit the GPU memory\n",
      "TimeFunction [u(time, x, y)] assumed to fit the GPU memory\n",
      "TimeFunction [u(time, x, y)] assumed to fit the GPU memory\n",
      "TimeFunction [u(time, x, y)] assumed to fit the GPU memory\n",
      "TimeFunction [u(time, x, y)] assumed to fit the GPU memory\n",
      "TimeFunction [u(time, x, y)] assumed to fit the GPU memory\n",
      "TimeFunction [u(time, x, y)] assumed to fit the GPU memory\n",
      "TimeFunction [u(time, x, y)] assumed to fit the GPU memory\n",
      "TimeFunction [u(time, x, y)] assumed to fit the GPU memory\n",
      "TimeFunction [u(time, x, y)] assumed to fit the GPU memory\n",
      "TimeFunction [u(time, x, y)] assumed to fit the GPU memory\n",
      "TimeFunction [u(time, x, y)] assumed to fit the GPU memory\n",
      "TimeFunction [u(time, x, y)] assumed to fit the GPU memory\n",
      "TimeFunction [u(time, x, y)] assumed to fit the GPU memory\n",
      "TimeFunction [u(time, x, y)] assumed to fit the GPU memory\n",
      "TimeFunction [u(time, x, y)] assumed to fit the GPU memory\n",
      "TimeFunction [u(time, x, y)] assumed to fit the GPU memory\n",
      "TimeFunction [u(time, x, y)] assumed to fit the GPU memory\n",
      "TimeFunction [u(time, x, y)] assumed to fit the GPU memory\n",
      "TimeFunction [u(time, x, y)] assumed to fit the GPU memory\n",
      "TimeFunction [u(time, x, y)] assumed to fit the GPU memory\n",
      "TimeFunction [u(time, x, y)] assumed to fit the GPU memory\n",
      "TimeFunction [u(time, x, y)] assumed to fit the GPU memory\n",
      "TimeFunction [u(time, x, y)] assumed to fit the GPU memory\n",
      "TimeFunction [u(time, x, y)] assumed to fit the GPU memory\n",
      "TimeFunction [u(time, x, y)] assumed to fit the GPU memory\n",
      "TimeFunction [u(time, x, y)] assumed to fit the GPU memory\n",
      "TimeFunction [u(time, x, y)] assumed to fit the GPU memory\n",
      "TimeFunction [u(time, x, y)] assumed to fit the GPU memory\n",
      "TimeFunction [u(time, x, y)] assumed to fit the GPU memory\n",
      "TimeFunction [u(time, x, y)] assumed to fit the GPU memory\n",
      "TimeFunction [u(time, x, y)] assumed to fit the GPU memory\n",
      "TimeFunction [u(time, x, y)] assumed to fit the GPU memory\n",
      "TimeFunction [u(time, x, y)] assumed to fit the GPU memory\n",
      "TimeFunction [u(time, x, y)] assumed to fit the GPU memory\n",
      "TimeFunction [u(time, x, y)] assumed to fit the GPU memory\n",
      "TimeFunction [u(time, x, y)] assumed to fit the GPU memory\n",
      "TimeFunction [u(time, x, y)] assumed to fit the GPU memory\n",
      "TimeFunction [u(time, x, y)] assumed to fit the GPU memory\n",
      "TimeFunction [u(time, x, y)] assumed to fit the GPU memory\n",
      "TimeFunction [u(time, x, y)] assumed to fit the GPU memory\n",
      "TimeFunction [u(time, x, y)] assumed to fit the GPU memory\n",
      "TimeFunction [u(time, x, y)] assumed to fit the GPU memory\n",
      "TimeFunction [u(time, x, y)] assumed to fit the GPU memory\n",
      "TimeFunction [u(time, x, y)] assumed to fit the GPU memory\n",
      "TimeFunction [u(time, x, y)] assumed to fit the GPU memory\n",
      "TimeFunction [u(time, x, y)] assumed to fit the GPU memory\n",
      "TimeFunction [u(time, x, y)] assumed to fit the GPU memory\n",
      "TimeFunction [u(time, x, y)] assumed to fit the GPU memory\n",
      "TimeFunction [u(time, x, y)] assumed to fit the GPU memory\n",
      "TimeFunction [u(time, x, y)] assumed to fit the GPU memory\n",
      "TimeFunction [u(time, x, y)] assumed to fit the GPU memory\n",
      "TimeFunction [u(time, x, y)] assumed to fit the GPU memory\n",
      "TimeFunction [u(time, x, y)] assumed to fit the GPU memory\n",
      "TimeFunction [u(time, x, y)] assumed to fit the GPU memory\n",
      "TimeFunction [u(time, x, y)] assumed to fit the GPU memory\n",
      "TimeFunction [u(time, x, y)] assumed to fit the GPU memory\n",
      "TimeFunction [u(time, x, y)] assumed to fit the GPU memory\n",
      "TimeFunction [u(time, x, y)] assumed to fit the GPU memory\n",
      "TimeFunction [u(time, x, y)] assumed to fit the GPU memory\n",
      "TimeFunction [u(time, x, y)] assumed to fit the GPU memory\n",
      "TimeFunction [u(time, x, y)] assumed to fit the GPU memory\n",
      "TimeFunction [u(time, x, y)] assumed to fit the GPU memory\n",
      "TimeFunction [u(time, x, y)] assumed to fit the GPU memory\n",
      "TimeFunction [u(time, x, y)] assumed to fit the GPU memory\n",
      "TimeFunction [u(time, x, y)] assumed to fit the GPU memory\n",
      "TimeFunction [u(time, x, y)] assumed to fit the GPU memory\n",
      "TimeFunction [u(time, x, y)] assumed to fit the GPU memory\n",
      "TimeFunction [u(time, x, y)] assumed to fit the GPU memory\n",
      "TimeFunction [u(time, x, y)] assumed to fit the GPU memory\n",
      "TimeFunction [u(time, x, y)] assumed to fit the GPU memory\n",
      "TimeFunction [u(time, x, y)] assumed to fit the GPU memory\n",
      "TimeFunction [u(time, x, y)] assumed to fit the GPU memory\n",
      "TimeFunction [u(time, x, y)] assumed to fit the GPU memory\n",
      "TimeFunction [u(time, x, y)] assumed to fit the GPU memory\n",
      "TimeFunction [u(time, x, y)] assumed to fit the GPU memory\n",
      "TimeFunction [u(time, x, y)] assumed to fit the GPU memory\n",
      "TimeFunction [u(time, x, y)] assumed to fit the GPU memory\n",
      "TimeFunction [u(time, x, y)] assumed to fit the GPU memory\n",
      "TimeFunction [u(time, x, y)] assumed to fit the GPU memory\n",
      "TimeFunction [u(time, x, y)] assumed to fit the GPU memory\n",
      "TimeFunction [u(time, x, y)] assumed to fit the GPU memory\n",
      "TimeFunction [u(time, x, y)] assumed to fit the GPU memory\n",
      "TimeFunction [u(time, x, y)] assumed to fit the GPU memory\n",
      "TimeFunction [u(time, x, y)] assumed to fit the GPU memory\n",
      "TimeFunction [u(time, x, y)] assumed to fit the GPU memory\n",
      "TimeFunction [u(time, x, y)] assumed to fit the GPU memory\n",
      "TimeFunction [u(time, x, y)] assumed to fit the GPU memory\n",
      "TimeFunction [u(time, x, y)] assumed to fit the GPU memory\n",
      "TimeFunction [u(time, x, y)] assumed to fit the GPU memory\n",
      "TimeFunction [u(time, x, y)] assumed to fit the GPU memory\n",
      "TimeFunction [u(time, x, y)] assumed to fit the GPU memory\n",
      "TimeFunction [u(time, x, y)] assumed to fit the GPU memory\n",
      "TimeFunction [u(time, x, y)] assumed to fit the GPU memory\n",
      "TimeFunction [u(time, x, y)] assumed to fit the GPU memory\n",
      "TimeFunction [u(time, x, y)] assumed to fit the GPU memory\n",
      "TimeFunction [u(time, x, y)] assumed to fit the GPU memory\n",
      "TimeFunction [u(time, x, y)] assumed to fit the GPU memory\n",
      "TimeFunction [u(time, x, y)] assumed to fit the GPU memory\n",
      "TimeFunction [u(time, x, y)] assumed to fit the GPU memory\n",
      "TimeFunction [u(time, x, y)] assumed to fit the GPU memory\n",
      "TimeFunction [u(time, x, y)] assumed to fit the GPU memory\n",
      "TimeFunction [u(time, x, y)] assumed to fit the GPU memory\n",
      "TimeFunction [u(time, x, y)] assumed to fit the GPU memory\n",
      "TimeFunction [u(time, x, y)] assumed to fit the GPU memory\n",
      "TimeFunction [u(time, x, y)] assumed to fit the GPU memory\n",
      "TimeFunction [u(time, x, y)] assumed to fit the GPU memory\n",
      "TimeFunction [u(time, x, y)] assumed to fit the GPU memory\n",
      "TimeFunction [u(time, x, y)] assumed to fit the GPU memory\n",
      "TimeFunction [u(time, x, y)] assumed to fit the GPU memory\n",
      "TimeFunction [u(time, x, y)] assumed to fit the GPU memory\n",
      "TimeFunction [u(time, x, y)] assumed to fit the GPU memory\n",
      "TimeFunction [u(time, x, y)] assumed to fit the GPU memory\n",
      "TimeFunction [u(time, x, y)] assumed to fit the GPU memory\n",
      "TimeFunction [u(time, x, y)] assumed to fit the GPU memory\n",
      "TimeFunction [u(time, x, y)] assumed to fit the GPU memory\n",
      "TimeFunction [u(time, x, y)] assumed to fit the GPU memory\n",
      "TimeFunction [u(time, x, y)] assumed to fit the GPU memory\n",
      "TimeFunction [u(time, x, y)] assumed to fit the GPU memory\n",
      "TimeFunction [u(time, x, y)] assumed to fit the GPU memory\n",
      "TimeFunction [u(time, x, y)] assumed to fit the GPU memory\n",
      "TimeFunction [u(time, x, y)] assumed to fit the GPU memory\n",
      "TimeFunction [u(time, x, y)] assumed to fit the GPU memory\n",
      "TimeFunction [u(time, x, y)] assumed to fit the GPU memory\n",
      "TimeFunction [u(time, x, y)] assumed to fit the GPU memory\n",
      "TimeFunction [u(time, x, y)] assumed to fit the GPU memory\n",
      "TimeFunction [u(time, x, y)] assumed to fit the GPU memory\n",
      "TimeFunction [u(time, x, y)] assumed to fit the GPU memory\n",
      "TimeFunction [u(time, x, y)] assumed to fit the GPU memory\n",
      "TimeFunction [u(time, x, y)] assumed to fit the GPU memory\n",
      "TimeFunction [u(time, x, y)] assumed to fit the GPU memory\n",
      "TimeFunction [u(time, x, y)] assumed to fit the GPU memory\n",
      "TimeFunction [u(time, x, y)] assumed to fit the GPU memory\n",
      "TimeFunction [u(time, x, y)] assumed to fit the GPU memory\n",
      "TimeFunction [u(time, x, y)] assumed to fit the GPU memory\n",
      "TimeFunction [u(time, x, y)] assumed to fit the GPU memory\n",
      "TimeFunction [u(time, x, y)] assumed to fit the GPU memory\n",
      "TimeFunction [u(time, x, y)] assumed to fit the GPU memory\n",
      "TimeFunction [u(time, x, y)] assumed to fit the GPU memory\n",
      "TimeFunction [u(time, x, y)] assumed to fit the GPU memory\n",
      "TimeFunction [u(time, x, y)] assumed to fit the GPU memory\n",
      "TimeFunction [u(time, x, y)] assumed to fit the GPU memory\n",
      "TimeFunction [u(time, x, y)] assumed to fit the GPU memory\n",
      "TimeFunction [u(time, x, y)] assumed to fit the GPU memory\n",
      "TimeFunction [u(time, x, y)] assumed to fit the GPU memory\n",
      "TimeFunction [u(time, x, y)] assumed to fit the GPU memory\n",
      "TimeFunction [u(time, x, y)] assumed to fit the GPU memory\n",
      "TimeFunction [u(time, x, y)] assumed to fit the GPU memory\n",
      "TimeFunction [u(time, x, y)] assumed to fit the GPU memory\n",
      "TimeFunction [u(time, x, y)] assumed to fit the GPU memory\n",
      "TimeFunction [u(time, x, y)] assumed to fit the GPU memory\n",
      "TimeFunction [u(time, x, y)] assumed to fit the GPU memory\n",
      "TimeFunction [u(time, x, y)] assumed to fit the GPU memory\n",
      "TimeFunction [u(time, x, y)] assumed to fit the GPU memory\n",
      "TimeFunction [u(time, x, y)] assumed to fit the GPU memory\n",
      "TimeFunction [u(time, x, y)] assumed to fit the GPU memory\n",
      "TimeFunction [u(time, x, y)] assumed to fit the GPU memory\n",
      "TimeFunction [u(time, x, y)] assumed to fit the GPU memory\n",
      "TimeFunction [u(time, x, y)] assumed to fit the GPU memory\n",
      "TimeFunction [u(time, x, y)] assumed to fit the GPU memory\n",
      "TimeFunction [u(time, x, y)] assumed to fit the GPU memory\n",
      "TimeFunction [u(time, x, y)] assumed to fit the GPU memory\n",
      "TimeFunction [u(time, x, y)] assumed to fit the GPU memory\n",
      "TimeFunction [u(time, x, y)] assumed to fit the GPU memory\n",
      "TimeFunction [u(time, x, y)] assumed to fit the GPU memory\n",
      "TimeFunction [u(time, x, y)] assumed to fit the GPU memory\n",
      "TimeFunction [u(time, x, y)] assumed to fit the GPU memory\n",
      "TimeFunction [u(time, x, y)] assumed to fit the GPU memory\n",
      "TimeFunction [u(time, x, y)] assumed to fit the GPU memory\n",
      "Operator `forward` ran in 0.14 s\n",
      "Building adjoint born operator\n",
      "TimeFunction [u(time, x, y)] assumed to fit the GPU memory\n",
      "TimeFunction [u(time, x, y)] assumed to fit the GPU memory\n",
      "TimeFunction [u(time, x, y)] assumed to fit the GPU memory\n",
      "TimeFunction [u(time, x, y)] assumed to fit the GPU memory\n",
      "TimeFunction [u(time, x, y)] assumed to fit the GPU memory\n",
      "TimeFunction [u(time, x, y)] assumed to fit the GPU memory\n",
      "TimeFunction [u(time, x, y)] assumed to fit the GPU memory\n",
      "TimeFunction [u(time, x, y)] assumed to fit the GPU memory\n",
      "TimeFunction [u(time, x, y)] assumed to fit the GPU memory\n",
      "TimeFunction [u(time, x, y)] assumed to fit the GPU memory\n",
      "Operator `gradient` ran in 0.13 s\n",
      "Operator `forward` ran in 0.14 s\n",
      "Operator `gradient` ran in 0.13 s\n",
      "Operator `forward` ran in 0.16 s\n",
      "Operator `gradient` ran in 0.15 s\n",
      "Operator `forward` ran in 0.16 s\n",
      "Operator `gradient` ran in 0.16 s\n",
      "Operator `forward` ran in 0.16 s\n",
      "Operator `gradient` ran in 0.15 s\n",
      "Operator `forward` ran in 0.17 s\n",
      "Operator `gradient` ran in 0.16 s\n",
      "Operator `forward` ran in 0.17 s\n",
      "Operator `gradient` ran in 0.16 s\n",
      "Operator `forward` ran in 0.17 s\n",
      "Operator `gradient` ran in 0.14 s\n",
      "Operator `forward` ran in 0.14 s\n",
      "Operator `gradient` ran in 0.14 s\n",
      "Operator `forward` ran in 0.15 s\n",
      "Operator `gradient` ran in 0.14 s\n",
      "Operator `forward` ran in 0.15 s\n",
      "Operator `gradient` ran in 0.14 s\n",
      "Operator `forward` ran in 0.15 s\n",
      "Operator `gradient` ran in 0.15 s\n",
      "Operator `forward` ran in 0.16 s\n",
      "Operator `gradient` ran in 0.15 s\n",
      "Operator `forward` ran in 0.16 s\n",
      "Operator `gradient` ran in 0.16 s\n",
      "Operator `forward` ran in 0.18 s\n",
      "Operator `gradient` ran in 0.19 s\n",
      "Operator `forward` ran in 0.16 s\n",
      "Operator `gradient` ran in 0.15 s\n"
     ]
    },
    {
     "name": "stdout",
     "output_type": "stream",
     "text": [
      "FWI iteration no: 1; function value: 61812.78\n",
      "(α, misfit) = "
     ]
    },
    {
     "name": "stdout",
     "output_type": "stream",
     "text": [
      "(0.1f0, 115857.5703125)\n"
     ]
    },
    {
     "name": "stderr",
     "output_type": "stream",
     "text": [
      "Building forward operator\n",
      "Operator `forward` ran in 0.34 s\n",
      "Operator `forward` ran in 0.26 s\n",
      "Operator `forward` ran in 0.22 s\n",
      "Operator `forward` ran in 0.22 s\n",
      "Operator `forward` ran in 0.21 s\n",
      "Operator `forward` ran in 0.20 s\n",
      "Operator `forward` ran in 0.21 s\n",
      "Operator `forward` ran in 0.21 s\n",
      "Operator `forward` ran in 0.20 s\n",
      "Operator `forward` ran in 0.21 s\n",
      "Operator `forward` ran in 0.21 s\n",
      "Operator `forward` ran in 0.21 s\n",
      "Operator `forward` ran in 0.20 s\n",
      "Operator `forward` ran in 0.20 s\n",
      "Operator `forward` ran in 0.20 s\n",
      "Operator `forward` ran in 0.20 s\n"
     ]
    },
    {
     "name": "stdout",
     "output_type": "stream",
     "text": [
      "(α, misfit) = (0.0394236738005976, 24691.15234375)\n",
      "FWI iteration no: "
     ]
    },
    {
     "name": "stderr",
     "output_type": "stream",
     "text": [
      "Operator `forward` ran in 0.22 s\n",
      "Operator `forward` ran in 0.22 s\n",
      "Operator `forward` ran in 0.20 s\n",
      "Operator `forward` ran in 0.20 s\n",
      "Operator `forward` ran in 0.20 s\n",
      "Operator `forward` ran in 0.20 s\n",
      "Operator `forward` ran in 0.20 s\n",
      "Operator `forward` ran in 0.20 s\n",
      "Operator `forward` ran in 0.20 s\n",
      "Operator `forward` ran in 0.20 s\n",
      "Operator `forward` ran in 0.20 s\n",
      "Operator `forward` ran in 0.20 s\n",
      "Operator `forward` ran in 0.20 s\n",
      "Operator `forward` ran in 0.20 s\n",
      "Operator `forward` ran in 0.20 s\n",
      "Operator `forward` ran in 0.21 s\n"
     ]
    },
    {
     "name": "stdout",
     "output_type": "stream",
     "text": [
      "2; function value: 24647.87\n"
     ]
    },
    {
     "name": "stderr",
     "output_type": "stream",
     "text": [
      "Operator `forward` ran in 0.25 s\n",
      "Operator `gradient` ran in 0.23 s\n",
      "Operator `forward` ran in 0.23 s\n",
      "Operator `gradient` ran in 0.21 s\n",
      "Operator `forward` ran in 0.25 s\n",
      "Operator `gradient` ran in 0.16 s\n",
      "Operator `forward` ran in 0.21 s\n",
      "Operator `gradient` ran in 0.20 s\n",
      "Operator `forward` ran in 0.18 s\n",
      "Operator `gradient` ran in 0.17 s\n",
      "Operator `forward` ran in 0.18 s\n",
      "Operator `gradient` ran in 0.16 s\n",
      "Operator `forward` ran in 0.17 s\n",
      "Operator `gradient` ran in 0.16 s\n",
      "Operator `forward` ran in 0.17 s\n",
      "Operator `gradient` ran in 0.16 s\n",
      "Operator `forward` ran in 0.17 s\n",
      "Operator `gradient` ran in 0.16 s\n",
      "Operator `forward` ran in 0.17 s\n",
      "Operator `gradient` ran in 0.16 s\n",
      "Operator `forward` ran in 0.17 s\n",
      "Operator `gradient` ran in 0.16 s\n",
      "Operator `forward` ran in 0.17 s\n",
      "Operator `gradient` ran in 0.19 s\n",
      "Operator `forward` ran in 0.19 s\n",
      "Operator `gradient` ran in 0.17 s\n",
      "Operator `forward` ran in 0.16 s\n",
      "Operator `gradient` ran in 0.16 s\n",
      "Operator `forward` ran in 0.16 s\n",
      "Operator `gradient` ran in 0.17 s\n",
      "Operator `forward` ran in 0.16 s\n",
      "Operator `gradient` ran in 0.16 s\n"
     ]
    },
    {
     "name": "stdout",
     "output_type": "stream",
     "text": [
      "(α, misfit) = (0.1f0, 7309.59521484375)\n",
      "FWI iteration no: "
     ]
    },
    {
     "name": "stderr",
     "output_type": "stream",
     "text": [
      "Operator `forward` ran in 0.15 s\n",
      "Operator `forward` ran in 0.14 s\n",
      "Operator `forward` ran in 0.14 s\n",
      "Operator `forward` ran in 0.14 s\n",
      "Operator `forward` ran in 0.16 s\n",
      "Operator `forward` ran in 0.17 s\n",
      "Operator `forward` ran in 0.16 s\n",
      "Operator `forward` ran in 0.16 s\n",
      "Operator `forward` ran in 0.15 s\n",
      "Operator `forward` ran in 0.16 s\n",
      "Operator `forward` ran in 0.15 s\n",
      "Operator `forward` ran in 0.16 s\n",
      "Operator `forward` ran in 0.16 s\n",
      "Operator `forward` ran in 0.15 s\n",
      "Operator `forward` ran in 0.16 s\n",
      "Operator `forward` ran in 0.18 s\n"
     ]
    },
    {
     "name": "stdout",
     "output_type": "stream",
     "text": [
      "3; function value: 7707.1284\n"
     ]
    },
    {
     "name": "stderr",
     "output_type": "stream",
     "text": [
      "Operator `forward` ran in 0.21 s\n",
      "Operator `gradient` ran in 0.19 s\n",
      "Operator `forward` ran in 0.17 s\n",
      "Operator `gradient` ran in 0.15 s\n",
      "Operator `forward` ran in 0.16 s\n",
      "Operator `gradient` ran in 0.15 s\n",
      "Operator `forward` ran in 0.16 s\n",
      "Operator `gradient` ran in 0.15 s\n",
      "Operator `forward` ran in 0.16 s\n",
      "Operator `gradient` ran in 0.15 s\n",
      "Operator `forward` ran in 0.16 s\n",
      "Operator `gradient` ran in 0.15 s\n",
      "Operator `forward` ran in 0.17 s\n",
      "Operator `gradient` ran in 0.15 s\n",
      "Operator `forward` ran in 0.17 s\n",
      "Operator `gradient` ran in 0.16 s\n",
      "Operator `forward` ran in 0.17 s\n",
      "Operator `gradient` ran in 0.16 s\n",
      "Operator `forward` ran in 0.17 s\n",
      "Operator `gradient` ran in 0.16 s\n",
      "Operator `forward` ran in 0.17 s\n",
      "Operator `gradient` ran in 0.16 s\n",
      "Operator `forward` ran in 0.17 s\n",
      "Operator `gradient` ran in 0.16 s\n",
      "Operator `forward` ran in 0.17 s\n",
      "Operator `gradient` ran in 0.16 s\n",
      "Operator `forward` ran in 0.17 s\n",
      "Operator `gradient` ran in 0.16 s\n",
      "Operator `forward` ran in 0.17 s\n",
      "Operator `gradient` ran in 0.16 s\n",
      "Operator `forward` ran in 0.17 s\n",
      "Operator `gradient` ran in 0.16 s\n"
     ]
    },
    {
     "name": "stdout",
     "output_type": "stream",
     "text": [
      "(α, misfit) = (0.1f0, 1.109386625e6)\n",
      "(α, misfit) = "
     ]
    },
    {
     "name": "stderr",
     "output_type": "stream",
     "text": [
      "Operator `forward` ran in 0.15 s\n",
      "Operator `forward` ran in 0.15 s\n",
      "Operator `forward` ran in 0.15 s\n",
      "Operator `forward` ran in 0.16 s\n",
      "Operator `forward` ran in 0.15 s\n",
      "Operator `forward` ran in 0.15 s\n",
      "Operator `forward` ran in 0.16 s\n",
      "Operator `forward` ran in 0.16 s\n",
      "Operator `forward` ran in 0.15 s\n",
      "Operator `forward` ran in 0.18 s\n",
      "Operator `forward` ran in 0.17 s\n",
      "Operator `forward` ran in 0.17 s\n",
      "Operator `forward` ran in 0.18 s\n",
      "Operator `forward` ran in 0.18 s\n",
      "Operator `forward` ran in 0.18 s\n",
      "Operator `forward` ran in 0.17 s\n"
     ]
    },
    {
     "name": "stdout",
     "output_type": "stream",
     "text": [
      "(0.010000000149011612, 11131.4873046875)\n"
     ]
    },
    {
     "name": "stderr",
     "output_type": "stream",
     "text": [
      "Operator `forward` ran in 0.17 s\n",
      "Operator `forward` ran in 0.17 s\n",
      "Operator `forward` ran in 0.17 s\n",
      "Operator `forward` ran in 0.17 s\n",
      "Operator `forward` ran in 0.17 s\n",
      "Operator `forward` ran in 0.17 s\n",
      "Operator `forward` ran in 0.17 s\n",
      "Operator `forward` ran in 0.17 s\n",
      "Operator `forward` ran in 0.17 s\n",
      "Operator `forward` ran in 0.16 s\n",
      "Operator `forward` ran in 0.16 s\n",
      "Operator `forward` ran in 0.13 s\n",
      "Operator `forward` ran in 0.14 s\n",
      "Operator `forward` ran in 0.14 s\n",
      "Operator `forward` ran in 0.14 s\n",
      "Operator `forward` ran in 0.15 s\n"
     ]
    },
    {
     "name": "stdout",
     "output_type": "stream",
     "text": [
      "(α, misfit) = (0.0036747631984997762, 5388.49462890625)\n",
      "FWI iteration no: "
     ]
    },
    {
     "name": "stderr",
     "output_type": "stream",
     "text": [
      "Operator `forward` ran in 0.17 s\n",
      "Operator `forward` ran in 0.17 s\n",
      "Operator `forward` ran in 0.17 s\n",
      "Operator `forward` ran in 0.17 s\n",
      "Operator `forward` ran in 0.17 s\n",
      "Operator `forward` ran in 0.17 s\n",
      "Operator `forward` ran in 0.17 s\n",
      "Operator `forward` ran in 0.18 s\n",
      "Operator `forward` ran in 0.18 s\n",
      "Operator `forward` ran in 0.18 s\n",
      "Operator `forward` ran in 0.18 s\n",
      "Operator `forward` ran in 0.18 s\n",
      "Operator `forward` ran in 0.19 s\n",
      "Operator `forward` ran in 0.19 s\n",
      "Operator `forward` ran in 0.19 s\n",
      "Operator `forward` ran in 0.19 s\n"
     ]
    },
    {
     "name": "stdout",
     "output_type": "stream",
     "text": [
      "4; function value: 5182.0654\n"
     ]
    },
    {
     "name": "stderr",
     "output_type": "stream",
     "text": [
      "Operator `forward` ran in 0.24 s\n",
      "Operator `gradient` ran in 0.21 s\n",
      "Operator `forward` ran in 0.24 s\n",
      "Operator `gradient` ran in 0.19 s\n",
      "Operator `forward` ran in 0.22 s\n",
      "Operator `gradient` ran in 0.20 s\n",
      "Operator `forward` ran in 0.22 s\n",
      "Operator `gradient` ran in 0.19 s\n",
      "Operator `forward` ran in 0.16 s\n",
      "Operator `gradient` ran in 0.15 s\n",
      "Operator `forward` ran in 0.16 s\n",
      "Operator `gradient` ran in 0.15 s\n",
      "Operator `forward` ran in 0.17 s\n",
      "Operator `gradient` ran in 0.15 s\n",
      "Operator `forward` ran in 0.16 s\n",
      "Operator `gradient` ran in 0.15 s\n",
      "Operator `forward` ran in 0.16 s\n",
      "Operator `gradient` ran in 0.15 s\n",
      "Operator `forward` ran in 0.22 s\n",
      "Operator `gradient` ran in 0.19 s\n",
      "Operator `forward` ran in 0.16 s\n",
      "Operator `gradient` ran in 0.15 s\n",
      "Operator `forward` ran in 0.16 s\n",
      "Operator `gradient` ran in 0.15 s\n",
      "Operator `forward` ran in 0.16 s\n",
      "Operator `gradient` ran in 0.15 s\n",
      "Operator `forward` ran in 0.16 s\n",
      "Operator `gradient` ran in 0.15 s\n",
      "Operator `forward` ran in 0.16 s\n",
      "Operator `gradient` ran in 0.16 s\n",
      "Operator `forward` ran in 0.22 s\n",
      "Operator `gradient` ran in 0.19 s\n"
     ]
    },
    {
     "name": "stdout",
     "output_type": "stream",
     "text": [
      "(α, misfit) = (0.1f0, 28050.759765625)\n",
      "(α, misfit) = "
     ]
    },
    {
     "name": "stderr",
     "output_type": "stream",
     "text": [
      "Operator `forward` ran in 0.15 s\n",
      "Operator `forward` ran in 0.15 s\n",
      "Operator `forward` ran in 0.15 s\n",
      "Operator `forward` ran in 0.15 s\n",
      "Operator `forward` ran in 0.15 s\n",
      "Operator `forward` ran in 0.14 s\n",
      "Operator `forward` ran in 0.15 s\n",
      "Operator `forward` ran in 0.15 s\n",
      "Operator `forward` ran in 0.15 s\n",
      "Operator `forward` ran in 0.15 s\n",
      "Operator `forward` ran in 0.15 s\n",
      "Operator `forward` ran in 0.17 s\n",
      "Operator `forward` ran in 0.17 s\n",
      "Operator `forward` ran in 0.17 s\n",
      "Operator `forward` ran in 0.18 s\n",
      "Operator `forward` ran in 0.17 s\n"
     ]
    },
    {
     "name": "stdout",
     "output_type": "stream",
     "text": [
      "(0.033325704028712884, 2835.363525390625)\n"
     ]
    },
    {
     "name": "stderr",
     "output_type": "stream",
     "text": [
      "Operator `forward` ran in 0.18 s\n",
      "Operator `forward` ran in 0.21 s\n",
      "Operator `forward` ran in 0.22 s\n",
      "Operator `forward` ran in 0.20 s\n",
      "Operator `forward` ran in 0.20 s\n",
      "Operator `forward` ran in 0.20 s\n",
      "Operator `forward` ran in 0.20 s\n",
      "Operator `forward` ran in 0.20 s\n",
      "Operator `forward` ran in 0.20 s\n",
      "Operator `forward` ran in 0.20 s\n",
      "Operator `forward` ran in 0.20 s\n",
      "Operator `forward` ran in 0.20 s\n",
      "Operator `forward` ran in 0.20 s\n",
      "Operator `forward` ran in 0.20 s\n",
      "Operator `forward` ran in 0.20 s\n",
      "Operator `forward` ran in 0.20 s\n"
     ]
    },
    {
     "name": "stdout",
     "output_type": "stream",
     "text": [
      "FWI iteration no: 5; function value: 3589.7356\n",
      "(α, misfit) = "
     ]
    },
    {
     "name": "stderr",
     "output_type": "stream",
     "text": [
      "Operator `forward` ran in 0.25 s\n",
      "Operator `gradient` ran in 0.22 s\n",
      "Operator `forward` ran in 0.23 s\n",
      "Operator `gradient` ran in 0.19 s\n",
      "Operator `forward` ran in 0.21 s\n",
      "Operator `gradient` ran in 0.17 s\n",
      "Operator `forward` ran in 0.16 s\n",
      "Operator `gradient` ran in 0.15 s\n",
      "Operator `forward` ran in 0.16 s\n",
      "Operator `gradient` ran in 0.15 s\n",
      "Operator `forward` ran in 0.16 s\n",
      "Operator `gradient` ran in 0.15 s\n",
      "Operator `forward` ran in 0.16 s\n",
      "Operator `gradient` ran in 0.15 s\n",
      "Operator `forward` ran in 0.16 s\n",
      "Operator `gradient` ran in 0.16 s\n",
      "Operator `forward` ran in 0.21 s\n",
      "Operator `gradient` ran in 0.18 s\n",
      "Operator `forward` ran in 0.16 s\n",
      "Operator `gradient` ran in 0.15 s\n",
      "Operator `forward` ran in 0.16 s\n",
      "Operator `gradient` ran in 0.15 s\n",
      "Operator `forward` ran in 0.16 s\n",
      "Operator `gradient` ran in 0.15 s\n",
      "Operator `forward` ran in 0.16 s\n",
      "Operator `gradient` ran in 0.15 s\n",
      "Operator `forward` ran in 0.17 s\n",
      "Operator `gradient` ran in 0.16 s\n",
      "Operator `forward` ran in 0.21 s\n",
      "Operator `gradient` ran in 0.18 s\n",
      "Operator `forward` ran in 0.16 s\n",
      "Operator `gradient` ran in 0.15 s\n"
     ]
    },
    {
     "name": "stdout",
     "output_type": "stream",
     "text": [
      "(0.1f0, 93081.2734375)\n"
     ]
    },
    {
     "name": "stderr",
     "output_type": "stream",
     "text": [
      "Operator `forward` ran in 0.14 s\n",
      "Operator `forward` ran in 0.14 s\n",
      "Operator `forward` ran in 0.14 s\n",
      "Operator `forward` ran in 0.15 s\n",
      "Operator `forward` ran in 0.14 s\n",
      "Operator `forward` ran in 0.14 s\n",
      "Operator `forward` ran in 0.14 s\n",
      "Operator `forward` ran in 0.14 s\n",
      "Operator `forward` ran in 0.16 s\n",
      "Operator `forward` ran in 0.18 s\n",
      "Operator `forward` ran in 0.18 s\n",
      "Operator `forward` ran in 0.17 s\n",
      "Operator `forward` ran in 0.18 s\n",
      "Operator `forward` ran in 0.18 s\n",
      "Operator `forward` ran in 0.19 s\n",
      "Operator `forward` ran in 0.20 s\n"
     ]
    },
    {
     "name": "stdout",
     "output_type": "stream",
     "text": [
      "(α, misfit) = (0.014497071266947882, 1883.1871337890625)\n",
      "FWI iteration no: "
     ]
    },
    {
     "name": "stderr",
     "output_type": "stream",
     "text": [
      "Operator `forward` ran in 0.20 s\n",
      "Operator `forward` ran in 0.20 s\n",
      "Operator `forward` ran in 0.20 s\n",
      "Operator `forward` ran in 0.20 s\n",
      "Operator `forward` ran in 0.20 s\n",
      "Operator `forward` ran in 0.20 s\n",
      "Operator `forward` ran in 0.20 s\n",
      "Operator `forward` ran in 0.20 s\n",
      "Operator `forward` ran in 0.20 s\n",
      "Operator `forward` ran in 0.20 s\n",
      "Operator `forward` ran in 0.20 s\n",
      "Operator `forward` ran in 0.20 s\n",
      "Operator `forward` ran in 0.20 s\n",
      "Operator `forward` ran in 0.20 s\n",
      "Operator `forward` ran in 0.20 s\n",
      "Operator `forward` ran in 0.20 s\n"
     ]
    },
    {
     "name": "stdout",
     "output_type": "stream",
     "text": [
      "6; function value: 1967.4882\n"
     ]
    },
    {
     "name": "stderr",
     "output_type": "stream",
     "text": [
      "Operator `forward` ran in 0.25 s\n",
      "Operator `gradient` ran in 0.22 s\n",
      "Operator `forward` ran in 0.22 s\n",
      "Operator `gradient` ran in 0.19 s\n",
      "Operator `forward` ran in 0.17 s\n",
      "Operator `gradient` ran in 0.16 s\n",
      "Operator `forward` ran in 0.17 s\n",
      "Operator `gradient` ran in 0.15 s\n",
      "Operator `forward` ran in 0.17 s\n",
      "Operator `gradient` ran in 0.16 s\n",
      "Operator `forward` ran in 0.17 s\n",
      "Operator `gradient` ran in 0.16 s\n",
      "Operator `forward` ran in 0.17 s\n",
      "Operator `gradient` ran in 0.17 s\n",
      "Operator `forward` ran in 0.21 s\n",
      "Operator `gradient` ran in 0.18 s\n",
      "Operator `forward` ran in 0.16 s\n",
      "Operator `gradient` ran in 0.15 s\n",
      "Operator `forward` ran in 0.17 s\n",
      "Operator `gradient` ran in 0.16 s\n",
      "Operator `forward` ran in 0.17 s\n",
      "Operator `gradient` ran in 0.16 s\n",
      "Operator `forward` ran in 0.17 s\n",
      "Operator `gradient` ran in 0.16 s\n",
      "Operator `forward` ran in 0.17 s\n",
      "Operator `gradient` ran in 0.18 s\n",
      "Operator `forward` ran in 0.21 s\n",
      "Operator `gradient` ran in 0.20 s\n",
      "Operator `forward` ran in 0.22 s\n",
      "Operator `gradient` ran in 0.20 s\n",
      "Operator `forward` ran in 0.16 s\n",
      "Operator `gradient` ran in 0.15 s\n"
     ]
    },
    {
     "name": "stdout",
     "output_type": "stream",
     "text": [
      "(α, misfit) = (0.1f0, 61434.64453125)\n",
      "(α, misfit) = "
     ]
    },
    {
     "name": "stderr",
     "output_type": "stream",
     "text": [
      "Operator `forward` ran in 0.14 s\n",
      "Operator `forward` ran in 0.14 s\n",
      "Operator `forward` ran in 0.14 s\n",
      "Operator `forward` ran in 0.14 s\n",
      "Operator `forward` ran in 0.14 s\n",
      "Operator `forward` ran in 0.14 s\n",
      "Operator `forward` ran in 0.14 s\n",
      "Operator `forward` ran in 0.15 s\n",
      "Operator `forward` ran in 0.15 s\n",
      "Operator `forward` ran in 0.17 s\n",
      "Operator `forward` ran in 0.17 s\n",
      "Operator `forward` ran in 0.17 s\n",
      "Operator `forward` ran in 0.17 s\n",
      "Operator `forward` ran in 0.17 s\n",
      "Operator `forward` ran in 0.17 s\n",
      "Operator `forward` ran in 0.17 s\n"
     ]
    },
    {
     "name": "stdout",
     "output_type": "stream",
     "text": [
      "(0.018861621190020886, 2871.645751953125)\n"
     ]
    },
    {
     "name": "stderr",
     "output_type": "stream",
     "text": [
      "Operator `forward` ran in 0.18 s\n",
      "Operator `forward` ran in 0.20 s\n",
      "Operator `forward` ran in 0.20 s\n",
      "Operator `forward` ran in 0.20 s\n",
      "Operator `forward` ran in 0.20 s\n",
      "Operator `forward` ran in 0.20 s\n",
      "Operator `forward` ran in 0.20 s\n",
      "Operator `forward` ran in 0.20 s\n",
      "Operator `forward` ran in 0.20 s\n",
      "Operator `forward` ran in 0.20 s\n",
      "Operator `forward` ran in 0.20 s\n",
      "Operator `forward` ran in 0.20 s\n",
      "Operator `forward` ran in 0.20 s\n",
      "Operator `forward` ran in 0.20 s\n",
      "Operator `forward` ran in 0.20 s\n",
      "Operator `forward` ran in 0.20 s\n"
     ]
    },
    {
     "name": "stdout",
     "output_type": "stream",
     "text": [
      "(α, misfit) = (0.007943209438929953, 1513.1937255859375)\n",
      "FWI iteration no: "
     ]
    },
    {
     "name": "stderr",
     "output_type": "stream",
     "text": [
      "Operator `forward` ran in 0.20 s\n",
      "Operator `forward` ran in 0.20 s\n",
      "Operator `forward` ran in 0.20 s\n",
      "Operator `forward` ran in 0.20 s\n",
      "Operator `forward` ran in 0.20 s\n",
      "Operator `forward` ran in 0.21 s\n",
      "Operator `forward` ran in 0.21 s\n",
      "Operator `forward` ran in 0.21 s\n",
      "Operator `forward` ran in 0.21 s\n",
      "Operator `forward` ran in 0.21 s\n",
      "Operator `forward` ran in 0.21 s\n",
      "Operator `forward` ran in 0.21 s\n",
      "Operator `forward` ran in 0.21 s\n",
      "Operator `forward` ran in 0.21 s\n",
      "Operator `forward` ran in 0.21 s\n",
      "Operator `forward` ran in 0.21 s\n"
     ]
    },
    {
     "name": "stdout",
     "output_type": "stream",
     "text": [
      "7; function value: 1462.1814\n"
     ]
    },
    {
     "name": "stderr",
     "output_type": "stream",
     "text": [
      "Operator `forward` ran in 0.26 s\n",
      "Operator `gradient` ran in 0.23 s\n",
      "Operator `forward` ran in 0.23 s\n",
      "Operator `gradient` ran in 0.20 s\n",
      "Operator `forward` ran in 0.21 s\n",
      "Operator `gradient` ran in 0.20 s\n",
      "Operator `forward` ran in 0.22 s\n",
      "Operator `gradient` ran in 0.19 s\n",
      "Operator `forward` ran in 0.16 s\n",
      "Operator `gradient` ran in 0.15 s\n",
      "Operator `forward` ran in 0.16 s\n",
      "Operator `gradient` ran in 0.16 s\n",
      "Operator `forward` ran in 0.16 s\n",
      "Operator `gradient` ran in 0.16 s\n",
      "Operator `forward` ran in 0.17 s\n",
      "Operator `gradient` ran in 0.16 s\n",
      "Operator `forward` ran in 0.16 s\n",
      "Operator `gradient` ran in 0.17 s\n",
      "Operator `forward` ran in 0.22 s\n",
      "Operator `gradient` ran in 0.20 s\n",
      "Operator `forward` ran in 0.16 s\n",
      "Operator `gradient` ran in 0.16 s\n",
      "Operator `forward` ran in 0.16 s\n",
      "Operator `gradient` ran in 0.16 s\n",
      "Operator `forward` ran in 0.16 s\n",
      "Operator `gradient` ran in 0.16 s\n",
      "Operator `forward` ran in 0.16 s\n",
      "Operator `gradient` ran in 0.16 s\n",
      "Operator `forward` ran in 0.18 s\n",
      "Operator `gradient` ran in 0.17 s\n",
      "Operator `forward` ran in 0.22 s\n",
      "Operator `gradient` ran in 0.19 s\n"
     ]
    },
    {
     "name": "stdout",
     "output_type": "stream",
     "text": [
      "(α, misfit) = (0.1f0, 1.11939975e6)\n",
      "(α, misfit) = "
     ]
    },
    {
     "name": "stderr",
     "output_type": "stream",
     "text": [
      "Operator `forward` ran in 0.15 s\n",
      "Operator `forward` ran in 0.15 s\n",
      "Operator `forward` ran in 0.15 s\n",
      "Operator `forward` ran in 0.14 s\n",
      "Operator `forward` ran in 0.14 s\n",
      "Operator `forward` ran in 0.14 s\n",
      "Operator `forward` ran in 0.14 s\n",
      "Operator `forward` ran in 0.14 s\n",
      "Operator `forward` ran in 0.14 s\n",
      "Operator `forward` ran in 0.14 s\n",
      "Operator `forward` ran in 0.16 s\n",
      "Operator `forward` ran in 0.17 s\n",
      "Operator `forward` ran in 0.17 s\n",
      "Operator `forward` ran in 0.11 s\n",
      "Operator `forward` ran in 0.12 s\n",
      "Operator `forward` ran in 0.12 s\n"
     ]
    },
    {
     "name": "stdout",
     "output_type": "stream",
     "text": [
      "(0.010000000149011612, 11020.06640625)\n"
     ]
    },
    {
     "name": "stderr",
     "output_type": "stream",
     "text": [
      "Operator `forward` ran in 0.12 s\n",
      "Operator `forward` ran in 0.12 s\n",
      "Operator `forward` ran in 0.12 s\n",
      "Operator `forward` ran in 0.12 s\n",
      "Operator `forward` ran in 0.11 s\n",
      "Operator `forward` ran in 0.11 s\n",
      "Operator `forward` ran in 0.11 s\n",
      "Operator `forward` ran in 0.11 s\n",
      "Operator `forward` ran in 0.11 s\n",
      "Operator `forward` ran in 0.11 s\n",
      "Operator `forward` ran in 0.11 s\n",
      "Operator `forward` ran in 0.11 s\n",
      "Operator `forward` ran in 0.11 s\n",
      "Operator `forward` ran in 0.11 s\n",
      "Operator `forward` ran in 0.11 s\n",
      "Operator `forward` ran in 0.11 s\n"
     ]
    },
    {
     "name": "stdout",
     "output_type": "stream",
     "text": [
      "(α, misfit) = (0.0012035525196871903, 1081.508544921875)\n",
      "FWI iteration no: "
     ]
    },
    {
     "name": "stderr",
     "output_type": "stream",
     "text": [
      "Operator `forward` ran in 0.11 s\n",
      "Operator `forward` ran in 0.11 s\n",
      "Operator `forward` ran in 0.11 s\n",
      "Operator `forward` ran in 0.11 s\n",
      "Operator `forward` ran in 0.11 s\n",
      "Operator `forward` ran in 0.11 s\n",
      "Operator `forward` ran in 0.11 s\n",
      "Operator `forward` ran in 0.14 s\n",
      "Operator `forward` ran in 0.14 s\n",
      "Operator `forward` ran in 0.14 s\n",
      "Operator `forward` ran in 0.15 s\n",
      "Operator `forward` ran in 0.15 s\n",
      "Operator `forward` ran in 0.17 s\n",
      "Operator `forward` ran in 0.17 s\n",
      "Operator `forward` ran in 0.17 s\n",
      "Operator `forward` ran in 0.17 s\n"
     ]
    },
    {
     "name": "stdout",
     "output_type": "stream",
     "text": [
      "8; function value: 1236.5719\n"
     ]
    },
    {
     "name": "stderr",
     "output_type": "stream",
     "text": [
      "Operator `forward` ran in 0.21 s\n",
      "Operator `gradient` ran in 0.19 s\n",
      "Operator `forward` ran in 0.17 s\n",
      "Operator `gradient` ran in 0.16 s\n",
      "Operator `forward` ran in 0.16 s\n",
      "Operator `gradient` ran in 0.16 s\n",
      "Operator `forward` ran in 0.17 s\n",
      "Operator `gradient` ran in 0.16 s\n",
      "Operator `forward` ran in 0.17 s\n",
      "Operator `gradient` ran in 0.16 s\n",
      "Operator `forward` ran in 0.17 s\n",
      "Operator `gradient` ran in 0.17 s\n",
      "Operator `forward` ran in 0.22 s\n",
      "Operator `gradient` ran in 0.20 s\n",
      "Operator `forward` ran in 0.21 s\n",
      "Operator `gradient` ran in 0.17 s\n",
      "Operator `forward` ran in 0.17 s\n",
      "Operator `gradient` ran in 0.16 s\n",
      "Operator `forward` ran in 0.16 s\n",
      "Operator `gradient` ran in 0.15 s\n",
      "Operator `forward` ran in 0.17 s\n",
      "Operator `gradient` ran in 0.16 s\n",
      "Operator `forward` ran in 0.16 s\n",
      "Operator `gradient` ran in 0.16 s\n",
      "Operator `forward` ran in 0.16 s\n",
      "Operator `gradient` ran in 0.19 s\n",
      "Operator `forward` ran in 0.22 s\n",
      "Operator `gradient` ran in 0.20 s\n",
      "Operator `forward` ran in 0.22 s\n",
      "Operator `gradient` ran in 0.18 s\n",
      "Operator `forward` ran in 0.16 s\n",
      "Operator `gradient` ran in 0.15 s\n"
     ]
    },
    {
     "name": "stdout",
     "output_type": "stream",
     "text": [
      "(α, misfit) = (0.1f0, 18210.19140625)\n",
      "(α, misfit) = "
     ]
    },
    {
     "name": "stderr",
     "output_type": "stream",
     "text": [
      "Operator `forward` ran in 0.15 s\n",
      "Operator `forward` ran in 0.14 s\n",
      "Operator `forward` ran in 0.14 s\n",
      "Operator `forward` ran in 0.14 s\n",
      "Operator `forward` ran in 0.14 s\n",
      "Operator `forward` ran in 0.14 s\n",
      "Operator `forward` ran in 0.14 s\n",
      "Operator `forward` ran in 0.14 s\n",
      "Operator `forward` ran in 0.16 s\n",
      "Operator `forward` ran in 0.17 s\n",
      "Operator `forward` ran in 0.17 s\n",
      "Operator `forward` ran in 0.18 s\n",
      "Operator `forward` ran in 0.19 s\n",
      "Operator `forward` ran in 0.19 s\n",
      "Operator `forward` ran in 0.20 s\n",
      "Operator `forward` ran in 0.20 s\n"
     ]
    },
    {
     "name": "stdout",
     "output_type": "stream",
     "text": [
      "(0.019958074530786477, 1432.517578125)\n"
     ]
    },
    {
     "name": "stderr",
     "output_type": "stream",
     "text": [
      "Operator `forward` ran in 0.20 s\n",
      "Operator `forward` ran in 0.20 s\n",
      "Operator `forward` ran in 0.20 s\n",
      "Operator `forward` ran in 0.20 s\n",
      "Operator `forward` ran in 0.20 s\n",
      "Operator `forward` ran in 0.20 s\n",
      "Operator `forward` ran in 0.21 s\n",
      "Operator `forward` ran in 0.20 s\n",
      "Operator `forward` ran in 0.20 s\n",
      "Operator `forward` ran in 0.21 s\n",
      "Operator `forward` ran in 0.21 s\n",
      "Operator `forward` ran in 0.20 s\n",
      "Operator `forward` ran in 0.20 s\n",
      "Operator `forward` ran in 0.21 s\n",
      "Operator `forward` ran in 0.20 s\n",
      "Operator `forward` ran in 0.20 s\n"
     ]
    },
    {
     "name": "stdout",
     "output_type": "stream",
     "text": [
      "(α, misfit) = (0.008777560533561242, 957.5785522460938)\n",
      "FWI iteration no: "
     ]
    },
    {
     "name": "stderr",
     "output_type": "stream",
     "text": [
      "Operator `forward` ran in 0.20 s\n",
      "Operator `forward` ran in 0.21 s\n",
      "Operator `forward` ran in 0.21 s\n",
      "Operator `forward` ran in 0.21 s\n",
      "Operator `forward` ran in 0.20 s\n",
      "Operator `forward` ran in 0.21 s\n",
      "Operator `forward` ran in 0.21 s\n",
      "Operator `forward` ran in 0.21 s\n",
      "Operator `forward` ran in 0.21 s\n",
      "Operator `forward` ran in 0.21 s\n",
      "Operator `forward` ran in 0.20 s\n",
      "Operator `forward` ran in 0.21 s\n",
      "Operator `forward` ran in 0.21 s\n",
      "Operator `forward` ran in 0.21 s\n",
      "Operator `forward` ran in 0.21 s\n",
      "Operator `forward` ran in 0.21 s\n"
     ]
    },
    {
     "name": "stdout",
     "output_type": "stream",
     "text": [
      "9; function value: 994.30896\n"
     ]
    },
    {
     "name": "stderr",
     "output_type": "stream",
     "text": [
      "Operator `forward` ran in 0.25 s\n",
      "Operator `gradient` ran in 0.22 s\n",
      "Operator `forward` ran in 0.23 s\n",
      "Operator `gradient` ran in 0.18 s\n",
      "Operator `forward` ran in 0.17 s\n",
      "Operator `gradient` ran in 0.16 s\n",
      "Operator `forward` ran in 0.17 s\n",
      "Operator `gradient` ran in 0.16 s\n",
      "Operator `forward` ran in 0.17 s\n",
      "Operator `gradient` ran in 0.15 s\n",
      "Operator `forward` ran in 0.17 s\n",
      "Operator `gradient` ran in 0.16 s\n",
      "Operator `forward` ran in 0.17 s\n",
      "Operator `gradient` ran in 0.18 s\n",
      "Operator `forward` ran in 0.21 s\n",
      "Operator `gradient` ran in 0.20 s\n",
      "Operator `forward` ran in 0.22 s\n",
      "Operator `gradient` ran in 0.20 s\n",
      "Operator `forward` ran in 0.22 s\n",
      "Operator `gradient` ran in 0.18 s\n",
      "Operator `forward` ran in 0.16 s\n",
      "Operator `gradient` ran in 0.15 s\n",
      "Operator `forward` ran in 0.16 s\n",
      "Operator `gradient` ran in 0.15 s\n",
      "Operator `forward` ran in 0.16 s\n",
      "Operator `gradient` ran in 0.15 s\n",
      "Operator `forward` ran in 0.16 s\n",
      "Operator `gradient` ran in 0.16 s\n",
      "Operator `forward` ran in 0.16 s\n",
      "Operator `gradient` ran in 0.17 s\n",
      "Operator `forward` ran in 0.22 s\n",
      "Operator `gradient` ran in 0.20 s\n"
     ]
    },
    {
     "name": "stdout",
     "output_type": "stream",
     "text": [
      "(α, misfit) = (0.1f0, 536784.0625)\n",
      "(α, misfit) = "
     ]
    },
    {
     "name": "stderr",
     "output_type": "stream",
     "text": [
      "Operator `forward` ran in 0.17 s\n",
      "Operator `forward` ran in 0.17 s\n",
      "Operator `forward` ran in 0.17 s\n",
      "Operator `forward` ran in 0.17 s\n",
      "Operator `forward` ran in 0.17 s\n",
      "Operator `forward` ran in 0.16 s\n",
      "Operator `forward` ran in 0.16 s\n",
      "Operator `forward` ran in 0.16 s\n",
      "Operator `forward` ran in 0.17 s\n",
      "Operator `forward` ran in 0.19 s\n",
      "Operator `forward` ran in 0.19 s\n",
      "Operator `forward` ran in 0.19 s\n",
      "Operator `forward` ran in 0.19 s\n",
      "Operator `forward` ran in 0.19 s\n",
      "Operator `forward` ran in 0.19 s\n",
      "Operator `forward` ran in 0.19 s\n"
     ]
    },
    {
     "name": "stdout",
     "output_type": "stream",
     "text": [
      "(0.010000000149011612, 4720.970703125)\n"
     ]
    },
    {
     "name": "stderr",
     "output_type": "stream",
     "text": [
      "Operator `forward` ran in 0.20 s\n",
      "Operator `forward` ran in 0.20 s\n",
      "Operator `forward` ran in 0.20 s\n",
      "Operator `forward` ran in 0.20 s\n",
      "Operator `forward` ran in 0.21 s\n",
      "Operator `forward` ran in 0.20 s\n",
      "Operator `forward` ran in 0.20 s\n",
      "Operator `forward` ran in 0.20 s\n",
      "Operator `forward` ran in 0.21 s\n",
      "Operator `forward` ran in 0.21 s\n",
      "Operator `forward` ran in 0.21 s\n",
      "Operator `forward` ran in 0.21 s\n",
      "Operator `forward` ran in 0.20 s\n",
      "Operator `forward` ran in 0.21 s\n",
      "Operator `forward` ran in 0.21 s\n",
      "Operator `forward` ran in 0.23 s\n"
     ]
    },
    {
     "name": "stdout",
     "output_type": "stream",
     "text": [
      "(α, misfit) = (0.001552294718388733, 777.0029907226562)\n",
      "FWI iteration no: "
     ]
    },
    {
     "name": "stderr",
     "output_type": "stream",
     "text": [
      "Operator `forward` ran in 0.21 s\n",
      "Operator `forward` ran in 0.21 s\n",
      "Operator `forward` ran in 0.21 s\n",
      "Operator `forward` ran in 0.21 s\n",
      "Operator `forward` ran in 0.20 s\n",
      "Operator `forward` ran in 0.21 s\n",
      "Operator `forward` ran in 0.21 s\n",
      "Operator `forward` ran in 0.21 s\n",
      "Operator `forward` ran in 0.21 s\n",
      "Operator `forward` ran in 0.20 s\n",
      "Operator `forward` ran in 0.21 s\n",
      "Operator `forward` ran in 0.21 s\n",
      "Operator `forward` ran in 0.20 s\n",
      "Operator `forward` ran in 0.20 s\n",
      "Operator `forward` ran in 0.21 s\n",
      "Operator `forward` ran in 0.20 s\n"
     ]
    },
    {
     "name": "stdout",
     "output_type": "stream",
     "text": [
      "10; function value: 1012.83075\n"
     ]
    },
    {
     "name": "stderr",
     "output_type": "stream",
     "text": [
      "Operator `forward` ran in 0.25 s\n",
      "Operator `gradient` ran in 0.23 s\n",
      "Operator `forward` ran in 0.24 s\n",
      "Operator `gradient` ran in 0.21 s\n",
      "Operator `forward` ran in 0.23 s\n",
      "Operator `gradient` ran in 0.19 s\n",
      "Operator `forward` ran in 0.17 s\n",
      "Operator `gradient` ran in 0.16 s\n",
      "Operator `forward` ran in 0.17 s\n",
      "Operator `gradient` ran in 0.16 s\n",
      "Operator `forward` ran in 0.17 s\n",
      "Operator `gradient` ran in 0.16 s\n",
      "Operator `forward` ran in 0.17 s\n",
      "Operator `gradient` ran in 0.16 s\n",
      "Operator `forward` ran in 0.17 s\n",
      "Operator `gradient` ran in 0.18 s\n",
      "Operator `forward` ran in 0.22 s\n",
      "Operator `gradient` ran in 0.17 s\n",
      "Operator `forward` ran in 0.17 s\n",
      "Operator `gradient` ran in 0.16 s\n",
      "Operator `forward` ran in 0.17 s\n",
      "Operator `gradient` ran in 0.16 s\n",
      "Operator `forward` ran in 0.17 s\n",
      "Operator `gradient` ran in 0.16 s\n",
      "Operator `forward` ran in 0.17 s\n",
      "Operator `gradient` ran in 0.16 s\n",
      "Operator `forward` ran in 0.17 s\n",
      "Operator `gradient` ran in 0.18 s\n",
      "Operator `forward` ran in 0.22 s\n",
      "Operator `gradient` ran in 0.20 s\n",
      "Operator `forward` ran in 0.17 s\n",
      "Operator `gradient` ran in 0.16 s\n"
     ]
    },
    {
     "name": "stdout",
     "output_type": "stream",
     "text": [
      "(α, misfit) = (0.1f0, 125912.8203125)\n",
      "(α, misfit) = "
     ]
    },
    {
     "name": "stderr",
     "output_type": "stream",
     "text": [
      "Operator `forward` ran in 0.14 s\n",
      "Operator `forward` ran in 0.15 s\n",
      "Operator `forward` ran in 0.15 s\n",
      "Operator `forward` ran in 0.15 s\n",
      "Operator `forward` ran in 0.15 s\n",
      "Operator `forward` ran in 0.15 s\n",
      "Operator `forward` ran in 0.15 s\n",
      "Operator `forward` ran in 0.15 s\n",
      "Operator `forward` ran in 0.17 s\n",
      "Operator `forward` ran in 0.18 s\n",
      "Operator `forward` ran in 0.18 s\n",
      "Operator `forward` ran in 0.18 s\n",
      "Operator `forward` ran in 0.17 s\n",
      "Operator `forward` ran in 0.17 s\n",
      "Operator `forward` ran in 0.19 s\n",
      "Operator `forward` ran in 0.19 s\n"
     ]
    },
    {
     "name": "stdout",
     "output_type": "stream",
     "text": [
      "(0.010000000149011612, 1831.54345703125)\n"
     ]
    },
    {
     "name": "stderr",
     "output_type": "stream",
     "text": [
      "Operator `forward` ran in 0.22 s\n",
      "Operator `forward` ran in 0.21 s\n",
      "Operator `forward` ran in 0.21 s\n",
      "Operator `forward` ran in 0.21 s\n",
      "Operator `forward` ran in 0.20 s\n",
      "Operator `forward` ran in 0.20 s\n",
      "Operator `forward` ran in 0.21 s\n",
      "Operator `forward` ran in 0.21 s\n",
      "Operator `forward` ran in 0.21 s\n",
      "Operator `forward` ran in 0.21 s\n",
      "Operator `forward` ran in 0.20 s\n",
      "Operator `forward` ran in 0.20 s\n",
      "Operator `forward` ran in 0.20 s\n",
      "Operator `forward` ran in 0.20 s\n",
      "Operator `forward` ran in 0.20 s\n",
      "Operator `forward` ran in 0.20 s\n"
     ]
    },
    {
     "name": "stdout",
     "output_type": "stream",
     "text": [
      "(α, misfit) = (0.0029669423252926736, 909.1900024414062)\n",
      "FWI iteration no: "
     ]
    },
    {
     "name": "stderr",
     "output_type": "stream",
     "text": [
      "Operator `forward` ran in 0.20 s\n",
      "Operator `forward` ran in 0.20 s\n",
      "Operator `forward` ran in 0.20 s\n",
      "Operator `forward` ran in 0.20 s\n",
      "Operator `forward` ran in 0.20 s\n",
      "Operator `forward` ran in 0.21 s\n",
      "Operator `forward` ran in 0.20 s\n",
      "Operator `forward` ran in 0.21 s\n",
      "Operator `forward` ran in 0.20 s\n",
      "Operator `forward` ran in 0.21 s\n",
      "Operator `forward` ran in 0.20 s\n",
      "Operator `forward` ran in 0.20 s\n",
      "Operator `forward` ran in 0.20 s\n",
      "Operator `forward` ran in 0.21 s\n",
      "Operator `forward` ran in 0.21 s\n",
      "Operator `forward` ran in 0.21 s\n"
     ]
    },
    {
     "name": "stdout",
     "output_type": "stream",
     "text": [
      "11; function value: 977.64465\n"
     ]
    },
    {
     "name": "stderr",
     "output_type": "stream",
     "text": [
      "Operator `forward` ran in 0.25 s\n",
      "Operator `gradient` ran in 0.22 s\n",
      "Operator `forward` ran in 0.24 s\n",
      "Operator `gradient` ran in 0.20 s\n",
      "Operator `forward` ran in 0.22 s\n",
      "Operator `gradient` ran in 0.20 s\n",
      "Operator `forward` ran in 0.16 s\n",
      "Operator `gradient` ran in 0.16 s\n",
      "Operator `forward` ran in 0.16 s\n",
      "Operator `gradient` ran in 0.15 s\n",
      "Operator `forward` ran in 0.17 s\n",
      "Operator `gradient` ran in 0.15 s\n",
      "Operator `forward` ran in 0.17 s\n",
      "Operator `gradient` ran in 0.16 s\n",
      "Operator `forward` ran in 0.16 s\n",
      "Operator `gradient` ran in 0.17 s\n",
      "Operator `forward` ran in 0.22 s\n",
      "Operator `gradient` ran in 0.18 s\n",
      "Operator `forward` ran in 0.17 s\n",
      "Operator `gradient` ran in 0.16 s\n",
      "Operator `forward` ran in 0.17 s\n",
      "Operator `gradient` ran in 0.16 s\n",
      "Operator `forward` ran in 0.16 s\n",
      "Operator `gradient` ran in 0.16 s\n",
      "Operator `forward` ran in 0.17 s\n",
      "Operator `gradient` ran in 0.16 s\n",
      "Operator `forward` ran in 0.17 s\n",
      "Operator `gradient` ran in 0.18 s\n",
      "Operator `forward` ran in 0.22 s\n",
      "Operator `gradient` ran in 0.20 s\n",
      "Operator `forward` ran in 0.21 s\n",
      "Operator `gradient` ran in 0.19 s\n"
     ]
    },
    {
     "name": "stdout",
     "output_type": "stream",
     "text": [
      "(α, misfit) = (0.1f0, 1.103753875e6)\n",
      "(α, misfit) = "
     ]
    },
    {
     "name": "stderr",
     "output_type": "stream",
     "text": [
      "Operator `forward` ran in 0.14 s\n",
      "Operator `forward` ran in 0.14 s\n",
      "Operator `forward` ran in 0.14 s\n",
      "Operator `forward` ran in 0.14 s\n",
      "Operator `forward` ran in 0.14 s\n",
      "Operator `forward` ran in 0.14 s\n",
      "Operator `forward` ran in 0.14 s\n",
      "Operator `forward` ran in 0.14 s\n",
      "Operator `forward` ran in 0.14 s\n",
      "Operator `forward` ran in 0.14 s\n",
      "Operator `forward` ran in 0.14 s\n",
      "Operator `forward` ran in 0.18 s\n",
      "Operator `forward` ran in 0.18 s\n",
      "Operator `forward` ran in 0.18 s\n",
      "Operator `forward` ran in 0.20 s\n",
      "Operator `forward` ran in 0.19 s\n"
     ]
    },
    {
     "name": "stdout",
     "output_type": "stream",
     "text": [
      "(0.010000000149011612, 11157.015625)\n"
     ]
    },
    {
     "name": "stderr",
     "output_type": "stream",
     "text": [
      "Operator `forward` ran in 0.19 s\n",
      "Operator `forward` ran in 0.20 s\n",
      "Operator `forward` ran in 0.20 s\n",
      "Operator `forward` ran in 0.20 s\n",
      "Operator `forward` ran in 0.19 s\n",
      "Operator `forward` ran in 0.20 s\n",
      "Operator `forward` ran in 0.20 s\n",
      "Operator `forward` ran in 0.20 s\n",
      "Operator `forward` ran in 0.20 s\n",
      "Operator `forward` ran in 0.20 s\n",
      "Operator `forward` ran in 0.20 s\n",
      "Operator `forward` ran in 0.20 s\n",
      "Operator `forward` ran in 0.21 s\n",
      "Operator `forward` ran in 0.21 s\n",
      "Operator `forward` ran in 0.20 s\n",
      "Operator `forward` ran in 0.21 s\n"
     ]
    },
    {
     "name": "stdout",
     "output_type": "stream",
     "text": [
      "(α, misfit) = (0.0010000000149011613, 738.3942260742188)\n",
      "FWI iteration no: "
     ]
    },
    {
     "name": "stderr",
     "output_type": "stream",
     "text": [
      "Operator `forward` ran in 0.21 s\n",
      "Operator `forward` ran in 0.20 s\n",
      "Operator `forward` ran in 0.20 s\n",
      "Operator `forward` ran in 0.20 s\n",
      "Operator `forward` ran in 0.20 s\n",
      "Operator `forward` ran in 0.21 s\n",
      "Operator `forward` ran in 0.21 s\n",
      "Operator `forward` ran in 0.21 s\n",
      "Operator `forward` ran in 0.21 s\n",
      "Operator `forward` ran in 0.21 s\n",
      "Operator `forward` ran in 0.21 s\n",
      "Operator `forward` ran in 0.20 s\n",
      "Operator `forward` ran in 0.21 s\n",
      "Operator `forward` ran in 0.21 s\n",
      "Operator `forward` ran in 0.21 s\n",
      "Operator `forward` ran in 0.21 s\n"
     ]
    },
    {
     "name": "stdout",
     "output_type": "stream",
     "text": [
      "12; function value: 888.1012\n"
     ]
    },
    {
     "name": "stderr",
     "output_type": "stream",
     "text": [
      "Operator `forward` ran in 0.26 s\n",
      "Operator `gradient` ran in 0.22 s\n",
      "Operator `forward` ran in 0.22 s\n",
      "Operator `gradient` ran in 0.18 s\n",
      "Operator `forward` ran in 0.17 s\n",
      "Operator `gradient` ran in 0.16 s\n",
      "Operator `forward` ran in 0.17 s\n",
      "Operator `gradient` ran in 0.16 s\n",
      "Operator `forward` ran in 0.17 s\n",
      "Operator `gradient` ran in 0.16 s\n",
      "Operator `forward` ran in 0.17 s\n",
      "Operator `gradient` ran in 0.16 s\n",
      "Operator `forward` ran in 0.17 s\n",
      "Operator `gradient` ran in 0.18 s\n",
      "Operator `forward` ran in 0.22 s\n",
      "Operator `gradient` ran in 0.19 s\n",
      "Operator `forward` ran in 0.17 s\n",
      "Operator `gradient` ran in 0.16 s\n",
      "Operator `forward` ran in 0.17 s\n",
      "Operator `gradient` ran in 0.16 s\n",
      "Operator `forward` ran in 0.17 s\n",
      "Operator `gradient` ran in 0.16 s\n",
      "Operator `forward` ran in 0.17 s\n",
      "Operator `gradient` ran in 0.16 s\n",
      "Operator `forward` ran in 0.17 s\n",
      "Operator `gradient` ran in 0.16 s\n",
      "Operator `forward` ran in 0.22 s\n",
      "Operator `gradient` ran in 0.19 s\n",
      "Operator `forward` ran in 0.21 s\n",
      "Operator `gradient` ran in 0.18 s\n",
      "Operator `forward` ran in 0.16 s\n",
      "Operator `gradient` ran in 0.15 s\n"
     ]
    },
    {
     "name": "stdout",
     "output_type": "stream",
     "text": [
      "(α, misfit) = (0.1f0, 14020.384765625)\n",
      "(α, misfit) = "
     ]
    },
    {
     "name": "stderr",
     "output_type": "stream",
     "text": [
      "Operator `forward` ran in 0.14 s\n",
      "Operator `forward` ran in 0.14 s\n",
      "Operator `forward` ran in 0.14 s\n",
      "Operator `forward` ran in 0.14 s\n",
      "Operator `forward` ran in 0.14 s\n",
      "Operator `forward` ran in 0.14 s\n",
      "Operator `forward` ran in 0.14 s\n",
      "Operator `forward` ran in 0.14 s\n",
      "Operator `forward` ran in 0.16 s\n",
      "Operator `forward` ran in 0.17 s\n",
      "Operator `forward` ran in 0.17 s\n",
      "Operator `forward` ran in 0.17 s\n",
      "Operator `forward` ran in 0.17 s\n",
      "Operator `forward` ran in 0.17 s\n",
      "Operator `forward` ran in 0.18 s\n",
      "Operator `forward` ran in 0.19 s\n"
     ]
    },
    {
     "name": "stdout",
     "output_type": "stream",
     "text": [
      "(0.019703178433674483, 1002.9224243164062)\n"
     ]
    },
    {
     "name": "stderr",
     "output_type": "stream",
     "text": [
      "Operator `forward` ran in 0.20 s\n",
      "Operator `forward` ran in 0.20 s\n",
      "Operator `forward` ran in 0.20 s\n",
      "Operator `forward` ran in 0.20 s\n",
      "Operator `forward` ran in 0.20 s\n",
      "Operator `forward` ran in 0.21 s\n",
      "Operator `forward` ran in 0.20 s\n",
      "Operator `forward` ran in 0.20 s\n",
      "Operator `forward` ran in 0.20 s\n",
      "Operator `forward` ran in 0.21 s\n",
      "Operator `forward` ran in 0.20 s\n",
      "Operator `forward` ran in 0.19 s\n",
      "Operator `forward` ran in 0.20 s\n",
      "Operator `forward` ran in 0.20 s\n",
      "Operator `forward` ran in 0.20 s\n",
      "Operator `forward` ran in 0.20 s\n"
     ]
    },
    {
     "name": "stdout",
     "output_type": "stream",
     "text": [
      "(α, misfit) = (0.008845217886314233, 708.6652221679688)\n",
      "FWI iteration no: "
     ]
    },
    {
     "name": "stderr",
     "output_type": "stream",
     "text": [
      "Operator `forward` ran in 0.21 s\n",
      "Operator `forward` ran in 0.21 s\n",
      "Operator `forward` ran in 0.21 s\n",
      "Operator `forward` ran in 0.21 s\n",
      "Operator `forward` ran in 0.20 s\n",
      "Operator `forward` ran in 0.20 s\n",
      "Operator `forward` ran in 0.21 s\n",
      "Operator `forward` ran in 0.20 s\n",
      "Operator `forward` ran in 0.20 s\n",
      "Operator `forward` ran in 0.20 s\n",
      "Operator `forward` ran in 0.20 s\n",
      "Operator `forward` ran in 0.21 s\n",
      "Operator `forward` ran in 0.21 s\n",
      "Operator `forward` ran in 0.20 s\n",
      "Operator `forward` ran in 0.21 s\n",
      "Operator `forward` ran in 0.21 s\n"
     ]
    },
    {
     "name": "stdout",
     "output_type": "stream",
     "text": [
      "13; function value: 802.4564\n"
     ]
    },
    {
     "name": "stderr",
     "output_type": "stream",
     "text": [
      "Operator `forward` ran in 0.25 s\n",
      "Operator `gradient` ran in 0.22 s\n",
      "Operator `forward` ran in 0.23 s\n",
      "Operator `gradient` ran in 0.20 s\n",
      "Operator `forward` ran in 0.22 s\n",
      "Operator `gradient` ran in 0.18 s\n",
      "Operator `forward` ran in 0.16 s\n",
      "Operator `gradient` ran in 0.15 s\n",
      "Operator `forward` ran in 0.16 s\n",
      "Operator `gradient` ran in 0.15 s\n",
      "Operator `forward` ran in 0.16 s\n",
      "Operator `gradient` ran in 0.15 s\n",
      "Operator `forward` ran in 0.16 s\n",
      "Operator `gradient` ran in 0.15 s\n",
      "Operator `forward` ran in 0.16 s\n",
      "Operator `gradient` ran in 0.17 s\n",
      "Operator `forward` ran in 0.22 s\n",
      "Operator `gradient` ran in 0.18 s\n",
      "Operator `forward` ran in 0.17 s\n",
      "Operator `gradient` ran in 0.16 s\n",
      "Operator `forward` ran in 0.17 s\n",
      "Operator `gradient` ran in 0.15 s\n",
      "Operator `forward` ran in 0.17 s\n",
      "Operator `gradient` ran in 0.15 s\n",
      "Operator `forward` ran in 0.17 s\n",
      "Operator `gradient` ran in 0.16 s\n",
      "Operator `forward` ran in 0.16 s\n",
      "Operator `gradient` ran in 0.20 s\n",
      "Operator `forward` ran in 0.22 s\n",
      "Operator `gradient` ran in 0.19 s\n",
      "Operator `forward` ran in 0.16 s\n",
      "Operator `gradient` ran in 0.15 s\n"
     ]
    },
    {
     "name": "stdout",
     "output_type": "stream",
     "text": [
      "(α, misfit) = (0.1f0, 1.131811125e6)\n",
      "(α, misfit) = "
     ]
    },
    {
     "name": "stderr",
     "output_type": "stream",
     "text": [
      "Operator `forward` ran in 0.14 s\n",
      "Operator `forward` ran in 0.14 s\n",
      "Operator `forward` ran in 0.14 s\n",
      "Operator `forward` ran in 0.14 s\n",
      "Operator `forward` ran in 0.14 s\n",
      "Operator `forward` ran in 0.14 s\n",
      "Operator `forward` ran in 0.14 s\n",
      "Operator `forward` ran in 0.14 s\n",
      "Operator `forward` ran in 0.16 s\n",
      "Operator `forward` ran in 0.17 s\n",
      "Operator `forward` ran in 0.17 s\n",
      "Operator `forward` ran in 0.19 s\n",
      "Operator `forward` ran in 0.21 s\n",
      "Operator `forward` ran in 0.22 s\n",
      "Operator `forward` ran in 0.21 s\n",
      "Operator `forward` ran in 0.20 s\n"
     ]
    },
    {
     "name": "stdout",
     "output_type": "stream",
     "text": [
      "(0.010000000149011612, 10313.53515625)\n"
     ]
    },
    {
     "name": "stderr",
     "output_type": "stream",
     "text": [
      "Operator `forward` ran in 0.20 s\n",
      "Operator `forward` ran in 0.20 s\n",
      "Operator `forward` ran in 0.20 s\n",
      "Operator `forward` ran in 0.20 s\n",
      "Operator `forward` ran in 0.20 s\n",
      "Operator `forward` ran in 0.20 s\n",
      "Operator `forward` ran in 0.20 s\n",
      "Operator `forward` ran in 0.21 s\n",
      "Operator `forward` ran in 0.20 s\n",
      "Operator `forward` ran in 0.21 s\n",
      "Operator `forward` ran in 0.20 s\n",
      "Operator `forward` ran in 0.21 s\n",
      "Operator `forward` ran in 0.20 s\n",
      "Operator `forward` ran in 0.21 s\n",
      "Operator `forward` ran in 0.20 s\n",
      "Operator `forward` ran in 0.20 s\n"
     ]
    },
    {
     "name": "stdout",
     "output_type": "stream",
     "text": [
      "(α, misfit) = (0.0010000000149011613, 598.8225708007812)\n",
      "FWI iteration no: "
     ]
    },
    {
     "name": "stderr",
     "output_type": "stream",
     "text": [
      "Operator `forward` ran in 0.20 s\n",
      "Operator `forward` ran in 0.20 s\n",
      "Operator `forward` ran in 0.20 s\n",
      "Operator `forward` ran in 0.21 s\n",
      "Operator `forward` ran in 0.20 s\n",
      "Operator `forward` ran in 0.20 s\n",
      "Operator `forward` ran in 0.20 s\n",
      "Operator `forward` ran in 0.20 s\n",
      "Operator `forward` ran in 0.20 s\n",
      "Operator `forward` ran in 0.20 s\n",
      "Operator `forward` ran in 0.20 s\n",
      "Operator `forward` ran in 0.20 s\n",
      "Operator `forward` ran in 0.20 s\n",
      "Operator `forward` ran in 0.21 s\n",
      "Operator `forward` ran in 0.20 s\n",
      "Operator `forward` ran in 0.20 s\n"
     ]
    },
    {
     "name": "stdout",
     "output_type": "stream",
     "text": [
      "14; function value: 721.0831\n"
     ]
    },
    {
     "name": "stderr",
     "output_type": "stream",
     "text": [
      "Operator `forward` ran in 0.25 s\n",
      "Operator `gradient` ran in 0.21 s\n",
      "Operator `forward` ran in 0.23 s\n",
      "Operator `gradient` ran in 0.20 s\n",
      "Operator `forward` ran in 0.22 s\n",
      "Operator `gradient` ran in 0.20 s\n",
      "Operator `forward` ran in 0.21 s\n",
      "Operator `gradient` ran in 0.17 s\n",
      "Operator `forward` ran in 0.16 s\n",
      "Operator `gradient` ran in 0.15 s\n",
      "Operator `forward` ran in 0.16 s\n",
      "Operator `gradient` ran in 0.15 s\n",
      "Operator `forward` ran in 0.16 s\n",
      "Operator `gradient` ran in 0.15 s\n",
      "Operator `forward` ran in 0.16 s\n",
      "Operator `gradient` ran in 0.15 s\n",
      "Operator `forward` ran in 0.16 s\n",
      "Operator `gradient` ran in 0.17 s\n",
      "Operator `forward` ran in 0.22 s\n",
      "Operator `gradient` ran in 0.19 s\n",
      "Operator `forward` ran in 0.21 s\n",
      "Operator `gradient` ran in 0.19 s\n",
      "Operator `forward` ran in 0.21 s\n",
      "Operator `gradient` ran in 0.15 s\n",
      "Operator `forward` ran in 0.16 s\n",
      "Operator `gradient` ran in 0.16 s\n",
      "Operator `forward` ran in 0.17 s\n",
      "Operator `gradient` ran in 0.15 s\n",
      "Operator `forward` ran in 0.16 s\n",
      "Operator `gradient` ran in 0.15 s\n",
      "Operator `forward` ran in 0.16 s\n",
      "Operator `gradient` ran in 0.15 s\n"
     ]
    },
    {
     "name": "stdout",
     "output_type": "stream",
     "text": [
      "(α, misfit) = (0.1f0, 131738.0)\n",
      "(α, misfit) = "
     ]
    },
    {
     "name": "stderr",
     "output_type": "stream",
     "text": [
      "Operator `forward` ran in 0.14 s\n",
      "Operator `forward` ran in 0.17 s\n",
      "Operator `forward` ran in 0.17 s\n",
      "Operator `forward` ran in 0.17 s\n",
      "Operator `forward` ran in 0.17 s\n",
      "Operator `forward` ran in 0.17 s\n",
      "Operator `forward` ran in 0.17 s\n",
      "Operator `forward` ran in 0.17 s\n",
      "Operator `forward` ran in 0.18 s\n",
      "Operator `forward` ran in 0.19 s\n",
      "Operator `forward` ran in 0.19 s\n",
      "Operator `forward` ran in 0.20 s\n",
      "Operator `forward` ran in 0.20 s\n",
      "Operator `forward` ran in 0.19 s\n",
      "Operator `forward` ran in 0.20 s\n",
      "Operator `forward` ran in 0.20 s\n"
     ]
    },
    {
     "name": "stdout",
     "output_type": "stream",
     "text": [
      "(0.010000000149011612, 1664.5101318359375)\n"
     ]
    },
    {
     "name": "stderr",
     "output_type": "stream",
     "text": [
      "Operator `forward` ran in 0.20 s\n",
      "Operator `forward` ran in 0.20 s\n",
      "Operator `forward` ran in 0.20 s\n",
      "Operator `forward` ran in 0.20 s\n",
      "Operator `forward` ran in 0.20 s\n",
      "Operator `forward` ran in 0.20 s\n",
      "Operator `forward` ran in 0.20 s\n",
      "Operator `forward` ran in 0.20 s\n",
      "Operator `forward` ran in 0.21 s\n",
      "Operator `forward` ran in 0.20 s\n",
      "Operator `forward` ran in 0.20 s\n",
      "Operator `forward` ran in 0.21 s\n",
      "Operator `forward` ran in 0.21 s\n",
      "Operator `forward` ran in 0.21 s\n",
      "Operator `forward` ran in 0.21 s\n",
      "Operator `forward` ran in 0.21 s\n"
     ]
    },
    {
     "name": "stdout",
     "output_type": "stream",
     "text": [
      "(α, misfit) = (0.0024199489580994313, 614.7321166992188)\n",
      "FWI iteration no: "
     ]
    },
    {
     "name": "stderr",
     "output_type": "stream",
     "text": [
      "Operator `forward` ran in 0.21 s\n",
      "Operator `forward` ran in 0.20 s\n",
      "Operator `forward` ran in 0.21 s\n",
      "Operator `forward` ran in 0.21 s\n",
      "Operator `forward` ran in 0.21 s\n",
      "Operator `forward` ran in 0.20 s\n",
      "Operator `forward` ran in 0.20 s\n",
      "Operator `forward` ran in 0.21 s\n",
      "Operator `forward` ran in 0.21 s\n",
      "Operator `forward` ran in 0.20 s\n",
      "Operator `forward` ran in 0.20 s\n",
      "Operator `forward` ran in 0.21 s\n",
      "Operator `forward` ran in 0.21 s\n",
      "Operator `forward` ran in 0.21 s\n",
      "Operator `forward` ran in 0.21 s\n",
      "Operator `forward` ran in 0.21 s\n"
     ]
    },
    {
     "name": "stdout",
     "output_type": "stream",
     "text": [
      "15; function value: 634.37274\n"
     ]
    },
    {
     "name": "stderr",
     "output_type": "stream",
     "text": [
      "Operator `forward` ran in 0.25 s\n",
      "Operator `gradient` ran in 0.23 s\n",
      "Operator `forward` ran in 0.24 s\n",
      "Operator `gradient` ran in 0.20 s\n",
      "Operator `forward` ran in 0.22 s\n",
      "Operator `gradient` ran in 0.19 s\n",
      "Operator `forward` ran in 0.16 s\n",
      "Operator `gradient` ran in 0.15 s\n",
      "Operator `forward` ran in 0.16 s\n",
      "Operator `gradient` ran in 0.15 s\n",
      "Operator `forward` ran in 0.16 s\n",
      "Operator `gradient` ran in 0.15 s\n",
      "Operator `forward` ran in 0.16 s\n",
      "Operator `gradient` ran in 0.15 s\n",
      "Operator `forward` ran in 0.16 s\n",
      "Operator `gradient` ran in 0.16 s\n",
      "Operator `forward` ran in 0.22 s\n",
      "Operator `gradient` ran in 0.18 s\n",
      "Operator `forward` ran in 0.16 s\n",
      "Operator `gradient` ran in 0.15 s\n",
      "Operator `forward` ran in 0.16 s\n",
      "Operator `gradient` ran in 0.15 s\n",
      "Operator `forward` ran in 0.16 s\n",
      "Operator `gradient` ran in 0.15 s\n",
      "Operator `forward` ran in 0.16 s\n",
      "Operator `gradient` ran in 0.15 s\n",
      "Operator `forward` ran in 0.16 s\n",
      "Operator `gradient` ran in 0.15 s\n",
      "Operator `forward` ran in 0.21 s\n",
      "Operator `gradient` ran in 0.21 s\n",
      "Operator `forward` ran in 0.23 s\n",
      "Operator `gradient` ran in 0.18 s\n"
     ]
    },
    {
     "name": "stdout",
     "output_type": "stream",
     "text": [
      "(α, misfit) = (0.1f0, 1.066201625e6)\n",
      "(α, misfit) = "
     ]
    },
    {
     "name": "stderr",
     "output_type": "stream",
     "text": [
      "Operator `forward` ran in 0.15 s\n",
      "Operator `forward` ran in 0.15 s\n",
      "Operator `forward` ran in 0.14 s\n",
      "Operator `forward` ran in 0.14 s\n",
      "Operator `forward` ran in 0.14 s\n",
      "Operator `forward` ran in 0.15 s\n",
      "Operator `forward` ran in 0.14 s\n",
      "Operator `forward` ran in 0.14 s\n",
      "Operator `forward` ran in 0.15 s\n",
      "Operator `forward` ran in 0.15 s\n",
      "Operator `forward` ran in 0.17 s\n",
      "Operator `forward` ran in 0.17 s\n",
      "Operator `forward` ran in 0.17 s\n",
      "Operator `forward` ran in 0.18 s\n",
      "Operator `forward` ran in 0.18 s\n",
      "Operator `forward` ran in 0.17 s\n"
     ]
    },
    {
     "name": "stdout",
     "output_type": "stream",
     "text": [
      "(0.010000000149011612, 10322.298828125)\n"
     ]
    },
    {
     "name": "stderr",
     "output_type": "stream",
     "text": [
      "Operator `forward` ran in 0.17 s\n",
      "Operator `forward` ran in 0.18 s\n",
      "Operator `forward` ran in 0.20 s\n",
      "Operator `forward` ran in 0.20 s\n",
      "Operator `forward` ran in 0.22 s\n",
      "Operator `forward` ran in 0.21 s\n",
      "Operator `forward` ran in 0.20 s\n",
      "Operator `forward` ran in 0.20 s\n",
      "Operator `forward` ran in 0.20 s\n",
      "Operator `forward` ran in 0.21 s\n",
      "Operator `forward` ran in 0.20 s\n",
      "Operator `forward` ran in 0.20 s\n",
      "Operator `forward` ran in 0.21 s\n",
      "Operator `forward` ran in 0.21 s\n",
      "Operator `forward` ran in 0.20 s\n",
      "Operator `forward` ran in 0.20 s\n"
     ]
    },
    {
     "name": "stdout",
     "output_type": "stream",
     "text": [
      "(α, misfit) = (0.0010000000149011613, 480.86981201171875)\n",
      "FWI iteration no: "
     ]
    },
    {
     "name": "stderr",
     "output_type": "stream",
     "text": [
      "Operator `forward` ran in 0.20 s\n",
      "Operator `forward` ran in 0.20 s\n",
      "Operator `forward` ran in 0.20 s\n",
      "Operator `forward` ran in 0.20 s\n",
      "Operator `forward` ran in 0.21 s\n",
      "Operator `forward` ran in 0.21 s\n",
      "Operator `forward` ran in 0.21 s\n",
      "Operator `forward` ran in 0.21 s\n",
      "Operator `forward` ran in 0.21 s\n",
      "Operator `forward` ran in 0.21 s\n",
      "Operator `forward` ran in 0.21 s\n",
      "Operator `forward` ran in 0.21 s\n",
      "Operator `forward` ran in 0.21 s\n",
      "Operator `forward` ran in 0.20 s\n",
      "Operator `forward` ran in 0.21 s\n",
      "Operator `forward` ran in 0.21 s\n"
     ]
    },
    {
     "name": "stdout",
     "output_type": "stream",
     "text": [
      "16; function value: 602.44214\n"
     ]
    },
    {
     "name": "stderr",
     "output_type": "stream",
     "text": [
      "Operator `forward` ran in 0.26 s\n",
      "Operator `gradient` ran in 0.22 s\n",
      "Operator `forward` ran in 0.22 s\n",
      "Operator `gradient` ran in 0.18 s\n",
      "Operator `forward` ran in 0.16 s\n",
      "Operator `gradient` ran in 0.16 s\n",
      "Operator `forward` ran in 0.17 s\n",
      "Operator `gradient` ran in 0.16 s\n",
      "Operator `forward` ran in 0.17 s\n",
      "Operator `gradient` ran in 0.16 s\n",
      "Operator `forward` ran in 0.17 s\n",
      "Operator `gradient` ran in 0.16 s\n",
      "Operator `forward` ran in 0.17 s\n",
      "Operator `gradient` ran in 0.19 s\n",
      "Operator `forward` ran in 0.22 s\n",
      "Operator `gradient` ran in 0.20 s\n",
      "Operator `forward` ran in 0.17 s\n",
      "Operator `gradient` ran in 0.16 s\n",
      "Operator `forward` ran in 0.17 s\n",
      "Operator `gradient` ran in 0.16 s\n",
      "Operator `forward` ran in 0.16 s\n",
      "Operator `gradient` ran in 0.15 s\n",
      "Operator `forward` ran in 0.17 s\n",
      "Operator `gradient` ran in 0.16 s\n",
      "Operator `forward` ran in 0.16 s\n",
      "Operator `gradient` ran in 0.17 s\n",
      "Operator `forward` ran in 0.22 s\n",
      "Operator `gradient` ran in 0.18 s\n",
      "Operator `forward` ran in 0.17 s\n",
      "Operator `gradient` ran in 0.15 s\n",
      "Operator `forward` ran in 0.17 s\n",
      "Operator `gradient` ran in 0.15 s\n"
     ]
    },
    {
     "name": "stdout",
     "output_type": "stream",
     "text": [
      "(α, misfit) = (0.1f0, 2601.392578125)\n",
      "(α, misfit) = "
     ]
    },
    {
     "name": "stderr",
     "output_type": "stream",
     "text": [
      "Operator `forward` ran in 0.15 s\n",
      "Operator `forward` ran in 0.15 s\n",
      "Operator `forward` ran in 0.15 s\n",
      "Operator `forward` ran in 0.15 s\n",
      "Operator `forward` ran in 0.15 s\n",
      "Operator `forward` ran in 0.16 s\n",
      "Operator `forward` ran in 0.18 s\n",
      "Operator `forward` ran in 0.18 s\n",
      "Operator `forward` ran in 0.18 s\n",
      "Operator `forward` ran in 0.18 s\n",
      "Operator `forward` ran in 0.17 s\n",
      "Operator `forward` ran in 0.17 s\n",
      "Operator `forward` ran in 0.17 s\n",
      "Operator `forward` ran in 0.20 s\n",
      "Operator `forward` ran in 0.20 s\n",
      "Operator `forward` ran in 0.20 s\n"
     ]
    },
    {
     "name": "stdout",
     "output_type": "stream",
     "text": [
      "(0.039486944444936646, 673.1114501953125)\n"
     ]
    },
    {
     "name": "stderr",
     "output_type": "stream",
     "text": [
      "Operator `forward` ran in 0.20 s\n",
      "Operator `forward` ran in 0.20 s\n",
      "Operator `forward` ran in 0.20 s\n",
      "Operator `forward` ran in 0.20 s\n",
      "Operator `forward` ran in 0.20 s\n",
      "Operator `forward` ran in 0.20 s\n",
      "Operator `forward` ran in 0.20 s\n",
      "Operator `forward` ran in 0.20 s\n",
      "Operator `forward` ran in 0.20 s\n",
      "Operator `forward` ran in 0.20 s\n",
      "Operator `forward` ran in 0.20 s\n",
      "Operator `forward` ran in 0.20 s\n",
      "Operator `forward` ran in 0.20 s\n",
      "Operator `forward` ran in 0.20 s\n",
      "Operator `forward` ran in 0.20 s\n",
      "Operator `forward` ran in 0.20 s\n"
     ]
    },
    {
     "name": "stdout",
     "output_type": "stream",
     "text": [
      "(α, misfit) = (0.01730416195087907, 470.92138671875)\n",
      "FWI iteration no: "
     ]
    },
    {
     "name": "stderr",
     "output_type": "stream",
     "text": [
      "Operator `forward` ran in 0.20 s\n",
      "Operator `forward` ran in 0.20 s\n",
      "Operator `forward` ran in 0.20 s\n",
      "Operator `forward` ran in 0.20 s\n",
      "Operator `forward` ran in 0.21 s\n",
      "Operator `forward` ran in 0.20 s\n",
      "Operator `forward` ran in 0.21 s\n",
      "Operator `forward` ran in 0.21 s\n",
      "Operator `forward` ran in 0.21 s\n",
      "Operator `forward` ran in 0.20 s\n",
      "Operator `forward` ran in 0.21 s\n",
      "Operator `forward` ran in 0.20 s\n",
      "Operator `forward` ran in 0.21 s\n",
      "Operator `forward` ran in 0.21 s\n",
      "Operator `forward` ran in 0.20 s\n",
      "Operator `forward` ran in 0.20 s\n"
     ]
    },
    {
     "name": "stdout",
     "output_type": "stream",
     "text": [
      "17; function value: 606.19977\n"
     ]
    },
    {
     "name": "stderr",
     "output_type": "stream",
     "text": [
      "Operator `forward` ran in 0.25 s\n",
      "Operator `gradient` ran in 0.22 s\n",
      "Operator `forward` ran in 0.23 s\n",
      "Operator `gradient` ran in 0.18 s\n",
      "Operator `forward` ran in 0.17 s\n",
      "Operator `gradient` ran in 0.16 s\n",
      "Operator `forward` ran in 0.17 s\n",
      "Operator `gradient` ran in 0.16 s\n",
      "Operator `forward` ran in 0.17 s\n",
      "Operator `gradient` ran in 0.16 s\n",
      "Operator `forward` ran in 0.17 s\n",
      "Operator `gradient` ran in 0.16 s\n",
      "Operator `forward` ran in 0.19 s\n",
      "Operator `gradient` ran in 0.19 s\n",
      "Operator `forward` ran in 0.16 s\n",
      "Operator `gradient` ran in 0.15 s\n",
      "Operator `forward` ran in 0.16 s\n",
      "Operator `gradient` ran in 0.15 s\n",
      "Operator `forward` ran in 0.16 s\n",
      "Operator `gradient` ran in 0.15 s\n",
      "Operator `forward` ran in 0.16 s\n",
      "Operator `gradient` ran in 0.15 s\n",
      "Operator `forward` ran in 0.16 s\n",
      "Operator `gradient` ran in 0.16 s\n",
      "Operator `forward` ran in 0.22 s\n",
      "Operator `gradient` ran in 0.18 s\n",
      "Operator `forward` ran in 0.17 s\n",
      "Operator `gradient` ran in 0.16 s\n",
      "Operator `forward` ran in 0.17 s\n",
      "Operator `gradient` ran in 0.16 s\n",
      "Operator `forward` ran in 0.18 s\n",
      "Operator `gradient` ran in 0.16 s\n"
     ]
    },
    {
     "name": "stdout",
     "output_type": "stream",
     "text": [
      "(α, misfit) = (0.1f0, 1.116978625e6)\n",
      "(α, misfit) = "
     ]
    },
    {
     "name": "stderr",
     "output_type": "stream",
     "text": [
      "Operator `forward` ran in 0.16 s\n",
      "Operator `forward` ran in 0.15 s\n",
      "Operator `forward` ran in 0.15 s\n",
      "Operator `forward` ran in 0.17 s\n",
      "Operator `forward` ran in 0.18 s\n",
      "Operator `forward` ran in 0.18 s\n",
      "Operator `forward` ran in 0.17 s\n",
      "Operator `forward` ran in 0.17 s\n",
      "Operator `forward` ran in 0.17 s\n",
      "Operator `forward` ran in 0.18 s\n",
      "Operator `forward` ran in 0.19 s\n",
      "Operator `forward` ran in 0.20 s\n",
      "Operator `forward` ran in 0.20 s\n",
      "Operator `forward` ran in 0.20 s\n",
      "Operator `forward` ran in 0.20 s\n",
      "Operator `forward` ran in 0.20 s\n"
     ]
    },
    {
     "name": "stdout",
     "output_type": "stream",
     "text": [
      "(0.010000000149011612, 10327.197265625)\n"
     ]
    },
    {
     "name": "stderr",
     "output_type": "stream",
     "text": [
      "Operator `forward` ran in 0.20 s\n",
      "Operator `forward` ran in 0.20 s\n",
      "Operator `forward` ran in 0.20 s\n",
      "Operator `forward` ran in 0.20 s\n",
      "Operator `forward` ran in 0.20 s\n",
      "Operator `forward` ran in 0.20 s\n",
      "Operator `forward` ran in 0.20 s\n",
      "Operator `forward` ran in 0.20 s\n",
      "Operator `forward` ran in 0.23 s\n",
      "Operator `forward` ran in 0.20 s\n",
      "Operator `forward` ran in 0.21 s\n",
      "Operator `forward` ran in 0.20 s\n",
      "Operator `forward` ran in 0.21 s\n",
      "Operator `forward` ran in 0.20 s\n",
      "Operator `forward` ran in 0.20 s\n",
      "Operator `forward` ran in 0.20 s\n"
     ]
    },
    {
     "name": "stdout",
     "output_type": "stream",
     "text": [
      "(α, misfit) = (0.0010000000149011613, 403.6026916503906)\n",
      "FWI iteration no: "
     ]
    },
    {
     "name": "stderr",
     "output_type": "stream",
     "text": [
      "Operator `forward` ran in 0.20 s\n",
      "Operator `forward` ran in 0.20 s\n",
      "Operator `forward` ran in 0.21 s\n",
      "Operator `forward` ran in 0.20 s\n",
      "Operator `forward` ran in 0.21 s\n",
      "Operator `forward` ran in 0.20 s\n",
      "Operator `forward` ran in 0.20 s\n",
      "Operator `forward` ran in 0.21 s\n",
      "Operator `forward` ran in 0.21 s\n",
      "Operator `forward` ran in 0.21 s\n",
      "Operator `forward` ran in 0.20 s\n",
      "Operator `forward` ran in 0.20 s\n",
      "Operator `forward` ran in 0.20 s\n",
      "Operator `forward` ran in 0.21 s\n",
      "Operator `forward` ran in 0.20 s\n",
      "Operator `forward` ran in 0.21 s\n"
     ]
    },
    {
     "name": "stdout",
     "output_type": "stream",
     "text": [
      "18; function value: 492.7274\n"
     ]
    },
    {
     "name": "stderr",
     "output_type": "stream",
     "text": [
      "Operator `forward` ran in 0.25 s\n",
      "Operator `gradient` ran in 0.22 s\n",
      "Operator `forward` ran in 0.23 s\n",
      "Operator `gradient` ran in 0.19 s\n",
      "Operator `forward` ran in 0.21 s\n",
      "Operator `gradient` ran in 0.15 s\n",
      "Operator `forward` ran in 0.16 s\n",
      "Operator `gradient` ran in 0.15 s\n",
      "Operator `forward` ran in 0.16 s\n",
      "Operator `gradient` ran in 0.15 s\n",
      "Operator `forward` ran in 0.16 s\n",
      "Operator `gradient` ran in 0.15 s\n",
      "Operator `forward` ran in 0.16 s\n",
      "Operator `gradient` ran in 0.15 s\n",
      "Operator `forward` ran in 0.16 s\n",
      "Operator `gradient` ran in 0.19 s\n",
      "Operator `forward` ran in 0.21 s\n",
      "Operator `gradient` ran in 0.19 s\n",
      "Operator `forward` ran in 0.16 s\n",
      "Operator `gradient` ran in 0.15 s\n",
      "Operator `forward` ran in 0.16 s\n",
      "Operator `gradient` ran in 0.15 s\n",
      "Operator `forward` ran in 0.16 s\n",
      "Operator `gradient` ran in 0.15 s\n",
      "Operator `forward` ran in 0.16 s\n",
      "Operator `gradient` ran in 0.15 s\n",
      "Operator `forward` ran in 0.16 s\n",
      "Operator `gradient` ran in 0.16 s\n",
      "Operator `forward` ran in 0.22 s\n",
      "Operator `gradient` ran in 0.19 s\n",
      "Operator `forward` ran in 0.17 s\n",
      "Operator `gradient` ran in 0.15 s\n"
     ]
    },
    {
     "name": "stdout",
     "output_type": "stream",
     "text": [
      "(α, misfit) = (0.1f0, 107062.484375)\n",
      "(α, misfit) = "
     ]
    },
    {
     "name": "stderr",
     "output_type": "stream",
     "text": [
      "Operator `forward` ran in 0.14 s\n",
      "Operator `forward` ran in 0.15 s\n",
      "Operator `forward` ran in 0.15 s\n",
      "Operator `forward` ran in 0.15 s\n",
      "Operator `forward` ran in 0.14 s\n",
      "Operator `forward` ran in 0.14 s\n",
      "Operator `forward` ran in 0.14 s\n",
      "Operator `forward` ran in 0.14 s\n",
      "Operator `forward` ran in 0.17 s\n",
      "Operator `forward` ran in 0.17 s\n",
      "Operator `forward` ran in 0.18 s\n",
      "Operator `forward` ran in 0.19 s\n",
      "Operator `forward` ran in 0.18 s\n",
      "Operator `forward` ran in 0.19 s\n",
      "Operator `forward` ran in 0.20 s\n",
      "Operator `forward` ran in 0.20 s\n"
     ]
    },
    {
     "name": "stdout",
     "output_type": "stream",
     "text": [
      "(0.010000000149011612, 1250.751953125)\n"
     ]
    },
    {
     "name": "stderr",
     "output_type": "stream",
     "text": [
      "Operator `forward` ran in 0.20 s\n",
      "Operator `forward` ran in 0.20 s\n",
      "Operator `forward` ran in 0.20 s\n",
      "Operator `forward` ran in 0.20 s\n",
      "Operator `forward` ran in 0.20 s\n",
      "Operator `forward` ran in 0.20 s\n",
      "Operator `forward` ran in 0.20 s\n",
      "Operator `forward` ran in 0.20 s\n",
      "Operator `forward` ran in 0.20 s\n",
      "Operator `forward` ran in 0.21 s\n",
      "Operator `forward` ran in 0.20 s\n",
      "Operator `forward` ran in 0.20 s\n",
      "Operator `forward` ran in 0.20 s\n",
      "Operator `forward` ran in 0.20 s\n",
      "Operator `forward` ran in 0.20 s\n",
      "Operator `forward` ran in 0.20 s\n"
     ]
    },
    {
     "name": "stdout",
     "output_type": "stream",
     "text": [
      "(α, misfit) = (0.002646988595367802, 397.8712463378906)\n",
      "FWI iteration no: "
     ]
    },
    {
     "name": "stderr",
     "output_type": "stream",
     "text": [
      "Operator `forward` ran in 0.20 s\n",
      "Operator `forward` ran in 0.21 s\n",
      "Operator `forward` ran in 0.20 s\n",
      "Operator `forward` ran in 0.21 s\n",
      "Operator `forward` ran in 0.20 s\n",
      "Operator `forward` ran in 0.20 s\n",
      "Operator `forward` ran in 0.20 s\n",
      "Operator `forward` ran in 0.20 s\n",
      "Operator `forward` ran in 0.20 s\n",
      "Operator `forward` ran in 0.20 s\n",
      "Operator `forward` ran in 0.21 s\n",
      "Operator `forward` ran in 0.21 s\n",
      "Operator `forward` ran in 0.21 s\n",
      "Operator `forward` ran in 0.21 s\n",
      "Operator `forward` ran in 0.21 s\n",
      "Operator `forward` ran in 0.20 s\n"
     ]
    },
    {
     "name": "stdout",
     "output_type": "stream",
     "text": [
      "19; function value: 461.11298\n"
     ]
    },
    {
     "name": "stderr",
     "output_type": "stream",
     "text": [
      "Operator `forward` ran in 0.25 s\n",
      "Operator `gradient` ran in 0.21 s\n",
      "Operator `forward` ran in 0.23 s\n",
      "Operator `gradient` ran in 0.20 s\n",
      "Operator `forward` ran in 0.22 s\n",
      "Operator `gradient` ran in 0.19 s\n",
      "Operator `forward` ran in 0.21 s\n",
      "Operator `gradient` ran in 0.17 s\n",
      "Operator `forward` ran in 0.16 s\n",
      "Operator `gradient` ran in 0.15 s\n",
      "Operator `forward` ran in 0.16 s\n",
      "Operator `gradient` ran in 0.15 s\n",
      "Operator `forward` ran in 0.16 s\n",
      "Operator `gradient` ran in 0.15 s\n",
      "Operator `forward` ran in 0.16 s\n",
      "Operator `gradient` ran in 0.14 s\n",
      "Operator `forward` ran in 0.16 s\n",
      "Operator `gradient` ran in 0.18 s\n",
      "Operator `forward` ran in 0.22 s\n",
      "Operator `gradient` ran in 0.19 s\n",
      "Operator `forward` ran in 0.21 s\n",
      "Operator `gradient` ran in 0.19 s\n",
      "Operator `forward` ran in 0.21 s\n",
      "Operator `gradient` ran in 0.19 s\n",
      "Operator `forward` ran in 0.16 s\n",
      "Operator `gradient` ran in 0.15 s\n",
      "Operator `forward` ran in 0.16 s\n",
      "Operator `gradient` ran in 0.15 s\n",
      "Operator `forward` ran in 0.16 s\n",
      "Operator `gradient` ran in 0.15 s\n",
      "Operator `forward` ran in 0.16 s\n",
      "Operator `gradient` ran in 0.14 s\n"
     ]
    },
    {
     "name": "stdout",
     "output_type": "stream",
     "text": [
      "(α, misfit) = (0.1f0, 964887.875)\n",
      "(α, misfit) = "
     ]
    },
    {
     "name": "stderr",
     "output_type": "stream",
     "text": [
      "Operator `forward` ran in 0.14 s\n",
      "Operator `forward` ran in 0.14 s\n",
      "Operator `forward` ran in 0.17 s\n",
      "Operator `forward` ran in 0.17 s\n",
      "Operator `forward` ran in 0.17 s\n",
      "Operator `forward` ran in 0.17 s\n",
      "Operator `forward` ran in 0.17 s\n",
      "Operator `forward` ran in 0.17 s\n",
      "Operator `forward` ran in 0.17 s\n",
      "Operator `forward` ran in 0.17 s\n",
      "Operator `forward` ran in 0.19 s\n",
      "Operator `forward` ran in 0.19 s\n",
      "Operator `forward` ran in 0.19 s\n",
      "Operator `forward` ran in 0.20 s\n",
      "Operator `forward` ran in 0.19 s\n",
      "Operator `forward` ran in 0.19 s\n"
     ]
    },
    {
     "name": "stdout",
     "output_type": "stream",
     "text": [
      "(0.010000000149011612, 9375.28515625)\n"
     ]
    },
    {
     "name": "stderr",
     "output_type": "stream",
     "text": [
      "Operator `forward` ran in 0.20 s\n",
      "Operator `forward` ran in 0.20 s\n",
      "Operator `forward` ran in 0.21 s\n",
      "Operator `forward` ran in 0.21 s\n",
      "Operator `forward` ran in 0.21 s\n",
      "Operator `forward` ran in 0.21 s\n",
      "Operator `forward` ran in 0.21 s\n",
      "Operator `forward` ran in 0.21 s\n",
      "Operator `forward` ran in 0.21 s\n",
      "Operator `forward` ran in 0.21 s\n",
      "Operator `forward` ran in 0.20 s\n",
      "Operator `forward` ran in 0.21 s\n",
      "Operator `forward` ran in 0.21 s\n",
      "Operator `forward` ran in 0.20 s\n",
      "Operator `forward` ran in 0.21 s\n",
      "Operator `forward` ran in 0.20 s\n"
     ]
    },
    {
     "name": "stdout",
     "output_type": "stream",
     "text": [
      "(α, misfit) = (0.0010000000149011613, 315.658447265625)\n",
      "FWI iteration no: "
     ]
    },
    {
     "name": "stderr",
     "output_type": "stream",
     "text": [
      "Operator `forward` ran in 0.21 s\n",
      "Operator `forward` ran in 0.21 s\n",
      "Operator `forward` ran in 0.20 s\n",
      "Operator `forward` ran in 0.21 s\n",
      "Operator `forward` ran in 0.21 s\n",
      "Operator `forward` ran in 0.21 s\n",
      "Operator `forward` ran in 0.20 s\n",
      "Operator `forward` ran in 0.19 s\n",
      "Operator `forward` ran in 0.19 s\n",
      "Operator `forward` ran in 0.20 s\n",
      "Operator `forward` ran in 0.20 s\n",
      "Operator `forward` ran in 0.20 s\n",
      "Operator `forward` ran in 0.20 s\n",
      "Operator `forward` ran in 0.20 s\n",
      "Operator `forward` ran in 0.20 s\n",
      "Operator `forward` ran in 0.20 s\n"
     ]
    },
    {
     "name": "stdout",
     "output_type": "stream",
     "text": [
      "20; function value: 463.18686\n"
     ]
    },
    {
     "name": "stderr",
     "output_type": "stream",
     "text": [
      "Operator `forward` ran in 0.25 s\n",
      "Operator `gradient` ran in 0.23 s\n",
      "Operator `forward` ran in 0.25 s\n",
      "Operator `gradient` ran in 0.21 s\n",
      "Operator `forward` ran in 0.21 s\n",
      "Operator `gradient` ran in 0.18 s\n",
      "Operator `forward` ran in 0.16 s\n",
      "Operator `gradient` ran in 0.15 s\n",
      "Operator `forward` ran in 0.16 s\n",
      "Operator `gradient` ran in 0.15 s\n",
      "Operator `forward` ran in 0.16 s\n",
      "Operator `gradient` ran in 0.15 s\n",
      "Operator `forward` ran in 0.16 s\n",
      "Operator `gradient` ran in 0.15 s\n",
      "Operator `forward` ran in 0.16 s\n",
      "Operator `gradient` ran in 0.17 s\n",
      "Operator `forward` ran in 0.21 s\n",
      "Operator `gradient` ran in 0.19 s\n",
      "Operator `forward` ran in 0.21 s\n",
      "Operator `gradient` ran in 0.16 s\n",
      "Operator `forward` ran in 0.16 s\n",
      "Operator `gradient` ran in 0.15 s\n",
      "Operator `forward` ran in 0.16 s\n",
      "Operator `gradient` ran in 0.15 s\n",
      "Operator `forward` ran in 0.16 s\n",
      "Operator `gradient` ran in 0.15 s\n",
      "Operator `forward` ran in 0.16 s\n",
      "Operator `gradient` ran in 0.15 s\n",
      "Operator `forward` ran in 0.16 s\n",
      "Operator `gradient` ran in 0.19 s\n",
      "Operator `forward` ran in 0.21 s\n",
      "Operator `gradient` ran in 0.19 s\n"
     ]
    },
    {
     "name": "stdout",
     "output_type": "stream",
     "text": [
      "(α, misfit) = (0.1f0, 28947.771484375)\n",
      "(α, misfit) = "
     ]
    },
    {
     "name": "stderr",
     "output_type": "stream",
     "text": [
      "Operator `forward` ran in 0.16 s\n",
      "Operator `forward` ran in 0.17 s\n",
      "Operator `forward` ran in 0.16 s\n",
      "Operator `forward` ran in 0.17 s\n",
      "Operator `forward` ran in 0.16 s\n",
      "Operator `forward` ran in 0.16 s\n",
      "Operator `forward` ran in 0.17 s\n",
      "Operator `forward` ran in 0.17 s\n",
      "Operator `forward` ran in 0.16 s\n",
      "Operator `forward` ran in 0.18 s\n",
      "Operator `forward` ran in 0.20 s\n",
      "Operator `forward` ran in 0.20 s\n",
      "Operator `forward` ran in 0.20 s\n",
      "Operator `forward` ran in 0.20 s\n",
      "Operator `forward` ran in 0.20 s\n",
      "Operator `forward` ran in 0.19 s\n"
     ]
    },
    {
     "name": "stdout",
     "output_type": "stream",
     "text": [
      "(0.011649173652902363, 645.2689208984375)\n"
     ]
    },
    {
     "name": "stderr",
     "output_type": "stream",
     "text": [
      "Operator `forward` ran in 0.19 s\n",
      "Operator `forward` ran in 0.20 s\n",
      "Operator `forward` ran in 0.20 s\n",
      "Operator `forward` ran in 0.20 s\n",
      "Operator `forward` ran in 0.20 s\n",
      "Operator `forward` ran in 0.20 s\n",
      "Operator `forward` ran in 0.20 s\n",
      "Operator `forward` ran in 0.20 s\n",
      "Operator `forward` ran in 0.20 s\n",
      "Operator `forward` ran in 0.20 s\n",
      "Operator `forward` ran in 0.20 s\n",
      "Operator `forward` ran in 0.20 s\n",
      "Operator `forward` ran in 0.20 s\n",
      "Operator `forward` ran in 0.20 s\n",
      "Operator `forward` ran in 0.21 s\n",
      "Operator `forward` ran in 0.20 s\n"
     ]
    },
    {
     "name": "stdout",
     "output_type": "stream",
     "text": [
      "(α, misfit) = (0.004793905537667189, 379.54095458984375)\n",
      "FWI iteration no: "
     ]
    },
    {
     "name": "stderr",
     "output_type": "stream",
     "text": [
      "Operator `forward` ran in 0.21 s\n",
      "Operator `forward` ran in 0.20 s\n",
      "Operator `forward` ran in 0.20 s\n",
      "Operator `forward` ran in 0.20 s\n",
      "Operator `forward` ran in 0.20 s\n",
      "Operator `forward` ran in 0.21 s\n",
      "Operator `forward` ran in 0.21 s\n",
      "Operator `forward` ran in 0.21 s\n",
      "Operator `forward` ran in 0.22 s\n",
      "Operator `forward` ran in 0.20 s\n",
      "Operator `forward` ran in 0.20 s\n",
      "Operator `forward` ran in 0.20 s\n",
      "Operator `forward` ran in 0.20 s\n",
      "Operator `forward` ran in 0.20 s\n",
      "Operator `forward` ran in 0.20 s\n",
      "Operator `forward` ran in 0.21 s\n"
     ]
    },
    {
     "name": "stdout",
     "output_type": "stream",
     "text": [
      "21; function value: 455.81308\n"
     ]
    },
    {
     "name": "stderr",
     "output_type": "stream",
     "text": [
      "Operator `forward` ran in 0.25 s\n",
      "Operator `gradient` ran in 0.21 s\n",
      "Operator `forward` ran in 0.23 s\n",
      "Operator `gradient` ran in 0.20 s\n",
      "Operator `forward` ran in 0.22 s\n",
      "Operator `gradient` ran in 0.19 s\n",
      "Operator `forward` ran in 0.16 s\n",
      "Operator `gradient` ran in 0.15 s\n",
      "Operator `forward` ran in 0.16 s\n",
      "Operator `gradient` ran in 0.15 s\n",
      "Operator `forward` ran in 0.16 s\n",
      "Operator `gradient` ran in 0.15 s\n",
      "Operator `forward` ran in 0.17 s\n",
      "Operator `gradient` ran in 0.15 s\n",
      "Operator `forward` ran in 0.16 s\n",
      "Operator `gradient` ran in 0.16 s\n",
      "Operator `forward` ran in 0.22 s\n",
      "Operator `gradient` ran in 0.18 s\n",
      "Operator `forward` ran in 0.16 s\n",
      "Operator `gradient` ran in 0.15 s\n",
      "Operator `forward` ran in 0.16 s\n",
      "Operator `gradient` ran in 0.15 s\n",
      "Operator `forward` ran in 0.16 s\n",
      "Operator `gradient` ran in 0.15 s\n",
      "Operator `forward` ran in 0.16 s\n",
      "Operator `gradient` ran in 0.15 s\n",
      "Operator `forward` ran in 0.17 s\n",
      "Operator `gradient` ran in 0.17 s\n",
      "Operator `forward` ran in 0.22 s\n",
      "Operator `gradient` ran in 0.19 s\n",
      "Operator `forward` ran in 0.21 s\n",
      "Operator `gradient` ran in 0.16 s\n"
     ]
    },
    {
     "name": "stdout",
     "output_type": "stream",
     "text": [
      "(α, misfit) = (0.1f0, 1.158631875e6)\n",
      "(α, misfit) = "
     ]
    },
    {
     "name": "stderr",
     "output_type": "stream",
     "text": [
      "Operator `forward` ran in 0.14 s\n",
      "Operator `forward` ran in 0.15 s\n",
      "Operator `forward` ran in 0.14 s\n",
      "Operator `forward` ran in 0.14 s\n",
      "Operator `forward` ran in 0.14 s\n",
      "Operator `forward` ran in 0.14 s\n",
      "Operator `forward` ran in 0.15 s\n",
      "Operator `forward` ran in 0.14 s\n",
      "Operator `forward` ran in 0.14 s\n",
      "Operator `forward` ran in 0.15 s\n",
      "Operator `forward` ran in 0.17 s\n",
      "Operator `forward` ran in 0.17 s\n",
      "Operator `forward` ran in 0.17 s\n",
      "Operator `forward` ran in 0.20 s\n",
      "Operator `forward` ran in 0.19 s\n",
      "Operator `forward` ran in 0.20 s\n"
     ]
    },
    {
     "name": "stdout",
     "output_type": "stream",
     "text": [
      "(0.010000000149011612, 10398.4365234375)\n"
     ]
    },
    {
     "name": "stderr",
     "output_type": "stream",
     "text": [
      "Operator `forward` ran in 0.20 s\n",
      "Operator `forward` ran in 0.20 s\n",
      "Operator `forward` ran in 0.20 s\n",
      "Operator `forward` ran in 0.20 s\n",
      "Operator `forward` ran in 0.20 s\n",
      "Operator `forward` ran in 0.20 s\n",
      "Operator `forward` ran in 0.20 s\n",
      "Operator `forward` ran in 0.20 s\n",
      "Operator `forward` ran in 0.20 s\n",
      "Operator `forward` ran in 0.20 s\n",
      "Operator `forward` ran in 0.20 s\n",
      "Operator `forward` ran in 0.20 s\n",
      "Operator `forward` ran in 0.20 s\n",
      "Operator `forward` ran in 0.20 s\n",
      "Operator `forward` ran in 0.20 s\n",
      "Operator `forward` ran in 0.20 s\n"
     ]
    },
    {
     "name": "stdout",
     "output_type": "stream",
     "text": [
      "(α, misfit) = (0.0010000000149011613, 307.3298034667969)\n",
      "FWI iteration no: "
     ]
    },
    {
     "name": "stderr",
     "output_type": "stream",
     "text": [
      "Operator `forward` ran in 0.20 s\n",
      "Operator `forward` ran in 0.20 s\n",
      "Operator `forward` ran in 0.20 s\n",
      "Operator `forward` ran in 0.21 s\n",
      "Operator `forward` ran in 0.20 s\n",
      "Operator `forward` ran in 0.21 s\n",
      "Operator `forward` ran in 0.21 s\n",
      "Operator `forward` ran in 0.21 s\n",
      "Operator `forward` ran in 0.21 s\n",
      "Operator `forward` ran in 0.21 s\n",
      "Operator `forward` ran in 0.21 s\n",
      "Operator `forward` ran in 0.21 s\n",
      "Operator `forward` ran in 0.21 s\n",
      "Operator `forward` ran in 0.20 s\n",
      "Operator `forward` ran in 0.20 s\n",
      "Operator `forward` ran in 0.21 s\n"
     ]
    },
    {
     "name": "stdout",
     "output_type": "stream",
     "text": [
      "22; function value: 427.4283\n"
     ]
    },
    {
     "name": "stderr",
     "output_type": "stream",
     "text": [
      "Operator `forward` ran in 0.25 s\n",
      "Operator `gradient` ran in 0.21 s\n",
      "Operator `forward` ran in 0.22 s\n",
      "Operator `gradient` ran in 0.20 s\n",
      "Operator `forward` ran in 0.22 s\n",
      "Operator `gradient` ran in 0.19 s\n",
      "Operator `forward` ran in 0.16 s\n",
      "Operator `gradient` ran in 0.15 s\n",
      "Operator `forward` ran in 0.16 s\n",
      "Operator `gradient` ran in 0.15 s\n",
      "Operator `forward` ran in 0.16 s\n",
      "Operator `gradient` ran in 0.15 s\n",
      "Operator `forward` ran in 0.16 s\n",
      "Operator `gradient` ran in 0.15 s\n",
      "Operator `forward` ran in 0.16 s\n",
      "Operator `gradient` ran in 0.16 s\n",
      "Operator `forward` ran in 0.22 s\n",
      "Operator `gradient` ran in 0.18 s\n",
      "Operator `forward` ran in 0.16 s\n",
      "Operator `gradient` ran in 0.15 s\n",
      "Operator `forward` ran in 0.16 s\n",
      "Operator `gradient` ran in 0.15 s\n",
      "Operator `forward` ran in 0.16 s\n",
      "Operator `gradient` ran in 0.15 s\n",
      "Operator `forward` ran in 0.16 s\n",
      "Operator `gradient` ran in 0.15 s\n",
      "Operator `forward` ran in 0.16 s\n",
      "Operator `gradient` ran in 0.17 s\n",
      "Operator `forward` ran in 0.22 s\n",
      "Operator `gradient` ran in 0.18 s\n",
      "Operator `forward` ran in 0.18 s\n",
      "Operator `gradient` ran in 0.16 s\n"
     ]
    },
    {
     "name": "stdout",
     "output_type": "stream",
     "text": [
      "(α, misfit) = (0.1f0, 59270.609375)\n",
      "(α, misfit) = "
     ]
    },
    {
     "name": "stderr",
     "output_type": "stream",
     "text": [
      "Operator `forward` ran in 0.14 s\n",
      "Operator `forward` ran in 0.15 s\n",
      "Operator `forward` ran in 0.15 s\n",
      "Operator `forward` ran in 0.15 s\n",
      "Operator `forward` ran in 0.15 s\n",
      "Operator `forward` ran in 0.15 s\n",
      "Operator `forward` ran in 0.15 s\n",
      "Operator `forward` ran in 0.18 s\n",
      "Operator `forward` ran in 0.17 s\n",
      "Operator `forward` ran in 0.17 s\n",
      "Operator `forward` ran in 0.17 s\n",
      "Operator `forward` ran in 0.17 s\n",
      "Operator `forward` ran in 0.18 s\n",
      "Operator `forward` ran in 0.20 s\n",
      "Operator `forward` ran in 0.20 s\n",
      "Operator `forward` ran in 0.20 s\n"
     ]
    },
    {
     "name": "stdout",
     "output_type": "stream",
     "text": [
      "(0.010000000149011612, 791.5580444335938)\n"
     ]
    },
    {
     "name": "stderr",
     "output_type": "stream",
     "text": [
      "Operator `forward` ran in 0.20 s\n",
      "Operator `forward` ran in 0.20 s\n",
      "Operator `forward` ran in 0.20 s\n",
      "Operator `forward` ran in 0.20 s\n",
      "Operator `forward` ran in 0.20 s\n",
      "Operator `forward` ran in 0.20 s\n",
      "Operator `forward` ran in 0.20 s\n",
      "Operator `forward` ran in 0.20 s\n",
      "Operator `forward` ran in 0.21 s\n",
      "Operator `forward` ran in 0.21 s\n",
      "Operator `forward` ran in 0.21 s\n",
      "Operator `forward` ran in 0.20 s\n",
      "Operator `forward` ran in 0.20 s\n",
      "Operator `forward` ran in 0.20 s\n",
      "Operator `forward` ran in 0.20 s\n",
      "Operator `forward` ran in 0.20 s\n"
     ]
    },
    {
     "name": "stdout",
     "output_type": "stream",
     "text": [
      "(α, misfit) = (0.003378254225019044, 355.29913330078125)\n",
      "FWI iteration no: "
     ]
    },
    {
     "name": "stderr",
     "output_type": "stream",
     "text": [
      "Operator `forward` ran in 0.21 s\n",
      "Operator `forward` ran in 0.20 s\n",
      "Operator `forward` ran in 0.21 s\n",
      "Operator `forward` ran in 0.21 s\n",
      "Operator `forward` ran in 0.21 s\n",
      "Operator `forward` ran in 0.21 s\n",
      "Operator `forward` ran in 0.20 s\n",
      "Operator `forward` ran in 0.21 s\n",
      "Operator `forward` ran in 0.21 s\n",
      "Operator `forward` ran in 0.20 s\n",
      "Operator `forward` ran in 0.20 s\n",
      "Operator `forward` ran in 0.20 s\n",
      "Operator `forward` ran in 0.21 s\n",
      "Operator `forward` ran in 0.21 s\n",
      "Operator `forward` ran in 0.20 s\n",
      "Operator `forward` ran in 0.20 s\n"
     ]
    },
    {
     "name": "stdout",
     "output_type": "stream",
     "text": [
      "23; function value: 500.0255\n"
     ]
    },
    {
     "name": "stderr",
     "output_type": "stream",
     "text": [
      "Operator `forward` ran in 0.25 s\n",
      "Operator `gradient` ran in 0.21 s\n",
      "Operator `forward` ran in 0.23 s\n",
      "Operator `gradient` ran in 0.20 s\n",
      "Operator `forward` ran in 0.22 s\n",
      "Operator `gradient` ran in 0.19 s\n",
      "Operator `forward` ran in 0.16 s\n",
      "Operator `gradient` ran in 0.15 s\n",
      "Operator `forward` ran in 0.16 s\n",
      "Operator `gradient` ran in 0.15 s\n",
      "Operator `forward` ran in 0.16 s\n",
      "Operator `gradient` ran in 0.15 s\n",
      "Operator `forward` ran in 0.16 s\n",
      "Operator `gradient` ran in 0.15 s\n",
      "Operator `forward` ran in 0.16 s\n",
      "Operator `gradient` ran in 0.16 s\n",
      "Operator `forward` ran in 0.22 s\n",
      "Operator `gradient` ran in 0.18 s\n",
      "Operator `forward` ran in 0.16 s\n",
      "Operator `gradient` ran in 0.15 s\n",
      "Operator `forward` ran in 0.16 s\n",
      "Operator `gradient` ran in 0.15 s\n",
      "Operator `forward` ran in 0.16 s\n",
      "Operator `gradient` ran in 0.15 s\n",
      "Operator `forward` ran in 0.16 s\n",
      "Operator `gradient` ran in 0.16 s\n",
      "Operator `forward` ran in 0.16 s\n",
      "Operator `gradient` ran in 0.18 s\n",
      "Operator `forward` ran in 0.22 s\n",
      "Operator `gradient` ran in 0.19 s\n",
      "Operator `forward` ran in 0.22 s\n",
      "Operator `gradient` ran in 0.19 s\n"
     ]
    },
    {
     "name": "stdout",
     "output_type": "stream",
     "text": [
      "(α, misfit) = (0.1f0, 1.0708995e6)\n",
      "(α, misfit) = "
     ]
    },
    {
     "name": "stderr",
     "output_type": "stream",
     "text": [
      "Operator `forward` ran in 0.14 s\n",
      "Operator `forward` ran in 0.14 s\n",
      "Operator `forward` ran in 0.14 s\n",
      "Operator `forward` ran in 0.14 s\n",
      "Operator `forward` ran in 0.14 s\n",
      "Operator `forward` ran in 0.14 s\n",
      "Operator `forward` ran in 0.14 s\n",
      "Operator `forward` ran in 0.14 s\n",
      "Operator `forward` ran in 0.14 s\n",
      "Operator `forward` ran in 0.14 s\n",
      "Operator `forward` ran in 0.14 s\n",
      "Operator `forward` ran in 0.17 s\n",
      "Operator `forward` ran in 0.17 s\n",
      "Operator `forward` ran in 0.19 s\n",
      "Operator `forward` ran in 0.19 s\n",
      "Operator `forward` ran in 0.19 s\n"
     ]
    },
    {
     "name": "stdout",
     "output_type": "stream",
     "text": [
      "(0.010000000149011612, 11023.716796875)\n"
     ]
    },
    {
     "name": "stderr",
     "output_type": "stream",
     "text": [
      "Operator `forward` ran in 0.19 s\n",
      "Operator `forward` ran in 0.20 s\n",
      "Operator `forward` ran in 0.20 s\n",
      "Operator `forward` ran in 0.20 s\n",
      "Operator `forward` ran in 0.20 s\n",
      "Operator `forward` ran in 0.20 s\n",
      "Operator `forward` ran in 0.20 s\n",
      "Operator `forward` ran in 0.20 s\n",
      "Operator `forward` ran in 0.21 s\n",
      "Operator `forward` ran in 0.20 s\n",
      "Operator `forward` ran in 0.20 s\n",
      "Operator `forward` ran in 0.20 s\n",
      "Operator `forward` ran in 0.20 s\n",
      "Operator `forward` ran in 0.20 s\n",
      "Operator `forward` ran in 0.20 s\n",
      "Operator `forward` ran in 0.20 s\n"
     ]
    },
    {
     "name": "stdout",
     "output_type": "stream",
     "text": [
      "(α, misfit) = (0.0010000000149011613, 312.7325134277344)\n",
      "FWI iteration no: "
     ]
    },
    {
     "name": "stderr",
     "output_type": "stream",
     "text": [
      "Operator `forward` ran in 0.21 s\n",
      "Operator `forward` ran in 0.20 s\n",
      "Operator `forward` ran in 0.21 s\n",
      "Operator `forward` ran in 0.21 s\n",
      "Operator `forward` ran in 0.21 s\n",
      "Operator `forward` ran in 0.20 s\n",
      "Operator `forward` ran in 0.21 s\n",
      "Operator `forward` ran in 0.21 s\n",
      "Operator `forward` ran in 0.21 s\n",
      "Operator `forward` ran in 0.20 s\n",
      "Operator `forward` ran in 0.20 s\n",
      "Operator `forward` ran in 0.20 s\n",
      "Operator `forward` ran in 0.20 s\n",
      "Operator `forward` ran in 0.20 s\n",
      "Operator `forward` ran in 0.20 s\n",
      "Operator `forward` ran in 0.20 s\n"
     ]
    },
    {
     "name": "stdout",
     "output_type": "stream",
     "text": [
      "24; function value: 426.44937\n"
     ]
    },
    {
     "name": "stderr",
     "output_type": "stream",
     "text": [
      "Operator `forward` ran in 0.25 s\n",
      "Operator `gradient` ran in 0.21 s\n",
      "Operator `forward` ran in 0.23 s\n",
      "Operator `gradient` ran in 0.21 s\n",
      "Operator `forward` ran in 0.21 s\n",
      "Operator `gradient` ran in 0.17 s\n",
      "Operator `forward` ran in 0.17 s\n",
      "Operator `gradient` ran in 0.16 s\n",
      "Operator `forward` ran in 0.17 s\n",
      "Operator `gradient` ran in 0.16 s\n",
      "Operator `forward` ran in 0.16 s\n",
      "Operator `gradient` ran in 0.16 s\n",
      "Operator `forward` ran in 0.17 s\n",
      "Operator `gradient` ran in 0.15 s\n",
      "Operator `forward` ran in 0.17 s\n",
      "Operator `gradient` ran in 0.17 s\n",
      "Operator `forward` ran in 0.21 s\n",
      "Operator `gradient` ran in 0.19 s\n",
      "Operator `forward` ran in 0.22 s\n",
      "Operator `gradient` ran in 0.19 s\n",
      "Operator `forward` ran in 0.17 s\n",
      "Operator `gradient` ran in 0.15 s\n",
      "Operator `forward` ran in 0.17 s\n",
      "Operator `gradient` ran in 0.16 s\n",
      "Operator `forward` ran in 0.17 s\n",
      "Operator `gradient` ran in 0.15 s\n",
      "Operator `forward` ran in 0.17 s\n",
      "Operator `gradient` ran in 0.16 s\n",
      "Operator `forward` ran in 0.17 s\n",
      "Operator `gradient` ran in 0.16 s\n",
      "Operator `forward` ran in 0.22 s\n",
      "Operator `gradient` ran in 0.19 s\n"
     ]
    },
    {
     "name": "stdout",
     "output_type": "stream",
     "text": [
      "(α, misfit) = (0.1f0, 13165.6630859375)\n",
      "(α, misfit) = "
     ]
    },
    {
     "name": "stderr",
     "output_type": "stream",
     "text": [
      "Operator `forward` ran in 0.16 s\n",
      "Operator `forward` ran in 0.17 s\n",
      "Operator `forward` ran in 0.17 s\n",
      "Operator `forward` ran in 0.17 s\n",
      "Operator `forward` ran in 0.17 s\n",
      "Operator `forward` ran in 0.17 s\n",
      "Operator `forward` ran in 0.17 s\n",
      "Operator `forward` ran in 0.17 s\n",
      "Operator `forward` ran in 0.17 s\n",
      "Operator `forward` ran in 0.21 s\n",
      "Operator `forward` ran in 0.21 s\n",
      "Operator `forward` ran in 0.21 s\n",
      "Operator `forward` ran in 0.19 s\n",
      "Operator `forward` ran in 0.20 s\n",
      "Operator `forward` ran in 0.20 s\n",
      "Operator `forward` ran in 0.20 s\n"
     ]
    },
    {
     "name": "stdout",
     "output_type": "stream",
     "text": [
      "(0.019791081116840328, 709.3795776367188)\n"
     ]
    },
    {
     "name": "stderr",
     "output_type": "stream",
     "text": [
      "Operator `forward` ran in 0.21 s\n",
      "Operator `forward` ran in 0.20 s\n",
      "Operator `forward` ran in 0.21 s\n",
      "Operator `forward` ran in 0.20 s\n",
      "Operator `forward` ran in 0.20 s\n",
      "Operator `forward` ran in 0.20 s\n",
      "Operator `forward` ran in 0.20 s\n",
      "Operator `forward` ran in 0.21 s\n",
      "Operator `forward` ran in 0.20 s\n",
      "Operator `forward` ran in 0.20 s\n",
      "Operator `forward` ran in 0.20 s\n",
      "Operator `forward` ran in 0.21 s\n",
      "Operator `forward` ran in 0.20 s\n",
      "Operator `forward` ran in 0.21 s\n",
      "Operator `forward` ran in 0.21 s\n",
      "Operator `forward` ran in 0.20 s\n"
     ]
    },
    {
     "name": "stdout",
     "output_type": "stream",
     "text": [
      "(α, misfit) = (0.008003144978656476, 349.009765625)\n",
      "FWI iteration no: "
     ]
    },
    {
     "name": "stderr",
     "output_type": "stream",
     "text": [
      "Operator `forward` ran in 0.21 s\n",
      "Operator `forward` ran in 0.20 s\n",
      "Operator `forward` ran in 0.20 s\n",
      "Operator `forward` ran in 0.20 s\n",
      "Operator `forward` ran in 0.20 s\n",
      "Operator `forward` ran in 0.20 s\n",
      "Operator `forward` ran in 0.21 s\n",
      "Operator `forward` ran in 0.21 s\n",
      "Operator `forward` ran in 0.20 s\n",
      "Operator `forward` ran in 0.21 s\n",
      "Operator `forward` ran in 0.21 s\n",
      "Operator `forward` ran in 0.21 s\n",
      "Operator `forward` ran in 0.21 s\n",
      "Operator `forward` ran in 0.20 s\n",
      "Operator `forward` ran in 0.21 s\n",
      "Operator `forward` ran in 0.21 s\n"
     ]
    },
    {
     "name": "stdout",
     "output_type": "stream",
     "text": [
      "25; function value: 445.93744\n"
     ]
    },
    {
     "name": "stderr",
     "output_type": "stream",
     "text": [
      "Operator `forward` ran in 0.25 s\n",
      "Operator `gradient` ran in 0.23 s\n",
      "Operator `forward` ran in 0.25 s\n",
      "Operator `gradient` ran in 0.22 s\n",
      "Operator `forward` ran in 0.22 s\n",
      "Operator `gradient` ran in 0.20 s\n",
      "Operator `forward` ran in 0.21 s\n",
      "Operator `gradient` ran in 0.18 s\n",
      "Operator `forward` ran in 0.16 s\n",
      "Operator `gradient` ran in 0.15 s\n",
      "Operator `forward` ran in 0.16 s\n",
      "Operator `gradient` ran in 0.15 s\n",
      "Operator `forward` ran in 0.16 s\n",
      "Operator `gradient` ran in 0.15 s\n",
      "Operator `forward` ran in 0.16 s\n",
      "Operator `gradient` ran in 0.15 s\n",
      "Operator `forward` ran in 0.16 s\n",
      "Operator `gradient` ran in 0.17 s\n",
      "Operator `forward` ran in 0.21 s\n",
      "Operator `gradient` ran in 0.17 s\n",
      "Operator `forward` ran in 0.17 s\n",
      "Operator `gradient` ran in 0.15 s\n",
      "Operator `forward` ran in 0.16 s\n",
      "Operator `gradient` ran in 0.15 s\n",
      "Operator `forward` ran in 0.17 s\n",
      "Operator `gradient` ran in 0.15 s\n",
      "Operator `forward` ran in 0.17 s\n",
      "Operator `gradient` ran in 0.15 s\n",
      "Operator `forward` ran in 0.19 s\n",
      "Operator `gradient` ran in 0.19 s\n",
      "Operator `forward` ran in 0.21 s\n",
      "Operator `gradient` ran in 0.18 s\n"
     ]
    },
    {
     "name": "stdout",
     "output_type": "stream",
     "text": [
      "(α, misfit) = (0.1f0, 1.077624125e6)\n",
      "(α, misfit) = "
     ]
    },
    {
     "name": "stderr",
     "output_type": "stream",
     "text": [
      "Operator `forward` ran in 0.14 s\n",
      "Operator `forward` ran in 0.15 s\n",
      "Operator `forward` ran in 0.14 s\n",
      "Operator `forward` ran in 0.14 s\n",
      "Operator `forward` ran in 0.14 s\n",
      "Operator `forward` ran in 0.14 s\n",
      "Operator `forward` ran in 0.14 s\n",
      "Operator `forward` ran in 0.14 s\n",
      "Operator `forward` ran in 0.14 s\n",
      "Operator `forward` ran in 0.14 s\n",
      "Operator `forward` ran in 0.17 s\n",
      "Operator `forward` ran in 0.17 s\n",
      "Operator `forward` ran in 0.17 s\n",
      "Operator `forward` ran in 0.17 s\n",
      "Operator `forward` ran in 0.18 s\n",
      "Operator `forward` ran in 0.18 s\n"
     ]
    },
    {
     "name": "stdout",
     "output_type": "stream",
     "text": [
      "(0.010000000149011612, 9711.71875)\n"
     ]
    },
    {
     "name": "stderr",
     "output_type": "stream",
     "text": [
      "Operator `forward` ran in 0.19 s\n",
      "Operator `forward` ran in 0.19 s\n",
      "Operator `forward` ran in 0.20 s\n",
      "Operator `forward` ran in 0.20 s\n",
      "Operator `forward` ran in 0.20 s\n",
      "Operator `forward` ran in 0.21 s\n",
      "Operator `forward` ran in 0.21 s\n",
      "Operator `forward` ran in 0.21 s\n",
      "Operator `forward` ran in 0.21 s\n",
      "Operator `forward` ran in 0.21 s\n",
      "Operator `forward` ran in 0.21 s\n",
      "Operator `forward` ran in 0.20 s\n",
      "Operator `forward` ran in 0.21 s\n",
      "Operator `forward` ran in 0.20 s\n",
      "Operator `forward` ran in 0.21 s\n",
      "Operator `forward` ran in 0.20 s\n"
     ]
    },
    {
     "name": "stdout",
     "output_type": "stream",
     "text": [
      "(α, misfit) = (0.0010000000149011613, 284.2490539550781)\n",
      "FWI iteration no: "
     ]
    },
    {
     "name": "stderr",
     "output_type": "stream",
     "text": [
      "Operator `forward` ran in 0.21 s\n",
      "Operator `forward` ran in 0.20 s\n",
      "Operator `forward` ran in 0.21 s\n",
      "Operator `forward` ran in 0.21 s\n",
      "Operator `forward` ran in 0.20 s\n",
      "Operator `forward` ran in 0.21 s\n",
      "Operator `forward` ran in 0.21 s\n",
      "Operator `forward` ran in 0.21 s\n",
      "Operator `forward` ran in 0.21 s\n",
      "Operator `forward` ran in 0.20 s\n",
      "Operator `forward` ran in 0.20 s\n",
      "Operator `forward` ran in 0.20 s\n",
      "Operator `forward` ran in 0.20 s\n",
      "Operator `forward` ran in 0.20 s\n",
      "Operator `forward` ran in 0.20 s\n",
      "Operator `forward` ran in 0.20 s\n"
     ]
    },
    {
     "name": "stdout",
     "output_type": "stream",
     "text": [
      "26; function value: 405.53085\n"
     ]
    },
    {
     "name": "stderr",
     "output_type": "stream",
     "text": [
      "Operator `forward` ran in 0.25 s\n",
      "Operator `gradient` ran in 0.22 s\n",
      "Operator `forward` ran in 0.23 s\n",
      "Operator `gradient` ran in 0.19 s\n",
      "Operator `forward` ran in 0.21 s\n",
      "Operator `gradient` ran in 0.19 s\n",
      "Operator `forward` ran in 0.21 s\n",
      "Operator `gradient` ran in 0.19 s\n",
      "Operator `forward` ran in 0.16 s\n",
      "Operator `gradient` ran in 0.15 s\n",
      "Operator `forward` ran in 0.16 s\n",
      "Operator `gradient` ran in 0.15 s\n",
      "Operator `forward` ran in 0.16 s\n",
      "Operator `gradient` ran in 0.15 s\n",
      "Operator `forward` ran in 0.16 s\n",
      "Operator `gradient` ran in 0.15 s\n",
      "Operator `forward` ran in 0.16 s\n",
      "Operator `gradient` ran in 0.15 s\n",
      "Operator `forward` ran in 0.21 s\n",
      "Operator `gradient` ran in 0.19 s\n",
      "Operator `forward` ran in 0.16 s\n",
      "Operator `gradient` ran in 0.15 s\n",
      "Operator `forward` ran in 0.16 s\n",
      "Operator `gradient` ran in 0.16 s\n",
      "Operator `forward` ran in 0.16 s\n",
      "Operator `gradient` ran in 0.15 s\n",
      "Operator `forward` ran in 0.16 s\n",
      "Operator `gradient` ran in 0.15 s\n",
      "Operator `forward` ran in 0.16 s\n",
      "Operator `gradient` ran in 0.18 s\n",
      "Operator `forward` ran in 0.21 s\n",
      "Operator `gradient` ran in 0.19 s\n"
     ]
    },
    {
     "name": "stdout",
     "output_type": "stream",
     "text": [
      "(α, misfit) = (0.1f0, 119367.3515625)\n",
      "(α, misfit) = "
     ]
    },
    {
     "name": "stderr",
     "output_type": "stream",
     "text": [
      "Operator `forward` ran in 0.16 s\n",
      "Operator `forward` ran in 0.17 s\n",
      "Operator `forward` ran in 0.17 s\n",
      "Operator `forward` ran in 0.16 s\n",
      "Operator `forward` ran in 0.16 s\n",
      "Operator `forward` ran in 0.16 s\n",
      "Operator `forward` ran in 0.16 s\n",
      "Operator `forward` ran in 0.17 s\n",
      "Operator `forward` ran in 0.17 s\n",
      "Operator `forward` ran in 0.19 s\n",
      "Operator `forward` ran in 0.18 s\n",
      "Operator `forward` ran in 0.19 s\n",
      "Operator `forward` ran in 0.19 s\n",
      "Operator `forward` ran in 0.19 s\n",
      "Operator `forward` ran in 0.19 s\n",
      "Operator `forward` ran in 0.20 s\n"
     ]
    },
    {
     "name": "stdout",
     "output_type": "stream",
     "text": [
      "(0.010000000149011612, 1337.110595703125)\n"
     ]
    },
    {
     "name": "stderr",
     "output_type": "stream",
     "text": [
      "Operator `forward` ran in 0.20 s\n",
      "Operator `forward` ran in 0.20 s\n",
      "Operator `forward` ran in 0.20 s\n",
      "Operator `forward` ran in 0.20 s\n",
      "Operator `forward` ran in 0.20 s\n",
      "Operator `forward` ran in 0.19 s\n",
      "Operator `forward` ran in 0.20 s\n",
      "Operator `forward` ran in 0.20 s\n",
      "Operator `forward` ran in 0.20 s\n",
      "Operator `forward` ran in 0.20 s\n",
      "Operator `forward` ran in 0.20 s\n",
      "Operator `forward` ran in 0.21 s\n",
      "Operator `forward` ran in 0.20 s\n",
      "Operator `forward` ran in 0.20 s\n",
      "Operator `forward` ran in 0.20 s\n",
      "Operator `forward` ran in 0.20 s\n"
     ]
    },
    {
     "name": "stdout",
     "output_type": "stream",
     "text": [
      "(α, misfit) = (0.002528417527995216, 324.012451171875)\n",
      "FWI iteration no: "
     ]
    },
    {
     "name": "stderr",
     "output_type": "stream",
     "text": [
      "Operator `forward` ran in 0.20 s\n",
      "Operator `forward` ran in 0.20 s\n",
      "Operator `forward` ran in 0.20 s\n",
      "Operator `forward` ran in 0.20 s\n",
      "Operator `forward` ran in 0.21 s\n",
      "Operator `forward` ran in 0.21 s\n",
      "Operator `forward` ran in 0.21 s\n",
      "Operator `forward` ran in 0.21 s\n",
      "Operator `forward` ran in 0.21 s\n",
      "Operator `forward` ran in 0.21 s\n",
      "Operator `forward` ran in 0.21 s\n",
      "Operator `forward` ran in 0.21 s\n",
      "Operator `forward` ran in 0.21 s\n",
      "Operator `forward` ran in 0.20 s\n",
      "Operator `forward` ran in 0.21 s\n",
      "Operator `forward` ran in 0.20 s\n"
     ]
    },
    {
     "name": "stdout",
     "output_type": "stream",
     "text": [
      "27; function value: 395.69315\n"
     ]
    },
    {
     "name": "stderr",
     "output_type": "stream",
     "text": [
      "Operator `forward` ran in 0.25 s\n",
      "Operator `gradient` ran in 0.21 s\n",
      "Operator `forward` ran in 0.23 s\n",
      "Operator `gradient` ran in 0.20 s\n",
      "Operator `forward` ran in 0.21 s\n",
      "Operator `gradient` ran in 0.19 s\n",
      "Operator `forward` ran in 0.16 s\n",
      "Operator `gradient` ran in 0.15 s\n",
      "Operator `forward` ran in 0.16 s\n",
      "Operator `gradient` ran in 0.15 s\n",
      "Operator `forward` ran in 0.16 s\n",
      "Operator `gradient` ran in 0.15 s\n",
      "Operator `forward` ran in 0.16 s\n",
      "Operator `gradient` ran in 0.14 s\n",
      "Operator `forward` ran in 0.16 s\n",
      "Operator `gradient` ran in 0.16 s\n",
      "Operator `forward` ran in 0.21 s\n",
      "Operator `gradient` ran in 0.18 s\n",
      "Operator `forward` ran in 0.16 s\n",
      "Operator `gradient` ran in 0.15 s\n",
      "Operator `forward` ran in 0.16 s\n",
      "Operator `gradient` ran in 0.15 s\n",
      "Operator `forward` ran in 0.16 s\n",
      "Operator `gradient` ran in 0.15 s\n",
      "Operator `forward` ran in 0.16 s\n",
      "Operator `gradient` ran in 0.15 s\n",
      "Operator `forward` ran in 0.16 s\n",
      "Operator `gradient` ran in 0.17 s\n",
      "Operator `forward` ran in 0.21 s\n",
      "Operator `gradient` ran in 0.17 s\n",
      "Operator `forward` ran in 0.17 s\n",
      "Operator `gradient` ran in 0.16 s\n"
     ]
    },
    {
     "name": "stdout",
     "output_type": "stream",
     "text": [
      "(α, misfit) = (0.1f0, 1.12988925e6)\n",
      "(α, misfit) = "
     ]
    },
    {
     "name": "stderr",
     "output_type": "stream",
     "text": [
      "Operator `forward` ran in 0.15 s\n",
      "Operator `forward` ran in 0.15 s\n",
      "Operator `forward` ran in 0.15 s\n",
      "Operator `forward` ran in 0.15 s\n",
      "Operator `forward` ran in 0.15 s\n",
      "Operator `forward` ran in 0.15 s\n",
      "Operator `forward` ran in 0.15 s\n",
      "Operator `forward` ran in 0.17 s\n",
      "Operator `forward` ran in 0.17 s\n",
      "Operator `forward` ran in 0.17 s\n",
      "Operator `forward` ran in 0.18 s\n",
      "Operator `forward` ran in 0.18 s\n",
      "Operator `forward` ran in 0.18 s\n",
      "Operator `forward` ran in 0.20 s\n",
      "Operator `forward` ran in 0.20 s\n",
      "Operator `forward` ran in 0.20 s\n"
     ]
    },
    {
     "name": "stdout",
     "output_type": "stream",
     "text": [
      "(0.010000000149011612, 11212.318359375)\n"
     ]
    },
    {
     "name": "stderr",
     "output_type": "stream",
     "text": [
      "Operator `forward` ran in 0.20 s\n",
      "Operator `forward` ran in 0.20 s\n",
      "Operator `forward` ran in 0.20 s\n",
      "Operator `forward` ran in 0.20 s\n",
      "Operator `forward` ran in 0.20 s\n",
      "Operator `forward` ran in 0.20 s\n",
      "Operator `forward` ran in 0.20 s\n",
      "Operator `forward` ran in 0.20 s\n",
      "Operator `forward` ran in 0.20 s\n",
      "Operator `forward` ran in 0.21 s\n",
      "Operator `forward` ran in 0.20 s\n",
      "Operator `forward` ran in 0.21 s\n",
      "Operator `forward` ran in 0.20 s\n",
      "Operator `forward` ran in 0.21 s\n",
      "Operator `forward` ran in 0.21 s\n",
      "Operator `forward` ran in 0.21 s\n"
     ]
    },
    {
     "name": "stdout",
     "output_type": "stream",
     "text": [
      "(α, misfit) = (0.0010000000149011613, 252.77784729003906)\n",
      "FWI iteration no: "
     ]
    },
    {
     "name": "stderr",
     "output_type": "stream",
     "text": [
      "Operator `forward` ran in 0.21 s\n",
      "Operator `forward` ran in 0.21 s\n",
      "Operator `forward` ran in 0.21 s\n",
      "Operator `forward` ran in 0.21 s\n",
      "Operator `forward` ran in 0.20 s\n",
      "Operator `forward` ran in 0.21 s\n",
      "Operator `forward` ran in 0.21 s\n",
      "Operator `forward` ran in 0.21 s\n",
      "Operator `forward` ran in 0.20 s\n",
      "Operator `forward` ran in 0.20 s\n",
      "Operator `forward` ran in 0.20 s\n",
      "Operator `forward` ran in 0.20 s\n",
      "Operator `forward` ran in 0.21 s\n",
      "Operator `forward` ran in 0.20 s\n",
      "Operator `forward` ran in 0.20 s\n",
      "Operator `forward` ran in 0.20 s\n"
     ]
    },
    {
     "name": "stdout",
     "output_type": "stream",
     "text": [
      "28; function value: 362.29333\n"
     ]
    },
    {
     "name": "stderr",
     "output_type": "stream",
     "text": [
      "Operator `forward` ran in 0.25 s\n",
      "Operator `gradient` ran in 0.21 s\n",
      "Operator `forward` ran in 0.23 s\n",
      "Operator `gradient` ran in 0.20 s\n",
      "Operator `forward` ran in 0.21 s\n",
      "Operator `gradient` ran in 0.18 s\n",
      "Operator `forward` ran in 0.16 s\n",
      "Operator `gradient` ran in 0.15 s\n",
      "Operator `forward` ran in 0.16 s\n",
      "Operator `gradient` ran in 0.15 s\n",
      "Operator `forward` ran in 0.16 s\n",
      "Operator `gradient` ran in 0.15 s\n",
      "Operator `forward` ran in 0.16 s\n",
      "Operator `gradient` ran in 0.15 s\n",
      "Operator `forward` ran in 0.16 s\n",
      "Operator `gradient` ran in 0.17 s\n",
      "Operator `forward` ran in 0.22 s\n",
      "Operator `gradient` ran in 0.17 s\n",
      "Operator `forward` ran in 0.16 s\n",
      "Operator `gradient` ran in 0.15 s\n",
      "Operator `forward` ran in 0.17 s\n",
      "Operator `gradient` ran in 0.15 s\n",
      "Operator `forward` ran in 0.16 s\n",
      "Operator `gradient` ran in 0.15 s\n",
      "Operator `forward` ran in 0.16 s\n",
      "Operator `gradient` ran in 0.15 s\n",
      "Operator `forward` ran in 0.17 s\n",
      "Operator `gradient` ran in 0.19 s\n",
      "Operator `forward` ran in 0.17 s\n",
      "Operator `gradient` ran in 0.16 s\n",
      "Operator `forward` ran in 0.16 s\n",
      "Operator `gradient` ran in 0.16 s\n"
     ]
    },
    {
     "name": "stdout",
     "output_type": "stream",
     "text": [
      "(α, misfit) = (0.1f0, 5266.4853515625)\n",
      "(α, misfit) = "
     ]
    },
    {
     "name": "stderr",
     "output_type": "stream",
     "text": [
      "Operator `forward` ran in 0.15 s\n",
      "Operator `forward` ran in 0.15 s\n",
      "Operator `forward` ran in 0.15 s\n",
      "Operator `forward` ran in 0.15 s\n",
      "Operator `forward` ran in 0.15 s\n",
      "Operator `forward` ran in 0.15 s\n",
      "Operator `forward` ran in 0.17 s\n",
      "Operator `forward` ran in 0.17 s\n",
      "Operator `forward` ran in 0.17 s\n",
      "Operator `forward` ran in 0.17 s\n",
      "Operator `forward` ran in 0.17 s\n",
      "Operator `forward` ran in 0.18 s\n",
      "Operator `forward` ran in 0.19 s\n",
      "Operator `forward` ran in 0.20 s\n",
      "Operator `forward` ran in 0.21 s\n",
      "Operator `forward` ran in 0.20 s\n"
     ]
    },
    {
     "name": "stdout",
     "output_type": "stream",
     "text": [
      "(0.031762801423087635, 708.9412841796875)\n"
     ]
    },
    {
     "name": "stderr",
     "output_type": "stream",
     "text": [
      "Operator `forward` ran in 0.20 s\n",
      "Operator `forward` ran in 0.21 s\n",
      "Operator `forward` ran in 0.21 s\n",
      "Operator `forward` ran in 0.21 s\n",
      "Operator `forward` ran in 0.20 s\n",
      "Operator `forward` ran in 0.21 s\n",
      "Operator `forward` ran in 0.21 s\n",
      "Operator `forward` ran in 0.20 s\n",
      "Operator `forward` ran in 0.21 s\n",
      "Operator `forward` ran in 0.20 s\n",
      "Operator `forward` ran in 0.20 s\n",
      "Operator `forward` ran in 0.20 s\n",
      "Operator `forward` ran in 0.21 s\n",
      "Operator `forward` ran in 0.21 s\n",
      "Operator `forward` ran in 0.21 s\n",
      "Operator `forward` ran in 0.21 s\n"
     ]
    },
    {
     "name": "stdout",
     "output_type": "stream",
     "text": [
      "(α, misfit) = (0.012768627968781709, 314.84765625)\n",
      "FWI iteration no: "
     ]
    },
    {
     "name": "stderr",
     "output_type": "stream",
     "text": [
      "Operator `forward` ran in 0.21 s\n",
      "Operator `forward` ran in 0.21 s\n",
      "Operator `forward` ran in 0.21 s\n",
      "Operator `forward` ran in 0.20 s\n",
      "Operator `forward` ran in 0.21 s\n",
      "Operator `forward` ran in 0.20 s\n",
      "Operator `forward` ran in 0.21 s\n",
      "Operator `forward` ran in 0.20 s\n",
      "Operator `forward` ran in 0.21 s\n",
      "Operator `forward` ran in 0.21 s\n",
      "Operator `forward` ran in 0.21 s\n",
      "Operator `forward` ran in 0.21 s\n",
      "Operator `forward` ran in 0.20 s\n",
      "Operator `forward` ran in 0.21 s\n",
      "Operator `forward` ran in 0.21 s\n",
      "Operator `forward` ran in 0.21 s\n"
     ]
    },
    {
     "name": "stdout",
     "output_type": "stream",
     "text": [
      "29; function value: 446.1439\n"
     ]
    },
    {
     "name": "stderr",
     "output_type": "stream",
     "text": [
      "Operator `forward` ran in 0.26 s\n",
      "Operator `gradient` ran in 0.22 s\n",
      "Operator `forward` ran in 0.23 s\n",
      "Operator `gradient` ran in 0.21 s\n",
      "Operator `forward` ran in 0.22 s\n",
      "Operator `gradient` ran in 0.20 s\n",
      "Operator `forward` ran in 0.17 s\n",
      "Operator `gradient` ran in 0.15 s\n",
      "Operator `forward` ran in 0.16 s\n",
      "Operator `gradient` ran in 0.16 s\n",
      "Operator `forward` ran in 0.16 s\n",
      "Operator `gradient` ran in 0.15 s\n",
      "Operator `forward` ran in 0.16 s\n",
      "Operator `gradient` ran in 0.15 s\n",
      "Operator `forward` ran in 0.16 s\n",
      "Operator `gradient` ran in 0.15 s\n",
      "Operator `forward` ran in 0.20 s\n",
      "Operator `gradient` ran in 0.20 s\n",
      "Operator `forward` ran in 0.22 s\n",
      "Operator `gradient` ran in 0.19 s\n",
      "Operator `forward` ran in 0.21 s\n",
      "Operator `gradient` ran in 0.17 s\n",
      "Operator `forward` ran in 0.16 s\n",
      "Operator `gradient` ran in 0.15 s\n",
      "Operator `forward` ran in 0.16 s\n",
      "Operator `gradient` ran in 0.15 s\n",
      "Operator `forward` ran in 0.16 s\n",
      "Operator `gradient` ran in 0.16 s\n",
      "Operator `forward` ran in 0.16 s\n",
      "Operator `gradient` ran in 0.15 s\n",
      "Operator `forward` ran in 0.18 s\n",
      "Operator `gradient` ran in 0.20 s\n"
     ]
    },
    {
     "name": "stdout",
     "output_type": "stream",
     "text": [
      "(α, misfit) = (0.1f0, 1.099585e6)\n",
      "(α, misfit) = "
     ]
    },
    {
     "name": "stderr",
     "output_type": "stream",
     "text": [
      "Operator `forward` ran in 0.17 s\n",
      "Operator `forward` ran in 0.16 s\n",
      "Operator `forward` ran in 0.17 s\n",
      "Operator `forward` ran in 0.17 s\n",
      "Operator `forward` ran in 0.18 s\n",
      "Operator `forward` ran in 0.18 s\n",
      "Operator `forward` ran in 0.17 s\n",
      "Operator `forward` ran in 0.16 s\n",
      "Operator `forward` ran in 0.16 s\n",
      "Operator `forward` ran in 0.20 s\n",
      "Operator `forward` ran in 0.19 s\n",
      "Operator `forward` ran in 0.20 s\n",
      "Operator `forward` ran in 0.20 s\n",
      "Operator `forward` ran in 0.20 s\n",
      "Operator `forward` ran in 0.20 s\n",
      "Operator `forward` ran in 0.20 s\n"
     ]
    },
    {
     "name": "stdout",
     "output_type": "stream",
     "text": [
      "(0.010000000149011612, 10266.36328125)\n"
     ]
    },
    {
     "name": "stderr",
     "output_type": "stream",
     "text": [
      "Operator `forward` ran in 0.20 s\n",
      "Operator `forward` ran in 0.20 s\n",
      "Operator `forward` ran in 0.21 s\n",
      "Operator `forward` ran in 0.21 s\n",
      "Operator `forward` ran in 0.20 s\n",
      "Operator `forward` ran in 0.21 s\n",
      "Operator `forward` ran in 0.20 s\n",
      "Operator `forward` ran in 0.20 s\n",
      "Operator `forward` ran in 0.20 s\n",
      "Operator `forward` ran in 0.20 s\n",
      "Operator `forward` ran in 0.21 s\n",
      "Operator `forward` ran in 0.21 s\n",
      "Operator `forward` ran in 0.21 s\n",
      "Operator `forward` ran in 0.21 s\n",
      "Operator `forward` ran in 0.21 s\n",
      "Operator `forward` ran in 0.21 s\n"
     ]
    },
    {
     "name": "stdout",
     "output_type": "stream",
     "text": [
      "(α, misfit) = (0.0010000000149011613, 265.40142822265625)\n",
      "FWI iteration no: "
     ]
    },
    {
     "name": "stderr",
     "output_type": "stream",
     "text": [
      "Operator `forward` ran in 0.22 s\n",
      "Operator `forward` ran in 0.20 s\n",
      "Operator `forward` ran in 0.21 s\n",
      "Operator `forward` ran in 0.21 s\n",
      "Operator `forward` ran in 0.20 s\n",
      "Operator `forward` ran in 0.21 s\n",
      "Operator `forward` ran in 0.21 s\n",
      "Operator `forward` ran in 0.21 s\n",
      "Operator `forward` ran in 0.21 s\n",
      "Operator `forward` ran in 0.21 s\n",
      "Operator `forward` ran in 0.21 s\n",
      "Operator `forward` ran in 0.21 s\n",
      "Operator `forward` ran in 0.21 s\n",
      "Operator `forward` ran in 0.21 s\n",
      "Operator `forward` ran in 0.21 s\n",
      "Operator `forward` ran in 0.20 s\n"
     ]
    },
    {
     "name": "stdout",
     "output_type": "stream",
     "text": [
      "30; function value: 367.34033\n"
     ]
    },
    {
     "name": "stderr",
     "output_type": "stream",
     "text": [
      "Operator `forward` ran in 0.25 s\n",
      "Operator `gradient` ran in 0.23 s\n",
      "Operator `forward` ran in 0.25 s\n",
      "Operator `gradient` ran in 0.21 s\n",
      "Operator `forward` ran in 0.21 s\n",
      "Operator `gradient` ran in 0.18 s\n",
      "Operator `forward` ran in 0.16 s\n",
      "Operator `gradient` ran in 0.15 s\n",
      "Operator `forward` ran in 0.16 s\n",
      "Operator `gradient` ran in 0.15 s\n",
      "Operator `forward` ran in 0.16 s\n",
      "Operator `gradient` ran in 0.15 s\n",
      "Operator `forward` ran in 0.16 s\n",
      "Operator `gradient` ran in 0.15 s\n",
      "Operator `forward` ran in 0.16 s\n",
      "Operator `gradient` ran in 0.19 s\n",
      "Operator `forward` ran in 0.22 s\n",
      "Operator `gradient` ran in 0.20 s\n",
      "Operator `forward` ran in 0.17 s\n",
      "Operator `gradient` ran in 0.16 s\n",
      "Operator `forward` ran in 0.16 s\n",
      "Operator `gradient` ran in 0.16 s\n",
      "Operator `forward` ran in 0.17 s\n",
      "Operator `gradient` ran in 0.16 s\n",
      "Operator `forward` ran in 0.17 s\n",
      "Operator `gradient` ran in 0.16 s\n",
      "Operator `forward` ran in 0.16 s\n",
      "Operator `gradient` ran in 0.17 s\n",
      "Operator `forward` ran in 0.22 s\n",
      "Operator `gradient` ran in 0.20 s\n",
      "Operator `forward` ran in 0.22 s\n",
      "Operator `gradient` ran in 0.20 s\n"
     ]
    },
    {
     "name": "stdout",
     "output_type": "stream",
     "text": [
      "(α, misfit) = (0.1f0, 76868.5)\n",
      "(α, misfit) = "
     ]
    },
    {
     "name": "stderr",
     "output_type": "stream",
     "text": [
      "Operator `forward` ran in 0.15 s\n",
      "Operator `forward` ran in 0.14 s\n",
      "Operator `forward` ran in 0.14 s\n",
      "Operator `forward` ran in 0.14 s\n",
      "Operator `forward` ran in 0.14 s\n",
      "Operator `forward` ran in 0.14 s\n",
      "Operator `forward` ran in 0.14 s\n",
      "Operator `forward` ran in 0.14 s\n",
      "Operator `forward` ran in 0.15 s\n",
      "Operator `forward` ran in 0.14 s\n",
      "Operator `forward` ran in 0.17 s\n",
      "Operator `forward` ran in 0.17 s\n",
      "Operator `forward` ran in 0.18 s\n",
      "Operator `forward` ran in 0.20 s\n",
      "Operator `forward` ran in 0.20 s\n",
      "Operator `forward` ran in 0.19 s\n"
     ]
    },
    {
     "name": "stdout",
     "output_type": "stream",
     "text": [
      "(0.010000000149011612, 862.4722900390625)\n"
     ]
    },
    {
     "name": "stderr",
     "output_type": "stream",
     "text": [
      "Operator `forward` ran in 0.19 s\n",
      "Operator `forward` ran in 0.20 s\n",
      "Operator `forward` ran in 0.21 s\n",
      "Operator `forward` ran in 0.20 s\n",
      "Operator `forward` ran in 0.20 s\n",
      "Operator `forward` ran in 0.20 s\n",
      "Operator `forward` ran in 0.20 s\n",
      "Operator `forward` ran in 0.20 s\n",
      "Operator `forward` ran in 0.20 s\n",
      "Operator `forward` ran in 0.20 s\n",
      "Operator `forward` ran in 0.20 s\n",
      "Operator `forward` ran in 0.21 s\n",
      "Operator `forward` ran in 0.21 s\n",
      "Operator `forward` ran in 0.21 s\n",
      "Operator `forward` ran in 0.21 s\n",
      "Operator `forward` ran in 0.20 s\n"
     ]
    },
    {
     "name": "stdout",
     "output_type": "stream",
     "text": [
      "(α, misfit) = (0.003059831101555763, 279.49822998046875)\n"
     ]
    },
    {
     "name": "stderr",
     "output_type": "stream",
     "text": [
      "Operator `forward` ran in 0.21 s\n",
      "Operator `forward` ran in 0.21 s\n",
      "Operator `forward` ran in 0.21 s\n",
      "Operator `forward` ran in 0.21 s\n",
      "Operator `forward` ran in 0.20 s\n",
      "Operator `forward` ran in 0.21 s\n",
      "Operator `forward` ran in 0.22 s\n",
      "Operator `forward` ran in 0.21 s\n",
      "Operator `forward` ran in 0.21 s\n",
      "Operator `forward` ran in 0.21 s\n",
      "Operator `forward` ran in 0.21 s\n",
      "Operator `forward` ran in 0.21 s\n",
      "Operator `forward` ran in 0.21 s\n",
      "Operator `forward` ran in 0.21 s\n",
      "Operator `forward` ran in 0.20 s\n",
      "Operator `forward` ran in 0.21 s\n"
     ]
    }
   ],
   "source": [
    "# Main loop\n",
    "t1 = now();\n",
    "for j=1:niterations\n",
    "\n",
    "    # get fwi objective function value and gradient\n",
    "    i = randperm(d_obs.nsrc)[1:batchsize]\n",
    "    fval, gradient = fwi_objective(model0, q[i], d_obs[i])\n",
    "    p = -gradient/norm(gradient, Inf)\n",
    "    \n",
    "    println(\"FWI iteration no: \",j,\"; function value: \",fval)\n",
    "    fhistory_SGD[j] = fval\n",
    "\n",
    "    # linesearch\n",
    "    function ϕ(α)\n",
    "        F0.model.m .= proj(model0.m .+ α * p)\n",
    "        misfit = .5*norm(F0[i]*q[i] - d_obs[i])^2\n",
    "        @show α, misfit\n",
    "        return misfit\n",
    "    end\n",
    "    step, fval = ls(ϕ, 1f-1, fval, dot(gradient, p))\n",
    "\n",
    "    # Update model and bound projection\n",
    "    model0.m .= proj(model0.m .+ step .* p)\n",
    "    m0_values[:, j] = model0.m\n",
    "end\n",
    "t2 = now();"
   ]
  },
  {
   "cell_type": "code",
   "execution_count": 11,
   "metadata": {},
   "outputs": [],
   "source": [
    "fwi = sqrt.(1f0./adjoint(reshape(m0_values[:, 29], (101,101))));\n",
    "v0 = sqrt.(1f0./M[\"m0\"])';\n",
    "v = sqrt.(1f0./M[\"m\"])';"
   ]
  },
  {
   "cell_type": "code",
   "execution_count": 12,
   "metadata": {},
   "outputs": [
    {
     "data": {
      "image/png": "[encoded data removed]",
      "text/plain": [
       "Figure(PyObject <Figure size 5400x1200 with 6 Axes>)"
      ]
     },
     "metadata": {},
     "output_type": "display_data"
    }
   ],
   "source": [
    "fig=figure(figsize=(18,4), dpi=300);\n",
    "subplot(131)\n",
    "im = imshow(v, cmap=\"viridis\", extent=[0, (model0.n[1]-1)*model0.d[1], (model0.n[2]-1)*model0.d[2], 0], vmin=1.5, vmax=3.0)\n",
    "cb = colorbar(im, ticks=unique(v), pad=0.01)\n",
    "cb[:set_label](label = L\"$V_p [km/s]$\")\n",
    "xlabel(L\"Posición horizontal $[m]$\")\n",
    "ylabel(L\"Profundidad $[m]$\")\n",
    "title(L\"Modelo real $\\mathbf{m}$\")\n",
    "subplot(132)\n",
    "im = imshow(v0, cmap=\"viridis\", extent=[0, (model0.n[1]-1)*model0.d[1], (model0.n[2]-1)*model0.d[2], 0], vmin=1.5, vmax=3.0)\n",
    "cb = colorbar(im, ticks=unique(v), pad=0.01)\n",
    "cb[:set_label](label = L\"$V_p [km/s]$\")\n",
    "xlabel(L\"Posición horizontal $[m]$\")\n",
    "ylabel(L\"Profundidad $[m]$\")\n",
    "title(L\"Modelo inicial $\\mathbf{m_0}$\")\n",
    "subplot(133)\n",
    "im = imshow(fwi, cmap=\"viridis\", extent=[0, (model0.n[1]-1)*model0.d[1], (model0.n[2]-1)*model0.d[2], 0], vmin=1.5, vmax=3.0)\n",
    "cb = colorbar(im, ticks=unique(v), pad=0.01)\n",
    "cb[:set_label](label = L\"$V_p [km/s]$\")\n",
    "xlabel(L\"Posición horizontal $[m]$\")\n",
    "ylabel(L\"Profundidad $[m]$\")\n",
    "title(\"FWI con SGD\")\n",
    "display(fig)"
   ]
  },
  {
   "cell_type": "code",
   "execution_count": 13,
   "metadata": {},
   "outputs": [
    {
     "name": "stdout",
     "output_type": "stream",
     "text": [
      "El error cuadrático medio del modelo inicial es: 0.01610154849900713\n",
      "El error cuadrático medio de FWI es: 0.010837943355116458\n"
     ]
    }
   ],
   "source": [
    "mse = sum((v .- v0).^2) / length(v)\n",
    "println(\"El error cuadrático medio del modelo inicial es: \", mse)\n",
    "mse = sum((v .- fwi).^2) / length(v)\n",
    "println(\"El error cuadrático medio de FWI es: \", mse)"
   ]
  },
  {
   "cell_type": "code",
   "execution_count": 14,
   "metadata": {},
   "outputs": [
    {
     "name": "stdout",
     "output_type": "stream",
     "text": [
      "Porcentaje de error (v0): 2.9251756195527445\n",
      "Porcentaje de error (FWI): 2.193945655376541\n"
     ]
    }
   ],
   "source": [
    "error_porcentaje_v0 = 100 * sum(abs.(v - v0)) / sum(abs.(v))\n",
    "error_porcentaje_fwi = 100 * sum(abs.(v - fwi)) / sum(abs.(v))\n",
    "\n",
    "println(\"Porcentaje de error (v0): \", error_porcentaje_v0)\n",
    "println(\"Porcentaje de error (FWI): \", error_porcentaje_fwi)"
   ]
  },
  {
   "cell_type": "code",
   "execution_count": 15,
   "metadata": {},
   "outputs": [
    {
     "data": {
      "image/png": "[encoded data removed]",
      "text/plain": [
       "Figure(PyObject <Figure size 640x480 with 2 Axes>)"
      ]
     },
     "metadata": {},
     "output_type": "display_data"
    }
   ],
   "source": [
    "difs = v-fwi\n",
    "fig=figure() #figsize=(20, 5)\n",
    "im = imshow(difs, cmap=\"viridis\", extent=[0, (model0.n[1]-1)*model0.d[1], (model0.n[2]-1)*model0.d[2], 0], vmin=-1, vmax=1)\n",
    "cb = colorbar(im)\n",
    "cb[:set_label](label = \"Error\")\n",
    "xlabel(L\"Posición horizontal $[m]$\")\n",
    "ylabel(L\"Profundidad $[m]$\")\n",
    "title(\"Error relativa\")\n",
    "display(fig)"
   ]
  },
  {
   "cell_type": "code",
   "execution_count": 16,
   "metadata": {},
   "outputs": [
    {
     "data": {
      "image/png": "[encoded data removed]",
      "text/plain": [
       "Figure(PyObject <Figure size 1920x1440 with 1 Axes>)"
      ]
     },
     "metadata": {},
     "output_type": "display_data"
    }
   ],
   "source": [
    "fig=figure(dpi=300) #figsize=(20, 5)\n",
    "xax = 1:1:30\n",
    "plot(xax, fhistory_SGD)\n",
    "xlabel(\"Número de iteraciones\")\n",
    "ylabel(\"Valor de desajuste\")\n",
    "title(\"Convergencia\")\n",
    "display(fig)"
   ]
  },
  {
   "cell_type": "code",
   "execution_count": 17,
   "metadata": {},
   "outputs": [],
   "source": [
    "save(\"model_custom_fwi_result_low_f.jld\", \"n\", M[\"n\"], \"d\", M[\"d\"], \"o\", M[\"o\"], \"m\", M[\"m\"], \"m0\", model0.m.data, \"dm\", dm)"
   ]
  },
  {
   "cell_type": "code",
   "execution_count": 18,
   "metadata": {},
   "outputs": [],
   "source": [
    "writedlm(\"fwi_l_results/m0.txt\", v0)\n",
    "writedlm(\"fwi_l_results/fwi.txt\", m0_values)\n",
    "writedlm(\"fwi_l_results/mtrue.txt\", v)\n",
    "writedlm(\"fwi_l_results/fval.txt\", fhistory_SGD)"
   ]
  },
  {
   "cell_type": "code",
   "execution_count": 19,
   "metadata": {},
   "outputs": [
    {
     "data": {
      "text/plain": [
       "8 minutes, 10 seconds, 34 milliseconds"
      ]
     },
     "metadata": {},
     "output_type": "display_data"
    }
   ],
   "source": [
    "canonicalize(t2 - t1)"
   ]
  },
  {
   "cell_type": "code",
   "execution_count": 20,
   "metadata": {},
   "outputs": [
    {
     "data": {
      "text/plain": [
       "490034 milliseconds"
      ]
     },
     "metadata": {},
     "output_type": "display_data"
    }
   ],
   "source": [
    "t2-t1"
   ]
  }
 ],
 "metadata": {
  "kernelspec": {
   "display_name": "Julia 1.9.2",
   "language": "julia",
   "name": "julia-1.9"
  },
  "language_info": {
   "file_extension": ".jl",
   "mimetype": "application/julia",
   "name": "julia",
   "version": "1.9.2"
  },
  "orig_nbformat": 4
 },
 "nbformat": 4,
 "nbformat_minor": 2
}
