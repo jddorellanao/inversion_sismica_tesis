{
 "cells": [
  {
   "attachments": {},
   "cell_type": "markdown",
   "metadata": {},
   "source": [
    "# FWI modelo personalizado"
   ]
  },
  {
   "cell_type": "code",
   "execution_count": 3,
   "metadata": {},
   "outputs": [],
   "source": [
    "using PyPlot, JLD, SegyIO, JUDI, SlimOptim, Statistics, Random, LinearAlgebra, ImageFiltering, HDF5"
   ]
  },
  {
   "cell_type": "code",
   "execution_count": 4,
   "metadata": {},
   "outputs": [
    {
     "name": "stdout",
     "output_type": "stream",
     "text": [
      "Model (n=(401, 121), d=(25.0f0, 25.0f0), o=(0.0f0, 0.0f0)) with parameters [:m]\n"
     ]
    }
   ],
   "source": [
    "# Load starting model\n",
    "n,d,o,m0 = read(h5open(\"$(JUDI.JUDI_DATA)/overthrust_model.h5\",\"r\"), \"n\", \"d\", \"o\", \"m0\")\n",
    "model0 = Model((n[1],n[2]), (d[1],d[2]), (o[1],o[2]), m0)"
   ]
  },
  {
   "cell_type": "code",
   "execution_count": 16,
   "metadata": {},
   "outputs": [],
   "source": [
    "mm = read(h5open(\"$(JUDI.JUDI_DATA)/overthrust_model.h5\",\"r\"), \"m\")\n",
    "v = sqrt.(1f0 ./ mm);"
   ]
  },
  {
   "cell_type": "code",
   "execution_count": 8,
   "metadata": {},
   "outputs": [],
   "source": [
    "# Bound constraints\n",
    "v0 = sqrt.(1f0 ./ m0)\n",
    "vmin = ones(Float32, model0.n) .* 1.3f0\n",
    "vmax = ones(Float32, model0.n) .* 6.5f0\n",
    "vmin[:,1:21] .= v0[:,1:21]   # keep water column fixed\n",
    "vmax[:,1:21] .= v0[:,1:21];\n",
    "# Slowness squared [s^2/km^2]\n",
    "mmin = vec((1f0 ./ vmax).^2)\n",
    "mmax = vec((1f0 ./ vmin).^2);"
   ]
  },
  {
   "cell_type": "code",
   "execution_count": 7,
   "metadata": {},
   "outputs": [
    {
     "name": "stderr",
     "output_type": "stream",
     "text": [
      "┌ Warning: Fixed length trace flag set in stream: IOBuffer(data=UInt8[...], readable=true, writable=false, seekable=true, append=false, size=7220304, maxsize=Inf, ptr=3601, mark=-1)\n",
      "└ @ SegyIO /home/geouser/.julia/packages/SegyIO/aQwou/src/read/read_file.jl:36\n"
     ]
    },
    {
     "name": "stdout",
     "output_type": "stream",
     "text": [
      "judiVector{Float32, Matrix{Float32}} with 16 sources\n"
     ]
    }
   ],
   "source": [
    "# Load data\n",
    "block = segy_read(\"model_overthrust_low_f.segy\")\n",
    "d_obs = judiVector(block)"
   ]
  },
  {
   "cell_type": "code",
   "execution_count": 9,
   "metadata": {},
   "outputs": [
    {
     "name": "stdout",
     "output_type": "stream",
     "text": [
      "judiVector{Float32, Matrix{Float32}} with 16 sources\n"
     ]
    }
   ],
   "source": [
    "# Set up wavelet\n",
    "srcGeometry = Geometry(block; key=\"source\")\t# read source position geometry\n",
    "wavelet = ricker_wavelet(srcGeometry.t[1], srcGeometry.dt[1], 0.004f0)\t# 4 Hz wavelet\n",
    "q = judiVector(srcGeometry, wavelet)"
   ]
  },
  {
   "cell_type": "code",
   "execution_count": 10,
   "metadata": {},
   "outputs": [
    {
     "name": "stdout",
     "output_type": "stream",
     "text": [
      "JUDI forward{Float32} propagator (src * rec * time) -> (src * rec * time)\n"
     ]
    }
   ],
   "source": [
    "F0 = judiModeling(deepcopy(model0), srcGeometry, d_obs.geometry)"
   ]
  },
  {
   "cell_type": "code",
   "execution_count": 11,
   "metadata": {},
   "outputs": [],
   "source": [
    "# Optimization parameters\n",
    "niterations = parse(Int, get(ENV, \"NITER\", \"30\"))\n",
    "batchsize = 16\n",
    "fhistory_SGD = zeros(Float32, niterations);\n",
    "m0_values = zeros(length(model0.m), niterations);"
   ]
  },
  {
   "cell_type": "code",
   "execution_count": 12,
   "metadata": {},
   "outputs": [],
   "source": [
    "# Projection operator for bound constraints\n",
    "proj(x) = reshape(median([vec(mmin) vec(x) vec(mmax)]; dims=2),model0.n)\n",
    "ls = BackTracking(order=3, iterations=10, );"
   ]
  },
  {
   "cell_type": "code",
   "execution_count": 13,
   "metadata": {},
   "outputs": [
    {
     "name": "stdout",
     "output_type": "stream",
     "text": [
      "FWI iteration no: 1; function value: 721802.44\n",
      "(α, misfit) = "
     ]
    },
    {
     "name": "stderr",
     "output_type": "stream",
     "text": [
      "Building forward operator\n",
      "/home/geouser/.local/lib/python3.9/site-packages/numpy/core/getlimits.py:518: UserWarning: The value of the smallest subnormal for <class 'numpy.float32'> type is zero.\n",
      "  setattr(self, word, getattr(machar, word).flat[0])\n",
      "/home/geouser/.local/lib/python3.9/site-packages/numpy/core/getlimits.py:89: UserWarning: The value of the smallest subnormal for <class 'numpy.float32'> type is zero.\n",
      "  return self._float_to_str(self.smallest_subnormal)\n",
      "Operator `forward` ran in 0.04 s\n",
      "Building adjoint born operator\n",
      "Operator `gradient` ran in 0.05 s\n",
      "Operator `forward` ran in 0.04 s\n",
      "Operator `gradient` ran in 0.04 s\n",
      "Operator `forward` ran in 0.04 s\n",
      "Operator `gradient` ran in 0.05 s\n",
      "Operator `forward` ran in 0.04 s\n",
      "Operator `gradient` ran in 0.04 s\n",
      "Operator `forward` ran in 0.04 s\n",
      "Operator `gradient` ran in 0.05 s\n",
      "Operator `forward` ran in 0.04 s\n",
      "Operator `gradient` ran in 0.05 s\n",
      "Operator `forward` ran in 0.04 s\n",
      "Operator `gradient` ran in 0.05 s\n",
      "Operator `forward` ran in 0.04 s\n",
      "Operator `gradient` ran in 0.05 s\n",
      "Operator `forward` ran in 0.04 s\n",
      "Operator `gradient` ran in 0.04 s\n",
      "Operator `forward` ran in 0.04 s\n",
      "Operator `gradient` ran in 0.05 s\n",
      "Operator `forward` ran in 0.04 s\n",
      "Operator `gradient` ran in 0.05 s\n",
      "Operator `forward` ran in 0.04 s\n",
      "Operator `gradient` ran in 0.05 s\n",
      "Operator `forward` ran in 0.04 s\n",
      "Operator `gradient` ran in 0.05 s\n",
      "Operator `forward` ran in 0.04 s\n",
      "Operator `gradient` ran in 0.05 s\n",
      "Operator `forward` ran in 0.04 s\n",
      "Operator `gradient` ran in 0.05 s\n",
      "Operator `forward` ran in 0.04 s\n",
      "Operator `gradient` ran in 0.05 s\n"
     ]
    },
    {
     "name": "stdout",
     "output_type": "stream",
     "text": [
      "(0.1f0, 910540.1875)\n"
     ]
    },
    {
     "name": "stderr",
     "output_type": "stream",
     "text": [
      "Building forward operator\n",
      "Operator `forward` ran in 0.04 s\n",
      "Operator `forward` ran in 0.04 s\n",
      "Operator `forward` ran in 0.04 s\n",
      "Operator `forward` ran in 0.04 s\n",
      "Operator `forward` ran in 0.04 s\n",
      "Operator `forward` ran in 0.04 s\n",
      "Operator `forward` ran in 0.04 s\n",
      "Operator `forward` ran in 0.04 s\n",
      "Operator `forward` ran in 0.06 s\n",
      "Operator `forward` ran in 0.04 s\n",
      "Operator `forward` ran in 0.04 s\n",
      "Operator `forward` ran in 0.04 s\n",
      "Operator `forward` ran in 0.04 s\n",
      "Operator `forward` ran in 0.04 s\n",
      "Operator `forward` ran in 0.04 s\n",
      "Operator `forward` ran in 0.04 s\n"
     ]
    },
    {
     "name": "stdout",
     "output_type": "stream",
     "text": [
      "(α, misfit) = (0.04742700516854659, 223900.765625)\n",
      "FWI iteration no: "
     ]
    },
    {
     "name": "stderr",
     "output_type": "stream",
     "text": [
      "Operator `forward` ran in 0.03 s\n",
      "Operator `forward` ran in 0.03 s\n",
      "Operator `forward` ran in 0.04 s\n",
      "Operator `forward` ran in 0.04 s\n",
      "Operator `forward` ran in 0.04 s\n",
      "Operator `forward` ran in 0.04 s\n",
      "Operator `forward` ran in 0.03 s\n",
      "Operator `forward` ran in 0.03 s\n",
      "Operator `forward` ran in 0.04 s\n",
      "Operator `forward` ran in 0.03 s\n",
      "Operator `forward` ran in 0.04 s\n",
      "Operator `forward` ran in 0.03 s\n",
      "Operator `forward` ran in 0.04 s\n",
      "Operator `forward` ran in 0.04 s\n",
      "Operator `forward` ran in 0.04 s\n",
      "Operator `forward` ran in 0.04 s\n"
     ]
    },
    {
     "name": "stdout",
     "output_type": "stream",
     "text": [
      "2; function value: 237669.2\n"
     ]
    },
    {
     "name": "stderr",
     "output_type": "stream",
     "text": [
      "Operator `forward` ran in 0.05 s\n",
      "Operator `gradient` ran in 0.05 s\n",
      "Operator `forward` ran in 0.04 s\n",
      "Operator `gradient` ran in 0.05 s\n",
      "Operator `forward` ran in 0.04 s\n",
      "Operator `gradient` ran in 0.05 s\n",
      "Operator `forward` ran in 0.04 s\n",
      "Operator `gradient` ran in 0.05 s\n",
      "Operator `forward` ran in 0.04 s\n",
      "Operator `gradient` ran in 0.05 s\n",
      "Operator `forward` ran in 0.04 s\n",
      "Operator `gradient` ran in 0.05 s\n",
      "Operator `forward` ran in 0.04 s\n",
      "Operator `gradient` ran in 0.05 s\n",
      "Operator `forward` ran in 0.04 s\n",
      "Operator `gradient` ran in 0.05 s\n",
      "Operator `forward` ran in 0.04 s\n",
      "Operator `gradient` ran in 0.05 s\n",
      "Operator `forward` ran in 0.04 s\n",
      "Operator `gradient` ran in 0.04 s\n",
      "Operator `forward` ran in 0.04 s\n",
      "Operator `gradient` ran in 0.04 s\n",
      "Operator `forward` ran in 0.04 s\n",
      "Operator `gradient` ran in 0.05 s\n",
      "Operator `forward` ran in 0.04 s\n",
      "Operator `gradient` ran in 0.05 s\n",
      "Operator `forward` ran in 0.04 s\n",
      "Operator `gradient` ran in 0.04 s\n",
      "Operator `forward` ran in 0.04 s\n",
      "Operator `gradient` ran in 0.05 s\n",
      "Operator `forward` ran in 0.04 s\n",
      "Operator `gradient` ran in 0.05 s\n"
     ]
    },
    {
     "name": "stdout",
     "output_type": "stream",
     "text": [
      "(α, misfit) = (0.1f0, 2.48531825e6)\n",
      "(α, misfit) = "
     ]
    },
    {
     "name": "stderr",
     "output_type": "stream",
     "text": [
      "Operator `forward` ran in 0.04 s\n",
      "Operator `forward` ran in 0.04 s\n",
      "Operator `forward` ran in 0.04 s\n",
      "Operator `forward` ran in 0.04 s\n",
      "Operator `forward` ran in 0.04 s\n",
      "Operator `forward` ran in 0.04 s\n",
      "Operator `forward` ran in 0.04 s\n",
      "Operator `forward` ran in 0.04 s\n",
      "Operator `forward` ran in 0.04 s\n",
      "Operator `forward` ran in 0.04 s\n",
      "Operator `forward` ran in 0.04 s\n",
      "Operator `forward` ran in 0.04 s\n",
      "Operator `forward` ran in 0.04 s\n",
      "Operator `forward` ran in 0.05 s\n",
      "Operator `forward` ran in 0.04 s\n",
      "Operator `forward` ran in 0.05 s\n"
     ]
    },
    {
     "name": "stdout",
     "output_type": "stream",
     "text": [
      "(0.025088084813932196, 336982.21875)\n"
     ]
    },
    {
     "name": "stderr",
     "output_type": "stream",
     "text": [
      "Operator `forward` ran in 0.04 s\n",
      "Operator `forward` ran in 0.03 s\n",
      "Operator `forward` ran in 0.04 s\n",
      "Operator `forward` ran in 0.03 s\n",
      "Operator `forward` ran in 0.03 s\n",
      "Operator `forward` ran in 0.04 s\n",
      "Operator `forward` ran in 0.03 s\n",
      "Operator `forward` ran in 0.04 s\n",
      "Operator `forward` ran in 0.03 s\n",
      "Operator `forward` ran in 0.04 s\n",
      "Operator `forward` ran in 0.03 s\n",
      "Operator `forward` ran in 0.03 s\n",
      "Operator `forward` ran in 0.03 s\n",
      "Operator `forward` ran in 0.03 s\n",
      "Operator `forward` ran in 0.04 s\n",
      "Operator `forward` ran in 0.04 s\n"
     ]
    },
    {
     "name": "stdout",
     "output_type": "stream",
     "text": [
      "(α, misfit) = (0.009899615000365163, 130418.1953125)\n",
      "FWI iteration no: "
     ]
    },
    {
     "name": "stderr",
     "output_type": "stream",
     "text": [
      "Operator `forward` ran in 0.03 s\n",
      "Operator `forward` ran in 0.04 s\n",
      "Operator `forward` ran in 0.03 s\n",
      "Operator `forward` ran in 0.04 s\n",
      "Operator `forward` ran in 0.03 s\n",
      "Operator `forward` ran in 0.04 s\n",
      "Operator `forward` ran in 0.03 s\n",
      "Operator `forward` ran in 0.03 s\n",
      "Operator `forward` ran in 0.04 s\n",
      "Operator `forward` ran in 0.04 s\n",
      "Operator `forward` ran in 0.03 s\n",
      "Operator `forward` ran in 0.03 s\n",
      "Operator `forward` ran in 0.04 s\n",
      "Operator `forward` ran in 0.04 s\n",
      "Operator `forward` ran in 0.04 s\n",
      "Operator `forward` ran in 0.03 s\n"
     ]
    },
    {
     "name": "stdout",
     "output_type": "stream",
     "text": [
      "3; function value: 144179.19\n"
     ]
    },
    {
     "name": "stderr",
     "output_type": "stream",
     "text": [
      "Operator `forward` ran in 0.04 s\n",
      "Operator `gradient` ran in 0.04 s\n",
      "Operator `forward` ran in 0.04 s\n",
      "Operator `gradient` ran in 0.05 s\n",
      "Operator `forward` ran in 0.04 s\n",
      "Operator `gradient` ran in 0.05 s\n",
      "Operator `forward` ran in 0.04 s\n",
      "Operator `gradient` ran in 0.05 s\n",
      "Operator `forward` ran in 0.04 s\n",
      "Operator `gradient` ran in 0.05 s\n",
      "Operator `forward` ran in 0.04 s\n",
      "Operator `gradient` ran in 0.05 s\n",
      "Operator `forward` ran in 0.04 s\n",
      "Operator `gradient` ran in 0.05 s\n",
      "Operator `forward` ran in 0.04 s\n",
      "Operator `gradient` ran in 0.04 s\n",
      "Operator `forward` ran in 0.04 s\n",
      "Operator `gradient` ran in 0.05 s\n",
      "Operator `forward` ran in 0.04 s\n",
      "Operator `gradient` ran in 0.04 s\n",
      "Operator `forward` ran in 0.04 s\n",
      "Operator `gradient` ran in 0.05 s\n",
      "Operator `forward` ran in 0.04 s\n",
      "Operator `gradient` ran in 0.05 s\n",
      "Operator `forward` ran in 0.04 s\n",
      "Operator `gradient` ran in 0.04 s\n",
      "Operator `forward` ran in 0.04 s\n",
      "Operator `gradient` ran in 0.05 s\n",
      "Operator `forward` ran in 0.04 s\n",
      "Operator `gradient` ran in 0.05 s\n",
      "Operator `forward` ran in 0.04 s\n",
      "Operator `gradient` ran in 0.04 s\n"
     ]
    },
    {
     "name": "stdout",
     "output_type": "stream",
     "text": [
      "(α, misfit) = (0.1f0, 1.313850125e6)\n",
      "(α, misfit) = "
     ]
    },
    {
     "name": "stderr",
     "output_type": "stream",
     "text": [
      "Operator `forward` ran in 0.04 s\n",
      "Operator `forward` ran in 0.04 s\n",
      "Operator `forward` ran in 0.05 s\n",
      "Operator `forward` ran in 0.05 s\n",
      "Operator `forward` ran in 0.04 s\n",
      "Operator `forward` ran in 0.04 s\n",
      "Operator `forward` ran in 0.04 s\n",
      "Operator `forward` ran in 0.04 s\n",
      "Operator `forward` ran in 0.04 s\n",
      "Operator `forward` ran in 0.04 s\n",
      "Operator `forward` ran in 0.04 s\n",
      "Operator `forward` ran in 0.04 s\n",
      "Operator `forward` ran in 0.04 s\n",
      "Operator `forward` ran in 0.04 s\n",
      "Operator `forward` ran in 0.04 s\n",
      "Operator `forward` ran in 0.04 s\n"
     ]
    },
    {
     "name": "stdout",
     "output_type": "stream",
     "text": [
      "(0.022741740870195648, 101733.7109375)\n"
     ]
    },
    {
     "name": "stderr",
     "output_type": "stream",
     "text": [
      "Operator `forward` ran in 0.03 s\n",
      "Operator `forward` ran in 0.03 s\n",
      "Operator `forward` ran in 0.04 s\n",
      "Operator `forward` ran in 0.03 s\n",
      "Operator `forward` ran in 0.03 s\n",
      "Operator `forward` ran in 0.03 s\n",
      "Operator `forward` ran in 0.03 s\n",
      "Operator `forward` ran in 0.03 s\n",
      "Operator `forward` ran in 0.04 s\n",
      "Operator `forward` ran in 0.04 s\n",
      "Operator `forward` ran in 0.03 s\n",
      "Operator `forward` ran in 0.03 s\n",
      "Operator `forward` ran in 0.03 s\n",
      "Operator `forward` ran in 0.04 s\n",
      "Operator `forward` ran in 0.04 s\n",
      "Operator `forward` ran in 0.06 s\n"
     ]
    },
    {
     "name": "stdout",
     "output_type": "stream",
     "text": [
      "FWI iteration no: 4; function value: 115622.29\n",
      "(α, misfit) = "
     ]
    },
    {
     "name": "stderr",
     "output_type": "stream",
     "text": [
      "Operator `forward` ran in 0.04 s\n",
      "Operator `gradient` ran in 0.05 s\n",
      "Operator `forward` ran in 0.04 s\n",
      "Operator `gradient` ran in 0.05 s\n",
      "Operator `forward` ran in 0.04 s\n",
      "Operator `gradient` ran in 0.05 s\n",
      "Operator `forward` ran in 0.04 s\n",
      "Operator `gradient` ran in 0.05 s\n",
      "Operator `forward` ran in 0.04 s\n",
      "Operator `gradient` ran in 0.05 s\n",
      "Operator `forward` ran in 0.05 s\n",
      "Operator `gradient` ran in 0.05 s\n",
      "Operator `forward` ran in 0.04 s\n",
      "Operator `gradient` ran in 0.05 s\n",
      "Operator `forward` ran in 0.04 s\n",
      "Operator `gradient` ran in 0.04 s\n",
      "Operator `forward` ran in 0.04 s\n",
      "Operator `gradient` ran in 0.05 s\n",
      "Operator `forward` ran in 0.04 s\n",
      "Operator `gradient` ran in 0.04 s\n",
      "Operator `forward` ran in 0.04 s\n",
      "Operator `gradient` ran in 0.05 s\n",
      "Operator `forward` ran in 0.05 s\n",
      "Operator `gradient` ran in 0.05 s\n",
      "Operator `forward` ran in 0.04 s\n",
      "Operator `gradient` ran in 0.05 s\n",
      "Operator `forward` ran in 0.04 s\n",
      "Operator `gradient` ran in 0.05 s\n",
      "Operator `forward` ran in 0.04 s\n",
      "Operator `gradient` ran in 0.05 s\n",
      "Operator `forward` ran in 0.04 s\n",
      "Operator `gradient` ran in 0.05 s\n"
     ]
    },
    {
     "name": "stdout",
     "output_type": "stream",
     "text": [
      "(0.1f0, 2.10040125e6)\n"
     ]
    },
    {
     "name": "stderr",
     "output_type": "stream",
     "text": [
      "Operator `forward` ran in 0.04 s\n",
      "Operator `forward` ran in 0.04 s\n",
      "Operator `forward` ran in 0.04 s\n",
      "Operator `forward` ran in 0.04 s\n",
      "Operator `forward` ran in 0.04 s\n",
      "Operator `forward` ran in 0.04 s\n",
      "Operator `forward` ran in 0.04 s\n",
      "Operator `forward` ran in 0.04 s\n",
      "Operator `forward` ran in 0.05 s\n",
      "Operator `forward` ran in 0.05 s\n",
      "Operator `forward` ran in 0.04 s\n",
      "Operator `forward` ran in 0.04 s\n",
      "Operator `forward` ran in 0.04 s\n",
      "Operator `forward` ran in 0.05 s\n",
      "Operator `forward` ran in 0.05 s\n",
      "Operator `forward` ran in 0.04 s\n"
     ]
    },
    {
     "name": "stdout",
     "output_type": "stream",
     "text": [
      "(α, misfit) = (0.024392309457638248, 431695.90625)\n",
      "(α, misfit) = "
     ]
    },
    {
     "name": "stderr",
     "output_type": "stream",
     "text": [
      "Operator `forward` ran in 0.04 s\n",
      "Operator `forward` ran in 0.03 s\n",
      "Operator `forward` ran in 0.04 s\n",
      "Operator `forward` ran in 0.03 s\n",
      "Operator `forward` ran in 0.03 s\n",
      "Operator `forward` ran in 0.03 s\n",
      "Operator `forward` ran in 0.04 s\n",
      "Operator `forward` ran in 0.03 s\n",
      "Operator `forward` ran in 0.04 s\n",
      "Operator `forward` ran in 0.03 s\n",
      "Operator `forward` ran in 0.03 s\n",
      "Operator `forward` ran in 0.03 s\n",
      "Operator `forward` ran in 0.03 s\n",
      "Operator `forward` ran in 0.03 s\n",
      "Operator `forward` ran in 0.04 s\n",
      "Operator `forward` ran in 0.03 s\n"
     ]
    },
    {
     "name": "stdout",
     "output_type": "stream",
     "text": [
      "(0.006357777440286211, 55535.3671875)\n"
     ]
    },
    {
     "name": "stderr",
     "output_type": "stream",
     "text": [
      "Operator `forward` ran in 0.04 s\n",
      "Operator `forward` ran in 0.04 s\n",
      "Operator `forward` ran in 0.04 s\n",
      "Operator `forward` ran in 0.03 s\n",
      "Operator `forward` ran in 0.03 s\n",
      "Operator `forward` ran in 0.03 s\n",
      "Operator `forward` ran in 0.06 s\n",
      "Operator `forward` ran in 0.06 s\n",
      "Operator `forward` ran in 0.06 s\n",
      "Operator `forward` ran in 0.03 s\n",
      "Operator `forward` ran in 0.06 s\n",
      "Operator `forward` ran in 0.07 s\n",
      "Operator `forward` ran in 0.07 s\n",
      "Operator `forward` ran in 0.07 s\n",
      "Operator `forward` ran in 0.07 s\n",
      "Operator `forward` ran in 0.07 s\n"
     ]
    },
    {
     "name": "stdout",
     "output_type": "stream",
     "text": [
      "FWI iteration no: 5; function value: 69395.12\n",
      "(α, misfit) = "
     ]
    },
    {
     "name": "stderr",
     "output_type": "stream",
     "text": [
      "Operator `forward` ran in 0.04 s\n",
      "Operator `gradient` ran in 0.08 s\n",
      "Operator `forward` ran in 0.04 s\n",
      "Operator `gradient` ran in 0.05 s\n",
      "Operator `forward` ran in 0.04 s\n",
      "Operator `gradient` ran in 0.04 s\n",
      "Operator `forward` ran in 0.04 s\n",
      "Operator `gradient` ran in 0.05 s\n",
      "Operator `forward` ran in 0.04 s\n",
      "Operator `gradient` ran in 0.05 s\n",
      "Operator `forward` ran in 0.04 s\n",
      "Operator `gradient` ran in 0.05 s\n",
      "Operator `forward` ran in 0.04 s\n",
      "Operator `gradient` ran in 0.07 s\n",
      "Operator `forward` ran in 0.04 s\n",
      "Operator `gradient` ran in 0.05 s\n",
      "Operator `forward` ran in 0.04 s\n",
      "Operator `gradient` ran in 0.04 s\n",
      "Operator `forward` ran in 0.04 s\n",
      "Operator `gradient` ran in 0.04 s\n",
      "Operator `forward` ran in 0.04 s\n",
      "Operator `gradient` ran in 0.04 s\n",
      "Operator `forward` ran in 0.04 s\n",
      "Operator `gradient` ran in 0.04 s\n",
      "Operator `forward` ran in 0.04 s\n",
      "Operator `gradient` ran in 0.04 s\n",
      "Operator `forward` ran in 0.04 s\n",
      "Operator `gradient` ran in 0.05 s\n",
      "Operator `forward` ran in 0.04 s\n",
      "Operator `gradient` ran in 0.05 s\n",
      "Operator `forward` ran in 0.04 s\n",
      "Operator `gradient` ran in 0.05 s\n"
     ]
    },
    {
     "name": "stdout",
     "output_type": "stream",
     "text": [
      "(0.1f0, 427530.59375)\n"
     ]
    },
    {
     "name": "stderr",
     "output_type": "stream",
     "text": [
      "Operator `forward` ran in 0.03 s\n",
      "Operator `forward` ran in 0.04 s\n",
      "Operator `forward` ran in 0.04 s\n",
      "Operator `forward` ran in 0.04 s\n",
      "Operator `forward` ran in 0.04 s\n",
      "Operator `forward` ran in 0.04 s\n",
      "Operator `forward` ran in 0.04 s\n",
      "Operator `forward` ran in 0.04 s\n",
      "Operator `forward` ran in 0.04 s\n",
      "Operator `forward` ran in 0.03 s\n",
      "Operator `forward` ran in 0.04 s\n",
      "Operator `forward` ran in 0.04 s\n",
      "Operator `forward` ran in 0.04 s\n",
      "Operator `forward` ran in 0.04 s\n",
      "Operator `forward` ran in 0.04 s\n",
      "Operator `forward` ran in 0.04 s\n"
     ]
    },
    {
     "name": "stdout",
     "output_type": "stream",
     "text": [
      "(α, misfit) = (0.025453382951319922, 51400.3515625)\n",
      "FWI iteration no: "
     ]
    },
    {
     "name": "stderr",
     "output_type": "stream",
     "text": [
      "Operator `forward` ran in 0.04 s\n",
      "Operator `forward` ran in 0.03 s\n",
      "Operator `forward` ran in 0.03 s\n",
      "Operator `forward` ran in 0.03 s\n",
      "Operator `forward` ran in 0.03 s\n",
      "Operator `forward` ran in 0.04 s\n",
      "Operator `forward` ran in 0.03 s\n",
      "Operator `forward` ran in 0.03 s\n",
      "Operator `forward` ran in 0.03 s\n",
      "Operator `forward` ran in 0.03 s\n",
      "Operator `forward` ran in 0.03 s\n",
      "Operator `forward` ran in 0.03 s\n",
      "Operator `forward` ran in 0.03 s\n",
      "Operator `forward` ran in 0.03 s\n",
      "Operator `forward` ran in 0.03 s\n",
      "Operator `forward` ran in 0.03 s\n"
     ]
    },
    {
     "name": "stdout",
     "output_type": "stream",
     "text": [
      "6; function value: 65322.977\n"
     ]
    },
    {
     "name": "stderr",
     "output_type": "stream",
     "text": [
      "Operator `forward` ran in 0.04 s\n",
      "Operator `gradient` ran in 0.05 s\n",
      "Operator `forward` ran in 0.04 s\n",
      "Operator `gradient` ran in 0.05 s\n",
      "Operator `forward` ran in 0.04 s\n",
      "Operator `gradient` ran in 0.05 s\n",
      "Operator `forward` ran in 0.05 s\n",
      "Operator `gradient` ran in 0.05 s\n",
      "Operator `forward` ran in 0.04 s\n",
      "Operator `gradient` ran in 0.05 s\n",
      "Operator `forward` ran in 0.04 s\n",
      "Operator `gradient` ran in 0.05 s\n",
      "Operator `forward` ran in 0.04 s\n",
      "Operator `gradient` ran in 0.05 s\n",
      "Operator `forward` ran in 0.04 s\n",
      "Operator `gradient` ran in 0.05 s\n",
      "Operator `forward` ran in 0.04 s\n",
      "Operator `gradient` ran in 0.04 s\n",
      "Operator `forward` ran in 0.04 s\n",
      "Operator `gradient` ran in 0.05 s\n",
      "Operator `forward` ran in 0.04 s\n",
      "Operator `gradient` ran in 0.04 s\n",
      "Operator `forward` ran in 0.04 s\n",
      "Operator `gradient` ran in 0.05 s\n",
      "Operator `forward` ran in 0.04 s\n",
      "Operator `gradient` ran in 0.04 s\n",
      "Operator `forward` ran in 0.04 s\n",
      "Operator `gradient` ran in 0.05 s\n",
      "Operator `forward` ran in 0.04 s\n",
      "Operator `gradient` ran in 0.05 s\n",
      "Operator `forward` ran in 0.04 s\n",
      "Operator `gradient` ran in 0.04 s\n"
     ]
    },
    {
     "name": "stdout",
     "output_type": "stream",
     "text": [
      "(α, misfit) = (0.1f0, 1.55134325e6)\n",
      "(α, misfit) = "
     ]
    },
    {
     "name": "stderr",
     "output_type": "stream",
     "text": [
      "Operator `forward` ran in 0.04 s\n",
      "Operator `forward` ran in 0.04 s\n",
      "Operator `forward` ran in 0.04 s\n",
      "Operator `forward` ran in 0.04 s\n",
      "Operator `forward` ran in 0.05 s\n",
      "Operator `forward` ran in 0.04 s\n",
      "Operator `forward` ran in 0.05 s\n",
      "Operator `forward` ran in 0.04 s\n",
      "Operator `forward` ran in 0.04 s\n",
      "Operator `forward` ran in 0.05 s\n",
      "Operator `forward` ran in 0.05 s\n",
      "Operator `forward` ran in 0.05 s\n",
      "Operator `forward` ran in 0.05 s\n",
      "Operator `forward` ran in 0.04 s\n",
      "Operator `forward` ran in 0.06 s\n",
      "Operator `forward` ran in 0.04 s\n"
     ]
    },
    {
     "name": "stdout",
     "output_type": "stream",
     "text": [
      "(0.022957953860972272, 381602.59375)\n"
     ]
    },
    {
     "name": "stderr",
     "output_type": "stream",
     "text": [
      "Operator `forward` ran in 0.04 s\n",
      "Operator `forward` ran in 0.04 s\n",
      "Operator `forward` ran in 0.03 s\n",
      "Operator `forward` ran in 0.04 s\n",
      "Operator `forward` ran in 0.03 s\n",
      "Operator `forward` ran in 0.03 s\n",
      "Operator `forward` ran in 0.04 s\n",
      "Operator `forward` ran in 0.03 s\n",
      "Operator `forward` ran in 0.04 s\n",
      "Operator `forward` ran in 0.04 s\n",
      "Operator `forward` ran in 0.03 s\n",
      "Operator `forward` ran in 0.03 s\n",
      "Operator `forward` ran in 0.04 s\n",
      "Operator `forward` ran in 0.04 s\n",
      "Operator `forward` ran in 0.04 s\n",
      "Operator `forward` ran in 0.04 s\n"
     ]
    },
    {
     "name": "stdout",
     "output_type": "stream",
     "text": [
      "(α, misfit) = (0.004744695940363873, 29601.978515625)\n",
      "FWI iteration no: "
     ]
    },
    {
     "name": "stderr",
     "output_type": "stream",
     "text": [
      "Operator `forward` ran in 0.04 s\n",
      "Operator `forward` ran in 0.03 s\n",
      "Operator `forward` ran in 0.04 s\n",
      "Operator `forward` ran in 0.04 s\n",
      "Operator `forward` ran in 0.04 s\n",
      "Operator `forward` ran in 0.04 s\n",
      "Operator `forward` ran in 0.03 s\n",
      "Operator `forward` ran in 0.04 s\n",
      "Operator `forward` ran in 0.04 s\n",
      "Operator `forward` ran in 0.04 s\n",
      "Operator `forward` ran in 0.04 s\n",
      "Operator `forward` ran in 0.03 s\n",
      "Operator `forward` ran in 0.03 s\n",
      "Operator `forward` ran in 0.04 s\n",
      "Operator `forward` ran in 0.04 s\n",
      "Operator `forward` ran in 0.04 s\n"
     ]
    },
    {
     "name": "stdout",
     "output_type": "stream",
     "text": [
      "7; function value: 43502.566\n"
     ]
    },
    {
     "name": "stderr",
     "output_type": "stream",
     "text": [
      "Operator `forward` ran in 0.04 s\n",
      "Operator `gradient` ran in 0.04 s\n",
      "Operator `forward` ran in 0.04 s\n",
      "Operator `gradient` ran in 0.04 s\n",
      "Operator `forward` ran in 0.04 s\n",
      "Operator `gradient` ran in 0.04 s\n",
      "Operator `forward` ran in 0.04 s\n",
      "Operator `gradient` ran in 0.04 s\n",
      "Operator `forward` ran in 0.04 s\n",
      "Operator `gradient` ran in 0.05 s\n",
      "Operator `forward` ran in 0.04 s\n",
      "Operator `gradient` ran in 0.04 s\n",
      "Operator `forward` ran in 0.04 s\n",
      "Operator `gradient` ran in 0.05 s\n",
      "Operator `forward` ran in 0.04 s\n",
      "Operator `gradient` ran in 0.05 s\n",
      "Operator `forward` ran in 0.05 s\n",
      "Operator `gradient` ran in 0.05 s\n",
      "Operator `forward` ran in 0.04 s\n",
      "Operator `gradient` ran in 0.05 s\n",
      "Operator `forward` ran in 0.05 s\n",
      "Operator `gradient` ran in 0.05 s\n",
      "Operator `forward` ran in 0.04 s\n",
      "Operator `gradient` ran in 0.05 s\n",
      "Operator `forward` ran in 0.04 s\n",
      "Operator `gradient` ran in 0.05 s\n",
      "Operator `forward` ran in 0.05 s\n",
      "Operator `gradient` ran in 0.05 s\n",
      "Operator `forward` ran in 0.04 s\n",
      "Operator `gradient` ran in 0.05 s\n",
      "Operator `forward` ran in 0.04 s\n",
      "Operator `gradient` ran in 0.04 s\n"
     ]
    },
    {
     "name": "stdout",
     "output_type": "stream",
     "text": [
      "(α, misfit) = (0.1f0, 397991.96875)\n",
      "(α, misfit) = "
     ]
    },
    {
     "name": "stderr",
     "output_type": "stream",
     "text": [
      "Operator `forward` ran in 0.03 s\n",
      "Operator `forward` ran in 0.03 s\n",
      "Operator `forward` ran in 0.05 s\n",
      "Operator `forward` ran in 0.04 s\n",
      "Operator `forward` ran in 0.04 s\n",
      "Operator `forward` ran in 0.04 s\n",
      "Operator `forward` ran in 0.04 s\n",
      "Operator `forward` ran in 0.04 s\n",
      "Operator `forward` ran in 0.04 s\n",
      "Operator `forward` ran in 0.04 s\n",
      "Operator `forward` ran in 0.04 s\n",
      "Operator `forward` ran in 0.03 s\n",
      "Operator `forward` ran in 0.04 s\n",
      "Operator `forward` ran in 0.04 s\n",
      "Operator `forward` ran in 0.05 s\n",
      "Operator `forward` ran in 0.05 s\n"
     ]
    },
    {
     "name": "stdout",
     "output_type": "stream",
     "text": [
      "(0.021150563209983486, 34920.046875)\n"
     ]
    },
    {
     "name": "stderr",
     "output_type": "stream",
     "text": [
      "Operator `forward` ran in 0.05 s\n",
      "Operator `forward` ran in 0.06 s\n",
      "Operator `forward` ran in 0.04 s\n",
      "Operator `forward` ran in 0.04 s\n",
      "Operator `forward` ran in 0.05 s\n",
      "Operator `forward` ran in 0.03 s\n",
      "Operator `forward` ran in 0.04 s\n",
      "Operator `forward` ran in 0.04 s\n",
      "Operator `forward` ran in 0.04 s\n",
      "Operator `forward` ran in 0.04 s\n",
      "Operator `forward` ran in 0.04 s\n",
      "Operator `forward` ran in 0.04 s\n",
      "Operator `forward` ran in 0.04 s\n",
      "Operator `forward` ran in 0.04 s\n",
      "Operator `forward` ran in 0.04 s\n",
      "Operator `forward` ran in 0.05 s\n"
     ]
    },
    {
     "name": "stdout",
     "output_type": "stream",
     "text": [
      "FWI iteration no: 8; function value: 48859.336\n",
      "(α, misfit) = "
     ]
    },
    {
     "name": "stderr",
     "output_type": "stream",
     "text": [
      "Operator `forward` ran in 0.04 s\n",
      "Operator `gradient` ran in 0.05 s\n",
      "Operator `forward` ran in 0.05 s\n",
      "Operator `gradient` ran in 0.05 s\n",
      "Operator `forward` ran in 0.04 s\n",
      "Operator `gradient` ran in 0.04 s\n",
      "Operator `forward` ran in 0.04 s\n",
      "Operator `gradient` ran in 0.04 s\n",
      "Operator `forward` ran in 0.04 s\n",
      "Operator `gradient` ran in 0.05 s\n",
      "Operator `forward` ran in 0.04 s\n",
      "Operator `gradient` ran in 0.04 s\n",
      "Operator `forward` ran in 0.04 s\n",
      "Operator `gradient` ran in 0.05 s\n",
      "Operator `forward` ran in 0.04 s\n",
      "Operator `gradient` ran in 0.05 s\n",
      "Operator `forward` ran in 0.04 s\n",
      "Operator `gradient` ran in 0.04 s\n",
      "Operator `forward` ran in 0.04 s\n",
      "Operator `gradient` ran in 0.04 s\n",
      "Operator `forward` ran in 0.04 s\n",
      "Operator `gradient` ran in 0.05 s\n",
      "Operator `forward` ran in 0.04 s\n",
      "Operator `gradient` ran in 0.04 s\n",
      "Operator `forward` ran in 0.04 s\n",
      "Operator `gradient` ran in 0.05 s\n",
      "Operator `forward` ran in 0.04 s\n",
      "Operator `gradient` ran in 0.04 s\n",
      "Operator `forward` ran in 0.04 s\n",
      "Operator `gradient` ran in 0.04 s\n",
      "Operator `forward` ran in 0.04 s\n",
      "Operator `gradient` ran in 0.05 s\n"
     ]
    },
    {
     "name": "stdout",
     "output_type": "stream",
     "text": [
      "(0.1f0, 1.602762e6)\n"
     ]
    },
    {
     "name": "stderr",
     "output_type": "stream",
     "text": [
      "Operator `forward` ran in 0.04 s\n",
      "Operator `forward` ran in 0.05 s\n",
      "Operator `forward` ran in 0.05 s\n",
      "Operator `forward` ran in 0.05 s\n",
      "Operator `forward` ran in 0.05 s\n",
      "Operator `forward` ran in 0.04 s\n",
      "Operator `forward` ran in 0.05 s\n",
      "Operator `forward` ran in 0.04 s\n",
      "Operator `forward` ran in 0.05 s\n",
      "Operator `forward` ran in 0.06 s\n",
      "Operator `forward` ran in 0.06 s\n",
      "Operator `forward` ran in 0.07 s\n",
      "Operator `forward` ran in 0.07 s\n",
      "Operator `forward` ran in 0.07 s\n",
      "Operator `forward` ran in 0.07 s\n",
      "Operator `forward` ran in 0.04 s\n"
     ]
    },
    {
     "name": "stdout",
     "output_type": "stream",
     "text": [
      "(α, misfit) = (0.020363352892543787, 310922.6875)\n",
      "(α, misfit) = "
     ]
    },
    {
     "name": "stderr",
     "output_type": "stream",
     "text": [
      "Operator `forward` ran in 0.05 s\n",
      "Operator `forward` ran in 0.06 s\n",
      "Operator `forward` ran in 0.07 s\n",
      "Operator `forward` ran in 0.07 s\n",
      "Operator `forward` ran in 0.06 s\n",
      "Operator `forward` ran in 0.06 s\n",
      "Operator `forward` ran in 0.07 s\n",
      "Operator `forward` ran in 0.06 s\n",
      "Operator `forward` ran in 0.07 s\n",
      "Operator `forward` ran in 0.03 s\n",
      "Operator `forward` ran in 0.06 s\n",
      "Operator `forward` ran in 0.06 s\n",
      "Operator `forward` ran in 0.06 s\n",
      "Operator `forward` ran in 0.04 s\n",
      "Operator `forward` ran in 0.04 s\n",
      "Operator `forward` ran in 0.04 s\n"
     ]
    },
    {
     "name": "stdout",
     "output_type": "stream",
     "text": [
      "(0.004054544766775466, 19341.005859375)\n"
     ]
    },
    {
     "name": "stderr",
     "output_type": "stream",
     "text": [
      "Operator `forward` ran in 0.04 s\n",
      "Operator `forward` ran in 0.04 s\n",
      "Operator `forward` ran in 0.04 s\n",
      "Operator `forward` ran in 0.03 s\n",
      "Operator `forward` ran in 0.04 s\n",
      "Operator `forward` ran in 0.04 s\n",
      "Operator `forward` ran in 0.04 s\n",
      "Operator `forward` ran in 0.04 s\n",
      "Operator `forward` ran in 0.04 s\n",
      "Operator `forward` ran in 0.04 s\n",
      "Operator `forward` ran in 0.04 s\n",
      "Operator `forward` ran in 0.04 s\n",
      "Operator `forward` ran in 0.04 s\n",
      "Operator `forward` ran in 0.03 s\n",
      "Operator `forward` ran in 0.04 s\n",
      "Operator `forward` ran in 0.05 s\n"
     ]
    },
    {
     "name": "stdout",
     "output_type": "stream",
     "text": [
      "FWI iteration no: 9; function value: 33257.52\n",
      "(α, misfit) = "
     ]
    },
    {
     "name": "stderr",
     "output_type": "stream",
     "text": [
      "Operator `forward` ran in 0.04 s\n",
      "Operator `gradient` ran in 0.05 s\n",
      "Operator `forward` ran in 0.04 s\n",
      "Operator `gradient` ran in 0.05 s\n",
      "Operator `forward` ran in 0.04 s\n",
      "Operator `gradient` ran in 0.05 s\n",
      "Operator `forward` ran in 0.04 s\n",
      "Operator `gradient` ran in 0.05 s\n",
      "Operator `forward` ran in 0.04 s\n",
      "Operator `gradient` ran in 0.05 s\n",
      "Operator `forward` ran in 0.04 s\n",
      "Operator `gradient` ran in 0.07 s\n",
      "Operator `forward` ran in 0.04 s\n",
      "Operator `gradient` ran in 0.05 s\n",
      "Operator `forward` ran in 0.04 s\n",
      "Operator `gradient` ran in 0.05 s\n",
      "Operator `forward` ran in 0.04 s\n",
      "Operator `gradient` ran in 0.05 s\n",
      "Operator `forward` ran in 0.04 s\n",
      "Operator `gradient` ran in 0.05 s\n",
      "Operator `forward` ran in 0.04 s\n",
      "Operator `gradient` ran in 0.05 s\n",
      "Operator `forward` ran in 0.04 s\n",
      "Operator `gradient` ran in 0.04 s\n",
      "Operator `forward` ran in 0.04 s\n",
      "Operator `gradient` ran in 0.05 s\n",
      "Operator `forward` ran in 0.04 s\n",
      "Operator `gradient` ran in 0.05 s\n",
      "Operator `forward` ran in 0.04 s\n",
      "Operator `gradient` ran in 0.05 s\n",
      "Operator `forward` ran in 0.04 s\n",
      "Operator `gradient` ran in 0.05 s\n"
     ]
    },
    {
     "name": "stdout",
     "output_type": "stream",
     "text": [
      "(0.1f0, 410074.6875)\n"
     ]
    },
    {
     "name": "stderr",
     "output_type": "stream",
     "text": [
      "Operator `forward` ran in 0.03 s\n",
      "Operator `forward` ran in 0.04 s\n",
      "Operator `forward` ran in 0.04 s\n",
      "Operator `forward` ran in 0.03 s\n",
      "Operator `forward` ran in 0.04 s\n",
      "Operator `forward` ran in 0.04 s\n",
      "Operator `forward` ran in 0.04 s\n",
      "Operator `forward` ran in 0.04 s\n",
      "Operator `forward` ran in 0.04 s\n",
      "Operator `forward` ran in 0.04 s\n",
      "Operator `forward` ran in 0.04 s\n",
      "Operator `forward` ran in 0.04 s\n",
      "Operator `forward` ran in 0.04 s\n",
      "Operator `forward` ran in 0.03 s\n",
      "Operator `forward` ran in 0.04 s\n",
      "Operator `forward` ran in 0.04 s\n"
     ]
    },
    {
     "name": "stdout",
     "output_type": "stream",
     "text": [
      "(α, misfit) = (0.019100374549537925, 26921.56640625)\n",
      "FWI iteration no: "
     ]
    },
    {
     "name": "stderr",
     "output_type": "stream",
     "text": [
      "Operator `forward` ran in 0.05 s\n",
      "Operator `forward` ran in 0.04 s\n",
      "Operator `forward` ran in 0.04 s\n",
      "Operator `forward` ran in 0.03 s\n",
      "Operator `forward` ran in 0.04 s\n",
      "Operator `forward` ran in 0.03 s\n",
      "Operator `forward` ran in 0.04 s\n",
      "Operator `forward` ran in 0.03 s\n",
      "Operator `forward` ran in 0.04 s\n",
      "Operator `forward` ran in 0.04 s\n",
      "Operator `forward` ran in 0.04 s\n",
      "Operator `forward` ran in 0.03 s\n",
      "Operator `forward` ran in 0.04 s\n",
      "Operator `forward` ran in 0.03 s\n",
      "Operator `forward` ran in 0.03 s\n",
      "Operator `forward` ran in 0.03 s\n"
     ]
    },
    {
     "name": "stdout",
     "output_type": "stream",
     "text": [
      "10; function value: 40864.316\n"
     ]
    },
    {
     "name": "stderr",
     "output_type": "stream",
     "text": [
      "Operator `forward` ran in 0.04 s\n",
      "Operator `gradient` ran in 0.05 s\n",
      "Operator `forward` ran in 0.04 s\n",
      "Operator `gradient` ran in 0.05 s\n",
      "Operator `forward` ran in 0.04 s\n",
      "Operator `gradient` ran in 0.06 s\n",
      "Operator `forward` ran in 0.05 s\n",
      "Operator `gradient` ran in 0.06 s\n",
      "Operator `forward` ran in 0.04 s\n",
      "Operator `gradient` ran in 0.06 s\n",
      "Operator `forward` ran in 0.06 s\n",
      "Operator `gradient` ran in 0.05 s\n",
      "Operator `forward` ran in 0.04 s\n",
      "Operator `gradient` ran in 0.04 s\n",
      "Operator `forward` ran in 0.04 s\n",
      "Operator `gradient` ran in 0.05 s\n",
      "Operator `forward` ran in 0.04 s\n",
      "Operator `gradient` ran in 0.05 s\n",
      "Operator `forward` ran in 0.04 s\n",
      "Operator `gradient` ran in 0.05 s\n",
      "Operator `forward` ran in 0.04 s\n",
      "Operator `gradient` ran in 0.05 s\n",
      "Operator `forward` ran in 0.04 s\n",
      "Operator `gradient` ran in 0.05 s\n",
      "Operator `forward` ran in 0.04 s\n",
      "Operator `gradient` ran in 0.05 s\n",
      "Operator `forward` ran in 0.04 s\n",
      "Operator `gradient` ran in 0.05 s\n",
      "Operator `forward` ran in 0.04 s\n",
      "Operator `gradient` ran in 0.05 s\n",
      "Operator `forward` ran in 0.04 s\n",
      "Operator `gradient` ran in 0.05 s\n"
     ]
    },
    {
     "name": "stdout",
     "output_type": "stream",
     "text": [
      "(α, misfit) = (0.1f0, 1.576798125e6)\n",
      "(α, misfit) = "
     ]
    },
    {
     "name": "stderr",
     "output_type": "stream",
     "text": [
      "Operator `forward` ran in 0.04 s\n",
      "Operator `forward` ran in 0.04 s\n",
      "Operator `forward` ran in 0.04 s\n",
      "Operator `forward` ran in 0.04 s\n",
      "Operator `forward` ran in 0.04 s\n",
      "Operator `forward` ran in 0.04 s\n",
      "Operator `forward` ran in 0.04 s\n",
      "Operator `forward` ran in 0.04 s\n",
      "Operator `forward` ran in 0.04 s\n",
      "Operator `forward` ran in 0.04 s\n",
      "Operator `forward` ran in 0.05 s\n",
      "Operator `forward` ran in 0.04 s\n",
      "Operator `forward` ran in 0.04 s\n",
      "Operator `forward` ran in 0.04 s\n",
      "Operator `forward` ran in 0.04 s\n",
      "Operator `forward` ran in 0.05 s\n"
     ]
    },
    {
     "name": "stdout",
     "output_type": "stream",
     "text": [
      "(0.019409889770600076, 289806.6875)\n"
     ]
    },
    {
     "name": "stderr",
     "output_type": "stream",
     "text": [
      "Operator `forward` ran in 0.04 s\n",
      "Operator `forward` ran in 0.03 s\n",
      "Operator `forward` ran in 0.04 s\n",
      "Operator `forward` ran in 0.04 s\n",
      "Operator `forward` ran in 0.07 s\n",
      "Operator `forward` ran in 0.06 s\n",
      "Operator `forward` ran in 0.04 s\n",
      "Operator `forward` ran in 0.05 s\n",
      "Operator `forward` ran in 0.05 s\n",
      "Operator `forward` ran in 0.05 s\n",
      "Operator `forward` ran in 0.04 s\n",
      "Operator `forward` ran in 0.03 s\n",
      "Operator `forward` ran in 0.04 s\n",
      "Operator `forward` ran in 0.04 s\n",
      "Operator `forward` ran in 0.04 s\n",
      "Operator `forward` ran in 0.04 s\n"
     ]
    },
    {
     "name": "stdout",
     "output_type": "stream",
     "text": [
      "(α, misfit) = (0.003692053707193776, 13767.857421875)\n",
      "FWI iteration no: "
     ]
    },
    {
     "name": "stderr",
     "output_type": "stream",
     "text": [
      "Operator `forward` ran in 0.04 s\n",
      "Operator `forward` ran in 0.03 s\n",
      "Operator `forward` ran in 0.04 s\n",
      "Operator `forward` ran in 0.03 s\n",
      "Operator `forward` ran in 0.03 s\n",
      "Operator `forward` ran in 0.03 s\n",
      "Operator `forward` ran in 0.04 s\n",
      "Operator `forward` ran in 0.04 s\n",
      "Operator `forward` ran in 0.04 s\n",
      "Operator `forward` ran in 0.03 s\n",
      "Operator `forward` ran in 0.03 s\n",
      "Operator `forward` ran in 0.04 s\n",
      "Operator `forward` ran in 0.03 s\n",
      "Operator `forward` ran in 0.03 s\n",
      "Operator `forward` ran in 0.04 s\n",
      "Operator `forward` ran in 0.03 s\n"
     ]
    },
    {
     "name": "stdout",
     "output_type": "stream",
     "text": [
      "11; function value: 27690.258\n"
     ]
    },
    {
     "name": "stderr",
     "output_type": "stream",
     "text": [
      "Operator `forward` ran in 0.04 s\n",
      "Operator `gradient` ran in 0.05 s\n",
      "Operator `forward` ran in 0.04 s\n",
      "Operator `gradient` ran in 0.04 s\n",
      "Operator `forward` ran in 0.04 s\n",
      "Operator `gradient` ran in 0.05 s\n",
      "Operator `forward` ran in 0.04 s\n",
      "Operator `gradient` ran in 0.05 s\n",
      "Operator `forward` ran in 0.04 s\n",
      "Operator `gradient` ran in 0.05 s\n",
      "Operator `forward` ran in 0.04 s\n",
      "Operator `gradient` ran in 0.05 s\n",
      "Operator `forward` ran in 0.04 s\n",
      "Operator `gradient` ran in 0.05 s\n",
      "Operator `forward` ran in 0.04 s\n",
      "Operator `gradient` ran in 0.05 s\n",
      "Operator `forward` ran in 0.04 s\n",
      "Operator `gradient` ran in 0.04 s\n",
      "Operator `forward` ran in 0.04 s\n",
      "Operator `gradient` ran in 0.04 s\n",
      "Operator `forward` ran in 0.04 s\n",
      "Operator `gradient` ran in 0.04 s\n",
      "Operator `forward` ran in 0.04 s\n",
      "Operator `gradient` ran in 0.04 s\n",
      "Operator `forward` ran in 0.04 s\n",
      "Operator `gradient` ran in 0.05 s\n",
      "Operator `forward` ran in 0.04 s\n",
      "Operator `gradient` ran in 0.05 s\n",
      "Operator `forward` ran in 0.04 s\n",
      "Operator `gradient` ran in 0.04 s\n",
      "Operator `forward` ran in 0.04 s\n",
      "Operator `gradient` ran in 0.05 s\n"
     ]
    },
    {
     "name": "stdout",
     "output_type": "stream",
     "text": [
      "(α, misfit) = (0.1f0, 420225.5625)\n",
      "(α, misfit) = "
     ]
    },
    {
     "name": "stderr",
     "output_type": "stream",
     "text": [
      "Operator `forward` ran in 0.03 s\n",
      "Operator `forward` ran in 0.04 s\n",
      "Operator `forward` ran in 0.05 s\n",
      "Operator `forward` ran in 0.05 s\n",
      "Operator `forward` ran in 0.04 s\n",
      "Operator `forward` ran in 0.03 s\n",
      "Operator `forward` ran in 0.04 s\n",
      "Operator `forward` ran in 0.04 s\n",
      "Operator `forward` ran in 0.04 s\n",
      "Operator `forward` ran in 0.04 s\n",
      "Operator `forward` ran in 0.04 s\n",
      "Operator `forward` ran in 0.04 s\n",
      "Operator `forward` ran in 0.04 s\n",
      "Operator `forward` ran in 0.04 s\n",
      "Operator `forward` ran in 0.04 s\n",
      "Operator `forward` ran in 0.03 s\n"
     ]
    },
    {
     "name": "stdout",
     "output_type": "stream",
     "text": [
      "(0.01772864826451301, 23111.775390625)\n"
     ]
    },
    {
     "name": "stderr",
     "output_type": "stream",
     "text": [
      "Operator `forward` ran in 0.04 s\n",
      "Operator `forward` ran in 0.04 s\n",
      "Operator `forward` ran in 0.04 s\n",
      "Operator `forward` ran in 0.04 s\n",
      "Operator `forward` ran in 0.03 s\n",
      "Operator `forward` ran in 0.04 s\n",
      "Operator `forward` ran in 0.04 s\n",
      "Operator `forward` ran in 0.03 s\n",
      "Operator `forward` ran in 0.03 s\n",
      "Operator `forward` ran in 0.03 s\n",
      "Operator `forward` ran in 0.04 s\n",
      "Operator `forward` ran in 0.04 s\n",
      "Operator `forward` ran in 0.04 s\n",
      "Operator `forward` ran in 0.03 s\n",
      "Operator `forward` ran in 0.03 s\n",
      "Operator `forward` ran in 0.03 s\n"
     ]
    },
    {
     "name": "stdout",
     "output_type": "stream",
     "text": [
      "FWI iteration no: 12; function value: 37064.664\n",
      "(α, misfit) = "
     ]
    },
    {
     "name": "stderr",
     "output_type": "stream",
     "text": [
      "Operator `forward` ran in 0.04 s\n",
      "Operator `gradient` ran in 0.05 s\n",
      "Operator `forward` ran in 0.04 s\n",
      "Operator `gradient` ran in 0.05 s\n",
      "Operator `forward` ran in 0.04 s\n",
      "Operator `gradient` ran in 0.05 s\n",
      "Operator `forward` ran in 0.04 s\n",
      "Operator `gradient` ran in 0.04 s\n",
      "Operator `forward` ran in 0.04 s\n",
      "Operator `gradient` ran in 0.05 s\n",
      "Operator `forward` ran in 0.04 s\n",
      "Operator `gradient` ran in 0.05 s\n",
      "Operator `forward` ran in 0.04 s\n",
      "Operator `gradient` ran in 0.05 s\n",
      "Operator `forward` ran in 0.04 s\n",
      "Operator `gradient` ran in 0.05 s\n",
      "Operator `forward` ran in 0.04 s\n",
      "Operator `gradient` ran in 0.05 s\n",
      "Operator `forward` ran in 0.04 s\n",
      "Operator `gradient` ran in 0.05 s\n",
      "Operator `forward` ran in 0.04 s\n",
      "Operator `gradient` ran in 0.05 s\n",
      "Operator `forward` ran in 0.04 s\n",
      "Operator `gradient` ran in 0.05 s\n",
      "Operator `forward` ran in 0.04 s\n",
      "Operator `gradient` ran in 0.05 s\n",
      "Operator `forward` ran in 0.04 s\n",
      "Operator `gradient` ran in 0.04 s\n",
      "Operator `forward` ran in 0.04 s\n",
      "Operator `gradient` ran in 0.04 s\n",
      "Operator `forward` ran in 0.04 s\n",
      "Operator `gradient` ran in 0.05 s\n"
     ]
    },
    {
     "name": "stdout",
     "output_type": "stream",
     "text": [
      "(0.1f0, 1.520988625e6)\n"
     ]
    },
    {
     "name": "stderr",
     "output_type": "stream",
     "text": [
      "Operator `forward` ran in 0.04 s\n",
      "Operator `forward` ran in 0.05 s\n",
      "Operator `forward` ran in 0.04 s\n",
      "Operator `forward` ran in 0.04 s\n",
      "Operator `forward` ran in 0.04 s\n",
      "Operator `forward` ran in 0.04 s\n",
      "Operator `forward` ran in 0.04 s\n",
      "Operator `forward` ran in 0.04 s\n",
      "Operator `forward` ran in 0.04 s\n",
      "Operator `forward` ran in 0.04 s\n",
      "Operator `forward` ran in 0.04 s\n",
      "Operator `forward` ran in 0.04 s\n",
      "Operator `forward` ran in 0.04 s\n",
      "Operator `forward` ran in 0.04 s\n",
      "Operator `forward` ran in 0.04 s\n",
      "Operator `forward` ran in 0.04 s\n"
     ]
    },
    {
     "name": "stdout",
     "output_type": "stream",
     "text": [
      "(α, misfit) = (0.018889096201452307, 247047.4375)\n",
      "(α, misfit) = "
     ]
    },
    {
     "name": "stderr",
     "output_type": "stream",
     "text": [
      "Operator `forward` ran in 0.04 s\n",
      "Operator `forward` ran in 0.04 s\n",
      "Operator `forward` ran in 0.04 s\n",
      "Operator `forward` ran in 0.03 s\n",
      "Operator `forward` ran in 0.06 s\n",
      "Operator `forward` ran in 0.04 s\n",
      "Operator `forward` ran in 0.04 s\n",
      "Operator `forward` ran in 0.04 s\n",
      "Operator `forward` ran in 0.04 s\n",
      "Operator `forward` ran in 0.04 s\n",
      "Operator `forward` ran in 0.04 s\n",
      "Operator `forward` ran in 0.04 s\n",
      "Operator `forward` ran in 0.03 s\n",
      "Operator `forward` ran in 0.03 s\n",
      "Operator `forward` ran in 0.04 s\n",
      "Operator `forward` ran in 0.04 s\n"
     ]
    },
    {
     "name": "stdout",
     "output_type": "stream",
     "text": [
      "(0.0037518134266096236, 12403.501953125)\n"
     ]
    },
    {
     "name": "stderr",
     "output_type": "stream",
     "text": [
      "Operator `forward` ran in 0.04 s\n",
      "Operator `forward` ran in 0.03 s\n",
      "Operator `forward` ran in 0.03 s\n",
      "Operator `forward` ran in 0.04 s\n",
      "Operator `forward` ran in 0.04 s\n",
      "Operator `forward` ran in 0.04 s\n",
      "Operator `forward` ran in 0.03 s\n",
      "Operator `forward` ran in 0.03 s\n",
      "Operator `forward` ran in 0.03 s\n",
      "Operator `forward` ran in 0.04 s\n",
      "Operator `forward` ran in 0.03 s\n",
      "Operator `forward` ran in 0.04 s\n",
      "Operator `forward` ran in 0.03 s\n",
      "Operator `forward` ran in 0.03 s\n",
      "Operator `forward` ran in 0.04 s\n",
      "Operator `forward` ran in 0.03 s\n"
     ]
    },
    {
     "name": "stdout",
     "output_type": "stream",
     "text": [
      "FWI iteration no: 13; function value: 30742.484\n",
      "(α, misfit) = "
     ]
    },
    {
     "name": "stderr",
     "output_type": "stream",
     "text": [
      "Operator `forward` ran in 0.04 s\n",
      "Operator `gradient` ran in 0.05 s\n",
      "Operator `forward` ran in 0.04 s\n",
      "Operator `gradient` ran in 0.05 s\n",
      "Operator `forward` ran in 0.04 s\n",
      "Operator `gradient` ran in 0.05 s\n",
      "Operator `forward` ran in 0.04 s\n",
      "Operator `gradient` ran in 0.05 s\n",
      "Operator `forward` ran in 0.04 s\n",
      "Operator `gradient` ran in 0.05 s\n",
      "Operator `forward` ran in 0.04 s\n",
      "Operator `gradient` ran in 0.05 s\n",
      "Operator `forward` ran in 0.04 s\n",
      "Operator `gradient` ran in 0.05 s\n",
      "Operator `forward` ran in 0.04 s\n",
      "Operator `gradient` ran in 0.05 s\n",
      "Operator `forward` ran in 0.04 s\n",
      "Operator `gradient` ran in 0.04 s\n",
      "Operator `forward` ran in 0.04 s\n",
      "Operator `gradient` ran in 0.05 s\n",
      "Operator `forward` ran in 0.04 s\n",
      "Operator `gradient` ran in 0.04 s\n",
      "Operator `forward` ran in 0.04 s\n",
      "Operator `gradient` ran in 0.04 s\n",
      "Operator `forward` ran in 0.04 s\n",
      "Operator `gradient` ran in 0.05 s\n",
      "Operator `forward` ran in 0.04 s\n",
      "Operator `gradient` ran in 0.04 s\n",
      "Operator `forward` ran in 0.04 s\n",
      "Operator `gradient` ran in 0.04 s\n",
      "Operator `forward` ran in 0.04 s\n",
      "Operator `gradient` ran in 0.05 s\n"
     ]
    },
    {
     "name": "stdout",
     "output_type": "stream",
     "text": [
      "(0.1f0, 418372.78125)\n"
     ]
    },
    {
     "name": "stderr",
     "output_type": "stream",
     "text": [
      "Operator `forward` ran in 0.03 s\n",
      "Operator `forward` ran in 0.05 s\n",
      "Operator `forward` ran in 0.04 s\n",
      "Operator `forward` ran in 0.04 s\n",
      "Operator `forward` ran in 0.04 s\n",
      "Operator `forward` ran in 0.04 s\n",
      "Operator `forward` ran in 0.05 s\n",
      "Operator `forward` ran in 0.03 s\n",
      "Operator `forward` ran in 0.06 s\n",
      "Operator `forward` ran in 0.07 s\n",
      "Operator `forward` ran in 0.06 s\n",
      "Operator `forward` ran in 0.07 s\n",
      "Operator `forward` ran in 0.06 s\n",
      "Operator `forward` ran in 0.07 s\n",
      "Operator `forward` ran in 0.07 s\n",
      "Operator `forward` ran in 0.07 s\n"
     ]
    },
    {
     "name": "stdout",
     "output_type": "stream",
     "text": [
      "(α, misfit) = (0.018428151264150983, 20295.255859375)\n",
      "FWI iteration no: "
     ]
    },
    {
     "name": "stderr",
     "output_type": "stream",
     "text": [
      "Operator `forward` ran in 0.05 s\n",
      "Operator `forward` ran in 0.03 s\n",
      "Operator `forward` ran in 0.06 s\n",
      "Operator `forward` ran in 0.05 s\n",
      "Operator `forward` ran in 0.07 s\n",
      "Operator `forward` ran in 0.05 s\n",
      "Operator `forward` ran in 0.06 s\n",
      "Operator `forward` ran in 0.05 s\n",
      "Operator `forward` ran in 0.04 s\n",
      "Operator `forward` ran in 0.04 s\n",
      "Operator `forward` ran in 0.04 s\n",
      "Operator `forward` ran in 0.03 s\n",
      "Operator `forward` ran in 0.04 s\n",
      "Operator `forward` ran in 0.03 s\n",
      "Operator `forward` ran in 0.04 s\n",
      "Operator `forward` ran in 0.04 s\n"
     ]
    },
    {
     "name": "stdout",
     "output_type": "stream",
     "text": [
      "14; function value: 40229.113\n"
     ]
    },
    {
     "name": "stderr",
     "output_type": "stream",
     "text": [
      "Operator `forward` ran in 0.04 s\n",
      "Operator `gradient` ran in 0.05 s\n",
      "Operator `forward` ran in 0.04 s\n",
      "Operator `gradient` ran in 0.05 s\n",
      "Operator `forward` ran in 0.04 s\n",
      "Operator `gradient` ran in 0.04 s\n",
      "Operator `forward` ran in 0.04 s\n",
      "Operator `gradient` ran in 0.04 s\n",
      "Operator `forward` ran in 0.04 s\n",
      "Operator `gradient` ran in 0.04 s\n",
      "Operator `forward` ran in 0.04 s\n",
      "Operator `gradient` ran in 0.05 s\n",
      "Operator `forward` ran in 0.04 s\n",
      "Operator `gradient` ran in 0.05 s\n",
      "Operator `forward` ran in 0.04 s\n",
      "Operator `gradient` ran in 0.05 s\n",
      "Operator `forward` ran in 0.04 s\n",
      "Operator `gradient` ran in 0.05 s\n",
      "Operator `forward` ran in 0.04 s\n",
      "Operator `gradient` ran in 0.05 s\n",
      "Operator `forward` ran in 0.04 s\n",
      "Operator `gradient` ran in 0.05 s\n",
      "Operator `forward` ran in 0.04 s\n",
      "Operator `gradient` ran in 0.05 s\n",
      "Operator `forward` ran in 0.05 s\n",
      "Operator `gradient` ran in 0.05 s\n",
      "Operator `forward` ran in 0.04 s\n",
      "Operator `gradient` ran in 0.05 s\n",
      "Operator `forward` ran in 0.04 s\n",
      "Operator `gradient` ran in 0.05 s\n",
      "Operator `forward` ran in 0.04 s\n",
      "Operator `gradient` ran in 0.05 s\n"
     ]
    },
    {
     "name": "stdout",
     "output_type": "stream",
     "text": [
      "(α, misfit) = (0.1f0, 1.584585875e6)\n",
      "(α, misfit) = "
     ]
    },
    {
     "name": "stderr",
     "output_type": "stream",
     "text": [
      "Operator `forward` ran in 0.04 s\n",
      "Operator `forward` ran in 0.04 s\n",
      "Operator `forward` ran in 0.05 s\n",
      "Operator `forward` ran in 0.04 s\n",
      "Operator `forward` ran in 0.04 s\n",
      "Operator `forward` ran in 0.04 s\n",
      "Operator `forward` ran in 0.07 s\n",
      "Operator `forward` ran in 0.07 s\n",
      "Operator `forward` ran in 0.06 s\n",
      "Operator `forward` ran in 0.06 s\n",
      "Operator `forward` ran in 0.06 s\n",
      "Operator `forward` ran in 0.04 s\n",
      "Operator `forward` ran in 0.06 s\n",
      "Operator `forward` ran in 0.06 s\n",
      "Operator `forward` ran in 0.07 s\n",
      "Operator `forward` ran in 0.07 s\n"
     ]
    },
    {
     "name": "stdout",
     "output_type": "stream",
     "text": [
      "(0.017530410258131904, 187790.0)\n"
     ]
    },
    {
     "name": "stderr",
     "output_type": "stream",
     "text": [
      "Operator `forward` ran in 0.04 s\n",
      "Operator `forward` ran in 0.04 s\n",
      "Operator `forward` ran in 0.03 s\n",
      "Operator `forward` ran in 0.05 s\n",
      "Operator `forward` ran in 0.04 s\n",
      "Operator `forward` ran in 0.03 s\n",
      "Operator `forward` ran in 0.04 s\n",
      "Operator `forward` ran in 0.04 s\n",
      "Operator `forward` ran in 0.03 s\n",
      "Operator `forward` ran in 0.04 s\n",
      "Operator `forward` ran in 0.04 s\n",
      "Operator `forward` ran in 0.03 s\n",
      "Operator `forward` ran in 0.03 s\n",
      "Operator `forward` ran in 0.04 s\n",
      "Operator `forward` ran in 0.03 s\n",
      "Operator `forward` ran in 0.04 s\n"
     ]
    },
    {
     "name": "stdout",
     "output_type": "stream",
     "text": [
      "(α, misfit) = (0.00394456323576631, 7370.24365234375)\n",
      "FWI iteration no: "
     ]
    },
    {
     "name": "stderr",
     "output_type": "stream",
     "text": [
      "Operator `forward` ran in 0.05 s\n",
      "Operator `forward` ran in 0.04 s\n",
      "Operator `forward` ran in 0.04 s\n",
      "Operator `forward` ran in 0.05 s\n",
      "Operator `forward` ran in 0.04 s\n",
      "Operator `forward` ran in 0.04 s\n",
      "Operator `forward` ran in 0.03 s\n",
      "Operator `forward` ran in 0.03 s\n",
      "Operator `forward` ran in 0.03 s\n",
      "Operator `forward` ran in 0.03 s\n",
      "Operator `forward` ran in 0.04 s\n",
      "Operator `forward` ran in 0.04 s\n",
      "Operator `forward` ran in 0.04 s\n",
      "Operator `forward` ran in 0.03 s\n",
      "Operator `forward` ran in 0.04 s\n",
      "Operator `forward` ran in 0.04 s\n"
     ]
    },
    {
     "name": "stdout",
     "output_type": "stream",
     "text": [
      "15; function value: 25398.803\n"
     ]
    },
    {
     "name": "stderr",
     "output_type": "stream",
     "text": [
      "Operator `forward` ran in 0.04 s\n",
      "Operator `gradient` ran in 0.05 s\n",
      "Operator `forward` ran in 0.04 s\n",
      "Operator `gradient` ran in 0.05 s\n",
      "Operator `forward` ran in 0.04 s\n",
      "Operator `gradient` ran in 0.05 s\n",
      "Operator `forward` ran in 0.04 s\n",
      "Operator `gradient` ran in 0.04 s\n",
      "Operator `forward` ran in 0.04 s\n",
      "Operator `gradient` ran in 0.05 s\n",
      "Operator `forward` ran in 0.04 s\n",
      "Operator `gradient` ran in 0.05 s\n",
      "Operator `forward` ran in 0.04 s\n",
      "Operator `gradient` ran in 0.05 s\n",
      "Operator `forward` ran in 0.04 s\n",
      "Operator `gradient` ran in 0.07 s\n",
      "Operator `forward` ran in 0.04 s\n",
      "Operator `gradient` ran in 0.05 s\n",
      "Operator `forward` ran in 0.04 s\n",
      "Operator `gradient` ran in 0.05 s\n",
      "Operator `forward` ran in 0.04 s\n",
      "Operator `gradient` ran in 0.05 s\n",
      "Operator `forward` ran in 0.04 s\n",
      "Operator `gradient` ran in 0.05 s\n",
      "Operator `forward` ran in 0.04 s\n",
      "Operator `gradient` ran in 0.04 s\n",
      "Operator `forward` ran in 0.04 s\n",
      "Operator `gradient` ran in 0.05 s\n",
      "Operator `forward` ran in 0.04 s\n",
      "Operator `gradient` ran in 0.05 s\n",
      "Operator `forward` ran in 0.04 s\n",
      "Operator `gradient` ran in 0.05 s\n"
     ]
    },
    {
     "name": "stdout",
     "output_type": "stream",
     "text": [
      "(α, misfit) = (0.1f0, 767122.5625)\n",
      "(α, misfit) = "
     ]
    },
    {
     "name": "stderr",
     "output_type": "stream",
     "text": [
      "Operator `forward` ran in 0.03 s\n",
      "Operator `forward` ran in 0.04 s\n",
      "Operator `forward` ran in 0.04 s\n",
      "Operator `forward` ran in 0.04 s\n",
      "Operator `forward` ran in 0.04 s\n",
      "Operator `forward` ran in 0.04 s\n",
      "Operator `forward` ran in 0.04 s\n",
      "Operator `forward` ran in 0.04 s\n",
      "Operator `forward` ran in 0.04 s\n",
      "Operator `forward` ran in 0.03 s\n",
      "Operator `forward` ran in 0.04 s\n",
      "Operator `forward` ran in 0.04 s\n",
      "Operator `forward` ran in 0.04 s\n",
      "Operator `forward` ran in 0.04 s\n",
      "Operator `forward` ran in 0.04 s\n",
      "Operator `forward` ran in 0.04 s\n"
     ]
    },
    {
     "name": "stdout",
     "output_type": "stream",
     "text": [
      "(0.011688976846003275, 22157.0546875)\n"
     ]
    },
    {
     "name": "stderr",
     "output_type": "stream",
     "text": [
      "Operator `forward` ran in 0.03 s\n",
      "Operator `forward` ran in 0.04 s\n",
      "Operator `forward` ran in 0.03 s\n",
      "Operator `forward` ran in 0.03 s\n",
      "Operator `forward` ran in 0.03 s\n",
      "Operator `forward` ran in 0.03 s\n",
      "Operator `forward` ran in 0.03 s\n",
      "Operator `forward` ran in 0.03 s\n",
      "Operator `forward` ran in 0.03 s\n",
      "Operator `forward` ran in 0.03 s\n",
      "Operator `forward` ran in 0.04 s\n",
      "Operator `forward` ran in 0.03 s\n",
      "Operator `forward` ran in 0.03 s\n",
      "Operator `forward` ran in 0.03 s\n",
      "Operator `forward` ran in 0.03 s\n",
      "Operator `forward` ran in 0.03 s\n"
     ]
    },
    {
     "name": "stdout",
     "output_type": "stream",
     "text": [
      "FWI iteration no: 16; function value: 40583.957\n",
      "(α, misfit) = "
     ]
    },
    {
     "name": "stderr",
     "output_type": "stream",
     "text": [
      "Operator `forward` ran in 0.04 s\n",
      "Operator `gradient` ran in 0.05 s\n",
      "Operator `forward` ran in 0.04 s\n",
      "Operator `gradient` ran in 0.05 s\n",
      "Operator `forward` ran in 0.04 s\n",
      "Operator `gradient` ran in 0.05 s\n",
      "Operator `forward` ran in 0.05 s\n",
      "Operator `gradient` ran in 0.05 s\n",
      "Operator `forward` ran in 0.04 s\n",
      "Operator `gradient` ran in 0.05 s\n",
      "Operator `forward` ran in 0.04 s\n",
      "Operator `gradient` ran in 0.05 s\n",
      "Operator `forward` ran in 0.05 s\n",
      "Operator `gradient` ran in 0.05 s\n",
      "Operator `forward` ran in 0.05 s\n",
      "Operator `gradient` ran in 0.05 s\n",
      "Operator `forward` ran in 0.05 s\n",
      "Operator `gradient` ran in 0.05 s\n",
      "Operator `forward` ran in 0.04 s\n",
      "Operator `gradient` ran in 0.05 s\n",
      "Operator `forward` ran in 0.04 s\n",
      "Operator `gradient` ran in 0.05 s\n",
      "Operator `forward` ran in 0.05 s\n",
      "Operator `gradient` ran in 0.06 s\n",
      "Operator `forward` ran in 0.05 s\n",
      "Operator `gradient` ran in 0.05 s\n",
      "Operator `forward` ran in 0.05 s\n",
      "Operator `gradient` ran in 0.05 s\n",
      "Operator `forward` ran in 0.04 s\n",
      "Operator `gradient` ran in 0.04 s\n",
      "Operator `forward` ran in 0.05 s\n",
      "Operator `gradient` ran in 0.05 s\n"
     ]
    },
    {
     "name": "stdout",
     "output_type": "stream",
     "text": [
      "(0.1f0, 1.44946675e6)\n"
     ]
    },
    {
     "name": "stderr",
     "output_type": "stream",
     "text": [
      "Operator `forward` ran in 0.04 s\n",
      "Operator `forward` ran in 0.05 s\n",
      "Operator `forward` ran in 0.05 s\n",
      "Operator `forward` ran in 0.04 s\n",
      "Operator `forward` ran in 0.04 s\n",
      "Operator `forward` ran in 0.04 s\n",
      "Operator `forward` ran in 0.04 s\n",
      "Operator `forward` ran in 0.05 s\n",
      "Operator `forward` ran in 0.05 s\n",
      "Operator `forward` ran in 0.04 s\n",
      "Operator `forward` ran in 0.04 s\n",
      "Operator `forward` ran in 0.04 s\n",
      "Operator `forward` ran in 0.04 s\n",
      "Operator `forward` ran in 0.04 s\n",
      "Operator `forward` ran in 0.04 s\n",
      "Operator `forward` ran in 0.04 s\n"
     ]
    },
    {
     "name": "stdout",
     "output_type": "stream",
     "text": [
      "(α, misfit) = (0.017726298095617772, 156957.578125)\n",
      "(α, misfit) = "
     ]
    },
    {
     "name": "stderr",
     "output_type": "stream",
     "text": [
      "Operator `forward` ran in 0.04 s\n",
      "Operator `forward` ran in 0.04 s\n",
      "Operator `forward` ran in 0.04 s\n",
      "Operator `forward` ran in 0.05 s\n",
      "Operator `forward` ran in 0.04 s\n",
      "Operator `forward` ran in 0.04 s\n",
      "Operator `forward` ran in 0.04 s\n",
      "Operator `forward` ran in 0.03 s\n",
      "Operator `forward` ran in 0.04 s\n",
      "Operator `forward` ran in 0.04 s\n",
      "Operator `forward` ran in 0.04 s\n",
      "Operator `forward` ran in 0.04 s\n",
      "Operator `forward` ran in 0.04 s\n",
      "Operator `forward` ran in 0.04 s\n",
      "Operator `forward` ran in 0.04 s\n",
      "Operator `forward` ran in 0.04 s\n"
     ]
    },
    {
     "name": "stdout",
     "output_type": "stream",
     "text": [
      "(0.004362528954238242, 6512.81494140625)\n"
     ]
    },
    {
     "name": "stderr",
     "output_type": "stream",
     "text": [
      "Operator `forward` ran in 0.04 s\n",
      "Operator `forward` ran in 0.03 s\n",
      "Operator `forward` ran in 0.04 s\n",
      "Operator `forward` ran in 0.04 s\n",
      "Operator `forward` ran in 0.04 s\n",
      "Operator `forward` ran in 0.03 s\n",
      "Operator `forward` ran in 0.03 s\n",
      "Operator `forward` ran in 0.03 s\n",
      "Operator `forward` ran in 0.03 s\n",
      "Operator `forward` ran in 0.04 s\n",
      "Operator `forward` ran in 0.04 s\n",
      "Operator `forward` ran in 0.03 s\n",
      "Operator `forward` ran in 0.04 s\n",
      "Operator `forward` ran in 0.04 s\n",
      "Operator `forward` ran in 0.04 s\n",
      "Operator `forward` ran in 0.04 s\n"
     ]
    },
    {
     "name": "stdout",
     "output_type": "stream",
     "text": [
      "FWI iteration no: 17; function value: 24522.674\n",
      "(α, misfit) = "
     ]
    },
    {
     "name": "stderr",
     "output_type": "stream",
     "text": [
      "Operator `forward` ran in 0.04 s\n",
      "Operator `gradient` ran in 0.05 s\n",
      "Operator `forward` ran in 0.05 s\n",
      "Operator `gradient` ran in 0.05 s\n",
      "Operator `forward` ran in 0.04 s\n",
      "Operator `gradient` ran in 0.05 s\n",
      "Operator `forward` ran in 0.04 s\n",
      "Operator `gradient` ran in 0.05 s\n",
      "Operator `forward` ran in 0.04 s\n",
      "Operator `gradient` ran in 0.05 s\n",
      "Operator `forward` ran in 0.04 s\n",
      "Operator `gradient` ran in 0.05 s\n",
      "Operator `forward` ran in 0.04 s\n",
      "Operator `gradient` ran in 0.05 s\n",
      "Operator `forward` ran in 0.04 s\n",
      "Operator `gradient` ran in 0.05 s\n",
      "Operator `forward` ran in 0.04 s\n",
      "Operator `gradient` ran in 0.04 s\n",
      "Operator `forward` ran in 0.04 s\n",
      "Operator `gradient` ran in 0.05 s\n",
      "Operator `forward` ran in 0.04 s\n",
      "Operator `gradient` ran in 0.05 s\n",
      "Operator `forward` ran in 0.04 s\n",
      "Operator `gradient` ran in 0.05 s\n",
      "Operator `forward` ran in 0.04 s\n",
      "Operator `gradient` ran in 0.05 s\n",
      "Operator `forward` ran in 0.04 s\n",
      "Operator `gradient` ran in 0.05 s\n",
      "Operator `forward` ran in 0.04 s\n",
      "Operator `gradient` ran in 0.05 s\n",
      "Operator `forward` ran in 0.04 s\n",
      "Operator `gradient` ran in 0.05 s\n"
     ]
    },
    {
     "name": "stdout",
     "output_type": "stream",
     "text": [
      "(0.1f0, 1.19161025e6)\n"
     ]
    },
    {
     "name": "stderr",
     "output_type": "stream",
     "text": [
      "Operator `forward` ran in 0.03 s\n",
      "Operator `forward` ran in 0.03 s\n",
      "Operator `forward` ran in 0.04 s\n",
      "Operator `forward` ran in 0.04 s\n",
      "Operator `forward` ran in 0.04 s\n",
      "Operator `forward` ran in 0.04 s\n",
      "Operator `forward` ran in 0.04 s\n",
      "Operator `forward` ran in 0.04 s\n",
      "Operator `forward` ran in 0.04 s\n",
      "Operator `forward` ran in 0.04 s\n",
      "Operator `forward` ran in 0.04 s\n",
      "Operator `forward` ran in 0.04 s\n",
      "Operator `forward` ran in 0.04 s\n",
      "Operator `forward` ran in 0.04 s\n",
      "Operator `forward` ran in 0.04 s\n",
      "Operator `forward` ran in 0.04 s\n"
     ]
    },
    {
     "name": "stdout",
     "output_type": "stream",
     "text": [
      "(α, misfit) = (0.010000000149011612, 16957.751953125)\n",
      "FWI iteration no: "
     ]
    },
    {
     "name": "stderr",
     "output_type": "stream",
     "text": [
      "Operator `forward` ran in 0.03 s\n",
      "Operator `forward` ran in 0.04 s\n",
      "Operator `forward` ran in 0.04 s\n",
      "Operator `forward` ran in 0.04 s\n",
      "Operator `forward` ran in 0.04 s\n",
      "Operator `forward` ran in 0.03 s\n",
      "Operator `forward` ran in 0.04 s\n",
      "Operator `forward` ran in 0.04 s\n",
      "Operator `forward` ran in 0.04 s\n",
      "Operator `forward` ran in 0.03 s\n",
      "Operator `forward` ran in 0.04 s\n",
      "Operator `forward` ran in 0.04 s\n",
      "Operator `forward` ran in 0.04 s\n",
      "Operator `forward` ran in 0.03 s\n",
      "Operator `forward` ran in 0.04 s\n",
      "Operator `forward` ran in 0.03 s\n"
     ]
    },
    {
     "name": "stdout",
     "output_type": "stream",
     "text": [
      "18; function value: 34927.664\n"
     ]
    },
    {
     "name": "stderr",
     "output_type": "stream",
     "text": [
      "Operator `forward` ran in 0.04 s\n",
      "Operator `gradient` ran in 0.04 s\n",
      "Operator `forward` ran in 0.04 s\n",
      "Operator `gradient` ran in 0.04 s\n",
      "Operator `forward` ran in 0.04 s\n",
      "Operator `gradient` ran in 0.05 s\n",
      "Operator `forward` ran in 0.04 s\n",
      "Operator `gradient` ran in 0.05 s\n",
      "Operator `forward` ran in 0.04 s\n",
      "Operator `gradient` ran in 0.05 s\n",
      "Operator `forward` ran in 0.04 s\n",
      "Operator `gradient` ran in 0.05 s\n",
      "Operator `forward` ran in 0.04 s\n",
      "Operator `gradient` ran in 0.05 s\n",
      "Operator `forward` ran in 0.05 s\n",
      "Operator `gradient` ran in 0.05 s\n",
      "Operator `forward` ran in 0.04 s\n",
      "Operator `gradient` ran in 0.05 s\n",
      "Operator `forward` ran in 0.04 s\n",
      "Operator `gradient` ran in 0.05 s\n",
      "Operator `forward` ran in 0.05 s\n",
      "Operator `gradient` ran in 0.05 s\n",
      "Operator `forward` ran in 0.04 s\n",
      "Operator `gradient` ran in 0.05 s\n",
      "Operator `forward` ran in 0.04 s\n",
      "Operator `gradient` ran in 0.05 s\n",
      "Operator `forward` ran in 0.04 s\n",
      "Operator `gradient` ran in 0.05 s\n",
      "Operator `forward` ran in 0.04 s\n",
      "Operator `gradient` ran in 0.05 s\n",
      "Operator `forward` ran in 0.04 s\n",
      "Operator `gradient` ran in 0.05 s\n"
     ]
    },
    {
     "name": "stdout",
     "output_type": "stream",
     "text": [
      "(α, misfit) = (0.1f0, 1.568133375e6)\n",
      "(α, misfit) = "
     ]
    },
    {
     "name": "stderr",
     "output_type": "stream",
     "text": [
      "Operator `forward` ran in 0.04 s\n",
      "Operator `forward` ran in 0.04 s\n",
      "Operator `forward` ran in 0.04 s\n",
      "Operator `forward` ran in 0.04 s\n",
      "Operator `forward` ran in 0.04 s\n",
      "Operator `forward` ran in 0.04 s\n",
      "Operator `forward` ran in 0.04 s\n",
      "Operator `forward` ran in 0.04 s\n",
      "Operator `forward` ran in 0.04 s\n",
      "Operator `forward` ran in 0.04 s\n",
      "Operator `forward` ran in 0.05 s\n",
      "Operator `forward` ran in 0.05 s\n",
      "Operator `forward` ran in 0.05 s\n",
      "Operator `forward` ran in 0.05 s\n",
      "Operator `forward` ran in 0.06 s\n",
      "Operator `forward` ran in 0.05 s\n"
     ]
    },
    {
     "name": "stdout",
     "output_type": "stream",
     "text": [
      "(0.016011841167556124, 130469.8359375)\n"
     ]
    },
    {
     "name": "stderr",
     "output_type": "stream",
     "text": [
      "Operator `forward` ran in 0.04 s\n",
      "Operator `forward` ran in 0.03 s\n",
      "Operator `forward` ran in 0.04 s\n",
      "Operator `forward` ran in 0.04 s\n",
      "Operator `forward` ran in 0.04 s\n",
      "Operator `forward` ran in 0.04 s\n",
      "Operator `forward` ran in 0.04 s\n",
      "Operator `forward` ran in 0.04 s\n",
      "Operator `forward` ran in 0.04 s\n",
      "Operator `forward` ran in 0.03 s\n",
      "Operator `forward` ran in 0.04 s\n",
      "Operator `forward` ran in 0.04 s\n",
      "Operator `forward` ran in 0.04 s\n",
      "Operator `forward` ran in 0.04 s\n",
      "Operator `forward` ran in 0.04 s\n",
      "Operator `forward` ran in 0.04 s\n"
     ]
    },
    {
     "name": "stdout",
     "output_type": "stream",
     "text": [
      "(α, misfit) = (0.004036612748567362, 5826.8876953125)\n",
      "FWI iteration no: "
     ]
    },
    {
     "name": "stderr",
     "output_type": "stream",
     "text": [
      "Operator `forward` ran in 0.04 s\n",
      "Operator `forward` ran in 0.04 s\n",
      "Operator `forward` ran in 0.03 s\n",
      "Operator `forward` ran in 0.03 s\n",
      "Operator `forward` ran in 0.03 s\n",
      "Operator `forward` ran in 0.03 s\n",
      "Operator `forward` ran in 0.03 s\n",
      "Operator `forward` ran in 0.04 s\n",
      "Operator `forward` ran in 0.04 s\n",
      "Operator `forward` ran in 0.04 s\n",
      "Operator `forward` ran in 0.04 s\n",
      "Operator `forward` ran in 0.04 s\n",
      "Operator `forward` ran in 0.04 s\n",
      "Operator `forward` ran in 0.03 s\n",
      "Operator `forward` ran in 0.04 s\n",
      "Operator `forward` ran in 0.07 s\n"
     ]
    },
    {
     "name": "stdout",
     "output_type": "stream",
     "text": [
      "19; function value: 23821.521\n"
     ]
    },
    {
     "name": "stderr",
     "output_type": "stream",
     "text": [
      "Operator `forward` ran in 0.04 s\n",
      "Operator `gradient` ran in 0.05 s\n",
      "Operator `forward` ran in 0.04 s\n",
      "Operator `gradient` ran in 0.05 s\n",
      "Operator `forward` ran in 0.04 s\n",
      "Operator `gradient` ran in 0.04 s\n",
      "Operator `forward` ran in 0.05 s\n",
      "Operator `gradient` ran in 0.05 s\n",
      "Operator `forward` ran in 0.04 s\n",
      "Operator `gradient` ran in 0.05 s\n",
      "Operator `forward` ran in 0.07 s\n",
      "Operator `gradient` ran in 0.05 s\n",
      "Operator `forward` ran in 0.05 s\n",
      "Operator `gradient` ran in 0.05 s\n",
      "Operator `forward` ran in 0.04 s\n",
      "Operator `gradient` ran in 0.05 s\n",
      "Operator `forward` ran in 0.04 s\n",
      "Operator `gradient` ran in 0.05 s\n",
      "Operator `forward` ran in 0.04 s\n",
      "Operator `gradient` ran in 0.04 s\n",
      "Operator `forward` ran in 0.04 s\n",
      "Operator `gradient` ran in 0.05 s\n",
      "Operator `forward` ran in 0.04 s\n",
      "Operator `gradient` ran in 0.05 s\n",
      "Operator `forward` ran in 0.04 s\n",
      "Operator `gradient` ran in 0.05 s\n",
      "Operator `forward` ran in 0.04 s\n",
      "Operator `gradient` ran in 0.05 s\n",
      "Operator `forward` ran in 0.04 s\n",
      "Operator `gradient` ran in 0.05 s\n",
      "Operator `forward` ran in 0.04 s\n",
      "Operator `gradient` ran in 0.05 s\n"
     ]
    },
    {
     "name": "stdout",
     "output_type": "stream",
     "text": [
      "(α, misfit) = (0.1f0, 1.043985875e6)\n",
      "(α, misfit) = "
     ]
    },
    {
     "name": "stderr",
     "output_type": "stream",
     "text": [
      "Operator `forward` ran in 0.03 s\n",
      "Operator `forward` ran in 0.04 s\n",
      "Operator `forward` ran in 0.04 s\n",
      "Operator `forward` ran in 0.03 s\n",
      "Operator `forward` ran in 0.04 s\n",
      "Operator `forward` ran in 0.04 s\n",
      "Operator `forward` ran in 0.04 s\n",
      "Operator `forward` ran in 0.04 s\n",
      "Operator `forward` ran in 0.04 s\n",
      "Operator `forward` ran in 0.04 s\n",
      "Operator `forward` ran in 0.04 s\n",
      "Operator `forward` ran in 0.04 s\n",
      "Operator `forward` ran in 0.04 s\n",
      "Operator `forward` ran in 0.03 s\n",
      "Operator `forward` ran in 0.04 s\n",
      "Operator `forward` ran in 0.04 s\n"
     ]
    },
    {
     "name": "stdout",
     "output_type": "stream",
     "text": [
      "(0.010000000149011612, 29164.11328125)\n"
     ]
    },
    {
     "name": "stderr",
     "output_type": "stream",
     "text": [
      "Operator `forward` ran in 0.04 s\n",
      "Operator `forward` ran in 0.03 s\n",
      "Operator `forward` ran in 0.03 s\n",
      "Operator `forward` ran in 0.03 s\n",
      "Operator `forward` ran in 0.03 s\n",
      "Operator `forward` ran in 0.03 s\n",
      "Operator `forward` ran in 0.04 s\n",
      "Operator `forward` ran in 0.03 s\n",
      "Operator `forward` ran in 0.04 s\n",
      "Operator `forward` ran in 0.04 s\n",
      "Operator `forward` ran in 0.03 s\n",
      "Operator `forward` ran in 0.06 s\n",
      "Operator `forward` ran in 0.06 s\n",
      "Operator `forward` ran in 0.06 s\n",
      "Operator `forward` ran in 0.06 s\n",
      "Operator `forward` ran in 0.06 s\n"
     ]
    },
    {
     "name": "stdout",
     "output_type": "stream",
     "text": [
      "(α, misfit) = (0.003965685388490876, 7018.947265625)\n",
      "FWI iteration no: "
     ]
    },
    {
     "name": "stderr",
     "output_type": "stream",
     "text": [
      "Operator `forward` ran in 0.05 s\n",
      "Operator `forward` ran in 0.03 s\n",
      "Operator `forward` ran in 0.06 s\n",
      "Operator `forward` ran in 0.06 s\n",
      "Operator `forward` ran in 0.06 s\n",
      "Operator `forward` ran in 0.07 s\n",
      "Operator `forward` ran in 0.06 s\n",
      "Operator `forward` ran in 0.04 s\n",
      "Operator `forward` ran in 0.04 s\n",
      "Operator `forward` ran in 0.04 s\n",
      "Operator `forward` ran in 0.04 s\n",
      "Operator `forward` ran in 0.03 s\n",
      "Operator `forward` ran in 0.04 s\n",
      "Operator `forward` ran in 0.03 s\n",
      "Operator `forward` ran in 0.04 s\n",
      "Operator `forward` ran in 0.03 s\n"
     ]
    },
    {
     "name": "stdout",
     "output_type": "stream",
     "text": [
      "20; function value: 25011.697\n"
     ]
    },
    {
     "name": "stderr",
     "output_type": "stream",
     "text": [
      "Operator `forward` ran in 0.04 s\n",
      "Operator `gradient` ran in 0.05 s\n",
      "Operator `forward` ran in 0.04 s\n",
      "Operator `gradient` ran in 0.04 s\n",
      "Operator `forward` ran in 0.04 s\n",
      "Operator `gradient` ran in 0.05 s\n",
      "Operator `forward` ran in 0.04 s\n",
      "Operator `gradient` ran in 0.05 s\n",
      "Operator `forward` ran in 0.04 s\n",
      "Operator `gradient` ran in 0.05 s\n",
      "Operator `forward` ran in 0.04 s\n",
      "Operator `gradient` ran in 0.05 s\n",
      "Operator `forward` ran in 0.04 s\n",
      "Operator `gradient` ran in 0.05 s\n",
      "Operator `forward` ran in 0.04 s\n",
      "Operator `gradient` ran in 0.06 s\n",
      "Operator `forward` ran in 0.04 s\n",
      "Operator `gradient` ran in 0.05 s\n",
      "Operator `forward` ran in 0.04 s\n",
      "Operator `gradient` ran in 0.05 s\n",
      "Operator `forward` ran in 0.04 s\n",
      "Operator `gradient` ran in 0.05 s\n",
      "Operator `forward` ran in 0.04 s\n",
      "Operator `gradient` ran in 0.05 s\n",
      "Operator `forward` ran in 0.04 s\n",
      "Operator `gradient` ran in 0.05 s\n",
      "Operator `forward` ran in 0.04 s\n",
      "Operator `gradient` ran in 0.05 s\n",
      "Operator `forward` ran in 0.05 s\n",
      "Operator `gradient` ran in 0.05 s\n",
      "Operator `forward` ran in 0.05 s\n",
      "Operator `gradient` ran in 0.05 s\n"
     ]
    },
    {
     "name": "stdout",
     "output_type": "stream",
     "text": [
      "(α, misfit) = (0.1f0, 1.409520875e6)\n",
      "(α, misfit) = "
     ]
    },
    {
     "name": "stderr",
     "output_type": "stream",
     "text": [
      "Operator `forward` ran in 0.05 s\n",
      "Operator `forward` ran in 0.04 s\n",
      "Operator `forward` ran in 0.07 s\n",
      "Operator `forward` ran in 0.06 s\n",
      "Operator `forward` ran in 0.04 s\n",
      "Operator `forward` ran in 0.05 s\n",
      "Operator `forward` ran in 0.04 s\n",
      "Operator `forward` ran in 0.04 s\n",
      "Operator `forward` ran in 0.04 s\n",
      "Operator `forward` ran in 0.04 s\n",
      "Operator `forward` ran in 0.04 s\n",
      "Operator `forward` ran in 0.04 s\n",
      "Operator `forward` ran in 0.04 s\n",
      "Operator `forward` ran in 0.05 s\n",
      "Operator `forward` ran in 0.05 s\n",
      "Operator `forward` ran in 0.06 s\n"
     ]
    },
    {
     "name": "stdout",
     "output_type": "stream",
     "text": [
      "(0.01157637255355607, 87768.0703125)\n"
     ]
    },
    {
     "name": "stderr",
     "output_type": "stream",
     "text": [
      "Operator `forward` ran in 0.03 s\n",
      "Operator `forward` ran in 0.05 s\n",
      "Operator `forward` ran in 0.05 s\n",
      "Operator `forward` ran in 0.04 s\n",
      "Operator `forward` ran in 0.04 s\n",
      "Operator `forward` ran in 0.03 s\n",
      "Operator `forward` ran in 0.04 s\n",
      "Operator `forward` ran in 0.03 s\n",
      "Operator `forward` ran in 0.03 s\n",
      "Operator `forward` ran in 0.04 s\n",
      "Operator `forward` ran in 0.04 s\n",
      "Operator `forward` ran in 0.04 s\n",
      "Operator `forward` ran in 0.06 s\n",
      "Operator `forward` ran in 0.05 s\n",
      "Operator `forward` ran in 0.04 s\n",
      "Operator `forward` ran in 0.03 s\n"
     ]
    },
    {
     "name": "stdout",
     "output_type": "stream",
     "text": [
      "(α, misfit) = (0.002349585035554577, 5471.99267578125)\n",
      "FWI iteration no: "
     ]
    },
    {
     "name": "stderr",
     "output_type": "stream",
     "text": [
      "Operator `forward` ran in 0.04 s\n",
      "Operator `forward` ran in 0.04 s\n",
      "Operator `forward` ran in 0.04 s\n",
      "Operator `forward` ran in 0.03 s\n",
      "Operator `forward` ran in 0.04 s\n",
      "Operator `forward` ran in 0.04 s\n",
      "Operator `forward` ran in 0.04 s\n",
      "Operator `forward` ran in 0.05 s\n",
      "Operator `forward` ran in 0.05 s\n",
      "Operator `forward` ran in 0.03 s\n",
      "Operator `forward` ran in 0.03 s\n",
      "Operator `forward` ran in 0.03 s\n",
      "Operator `forward` ran in 0.04 s\n",
      "Operator `forward` ran in 0.03 s\n",
      "Operator `forward` ran in 0.04 s\n",
      "Operator `forward` ran in 0.04 s\n"
     ]
    },
    {
     "name": "stdout",
     "output_type": "stream",
     "text": [
      "21; function value: 23484.965\n"
     ]
    },
    {
     "name": "stderr",
     "output_type": "stream",
     "text": [
      "Operator `forward` ran in 0.04 s\n",
      "Operator `gradient` ran in 0.05 s\n",
      "Operator `forward` ran in 0.04 s\n",
      "Operator `gradient` ran in 0.05 s\n",
      "Operator `forward` ran in 0.04 s\n",
      "Operator `gradient` ran in 0.05 s\n",
      "Operator `forward` ran in 0.04 s\n",
      "Operator `gradient` ran in 0.05 s\n",
      "Operator `forward` ran in 0.04 s\n",
      "Operator `gradient` ran in 0.05 s\n",
      "Operator `forward` ran in 0.04 s\n",
      "Operator `gradient` ran in 0.05 s\n",
      "Operator `forward` ran in 0.04 s\n",
      "Operator `gradient` ran in 0.05 s\n",
      "Operator `forward` ran in 0.04 s\n",
      "Operator `gradient` ran in 0.07 s\n",
      "Operator `forward` ran in 0.04 s\n",
      "Operator `gradient` ran in 0.05 s\n",
      "Operator `forward` ran in 0.04 s\n",
      "Operator `gradient` ran in 0.05 s\n",
      "Operator `forward` ran in 0.05 s\n",
      "Operator `gradient` ran in 0.05 s\n",
      "Operator `forward` ran in 0.04 s\n",
      "Operator `gradient` ran in 0.05 s\n",
      "Operator `forward` ran in 0.04 s\n",
      "Operator `gradient` ran in 0.05 s\n",
      "Operator `forward` ran in 0.04 s\n",
      "Operator `gradient` ran in 0.05 s\n",
      "Operator `forward` ran in 0.05 s\n",
      "Operator `gradient` ran in 0.05 s\n",
      "Operator `forward` ran in 0.05 s\n",
      "Operator `gradient` ran in 0.05 s\n"
     ]
    },
    {
     "name": "stdout",
     "output_type": "stream",
     "text": [
      "(α, misfit) = (0.1f0, 1.445182875e6)\n",
      "(α, misfit) = "
     ]
    },
    {
     "name": "stderr",
     "output_type": "stream",
     "text": [
      "Operator `forward` ran in 0.03 s\n",
      "Operator `forward` ran in 0.06 s\n",
      "Operator `forward` ran in 0.06 s\n",
      "Operator `forward` ran in 0.07 s\n",
      "Operator `forward` ran in 0.06 s\n",
      "Operator `forward` ran in 0.04 s\n",
      "Operator `forward` ran in 0.04 s\n",
      "Operator `forward` ran in 0.04 s\n",
      "Operator `forward` ran in 0.04 s\n",
      "Operator `forward` ran in 0.03 s\n",
      "Operator `forward` ran in 0.04 s\n",
      "Operator `forward` ran in 0.04 s\n",
      "Operator `forward` ran in 0.04 s\n",
      "Operator `forward` ran in 0.05 s\n",
      "Operator `forward` ran in 0.05 s\n",
      "Operator `forward` ran in 0.06 s\n"
     ]
    },
    {
     "name": "stdout",
     "output_type": "stream",
     "text": [
      "(0.010000000149011612, 32225.458984375)\n"
     ]
    },
    {
     "name": "stderr",
     "output_type": "stream",
     "text": [
      "Operator `forward` ran in 0.05 s\n",
      "Operator `forward` ran in 0.06 s\n",
      "Operator `forward` ran in 0.05 s\n",
      "Operator `forward` ran in 0.03 s\n",
      "Operator `forward` ran in 0.06 s\n",
      "Operator `forward` ran in 0.06 s\n",
      "Operator `forward` ran in 0.06 s\n",
      "Operator `forward` ran in 0.05 s\n",
      "Operator `forward` ran in 0.05 s\n",
      "Operator `forward` ran in 0.05 s\n",
      "Operator `forward` ran in 0.06 s\n",
      "Operator `forward` ran in 0.03 s\n",
      "Operator `forward` ran in 0.04 s\n",
      "Operator `forward` ran in 0.03 s\n",
      "Operator `forward` ran in 0.04 s\n",
      "Operator `forward` ran in 0.04 s\n"
     ]
    },
    {
     "name": "stdout",
     "output_type": "stream",
     "text": [
      "(α, misfit) = (0.003712768533287845, 6912.53466796875)\n",
      "FWI iteration no: "
     ]
    },
    {
     "name": "stderr",
     "output_type": "stream",
     "text": [
      "Operator `forward` ran in 0.04 s\n",
      "Operator `forward` ran in 0.03 s\n",
      "Operator `forward` ran in 0.03 s\n",
      "Operator `forward` ran in 0.04 s\n",
      "Operator `forward` ran in 0.04 s\n",
      "Operator `forward` ran in 0.03 s\n",
      "Operator `forward` ran in 0.03 s\n",
      "Operator `forward` ran in 0.03 s\n",
      "Operator `forward` ran in 0.04 s\n",
      "Operator `forward` ran in 0.04 s\n",
      "Operator `forward` ran in 0.04 s\n",
      "Operator `forward` ran in 0.04 s\n",
      "Operator `forward` ran in 0.04 s\n",
      "Operator `forward` ran in 0.04 s\n",
      "Operator `forward` ran in 0.04 s\n",
      "Operator `forward` ran in 0.04 s\n"
     ]
    },
    {
     "name": "stdout",
     "output_type": "stream",
     "text": [
      "22; function value: 24904.518\n"
     ]
    },
    {
     "name": "stderr",
     "output_type": "stream",
     "text": [
      "Operator `forward` ran in 0.05 s\n",
      "Operator `gradient` ran in 0.05 s\n",
      "Operator `forward` ran in 0.04 s\n",
      "Operator `gradient` ran in 0.05 s\n",
      "Operator `forward` ran in 0.04 s\n",
      "Operator `gradient` ran in 0.05 s\n",
      "Operator `forward` ran in 0.04 s\n",
      "Operator `gradient` ran in 0.05 s\n",
      "Operator `forward` ran in 0.04 s\n",
      "Operator `gradient` ran in 0.04 s\n",
      "Operator `forward` ran in 0.04 s\n",
      "Operator `gradient` ran in 0.05 s\n",
      "Operator `forward` ran in 0.05 s\n",
      "Operator `gradient` ran in 0.05 s\n",
      "Operator `forward` ran in 0.04 s\n",
      "Operator `gradient` ran in 0.05 s\n",
      "Operator `forward` ran in 0.05 s\n",
      "Operator `gradient` ran in 0.05 s\n",
      "Operator `forward` ran in 0.04 s\n",
      "Operator `gradient` ran in 0.05 s\n",
      "Operator `forward` ran in 0.04 s\n",
      "Operator `gradient` ran in 0.05 s\n",
      "Operator `forward` ran in 0.05 s\n",
      "Operator `gradient` ran in 0.05 s\n",
      "Operator `forward` ran in 0.04 s\n",
      "Operator `gradient` ran in 0.05 s\n",
      "Operator `forward` ran in 0.04 s\n",
      "Operator `gradient` ran in 0.04 s\n",
      "Operator `forward` ran in 0.04 s\n",
      "Operator `gradient` ran in 0.05 s\n",
      "Operator `forward` ran in 0.04 s\n",
      "Operator `gradient` ran in 0.04 s\n"
     ]
    },
    {
     "name": "stdout",
     "output_type": "stream",
     "text": [
      "(α, misfit) = (0.1f0, 1.5439175e6)\n",
      "(α, misfit) = "
     ]
    },
    {
     "name": "stderr",
     "output_type": "stream",
     "text": [
      "Operator `forward` ran in 0.04 s\n",
      "Operator `forward` ran in 0.04 s\n",
      "Operator `forward` ran in 0.04 s\n",
      "Operator `forward` ran in 0.04 s\n",
      "Operator `forward` ran in 0.04 s\n",
      "Operator `forward` ran in 0.04 s\n",
      "Operator `forward` ran in 0.04 s\n",
      "Operator `forward` ran in 0.04 s\n",
      "Operator `forward` ran in 0.04 s\n",
      "Operator `forward` ran in 0.04 s\n",
      "Operator `forward` ran in 0.04 s\n",
      "Operator `forward` ran in 0.04 s\n",
      "Operator `forward` ran in 0.04 s\n",
      "Operator `forward` ran in 0.04 s\n",
      "Operator `forward` ran in 0.04 s\n",
      "Operator `forward` ran in 0.05 s\n"
     ]
    },
    {
     "name": "stdout",
     "output_type": "stream",
     "text": [
      "(0.012005121788269082, 136593.203125)\n"
     ]
    },
    {
     "name": "stderr",
     "output_type": "stream",
     "text": [
      "Operator `forward` ran in 0.03 s\n",
      "Operator `forward` ran in 0.03 s\n",
      "Operator `forward` ran in 0.03 s\n",
      "Operator `forward` ran in 0.04 s\n",
      "Operator `forward` ran in 0.03 s\n",
      "Operator `forward` ran in 0.03 s\n",
      "Operator `forward` ran in 0.04 s\n",
      "Operator `forward` ran in 0.03 s\n",
      "Operator `forward` ran in 0.03 s\n",
      "Operator `forward` ran in 0.04 s\n",
      "Operator `forward` ran in 0.03 s\n",
      "Operator `forward` ran in 0.03 s\n",
      "Operator `forward` ran in 0.03 s\n",
      "Operator `forward` ran in 0.03 s\n",
      "Operator `forward` ran in 0.04 s\n",
      "Operator `forward` ran in 0.05 s\n"
     ]
    },
    {
     "name": "stdout",
     "output_type": "stream",
     "text": [
      "(α, misfit) = (0.0018799661948282588, 4926.8740234375)\n",
      "FWI iteration no: "
     ]
    },
    {
     "name": "stderr",
     "output_type": "stream",
     "text": [
      "Operator `forward` ran in 0.05 s\n",
      "Operator `forward` ran in 0.04 s\n",
      "Operator `forward` ran in 0.04 s\n",
      "Operator `forward` ran in 0.03 s\n",
      "Operator `forward` ran in 0.04 s\n",
      "Operator `forward` ran in 0.03 s\n",
      "Operator `forward` ran in 0.03 s\n",
      "Operator `forward` ran in 0.04 s\n",
      "Operator `forward` ran in 0.06 s\n",
      "Operator `forward` ran in 0.07 s\n",
      "Operator `forward` ran in 0.07 s\n",
      "Operator `forward` ran in 0.07 s\n",
      "Operator `forward` ran in 0.07 s\n",
      "Operator `forward` ran in 0.07 s\n",
      "Operator `forward` ran in 0.07 s\n",
      "Operator `forward` ran in 0.03 s\n"
     ]
    },
    {
     "name": "stdout",
     "output_type": "stream",
     "text": [
      "23; function value: 22918.105\n"
     ]
    },
    {
     "name": "stderr",
     "output_type": "stream",
     "text": [
      "Operator `forward` ran in 0.05 s\n",
      "Operator `gradient` ran in 0.05 s\n",
      "Operator `forward` ran in 0.04 s\n",
      "Operator `gradient` ran in 0.05 s\n",
      "Operator `forward` ran in 0.05 s\n",
      "Operator `gradient` ran in 0.05 s\n",
      "Operator `forward` ran in 0.04 s\n",
      "Operator `gradient` ran in 0.05 s\n",
      "Operator `forward` ran in 0.05 s\n",
      "Operator `gradient` ran in 0.05 s\n",
      "Operator `forward` ran in 0.04 s\n",
      "Operator `gradient` ran in 0.04 s\n",
      "Operator `forward` ran in 0.05 s\n",
      "Operator `gradient` ran in 0.05 s\n",
      "Operator `forward` ran in 0.04 s\n",
      "Operator `gradient` ran in 0.05 s\n",
      "Operator `forward` ran in 0.04 s\n",
      "Operator `gradient` ran in 0.05 s\n",
      "Operator `forward` ran in 0.04 s\n",
      "Operator `gradient` ran in 0.05 s\n",
      "Operator `forward` ran in 0.04 s\n",
      "Operator `gradient` ran in 0.05 s\n",
      "Operator `forward` ran in 0.04 s\n",
      "Operator `gradient` ran in 0.04 s\n",
      "Operator `forward` ran in 0.04 s\n",
      "Operator `gradient` ran in 0.05 s\n",
      "Operator `forward` ran in 0.04 s\n",
      "Operator `gradient` ran in 0.05 s\n",
      "Operator `forward` ran in 0.04 s\n",
      "Operator `gradient` ran in 0.05 s\n",
      "Operator `forward` ran in 0.04 s\n",
      "Operator `gradient` ran in 0.04 s\n"
     ]
    },
    {
     "name": "stdout",
     "output_type": "stream",
     "text": [
      "(α, misfit) = (0.1f0, 1.155506875e6)\n",
      "(α, misfit) = "
     ]
    },
    {
     "name": "stderr",
     "output_type": "stream",
     "text": [
      "Operator `forward` ran in 0.03 s\n",
      "Operator `forward` ran in 0.03 s\n",
      "Operator `forward` ran in 0.03 s\n",
      "Operator `forward` ran in 0.03 s\n",
      "Operator `forward` ran in 0.03 s\n",
      "Operator `forward` ran in 0.03 s\n",
      "Operator `forward` ran in 0.03 s\n",
      "Operator `forward` ran in 0.03 s\n",
      "Operator `forward` ran in 0.03 s\n",
      "Operator `forward` ran in 0.03 s\n",
      "Operator `forward` ran in 0.03 s\n",
      "Operator `forward` ran in 0.03 s\n",
      "Operator `forward` ran in 0.03 s\n",
      "Operator `forward` ran in 0.03 s\n",
      "Operator `forward` ran in 0.04 s\n",
      "Operator `forward` ran in 0.03 s\n"
     ]
    },
    {
     "name": "stdout",
     "output_type": "stream",
     "text": [
      "(0.010000000149011612, 22443.1875)\n"
     ]
    },
    {
     "name": "stderr",
     "output_type": "stream",
     "text": [
      "Operator `forward` ran in 0.03 s\n",
      "Operator `forward` ran in 0.04 s\n",
      "Operator `forward` ran in 0.03 s\n",
      "Operator `forward` ran in 0.03 s\n",
      "Operator `forward` ran in 0.04 s\n",
      "Operator `forward` ran in 0.04 s\n",
      "Operator `forward` ran in 0.03 s\n",
      "Operator `forward` ran in 0.04 s\n",
      "Operator `forward` ran in 0.03 s\n",
      "Operator `forward` ran in 0.03 s\n",
      "Operator `forward` ran in 0.04 s\n",
      "Operator `forward` ran in 0.04 s\n",
      "Operator `forward` ran in 0.03 s\n",
      "Operator `forward` ran in 0.04 s\n",
      "Operator `forward` ran in 0.04 s\n",
      "Operator `forward` ran in 0.05 s\n"
     ]
    },
    {
     "name": "stdout",
     "output_type": "stream",
     "text": [
      "FWI iteration no: 24; function value: 40384.355\n",
      "(α, misfit) = "
     ]
    },
    {
     "name": "stderr",
     "output_type": "stream",
     "text": [
      "Operator `forward` ran in 0.04 s\n",
      "Operator `gradient` ran in 0.05 s\n",
      "Operator `forward` ran in 0.04 s\n",
      "Operator `gradient` ran in 0.05 s\n",
      "Operator `forward` ran in 0.06 s\n",
      "Operator `gradient` ran in 0.05 s\n",
      "Operator `forward` ran in 0.04 s\n",
      "Operator `gradient` ran in 0.05 s\n",
      "Operator `forward` ran in 0.04 s\n",
      "Operator `gradient` ran in 0.05 s\n",
      "Operator `forward` ran in 0.05 s\n",
      "Operator `gradient` ran in 0.05 s\n",
      "Operator `forward` ran in 0.04 s\n",
      "Operator `gradient` ran in 0.05 s\n",
      "Operator `forward` ran in 0.04 s\n",
      "Operator `gradient` ran in 0.05 s\n",
      "Operator `forward` ran in 0.04 s\n",
      "Operator `gradient` ran in 0.05 s\n",
      "Operator `forward` ran in 0.04 s\n",
      "Operator `gradient` ran in 0.05 s\n",
      "Operator `forward` ran in 0.04 s\n",
      "Operator `gradient` ran in 0.06 s\n",
      "Operator `forward` ran in 0.04 s\n",
      "Operator `gradient` ran in 0.05 s\n",
      "Operator `forward` ran in 0.04 s\n",
      "Operator `gradient` ran in 0.05 s\n",
      "Operator `forward` ran in 0.04 s\n",
      "Operator `gradient` ran in 0.05 s\n",
      "Operator `forward` ran in 0.04 s\n",
      "Operator `gradient` ran in 0.05 s\n",
      "Operator `forward` ran in 0.04 s\n",
      "Operator `gradient` ran in 0.05 s\n"
     ]
    },
    {
     "name": "stdout",
     "output_type": "stream",
     "text": [
      "(0.1f0, 1.48839625e6)\n"
     ]
    },
    {
     "name": "stderr",
     "output_type": "stream",
     "text": [
      "Operator `forward` ran in 0.04 s\n",
      "Operator `forward` ran in 0.04 s\n",
      "Operator `forward` ran in 0.04 s\n",
      "Operator `forward` ran in 0.04 s\n",
      "Operator `forward` ran in 0.04 s\n",
      "Operator `forward` ran in 0.04 s\n",
      "Operator `forward` ran in 0.04 s\n",
      "Operator `forward` ran in 0.05 s\n",
      "Operator `forward` ran in 0.04 s\n",
      "Operator `forward` ran in 0.04 s\n",
      "Operator `forward` ran in 0.04 s\n",
      "Operator `forward` ran in 0.04 s\n",
      "Operator `forward` ran in 0.05 s\n",
      "Operator `forward` ran in 0.04 s\n",
      "Operator `forward` ran in 0.07 s\n",
      "Operator `forward` ran in 0.04 s\n"
     ]
    },
    {
     "name": "stdout",
     "output_type": "stream",
     "text": [
      "(α, misfit) = (0.02099173086856081, 304288.0)\n",
      "(α, misfit) = "
     ]
    },
    {
     "name": "stderr",
     "output_type": "stream",
     "text": [
      "Operator `forward` ran in 0.05 s\n",
      "Operator `forward` ran in 0.04 s\n",
      "Operator `forward` ran in 0.04 s\n",
      "Operator `forward` ran in 0.03 s\n",
      "Operator `forward` ran in 0.04 s\n",
      "Operator `forward` ran in 0.04 s\n",
      "Operator `forward` ran in 0.04 s\n",
      "Operator `forward` ran in 0.06 s\n",
      "Operator `forward` ran in 0.06 s\n",
      "Operator `forward` ran in 0.06 s\n",
      "Operator `forward` ran in 0.06 s\n",
      "Operator `forward` ran in 0.06 s\n",
      "Operator `forward` ran in 0.07 s\n",
      "Operator `forward` ran in 0.04 s\n",
      "Operator `forward` ran in 0.06 s\n",
      "Operator `forward` ran in 0.05 s\n"
     ]
    },
    {
     "name": "stdout",
     "output_type": "stream",
     "text": [
      "(0.004170312767345619, 4195.64306640625)\n"
     ]
    },
    {
     "name": "stderr",
     "output_type": "stream",
     "text": [
      "Operator `forward` ran in 0.04 s\n",
      "Operator `forward` ran in 0.04 s\n",
      "Operator `forward` ran in 0.04 s\n",
      "Operator `forward` ran in 0.04 s\n",
      "Operator `forward` ran in 0.04 s\n",
      "Operator `forward` ran in 0.03 s\n",
      "Operator `forward` ran in 0.04 s\n",
      "Operator `forward` ran in 0.03 s\n",
      "Operator `forward` ran in 0.04 s\n",
      "Operator `forward` ran in 0.04 s\n",
      "Operator `forward` ran in 0.04 s\n",
      "Operator `forward` ran in 0.04 s\n",
      "Operator `forward` ran in 0.04 s\n",
      "Operator `forward` ran in 0.04 s\n",
      "Operator `forward` ran in 0.04 s\n",
      "Operator `forward` ran in 0.04 s\n"
     ]
    },
    {
     "name": "stdout",
     "output_type": "stream",
     "text": [
      "FWI iteration no: 25; function value: 22185.705\n",
      "(α, misfit) = "
     ]
    },
    {
     "name": "stderr",
     "output_type": "stream",
     "text": [
      "Operator `forward` ran in 0.04 s\n",
      "Operator `gradient` ran in 0.05 s\n",
      "Operator `forward` ran in 0.04 s\n",
      "Operator `gradient` ran in 0.05 s\n",
      "Operator `forward` ran in 0.04 s\n",
      "Operator `gradient` ran in 0.05 s\n",
      "Operator `forward` ran in 0.04 s\n",
      "Operator `gradient` ran in 0.05 s\n",
      "Operator `forward` ran in 0.04 s\n",
      "Operator `gradient` ran in 0.05 s\n",
      "Operator `forward` ran in 0.04 s\n",
      "Operator `gradient` ran in 0.05 s\n",
      "Operator `forward` ran in 0.04 s\n",
      "Operator `gradient` ran in 0.05 s\n",
      "Operator `forward` ran in 0.04 s\n",
      "Operator `gradient` ran in 0.05 s\n",
      "Operator `forward` ran in 0.04 s\n",
      "Operator `gradient` ran in 0.05 s\n",
      "Operator `forward` ran in 0.04 s\n",
      "Operator `gradient` ran in 0.05 s\n",
      "Operator `forward` ran in 0.05 s\n",
      "Operator `gradient` ran in 0.05 s\n",
      "Operator `forward` ran in 0.04 s\n",
      "Operator `gradient` ran in 0.05 s\n",
      "Operator `forward` ran in 0.04 s\n",
      "Operator `gradient` ran in 0.05 s\n",
      "Operator `forward` ran in 0.04 s\n",
      "Operator `gradient` ran in 0.05 s\n",
      "Operator `forward` ran in 0.04 s\n",
      "Operator `gradient` ran in 0.05 s\n",
      "Operator `forward` ran in 0.04 s\n",
      "Operator `gradient` ran in 0.04 s\n"
     ]
    },
    {
     "name": "stdout",
     "output_type": "stream",
     "text": [
      "(0.1f0, 292511.0625)\n"
     ]
    },
    {
     "name": "stderr",
     "output_type": "stream",
     "text": [
      "Operator `forward` ran in 0.03 s\n",
      "Operator `forward` ran in 0.03 s\n",
      "Operator `forward` ran in 0.03 s\n",
      "Operator `forward` ran in 0.03 s\n",
      "Operator `forward` ran in 0.03 s\n",
      "Operator `forward` ran in 0.03 s\n",
      "Operator `forward` ran in 0.03 s\n",
      "Operator `forward` ran in 0.03 s\n",
      "Operator `forward` ran in 0.03 s\n",
      "Operator `forward` ran in 0.04 s\n",
      "Operator `forward` ran in 0.03 s\n",
      "Operator `forward` ran in 0.03 s\n",
      "Operator `forward` ran in 0.05 s\n",
      "Operator `forward` ran in 0.04 s\n",
      "Operator `forward` ran in 0.04 s\n",
      "Operator `forward` ran in 0.03 s\n"
     ]
    },
    {
     "name": "stdout",
     "output_type": "stream",
     "text": [
      "(α, misfit) = (0.017072814424318437, 11409.30078125)\n",
      "FWI iteration no: "
     ]
    },
    {
     "name": "stderr",
     "output_type": "stream",
     "text": [
      "Operator `forward` ran in 0.03 s\n",
      "Operator `forward` ran in 0.03 s\n",
      "Operator `forward` ran in 0.03 s\n",
      "Operator `forward` ran in 0.07 s\n",
      "Operator `forward` ran in 0.06 s\n",
      "Operator `forward` ran in 0.06 s\n",
      "Operator `forward` ran in 0.07 s\n",
      "Operator `forward` ran in 0.07 s\n",
      "Operator `forward` ran in 0.06 s\n",
      "Operator `forward` ran in 0.07 s\n",
      "Operator `forward` ran in 0.07 s\n",
      "Operator `forward` ran in 0.03 s\n",
      "Operator `forward` ran in 0.06 s\n",
      "Operator `forward` ran in 0.06 s\n",
      "Operator `forward` ran in 0.06 s\n",
      "Operator `forward` ran in 0.06 s\n"
     ]
    },
    {
     "name": "stdout",
     "output_type": "stream",
     "text": [
      "26; function value: 29380.469\n"
     ]
    },
    {
     "name": "stderr",
     "output_type": "stream",
     "text": [
      "Operator `forward` ran in 0.04 s\n",
      "Operator `gradient` ran in 0.05 s\n",
      "Operator `forward` ran in 0.04 s\n",
      "Operator `gradient` ran in 0.04 s\n",
      "Operator `forward` ran in 0.04 s\n",
      "Operator `gradient` ran in 0.05 s\n",
      "Operator `forward` ran in 0.04 s\n",
      "Operator `gradient` ran in 0.05 s\n",
      "Operator `forward` ran in 0.04 s\n",
      "Operator `gradient` ran in 0.04 s\n",
      "Operator `forward` ran in 0.04 s\n",
      "Operator `gradient` ran in 0.05 s\n",
      "Operator `forward` ran in 0.04 s\n",
      "Operator `gradient` ran in 0.05 s\n",
      "Operator `forward` ran in 0.04 s\n",
      "Operator `gradient` ran in 0.05 s\n",
      "Operator `forward` ran in 0.04 s\n",
      "Operator `gradient` ran in 0.05 s\n",
      "Operator `forward` ran in 0.04 s\n",
      "Operator `gradient` ran in 0.05 s\n",
      "Operator `forward` ran in 0.04 s\n",
      "Operator `gradient` ran in 0.04 s\n",
      "Operator `forward` ran in 0.04 s\n",
      "Operator `gradient` ran in 0.04 s\n",
      "Operator `forward` ran in 0.04 s\n",
      "Operator `gradient` ran in 0.05 s\n",
      "Operator `forward` ran in 0.04 s\n",
      "Operator `gradient` ran in 0.04 s\n",
      "Operator `forward` ran in 0.04 s\n",
      "Operator `gradient` ran in 0.05 s\n",
      "Operator `forward` ran in 0.04 s\n",
      "Operator `gradient` ran in 0.05 s\n"
     ]
    },
    {
     "name": "stdout",
     "output_type": "stream",
     "text": [
      "(α, misfit) = (0.1f0, 1.621904e6)\n",
      "(α, misfit) = "
     ]
    },
    {
     "name": "stderr",
     "output_type": "stream",
     "text": [
      "Operator `forward` ran in 0.04 s\n",
      "Operator `forward` ran in 0.04 s\n",
      "Operator `forward` ran in 0.04 s\n",
      "Operator `forward` ran in 0.04 s\n",
      "Operator `forward` ran in 0.04 s\n",
      "Operator `forward` ran in 0.04 s\n",
      "Operator `forward` ran in 0.04 s\n",
      "Operator `forward` ran in 0.04 s\n",
      "Operator `forward` ran in 0.04 s\n",
      "Operator `forward` ran in 0.04 s\n",
      "Operator `forward` ran in 0.04 s\n",
      "Operator `forward` ran in 0.04 s\n",
      "Operator `forward` ran in 0.04 s\n",
      "Operator `forward` ran in 0.04 s\n",
      "Operator `forward` ran in 0.07 s\n",
      "Operator `forward` ran in 0.06 s\n"
     ]
    },
    {
     "name": "stdout",
     "output_type": "stream",
     "text": [
      "(0.015711927703938325, 194651.359375)\n"
     ]
    },
    {
     "name": "stderr",
     "output_type": "stream",
     "text": [
      "Operator `forward` ran in 0.05 s\n",
      "Operator `forward` ran in 0.04 s\n",
      "Operator `forward` ran in 0.06 s\n",
      "Operator `forward` ran in 0.06 s\n",
      "Operator `forward` ran in 0.04 s\n",
      "Operator `forward` ran in 0.03 s\n",
      "Operator `forward` ran in 0.03 s\n",
      "Operator `forward` ran in 0.04 s\n",
      "Operator `forward` ran in 0.04 s\n",
      "Operator `forward` ran in 0.04 s\n",
      "Operator `forward` ran in 0.04 s\n",
      "Operator `forward` ran in 0.04 s\n",
      "Operator `forward` ran in 0.04 s\n",
      "Operator `forward` ran in 0.05 s\n",
      "Operator `forward` ran in 0.04 s\n",
      "Operator `forward` ran in 0.03 s\n"
     ]
    },
    {
     "name": "stdout",
     "output_type": "stream",
     "text": [
      "(α, misfit) = (0.002906480882354426, 3759.581787109375)\n",
      "FWI iteration no: "
     ]
    },
    {
     "name": "stderr",
     "output_type": "stream",
     "text": [
      "Operator `forward` ran in 0.05 s\n",
      "Operator `forward` ran in 0.05 s\n",
      "Operator `forward` ran in 0.05 s\n",
      "Operator `forward` ran in 0.05 s\n",
      "Operator `forward` ran in 0.05 s\n",
      "Operator `forward` ran in 0.04 s\n",
      "Operator `forward` ran in 0.04 s\n",
      "Operator `forward` ran in 0.04 s\n",
      "Operator `forward` ran in 0.05 s\n",
      "Operator `forward` ran in 0.03 s\n",
      "Operator `forward` ran in 0.03 s\n",
      "Operator `forward` ran in 0.05 s\n",
      "Operator `forward` ran in 0.03 s\n",
      "Operator `forward` ran in 0.03 s\n",
      "Operator `forward` ran in 0.06 s\n",
      "Operator `forward` ran in 0.03 s\n"
     ]
    },
    {
     "name": "stdout",
     "output_type": "stream",
     "text": [
      "27; function value: 21749.947\n"
     ]
    },
    {
     "name": "stderr",
     "output_type": "stream",
     "text": [
      "Operator `forward` ran in 0.04 s\n",
      "Operator `gradient` ran in 0.05 s\n",
      "Operator `forward` ran in 0.04 s\n",
      "Operator `gradient` ran in 0.05 s\n",
      "Operator `forward` ran in 0.04 s\n",
      "Operator `gradient` ran in 0.05 s\n",
      "Operator `forward` ran in 0.04 s\n",
      "Operator `gradient` ran in 0.05 s\n",
      "Operator `forward` ran in 0.04 s\n",
      "Operator `gradient` ran in 0.05 s\n",
      "Operator `forward` ran in 0.04 s\n",
      "Operator `gradient` ran in 0.04 s\n",
      "Operator `forward` ran in 0.04 s\n",
      "Operator `gradient` ran in 0.05 s\n",
      "Operator `forward` ran in 0.04 s\n",
      "Operator `gradient` ran in 0.05 s\n",
      "Operator `forward` ran in 0.04 s\n",
      "Operator `gradient` ran in 0.05 s\n",
      "Operator `forward` ran in 0.04 s\n",
      "Operator `gradient` ran in 0.05 s\n",
      "Operator `forward` ran in 0.04 s\n",
      "Operator `gradient` ran in 0.04 s\n",
      "Operator `forward` ran in 0.04 s\n",
      "Operator `gradient` ran in 0.04 s\n",
      "Operator `forward` ran in 0.04 s\n",
      "Operator `gradient` ran in 0.05 s\n",
      "Operator `forward` ran in 0.04 s\n",
      "Operator `gradient` ran in 0.04 s\n",
      "Operator `forward` ran in 0.04 s\n",
      "Operator `gradient` ran in 0.04 s\n",
      "Operator `forward` ran in 0.04 s\n",
      "Operator `gradient` ran in 0.05 s\n"
     ]
    },
    {
     "name": "stdout",
     "output_type": "stream",
     "text": [
      "(α, misfit) = (0.1f0, 786701.8125)\n",
      "(α, misfit) = "
     ]
    },
    {
     "name": "stderr",
     "output_type": "stream",
     "text": [
      "Operator `forward` ran in 0.04 s\n",
      "Operator `forward` ran in 0.03 s\n",
      "Operator `forward` ran in 0.04 s\n",
      "Operator `forward` ran in 0.04 s\n",
      "Operator `forward` ran in 0.04 s\n",
      "Operator `forward` ran in 0.04 s\n",
      "Operator `forward` ran in 0.04 s\n",
      "Operator `forward` ran in 0.04 s\n",
      "Operator `forward` ran in 0.04 s\n",
      "Operator `forward` ran in 0.03 s\n",
      "Operator `forward` ran in 0.04 s\n",
      "Operator `forward` ran in 0.04 s\n",
      "Operator `forward` ran in 0.04 s\n",
      "Operator `forward` ran in 0.04 s\n",
      "Operator `forward` ran in 0.04 s\n",
      "Operator `forward` ran in 0.05 s\n"
     ]
    },
    {
     "name": "stdout",
     "output_type": "stream",
     "text": [
      "(0.010000000149011612, 15691.6630859375)\n"
     ]
    },
    {
     "name": "stderr",
     "output_type": "stream",
     "text": [
      "Operator `forward` ran in 0.03 s\n",
      "Operator `forward` ran in 0.03 s\n",
      "Operator `forward` ran in 0.03 s\n",
      "Operator `forward` ran in 0.03 s\n",
      "Operator `forward` ran in 0.03 s\n",
      "Operator `forward` ran in 0.03 s\n",
      "Operator `forward` ran in 0.03 s\n",
      "Operator `forward` ran in 0.05 s\n",
      "Operator `forward` ran in 0.06 s\n",
      "Operator `forward` ran in 0.04 s\n",
      "Operator `forward` ran in 0.04 s\n",
      "Operator `forward` ran in 0.04 s\n",
      "Operator `forward` ran in 0.04 s\n",
      "Operator `forward` ran in 0.03 s\n",
      "Operator `forward` ran in 0.05 s\n",
      "Operator `forward` ran in 0.03 s\n"
     ]
    },
    {
     "name": "stdout",
     "output_type": "stream",
     "text": [
      "FWI iteration no: 28; function value: 33652.355\n",
      "(α, misfit) = "
     ]
    },
    {
     "name": "stderr",
     "output_type": "stream",
     "text": [
      "Operator `forward` ran in 0.04 s\n",
      "Operator `gradient` ran in 0.05 s\n",
      "Operator `forward` ran in 0.04 s\n",
      "Operator `gradient` ran in 0.05 s\n",
      "Operator `forward` ran in 0.04 s\n",
      "Operator `gradient` ran in 0.05 s\n",
      "Operator `forward` ran in 0.04 s\n",
      "Operator `gradient` ran in 0.05 s\n",
      "Operator `forward` ran in 0.04 s\n",
      "Operator `gradient` ran in 0.05 s\n",
      "Operator `forward` ran in 0.05 s\n",
      "Operator `gradient` ran in 0.09 s\n",
      "Operator `forward` ran in 0.05 s\n",
      "Operator `gradient` ran in 0.05 s\n",
      "Operator `forward` ran in 0.05 s\n",
      "Operator `gradient` ran in 0.05 s\n",
      "Operator `forward` ran in 0.05 s\n",
      "Operator `gradient` ran in 0.05 s\n",
      "Operator `forward` ran in 0.04 s\n",
      "Operator `gradient` ran in 0.05 s\n",
      "Operator `forward` ran in 0.04 s\n",
      "Operator `gradient` ran in 0.05 s\n",
      "Operator `forward` ran in 0.04 s\n",
      "Operator `gradient` ran in 0.05 s\n",
      "Operator `forward` ran in 0.04 s\n",
      "Operator `gradient` ran in 0.05 s\n",
      "Operator `forward` ran in 0.04 s\n",
      "Operator `gradient` ran in 0.05 s\n",
      "Operator `forward` ran in 0.04 s\n",
      "Operator `gradient` ran in 0.05 s\n",
      "Operator `forward` ran in 0.04 s\n",
      "Operator `gradient` ran in 0.05 s\n"
     ]
    },
    {
     "name": "stdout",
     "output_type": "stream",
     "text": [
      "(0.1f0, 1.36539225e6)\n"
     ]
    },
    {
     "name": "stderr",
     "output_type": "stream",
     "text": [
      "Operator `forward` ran in 0.04 s\n",
      "Operator `forward` ran in 0.04 s\n",
      "Operator `forward` ran in 0.06 s\n",
      "Operator `forward` ran in 0.04 s\n",
      "Operator `forward` ran in 0.04 s\n",
      "Operator `forward` ran in 0.05 s\n",
      "Operator `forward` ran in 0.05 s\n",
      "Operator `forward` ran in 0.05 s\n",
      "Operator `forward` ran in 0.05 s\n",
      "Operator `forward` ran in 0.05 s\n",
      "Operator `forward` ran in 0.05 s\n",
      "Operator `forward` ran in 0.05 s\n",
      "Operator `forward` ran in 0.04 s\n",
      "Operator `forward` ran in 0.04 s\n",
      "Operator `forward` ran in 0.04 s\n",
      "Operator `forward` ran in 0.04 s\n"
     ]
    },
    {
     "name": "stdout",
     "output_type": "stream",
     "text": [
      "(α, misfit) = (0.018377994122395696, 200719.125)\n",
      "(α, misfit) = "
     ]
    },
    {
     "name": "stderr",
     "output_type": "stream",
     "text": [
      "Operator `forward` ran in 0.05 s\n",
      "Operator `forward` ran in 0.05 s\n",
      "Operator `forward` ran in 0.05 s\n",
      "Operator `forward` ran in 0.04 s\n",
      "Operator `forward` ran in 0.04 s\n",
      "Operator `forward` ran in 0.04 s\n",
      "Operator `forward` ran in 0.04 s\n",
      "Operator `forward` ran in 0.03 s\n",
      "Operator `forward` ran in 0.04 s\n",
      "Operator `forward` ran in 0.04 s\n",
      "Operator `forward` ran in 0.04 s\n",
      "Operator `forward` ran in 0.03 s\n",
      "Operator `forward` ran in 0.04 s\n",
      "Operator `forward` ran in 0.04 s\n",
      "Operator `forward` ran in 0.04 s\n",
      "Operator `forward` ran in 0.04 s\n"
     ]
    },
    {
     "name": "stdout",
     "output_type": "stream",
     "text": [
      "(0.0037730064503459144, 3453.21826171875)\n"
     ]
    },
    {
     "name": "stderr",
     "output_type": "stream",
     "text": [
      "Operator `forward` ran in 0.03 s\n",
      "Operator `forward` ran in 0.03 s\n",
      "Operator `forward` ran in 0.03 s\n",
      "Operator `forward` ran in 0.04 s\n",
      "Operator `forward` ran in 0.04 s\n",
      "Operator `forward` ran in 0.04 s\n",
      "Operator `forward` ran in 0.04 s\n",
      "Operator `forward` ran in 0.05 s\n",
      "Operator `forward` ran in 0.05 s\n",
      "Operator `forward` ran in 0.05 s\n",
      "Operator `forward` ran in 0.04 s\n",
      "Operator `forward` ran in 0.03 s\n",
      "Operator `forward` ran in 0.04 s\n",
      "Operator `forward` ran in 0.05 s\n",
      "Operator `forward` ran in 0.04 s\n",
      "Operator `forward` ran in 0.04 s\n"
     ]
    },
    {
     "name": "stdout",
     "output_type": "stream",
     "text": [
      "FWI iteration no: 29; function value: 21444.672\n",
      "(α, misfit) = "
     ]
    },
    {
     "name": "stderr",
     "output_type": "stream",
     "text": [
      "Operator `forward` ran in 0.04 s\n",
      "Operator `gradient` ran in 0.05 s\n",
      "Operator `forward` ran in 0.04 s\n",
      "Operator `gradient` ran in 0.05 s\n",
      "Operator `forward` ran in 0.04 s\n",
      "Operator `gradient` ran in 0.04 s\n",
      "Operator `forward` ran in 0.04 s\n",
      "Operator `gradient` ran in 0.05 s\n",
      "Operator `forward` ran in 0.04 s\n",
      "Operator `gradient` ran in 0.05 s\n",
      "Operator `forward` ran in 0.04 s\n",
      "Operator `gradient` ran in 0.05 s\n",
      "Operator `forward` ran in 0.04 s\n",
      "Operator `gradient` ran in 0.05 s\n",
      "Operator `forward` ran in 0.04 s\n",
      "Operator `gradient` ran in 0.05 s\n",
      "Operator `forward` ran in 0.04 s\n",
      "Operator `gradient` ran in 0.05 s\n",
      "Operator `forward` ran in 0.04 s\n",
      "Operator `gradient` ran in 0.05 s\n",
      "Operator `forward` ran in 0.04 s\n",
      "Operator `gradient` ran in 0.05 s\n",
      "Operator `forward` ran in 0.04 s\n",
      "Operator `gradient` ran in 0.05 s\n",
      "Operator `forward` ran in 0.04 s\n",
      "Operator `gradient` ran in 0.05 s\n",
      "Operator `forward` ran in 0.04 s\n",
      "Operator `gradient` ran in 0.05 s\n",
      "Operator `forward` ran in 0.04 s\n",
      "Operator `gradient` ran in 0.05 s\n",
      "Operator `forward` ran in 0.04 s\n",
      "Operator `gradient` ran in 0.05 s\n"
     ]
    },
    {
     "name": "stdout",
     "output_type": "stream",
     "text": [
      "(0.1f0, 543704.625)\n"
     ]
    },
    {
     "name": "stderr",
     "output_type": "stream",
     "text": [
      "Operator `forward` ran in 0.03 s\n",
      "Operator `forward` ran in 0.03 s\n",
      "Operator `forward` ran in 0.04 s\n",
      "Operator `forward` ran in 0.04 s\n",
      "Operator `forward` ran in 0.04 s\n",
      "Operator `forward` ran in 0.04 s\n",
      "Operator `forward` ran in 0.04 s\n",
      "Operator `forward` ran in 0.04 s\n",
      "Operator `forward` ran in 0.04 s\n",
      "Operator `forward` ran in 0.04 s\n",
      "Operator `forward` ran in 0.04 s\n",
      "Operator `forward` ran in 0.03 s\n",
      "Operator `forward` ran in 0.04 s\n",
      "Operator `forward` ran in 0.05 s\n",
      "Operator `forward` ran in 0.05 s\n",
      "Operator `forward` ran in 0.05 s\n"
     ]
    },
    {
     "name": "stdout",
     "output_type": "stream",
     "text": [
      "(α, misfit) = (0.010594527183411159, 7899.33154296875)\n",
      "FWI iteration no: "
     ]
    },
    {
     "name": "stderr",
     "output_type": "stream",
     "text": [
      "Operator `forward` ran in 0.04 s\n",
      "Operator `forward` ran in 0.06 s\n",
      "Operator `forward` ran in 0.04 s\n",
      "Operator `forward` ran in 0.04 s\n",
      "Operator `forward` ran in 0.04 s\n",
      "Operator `forward` ran in 0.03 s\n",
      "Operator `forward` ran in 0.04 s\n",
      "Operator `forward` ran in 0.04 s\n",
      "Operator `forward` ran in 0.04 s\n",
      "Operator `forward` ran in 0.04 s\n",
      "Operator `forward` ran in 0.04 s\n",
      "Operator `forward` ran in 0.03 s\n",
      "Operator `forward` ran in 0.04 s\n",
      "Operator `forward` ran in 0.03 s\n",
      "Operator `forward` ran in 0.04 s\n",
      "Operator `forward` ran in 0.03 s\n"
     ]
    },
    {
     "name": "stdout",
     "output_type": "stream",
     "text": [
      "30; function value: 25868.121\n"
     ]
    },
    {
     "name": "stderr",
     "output_type": "stream",
     "text": [
      "Operator `forward` ran in 0.04 s\n",
      "Operator `gradient` ran in 0.05 s\n",
      "Operator `forward` ran in 0.04 s\n",
      "Operator `gradient` ran in 0.05 s\n",
      "Operator `forward` ran in 0.04 s\n",
      "Operator `gradient` ran in 0.05 s\n",
      "Operator `forward` ran in 0.04 s\n",
      "Operator `gradient` ran in 0.05 s\n",
      "Operator `forward` ran in 0.04 s\n",
      "Operator `gradient` ran in 0.05 s\n",
      "Operator `forward` ran in 0.04 s\n",
      "Operator `gradient` ran in 0.05 s\n",
      "Operator `forward` ran in 0.04 s\n",
      "Operator `gradient` ran in 0.05 s\n",
      "Operator `forward` ran in 0.04 s\n",
      "Operator `gradient` ran in 0.05 s\n",
      "Operator `forward` ran in 0.04 s\n",
      "Operator `gradient` ran in 0.05 s\n",
      "Operator `forward` ran in 0.04 s\n",
      "Operator `gradient` ran in 0.05 s\n",
      "Operator `forward` ran in 0.04 s\n",
      "Operator `gradient` ran in 0.05 s\n",
      "Operator `forward` ran in 0.04 s\n",
      "Operator `gradient` ran in 0.05 s\n",
      "Operator `forward` ran in 0.04 s\n",
      "Operator `gradient` ran in 0.05 s\n",
      "Operator `forward` ran in 0.05 s\n",
      "Operator `gradient` ran in 0.05 s\n",
      "Operator `forward` ran in 0.04 s\n",
      "Operator `gradient` ran in 0.05 s\n",
      "Operator `forward` ran in 0.04 s\n",
      "Operator `gradient` ran in 0.05 s\n"
     ]
    },
    {
     "name": "stdout",
     "output_type": "stream",
     "text": [
      "(α, misfit) = (0.1f0, 1.591685e6)\n",
      "(α, misfit) = "
     ]
    },
    {
     "name": "stderr",
     "output_type": "stream",
     "text": [
      "Operator `forward` ran in 0.04 s\n",
      "Operator `forward` ran in 0.05 s\n",
      "Operator `forward` ran in 0.05 s\n",
      "Operator `forward` ran in 0.04 s\n",
      "Operator `forward` ran in 0.04 s\n",
      "Operator `forward` ran in 0.04 s\n",
      "Operator `forward` ran in 0.04 s\n",
      "Operator `forward` ran in 0.04 s\n",
      "Operator `forward` ran in 0.04 s\n",
      "Operator `forward` ran in 0.05 s\n",
      "Operator `forward` ran in 0.05 s\n",
      "Operator `forward` ran in 0.05 s\n",
      "Operator `forward` ran in 0.04 s\n",
      "Operator `forward` ran in 0.07 s\n",
      "Operator `forward` ran in 0.05 s\n",
      "Operator `forward` ran in 0.04 s\n"
     ]
    },
    {
     "name": "stdout",
     "output_type": "stream",
     "text": [
      "(0.012063967925524324, 78244.5)\n"
     ]
    },
    {
     "name": "stderr",
     "output_type": "stream",
     "text": [
      "Operator `forward` ran in 0.04 s\n",
      "Operator `forward` ran in 0.04 s\n",
      "Operator `forward` ran in 0.04 s\n",
      "Operator `forward` ran in 0.04 s\n",
      "Operator `forward` ran in 0.04 s\n",
      "Operator `forward` ran in 0.04 s\n",
      "Operator `forward` ran in 0.07 s\n",
      "Operator `forward` ran in 0.05 s\n",
      "Operator `forward` ran in 0.03 s\n",
      "Operator `forward` ran in 0.03 s\n",
      "Operator `forward` ran in 0.04 s\n",
      "Operator `forward` ran in 0.04 s\n",
      "Operator `forward` ran in 0.04 s\n",
      "Operator `forward` ran in 0.03 s\n",
      "Operator `forward` ran in 0.03 s\n",
      "Operator `forward` ran in 0.06 s\n"
     ]
    },
    {
     "name": "stdout",
     "output_type": "stream",
     "text": [
      "(α, misfit) = (0.003032449688886237, 3809.79150390625)\n"
     ]
    },
    {
     "name": "stderr",
     "output_type": "stream",
     "text": [
      "Operator `forward` ran in 0.04 s\n",
      "Operator `forward` ran in 0.04 s\n",
      "Operator `forward` ran in 0.04 s\n",
      "Operator `forward` ran in 0.03 s\n",
      "Operator `forward` ran in 0.04 s\n",
      "Operator `forward` ran in 0.04 s\n",
      "Operator `forward` ran in 0.03 s\n",
      "Operator `forward` ran in 0.04 s\n",
      "Operator `forward` ran in 0.03 s\n",
      "Operator `forward` ran in 0.03 s\n",
      "Operator `forward` ran in 0.03 s\n",
      "Operator `forward` ran in 0.06 s\n",
      "Operator `forward` ran in 0.06 s\n",
      "Operator `forward` ran in 0.03 s\n",
      "Operator `forward` ran in 0.06 s\n",
      "Operator `forward` ran in 0.07 s\n"
     ]
    }
   ],
   "source": [
    "# Main loop\n",
    "for j=1:niterations\n",
    "\n",
    "    # get fwi objective function value and gradient\n",
    "    i = randperm(d_obs.nsrc)[1:batchsize]\n",
    "    fval, gradient = fwi_objective(model0, q[i], d_obs[i])\n",
    "    p = -gradient/norm(gradient, Inf)\n",
    "    \n",
    "    println(\"FWI iteration no: \",j,\"; function value: \",fval)\n",
    "    fhistory_SGD[j] = fval\n",
    "\n",
    "    # linesearch\n",
    "    function ϕ(α)\n",
    "        F0.model.m .= proj(model0.m .+ α * p)\n",
    "        misfit = .5*norm(F0[i]*q[i] - d_obs[i])^2\n",
    "        @show α, misfit\n",
    "        return misfit\n",
    "    end\n",
    "    step, fval = ls(ϕ, 1f-1, fval, dot(gradient, p))\n",
    "\n",
    "    # Update model and bound projection\n",
    "    model0.m .= proj(model0.m .+ step .* p)\n",
    "    m0_values[:, j] = model0.m\n",
    "end"
   ]
  },
  {
   "cell_type": "code",
   "execution_count": 19,
   "metadata": {},
   "outputs": [],
   "source": [
    "fwi = sqrt.(1f0./adjoint(reshape(m0_values[:, 29], (401,121))));"
   ]
  },
  {
   "cell_type": "code",
   "execution_count": 23,
   "metadata": {},
   "outputs": [
    {
     "data": {
      "text/plain": [
       "5.5f0"
      ]
     },
     "metadata": {},
     "output_type": "display_data"
    }
   ],
   "source": [
    "maximum(v)"
   ]
  },
  {
   "cell_type": "code",
   "execution_count": 28,
   "metadata": {},
   "outputs": [
    {
     "data": {
      "image/png": "[encoded data removed]",
      "text/plain": [
       "Figure(PyObject <Figure size 6600x1200 with 6 Axes>)"
      ]
     },
     "metadata": {},
     "output_type": "display_data"
    }
   ],
   "source": [
    "fig=figure(figsize=(22,4), dpi=300);\n",
    "subplot(131)\n",
    "im = imshow(v', cmap=\"viridis\", extent=[0, (model0.n[1]-1)*model0.d[1], (model0.n[2]-1)*model0.d[2], 0], vmin=1.5, vmax=5.5, aspect=\"auto\")\n",
    "cb = colorbar(im, pad=0.01)\n",
    "cb[:set_label](label = L\"$V_p [km/s]$\")\n",
    "xlabel(L\"Posición horizontal $[m]$\")\n",
    "ylabel(L\"Profundidad $[m]$\")\n",
    "title(L\"Modelo real $\\mathbf{m}$\")\n",
    "subplot(132)\n",
    "im = imshow(v0', cmap=\"viridis\", extent=[0, (model0.n[1]-1)*model0.d[1], (model0.n[2]-1)*model0.d[2], 0], vmin=1.5, vmax=5.5, aspect=\"auto\")\n",
    "cb = colorbar(im, pad=0.01)\n",
    "cb[:set_label](label = L\"$V_p [km/s]$\")\n",
    "xlabel(L\"Posición horizontal $[m]$\")\n",
    "ylabel(L\"Profundidad $[m]$\")\n",
    "title(L\"Modelo inicial $\\mathbf{m_0}$\")\n",
    "subplot(133)\n",
    "im = imshow(fwi, cmap=\"viridis\", extent=[0, (model0.n[1]-1)*model0.d[1], (model0.n[2]-1)*model0.d[2], 0], vmin=1.5, vmax=5.5, aspect=\"auto\")\n",
    "cb = colorbar(im, pad=0.01)\n",
    "cb[:set_label](label = L\"$V_p [km/s]$\")\n",
    "xlabel(L\"Posición horizontal $[m]$\")\n",
    "ylabel(L\"Profundidad $[m]$\")\n",
    "title(\"FWI con bajas frecuencias\")\n",
    "display(fig)"
   ]
  },
  {
   "cell_type": "code",
   "execution_count": 30,
   "metadata": {},
   "outputs": [
    {
     "name": "stdout",
     "output_type": "stream",
     "text": [
      "El error cuadrático medio del modelo inicial es: 0.1265017\n",
      "El error cuadrático medio de FWI es: "
     ]
    },
    {
     "name": "stdout",
     "output_type": "stream",
     "text": [
      "0.05322190362027793\n"
     ]
    }
   ],
   "source": [
    "mse = sum((v .- v0).^2) / length(v)\n",
    "println(\"El error cuadrático medio del modelo inicial es: \", mse)\n",
    "mse = sum((v .- fwi').^2) / length(v)\n",
    "println(\"El error cuadrático medio de FWI es: \", mse)"
   ]
  },
  {
   "cell_type": "code",
   "execution_count": 31,
   "metadata": {},
   "outputs": [
    {
     "name": "stdout",
     "output_type": "stream",
     "text": [
      "Porcentaje de error (v0): 7.9860744\n",
      "Porcentaje de error (FWI): 4.489374036920178\n"
     ]
    }
   ],
   "source": [
    "error_porcentaje_v0 = 100 * sum(abs.(v - v0)) / sum(abs.(v))\n",
    "error_porcentaje_fwi = 100 * sum(abs.(v - fwi')) / sum(abs.(v))\n",
    "\n",
    "println(\"Porcentaje de error (v0): \", error_porcentaje_v0)\n",
    "println(\"Porcentaje de error (FWI): \", error_porcentaje_fwi)"
   ]
  },
  {
   "cell_type": "code",
   "execution_count": 34,
   "metadata": {},
   "outputs": [
    {
     "data": {
      "image/png": "[encoded data removed]",
      "text/plain": [
       "Figure(PyObject <Figure size 640x480 with 2 Axes>)"
      ]
     },
     "metadata": {},
     "output_type": "display_data"
    }
   ],
   "source": [
    "difs = v'-fwi\n",
    "fig=figure() #figsize=(20, 5)\n",
    "im = imshow(difs, cmap=\"viridis\", extent=[0, (model0.n[1]-1)*model0.d[1], (model0.n[2]-1)*model0.d[2], 0], vmin=-1, vmax=1)\n",
    "cb = colorbar(im)\n",
    "cb[:set_label](label = \"Error\")\n",
    "xlabel(L\"Posición horizontal $[m]$\")\n",
    "ylabel(L\"Profundidad $[m]$\")\n",
    "title(\"Error relativa\")\n",
    "display(fig)"
   ]
  },
  {
   "cell_type": "code",
   "execution_count": 35,
   "metadata": {},
   "outputs": [
    {
     "data": {
      "image/png": "[encoded data removed]",
      "text/plain": [
       "Figure(PyObject <Figure size 1920x1440 with 1 Axes>)"
      ]
     },
     "metadata": {},
     "output_type": "display_data"
    }
   ],
   "source": [
    "fig=figure(dpi=300) #figsize=(20, 5)\n",
    "xax = 1:1:30\n",
    "plot(xax, fhistory_SGD)\n",
    "xlabel(\"Número de iteraciones\")\n",
    "ylabel(\"Valor de desajuste\")\n",
    "title(\"Convergencia\")\n",
    "display(fig)"
   ]
  },
  {
   "cell_type": "code",
   "execution_count": 42,
   "metadata": {},
   "outputs": [],
   "source": [
    "dm = mm - m0;"
   ]
  },
  {
   "cell_type": "code",
   "execution_count": 43,
   "metadata": {},
   "outputs": [],
   "source": [
    "save(\"model_overthrust_fwi_result_low_f.jld\", \"n\", n, \"d\", d, \"o\", o, \"m\", mm, \"m0\", model0.m.data, \"dm\", dm, \"fwi\", fwi')"
   ]
  }
 ],
 "metadata": {
  "kernelspec": {
   "display_name": "Julia 1.9.0",
   "language": "julia",
   "name": "julia-1.9"
  },
  "language_info": {
   "file_extension": ".jl",
   "mimetype": "application/julia",
   "name": "julia",
   "version": "1.9.0"
  },
  "orig_nbformat": 4
 },
 "nbformat": 4,
 "nbformat_minor": 2
}
