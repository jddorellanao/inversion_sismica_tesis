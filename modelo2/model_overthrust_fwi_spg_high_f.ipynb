{
 "cells": [
  {
   "attachments": {},
   "cell_type": "markdown",
   "metadata": {},
   "source": [
    "# FWI modelo SEG/EAGE"
   ]
  },
  {
   "cell_type": "code",
   "execution_count": 19,
   "metadata": {},
   "outputs": [],
   "source": [
    "using PyPlot, JLD, SegyIO, JUDI, SlimOptim, Statistics, Random, LinearAlgebra, ImageFiltering, HDF5"
   ]
  },
  {
   "cell_type": "code",
   "execution_count": 21,
   "metadata": {},
   "outputs": [],
   "source": [
    "n,d,o,m0,m = read(h5open(\"$(JUDI.JUDI_DATA)/overthrust_model.h5\",\"r\"), \"n\", \"d\", \"o\", \"m0\", \"m\")\n",
    "model0 = Model((n[1],n[2]), (d[1],d[2]), (o[1],o[2]), m0);"
   ]
  },
  {
   "cell_type": "code",
   "execution_count": 22,
   "metadata": {},
   "outputs": [],
   "source": [
    "v0 = sqrt.(1f0 ./ m0)\n",
    "vmin = ones(Float32, model0.n) .* 1.3f0\n",
    "vmax = ones(Float32, model0.n) .* 6.5f0\n",
    "vmin[:,1:21] .= v0[:,1:21]   # keep water column fixed\n",
    "vmax[:,1:21] .= v0[:,1:21];\n",
    "# Slowness squared [s^2/km^2]\n",
    "mmin = vec((1f0 ./ vmax).^2)\n",
    "mmax = vec((1f0 ./ vmin).^2);"
   ]
  },
  {
   "cell_type": "code",
   "execution_count": 23,
   "metadata": {},
   "outputs": [
    {
     "name": "stderr",
     "output_type": "stream",
     "text": [
      "┌ Warning: Fixed length trace flag set in stream: IOBuffer(data=UInt8[...], readable=true, writable=false, seekable=true, append=false, size=7076688, maxsize=Inf, ptr=3601, mark=-1)\n",
      "└ @ SegyIO /home/geouser/.julia/packages/SegyIO/aQwou/src/read/read_file.jl:36\n"
     ]
    },
    {
     "name": "stdout",
     "output_type": "stream",
     "text": [
      "judiVector{Float32, Matrix{Float32}} with 16 sources\n"
     ]
    }
   ],
   "source": [
    "# Load data\n",
    "block = segy_read(\"$(JUDI.JUDI_DATA)/overthrust_shot_records.segy\")\n",
    "d_obs = judiVector(block)"
   ]
  },
  {
   "cell_type": "code",
   "execution_count": 24,
   "metadata": {},
   "outputs": [
    {
     "name": "stdout",
     "output_type": "stream",
     "text": [
      "judiVector{Float32, Matrix{Float32}} with 16 sources\n"
     ]
    }
   ],
   "source": [
    "# Set up wavelet\n",
    "src_geometry = Geometry(block; key=\"source\")\n",
    "wavelet = ricker_wavelet(src_geometry.t[1],src_geometry.dt[1],0.008f0)  # 8 Hz wavelet\n",
    "q = judiVector(src_geometry,wavelet)"
   ]
  },
  {
   "cell_type": "code",
   "execution_count": 25,
   "metadata": {},
   "outputs": [
    {
     "name": "stdout",
     "output_type": "stream",
     "text": [
      "JUDI forward{Float32} propagator (src * rec * time) -> (src * rec * time)\n"
     ]
    }
   ],
   "source": [
    "F0 = judiModeling(deepcopy(model0), src_geometry, d_obs.geometry)"
   ]
  },
  {
   "cell_type": "code",
   "execution_count": 26,
   "metadata": {},
   "outputs": [],
   "source": [
    "# Optimization parameters\n",
    "niterations = parse(Int, get(ENV, \"NITER\", \"30\"))\n",
    "batchsize = 16\n",
    "fhistory_SGD = zeros(Float32, niterations)\n",
    "m0_values = zeros(length(model0.m), niterations);"
   ]
  },
  {
   "cell_type": "code",
   "execution_count": 27,
   "metadata": {},
   "outputs": [],
   "source": [
    "# Projection operator for bound constraints\n",
    "proj(x) = reshape(median([vec(mmin) vec(x) vec(mmax)]; dims=2),model0.n)\n",
    "ls = BackTracking(order=3, iterations=10, );"
   ]
  },
  {
   "cell_type": "code",
   "execution_count": 28,
   "metadata": {},
   "outputs": [
    {
     "name": "stdout",
     "output_type": "stream",
     "text": [
      "FWI iteration no: 1; function value: 521676.0\n",
      "(α, misfit) = "
     ]
    },
    {
     "name": "stderr",
     "output_type": "stream",
     "text": [
      "Operator `forward` ran in 0.04 s\n",
      "Operator `gradient` ran in 0.05 s\n",
      "Operator `forward` ran in 0.06 s\n",
      "Operator `gradient` ran in 0.05 s\n",
      "Operator `forward` ran in 0.04 s\n",
      "Operator `gradient` ran in 0.05 s\n",
      "Operator `forward` ran in 0.04 s\n",
      "Operator `gradient` ran in 0.04 s\n",
      "Operator `forward` ran in 0.04 s\n",
      "Operator `gradient` ran in 0.05 s\n",
      "Operator `forward` ran in 0.04 s\n",
      "Operator `gradient` ran in 0.05 s\n",
      "Operator `forward` ran in 0.04 s\n",
      "Operator `gradient` ran in 0.05 s\n",
      "Operator `forward` ran in 0.04 s\n",
      "Operator `gradient` ran in 0.04 s\n",
      "Operator `forward` ran in 0.04 s\n",
      "Operator `gradient` ran in 0.04 s\n",
      "Operator `forward` ran in 0.04 s\n",
      "Operator `gradient` ran in 0.04 s\n",
      "Operator `forward` ran in 0.04 s\n",
      "Operator `gradient` ran in 0.04 s\n",
      "Operator `forward` ran in 0.04 s\n",
      "Operator `gradient` ran in 0.04 s\n",
      "Operator `forward` ran in 0.04 s\n",
      "Operator `gradient` ran in 0.04 s\n",
      "Operator `forward` ran in 0.04 s\n",
      "Operator `gradient` ran in 0.04 s\n",
      "Operator `forward` ran in 0.04 s\n",
      "Operator `gradient` ran in 0.05 s\n",
      "Operator `forward` ran in 0.04 s\n",
      "Operator `gradient` ran in 0.04 s\n"
     ]
    },
    {
     "name": "stdout",
     "output_type": "stream",
     "text": [
      "(0.1f0, 334768.34375)\n"
     ]
    },
    {
     "name": "stderr",
     "output_type": "stream",
     "text": [
      "Operator `forward` ran in 0.03 s\n",
      "Operator `forward` ran in 0.03 s\n",
      "Operator `forward` ran in 0.03 s\n",
      "Operator `forward` ran in 0.04 s\n",
      "Operator `forward` ran in 0.04 s\n",
      "Operator `forward` ran in 0.03 s\n",
      "Operator `forward` ran in 0.04 s\n",
      "Operator `forward` ran in 0.04 s\n",
      "Operator `forward` ran in 0.04 s\n",
      "Operator `forward` ran in 0.04 s\n",
      "Operator `forward` ran in 0.05 s\n",
      "Operator `forward` ran in 0.05 s\n",
      "Operator `forward` ran in 0.04 s\n",
      "Operator `forward` ran in 0.04 s\n",
      "Operator `forward` ran in 0.04 s\n",
      "Operator `forward` ran in 0.03 s\n"
     ]
    },
    {
     "name": "stdout",
     "output_type": "stream",
     "text": [
      "FWI iteration no: 2; function value: 334871.3\n",
      "(α, misfit) = "
     ]
    },
    {
     "name": "stderr",
     "output_type": "stream",
     "text": [
      "Operator `forward` ran in 0.04 s\n",
      "Operator `gradient` ran in 0.05 s\n",
      "Operator `forward` ran in 0.04 s\n",
      "Operator `gradient` ran in 0.04 s\n",
      "Operator `forward` ran in 0.04 s\n",
      "Operator `gradient` ran in 0.05 s\n",
      "Operator `forward` ran in 0.04 s\n",
      "Operator `gradient` ran in 0.05 s\n",
      "Operator `forward` ran in 0.04 s\n",
      "Operator `gradient` ran in 0.05 s\n",
      "Operator `forward` ran in 0.04 s\n",
      "Operator `gradient` ran in 0.05 s\n",
      "Operator `forward` ran in 0.04 s\n",
      "Operator `gradient` ran in 0.04 s\n",
      "Operator `forward` ran in 0.04 s\n",
      "Operator `gradient` ran in 0.05 s\n",
      "Operator `forward` ran in 0.04 s\n",
      "Operator `gradient` ran in 0.05 s\n",
      "Operator `forward` ran in 0.04 s\n",
      "Operator `gradient` ran in 0.05 s\n",
      "Operator `forward` ran in 0.04 s\n",
      "Operator `gradient` ran in 0.05 s\n",
      "Operator `forward` ran in 0.04 s\n",
      "Operator `gradient` ran in 0.05 s\n",
      "Operator `forward` ran in 0.04 s\n",
      "Operator `gradient` ran in 0.05 s\n",
      "Operator `forward` ran in 0.04 s\n",
      "Operator `gradient` ran in 0.04 s\n",
      "Operator `forward` ran in 0.04 s\n",
      "Operator `gradient` ran in 0.05 s\n",
      "Operator `forward` ran in 0.04 s\n",
      "Operator `gradient` ran in 0.06 s\n"
     ]
    },
    {
     "name": "stdout",
     "output_type": "stream",
     "text": [
      "(0.1f0, 980074.5)\n"
     ]
    },
    {
     "name": "stderr",
     "output_type": "stream",
     "text": [
      "Operator `forward` ran in 0.04 s\n",
      "Operator `forward` ran in 0.04 s\n",
      "Operator `forward` ran in 0.04 s\n",
      "Operator `forward` ran in 0.05 s\n",
      "Operator `forward` ran in 0.04 s\n",
      "Operator `forward` ran in 0.04 s\n",
      "Operator `forward` ran in 0.04 s\n",
      "Operator `forward` ran in 0.04 s\n",
      "Operator `forward` ran in 0.04 s\n",
      "Operator `forward` ran in 0.04 s\n",
      "Operator `forward` ran in 0.04 s\n",
      "Operator `forward` ran in 0.04 s\n",
      "Operator `forward` ran in 0.04 s\n",
      "Operator `forward` ran in 0.04 s\n",
      "Operator `forward` ran in 0.04 s\n",
      "Operator `forward` ran in 0.04 s\n"
     ]
    },
    {
     "name": "stdout",
     "output_type": "stream",
     "text": [
      "(α, misfit) = (0.03939895870967427, 580109.9375)\n",
      "(α, misfit) = "
     ]
    },
    {
     "name": "stderr",
     "output_type": "stream",
     "text": [
      "Operator `forward` ran in 0.03 s\n",
      "Operator `forward` ran in 0.04 s\n",
      "Operator `forward` ran in 0.04 s\n",
      "Operator `forward` ran in 0.04 s\n",
      "Operator `forward` ran in 0.04 s\n",
      "Operator `forward` ran in 0.04 s\n",
      "Operator `forward` ran in 0.04 s\n",
      "Operator `forward` ran in 0.04 s\n",
      "Operator `forward` ran in 0.04 s\n",
      "Operator `forward` ran in 0.03 s\n",
      "Operator `forward` ran in 0.04 s\n",
      "Operator `forward` ran in 0.04 s\n",
      "Operator `forward` ran in 0.04 s\n",
      "Operator `forward` ran in 0.04 s\n",
      "Operator `forward` ran in 0.05 s\n",
      "Operator `forward` ran in 0.04 s\n"
     ]
    },
    {
     "name": "stdout",
     "output_type": "stream",
     "text": [
      "(0.013065328446611381, 171485.109375)\n"
     ]
    },
    {
     "name": "stderr",
     "output_type": "stream",
     "text": [
      "Operator `forward` ran in 0.04 s\n",
      "Operator `forward` ran in 0.06 s\n",
      "Operator `forward` ran in 0.06 s\n",
      "Operator `forward` ran in 0.03 s\n",
      "Operator `forward` ran in 0.06 s\n",
      "Operator `forward` ran in 0.06 s\n",
      "Operator `forward` ran in 0.06 s\n",
      "Operator `forward` ran in 0.06 s\n",
      "Operator `forward` ran in 0.06 s\n",
      "Operator `forward` ran in 0.06 s\n",
      "Operator `forward` ran in 0.05 s\n",
      "Operator `forward` ran in 0.05 s\n",
      "Operator `forward` ran in 0.04 s\n",
      "Operator `forward` ran in 0.03 s\n",
      "Operator `forward` ran in 0.04 s\n",
      "Operator `forward` ran in 0.04 s\n"
     ]
    },
    {
     "name": "stdout",
     "output_type": "stream",
     "text": [
      "FWI iteration no: 3; function value: 171534.48\n",
      "(α, misfit) = "
     ]
    },
    {
     "name": "stderr",
     "output_type": "stream",
     "text": [
      "Operator `forward` ran in 0.05 s\n",
      "Operator `gradient` ran in 0.05 s\n",
      "Operator `forward` ran in 0.04 s\n",
      "Operator `gradient` ran in 0.05 s\n",
      "Operator `forward` ran in 0.04 s\n",
      "Operator `gradient` ran in 0.05 s\n",
      "Operator `forward` ran in 0.04 s\n",
      "Operator `gradient` ran in 0.05 s\n",
      "Operator `forward` ran in 0.04 s\n",
      "Operator `gradient` ran in 0.05 s\n",
      "Operator `forward` ran in 0.04 s\n",
      "Operator `gradient` ran in 0.06 s\n",
      "Operator `forward` ran in 0.04 s\n",
      "Operator `gradient` ran in 0.05 s\n",
      "Operator `forward` ran in 0.04 s\n",
      "Operator `gradient` ran in 0.05 s\n",
      "Operator `forward` ran in 0.04 s\n",
      "Operator `gradient` ran in 0.05 s\n",
      "Operator `forward` ran in 0.04 s\n",
      "Operator `gradient` ran in 0.05 s\n",
      "Operator `forward` ran in 0.04 s\n",
      "Operator `gradient` ran in 0.05 s\n",
      "Operator `forward` ran in 0.04 s\n",
      "Operator `gradient` ran in 0.05 s\n",
      "Operator `forward` ran in 0.04 s\n",
      "Operator `gradient` ran in 0.05 s\n",
      "Operator `forward` ran in 0.04 s\n",
      "Operator `gradient` ran in 0.05 s\n",
      "Operator `forward` ran in 0.04 s\n",
      "Operator `gradient` ran in 0.05 s\n",
      "Operator `forward` ran in 0.04 s\n",
      "Operator `gradient` ran in 0.06 s\n"
     ]
    },
    {
     "name": "stdout",
     "output_type": "stream",
     "text": [
      "(0.1f0, 166549.25)\n"
     ]
    },
    {
     "name": "stderr",
     "output_type": "stream",
     "text": [
      "Operator `forward` ran in 0.04 s\n",
      "Operator `forward` ran in 0.04 s\n",
      "Operator `forward` ran in 0.04 s\n",
      "Operator `forward` ran in 0.03 s\n",
      "Operator `forward` ran in 0.04 s\n",
      "Operator `forward` ran in 0.04 s\n",
      "Operator `forward` ran in 0.04 s\n",
      "Operator `forward` ran in 0.04 s\n",
      "Operator `forward` ran in 0.04 s\n",
      "Operator `forward` ran in 0.04 s\n",
      "Operator `forward` ran in 0.04 s\n",
      "Operator `forward` ran in 0.04 s\n",
      "Operator `forward` ran in 0.04 s\n",
      "Operator `forward` ran in 0.03 s\n",
      "Operator `forward` ran in 0.04 s\n",
      "Operator `forward` ran in 0.04 s\n"
     ]
    },
    {
     "name": "stdout",
     "output_type": "stream",
     "text": [
      "FWI iteration no: 4; function value: 166597.7\n",
      "(α, misfit) = "
     ]
    },
    {
     "name": "stderr",
     "output_type": "stream",
     "text": [
      "Operator `forward` ran in 0.04 s\n",
      "Operator `gradient` ran in 0.05 s\n",
      "Operator `forward` ran in 0.04 s\n",
      "Operator `gradient` ran in 0.05 s\n",
      "Operator `forward` ran in 0.04 s\n",
      "Operator `gradient` ran in 0.05 s\n",
      "Operator `forward` ran in 0.04 s\n",
      "Operator `gradient` ran in 0.05 s\n",
      "Operator `forward` ran in 0.04 s\n",
      "Operator `gradient` ran in 0.05 s\n",
      "Operator `forward` ran in 0.04 s\n",
      "Operator `gradient` ran in 0.05 s\n",
      "Operator `forward` ran in 0.04 s\n",
      "Operator `gradient` ran in 0.05 s\n",
      "Operator `forward` ran in 0.05 s\n",
      "Operator `gradient` ran in 0.05 s\n",
      "Operator `forward` ran in 0.04 s\n",
      "Operator `gradient` ran in 0.05 s\n",
      "Operator `forward` ran in 0.04 s\n",
      "Operator `gradient` ran in 0.05 s\n",
      "Operator `forward` ran in 0.05 s\n",
      "Operator `gradient` ran in 0.05 s\n",
      "Operator `forward` ran in 0.04 s\n",
      "Operator `gradient` ran in 0.05 s\n",
      "Operator `forward` ran in 0.04 s\n",
      "Operator `gradient` ran in 0.05 s\n",
      "Operator `forward` ran in 0.04 s\n",
      "Operator `gradient` ran in 0.05 s\n",
      "Operator `forward` ran in 0.04 s\n",
      "Operator `gradient` ran in 0.05 s\n",
      "Operator `forward` ran in 0.04 s\n",
      "Operator `gradient` ran in 0.05 s\n"
     ]
    },
    {
     "name": "stdout",
     "output_type": "stream",
     "text": [
      "(0.1f0, 987978.6875)\n"
     ]
    },
    {
     "name": "stderr",
     "output_type": "stream",
     "text": [
      "Operator `forward` ran in 0.04 s\n",
      "Operator `forward` ran in 0.04 s\n",
      "Operator `forward` ran in 0.04 s\n",
      "Operator `forward` ran in 0.04 s\n",
      "Operator `forward` ran in 0.04 s\n",
      "Operator `forward` ran in 0.04 s\n",
      "Operator `forward` ran in 0.04 s\n",
      "Operator `forward` ran in 0.04 s\n",
      "Operator `forward` ran in 0.04 s\n",
      "Operator `forward` ran in 0.04 s\n",
      "Operator `forward` ran in 0.04 s\n",
      "Operator `forward` ran in 0.04 s\n",
      "Operator `forward` ran in 0.05 s\n",
      "Operator `forward` ran in 0.04 s\n",
      "Operator `forward` ran in 0.04 s\n",
      "Operator `forward` ran in 0.05 s\n"
     ]
    },
    {
     "name": "stdout",
     "output_type": "stream",
     "text": [
      "(α, misfit) = (0.0357801650489881, 501174.21875)\n",
      "(α, misfit) = "
     ]
    },
    {
     "name": "stderr",
     "output_type": "stream",
     "text": [
      "Operator `forward` ran in 0.05 s\n",
      "Operator `forward` ran in 0.05 s\n",
      "Operator `forward` ran in 0.06 s\n",
      "Operator `forward` ran in 0.06 s\n",
      "Operator `forward` ran in 0.06 s\n",
      "Operator `forward` ran in 0.07 s\n",
      "Operator `forward` ran in 0.06 s\n",
      "Operator `forward` ran in 0.04 s\n",
      "Operator `forward` ran in 0.06 s\n",
      "Operator `forward` ran in 0.06 s\n",
      "Operator `forward` ran in 0.06 s\n",
      "Operator `forward` ran in 0.06 s\n",
      "Operator `forward` ran in 0.04 s\n",
      "Operator `forward` ran in 0.04 s\n",
      "Operator `forward` ran in 0.04 s\n",
      "Operator `forward` ran in 0.04 s\n"
     ]
    },
    {
     "name": "stdout",
     "output_type": "stream",
     "text": [
      "(0.010184997029482182, 84524.15625)\n"
     ]
    },
    {
     "name": "stderr",
     "output_type": "stream",
     "text": [
      "Operator `forward` ran in 0.05 s\n",
      "Operator `forward` ran in 0.03 s\n",
      "Operator `forward` ran in 0.04 s\n",
      "Operator `forward` ran in 0.04 s\n",
      "Operator `forward` ran in 0.04 s\n",
      "Operator `forward` ran in 0.04 s\n",
      "Operator `forward` ran in 0.04 s\n",
      "Operator `forward` ran in 0.04 s\n",
      "Operator `forward` ran in 0.04 s\n",
      "Operator `forward` ran in 0.04 s\n",
      "Operator `forward` ran in 0.04 s\n",
      "Operator `forward` ran in 0.03 s\n",
      "Operator `forward` ran in 0.04 s\n",
      "Operator `forward` ran in 0.04 s\n",
      "Operator `forward` ran in 0.04 s\n",
      "Operator `forward` ran in 0.05 s\n"
     ]
    },
    {
     "name": "stdout",
     "output_type": "stream",
     "text": [
      "FWI iteration no: 5; function value: 84711.49\n",
      "(α, misfit) = "
     ]
    },
    {
     "name": "stderr",
     "output_type": "stream",
     "text": [
      "Operator `forward` ran in 0.04 s\n",
      "Operator `gradient` ran in 0.05 s\n",
      "Operator `forward` ran in 0.04 s\n",
      "Operator `gradient` ran in 0.05 s\n",
      "Operator `forward` ran in 0.04 s\n",
      "Operator `gradient` ran in 0.05 s\n",
      "Operator `forward` ran in 0.04 s\n",
      "Operator `gradient` ran in 0.05 s\n",
      "Operator `forward` ran in 0.04 s\n",
      "Operator `gradient` ran in 0.05 s\n",
      "Operator `forward` ran in 0.04 s\n",
      "Operator `gradient` ran in 0.05 s\n",
      "Operator `forward` ran in 0.04 s\n",
      "Operator `gradient` ran in 0.05 s\n",
      "Operator `forward` ran in 0.04 s\n",
      "Operator `gradient` ran in 0.05 s\n",
      "Operator `forward` ran in 0.05 s\n",
      "Operator `gradient` ran in 0.05 s\n",
      "Operator `forward` ran in 0.04 s\n",
      "Operator `gradient` ran in 0.05 s\n",
      "Operator `forward` ran in 0.04 s\n",
      "Operator `gradient` ran in 0.05 s\n",
      "Operator `forward` ran in 0.05 s\n",
      "Operator `gradient` ran in 0.05 s\n",
      "Operator `forward` ran in 0.04 s\n",
      "Operator `gradient` ran in 0.05 s\n",
      "Operator `forward` ran in 0.04 s\n",
      "Operator `gradient` ran in 0.05 s\n",
      "Operator `forward` ran in 0.04 s\n",
      "Operator `gradient` ran in 0.05 s\n",
      "Operator `forward` ran in 0.04 s\n",
      "Operator `gradient` ran in 0.05 s\n"
     ]
    },
    {
     "name": "stdout",
     "output_type": "stream",
     "text": [
      "(0.1f0, 598373.0)\n"
     ]
    },
    {
     "name": "stderr",
     "output_type": "stream",
     "text": [
      "Operator `forward` ran in 0.03 s\n",
      "Operator `forward` ran in 0.03 s\n",
      "Operator `forward` ran in 0.04 s\n",
      "Operator `forward` ran in 0.04 s\n",
      "Operator `forward` ran in 0.04 s\n",
      "Operator `forward` ran in 0.04 s\n",
      "Operator `forward` ran in 0.05 s\n",
      "Operator `forward` ran in 0.04 s\n",
      "Operator `forward` ran in 0.04 s\n",
      "Operator `forward` ran in 0.04 s\n",
      "Operator `forward` ran in 0.04 s\n",
      "Operator `forward` ran in 0.03 s\n",
      "Operator `forward` ran in 0.04 s\n",
      "Operator `forward` ran in 0.05 s\n",
      "Operator `forward` ran in 0.04 s\n",
      "Operator `forward` ran in 0.04 s\n"
     ]
    },
    {
     "name": "stdout",
     "output_type": "stream",
     "text": [
      "(α, misfit) = (0.02340255658584022, 109325.59375)\n",
      "(α, misfit) = "
     ]
    },
    {
     "name": "stderr",
     "output_type": "stream",
     "text": [
      "Operator `forward` ran in 0.04 s\n",
      "Operator `forward` ran in 0.04 s\n",
      "Operator `forward` ran in 0.04 s\n",
      "Operator `forward` ran in 0.04 s\n",
      "Operator `forward` ran in 0.04 s\n",
      "Operator `forward` ran in 0.03 s\n",
      "Operator `forward` ran in 0.04 s\n",
      "Operator `forward` ran in 0.04 s\n",
      "Operator `forward` ran in 0.04 s\n",
      "Operator `forward` ran in 0.04 s\n",
      "Operator `forward` ran in 0.04 s\n",
      "Operator `forward` ran in 0.06 s\n",
      "Operator `forward` ran in 0.06 s\n",
      "Operator `forward` ran in 0.07 s\n",
      "Operator `forward` ran in 0.06 s\n",
      "Operator `forward` ran in 0.04 s\n"
     ]
    },
    {
     "name": "stdout",
     "output_type": "stream",
     "text": [
      "(0.008795488915517352, 69407.921875)\n"
     ]
    },
    {
     "name": "stderr",
     "output_type": "stream",
     "text": [
      "Operator `forward` ran in 0.05 s\n",
      "Operator `forward` ran in 0.06 s\n",
      "Operator `forward` ran in 0.04 s\n",
      "Operator `forward` ran in 0.04 s\n",
      "Operator `forward` ran in 0.04 s\n",
      "Operator `forward` ran in 0.04 s\n",
      "Operator `forward` ran in 0.04 s\n",
      "Operator `forward` ran in 0.04 s\n",
      "Operator `forward` ran in 0.04 s\n",
      "Operator `forward` ran in 0.03 s\n",
      "Operator `forward` ran in 0.04 s\n",
      "Operator `forward` ran in 0.05 s\n",
      "Operator `forward` ran in 0.04 s\n",
      "Operator `forward` ran in 0.04 s\n",
      "Operator `forward` ran in 0.04 s\n",
      "Operator `forward` ran in 0.04 s\n"
     ]
    },
    {
     "name": "stdout",
     "output_type": "stream",
     "text": [
      "FWI iteration no: 6; function value: 69474.43\n",
      "(α, misfit) = "
     ]
    },
    {
     "name": "stderr",
     "output_type": "stream",
     "text": [
      "Operator `forward` ran in 0.04 s\n",
      "Operator `gradient` ran in 0.05 s\n",
      "Operator `forward` ran in 0.05 s\n",
      "Operator `gradient` ran in 0.05 s\n",
      "Operator `forward` ran in 0.05 s\n",
      "Operator `gradient` ran in 0.05 s\n",
      "Operator `forward` ran in 0.05 s\n",
      "Operator `gradient` ran in 0.05 s\n",
      "Operator `forward` ran in 0.05 s\n",
      "Operator `gradient` ran in 0.05 s\n",
      "Operator `forward` ran in 0.05 s\n",
      "Operator `gradient` ran in 0.05 s\n",
      "Operator `forward` ran in 0.04 s\n",
      "Operator `gradient` ran in 0.05 s\n",
      "Operator `forward` ran in 0.05 s\n",
      "Operator `gradient` ran in 0.05 s\n",
      "Operator `forward` ran in 0.04 s\n",
      "Operator `gradient` ran in 0.05 s\n",
      "Operator `forward` ran in 0.05 s\n",
      "Operator `gradient` ran in 0.05 s\n",
      "Operator `forward` ran in 0.05 s\n",
      "Operator `gradient` ran in 0.05 s\n",
      "Operator `forward` ran in 0.04 s\n",
      "Operator `gradient` ran in 0.05 s\n",
      "Operator `forward` ran in 0.04 s\n",
      "Operator `gradient` ran in 0.05 s\n",
      "Operator `forward` ran in 0.04 s\n",
      "Operator `gradient` ran in 0.05 s\n",
      "Operator `forward` ran in 0.04 s\n",
      "Operator `gradient` ran in 0.05 s\n",
      "Operator `forward` ran in 0.04 s\n",
      "Operator `gradient` ran in 0.05 s\n"
     ]
    },
    {
     "name": "stdout",
     "output_type": "stream",
     "text": [
      "(0.1f0, 284276.46875)\n"
     ]
    },
    {
     "name": "stderr",
     "output_type": "stream",
     "text": [
      "Operator `forward` ran in 0.04 s\n",
      "Operator `forward` ran in 0.04 s\n",
      "Operator `forward` ran in 0.04 s\n",
      "Operator `forward` ran in 0.04 s\n",
      "Operator `forward` ran in 0.04 s\n",
      "Operator `forward` ran in 0.04 s\n",
      "Operator `forward` ran in 0.04 s\n",
      "Operator `forward` ran in 0.04 s\n",
      "Operator `forward` ran in 0.04 s\n",
      "Operator `forward` ran in 0.03 s\n",
      "Operator `forward` ran in 0.04 s\n",
      "Operator `forward` ran in 0.04 s\n",
      "Operator `forward` ran in 0.04 s\n",
      "Operator `forward` ran in 0.04 s\n",
      "Operator `forward` ran in 0.04 s\n",
      "Operator `forward` ran in 0.04 s\n"
     ]
    },
    {
     "name": "stdout",
     "output_type": "stream",
     "text": [
      "(α, misfit) = (0.024020717239680342, 66447.0)\n",
      "FWI iteration no: "
     ]
    },
    {
     "name": "stderr",
     "output_type": "stream",
     "text": [
      "Operator `forward` ran in 0.04 s\n",
      "Operator `forward` ran in 0.05 s\n",
      "Operator `forward` ran in 0.04 s\n",
      "Operator `forward` ran in 0.03 s\n",
      "Operator `forward` ran in 0.04 s\n",
      "Operator `forward` ran in 0.04 s\n",
      "Operator `forward` ran in 0.04 s\n",
      "Operator `forward` ran in 0.04 s\n",
      "Operator `forward` ran in 0.05 s\n",
      "Operator `forward` ran in 0.06 s\n",
      "Operator `forward` ran in 0.06 s\n",
      "Operator `forward` ran in 0.06 s\n",
      "Operator `forward` ran in 0.06 s\n",
      "Operator `forward` ran in 0.04 s\n",
      "Operator `forward` ran in 0.06 s\n",
      "Operator `forward` ran in 0.06 s\n"
     ]
    },
    {
     "name": "stdout",
     "output_type": "stream",
     "text": [
      "7; function value: 66513.76\n"
     ]
    },
    {
     "name": "stderr",
     "output_type": "stream",
     "text": [
      "Operator `forward` ran in 0.05 s\n",
      "Operator `gradient` ran in 0.05 s\n",
      "Operator `forward` ran in 0.04 s\n",
      "Operator `gradient` ran in 0.05 s\n",
      "Operator `forward` ran in 0.04 s\n",
      "Operator `gradient` ran in 0.05 s\n",
      "Operator `forward` ran in 0.04 s\n",
      "Operator `gradient` ran in 0.05 s\n",
      "Operator `forward` ran in 0.04 s\n",
      "Operator `gradient` ran in 0.05 s\n",
      "Operator `forward` ran in 0.05 s\n",
      "Operator `gradient` ran in 0.05 s\n",
      "Operator `forward` ran in 0.04 s\n",
      "Operator `gradient` ran in 0.05 s\n",
      "Operator `forward` ran in 0.05 s\n",
      "Operator `gradient` ran in 0.05 s\n",
      "Operator `forward` ran in 0.04 s\n",
      "Operator `gradient` ran in 0.05 s\n",
      "Operator `forward` ran in 0.04 s\n",
      "Operator `gradient` ran in 0.05 s\n",
      "Operator `forward` ran in 0.04 s\n",
      "Operator `gradient` ran in 0.05 s\n",
      "Operator `forward` ran in 0.05 s\n",
      "Operator `gradient` ran in 0.05 s\n",
      "Operator `forward` ran in 0.05 s\n",
      "Operator `gradient` ran in 0.05 s\n",
      "Operator `forward` ran in 0.05 s\n",
      "Operator `gradient` ran in 0.05 s\n",
      "Operator `forward` ran in 0.04 s\n",
      "Operator `gradient` ran in 0.05 s\n",
      "Operator `forward` ran in 0.04 s\n",
      "Operator `gradient` ran in 0.05 s\n"
     ]
    },
    {
     "name": "stdout",
     "output_type": "stream",
     "text": [
      "(α, misfit) = (0.1f0, 987531.375)\n",
      "(α, misfit) = "
     ]
    },
    {
     "name": "stderr",
     "output_type": "stream",
     "text": [
      "Operator `forward` ran in 0.03 s\n",
      "Operator `forward` ran in 0.04 s\n",
      "Operator `forward` ran in 0.04 s\n",
      "Operator `forward` ran in 0.03 s\n",
      "Operator `forward` ran in 0.04 s\n",
      "Operator `forward` ran in 0.04 s\n",
      "Operator `forward` ran in 0.06 s\n",
      "Operator `forward` ran in 0.06 s\n",
      "Operator `forward` ran in 0.07 s\n",
      "Operator `forward` ran in 0.06 s\n",
      "Operator `forward` ran in 0.06 s\n",
      "Operator `forward` ran in 0.06 s\n",
      "Operator `forward` ran in 0.06 s\n",
      "Operator `forward` ran in 0.03 s\n",
      "Operator `forward` ran in 0.04 s\n",
      "Operator `forward` ran in 0.04 s\n"
     ]
    },
    {
     "name": "stdout",
     "output_type": "stream",
     "text": [
      "(0.017893707005021672, 95258.5859375)\n"
     ]
    },
    {
     "name": "stderr",
     "output_type": "stream",
     "text": [
      "Operator `forward` ran in 0.04 s\n",
      "Operator `forward` ran in 0.04 s\n",
      "Operator `forward` ran in 0.04 s\n",
      "Operator `forward` ran in 0.04 s\n",
      "Operator `forward` ran in 0.07 s\n",
      "Operator `forward` ran in 0.04 s\n",
      "Operator `forward` ran in 0.04 s\n",
      "Operator `forward` ran in 0.03 s\n",
      "Operator `forward` ran in 0.04 s\n",
      "Operator `forward` ran in 0.04 s\n",
      "Operator `forward` ran in 0.04 s\n",
      "Operator `forward` ran in 0.04 s\n",
      "Operator `forward` ran in 0.04 s\n",
      "Operator `forward` ran in 0.04 s\n",
      "Operator `forward` ran in 0.04 s\n",
      "Operator `forward` ran in 0.07 s\n"
     ]
    },
    {
     "name": "stdout",
     "output_type": "stream",
     "text": [
      "(α, misfit) = (0.0064141474065996665, 52833.140625)\n",
      "FWI iteration no: "
     ]
    },
    {
     "name": "stderr",
     "output_type": "stream",
     "text": [
      "Operator `forward` ran in 0.04 s\n",
      "Operator `forward` ran in 0.04 s\n",
      "Operator `forward` ran in 0.06 s\n",
      "Operator `forward` ran in 0.07 s\n",
      "Operator `forward` ran in 0.06 s\n",
      "Operator `forward` ran in 0.06 s\n",
      "Operator `forward` ran in 0.06 s\n",
      "Operator `forward` ran in 0.06 s\n",
      "Operator `forward` ran in 0.04 s\n",
      "Operator `forward` ran in 0.04 s\n",
      "Operator `forward` ran in 0.04 s\n",
      "Operator `forward` ran in 0.03 s\n",
      "Operator `forward` ran in 0.04 s\n",
      "Operator `forward` ran in 0.04 s\n",
      "Operator `forward` ran in 0.04 s\n",
      "Operator `forward` ran in 0.04 s\n"
     ]
    },
    {
     "name": "stdout",
     "output_type": "stream",
     "text": [
      "8; function value: 52902.55\n"
     ]
    },
    {
     "name": "stderr",
     "output_type": "stream",
     "text": [
      "Operator `forward` ran in 0.04 s\n",
      "Operator `gradient` ran in 0.05 s\n",
      "Operator `forward` ran in 0.04 s\n",
      "Operator `gradient` ran in 0.05 s\n",
      "Operator `forward` ran in 0.04 s\n",
      "Operator `gradient` ran in 0.05 s\n",
      "Operator `forward` ran in 0.04 s\n",
      "Operator `gradient` ran in 0.05 s\n",
      "Operator `forward` ran in 0.04 s\n",
      "Operator `gradient` ran in 0.05 s\n",
      "Operator `forward` ran in 0.05 s\n",
      "Operator `gradient` ran in 0.05 s\n",
      "Operator `forward` ran in 0.05 s\n",
      "Operator `gradient` ran in 0.05 s\n",
      "Operator `forward` ran in 0.04 s\n",
      "Operator `gradient` ran in 0.05 s\n",
      "Operator `forward` ran in 0.04 s\n",
      "Operator `gradient` ran in 0.05 s\n",
      "Operator `forward` ran in 0.05 s\n",
      "Operator `gradient` ran in 0.05 s\n",
      "Operator `forward` ran in 0.04 s\n",
      "Operator `gradient` ran in 0.05 s\n",
      "Operator `forward` ran in 0.05 s\n",
      "Operator `gradient` ran in 0.05 s\n",
      "Operator `forward` ran in 0.05 s\n",
      "Operator `gradient` ran in 0.05 s\n",
      "Operator `forward` ran in 0.05 s\n",
      "Operator `gradient` ran in 0.05 s\n",
      "Operator `forward` ran in 0.04 s\n",
      "Operator `gradient` ran in 0.05 s\n",
      "Operator `forward` ran in 0.05 s\n",
      "Operator `gradient` ran in 0.05 s\n"
     ]
    },
    {
     "name": "stdout",
     "output_type": "stream",
     "text": [
      "(α, misfit) = (0.1f0, 95234.2734375)\n",
      "(α, misfit) = "
     ]
    },
    {
     "name": "stderr",
     "output_type": "stream",
     "text": [
      "Operator `forward` ran in 0.03 s\n",
      "Operator `forward` ran in 0.03 s\n",
      "Operator `forward` ran in 0.04 s\n",
      "Operator `forward` ran in 0.04 s\n",
      "Operator `forward` ran in 0.04 s\n",
      "Operator `forward` ran in 0.04 s\n",
      "Operator `forward` ran in 0.04 s\n",
      "Operator `forward` ran in 0.04 s\n",
      "Operator `forward` ran in 0.04 s\n",
      "Operator `forward` ran in 0.04 s\n",
      "Operator `forward` ran in 0.04 s\n",
      "Operator `forward` ran in 0.03 s\n",
      "Operator `forward` ran in 0.04 s\n",
      "Operator `forward` ran in 0.07 s\n",
      "Operator `forward` ran in 0.07 s\n",
      "Operator `forward` ran in 0.08 s\n"
     ]
    },
    {
     "name": "stdout",
     "output_type": "stream",
     "text": [
      "(0.03669639304720894, 49127.73046875)\n"
     ]
    },
    {
     "name": "stderr",
     "output_type": "stream",
     "text": [
      "Operator `forward` ran in 0.05 s\n",
      "Operator `forward` ran in 0.06 s\n",
      "Operator `forward` ran in 0.04 s\n",
      "Operator `forward` ran in 0.07 s\n",
      "Operator `forward` ran in 0.06 s\n",
      "Operator `forward` ran in 0.03 s\n",
      "Operator `forward` ran in 0.04 s\n",
      "Operator `forward` ran in 0.04 s\n",
      "Operator `forward` ran in 0.05 s\n",
      "Operator `forward` ran in 0.04 s\n",
      "Operator `forward` ran in 0.05 s\n",
      "Operator `forward` ran in 0.05 s\n",
      "Operator `forward` ran in 0.04 s\n",
      "Operator `forward` ran in 0.04 s\n",
      "Operator `forward` ran in 0.04 s\n",
      "Operator `forward` ran in 0.03 s\n"
     ]
    },
    {
     "name": "stdout",
     "output_type": "stream",
     "text": [
      "FWI iteration no: 9; function value: 49209.0\n",
      "(α, misfit) = "
     ]
    },
    {
     "name": "stderr",
     "output_type": "stream",
     "text": [
      "Operator `forward` ran in 0.05 s\n",
      "Operator `gradient` ran in 0.05 s\n",
      "Operator `forward` ran in 0.04 s\n",
      "Operator `gradient` ran in 0.05 s\n",
      "Operator `forward` ran in 0.05 s\n",
      "Operator `gradient` ran in 0.05 s\n",
      "Operator `forward` ran in 0.04 s\n",
      "Operator `gradient` ran in 0.05 s\n",
      "Operator `forward` ran in 0.05 s\n",
      "Operator `gradient` ran in 0.05 s\n",
      "Operator `forward` ran in 0.04 s\n",
      "Operator `gradient` ran in 0.05 s\n",
      "Operator `forward` ran in 0.04 s\n",
      "Operator `gradient` ran in 0.05 s\n",
      "Operator `forward` ran in 0.05 s\n",
      "Operator `gradient` ran in 0.05 s\n",
      "Operator `forward` ran in 0.05 s\n",
      "Operator `gradient` ran in 0.05 s\n",
      "Operator `forward` ran in 0.05 s\n",
      "Operator `gradient` ran in 0.05 s\n",
      "Operator `forward` ran in 0.04 s\n",
      "Operator `gradient` ran in 0.05 s\n",
      "Operator `forward` ran in 0.05 s\n",
      "Operator `gradient` ran in 0.05 s\n",
      "Operator `forward` ran in 0.04 s\n",
      "Operator `gradient` ran in 0.05 s\n",
      "Operator `forward` ran in 0.05 s\n",
      "Operator `gradient` ran in 0.05 s\n",
      "Operator `forward` ran in 0.05 s\n",
      "Operator `gradient` ran in 0.05 s\n",
      "Operator `forward` ran in 0.05 s\n",
      "Operator `gradient` ran in 0.05 s\n"
     ]
    },
    {
     "name": "stdout",
     "output_type": "stream",
     "text": [
      "(0.1f0, 808033.625)\n"
     ]
    },
    {
     "name": "stderr",
     "output_type": "stream",
     "text": [
      "Operator `forward` ran in 0.03 s\n",
      "Operator `forward` ran in 0.04 s\n",
      "Operator `forward` ran in 0.04 s\n",
      "Operator `forward` ran in 0.04 s\n",
      "Operator `forward` ran in 0.04 s\n",
      "Operator `forward` ran in 0.04 s\n",
      "Operator `forward` ran in 0.04 s\n",
      "Operator `forward` ran in 0.04 s\n",
      "Operator `forward` ran in 0.04 s\n",
      "Operator `forward` ran in 0.04 s\n",
      "Operator `forward` ran in 0.04 s\n",
      "Operator `forward` ran in 0.05 s\n",
      "Operator `forward` ran in 0.04 s\n",
      "Operator `forward` ran in 0.04 s\n",
      "Operator `forward` ran in 0.04 s\n",
      "Operator `forward` ran in 0.03 s\n"
     ]
    },
    {
     "name": "stdout",
     "output_type": "stream",
     "text": [
      "(α, misfit) = (0.01873064594074571, 118725.734375)\n",
      "(α, misfit) = "
     ]
    },
    {
     "name": "stderr",
     "output_type": "stream",
     "text": [
      "Operator `forward` ran in 0.04 s\n",
      "Operator `forward` ran in 0.04 s\n",
      "Operator `forward` ran in 0.04 s\n",
      "Operator `forward` ran in 0.04 s\n",
      "Operator `forward` ran in 0.04 s\n",
      "Operator `forward` ran in 0.04 s\n",
      "Operator `forward` ran in 0.04 s\n",
      "Operator `forward` ran in 0.04 s\n",
      "Operator `forward` ran in 0.05 s\n",
      "Operator `forward` ran in 0.04 s\n",
      "Operator `forward` ran in 0.06 s\n",
      "Operator `forward` ran in 0.06 s\n",
      "Operator `forward` ran in 0.06 s\n",
      "Operator `forward` ran in 0.06 s\n",
      "Operator `forward` ran in 0.06 s\n",
      "Operator `forward` ran in 0.06 s\n"
     ]
    },
    {
     "name": "stdout",
     "output_type": "stream",
     "text": [
      "(0.004667446901220474, 40466.51171875)\n"
     ]
    },
    {
     "name": "stderr",
     "output_type": "stream",
     "text": [
      "Operator `forward` ran in 0.06 s\n",
      "Operator `forward` ran in 0.06 s\n",
      "Operator `forward` ran in 0.07 s\n",
      "Operator `forward` ran in 0.04 s\n",
      "Operator `forward` ran in 0.06 s\n",
      "Operator `forward` ran in 0.06 s\n",
      "Operator `forward` ran in 0.04 s\n",
      "Operator `forward` ran in 0.04 s\n",
      "Operator `forward` ran in 0.05 s\n",
      "Operator `forward` ran in 0.04 s\n",
      "Operator `forward` ran in 0.04 s\n",
      "Operator `forward` ran in 0.04 s\n",
      "Operator `forward` ran in 0.05 s\n",
      "Operator `forward` ran in 0.03 s\n",
      "Operator `forward` ran in 0.04 s\n",
      "Operator `forward` ran in 0.04 s\n"
     ]
    },
    {
     "name": "stdout",
     "output_type": "stream",
     "text": [
      "FWI iteration no: 10; function value: 40547.562\n",
      "(α, misfit) = "
     ]
    },
    {
     "name": "stderr",
     "output_type": "stream",
     "text": [
      "Operator `forward` ran in 0.05 s\n",
      "Operator `gradient` ran in 0.05 s\n",
      "Operator `forward` ran in 0.05 s\n",
      "Operator `gradient` ran in 0.05 s\n",
      "Operator `forward` ran in 0.05 s\n",
      "Operator `gradient` ran in 0.05 s\n",
      "Operator `forward` ran in 0.04 s\n",
      "Operator `gradient` ran in 0.05 s\n",
      "Operator `forward` ran in 0.04 s\n",
      "Operator `gradient` ran in 0.05 s\n",
      "Operator `forward` ran in 0.05 s\n",
      "Operator `gradient` ran in 0.05 s\n",
      "Operator `forward` ran in 0.04 s\n",
      "Operator `gradient` ran in 0.05 s\n",
      "Operator `forward` ran in 0.05 s\n",
      "Operator `gradient` ran in 0.05 s\n",
      "Operator `forward` ran in 0.04 s\n",
      "Operator `gradient` ran in 0.05 s\n",
      "Operator `forward` ran in 0.04 s\n",
      "Operator `gradient` ran in 0.05 s\n",
      "Operator `forward` ran in 0.04 s\n",
      "Operator `gradient` ran in 0.05 s\n",
      "Operator `forward` ran in 0.04 s\n",
      "Operator `gradient` ran in 0.05 s\n",
      "Operator `forward` ran in 0.04 s\n",
      "Operator `gradient` ran in 0.05 s\n",
      "Operator `forward` ran in 0.05 s\n",
      "Operator `gradient` ran in 0.05 s\n",
      "Operator `forward` ran in 0.05 s\n",
      "Operator `gradient` ran in 0.05 s\n",
      "Operator `forward` ran in 0.04 s\n",
      "Operator `gradient` ran in 0.05 s\n"
     ]
    },
    {
     "name": "stdout",
     "output_type": "stream",
     "text": [
      "(0.1f0, 76598.359375)\n"
     ]
    },
    {
     "name": "stderr",
     "output_type": "stream",
     "text": [
      "Operator `forward` ran in 0.03 s\n",
      "Operator `forward` ran in 0.04 s\n",
      "Operator `forward` ran in 0.04 s\n",
      "Operator `forward` ran in 0.03 s\n",
      "Operator `forward` ran in 0.04 s\n",
      "Operator `forward` ran in 0.04 s\n",
      "Operator `forward` ran in 0.04 s\n",
      "Operator `forward` ran in 0.04 s\n",
      "Operator `forward` ran in 0.04 s\n",
      "Operator `forward` ran in 0.05 s\n",
      "Operator `forward` ran in 0.04 s\n",
      "Operator `forward` ran in 0.04 s\n",
      "Operator `forward` ran in 0.04 s\n",
      "Operator `forward` ran in 0.03 s\n",
      "Operator `forward` ran in 0.04 s\n",
      "Operator `forward` ran in 0.05 s\n"
     ]
    },
    {
     "name": "stdout",
     "output_type": "stream",
     "text": [
      "(α, misfit) = (0.03589780378050567, 38614.203125)\n",
      "FWI iteration no: "
     ]
    },
    {
     "name": "stderr",
     "output_type": "stream",
     "text": [
      "Operator `forward` ran in 0.05 s\n",
      "Operator `forward` ran in 0.06 s\n",
      "Operator `forward` ran in 0.06 s\n",
      "Operator `forward` ran in 0.06 s\n",
      "Operator `forward` ran in 0.06 s\n",
      "Operator `forward` ran in 0.06 s\n",
      "Operator `forward` ran in 0.06 s\n",
      "Operator `forward` ran in 0.04 s\n",
      "Operator `forward` ran in 0.04 s\n",
      "Operator `forward` ran in 0.04 s\n",
      "Operator `forward` ran in 0.04 s\n",
      "Operator `forward` ran in 0.04 s\n",
      "Operator `forward` ran in 0.06 s\n",
      "Operator `forward` ran in 0.04 s\n",
      "Operator `forward` ran in 0.04 s\n",
      "Operator `forward` ran in 0.06 s\n"
     ]
    },
    {
     "name": "stdout",
     "output_type": "stream",
     "text": [
      "11; function value: 38702.17\n"
     ]
    },
    {
     "name": "stderr",
     "output_type": "stream",
     "text": [
      "Operator `forward` ran in 0.05 s\n",
      "Operator `gradient` ran in 0.05 s\n",
      "Operator `forward` ran in 0.05 s\n",
      "Operator `gradient` ran in 0.05 s\n",
      "Operator `forward` ran in 0.04 s\n",
      "Operator `gradient` ran in 0.06 s\n",
      "Operator `forward` ran in 0.04 s\n",
      "Operator `gradient` ran in 0.05 s\n",
      "Operator `forward` ran in 0.04 s\n",
      "Operator `gradient` ran in 0.05 s\n",
      "Operator `forward` ran in 0.05 s\n",
      "Operator `gradient` ran in 0.05 s\n",
      "Operator `forward` ran in 0.04 s\n",
      "Operator `gradient` ran in 0.05 s\n",
      "Operator `forward` ran in 0.05 s\n",
      "Operator `gradient` ran in 0.05 s\n",
      "Operator `forward` ran in 0.05 s\n",
      "Operator `gradient` ran in 0.05 s\n",
      "Operator `forward` ran in 0.05 s\n",
      "Operator `gradient` ran in 0.05 s\n",
      "Operator `forward` ran in 0.05 s\n",
      "Operator `gradient` ran in 0.05 s\n",
      "Operator `forward` ran in 0.04 s\n",
      "Operator `gradient` ran in 0.05 s\n",
      "Operator `forward` ran in 0.05 s\n",
      "Operator `gradient` ran in 0.05 s\n",
      "Operator `forward` ran in 0.04 s\n",
      "Operator `gradient` ran in 0.05 s\n",
      "Operator `forward` ran in 0.05 s\n",
      "Operator `gradient` ran in 0.05 s\n",
      "Operator `forward` ran in 0.05 s\n",
      "Operator `gradient` ran in 0.05 s\n"
     ]
    },
    {
     "name": "stdout",
     "output_type": "stream",
     "text": [
      "(α, misfit) = (0.1f0, 957781.0625)\n",
      "(α, misfit) = "
     ]
    },
    {
     "name": "stderr",
     "output_type": "stream",
     "text": [
      "Operator `forward` ran in 0.03 s\n",
      "Operator `forward` ran in 0.04 s\n",
      "Operator `forward` ran in 0.04 s\n",
      "Operator `forward` ran in 0.04 s\n",
      "Operator `forward` ran in 0.04 s\n",
      "Operator `forward` ran in 0.04 s\n",
      "Operator `forward` ran in 0.04 s\n",
      "Operator `forward` ran in 0.04 s\n",
      "Operator `forward` ran in 0.04 s\n",
      "Operator `forward` ran in 0.04 s\n",
      "Operator `forward` ran in 0.04 s\n",
      "Operator `forward` ran in 0.04 s\n",
      "Operator `forward` ran in 0.04 s\n",
      "Operator `forward` ran in 0.04 s\n",
      "Operator `forward` ran in 0.04 s\n",
      "Operator `forward` ran in 0.04 s\n"
     ]
    },
    {
     "name": "stdout",
     "output_type": "stream",
     "text": [
      "(0.01386285378678055, 60898.28515625)\n"
     ]
    },
    {
     "name": "stderr",
     "output_type": "stream",
     "text": [
      "Operator `forward` ran in 0.04 s\n",
      "Operator `forward` ran in 0.03 s\n",
      "Operator `forward` ran in 0.04 s\n",
      "Operator `forward` ran in 0.04 s\n",
      "Operator `forward` ran in 0.04 s\n",
      "Operator `forward` ran in 0.04 s\n",
      "Operator `forward` ran in 0.04 s\n",
      "Operator `forward` ran in 0.04 s\n",
      "Operator `forward` ran in 0.04 s\n",
      "Operator `forward` ran in 0.04 s\n",
      "Operator `forward` ran in 0.04 s\n",
      "Operator `forward` ran in 0.03 s\n",
      "Operator `forward` ran in 0.04 s\n",
      "Operator `forward` ran in 0.04 s\n",
      "Operator `forward` ran in 0.04 s\n",
      "Operator `forward` ran in 0.04 s\n"
     ]
    },
    {
     "name": "stdout",
     "output_type": "stream",
     "text": [
      "(α, misfit) = (0.0045228660614796455, 32260.740234375)\n",
      "FWI iteration no: "
     ]
    },
    {
     "name": "stderr",
     "output_type": "stream",
     "text": [
      "Operator `forward` ran in 0.04 s\n",
      "Operator `forward` ran in 0.04 s\n",
      "Operator `forward` ran in 0.04 s\n",
      "Operator `forward` ran in 0.04 s\n",
      "Operator `forward` ran in 0.04 s\n",
      "Operator `forward` ran in 0.03 s\n",
      "Operator `forward` ran in 0.04 s\n",
      "Operator `forward` ran in 0.06 s\n",
      "Operator `forward` ran in 0.06 s\n",
      "Operator `forward` ran in 0.06 s\n",
      "Operator `forward` ran in 0.06 s\n",
      "Operator `forward` ran in 0.06 s\n",
      "Operator `forward` ran in 0.06 s\n",
      "Operator `forward` ran in 0.08 s\n",
      "Operator `forward` ran in 0.06 s\n",
      "Operator `forward` ran in 0.03 s\n"
     ]
    },
    {
     "name": "stdout",
     "output_type": "stream",
     "text": [
      "12; function value: 32348.207\n"
     ]
    },
    {
     "name": "stderr",
     "output_type": "stream",
     "text": [
      "Operator `forward` ran in 0.05 s\n",
      "Operator `gradient` ran in 0.05 s\n",
      "Operator `forward` ran in 0.05 s\n",
      "Operator `gradient` ran in 0.05 s\n",
      "Operator `forward` ran in 0.05 s\n",
      "Operator `gradient` ran in 0.05 s\n",
      "Operator `forward` ran in 0.05 s\n",
      "Operator `gradient` ran in 0.05 s\n",
      "Operator `forward` ran in 0.04 s\n",
      "Operator `gradient` ran in 0.05 s\n",
      "Operator `forward` ran in 0.04 s\n",
      "Operator `gradient` ran in 0.05 s\n",
      "Operator `forward` ran in 0.04 s\n",
      "Operator `gradient` ran in 0.05 s\n",
      "Operator `forward` ran in 0.05 s\n",
      "Operator `gradient` ran in 0.05 s\n",
      "Operator `forward` ran in 0.05 s\n",
      "Operator `gradient` ran in 0.05 s\n",
      "Operator `forward` ran in 0.05 s\n",
      "Operator `gradient` ran in 0.05 s\n",
      "Operator `forward` ran in 0.05 s\n",
      "Operator `gradient` ran in 0.05 s\n",
      "Operator `forward` ran in 0.05 s\n",
      "Operator `gradient` ran in 0.05 s\n",
      "Operator `forward` ran in 0.04 s\n",
      "Operator `gradient` ran in 0.05 s\n",
      "Operator `forward` ran in 0.05 s\n",
      "Operator `gradient` ran in 0.06 s\n",
      "Operator `forward` ran in 0.05 s\n",
      "Operator `gradient` ran in 0.05 s\n",
      "Operator `forward` ran in 0.05 s\n",
      "Operator `gradient` ran in 0.05 s\n"
     ]
    },
    {
     "name": "stdout",
     "output_type": "stream",
     "text": [
      "(α, misfit) = (0.1f0, 65794.359375)\n",
      "(α, misfit) = "
     ]
    },
    {
     "name": "stderr",
     "output_type": "stream",
     "text": [
      "Operator `forward` ran in 0.04 s\n",
      "Operator `forward` ran in 0.04 s\n",
      "Operator `forward` ran in 0.04 s\n",
      "Operator `forward` ran in 0.04 s\n",
      "Operator `forward` ran in 0.06 s\n",
      "Operator `forward` ran in 0.04 s\n",
      "Operator `forward` ran in 0.06 s\n",
      "Operator `forward` ran in 0.06 s\n",
      "Operator `forward` ran in 0.06 s\n",
      "Operator `forward` ran in 0.06 s\n",
      "Operator `forward` ran in 0.06 s\n",
      "Operator `forward` ran in 0.04 s\n",
      "Operator `forward` ran in 0.04 s\n",
      "Operator `forward` ran in 0.04 s\n",
      "Operator `forward` ran in 0.04 s\n",
      "Operator `forward` ran in 0.04 s\n"
     ]
    },
    {
     "name": "stdout",
     "output_type": "stream",
     "text": [
      "(0.03487253414062962, 31712.728515625)\n"
     ]
    },
    {
     "name": "stderr",
     "output_type": "stream",
     "text": [
      "Operator `forward` ran in 0.04 s\n",
      "Operator `forward` ran in 0.04 s\n",
      "Operator `forward` ran in 0.05 s\n",
      "Operator `forward` ran in 0.04 s\n",
      "Operator `forward` ran in 0.05 s\n",
      "Operator `forward` ran in 0.04 s\n",
      "Operator `forward` ran in 0.04 s\n",
      "Operator `forward` ran in 0.05 s\n",
      "Operator `forward` ran in 0.04 s\n",
      "Operator `forward` ran in 0.03 s\n",
      "Operator `forward` ran in 0.04 s\n",
      "Operator `forward` ran in 0.04 s\n",
      "Operator `forward` ran in 0.04 s\n",
      "Operator `forward` ran in 0.04 s\n",
      "Operator `forward` ran in 0.06 s\n",
      "Operator `forward` ran in 0.07 s\n"
     ]
    },
    {
     "name": "stdout",
     "output_type": "stream",
     "text": [
      "FWI iteration no: 13; function value: 31796.324\n",
      "(α, misfit) = "
     ]
    },
    {
     "name": "stderr",
     "output_type": "stream",
     "text": [
      "Operator `forward` ran in 0.05 s\n",
      "Operator `gradient` ran in 0.05 s\n",
      "Operator `forward` ran in 0.05 s\n",
      "Operator `gradient` ran in 0.05 s\n",
      "Operator `forward` ran in 0.05 s\n",
      "Operator `gradient` ran in 0.05 s\n",
      "Operator `forward` ran in 0.05 s\n",
      "Operator `gradient` ran in 0.05 s\n",
      "Operator `forward` ran in 0.05 s\n",
      "Operator `gradient` ran in 0.05 s\n",
      "Operator `forward` ran in 0.05 s\n",
      "Operator `gradient` ran in 0.05 s\n",
      "Operator `forward` ran in 0.05 s\n",
      "Operator `gradient` ran in 0.05 s\n",
      "Operator `forward` ran in 0.05 s\n",
      "Operator `gradient` ran in 0.05 s\n",
      "Operator `forward` ran in 0.05 s\n",
      "Operator `gradient` ran in 0.05 s\n",
      "Operator `forward` ran in 0.05 s\n",
      "Operator `gradient` ran in 0.05 s\n",
      "Operator `forward` ran in 0.05 s\n",
      "Operator `gradient` ran in 0.05 s\n",
      "Operator `forward` ran in 0.05 s\n",
      "Operator `gradient` ran in 0.05 s\n",
      "Operator `forward` ran in 0.05 s\n",
      "Operator `gradient` ran in 0.05 s\n",
      "Operator `forward` ran in 0.05 s\n",
      "Operator `gradient` ran in 0.05 s\n",
      "Operator `forward` ran in 0.05 s\n",
      "Operator `gradient` ran in 0.05 s\n",
      "Operator `forward` ran in 0.04 s\n",
      "Operator `gradient` ran in 0.05 s\n"
     ]
    },
    {
     "name": "stdout",
     "output_type": "stream",
     "text": [
      "(0.1f0, 858372.4375)\n"
     ]
    },
    {
     "name": "stderr",
     "output_type": "stream",
     "text": [
      "Operator `forward` ran in 0.04 s\n",
      "Operator `forward` ran in 0.04 s\n",
      "Operator `forward` ran in 0.04 s\n",
      "Operator `forward` ran in 0.04 s\n",
      "Operator `forward` ran in 0.04 s\n",
      "Operator `forward` ran in 0.04 s\n",
      "Operator `forward` ran in 0.04 s\n",
      "Operator `forward` ran in 0.04 s\n",
      "Operator `forward` ran in 0.04 s\n",
      "Operator `forward` ran in 0.04 s\n",
      "Operator `forward` ran in 0.04 s\n",
      "Operator `forward` ran in 0.05 s\n",
      "Operator `forward` ran in 0.04 s\n",
      "Operator `forward` ran in 0.04 s\n",
      "Operator `forward` ran in 0.04 s\n",
      "Operator `forward` ran in 0.04 s\n"
     ]
    },
    {
     "name": "stdout",
     "output_type": "stream",
     "text": [
      "(α, misfit) = (0.013758716095077327, 60571.92578125)\n",
      "(α, misfit) = "
     ]
    },
    {
     "name": "stderr",
     "output_type": "stream",
     "text": [
      "Operator `forward` ran in 0.04 s\n",
      "Operator `forward` ran in 0.04 s\n",
      "Operator `forward` ran in 0.04 s\n",
      "Operator `forward` ran in 0.03 s\n",
      "Operator `forward` ran in 0.04 s\n",
      "Operator `forward` ran in 0.04 s\n",
      "Operator `forward` ran in 0.04 s\n",
      "Operator `forward` ran in 0.04 s\n",
      "Operator `forward` ran in 0.04 s\n",
      "Operator `forward` ran in 0.04 s\n",
      "Operator `forward` ran in 0.04 s\n",
      "Operator `forward` ran in 0.06 s\n",
      "Operator `forward` ran in 0.06 s\n",
      "Operator `forward` ran in 0.04 s\n",
      "Operator `forward` ran in 0.06 s\n",
      "Operator `forward` ran in 0.06 s\n"
     ]
    },
    {
     "name": "stdout",
     "output_type": "stream",
     "text": [
      "(0.003878099136659843, 26886.599609375)\n"
     ]
    },
    {
     "name": "stderr",
     "output_type": "stream",
     "text": [
      "Operator `forward` ran in 0.05 s\n",
      "Operator `forward` ran in 0.07 s\n",
      "Operator `forward` ran in 0.06 s\n",
      "Operator `forward` ran in 0.04 s\n",
      "Operator `forward` ran in 0.04 s\n",
      "Operator `forward` ran in 0.04 s\n",
      "Operator `forward` ran in 0.05 s\n",
      "Operator `forward` ran in 0.04 s\n",
      "Operator `forward` ran in 0.06 s\n",
      "Operator `forward` ran in 0.04 s\n",
      "Operator `forward` ran in 0.04 s\n",
      "Operator `forward` ran in 0.05 s\n",
      "Operator `forward` ran in 0.07 s\n",
      "Operator `forward` ran in 0.04 s\n",
      "Operator `forward` ran in 0.04 s\n",
      "Operator `forward` ran in 0.04 s\n"
     ]
    },
    {
     "name": "stdout",
     "output_type": "stream",
     "text": [
      "FWI iteration no: 14; function value: 26969.982\n",
      "(α, misfit) = "
     ]
    },
    {
     "name": "stderr",
     "output_type": "stream",
     "text": [
      "Operator `forward` ran in 0.05 s\n",
      "Operator `gradient` ran in 0.05 s\n",
      "Operator `forward` ran in 0.04 s\n",
      "Operator `gradient` ran in 0.05 s\n",
      "Operator `forward` ran in 0.05 s\n",
      "Operator `gradient` ran in 0.05 s\n",
      "Operator `forward` ran in 0.05 s\n",
      "Operator `gradient` ran in 0.05 s\n",
      "Operator `forward` ran in 0.04 s\n",
      "Operator `gradient` ran in 0.05 s\n",
      "Operator `forward` ran in 0.05 s\n",
      "Operator `gradient` ran in 0.05 s\n",
      "Operator `forward` ran in 0.05 s\n",
      "Operator `gradient` ran in 0.05 s\n",
      "Operator `forward` ran in 0.05 s\n",
      "Operator `gradient` ran in 0.06 s\n",
      "Operator `forward` ran in 0.05 s\n",
      "Operator `gradient` ran in 0.05 s\n",
      "Operator `forward` ran in 0.05 s\n",
      "Operator `gradient` ran in 0.05 s\n",
      "Operator `forward` ran in 0.05 s\n",
      "Operator `gradient` ran in 0.05 s\n",
      "Operator `forward` ran in 0.04 s\n",
      "Operator `gradient` ran in 0.05 s\n",
      "Operator `forward` ran in 0.05 s\n",
      "Operator `gradient` ran in 0.05 s\n",
      "Operator `forward` ran in 0.05 s\n",
      "Operator `gradient` ran in 0.05 s\n",
      "Operator `forward` ran in 0.05 s\n",
      "Operator `gradient` ran in 0.05 s\n",
      "Operator `forward` ran in 0.05 s\n",
      "Operator `gradient` ran in 0.05 s\n"
     ]
    },
    {
     "name": "stdout",
     "output_type": "stream",
     "text": [
      "(0.1f0, 106919.890625)\n"
     ]
    },
    {
     "name": "stderr",
     "output_type": "stream",
     "text": [
      "Operator `forward` ran in 0.03 s\n",
      "Operator `forward` ran in 0.04 s\n",
      "Operator `forward` ran in 0.04 s\n",
      "Operator `forward` ran in 0.04 s\n",
      "Operator `forward` ran in 0.04 s\n",
      "Operator `forward` ran in 0.04 s\n",
      "Operator `forward` ran in 0.04 s\n",
      "Operator `forward` ran in 0.03 s\n",
      "Operator `forward` ran in 0.05 s\n",
      "Operator `forward` ran in 0.04 s\n",
      "Operator `forward` ran in 0.04 s\n",
      "Operator `forward` ran in 0.04 s\n",
      "Operator `forward` ran in 0.04 s\n",
      "Operator `forward` ran in 0.04 s\n",
      "Operator `forward` ran in 0.04 s\n",
      "Operator `forward` ran in 0.04 s\n"
     ]
    },
    {
     "name": "stdout",
     "output_type": "stream",
     "text": [
      "(α, misfit) = (0.02374958504318584, 27761.044921875)\n",
      "(α, misfit) = "
     ]
    },
    {
     "name": "stderr",
     "output_type": "stream",
     "text": [
      "Operator `forward` ran in 0.04 s\n",
      "Operator `forward` ran in 0.04 s\n",
      "Operator `forward` ran in 0.06 s\n",
      "Operator `forward` ran in 0.07 s\n",
      "Operator `forward` ran in 0.07 s\n",
      "Operator `forward` ran in 0.07 s\n",
      "Operator `forward` ran in 0.05 s\n",
      "Operator `forward` ran in 0.06 s\n",
      "Operator `forward` ran in 0.06 s\n",
      "Operator `forward` ran in 0.05 s\n",
      "Operator `forward` ran in 0.06 s\n",
      "Operator `forward` ran in 0.03 s\n",
      "Operator `forward` ran in 0.04 s\n",
      "Operator `forward` ran in 0.04 s\n",
      "Operator `forward` ran in 0.04 s\n",
      "Operator `forward` ran in 0.04 s\n"
     ]
    },
    {
     "name": "stdout",
     "output_type": "stream",
     "text": [
      "(0.010793467508856966, 25730.345703125)\n"
     ]
    },
    {
     "name": "stderr",
     "output_type": "stream",
     "text": [
      "Operator `forward` ran in 0.04 s\n",
      "Operator `forward` ran in 0.04 s\n",
      "Operator `forward` ran in 0.04 s\n",
      "Operator `forward` ran in 0.04 s\n",
      "Operator `forward` ran in 0.04 s\n",
      "Operator `forward` ran in 0.03 s\n",
      "Operator `forward` ran in 0.04 s\n",
      "Operator `forward` ran in 0.04 s\n",
      "Operator `forward` ran in 0.04 s\n",
      "Operator `forward` ran in 0.04 s\n",
      "Operator `forward` ran in 0.06 s\n",
      "Operator `forward` ran in 0.06 s\n",
      "Operator `forward` ran in 0.06 s\n",
      "Operator `forward` ran in 0.06 s\n",
      "Operator `forward` ran in 0.07 s\n",
      "Operator `forward` ran in 0.03 s\n"
     ]
    },
    {
     "name": "stdout",
     "output_type": "stream",
     "text": [
      "FWI iteration no: 15; function value: 25814.125\n",
      "(α, misfit) = "
     ]
    },
    {
     "name": "stderr",
     "output_type": "stream",
     "text": [
      "Operator `forward` ran in 0.05 s\n",
      "Operator `gradient` ran in 0.05 s\n",
      "Operator `forward` ran in 0.05 s\n",
      "Operator `gradient` ran in 0.05 s\n",
      "Operator `forward` ran in 0.05 s\n",
      "Operator `gradient` ran in 0.05 s\n",
      "Operator `forward` ran in 0.05 s\n",
      "Operator `gradient` ran in 0.05 s\n",
      "Operator `forward` ran in 0.05 s\n",
      "Operator `gradient` ran in 0.05 s\n",
      "Operator `forward` ran in 0.04 s\n",
      "Operator `gradient` ran in 0.05 s\n",
      "Operator `forward` ran in 0.05 s\n",
      "Operator `gradient` ran in 0.05 s\n",
      "Operator `forward` ran in 0.05 s\n",
      "Operator `gradient` ran in 0.05 s\n",
      "Operator `forward` ran in 0.05 s\n",
      "Operator `gradient` ran in 0.05 s\n",
      "Operator `forward` ran in 0.05 s\n",
      "Operator `gradient` ran in 0.05 s\n",
      "Operator `forward` ran in 0.05 s\n",
      "Operator `gradient` ran in 0.05 s\n",
      "Operator `forward` ran in 0.04 s\n",
      "Operator `gradient` ran in 0.05 s\n",
      "Operator `forward` ran in 0.05 s\n",
      "Operator `gradient` ran in 0.05 s\n",
      "Operator `forward` ran in 0.05 s\n",
      "Operator `gradient` ran in 0.05 s\n",
      "Operator `forward` ran in 0.04 s\n",
      "Operator `gradient` ran in 0.05 s\n",
      "Operator `forward` ran in 0.05 s\n",
      "Operator `gradient` ran in 0.05 s\n"
     ]
    },
    {
     "name": "stdout",
     "output_type": "stream",
     "text": [
      "(0.1f0, 287692.25)\n"
     ]
    },
    {
     "name": "stderr",
     "output_type": "stream",
     "text": [
      "Operator `forward` ran in 0.03 s\n",
      "Operator `forward` ran in 0.04 s\n",
      "Operator `forward` ran in 0.04 s\n",
      "Operator `forward` ran in 0.04 s\n",
      "Operator `forward` ran in 0.04 s\n",
      "Operator `forward` ran in 0.04 s\n",
      "Operator `forward` ran in 0.06 s\n",
      "Operator `forward` ran in 0.06 s\n",
      "Operator `forward` ran in 0.06 s\n",
      "Operator `forward` ran in 0.06 s\n",
      "Operator `forward` ran in 0.06 s\n",
      "Operator `forward` ran in 0.06 s\n",
      "Operator `forward` ran in 0.09 s\n",
      "Operator `forward` ran in 0.04 s\n",
      "Operator `forward` ran in 0.04 s\n",
      "Operator `forward` ran in 0.03 s\n"
     ]
    },
    {
     "name": "stdout",
     "output_type": "stream",
     "text": [
      "(α, misfit) = (0.012167676005676586, 26792.84375)\n",
      "(α, misfit) = "
     ]
    },
    {
     "name": "stderr",
     "output_type": "stream",
     "text": [
      "Operator `forward` ran in 0.04 s\n",
      "Operator `forward` ran in 0.04 s\n",
      "Operator `forward` ran in 0.04 s\n",
      "Operator `forward` ran in 0.04 s\n",
      "Operator `forward` ran in 0.04 s\n",
      "Operator `forward` ran in 0.04 s\n",
      "Operator `forward` ran in 0.04 s\n",
      "Operator `forward` ran in 0.04 s\n",
      "Operator `forward` ran in 0.04 s\n",
      "Operator `forward` ran in 0.03 s\n",
      "Operator `forward` ran in 0.04 s\n",
      "Operator `forward` ran in 0.04 s\n",
      "Operator `forward` ran in 0.04 s\n",
      "Operator `forward` ran in 0.04 s\n",
      "Operator `forward` ran in 0.04 s\n",
      "Operator `forward` ran in 0.04 s\n"
     ]
    },
    {
     "name": "stdout",
     "output_type": "stream",
     "text": [
      "(0.005417986755961697, 24871.08203125)\n"
     ]
    },
    {
     "name": "stderr",
     "output_type": "stream",
     "text": [
      "Operator `forward` ran in 0.05 s\n",
      "Operator `forward` ran in 0.06 s\n",
      "Operator `forward` ran in 0.07 s\n",
      "Operator `forward` ran in 0.04 s\n",
      "Operator `forward` ran in 0.06 s\n",
      "Operator `forward` ran in 0.06 s\n",
      "Operator `forward` ran in 0.06 s\n",
      "Operator `forward` ran in 0.04 s\n",
      "Operator `forward` ran in 0.04 s\n",
      "Operator `forward` ran in 0.04 s\n",
      "Operator `forward` ran in 0.04 s\n",
      "Operator `forward` ran in 0.04 s\n",
      "Operator `forward` ran in 0.04 s\n",
      "Operator `forward` ran in 0.03 s\n",
      "Operator `forward` ran in 0.05 s\n",
      "Operator `forward` ran in 0.04 s\n"
     ]
    },
    {
     "name": "stdout",
     "output_type": "stream",
     "text": [
      "FWI iteration no: 16; function value: 24954.715\n",
      "(α, misfit) = "
     ]
    },
    {
     "name": "stderr",
     "output_type": "stream",
     "text": [
      "Operator `forward` ran in 0.05 s\n",
      "Operator `gradient` ran in 0.05 s\n",
      "Operator `forward` ran in 0.04 s\n",
      "Operator `gradient` ran in 0.05 s\n",
      "Operator `forward` ran in 0.04 s\n",
      "Operator `gradient` ran in 0.05 s\n",
      "Operator `forward` ran in 0.05 s\n",
      "Operator `gradient` ran in 0.05 s\n",
      "Operator `forward` ran in 0.05 s\n",
      "Operator `gradient` ran in 0.06 s\n",
      "Operator `forward` ran in 0.05 s\n",
      "Operator `gradient` ran in 0.05 s\n",
      "Operator `forward` ran in 0.05 s\n",
      "Operator `gradient` ran in 0.05 s\n",
      "Operator `forward` ran in 0.05 s\n",
      "Operator `gradient` ran in 0.05 s\n",
      "Operator `forward` ran in 0.05 s\n",
      "Operator `gradient` ran in 0.05 s\n",
      "Operator `forward` ran in 0.05 s\n",
      "Operator `gradient` ran in 0.05 s\n",
      "Operator `forward` ran in 0.05 s\n",
      "Operator `gradient` ran in 0.05 s\n",
      "Operator `forward` ran in 0.05 s\n",
      "Operator `gradient` ran in 0.05 s\n",
      "Operator `forward` ran in 0.05 s\n",
      "Operator `gradient` ran in 0.05 s\n",
      "Operator `forward` ran in 0.04 s\n",
      "Operator `gradient` ran in 0.05 s\n",
      "Operator `forward` ran in 0.04 s\n",
      "Operator `gradient` ran in 0.05 s\n",
      "Operator `forward` ran in 0.04 s\n",
      "Operator `gradient` ran in 0.05 s\n"
     ]
    },
    {
     "name": "stdout",
     "output_type": "stream",
     "text": [
      "(0.1f0, 132420.921875)\n"
     ]
    },
    {
     "name": "stderr",
     "output_type": "stream",
     "text": [
      "Operator `forward` ran in 0.04 s\n",
      "Operator `forward` ran in 0.04 s\n",
      "Operator `forward` ran in 0.04 s\n",
      "Operator `forward` ran in 0.04 s\n",
      "Operator `forward` ran in 0.04 s\n",
      "Operator `forward` ran in 0.04 s\n",
      "Operator `forward` ran in 0.04 s\n",
      "Operator `forward` ran in 0.04 s\n",
      "Operator `forward` ran in 0.04 s\n",
      "Operator `forward` ran in 0.04 s\n",
      "Operator `forward` ran in 0.04 s\n",
      "Operator `forward` ran in 0.04 s\n",
      "Operator `forward` ran in 0.04 s\n",
      "Operator `forward` ran in 0.05 s\n",
      "Operator `forward` ran in 0.04 s\n",
      "Operator `forward` ran in 0.04 s\n"
     ]
    },
    {
     "name": "stdout",
     "output_type": "stream",
     "text": [
      "(α, misfit) = (0.0192731024512787, 26199.015625)\n",
      "(α, misfit) = "
     ]
    },
    {
     "name": "stderr",
     "output_type": "stream",
     "text": [
      "Operator `forward` ran in 0.04 s\n",
      "Operator `forward` ran in 0.04 s\n",
      "Operator `forward` ran in 0.05 s\n",
      "Operator `forward` ran in 0.04 s\n",
      "Operator `forward` ran in 0.04 s\n",
      "Operator `forward` ran in 0.04 s\n",
      "Operator `forward` ran in 0.05 s\n",
      "Operator `forward` ran in 0.03 s\n",
      "Operator `forward` ran in 0.04 s\n",
      "Operator `forward` ran in 0.04 s\n",
      "Operator `forward` ran in 0.04 s\n",
      "Operator `forward` ran in 0.04 s\n",
      "Operator `forward` ran in 0.04 s\n",
      "Operator `forward` ran in 0.05 s\n",
      "Operator `forward` ran in 0.05 s\n",
      "Operator `forward` ran in 0.04 s\n"
     ]
    },
    {
     "name": "stdout",
     "output_type": "stream",
     "text": [
      "(0.008417418684491692, 24205.19921875)\n"
     ]
    },
    {
     "name": "stderr",
     "output_type": "stream",
     "text": [
      "Operator `forward` ran in 0.04 s\n",
      "Operator `forward` ran in 0.03 s\n",
      "Operator `forward` ran in 0.04 s\n",
      "Operator `forward` ran in 0.05 s\n",
      "Operator `forward` ran in 0.05 s\n",
      "Operator `forward` ran in 0.04 s\n",
      "Operator `forward` ran in 0.07 s\n",
      "Operator `forward` ran in 0.06 s\n",
      "Operator `forward` ran in 0.06 s\n",
      "Operator `forward` ran in 0.07 s\n",
      "Operator `forward` ran in 0.06 s\n",
      "Operator `forward` ran in 0.04 s\n",
      "Operator `forward` ran in 0.07 s\n",
      "Operator `forward` ran in 0.06 s\n",
      "Operator `forward` ran in 0.06 s\n",
      "Operator `forward` ran in 0.04 s\n"
     ]
    },
    {
     "name": "stdout",
     "output_type": "stream",
     "text": [
      "FWI iteration no: 17; function value: 24281.14\n",
      "(α, misfit) = "
     ]
    },
    {
     "name": "stderr",
     "output_type": "stream",
     "text": [
      "Operator `forward` ran in 0.05 s\n",
      "Operator `gradient` ran in 0.05 s\n",
      "Operator `forward` ran in 0.05 s\n",
      "Operator `gradient` ran in 0.05 s\n",
      "Operator `forward` ran in 0.04 s\n",
      "Operator `gradient` ran in 0.05 s\n",
      "Operator `forward` ran in 0.05 s\n",
      "Operator `gradient` ran in 0.05 s\n",
      "Operator `forward` ran in 0.05 s\n",
      "Operator `gradient` ran in 0.05 s\n",
      "Operator `forward` ran in 0.05 s\n",
      "Operator `gradient` ran in 0.05 s\n",
      "Operator `forward` ran in 0.04 s\n",
      "Operator `gradient` ran in 0.05 s\n",
      "Operator `forward` ran in 0.05 s\n",
      "Operator `gradient` ran in 0.05 s\n",
      "Operator `forward` ran in 0.05 s\n",
      "Operator `gradient` ran in 0.05 s\n",
      "Operator `forward` ran in 0.05 s\n",
      "Operator `gradient` ran in 0.05 s\n",
      "Operator `forward` ran in 0.05 s\n",
      "Operator `gradient` ran in 0.05 s\n",
      "Operator `forward` ran in 0.05 s\n",
      "Operator `gradient` ran in 0.05 s\n",
      "Operator `forward` ran in 0.05 s\n",
      "Operator `gradient` ran in 0.05 s\n",
      "Operator `forward` ran in 0.05 s\n",
      "Operator `gradient` ran in 0.05 s\n",
      "Operator `forward` ran in 0.05 s\n",
      "Operator `gradient` ran in 0.05 s\n",
      "Operator `forward` ran in 0.04 s\n",
      "Operator `gradient` ran in 0.05 s\n"
     ]
    },
    {
     "name": "stdout",
     "output_type": "stream",
     "text": [
      "(0.1f0, 265443.375)\n"
     ]
    },
    {
     "name": "stderr",
     "output_type": "stream",
     "text": [
      "Operator `forward` ran in 0.04 s\n",
      "Operator `forward` ran in 0.04 s\n",
      "Operator `forward` ran in 0.07 s\n",
      "Operator `forward` ran in 0.04 s\n",
      "Operator `forward` ran in 0.04 s\n",
      "Operator `forward` ran in 0.04 s\n",
      "Operator `forward` ran in 0.04 s\n",
      "Operator `forward` ran in 0.04 s\n",
      "Operator `forward` ran in 0.04 s\n",
      "Operator `forward` ran in 0.04 s\n",
      "Operator `forward` ran in 0.04 s\n",
      "Operator `forward` ran in 0.03 s\n",
      "Operator `forward` ran in 0.07 s\n",
      "Operator `forward` ran in 0.04 s\n",
      "Operator `forward` ran in 0.04 s\n",
      "Operator `forward` ran in 0.04 s\n"
     ]
    },
    {
     "name": "stdout",
     "output_type": "stream",
     "text": [
      "(α, misfit) = (0.012189470288198804, 25292.810546875)\n",
      "(α, misfit) = "
     ]
    },
    {
     "name": "stderr",
     "output_type": "stream",
     "text": [
      "Operator `forward` ran in 0.04 s\n",
      "Operator `forward` ran in 0.04 s\n",
      "Operator `forward` ran in 0.04 s\n",
      "Operator `forward` ran in 0.04 s\n",
      "Operator `forward` ran in 0.04 s\n",
      "Operator `forward` ran in 0.04 s\n",
      "Operator `forward` ran in 0.04 s\n",
      "Operator `forward` ran in 0.05 s\n",
      "Operator `forward` ran in 0.04 s\n",
      "Operator `forward` ran in 0.04 s\n",
      "Operator `forward` ran in 0.04 s\n",
      "Operator `forward` ran in 0.06 s\n",
      "Operator `forward` ran in 0.06 s\n",
      "Operator `forward` ran in 0.06 s\n",
      "Operator `forward` ran in 0.06 s\n",
      "Operator `forward` ran in 0.04 s\n"
     ]
    },
    {
     "name": "stdout",
     "output_type": "stream",
     "text": [
      "(0.005368212423065367, 23485.69140625)\n"
     ]
    },
    {
     "name": "stderr",
     "output_type": "stream",
     "text": [
      "Operator `forward` ran in 0.04 s\n",
      "Operator `forward` ran in 0.04 s\n",
      "Operator `forward` ran in 0.04 s\n",
      "Operator `forward` ran in 0.04 s\n",
      "Operator `forward` ran in 0.04 s\n",
      "Operator `forward` ran in 0.04 s\n",
      "Operator `forward` ran in 0.04 s\n",
      "Operator `forward` ran in 0.04 s\n",
      "Operator `forward` ran in 0.04 s\n",
      "Operator `forward` ran in 0.03 s\n",
      "Operator `forward` ran in 0.04 s\n",
      "Operator `forward` ran in 0.04 s\n",
      "Operator `forward` ran in 0.04 s\n",
      "Operator `forward` ran in 0.04 s\n",
      "Operator `forward` ran in 0.04 s\n",
      "Operator `forward` ran in 0.05 s\n"
     ]
    },
    {
     "name": "stdout",
     "output_type": "stream",
     "text": [
      "FWI iteration no: 18; function value: 23561.904\n",
      "(α, misfit) = "
     ]
    },
    {
     "name": "stderr",
     "output_type": "stream",
     "text": [
      "Operator `forward` ran in 0.05 s\n",
      "Operator `gradient` ran in 0.05 s\n",
      "Operator `forward` ran in 0.05 s\n",
      "Operator `gradient` ran in 0.06 s\n",
      "Operator `forward` ran in 0.05 s\n",
      "Operator `gradient` ran in 0.05 s\n",
      "Operator `forward` ran in 0.05 s\n",
      "Operator `gradient` ran in 0.05 s\n",
      "Operator `forward` ran in 0.05 s\n",
      "Operator `gradient` ran in 0.05 s\n",
      "Operator `forward` ran in 0.05 s\n",
      "Operator `gradient` ran in 0.05 s\n",
      "Operator `forward` ran in 0.05 s\n",
      "Operator `gradient` ran in 0.05 s\n",
      "Operator `forward` ran in 0.05 s\n",
      "Operator `gradient` ran in 0.05 s\n",
      "Operator `forward` ran in 0.05 s\n",
      "Operator `gradient` ran in 0.05 s\n",
      "Operator `forward` ran in 0.05 s\n",
      "Operator `gradient` ran in 0.05 s\n",
      "Operator `forward` ran in 0.05 s\n",
      "Operator `gradient` ran in 0.05 s\n",
      "Operator `forward` ran in 0.05 s\n",
      "Operator `gradient` ran in 0.05 s\n",
      "Operator `forward` ran in 0.05 s\n",
      "Operator `gradient` ran in 0.05 s\n",
      "Operator `forward` ran in 0.05 s\n",
      "Operator `gradient` ran in 0.05 s\n",
      "Operator `forward` ran in 0.05 s\n",
      "Operator `gradient` ran in 0.05 s\n",
      "Operator `forward` ran in 0.05 s\n",
      "Operator `gradient` ran in 0.05 s\n"
     ]
    },
    {
     "name": "stdout",
     "output_type": "stream",
     "text": [
      "(0.1f0, 137449.65625)\n"
     ]
    },
    {
     "name": "stderr",
     "output_type": "stream",
     "text": [
      "Operator `forward` ran in 0.04 s\n",
      "Operator `forward` ran in 0.05 s\n",
      "Operator `forward` ran in 0.05 s\n",
      "Operator `forward` ran in 0.05 s\n",
      "Operator `forward` ran in 0.04 s\n",
      "Operator `forward` ran in 0.04 s\n",
      "Operator `forward` ran in 0.04 s\n",
      "Operator `forward` ran in 0.04 s\n",
      "Operator `forward` ran in 0.04 s\n",
      "Operator `forward` ran in 0.03 s\n",
      "Operator `forward` ran in 0.04 s\n",
      "Operator `forward` ran in 0.04 s\n",
      "Operator `forward` ran in 0.04 s\n",
      "Operator `forward` ran in 0.04 s\n",
      "Operator `forward` ran in 0.04 s\n",
      "Operator `forward` ran in 0.05 s\n"
     ]
    },
    {
     "name": "stdout",
     "output_type": "stream",
     "text": [
      "(α, misfit) = (0.018238181444595963, 24886.82421875)\n",
      "(α, misfit) = "
     ]
    },
    {
     "name": "stderr",
     "output_type": "stream",
     "text": [
      "Operator `forward` ran in 0.04 s\n",
      "Operator `forward` ran in 0.04 s\n",
      "Operator `forward` ran in 0.04 s\n",
      "Operator `forward` ran in 0.03 s\n",
      "Operator `forward` ran in 0.04 s\n",
      "Operator `forward` ran in 0.04 s\n",
      "Operator `forward` ran in 0.04 s\n",
      "Operator `forward` ran in 0.04 s\n",
      "Operator `forward` ran in 0.04 s\n",
      "Operator `forward` ran in 0.04 s\n",
      "Operator `forward` ran in 0.04 s\n",
      "Operator `forward` ran in 0.04 s\n",
      "Operator `forward` ran in 0.04 s\n",
      "Operator `forward` ran in 0.03 s\n",
      "Operator `forward` ran in 0.04 s\n",
      "Operator `forward` ran in 0.04 s\n"
     ]
    },
    {
     "name": "stdout",
     "output_type": "stream",
     "text": [
      "(0.007866687833459795, 22912.736328125)\n"
     ]
    },
    {
     "name": "stderr",
     "output_type": "stream",
     "text": [
      "Operator `forward` ran in 0.04 s\n",
      "Operator `forward` ran in 0.04 s\n",
      "Operator `forward` ran in 0.04 s\n",
      "Operator `forward` ran in 0.04 s\n",
      "Operator `forward` ran in 0.04 s\n",
      "Operator `forward` ran in 0.04 s\n",
      "Operator `forward` ran in 0.04 s\n",
      "Operator `forward` ran in 0.04 s\n",
      "Operator `forward` ran in 0.04 s\n",
      "Operator `forward` ran in 0.04 s\n",
      "Operator `forward` ran in 0.04 s\n",
      "Operator `forward` ran in 0.04 s\n",
      "Operator `forward` ran in 0.04 s\n",
      "Operator `forward` ran in 0.04 s\n",
      "Operator `forward` ran in 0.04 s\n",
      "Operator `forward` ran in 0.05 s\n"
     ]
    },
    {
     "name": "stdout",
     "output_type": "stream",
     "text": [
      "FWI iteration no: 19; function value: 22988.838\n",
      "(α, misfit) = "
     ]
    },
    {
     "name": "stderr",
     "output_type": "stream",
     "text": [
      "Operator `forward` ran in 0.05 s\n",
      "Operator `gradient` ran in 0.05 s\n",
      "Operator `forward` ran in 0.04 s\n",
      "Operator `gradient` ran in 0.05 s\n",
      "Operator `forward` ran in 0.04 s\n",
      "Operator `gradient` ran in 0.05 s\n",
      "Operator `forward` ran in 0.05 s\n",
      "Operator `gradient` ran in 0.05 s\n",
      "Operator `forward` ran in 0.05 s\n",
      "Operator `gradient` ran in 0.05 s\n",
      "Operator `forward` ran in 0.05 s\n",
      "Operator `gradient` ran in 0.05 s\n",
      "Operator `forward` ran in 0.05 s\n",
      "Operator `gradient` ran in 0.05 s\n",
      "Operator `forward` ran in 0.05 s\n",
      "Operator `gradient` ran in 0.05 s\n",
      "Operator `forward` ran in 0.05 s\n",
      "Operator `gradient` ran in 0.05 s\n",
      "Operator `forward` ran in 0.05 s\n",
      "Operator `gradient` ran in 0.05 s\n",
      "Operator `forward` ran in 0.04 s\n",
      "Operator `gradient` ran in 0.05 s\n",
      "Operator `forward` ran in 0.05 s\n",
      "Operator `gradient` ran in 0.05 s\n",
      "Operator `forward` ran in 0.05 s\n",
      "Operator `gradient` ran in 0.05 s\n",
      "Operator `forward` ran in 0.05 s\n",
      "Operator `gradient` ran in 0.05 s\n",
      "Operator `forward` ran in 0.05 s\n",
      "Operator `gradient` ran in 0.05 s\n",
      "Operator `forward` ran in 0.05 s\n",
      "Operator `gradient` ran in 0.05 s\n"
     ]
    },
    {
     "name": "stdout",
     "output_type": "stream",
     "text": [
      "(0.1f0, 253490.46875)\n"
     ]
    },
    {
     "name": "stderr",
     "output_type": "stream",
     "text": [
      "Operator `forward` ran in 0.04 s\n",
      "Operator `forward` ran in 0.06 s\n",
      "Operator `forward` ran in 0.06 s\n",
      "Operator `forward` ran in 0.06 s\n",
      "Operator `forward` ran in 0.06 s\n",
      "Operator `forward` ran in 0.04 s\n",
      "Operator `forward` ran in 0.04 s\n",
      "Operator `forward` ran in 0.03 s\n",
      "Operator `forward` ran in 0.04 s\n",
      "Operator `forward` ran in 0.04 s\n",
      "Operator `forward` ran in 0.04 s\n",
      "Operator `forward` ran in 0.04 s\n",
      "Operator `forward` ran in 0.04 s\n",
      "Operator `forward` ran in 0.05 s\n",
      "Operator `forward` ran in 0.05 s\n",
      "Operator `forward` ran in 0.04 s\n"
     ]
    },
    {
     "name": "stdout",
     "output_type": "stream",
     "text": [
      "(α, misfit) = (0.012123402985370851, 24008.55859375)\n",
      "(α, misfit) = "
     ]
    },
    {
     "name": "stderr",
     "output_type": "stream",
     "text": [
      "Operator `forward` ran in 0.05 s\n",
      "Operator `forward` ran in 0.03 s\n",
      "Operator `forward` ran in 0.04 s\n",
      "Operator `forward` ran in 0.04 s\n",
      "Operator `forward` ran in 0.04 s\n",
      "Operator `forward` ran in 0.04 s\n",
      "Operator `forward` ran in 0.06 s\n",
      "Operator `forward` ran in 0.06 s\n",
      "Operator `forward` ran in 0.06 s\n",
      "Operator `forward` ran in 0.06 s\n",
      "Operator `forward` ran in 0.06 s\n",
      "Operator `forward` ran in 0.04 s\n",
      "Operator `forward` ran in 0.07 s\n",
      "Operator `forward` ran in 0.04 s\n",
      "Operator `forward` ran in 0.04 s\n",
      "Operator `forward` ran in 0.04 s\n"
     ]
    },
    {
     "name": "stdout",
     "output_type": "stream",
     "text": [
      "(0.005302683978114636, 22272.65625)\n"
     ]
    },
    {
     "name": "stderr",
     "output_type": "stream",
     "text": [
      "Operator `forward` ran in 0.04 s\n",
      "Operator `forward` ran in 0.04 s\n",
      "Operator `forward` ran in 0.04 s\n",
      "Operator `forward` ran in 0.04 s\n",
      "Operator `forward` ran in 0.04 s\n",
      "Operator `forward` ran in 0.04 s\n",
      "Operator `forward` ran in 0.04 s\n",
      "Operator `forward` ran in 0.04 s\n",
      "Operator `forward` ran in 0.04 s\n",
      "Operator `forward` ran in 0.05 s\n",
      "Operator `forward` ran in 0.04 s\n",
      "Operator `forward` ran in 0.04 s\n",
      "Operator `forward` ran in 0.04 s\n",
      "Operator `forward` ran in 0.04 s\n",
      "Operator `forward` ran in 0.04 s\n",
      "Operator `forward` ran in 0.04 s\n"
     ]
    },
    {
     "name": "stdout",
     "output_type": "stream",
     "text": [
      "FWI iteration no: 20; function value: 22348.89\n",
      "(α, misfit) = "
     ]
    },
    {
     "name": "stderr",
     "output_type": "stream",
     "text": [
      "Operator `forward` ran in 0.05 s\n",
      "Operator `gradient` ran in 0.05 s\n",
      "Operator `forward` ran in 0.04 s\n",
      "Operator `gradient` ran in 0.05 s\n",
      "Operator `forward` ran in 0.05 s\n",
      "Operator `gradient` ran in 0.05 s\n",
      "Operator `forward` ran in 0.04 s\n",
      "Operator `gradient` ran in 0.05 s\n",
      "Operator `forward` ran in 0.05 s\n",
      "Operator `gradient` ran in 0.05 s\n",
      "Operator `forward` ran in 0.04 s\n",
      "Operator `gradient` ran in 0.07 s\n",
      "Operator `forward` ran in 0.05 s\n",
      "Operator `gradient` ran in 0.05 s\n",
      "Operator `forward` ran in 0.05 s\n",
      "Operator `gradient` ran in 0.05 s\n",
      "Operator `forward` ran in 0.05 s\n",
      "Operator `gradient` ran in 0.05 s\n",
      "Operator `forward` ran in 0.05 s\n",
      "Operator `gradient` ran in 0.05 s\n",
      "Operator `forward` ran in 0.05 s\n",
      "Operator `gradient` ran in 0.06 s\n",
      "Operator `forward` ran in 0.05 s\n",
      "Operator `gradient` ran in 0.05 s\n",
      "Operator `forward` ran in 0.05 s\n",
      "Operator `gradient` ran in 0.05 s\n",
      "Operator `forward` ran in 0.05 s\n",
      "Operator `gradient` ran in 0.05 s\n",
      "Operator `forward` ran in 0.05 s\n",
      "Operator `gradient` ran in 0.05 s\n",
      "Operator `forward` ran in 0.05 s\n",
      "Operator `gradient` ran in 0.05 s\n"
     ]
    },
    {
     "name": "stdout",
     "output_type": "stream",
     "text": [
      "(0.1f0, 136921.5)\n"
     ]
    },
    {
     "name": "stderr",
     "output_type": "stream",
     "text": [
      "Operator `forward` ran in 0.03 s\n",
      "Operator `forward` ran in 0.04 s\n",
      "Operator `forward` ran in 0.04 s\n",
      "Operator `forward` ran in 0.04 s\n",
      "Operator `forward` ran in 0.04 s\n",
      "Operator `forward` ran in 0.03 s\n",
      "Operator `forward` ran in 0.04 s\n",
      "Operator `forward` ran in 0.04 s\n",
      "Operator `forward` ran in 0.04 s\n",
      "Operator `forward` ran in 0.05 s\n",
      "Operator `forward` ran in 0.04 s\n",
      "Operator `forward` ran in 0.04 s\n",
      "Operator `forward` ran in 0.05 s\n",
      "Operator `forward` ran in 0.06 s\n",
      "Operator `forward` ran in 0.08 s\n",
      "Operator `forward` ran in 0.04 s\n"
     ]
    },
    {
     "name": "stdout",
     "output_type": "stream",
     "text": [
      "(α, misfit) = (0.01772831195122863, 23685.666015625)\n",
      "(α, misfit) = "
     ]
    },
    {
     "name": "stderr",
     "output_type": "stream",
     "text": [
      "Operator `forward` ran in 0.05 s\n",
      "Operator `forward` ran in 0.06 s\n",
      "Operator `forward` ran in 0.06 s\n",
      "Operator `forward` ran in 0.06 s\n",
      "Operator `forward` ran in 0.04 s\n",
      "Operator `forward` ran in 0.04 s\n",
      "Operator `forward` ran in 0.04 s\n",
      "Operator `forward` ran in 0.04 s\n",
      "Operator `forward` ran in 0.04 s\n",
      "Operator `forward` ran in 0.03 s\n",
      "Operator `forward` ran in 0.04 s\n",
      "Operator `forward` ran in 0.04 s\n",
      "Operator `forward` ran in 0.04 s\n",
      "Operator `forward` ran in 0.04 s\n",
      "Operator `forward` ran in 0.04 s\n",
      "Operator `forward` ran in 0.04 s\n"
     ]
    },
    {
     "name": "stdout",
     "output_type": "stream",
     "text": [
      "(0.007591984944682306, 21768.7890625)\n"
     ]
    },
    {
     "name": "stderr",
     "output_type": "stream",
     "text": [
      "Operator `forward` ran in 0.04 s\n",
      "Operator `forward` ran in 0.04 s\n",
      "Operator `forward` ran in 0.04 s\n",
      "Operator `forward` ran in 0.03 s\n",
      "Operator `forward` ran in 0.05 s\n",
      "Operator `forward` ran in 0.06 s\n",
      "Operator `forward` ran in 0.05 s\n",
      "Operator `forward` ran in 0.07 s\n",
      "Operator `forward` ran in 0.07 s\n",
      "Operator `forward` ran in 0.06 s\n",
      "Operator `forward` ran in 0.04 s\n",
      "Operator `forward` ran in 0.04 s\n",
      "Operator `forward` ran in 0.04 s\n",
      "Operator `forward` ran in 0.03 s\n",
      "Operator `forward` ran in 0.04 s\n",
      "Operator `forward` ran in 0.04 s\n"
     ]
    },
    {
     "name": "stdout",
     "output_type": "stream",
     "text": [
      "FWI iteration no: 21; function value: 21844.898\n",
      "(α, misfit) = "
     ]
    },
    {
     "name": "stderr",
     "output_type": "stream",
     "text": [
      "Operator `forward` ran in 0.05 s\n",
      "Operator `gradient` ran in 0.05 s\n",
      "Operator `forward` ran in 0.04 s\n",
      "Operator `gradient` ran in 0.05 s\n",
      "Operator `forward` ran in 0.05 s\n",
      "Operator `gradient` ran in 0.05 s\n",
      "Operator `forward` ran in 0.05 s\n",
      "Operator `gradient` ran in 0.05 s\n",
      "Operator `forward` ran in 0.05 s\n",
      "Operator `gradient` ran in 0.06 s\n",
      "Operator `forward` ran in 0.05 s\n",
      "Operator `gradient` ran in 0.06 s\n",
      "Operator `forward` ran in 0.04 s\n",
      "Operator `gradient` ran in 0.05 s\n",
      "Operator `forward` ran in 0.05 s\n",
      "Operator `gradient` ran in 0.05 s\n",
      "Operator `forward` ran in 0.05 s\n",
      "Operator `gradient` ran in 0.05 s\n",
      "Operator `forward` ran in 0.05 s\n",
      "Operator `gradient` ran in 0.05 s\n",
      "Operator `forward` ran in 0.05 s\n",
      "Operator `gradient` ran in 0.05 s\n",
      "Operator `forward` ran in 0.05 s\n",
      "Operator `gradient` ran in 0.05 s\n",
      "Operator `forward` ran in 0.05 s\n",
      "Operator `gradient` ran in 0.05 s\n",
      "Operator `forward` ran in 0.05 s\n",
      "Operator `gradient` ran in 0.05 s\n",
      "Operator `forward` ran in 0.05 s\n",
      "Operator `gradient` ran in 0.05 s\n",
      "Operator `forward` ran in 0.05 s\n",
      "Operator `gradient` ran in 0.05 s\n"
     ]
    },
    {
     "name": "stdout",
     "output_type": "stream",
     "text": [
      "(0.1f0, 244665.921875)\n"
     ]
    },
    {
     "name": "stderr",
     "output_type": "stream",
     "text": [
      "Operator `forward` ran in 0.04 s\n",
      "Operator `forward` ran in 0.04 s\n",
      "Operator `forward` ran in 0.04 s\n",
      "Operator `forward` ran in 0.04 s\n",
      "Operator `forward` ran in 0.04 s\n",
      "Operator `forward` ran in 0.04 s\n",
      "Operator `forward` ran in 0.04 s\n",
      "Operator `forward` ran in 0.04 s\n",
      "Operator `forward` ran in 0.04 s\n",
      "Operator `forward` ran in 0.04 s\n",
      "Operator `forward` ran in 0.04 s\n",
      "Operator `forward` ran in 0.04 s\n",
      "Operator `forward` ran in 0.04 s\n",
      "Operator `forward` ran in 0.04 s\n",
      "Operator `forward` ran in 0.06 s\n",
      "Operator `forward` ran in 0.06 s\n"
     ]
    },
    {
     "name": "stdout",
     "output_type": "stream",
     "text": [
      "(α, misfit) = (0.012010594762665472, 22864.09765625)\n",
      "(α, misfit) = "
     ]
    },
    {
     "name": "stderr",
     "output_type": "stream",
     "text": [
      "Operator `forward` ran in 0.05 s\n",
      "Operator `forward` ran in 0.06 s\n",
      "Operator `forward` ran in 0.06 s\n",
      "Operator `forward` ran in 0.06 s\n",
      "Operator `forward` ran in 0.06 s\n",
      "Operator `forward` ran in 0.06 s\n",
      "Operator `forward` ran in 0.04 s\n",
      "Operator `forward` ran in 0.04 s\n",
      "Operator `forward` ran in 0.04 s\n",
      "Operator `forward` ran in 0.04 s\n",
      "Operator `forward` ran in 0.04 s\n",
      "Operator `forward` ran in 0.04 s\n",
      "Operator `forward` ran in 0.05 s\n",
      "Operator `forward` ran in 0.05 s\n",
      "Operator `forward` ran in 0.04 s\n",
      "Operator `forward` ran in 0.04 s\n"
     ]
    },
    {
     "name": "stdout",
     "output_type": "stream",
     "text": [
      "(0.0052223958473697546, 21194.421875)\n"
     ]
    },
    {
     "name": "stderr",
     "output_type": "stream",
     "text": [
      "Operator `forward` ran in 0.04 s\n",
      "Operator `forward` ran in 0.03 s\n",
      "Operator `forward` ran in 0.04 s\n",
      "Operator `forward` ran in 0.04 s\n",
      "Operator `forward` ran in 0.04 s\n",
      "Operator `forward` ran in 0.04 s\n",
      "Operator `forward` ran in 0.06 s\n",
      "Operator `forward` ran in 0.05 s\n",
      "Operator `forward` ran in 0.06 s\n",
      "Operator `forward` ran in 0.07 s\n",
      "Operator `forward` ran in 0.07 s\n",
      "Operator `forward` ran in 0.04 s\n",
      "Operator `forward` ran in 0.06 s\n",
      "Operator `forward` ran in 0.04 s\n",
      "Operator `forward` ran in 0.04 s\n",
      "Operator `forward` ran in 0.04 s\n"
     ]
    },
    {
     "name": "stdout",
     "output_type": "stream",
     "text": [
      "FWI iteration no: 22; function value: 21270.795\n",
      "(α, misfit) = "
     ]
    },
    {
     "name": "stderr",
     "output_type": "stream",
     "text": [
      "Operator `forward` ran in 0.05 s\n",
      "Operator `gradient` ran in 0.05 s\n",
      "Operator `forward` ran in 0.05 s\n",
      "Operator `gradient` ran in 0.05 s\n",
      "Operator `forward` ran in 0.05 s\n",
      "Operator `gradient` ran in 0.05 s\n",
      "Operator `forward` ran in 0.05 s\n",
      "Operator `gradient` ran in 0.05 s\n",
      "Operator `forward` ran in 0.04 s\n",
      "Operator `gradient` ran in 0.05 s\n",
      "Operator `forward` ran in 0.05 s\n",
      "Operator `gradient` ran in 0.05 s\n",
      "Operator `forward` ran in 0.05 s\n",
      "Operator `gradient` ran in 0.05 s\n",
      "Operator `forward` ran in 0.05 s\n",
      "Operator `gradient` ran in 0.05 s\n",
      "Operator `forward` ran in 0.04 s\n",
      "Operator `gradient` ran in 0.05 s\n",
      "Operator `forward` ran in 0.05 s\n",
      "Operator `gradient` ran in 0.05 s\n",
      "Operator `forward` ran in 0.05 s\n",
      "Operator `gradient` ran in 0.05 s\n",
      "Operator `forward` ran in 0.05 s\n",
      "Operator `gradient` ran in 0.05 s\n",
      "Operator `forward` ran in 0.05 s\n",
      "Operator `gradient` ran in 0.05 s\n",
      "Operator `forward` ran in 0.05 s\n",
      "Operator `gradient` ran in 0.05 s\n",
      "Operator `forward` ran in 0.04 s\n",
      "Operator `gradient` ran in 0.05 s\n",
      "Operator `forward` ran in 0.05 s\n",
      "Operator `gradient` ran in 0.05 s\n"
     ]
    },
    {
     "name": "stdout",
     "output_type": "stream",
     "text": [
      "(0.1f0, 135582.359375)\n"
     ]
    },
    {
     "name": "stderr",
     "output_type": "stream",
     "text": [
      "Operator `forward` ran in 0.04 s\n",
      "Operator `forward` ran in 0.04 s\n",
      "Operator `forward` ran in 0.06 s\n",
      "Operator `forward` ran in 0.05 s\n",
      "Operator `forward` ran in 0.04 s\n",
      "Operator `forward` ran in 0.04 s\n",
      "Operator `forward` ran in 0.04 s\n",
      "Operator `forward` ran in 0.04 s\n",
      "Operator `forward` ran in 0.04 s\n",
      "Operator `forward` ran in 0.04 s\n",
      "Operator `forward` ran in 0.04 s\n",
      "Operator `forward` ran in 0.04 s\n",
      "Operator `forward` ran in 0.04 s\n",
      "Operator `forward` ran in 0.04 s\n",
      "Operator `forward` ran in 0.04 s\n",
      "Operator `forward` ran in 0.05 s\n"
     ]
    },
    {
     "name": "stdout",
     "output_type": "stream",
     "text": [
      "(α, misfit) = (0.01733630864763959, 22612.07421875)\n",
      "(α, misfit) = "
     ]
    },
    {
     "name": "stderr",
     "output_type": "stream",
     "text": [
      "Operator `forward` ran in 0.04 s\n",
      "Operator `forward` ran in 0.05 s\n",
      "Operator `forward` ran in 0.05 s\n",
      "Operator `forward` ran in 0.05 s\n",
      "Operator `forward` ran in 0.05 s\n",
      "Operator `forward` ran in 0.04 s\n",
      "Operator `forward` ran in 0.04 s\n",
      "Operator `forward` ran in 0.04 s\n",
      "Operator `forward` ran in 0.04 s\n",
      "Operator `forward` ran in 0.06 s\n",
      "Operator `forward` ran in 0.06 s\n",
      "Operator `forward` ran in 0.07 s\n",
      "Operator `forward` ran in 0.10 s\n",
      "Operator `forward` ran in 0.08 s\n",
      "Operator `forward` ran in 0.07 s\n",
      "Operator `forward` ran in 0.04 s\n"
     ]
    },
    {
     "name": "stdout",
     "output_type": "stream",
     "text": [
      "(0.007376325616812048, 20748.607421875)\n"
     ]
    },
    {
     "name": "stderr",
     "output_type": "stream",
     "text": [
      "Operator `forward` ran in 0.05 s\n",
      "Operator `forward` ran in 0.05 s\n",
      "Operator `forward` ran in 0.04 s\n",
      "Operator `forward` ran in 0.04 s\n",
      "Operator `forward` ran in 0.04 s\n",
      "Operator `forward` ran in 0.04 s\n",
      "Operator `forward` ran in 0.04 s\n",
      "Operator `forward` ran in 0.04 s\n",
      "Operator `forward` ran in 0.04 s\n",
      "Operator `forward` ran in 0.03 s\n",
      "Operator `forward` ran in 0.04 s\n",
      "Operator `forward` ran in 0.04 s\n",
      "Operator `forward` ran in 0.04 s\n",
      "Operator `forward` ran in 0.04 s\n",
      "Operator `forward` ran in 0.05 s\n",
      "Operator `forward` ran in 0.05 s\n"
     ]
    },
    {
     "name": "stdout",
     "output_type": "stream",
     "text": [
      "FWI iteration no: 23; function value: 20824.863\n",
      "(α, misfit) = "
     ]
    },
    {
     "name": "stderr",
     "output_type": "stream",
     "text": [
      "Operator `forward` ran in 0.04 s\n",
      "Operator `gradient` ran in 0.05 s\n",
      "Operator `forward` ran in 0.05 s\n",
      "Operator `gradient` ran in 0.05 s\n",
      "Operator `forward` ran in 0.05 s\n",
      "Operator `gradient` ran in 0.05 s\n",
      "Operator `forward` ran in 0.05 s\n",
      "Operator `gradient` ran in 0.05 s\n",
      "Operator `forward` ran in 0.05 s\n",
      "Operator `gradient` ran in 0.05 s\n",
      "Operator `forward` ran in 0.05 s\n",
      "Operator `gradient` ran in 0.05 s\n",
      "Operator `forward` ran in 0.05 s\n",
      "Operator `gradient` ran in 0.05 s\n",
      "Operator `forward` ran in 0.04 s\n",
      "Operator `gradient` ran in 0.05 s\n",
      "Operator `forward` ran in 0.05 s\n",
      "Operator `gradient` ran in 0.05 s\n",
      "Operator `forward` ran in 0.05 s\n",
      "Operator `gradient` ran in 0.05 s\n",
      "Operator `forward` ran in 0.05 s\n",
      "Operator `gradient` ran in 0.05 s\n",
      "Operator `forward` ran in 0.04 s\n",
      "Operator `gradient` ran in 0.05 s\n",
      "Operator `forward` ran in 0.04 s\n",
      "Operator `gradient` ran in 0.05 s\n",
      "Operator `forward` ran in 0.05 s\n",
      "Operator `gradient` ran in 0.05 s\n",
      "Operator `forward` ran in 0.05 s\n",
      "Operator `gradient` ran in 0.05 s\n",
      "Operator `forward` ran in 0.05 s\n",
      "Operator `gradient` ran in 0.05 s\n"
     ]
    },
    {
     "name": "stdout",
     "output_type": "stream",
     "text": [
      "(0.1f0, 238078.171875)\n"
     ]
    },
    {
     "name": "stderr",
     "output_type": "stream",
     "text": [
      "Operator `forward` ran in 0.04 s\n",
      "Operator `forward` ran in 0.04 s\n",
      "Operator `forward` ran in 0.04 s\n",
      "Operator `forward` ran in 0.04 s\n",
      "Operator `forward` ran in 0.04 s\n",
      "Operator `forward` ran in 0.04 s\n",
      "Operator `forward` ran in 0.04 s\n",
      "Operator `forward` ran in 0.04 s\n",
      "Operator `forward` ran in 0.04 s\n",
      "Operator `forward` ran in 0.03 s\n",
      "Operator `forward` ran in 0.04 s\n",
      "Operator `forward` ran in 0.04 s\n",
      "Operator `forward` ran in 0.04 s\n",
      "Operator `forward` ran in 0.04 s\n",
      "Operator `forward` ran in 0.04 s\n",
      "Operator `forward` ran in 0.07 s\n"
     ]
    },
    {
     "name": "stdout",
     "output_type": "stream",
     "text": [
      "(α, misfit) = (0.011867633778042813, 21839.001953125)\n",
      "(α, misfit) = "
     ]
    },
    {
     "name": "stderr",
     "output_type": "stream",
     "text": [
      "Operator `forward` ran in 0.05 s\n",
      "Operator `forward` ran in 0.04 s\n",
      "Operator `forward` ran in 0.04 s\n",
      "Operator `forward` ran in 0.03 s\n",
      "Operator `forward` ran in 0.04 s\n",
      "Operator `forward` ran in 0.04 s\n",
      "Operator `forward` ran in 0.04 s\n",
      "Operator `forward` ran in 0.04 s\n",
      "Operator `forward` ran in 0.04 s\n",
      "Operator `forward` ran in 0.04 s\n",
      "Operator `forward` ran in 0.04 s\n",
      "Operator `forward` ran in 0.04 s\n",
      "Operator `forward` ran in 0.06 s\n",
      "Operator `forward` ran in 0.04 s\n",
      "Operator `forward` ran in 0.06 s\n",
      "Operator `forward` ran in 0.06 s\n"
     ]
    },
    {
     "name": "stdout",
     "output_type": "stream",
     "text": [
      "(0.0051330182900320145, 20229.294921875)\n"
     ]
    },
    {
     "name": "stderr",
     "output_type": "stream",
     "text": [
      "Operator `forward` ran in 0.05 s\n",
      "Operator `forward` ran in 0.06 s\n",
      "Operator `forward` ran in 0.07 s\n",
      "Operator `forward` ran in 0.06 s\n",
      "Operator `forward` ran in 0.06 s\n",
      "Operator `forward` ran in 0.06 s\n",
      "Operator `forward` ran in 0.07 s\n",
      "Operator `forward` ran in 0.04 s\n",
      "Operator `forward` ran in 0.06 s\n",
      "Operator `forward` ran in 0.06 s\n",
      "Operator `forward` ran in 0.06 s\n",
      "Operator `forward` ran in 0.05 s\n",
      "Operator `forward` ran in 0.04 s\n",
      "Operator `forward` ran in 0.04 s\n",
      "Operator `forward` ran in 0.04 s\n",
      "Operator `forward` ran in 0.04 s\n"
     ]
    },
    {
     "name": "stdout",
     "output_type": "stream",
     "text": [
      "FWI iteration no: 24; function value: 20305.678\n",
      "(α, misfit) = "
     ]
    },
    {
     "name": "stderr",
     "output_type": "stream",
     "text": [
      "Operator `forward` ran in 0.05 s\n",
      "Operator `gradient` ran in 0.05 s\n",
      "Operator `forward` ran in 0.04 s\n",
      "Operator `gradient` ran in 0.05 s\n",
      "Operator `forward` ran in 0.04 s\n",
      "Operator `gradient` ran in 0.05 s\n",
      "Operator `forward` ran in 0.05 s\n",
      "Operator `gradient` ran in 0.05 s\n",
      "Operator `forward` ran in 0.05 s\n",
      "Operator `gradient` ran in 0.05 s\n",
      "Operator `forward` ran in 0.04 s\n",
      "Operator `gradient` ran in 0.05 s\n",
      "Operator `forward` ran in 0.04 s\n",
      "Operator `gradient` ran in 0.05 s\n",
      "Operator `forward` ran in 0.05 s\n",
      "Operator `gradient` ran in 0.05 s\n",
      "Operator `forward` ran in 0.05 s\n",
      "Operator `gradient` ran in 0.05 s\n",
      "Operator `forward` ran in 0.05 s\n",
      "Operator `gradient` ran in 0.05 s\n",
      "Operator `forward` ran in 0.05 s\n",
      "Operator `gradient` ran in 0.05 s\n",
      "Operator `forward` ran in 0.04 s\n",
      "Operator `gradient` ran in 0.05 s\n",
      "Operator `forward` ran in 0.05 s\n",
      "Operator `gradient` ran in 0.05 s\n",
      "Operator `forward` ran in 0.05 s\n",
      "Operator `gradient` ran in 0.05 s\n",
      "Operator `forward` ran in 0.05 s\n",
      "Operator `gradient` ran in 0.05 s\n",
      "Operator `forward` ran in 0.05 s\n",
      "Operator `gradient` ran in 0.05 s\n"
     ]
    },
    {
     "name": "stdout",
     "output_type": "stream",
     "text": [
      "(0.1f0, 133801.71875)\n"
     ]
    },
    {
     "name": "stderr",
     "output_type": "stream",
     "text": [
      "Operator `forward` ran in 0.04 s\n",
      "Operator `forward` ran in 0.04 s\n",
      "Operator `forward` ran in 0.04 s\n",
      "Operator `forward` ran in 0.04 s\n",
      "Operator `forward` ran in 0.04 s\n",
      "Operator `forward` ran in 0.04 s\n",
      "Operator `forward` ran in 0.04 s\n",
      "Operator `forward` ran in 0.03 s\n",
      "Operator `forward` ran in 0.04 s\n",
      "Operator `forward` ran in 0.04 s\n",
      "Operator `forward` ran in 0.04 s\n",
      "Operator `forward` ran in 0.04 s\n",
      "Operator `forward` ran in 0.04 s\n",
      "Operator `forward` ran in 0.05 s\n",
      "Operator `forward` ran in 0.07 s\n",
      "Operator `forward` ran in 0.06 s\n"
     ]
    },
    {
     "name": "stdout",
     "output_type": "stream",
     "text": [
      "(α, misfit) = (0.017022137003988955, 21648.126953125)\n",
      "(α, misfit) = "
     ]
    },
    {
     "name": "stderr",
     "output_type": "stream",
     "text": [
      "Operator `forward` ran in 0.05 s\n",
      "Operator `forward` ran in 0.04 s\n",
      "Operator `forward` ran in 0.04 s\n",
      "Operator `forward` ran in 0.04 s\n",
      "Operator `forward` ran in 0.04 s\n",
      "Operator `forward` ran in 0.04 s\n",
      "Operator `forward` ran in 0.04 s\n",
      "Operator `forward` ran in 0.04 s\n",
      "Operator `forward` ran in 0.04 s\n",
      "Operator `forward` ran in 0.04 s\n",
      "Operator `forward` ran in 0.04 s\n",
      "Operator `forward` ran in 0.03 s\n",
      "Operator `forward` ran in 0.05 s\n",
      "Operator `forward` ran in 0.04 s\n",
      "Operator `forward` ran in 0.04 s\n",
      "Operator `forward` ran in 0.04 s\n"
     ]
    },
    {
     "name": "stdout",
     "output_type": "stream",
     "text": [
      "(0.007199246692482183, 19833.294921875)\n"
     ]
    },
    {
     "name": "stderr",
     "output_type": "stream",
     "text": [
      "Operator `forward` ran in 0.04 s\n",
      "Operator `forward` ran in 0.04 s\n",
      "Operator `forward` ran in 0.05 s\n",
      "Operator `forward` ran in 0.04 s\n",
      "Operator `forward` ran in 0.04 s\n",
      "Operator `forward` ran in 0.03 s\n",
      "Operator `forward` ran in 0.04 s\n",
      "Operator `forward` ran in 0.04 s\n",
      "Operator `forward` ran in 0.04 s\n",
      "Operator `forward` ran in 0.04 s\n",
      "Operator `forward` ran in 0.04 s\n",
      "Operator `forward` ran in 0.04 s\n",
      "Operator `forward` ran in 0.04 s\n",
      "Operator `forward` ran in 0.04 s\n",
      "Operator `forward` ran in 0.04 s\n",
      "Operator `forward` ran in 0.03 s\n"
     ]
    },
    {
     "name": "stdout",
     "output_type": "stream",
     "text": [
      "FWI iteration no: 25; function value: 19909.66\n",
      "(α, misfit) = "
     ]
    },
    {
     "name": "stderr",
     "output_type": "stream",
     "text": [
      "Operator `forward` ran in 0.05 s\n",
      "Operator `gradient` ran in 0.05 s\n",
      "Operator `forward` ran in 0.05 s\n",
      "Operator `gradient` ran in 0.05 s\n",
      "Operator `forward` ran in 0.05 s\n",
      "Operator `gradient` ran in 0.05 s\n",
      "Operator `forward` ran in 0.05 s\n",
      "Operator `gradient` ran in 0.05 s\n",
      "Operator `forward` ran in 0.05 s\n",
      "Operator `gradient` ran in 0.05 s\n",
      "Operator `forward` ran in 0.05 s\n",
      "Operator `gradient` ran in 0.05 s\n",
      "Operator `forward` ran in 0.05 s\n",
      "Operator `gradient` ran in 0.05 s\n",
      "Operator `forward` ran in 0.05 s\n",
      "Operator `gradient` ran in 0.05 s\n",
      "Operator `forward` ran in 0.05 s\n",
      "Operator `gradient` ran in 0.05 s\n",
      "Operator `forward` ran in 0.04 s\n",
      "Operator `gradient` ran in 0.05 s\n",
      "Operator `forward` ran in 0.05 s\n",
      "Operator `gradient` ran in 0.05 s\n",
      "Operator `forward` ran in 0.04 s\n",
      "Operator `gradient` ran in 0.05 s\n",
      "Operator `forward` ran in 0.04 s\n",
      "Operator `gradient` ran in 0.05 s\n",
      "Operator `forward` ran in 0.04 s\n",
      "Operator `gradient` ran in 0.05 s\n",
      "Operator `forward` ran in 0.05 s\n",
      "Operator `gradient` ran in 0.05 s\n",
      "Operator `forward` ran in 0.05 s\n",
      "Operator `gradient` ran in 0.05 s\n"
     ]
    },
    {
     "name": "stdout",
     "output_type": "stream",
     "text": [
      "(0.1f0, 233138.578125)\n"
     ]
    },
    {
     "name": "stderr",
     "output_type": "stream",
     "text": [
      "Operator `forward` ran in 0.04 s\n",
      "Operator `forward` ran in 0.05 s\n",
      "Operator `forward` ran in 0.04 s\n",
      "Operator `forward` ran in 0.04 s\n",
      "Operator `forward` ran in 0.04 s\n",
      "Operator `forward` ran in 0.04 s\n",
      "Operator `forward` ran in 0.06 s\n",
      "Operator `forward` ran in 0.06 s\n",
      "Operator `forward` ran in 0.06 s\n",
      "Operator `forward` ran in 0.06 s\n",
      "Operator `forward` ran in 0.04 s\n",
      "Operator `forward` ran in 0.04 s\n",
      "Operator `forward` ran in 0.07 s\n",
      "Operator `forward` ran in 0.04 s\n",
      "Operator `forward` ran in 0.04 s\n",
      "Operator `forward` ran in 0.03 s\n"
     ]
    },
    {
     "name": "stdout",
     "output_type": "stream",
     "text": [
      "(α, misfit) = (0.011704301729905952, 20916.029296875)\n",
      "(α, misfit) = "
     ]
    },
    {
     "name": "stderr",
     "output_type": "stream",
     "text": [
      "Operator `forward` ran in 0.04 s\n",
      "Operator `forward` ran in 0.04 s\n",
      "Operator `forward` ran in 0.04 s\n",
      "Operator `forward` ran in 0.04 s\n",
      "Operator `forward` ran in 0.04 s\n",
      "Operator `forward` ran in 0.04 s\n",
      "Operator `forward` ran in 0.04 s\n",
      "Operator `forward` ran in 0.04 s\n",
      "Operator `forward` ran in 0.04 s\n",
      "Operator `forward` ran in 0.03 s\n",
      "Operator `forward` ran in 0.04 s\n",
      "Operator `forward` ran in 0.04 s\n",
      "Operator `forward` ran in 0.05 s\n",
      "Operator `forward` ran in 0.06 s\n",
      "Operator `forward` ran in 0.08 s\n",
      "Operator `forward` ran in 0.06 s\n"
     ]
    },
    {
     "name": "stdout",
     "output_type": "stream",
     "text": [
      "(0.0050379155352702175, 19360.396484375)\n"
     ]
    },
    {
     "name": "stderr",
     "output_type": "stream",
     "text": [
      "Operator `forward` ran in 0.05 s\n",
      "Operator `forward` ran in 0.06 s\n",
      "Operator `forward` ran in 0.06 s\n",
      "Operator `forward` ran in 0.03 s\n",
      "Operator `forward` ran in 0.04 s\n",
      "Operator `forward` ran in 0.04 s\n",
      "Operator `forward` ran in 0.04 s\n",
      "Operator `forward` ran in 0.04 s\n",
      "Operator `forward` ran in 0.04 s\n",
      "Operator `forward` ran in 0.04 s\n",
      "Operator `forward` ran in 0.04 s\n",
      "Operator `forward` ran in 0.04 s\n",
      "Operator `forward` ran in 0.04 s\n",
      "Operator `forward` ran in 0.05 s\n",
      "Operator `forward` ran in 0.04 s\n",
      "Operator `forward` ran in 0.04 s\n"
     ]
    },
    {
     "name": "stdout",
     "output_type": "stream",
     "text": [
      "FWI iteration no: 26; function value: 19436.834\n",
      "(α, misfit) = "
     ]
    },
    {
     "name": "stderr",
     "output_type": "stream",
     "text": [
      "Operator `forward` ran in 0.05 s\n",
      "Operator `gradient` ran in 0.05 s\n",
      "Operator `forward` ran in 0.04 s\n",
      "Operator `gradient` ran in 0.05 s\n",
      "Operator `forward` ran in 0.05 s\n",
      "Operator `gradient` ran in 0.05 s\n",
      "Operator `forward` ran in 0.05 s\n",
      "Operator `gradient` ran in 0.05 s\n",
      "Operator `forward` ran in 0.05 s\n",
      "Operator `gradient` ran in 0.05 s\n",
      "Operator `forward` ran in 0.05 s\n",
      "Operator `gradient` ran in 0.05 s\n",
      "Operator `forward` ran in 0.04 s\n",
      "Operator `gradient` ran in 0.05 s\n",
      "Operator `forward` ran in 0.04 s\n",
      "Operator `gradient` ran in 0.05 s\n",
      "Operator `forward` ran in 0.05 s\n",
      "Operator `gradient` ran in 0.05 s\n",
      "Operator `forward` ran in 0.05 s\n",
      "Operator `gradient` ran in 0.05 s\n",
      "Operator `forward` ran in 0.05 s\n",
      "Operator `gradient` ran in 0.05 s\n",
      "Operator `forward` ran in 0.05 s\n",
      "Operator `gradient` ran in 0.05 s\n",
      "Operator `forward` ran in 0.05 s\n",
      "Operator `gradient` ran in 0.05 s\n",
      "Operator `forward` ran in 0.05 s\n",
      "Operator `gradient` ran in 0.05 s\n",
      "Operator `forward` ran in 0.05 s\n",
      "Operator `gradient` ran in 0.05 s\n",
      "Operator `forward` ran in 0.05 s\n",
      "Operator `gradient` ran in 0.05 s\n"
     ]
    },
    {
     "name": "stdout",
     "output_type": "stream",
     "text": [
      "(0.1f0, 131684.15625)\n"
     ]
    },
    {
     "name": "stderr",
     "output_type": "stream",
     "text": [
      "Operator `forward` ran in 0.03 s\n",
      "Operator `forward` ran in 0.04 s\n",
      "Operator `forward` ran in 0.04 s\n",
      "Operator `forward` ran in 0.03 s\n",
      "Operator `forward` ran in 0.06 s\n",
      "Operator `forward` ran in 0.06 s\n",
      "Operator `forward` ran in 0.06 s\n",
      "Operator `forward` ran in 0.06 s\n",
      "Operator `forward` ran in 0.06 s\n",
      "Operator `forward` ran in 0.07 s\n",
      "Operator `forward` ran in 0.06 s\n",
      "Operator `forward` ran in 0.04 s\n",
      "Operator `forward` ran in 0.04 s\n",
      "Operator `forward` ran in 0.03 s\n",
      "Operator `forward` ran in 0.04 s\n",
      "Operator `forward` ran in 0.04 s\n"
     ]
    },
    {
     "name": "stdout",
     "output_type": "stream",
     "text": [
      "(α, misfit) = (0.016770964051618126, 20777.8515625)\n",
      "(α, misfit) = "
     ]
    },
    {
     "name": "stderr",
     "output_type": "stream",
     "text": [
      "Operator `forward` ran in 0.04 s\n",
      "Operator `forward` ran in 0.04 s\n",
      "Operator `forward` ran in 0.05 s\n",
      "Operator `forward` ran in 0.05 s\n",
      "Operator `forward` ran in 0.04 s\n",
      "Operator `forward` ran in 0.04 s\n",
      "Operator `forward` ran in 0.04 s\n",
      "Operator `forward` ran in 0.03 s\n",
      "Operator `forward` ran in 0.04 s\n",
      "Operator `forward` ran in 0.04 s\n",
      "Operator `forward` ran in 0.04 s\n",
      "Operator `forward` ran in 0.04 s\n",
      "Operator `forward` ran in 0.04 s\n",
      "Operator `forward` ran in 0.05 s\n",
      "Operator `forward` ran in 0.06 s\n",
      "Operator `forward` ran in 0.06 s\n"
     ]
    },
    {
     "name": "stdout",
     "output_type": "stream",
     "text": [
      "(0.007053546787334692, 19007.576171875)\n"
     ]
    },
    {
     "name": "stderr",
     "output_type": "stream",
     "text": [
      "Operator `forward` ran in 0.05 s\n",
      "Operator `forward` ran in 0.04 s\n",
      "Operator `forward` ran in 0.04 s\n",
      "Operator `forward` ran in 0.04 s\n",
      "Operator `forward` ran in 0.04 s\n",
      "Operator `forward` ran in 0.04 s\n",
      "Operator `forward` ran in 0.04 s\n",
      "Operator `forward` ran in 0.04 s\n",
      "Operator `forward` ran in 0.04 s\n",
      "Operator `forward` ran in 0.04 s\n",
      "Operator `forward` ran in 0.04 s\n",
      "Operator `forward` ran in 0.03 s\n",
      "Operator `forward` ran in 0.04 s\n",
      "Operator `forward` ran in 0.05 s\n",
      "Operator `forward` ran in 0.04 s\n",
      "Operator `forward` ran in 0.04 s\n"
     ]
    },
    {
     "name": "stdout",
     "output_type": "stream",
     "text": [
      "FWI iteration no: 27; function value: 19084.06\n",
      "(α, misfit) = "
     ]
    },
    {
     "name": "stderr",
     "output_type": "stream",
     "text": [
      "Operator `forward` ran in 0.05 s\n",
      "Operator `gradient` ran in 0.05 s\n",
      "Operator `forward` ran in 0.05 s\n",
      "Operator `gradient` ran in 0.05 s\n",
      "Operator `forward` ran in 0.05 s\n",
      "Operator `gradient` ran in 0.05 s\n",
      "Operator `forward` ran in 0.05 s\n",
      "Operator `gradient` ran in 0.05 s\n",
      "Operator `forward` ran in 0.05 s\n",
      "Operator `gradient` ran in 0.05 s\n",
      "Operator `forward` ran in 0.05 s\n",
      "Operator `gradient` ran in 0.05 s\n",
      "Operator `forward` ran in 0.05 s\n",
      "Operator `gradient` ran in 0.05 s\n",
      "Operator `forward` ran in 0.05 s\n",
      "Operator `gradient` ran in 0.05 s\n",
      "Operator `forward` ran in 0.05 s\n",
      "Operator `gradient` ran in 0.05 s\n",
      "Operator `forward` ran in 0.05 s\n",
      "Operator `gradient` ran in 0.05 s\n",
      "Operator `forward` ran in 0.04 s\n",
      "Operator `gradient` ran in 0.05 s\n",
      "Operator `forward` ran in 0.04 s\n",
      "Operator `gradient` ran in 0.05 s\n",
      "Operator `forward` ran in 0.05 s\n",
      "Operator `gradient` ran in 0.05 s\n",
      "Operator `forward` ran in 0.04 s\n",
      "Operator `gradient` ran in 0.05 s\n",
      "Operator `forward` ran in 0.04 s\n",
      "Operator `gradient` ran in 0.05 s\n",
      "Operator `forward` ran in 0.04 s\n",
      "Operator `gradient` ran in 0.05 s\n"
     ]
    },
    {
     "name": "stdout",
     "output_type": "stream",
     "text": [
      "(0.1f0, 229364.859375)\n"
     ]
    },
    {
     "name": "stderr",
     "output_type": "stream",
     "text": [
      "Operator `forward` ran in 0.03 s\n",
      "Operator `forward` ran in 0.03 s\n",
      "Operator `forward` ran in 0.04 s\n",
      "Operator `forward` ran in 0.04 s\n",
      "Operator `forward` ran in 0.04 s\n",
      "Operator `forward` ran in 0.04 s\n",
      "Operator `forward` ran in 0.04 s\n",
      "Operator `forward` ran in 0.04 s\n",
      "Operator `forward` ran in 0.04 s\n",
      "Operator `forward` ran in 0.04 s\n",
      "Operator `forward` ran in 0.04 s\n",
      "Operator `forward` ran in 0.03 s\n",
      "Operator `forward` ran in 0.04 s\n",
      "Operator `forward` ran in 0.04 s\n",
      "Operator `forward` ran in 0.04 s\n",
      "Operator `forward` ran in 0.04 s\n"
     ]
    },
    {
     "name": "stdout",
     "output_type": "stream",
     "text": [
      "(α, misfit) = (0.01152973614860068, 20080.513671875)\n",
      "(α, misfit) = "
     ]
    },
    {
     "name": "stderr",
     "output_type": "stream",
     "text": [
      "Operator `forward` ran in 0.04 s\n",
      "Operator `forward` ran in 0.04 s\n",
      "Operator `forward` ran in 0.04 s\n",
      "Operator `forward` ran in 0.04 s\n",
      "Operator `forward` ran in 0.04 s\n",
      "Operator `forward` ran in 0.03 s\n",
      "Operator `forward` ran in 0.04 s\n",
      "Operator `forward` ran in 0.04 s\n",
      "Operator `forward` ran in 0.04 s\n",
      "Operator `forward` ran in 0.04 s\n",
      "Operator `forward` ran in 0.04 s\n",
      "Operator `forward` ran in 0.04 s\n",
      "Operator `forward` ran in 0.04 s\n",
      "Operator `forward` ran in 0.04 s\n",
      "Operator `forward` ran in 0.04 s\n",
      "Operator `forward` ran in 0.03 s\n"
     ]
    },
    {
     "name": "stdout",
     "output_type": "stream",
     "text": [
      "(0.004940775823603445, 18574.78125)\n"
     ]
    },
    {
     "name": "stderr",
     "output_type": "stream",
     "text": [
      "Operator `forward` ran in 0.04 s\n",
      "Operator `forward` ran in 0.04 s\n",
      "Operator `forward` ran in 0.04 s\n",
      "Operator `forward` ran in 0.04 s\n",
      "Operator `forward` ran in 0.04 s\n",
      "Operator `forward` ran in 0.04 s\n",
      "Operator `forward` ran in 0.04 s\n",
      "Operator `forward` ran in 0.04 s\n",
      "Operator `forward` ran in 0.04 s\n",
      "Operator `forward` ran in 0.03 s\n",
      "Operator `forward` ran in 0.04 s\n",
      "Operator `forward` ran in 0.05 s\n",
      "Operator `forward` ran in 0.04 s\n",
      "Operator `forward` ran in 0.04 s\n",
      "Operator `forward` ran in 0.07 s\n",
      "Operator `forward` ran in 0.06 s\n"
     ]
    },
    {
     "name": "stdout",
     "output_type": "stream",
     "text": [
      "FWI iteration no: 28; function value: 18651.234\n",
      "(α, misfit) = "
     ]
    },
    {
     "name": "stderr",
     "output_type": "stream",
     "text": [
      "Operator `forward` ran in 0.05 s\n",
      "Operator `gradient` ran in 0.05 s\n",
      "Operator `forward` ran in 0.05 s\n",
      "Operator `gradient` ran in 0.05 s\n",
      "Operator `forward` ran in 0.04 s\n",
      "Operator `gradient` ran in 0.05 s\n",
      "Operator `forward` ran in 0.05 s\n",
      "Operator `gradient` ran in 0.05 s\n",
      "Operator `forward` ran in 0.04 s\n",
      "Operator `gradient` ran in 0.05 s\n",
      "Operator `forward` ran in 0.04 s\n",
      "Operator `gradient` ran in 0.05 s\n",
      "Operator `forward` ran in 0.05 s\n",
      "Operator `gradient` ran in 0.05 s\n",
      "Operator `forward` ran in 0.05 s\n",
      "Operator `gradient` ran in 0.05 s\n",
      "Operator `forward` ran in 0.04 s\n",
      "Operator `gradient` ran in 0.05 s\n",
      "Operator `forward` ran in 0.05 s\n",
      "Operator `gradient` ran in 0.05 s\n",
      "Operator `forward` ran in 0.05 s\n",
      "Operator `gradient` ran in 0.05 s\n",
      "Operator `forward` ran in 0.05 s\n",
      "Operator `gradient` ran in 0.05 s\n",
      "Operator `forward` ran in 0.04 s\n",
      "Operator `gradient` ran in 0.05 s\n",
      "Operator `forward` ran in 0.05 s\n",
      "Operator `gradient` ran in 0.05 s\n",
      "Operator `forward` ran in 0.05 s\n",
      "Operator `gradient` ran in 0.05 s\n",
      "Operator `forward` ran in 0.04 s\n",
      "Operator `gradient` ran in 0.05 s\n"
     ]
    },
    {
     "name": "stdout",
     "output_type": "stream",
     "text": [
      "(0.1f0, 129425.453125)\n"
     ]
    },
    {
     "name": "stderr",
     "output_type": "stream",
     "text": [
      "Operator `forward` ran in 0.03 s\n",
      "Operator `forward` ran in 0.04 s\n",
      "Operator `forward` ran in 0.04 s\n",
      "Operator `forward` ran in 0.04 s\n",
      "Operator `forward` ran in 0.04 s\n",
      "Operator `forward` ran in 0.04 s\n",
      "Operator `forward` ran in 0.04 s\n",
      "Operator `forward` ran in 0.04 s\n",
      "Operator `forward` ran in 0.04 s\n",
      "Operator `forward` ran in 0.04 s\n",
      "Operator `forward` ran in 0.05 s\n",
      "Operator `forward` ran in 0.04 s\n",
      "Operator `forward` ran in 0.04 s\n",
      "Operator `forward` ran in 0.04 s\n",
      "Operator `forward` ran in 0.04 s\n",
      "Operator `forward` ran in 0.04 s\n"
     ]
    },
    {
     "name": "stdout",
     "output_type": "stream",
     "text": [
      "(α, misfit) = (0.016563806405347867, 19989.658203125)\n",
      "(α, misfit) = "
     ]
    },
    {
     "name": "stderr",
     "output_type": "stream",
     "text": [
      "Operator `forward` ran in 0.04 s\n",
      "Operator `forward` ran in 0.04 s\n",
      "Operator `forward` ran in 0.04 s\n",
      "Operator `forward` ran in 0.03 s\n",
      "Operator `forward` ran in 0.04 s\n",
      "Operator `forward` ran in 0.04 s\n",
      "Operator `forward` ran in 0.04 s\n",
      "Operator `forward` ran in 0.06 s\n",
      "Operator `forward` ran in 0.06 s\n",
      "Operator `forward` ran in 0.06 s\n",
      "Operator `forward` ran in 0.06 s\n",
      "Operator `forward` ran in 0.05 s\n",
      "Operator `forward` ran in 0.07 s\n",
      "Operator `forward` ran in 0.04 s\n",
      "Operator `forward` ran in 0.04 s\n",
      "Operator `forward` ran in 0.04 s\n"
     ]
    },
    {
     "name": "stdout",
     "output_type": "stream",
     "text": [
      "(0.006929858174350506, 18259.794921875)\n"
     ]
    },
    {
     "name": "stderr",
     "output_type": "stream",
     "text": [
      "Operator `forward` ran in 0.04 s\n",
      "Operator `forward` ran in 0.04 s\n",
      "Operator `forward` ran in 0.05 s\n",
      "Operator `forward` ran in 0.04 s\n",
      "Operator `forward` ran in 0.04 s\n",
      "Operator `forward` ran in 0.04 s\n",
      "Operator `forward` ran in 0.04 s\n",
      "Operator `forward` ran in 0.03 s\n",
      "Operator `forward` ran in 0.04 s\n",
      "Operator `forward` ran in 0.04 s\n",
      "Operator `forward` ran in 0.04 s\n",
      "Operator `forward` ran in 0.04 s\n",
      "Operator `forward` ran in 0.04 s\n",
      "Operator `forward` ran in 0.04 s\n",
      "Operator `forward` ran in 0.04 s\n",
      "Operator `forward` ran in 0.04 s\n"
     ]
    },
    {
     "name": "stdout",
     "output_type": "stream",
     "text": [
      "FWI iteration no: 29; function value: 18336.27\n",
      "(α, misfit) = "
     ]
    },
    {
     "name": "stderr",
     "output_type": "stream",
     "text": [
      "Operator `forward` ran in 0.04 s\n",
      "Operator `gradient` ran in 0.05 s\n",
      "Operator `forward` ran in 0.05 s\n",
      "Operator `gradient` ran in 0.05 s\n",
      "Operator `forward` ran in 0.04 s\n",
      "Operator `gradient` ran in 0.05 s\n",
      "Operator `forward` ran in 0.05 s\n",
      "Operator `gradient` ran in 0.05 s\n",
      "Operator `forward` ran in 0.05 s\n",
      "Operator `gradient` ran in 0.05 s\n",
      "Operator `forward` ran in 0.05 s\n",
      "Operator `gradient` ran in 0.05 s\n",
      "Operator `forward` ran in 0.05 s\n",
      "Operator `gradient` ran in 0.05 s\n",
      "Operator `forward` ran in 0.04 s\n",
      "Operator `gradient` ran in 0.05 s\n",
      "Operator `forward` ran in 0.05 s\n",
      "Operator `gradient` ran in 0.05 s\n",
      "Operator `forward` ran in 0.05 s\n",
      "Operator `gradient` ran in 0.05 s\n",
      "Operator `forward` ran in 0.05 s\n",
      "Operator `gradient` ran in 0.05 s\n",
      "Operator `forward` ran in 0.05 s\n",
      "Operator `gradient` ran in 0.05 s\n",
      "Operator `forward` ran in 0.05 s\n",
      "Operator `gradient` ran in 0.05 s\n",
      "Operator `forward` ran in 0.05 s\n",
      "Operator `gradient` ran in 0.05 s\n",
      "Operator `forward` ran in 0.05 s\n",
      "Operator `gradient` ran in 0.05 s\n",
      "Operator `forward` ran in 0.05 s\n",
      "Operator `gradient` ran in 0.05 s\n"
     ]
    },
    {
     "name": "stdout",
     "output_type": "stream",
     "text": [
      "(0.1f0, 226608.65625)\n"
     ]
    },
    {
     "name": "stderr",
     "output_type": "stream",
     "text": [
      "Operator `forward` ran in 0.04 s\n",
      "Operator `forward` ran in 0.04 s\n",
      "Operator `forward` ran in 0.04 s\n",
      "Operator `forward` ran in 0.04 s\n",
      "Operator `forward` ran in 0.04 s\n",
      "Operator `forward` ran in 0.04 s\n",
      "Operator `forward` ran in 0.04 s\n",
      "Operator `forward` ran in 0.03 s\n",
      "Operator `forward` ran in 0.04 s\n",
      "Operator `forward` ran in 0.04 s\n",
      "Operator `forward` ran in 0.06 s\n",
      "Operator `forward` ran in 0.06 s\n",
      "Operator `forward` ran in 0.07 s\n",
      "Operator `forward` ran in 0.06 s\n",
      "Operator `forward` ran in 0.06 s\n",
      "Operator `forward` ran in 0.07 s\n"
     ]
    },
    {
     "name": "stdout",
     "output_type": "stream",
     "text": [
      "(α, misfit) = (0.011345975641708047, 19321.37109375)\n",
      "(α, misfit) = "
     ]
    },
    {
     "name": "stderr",
     "output_type": "stream",
     "text": [
      "Operator `forward` ran in 0.05 s\n",
      "Operator `forward` ran in 0.04 s\n",
      "Operator `forward` ran in 0.05 s\n",
      "Operator `forward` ran in 0.06 s\n",
      "Operator `forward` ran in 0.04 s\n",
      "Operator `forward` ran in 0.04 s\n",
      "Operator `forward` ran in 0.04 s\n",
      "Operator `forward` ran in 0.04 s\n",
      "Operator `forward` ran in 0.04 s\n",
      "Operator `forward` ran in 0.04 s\n",
      "Operator `forward` ran in 0.04 s\n",
      "Operator `forward` ran in 0.03 s\n",
      "Operator `forward` ran in 0.04 s\n",
      "Operator `forward` ran in 0.04 s\n",
      "Operator `forward` ran in 0.05 s\n",
      "Operator `forward` ran in 0.05 s\n"
     ]
    },
    {
     "name": "stdout",
     "output_type": "stream",
     "text": [
      "(0.004842124502934973, 17861.076171875)\n"
     ]
    },
    {
     "name": "stderr",
     "output_type": "stream",
     "text": [
      "Operator `forward` ran in 0.04 s\n",
      "Operator `forward` ran in 0.04 s\n",
      "Operator `forward` ran in 0.06 s\n",
      "Operator `forward` ran in 0.07 s\n",
      "Operator `forward` ran in 0.06 s\n",
      "Operator `forward` ran in 0.03 s\n",
      "Operator `forward` ran in 0.04 s\n",
      "Operator `forward` ran in 0.04 s\n",
      "Operator `forward` ran in 0.04 s\n",
      "Operator `forward` ran in 0.04 s\n",
      "Operator `forward` ran in 0.04 s\n",
      "Operator `forward` ran in 0.04 s\n",
      "Operator `forward` ran in 0.05 s\n",
      "Operator `forward` ran in 0.05 s\n",
      "Operator `forward` ran in 0.04 s\n",
      "Operator `forward` ran in 0.03 s\n"
     ]
    },
    {
     "name": "stdout",
     "output_type": "stream",
     "text": [
      "FWI iteration no: 30; function value: 17937.617\n",
      "(α, misfit) = "
     ]
    },
    {
     "name": "stderr",
     "output_type": "stream",
     "text": [
      "Operator `forward` ran in 0.05 s\n",
      "Operator `gradient` ran in 0.05 s\n",
      "Operator `forward` ran in 0.05 s\n",
      "Operator `gradient` ran in 0.05 s\n",
      "Operator `forward` ran in 0.05 s\n",
      "Operator `gradient` ran in 0.05 s\n",
      "Operator `forward` ran in 0.05 s\n",
      "Operator `gradient` ran in 0.05 s\n",
      "Operator `forward` ran in 0.05 s\n",
      "Operator `gradient` ran in 0.05 s\n",
      "Operator `forward` ran in 0.05 s\n",
      "Operator `gradient` ran in 0.05 s\n",
      "Operator `forward` ran in 0.05 s\n",
      "Operator `gradient` ran in 0.05 s\n",
      "Operator `forward` ran in 0.05 s\n",
      "Operator `gradient` ran in 0.05 s\n",
      "Operator `forward` ran in 0.05 s\n",
      "Operator `gradient` ran in 0.05 s\n",
      "Operator `forward` ran in 0.05 s\n",
      "Operator `gradient` ran in 0.05 s\n",
      "Operator `forward` ran in 0.05 s\n",
      "Operator `gradient` ran in 0.05 s\n",
      "Operator `forward` ran in 0.05 s\n",
      "Operator `gradient` ran in 0.05 s\n",
      "Operator `forward` ran in 0.05 s\n",
      "Operator `gradient` ran in 0.05 s\n",
      "Operator `forward` ran in 0.05 s\n",
      "Operator `gradient` ran in 0.06 s\n",
      "Operator `forward` ran in 0.05 s\n",
      "Operator `gradient` ran in 0.05 s\n",
      "Operator `forward` ran in 0.05 s\n",
      "Operator `gradient` ran in 0.06 s\n"
     ]
    },
    {
     "name": "stdout",
     "output_type": "stream",
     "text": [
      "(0.1f0, 127043.40625)\n"
     ]
    },
    {
     "name": "stderr",
     "output_type": "stream",
     "text": [
      "Operator `forward` ran in 0.04 s\n",
      "Operator `forward` ran in 0.04 s\n",
      "Operator `forward` ran in 0.04 s\n",
      "Operator `forward` ran in 0.04 s\n",
      "Operator `forward` ran in 0.04 s\n",
      "Operator `forward` ran in 0.03 s\n",
      "Operator `forward` ran in 0.04 s\n",
      "Operator `forward` ran in 0.04 s\n",
      "Operator `forward` ran in 0.04 s\n",
      "Operator `forward` ran in 0.04 s\n",
      "Operator `forward` ran in 0.04 s\n",
      "Operator `forward` ran in 0.04 s\n",
      "Operator `forward` ran in 0.04 s\n",
      "Operator `forward` ran in 0.04 s\n",
      "Operator `forward` ran in 0.05 s\n",
      "Operator `forward` ran in 0.03 s\n"
     ]
    },
    {
     "name": "stdout",
     "output_type": "stream",
     "text": [
      "(α, misfit) = (0.01639658723085556, 19254.9375)\n",
      "(α, misfit) = "
     ]
    },
    {
     "name": "stderr",
     "output_type": "stream",
     "text": [
      "Operator `forward` ran in 0.04 s\n",
      "Operator `forward` ran in 0.04 s\n",
      "Operator `forward` ran in 0.04 s\n",
      "Operator `forward` ran in 0.04 s\n",
      "Operator `forward` ran in 0.04 s\n",
      "Operator `forward` ran in 0.04 s\n",
      "Operator `forward` ran in 0.05 s\n",
      "Operator `forward` ran in 0.05 s\n",
      "Operator `forward` ran in 0.04 s\n",
      "Operator `forward` ran in 0.03 s\n",
      "Operator `forward` ran in 0.04 s\n",
      "Operator `forward` ran in 0.04 s\n",
      "Operator `forward` ran in 0.04 s\n",
      "Operator `forward` ran in 0.04 s\n",
      "Operator `forward` ran in 0.05 s\n",
      "Operator `forward` ran in 0.04 s\n"
     ]
    },
    {
     "name": "stdout",
     "output_type": "stream",
     "text": [
      "(0.006839343779550474, 17580.40625)\n"
     ]
    },
    {
     "name": "stderr",
     "output_type": "stream",
     "text": [
      "Operator `forward` ran in 0.04 s\n",
      "Operator `forward` ran in 0.04 s\n",
      "Operator `forward` ran in 0.04 s\n",
      "Operator `forward` ran in 0.04 s\n",
      "Operator `forward` ran in 0.06 s\n",
      "Operator `forward` ran in 0.06 s\n",
      "Operator `forward` ran in 0.05 s\n",
      "Operator `forward` ran in 0.06 s\n",
      "Operator `forward` ran in 0.04 s\n",
      "Operator `forward` ran in 0.04 s\n",
      "Operator `forward` ran in 0.04 s\n",
      "Operator `forward` ran in 0.05 s\n",
      "Operator `forward` ran in 0.04 s\n",
      "Operator `forward` ran in 0.03 s\n",
      "Operator `forward` ran in 0.04 s\n",
      "Operator `forward` ran in 0.04 s\n"
     ]
    }
   ],
   "source": [
    "# Main loop\n",
    "for j=1:niterations\n",
    "\n",
    "    # get fwi objective function value and gradient\n",
    "    i = randperm(d_obs.nsrc)[1:batchsize]\n",
    "    fval, gradient = fwi_objective(model0, q[i], d_obs[i])\n",
    "    p = -gradient/norm(gradient, Inf)\n",
    "    \n",
    "    println(\"FWI iteration no: \",j,\"; function value: \",fval)\n",
    "    fhistory_SGD[j] = fval\n",
    "\n",
    "    # linesearch\n",
    "    function ϕ(α)\n",
    "        F0.model.m .= proj(model0.m .+ α * p)\n",
    "        misfit = .5*norm(F0[i]*q[i] - d_obs[i])^2\n",
    "        @show α, misfit\n",
    "        return misfit\n",
    "    end\n",
    "    step, fval = ls(ϕ, 1f-1, fval, dot(gradient, p))\n",
    "\n",
    "    # Update model and bound projection\n",
    "    model0.m .= proj(model0.m .+ step .* p)\n",
    "    m0_values[:, j] = model0.m\n",
    "end"
   ]
  },
  {
   "cell_type": "code",
   "execution_count": 29,
   "metadata": {},
   "outputs": [],
   "source": [
    "fwi = sqrt.(1f0./adjoint(model0.m)).data;\n",
    "v0 = sqrt.(1f0./M[\"m0\"])';\n",
    "v = sqrt.(1f0./model.m)'.data;"
   ]
  },
  {
   "cell_type": "code",
   "execution_count": 35,
   "metadata": {},
   "outputs": [
    {
     "data": {
      "image/png": "[encoded data removed]",
      "text/plain": [
       "Figure(PyObject <Figure size 6600x1200 with 6 Axes>)"
      ]
     },
     "metadata": {},
     "output_type": "display_data"
    }
   ],
   "source": [
    "fig=figure(figsize=(22,4), dpi=300);\n",
    "subplot(131)\n",
    "im = imshow(v, cmap=\"viridis\", extent=[0, (model.n[1]-1)*model.d[1], (model.n[2]-1)*model.d[2], 0], vmin=1.5, vmax=5.5, aspect=\"auto\")\n",
    "cb = colorbar(im, pad=0.01)\n",
    "cb[:set_label](label = L\"$V_p [km/s]$\")\n",
    "xlabel(L\"Posición horizontal $[m]$\")\n",
    "ylabel(L\"Profundidad $[m]$\")\n",
    "title(L\"Modelo real $\\mathbf{m}$\")\n",
    "subplot(132)\n",
    "im = imshow(v0, cmap=\"viridis\", extent=[0, (model.n[1]-1)*model.d[1], (model.n[2]-1)*model.d[2], 0], vmin=1.5, vmax=5.5, aspect=\"auto\")\n",
    "cb = colorbar(im, pad=0.01)\n",
    "cb[:set_label](label = L\"$V_p [km/s]$\")\n",
    "xlabel(L\"Posición horizontal $[m]$\")\n",
    "ylabel(L\"Profundidad $[m]$\")\n",
    "title(\"FWI bajas frecuencias\")\n",
    "subplot(133)\n",
    "im = imshow(fwi, cmap=\"viridis\", extent=[0, (model.n[1]-1)*model.d[1], (model.n[2]-1)*model.d[2], 0], vmin=1.5, vmax=5.5, aspect=\"auto\")\n",
    "cb = colorbar(im, pad=0.01)\n",
    "cb[:set_label](label = L\"$V_p [km/s]$\")\n",
    "xlabel(L\"Posición horizontal $[m]$\")\n",
    "ylabel(L\"Profundidad $[m]$\")\n",
    "title(\"FWI altas frecuencias\")\n",
    "display(fig)"
   ]
  },
  {
   "cell_type": "code",
   "execution_count": 36,
   "metadata": {},
   "outputs": [
    {
     "name": "stdout",
     "output_type": "stream",
     "text": [
      "El error cuadrático medio del modelo inicial es: 0.053027812\n",
      "El error cuadrático medio de FWI es: 0.052795872\n"
     ]
    }
   ],
   "source": [
    "mse = sum((v .- v0).^2) / length(v)\n",
    "println(\"El error cuadrático medio del modelo inicial es: \", mse)\n",
    "mse = sum((v .- fwi).^2) / length(v)\n",
    "println(\"El error cuadrático medio de FWI es: \", mse)"
   ]
  },
  {
   "cell_type": "code",
   "execution_count": 37,
   "metadata": {},
   "outputs": [
    {
     "name": "stdout",
     "output_type": "stream",
     "text": [
      "Porcentaje de error (v0): 4.485259\n",
      "Porcentaje de error (FWI): 4.4640307\n"
     ]
    }
   ],
   "source": [
    "error_porcentaje_v0 = 100 * sum(abs.(v - v0)) / sum(abs.(v))\n",
    "error_porcentaje_fwi = 100 * sum(abs.(v - fwi)) / sum(abs.(v))\n",
    "\n",
    "println(\"Porcentaje de error (v0): \", error_porcentaje_v0)\n",
    "println(\"Porcentaje de error (FWI): \", error_porcentaje_fwi)"
   ]
  },
  {
   "cell_type": "code",
   "execution_count": 38,
   "metadata": {},
   "outputs": [
    {
     "data": {
      "image/png": "[encoded data removed]",
      "text/plain": [
       "Figure(PyObject <Figure size 640x480 with 2 Axes>)"
      ]
     },
     "metadata": {},
     "output_type": "display_data"
    }
   ],
   "source": [
    "difs = v-fwi\n",
    "fig=figure() #figsize=(20, 5)\n",
    "im = imshow(difs, cmap=\"viridis\", extent=[0, (model.n[1]-1)*model.d[1], (model.n[2]-1)*model.d[2], 0], vmin=-0.5, vmax=0.5)\n",
    "cb = colorbar(im)\n",
    "cb[:set_label](label = \"Error\")\n",
    "xlabel(L\"Posición horizontal $[m]$\")\n",
    "ylabel(L\"Profundidad $[m]$\")\n",
    "title(\"Error relativa\")\n",
    "display(fig)"
   ]
  },
  {
   "cell_type": "code",
   "execution_count": 39,
   "metadata": {},
   "outputs": [
    {
     "data": {
      "image/png": "[encoded data removed]",
      "text/plain": [
       "Figure(PyObject <Figure size 1920x1440 with 1 Axes>)"
      ]
     },
     "metadata": {},
     "output_type": "display_data"
    }
   ],
   "source": [
    "fig=figure(dpi=300) #figsize=(20, 5)\n",
    "xax = 1:1:30\n",
    "plot(xax, fhistory_SGD)\n",
    "xlabel(\"Número de iteraciones\")\n",
    "ylabel(\"Valor de desajuste\")\n",
    "title(\"Convergencia\")\n",
    "display(fig)"
   ]
  },
  {
   "cell_type": "code",
   "execution_count": 40,
   "metadata": {},
   "outputs": [],
   "source": [
    "save(\"model_overthrust_fwi_result_high_f.jld\", \"n\", M[\"n\"], \"d\", M[\"d\"], \"o\", M[\"o\"], \"m\", M[\"m\"], \"m0\", model0.m.data, \"dm\", dm)"
   ]
  }
 ],
 "metadata": {
  "kernelspec": {
   "display_name": "Julia 1.9.0",
   "language": "julia",
   "name": "julia-1.9"
  },
  "language_info": {
   "file_extension": ".jl",
   "mimetype": "application/julia",
   "name": "julia",
   "version": "1.9.0"
  },
  "orig_nbformat": 4
 },
 "nbformat": 4,
 "nbformat_minor": 2
}
